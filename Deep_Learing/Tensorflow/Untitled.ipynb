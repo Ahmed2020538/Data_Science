{
 "cells": [
  {
   "cell_type": "code",
   "execution_count": 2,
   "metadata": {},
   "outputs": [],
   "source": [
    "import tensorflow as tf\n",
    "from tensorflow import keras\n",
    "from tensorflow.keras import layers\n",
    "from tensorflow.keras.datasets import mnist"
   ]
  },
  {
   "cell_type": "code",
   "execution_count": 5,
   "metadata": {},
   "outputs": [],
   "source": [
    "(x_train , y_train) , (x_test , y_test) = mnist.load_data()"
   ]
  },
  {
   "cell_type": "code",
   "execution_count": 9,
   "metadata": {},
   "outputs": [],
   "source": [
    "x_train = x_train.reshape(-1 , 28*28).astype(\"float32\")/255.0\n",
    "x_test  = x_test.reshape(-1 , 28*28).astype(\"float32\")/255.0"
   ]
  },
  {
   "cell_type": "code",
   "execution_count": 10,
   "metadata": {},
   "outputs": [
    {
     "name": "stdout",
     "output_type": "stream",
     "text": [
      "(60000, 784)\n",
      "(10000,)\n"
     ]
    }
   ],
   "source": [
    "print(x_train.shape)\n",
    "print(y_test.shape)"
   ]
  },
  {
   "cell_type": "code",
   "execution_count": 11,
   "metadata": {},
   "outputs": [
    {
     "name": "stdout",
     "output_type": "stream",
     "text": [
      "[[ 0  1  2  3  4]\n",
      " [ 5  6  7  8  9]\n",
      " [10 11 12 13 14]\n",
      " [15 16 17 18 19]\n",
      " [20 21 22 23 24]]\n",
      "[[1.00000000e+00 2.71828183e+00 7.38905610e+00 2.00855369e+01\n",
      "  5.45981500e+01]\n",
      " [1.48413159e+02 4.03428793e+02 1.09663316e+03 2.98095799e+03\n",
      "  8.10308393e+03]\n",
      " [2.20264658e+04 5.98741417e+04 1.62754791e+05 4.42413392e+05\n",
      "  1.20260428e+06]\n",
      " [3.26901737e+06 8.88611052e+06 2.41549528e+07 6.56599691e+07\n",
      "  1.78482301e+08]\n",
      " [4.85165195e+08 1.31881573e+09 3.58491285e+09 9.74480345e+09\n",
      "  2.64891221e+10]]\n"
     ]
    }
   ],
   "source": [
    "import  numpy as np\n",
    "m = np.arange(25).reshape(5,5)\n",
    "print(m)\n",
    "e = np.exp(m)\n",
    "print(e)"
   ]
  },
  {
   "cell_type": "code",
   "execution_count": null,
   "metadata": {},
   "outputs": [],
   "source": []
  }
 ],
 "metadata": {
  "kernelspec": {
   "display_name": "Python 3",
   "language": "python",
   "name": "python3"
  },
  "language_info": {
   "codemirror_mode": {
    "name": "ipython",
    "version": 3
   },
   "file_extension": ".py",
   "mimetype": "text/x-python",
   "name": "python",
   "nbconvert_exporter": "python",
   "pygments_lexer": "ipython3",
   "version": "3.7.4"
  }
 },
 "nbformat": 4,
 "nbformat_minor": 2
}
