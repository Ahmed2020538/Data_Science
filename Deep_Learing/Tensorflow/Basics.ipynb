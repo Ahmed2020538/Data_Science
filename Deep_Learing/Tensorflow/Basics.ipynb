{
 "cells": [
  {
   "cell_type": "code",
   "execution_count": 1,
   "metadata": {},
   "outputs": [],
   "source": [
    "import tensorflow as tf"
   ]
  },
  {
   "cell_type": "code",
   "execution_count": null,
   "metadata": {},
   "outputs": [],
   "source": [
    "tf."
   ]
  },
  {
   "cell_type": "markdown",
   "metadata": {},
   "source": [
    "* constant in tensorflow"
   ]
  },
  {
   "cell_type": "code",
   "execution_count": 3,
   "metadata": {},
   "outputs": [
    {
     "name": "stdout",
     "output_type": "stream",
     "text": [
      "The Constant ::\n",
      "5\n",
      "***************************\n",
      "The Constant ::\n",
      "5.0\n",
      "***************************\n",
      "The Constant ::\n",
      "[1 2 2]\n",
      "***************************\n",
      "The Constant ::\n",
      "[[1 2 3]\n",
      " [4 5 6]]\n",
      "***************************\n",
      "The Constant ::\n",
      "[[[1 2 3]\n",
      "  [4 5 6]\n",
      "  [7 8 9]]]\n",
      "***************************\n",
      "The Constant ::\n",
      "b'I love Tasorflow'\n",
      "***************************\n"
     ]
    }
   ],
   "source": [
    "# tf.constant(value , shape = (rows , cols) , dtype = tf.dtype )\n",
    "x1 = tf.constant(5)\n",
    "x2 = tf.constant(5 , tf.float64)\n",
    "x3 = tf.constant([1,2,2])\n",
    "x4 = tf.constant([[1,2,3] , [4,5,6]])\n",
    "x5 = tf.constant([[[1,2,3] , [4,5,6] , [7,8,9]]])\n",
    "x6 = tf.constant(\"I love Tasorflow\")\n",
    "\n",
    "L = [x1 , x2 , x3 , x4 , x5 , x6]\n",
    "for l in L :\n",
    "    print(f\"The Constant ::\\n{l}\\n***************************\")"
   ]
  },
  {
   "cell_type": "code",
   "execution_count": 12,
   "metadata": {},
   "outputs": [
    {
     "name": "stdout",
     "output_type": "stream",
     "text": [
      "The Constant ::\n",
      "[[1. 1. 1.]\n",
      " [1. 1. 1.]\n",
      " [1. 1. 1.]]\n",
      "***************************\n",
      "The Constant ::\n",
      "[[0. 0. 0.]\n",
      " [0. 0. 0.]\n",
      " [0. 0. 0.]]\n",
      "***************************\n",
      "The Constant ::\n",
      "[[1. 0. 0.]\n",
      " [0. 1. 0.]\n",
      " [0. 0. 1.]]\n",
      "***************************\n",
      "The Constant ::\n",
      "[[-1.030036   -0.03330532 -0.6307858 ]\n",
      " [-0.24579556  1.38935    -1.062898  ]\n",
      " [ 0.70307875 -0.09985785 -0.29867536]]\n",
      "***************************\n",
      "The Constant ::\n",
      "[[0.5841148  0.99820995 0.00468755]]\n",
      "***************************\n",
      "The Constant ::\n",
      "[ 0 10 20 30 40 50 60 70 80 90]\n",
      "***************************\n",
      "The Constant ::\n",
      "[ 0. 10. 20. 30. 40. 50. 60. 70. 80. 90.]\n",
      "***************************\n"
     ]
    }
   ],
   "source": [
    "O_M = tf.ones((3,3)) \n",
    "Z_M = tf.zeros((3,3))\n",
    "I_M = tf.eye(3)\n",
    "R_M = tf.random.normal((3,3) , mean=0 , stddev=1)\n",
    "U_M = tf.random.uniform((1 , 3) , maxval=1)\n",
    "G_M = tf.range(0 , 100 , 10)\n",
    "C_M = tf.cast(G_M , tf.float64)\n",
    "L = [O_M , Z_M , I_M , R_M , U_M , G_M , C_M]\n",
    "for l in L :\n",
    "    print(f\"The Constant ::\\n{l}\\n***************************\")"
   ]
  },
  {
   "cell_type": "markdown",
   "metadata": {},
   "source": [
    "* Mathimatical_operations"
   ]
  },
  {
   "cell_type": "code",
   "execution_count": 21,
   "metadata": {},
   "outputs": [
    {
     "name": "stdout",
     "output_type": "stream",
     "text": [
      "The result ::\n",
      " [[5 7 9]]\n",
      "**************************\n",
      "The result ::\n",
      " [[-3 -3 -3]]\n",
      "**************************\n",
      "The result ::\n",
      " [[0.25 0.4  0.5 ]]\n",
      "**************************\n",
      "The result ::\n",
      " [[ 4 10 18]]\n",
      "**************************\n",
      "The result ::\n",
      " [[11 10]\n",
      " [21 20]]\n",
      "**************************\n",
      "The result ::\n",
      " [ 4 10 18]\n",
      "**************************\n",
      "The result ::\n",
      " [[ 1  8 27]]\n",
      "**************************\n",
      "The result ::\n",
      " [[-0.19567782  0.25243938]\n",
      " [-0.56481826  1.5484542 ]]\n",
      "**************************\n"
     ]
    }
   ],
   "source": [
    "x = tf.constant([[1,2,3]])\n",
    "y = tf.constant([[4,5,6]])\n",
    "w = tf.constant([[1,2,3] , [3,4,5]])\n",
    "z = tf.constant([[1,2] ,[2,1],[2,2]])\n",
    "add  = tf.add(x,y)  # x+y\n",
    "sub  = tf.subtract(x,y)  # x-y\n",
    "div  = tf.divide(x,y)  # x/y\n",
    "mult = tf.multiply(x,y)  # x*y\n",
    "T_dot = tf.tensordot(w,z , axes=1)\n",
    "R_S   = tf.reduce_sum(x*y , axis=0) \n",
    "p_O = tf.pow(x , 3)  # x**3\n",
    "M1 = tf.random.normal((2,3))\n",
    "M2 = tf.random.normal((3,2))\n",
    "Matul = tf.matmul(M1 , M2)  # M1 @ M2\n",
    "O = [add , sub , div , mult , T_dot , R_S , p_O , Matul]\n",
    "for o in O :\n",
    "    print(f\"The result ::\\n {o}\\n**************************\")"
   ]
  },
  {
   "cell_type": "markdown",
   "metadata": {},
   "source": [
    "* Indexing"
   ]
  },
  {
   "cell_type": "code",
   "execution_count": 23,
   "metadata": {},
   "outputs": [
    {
     "name": "stdout",
     "output_type": "stream",
     "text": [
      "tf.Tensor([ 0 10 20 30 40 50 60 70 80 90], shape=(10,), dtype=int32)\n",
      "tf.Tensor([ 0 10 20], shape=(3,), dtype=int32)\n",
      "tf.Tensor([20 30 40 50 60 70 80 90], shape=(8,), dtype=int32)\n",
      "tf.Tensor([ 0 20 40 60 80], shape=(5,), dtype=int32)\n",
      "tf.Tensor([90 80 70 60 50 40 30 20 10  0], shape=(10,), dtype=int32)\n"
     ]
    }
   ],
   "source": [
    "M = tf.range(0 , 100 , 10)\n",
    "print(M[:])\n",
    "print(M[:3])\n",
    "print(M[2:])\n",
    "print(M[::2])\n",
    "print(M[::-1])"
   ]
  },
  {
   "cell_type": "code",
   "execution_count": 33,
   "metadata": {},
   "outputs": [
    {
     "name": "stdout",
     "output_type": "stream",
     "text": [
      "tf.Tensor([10 30], shape=(2,), dtype=int32) \n",
      " tf.Tensor([10 30], shape=(2,), dtype=int32)\n"
     ]
    }
   ],
   "source": [
    "indices = tf.constant([1,3])\n",
    "M_idx  = tf.gather(M , indices)\n",
    "M_idex = tf.gather(M , indices=[1 , 3])\n",
    "print(M_idx ,\"\\n\",M_idex)"
   ]
  },
  {
   "cell_type": "code",
   "execution_count": 34,
   "metadata": {},
   "outputs": [
    {
     "name": "stdout",
     "output_type": "stream",
     "text": [
      "tf.Tensor([3 6 9], shape=(3,), dtype=int32)\n",
      "tf.Tensor([6 9], shape=(2,), dtype=int32)\n"
     ]
    }
   ],
   "source": [
    "Mx = tf.constant([[1,2,3],\n",
    "                  [4,5,6],\n",
    "                  [7,8,9]])\n",
    "print(Mx[: , 2])\n",
    "print(Mx[1: , -1])"
   ]
  },
  {
   "cell_type": "markdown",
   "metadata": {},
   "source": [
    "* Reshapping"
   ]
  },
  {
   "cell_type": "code",
   "execution_count": 36,
   "metadata": {},
   "outputs": [
    {
     "name": "stdout",
     "output_type": "stream",
     "text": [
      "tf.Tensor([0 1 2 3 4 5 6 7 8], shape=(9,), dtype=int32)\n",
      "tf.Tensor(\n",
      "[[0 1 2]\n",
      " [3 4 5]\n",
      " [6 7 8]], shape=(3, 3), dtype=int32)\n"
     ]
    }
   ],
   "source": [
    "M = tf.range(9)\n",
    "print(M)\n",
    "M = tf.reshape(M , (3,3))\n",
    "print(M)"
   ]
  },
  {
   "cell_type": "markdown",
   "metadata": {},
   "source": [
    "* Transpose"
   ]
  },
  {
   "cell_type": "code",
   "execution_count": 39,
   "metadata": {},
   "outputs": [
    {
     "name": "stdout",
     "output_type": "stream",
     "text": [
      "tf.Tensor(\n",
      "[[0 3 6]\n",
      " [1 4 7]\n",
      " [2 5 8]], shape=(3, 3), dtype=int32)\n"
     ]
    }
   ],
   "source": [
    "M = tf.transpose(M , perm=[1,0])\n",
    "print(M)"
   ]
  },
  {
   "cell_type": "code",
   "execution_count": null,
   "metadata": {},
   "outputs": [],
   "source": []
  }
 ],
 "metadata": {
  "kernelspec": {
   "display_name": "Python 3",
   "language": "python",
   "name": "python3"
  },
  "language_info": {
   "codemirror_mode": {
    "name": "ipython",
    "version": 3
   },
   "file_extension": ".py",
   "mimetype": "text/x-python",
   "name": "python",
   "nbconvert_exporter": "python",
   "pygments_lexer": "ipython3",
   "version": "3.7.4"
  }
 },
 "nbformat": 4,
 "nbformat_minor": 2
}
