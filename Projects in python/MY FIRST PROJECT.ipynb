{
 "cells": [
  {
   "cell_type": "code",
   "execution_count": 10,
   "metadata": {},
   "outputs": [
    {
     "name": "stdout",
     "output_type": "stream",
     "text": [
      "[1, 20, 2.1, 'Ahmed', True, False]\n",
      "<class 'list'>\n",
      "6\n",
      "1\n",
      "[1, 20]\n",
      "[1, 20, 2.1, 'Ahmed']\n",
      "[1, 20, 2.1, 'Ahmed', True]\n"
     ]
    }
   ],
   "source": [
    "L=[1,20,2.1,\"Ahmed\",True,False]\n",
    "print(L)\n",
    "   \n",
    "print(type(L))\n",
    "print(len(L))\n",
    "print(L[0])\n",
    "print(L[0:2])\n",
    "print(L[:4])\n",
    "print(L[:5])"
   ]
  },
  {
   "cell_type": "code",
   "execution_count": 12,
   "metadata": {},
   "outputs": [
    {
     "data": {
      "text/plain": [
       "[50, 40, 30, 100, 55]"
      ]
     },
     "execution_count": 12,
     "metadata": {},
     "output_type": "execute_result"
    }
   ],
   "source": [
    "x=[30,\"ahmed\"]\n",
    "d=[50,40,30,100,55]\n",
    "x\n",
    "d\n",
    "d[:]"
   ]
  },
  {
   "cell_type": "code",
   "execution_count": 13,
   "metadata": {},
   "outputs": [
    {
     "data": {
      "text/plain": [
       "[30, 'ahmed', False]"
      ]
     },
     "execution_count": 13,
     "metadata": {},
     "output_type": "execute_result"
    }
   ],
   "source": [
    "x.append(False)\n",
    "x"
   ]
  },
  {
   "cell_type": "code",
   "execution_count": 14,
   "metadata": {},
   "outputs": [
    {
     "data": {
      "text/plain": [
       "[30, 'ahmed', False, 'mido']"
      ]
     },
     "execution_count": 14,
     "metadata": {},
     "output_type": "execute_result"
    }
   ],
   "source": [
    "x.insert(5,\"mido\")\n",
    "x"
   ]
  },
  {
   "cell_type": "code",
   "execution_count": 15,
   "metadata": {},
   "outputs": [
    {
     "data": {
      "text/plain": [
       "[30, 'ahmed', 10000, False, 'mido']"
      ]
     },
     "execution_count": 15,
     "metadata": {},
     "output_type": "execute_result"
    }
   ],
   "source": [
    "x.insert(2,10000)\n",
    "x"
   ]
  },
  {
   "cell_type": "code",
   "execution_count": 16,
   "metadata": {},
   "outputs": [
    {
     "data": {
      "text/plain": [
       "[30, 'ahmed', 10000, True, 'mido']"
      ]
     },
     "execution_count": 16,
     "metadata": {},
     "output_type": "execute_result"
    }
   ],
   "source": [
    "x[3]=True\n",
    "x"
   ]
  },
  {
   "cell_type": "code",
   "execution_count": 20,
   "metadata": {},
   "outputs": [
    {
     "data": {
      "text/plain": [
       "[30, 'ahmed', 10000, True, 'mido']"
      ]
     },
     "execution_count": 20,
     "metadata": {},
     "output_type": "execute_result"
    }
   ],
   "source": [
    "d=x\n",
    "d\n",
    "\n",
    "\n"
   ]
  },
  {
   "cell_type": "code",
   "execution_count": 23,
   "metadata": {},
   "outputs": [
    {
     "data": {
      "text/plain": [
       "[30, 10000, True]"
      ]
     },
     "execution_count": 23,
     "metadata": {},
     "output_type": "execute_result"
    }
   ],
   "source": [
    "x.pop()\n",
    "x"
   ]
  },
  {
   "cell_type": "code",
   "execution_count": 24,
   "metadata": {},
   "outputs": [
    {
     "data": {
      "text/plain": [
       "[True, 10000, 30]"
      ]
     },
     "execution_count": 24,
     "metadata": {},
     "output_type": "execute_result"
    }
   ],
   "source": [
    "x.reverse()\n",
    "x"
   ]
  },
  {
   "cell_type": "code",
   "execution_count": 26,
   "metadata": {},
   "outputs": [
    {
     "data": {
      "text/plain": [
       "[50, 20, 12, 10]"
      ]
     },
     "execution_count": 26,
     "metadata": {},
     "output_type": "execute_result"
    }
   ],
   "source": [
    "z=[20,50,10,12]\n",
    "z.sort(reverse=True)\n",
    "z"
   ]
  },
  {
   "cell_type": "code",
   "execution_count": 38,
   "metadata": {},
   "outputs": [
    {
     "name": "stdout",
     "output_type": "stream",
     "text": [
      "Hel\n",
      "Hellow w\n",
      "['Hellow', 'world', 'ahmed']\n",
      "Hellow world ahmed\n",
      "Hellow;world;ahmed\n",
      "Hellow World Ahmed\n",
      "HELLOW WORLD AHMED\n",
      "hellow world ahmed\n",
      "4\n",
      "3\n",
      "hello5 ahmed10 mido20\n"
     ]
    }
   ],
   "source": [
    "x=\"Hellow world ahmed\"\n",
    "len(x)\n",
    "print(x[:3])\n",
    "print(x[:8])\n",
    "print(x.split(\" \"))\n",
    "print(\"\".join(x))\n",
    "print(x.replace(\" \",\";\"))\n",
    "print(x.title())\n",
    "print(x.upper())\n",
    "print(x.lower())\n",
    "print(x.index(\"o\"))\n",
    "print(x.count(\"l\"))\n",
    "y=\"hello{} ahmed{} mido{}\".format(5,10,20)\n",
    "print(y)\n",
    "print()"
   ]
  },
  {
   "cell_type": "code",
   "execution_count": 60,
   "metadata": {},
   "outputs": [
    {
     "name": "stdout",
     "output_type": "stream",
     "text": [
      "{'k1': [10, 20, 30], 'k2': 'mido', 'k3': 10}\n",
      "[10, 20, 30]\n",
      "dict_keys(['k1', 'k2', 'k3'])\n",
      "dict_values([[10, 20, 30], 'mido', 10])\n",
      "{'k1': [10, 20, 30], 'k2': 'mido', 'k3': 10, 'k4': 'cairo'}\n"
     ]
    }
   ],
   "source": [
    "d={'k1':[10,20,30],'k2':\"mido\",'k3':10}\n",
    "print(d)\n",
    "print(d[\"k1\"])\n",
    "print(d.keys())\n",
    "print(d.values())\n",
    "d[\"k4\"]=\"cairo\"\n",
    "print(d)\n",
    "\n",
    "\n"
   ]
  },
  {
   "cell_type": "code",
   "execution_count": 53,
   "metadata": {},
   "outputs": [
    {
     "name": "stdout",
     "output_type": "stream",
     "text": [
      "{10, 45, 50, 12}\n",
      "4\n",
      "<class 'set'>\n"
     ]
    }
   ],
   "source": [
    "s={10,50,12,45,10,12}\n",
    "print(s)\n",
    "print(len(s))\n",
    "print(type(s))"
   ]
  },
  {
   "cell_type": "code",
   "execution_count": 54,
   "metadata": {},
   "outputs": [
    {
     "name": "stdout",
     "output_type": "stream",
     "text": [
      "(10, 80, 12.3, 'ali')\n",
      "<class 'tuple'>\n"
     ]
    }
   ],
   "source": [
    "t=(10,80,12.3,\"ali\")\n",
    "print(t)\n",
    "print(type(t))"
   ]
  },
  {
   "cell_type": "code",
   "execution_count": null,
   "metadata": {},
   "outputs": [],
   "source": [
    "x=int(input(\"Enter the num1:\"))\n",
    "y=int(input(\"Enter the num1:\"))\n",
    "z=x*y\n"
   ]
  },
  {
   "cell_type": "code",
   "execution_count": null,
   "metadata": {},
   "outputs": [],
   "source": [
    "x=int(input(\"Enter the num1:\"))\n",
    "y=int(input(\"Enter the num1:\"))\n",
    "z=x+y\n",
    "print(z)"
   ]
  },
  {
   "cell_type": "code",
   "execution_count": null,
   "metadata": {},
   "outputs": [],
   "source": [
    "x=5\n",
    "y=10\n",
    "if x>y:\n",
    "    print(\"x is bigger\")\n",
    "elif x<y :\n",
    "    print(\"y is bigger\")\n",
    "elif x==y:\n",
    "    print(\"x=y\")\n",
    "else:\n",
    "    print(!)"
   ]
  },
  {
   "cell_type": "code",
   "execution_count": null,
   "metadata": {},
   "outputs": [],
   "source": []
  }
 ],
 "metadata": {
  "kernelspec": {
   "display_name": "Python 3",
   "language": "python",
   "name": "python3"
  },
  "language_info": {
   "codemirror_mode": {
    "name": "ipython",
    "version": 3
   },
   "file_extension": ".py",
   "mimetype": "text/x-python",
   "name": "python",
   "nbconvert_exporter": "python",
   "pygments_lexer": "ipython3",
   "version": "3.7.4"
  }
 },
 "nbformat": 4,
 "nbformat_minor": 2
}
