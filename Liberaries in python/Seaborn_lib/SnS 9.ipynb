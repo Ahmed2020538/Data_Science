{
 "cells": [
  {
   "cell_type": "code",
   "execution_count": 1,
   "metadata": {},
   "outputs": [
    {
     "data": {
      "text/html": [
       "<div>\n",
       "<style scoped>\n",
       "    .dataframe tbody tr th:only-of-type {\n",
       "        vertical-align: middle;\n",
       "    }\n",
       "\n",
       "    .dataframe tbody tr th {\n",
       "        vertical-align: top;\n",
       "    }\n",
       "\n",
       "    .dataframe thead th {\n",
       "        text-align: right;\n",
       "    }\n",
       "</style>\n",
       "<table border=\"1\" class=\"dataframe\">\n",
       "  <thead>\n",
       "    <tr style=\"text-align: right;\">\n",
       "      <th></th>\n",
       "      <th>Row ID</th>\n",
       "      <th>Order ID</th>\n",
       "      <th>Order Date</th>\n",
       "      <th>Order Priority</th>\n",
       "      <th>Order Quantity</th>\n",
       "      <th>Sales</th>\n",
       "      <th>Discount</th>\n",
       "      <th>Ship Mode</th>\n",
       "      <th>Profit</th>\n",
       "      <th>Unit Price</th>\n",
       "      <th>...</th>\n",
       "      <th>Customer Name</th>\n",
       "      <th>Province</th>\n",
       "      <th>Region</th>\n",
       "      <th>Customer Segment</th>\n",
       "      <th>Product Category</th>\n",
       "      <th>Product Sub-Category</th>\n",
       "      <th>Product Name</th>\n",
       "      <th>Product Container</th>\n",
       "      <th>Product Base Margin</th>\n",
       "      <th>Ship Date</th>\n",
       "    </tr>\n",
       "  </thead>\n",
       "  <tbody>\n",
       "    <tr>\n",
       "      <td>0</td>\n",
       "      <td>1</td>\n",
       "      <td>3</td>\n",
       "      <td>2010-10-13</td>\n",
       "      <td>Low</td>\n",
       "      <td>6</td>\n",
       "      <td>261.5400</td>\n",
       "      <td>0.04</td>\n",
       "      <td>Regular Air</td>\n",
       "      <td>-213.2500</td>\n",
       "      <td>38.94</td>\n",
       "      <td>...</td>\n",
       "      <td>Muhammed MacIntyre</td>\n",
       "      <td>Nunavut</td>\n",
       "      <td>Nunavut</td>\n",
       "      <td>Small Business</td>\n",
       "      <td>Office Supplies</td>\n",
       "      <td>Storage &amp; Organization</td>\n",
       "      <td>Eldon Base for stackable storage shelf, platinum</td>\n",
       "      <td>Large Box</td>\n",
       "      <td>0.80</td>\n",
       "      <td>2010-10-20</td>\n",
       "    </tr>\n",
       "    <tr>\n",
       "      <td>1</td>\n",
       "      <td>2</td>\n",
       "      <td>6</td>\n",
       "      <td>2012-02-20</td>\n",
       "      <td>Not Specified</td>\n",
       "      <td>2</td>\n",
       "      <td>6.9300</td>\n",
       "      <td>0.01</td>\n",
       "      <td>Regular Air</td>\n",
       "      <td>-4.6400</td>\n",
       "      <td>2.08</td>\n",
       "      <td>...</td>\n",
       "      <td>Ruben Dartt</td>\n",
       "      <td>Alberta</td>\n",
       "      <td>West</td>\n",
       "      <td>Corporate</td>\n",
       "      <td>Office Supplies</td>\n",
       "      <td>Scissors, Rulers and Trimmers</td>\n",
       "      <td>Kleencut® Forged Office Shears by Acme United ...</td>\n",
       "      <td>Small Pack</td>\n",
       "      <td>0.55</td>\n",
       "      <td>2012-02-21</td>\n",
       "    </tr>\n",
       "    <tr>\n",
       "      <td>2</td>\n",
       "      <td>3</td>\n",
       "      <td>32</td>\n",
       "      <td>2011-07-15</td>\n",
       "      <td>High</td>\n",
       "      <td>26</td>\n",
       "      <td>2808.0800</td>\n",
       "      <td>0.07</td>\n",
       "      <td>Regular Air</td>\n",
       "      <td>1054.8200</td>\n",
       "      <td>107.53</td>\n",
       "      <td>...</td>\n",
       "      <td>Liz Pelletier</td>\n",
       "      <td>Alberta</td>\n",
       "      <td>West</td>\n",
       "      <td>Corporate</td>\n",
       "      <td>Furniture</td>\n",
       "      <td>Office Furnishings</td>\n",
       "      <td>Tenex Contemporary Contur Chairmats for Low an...</td>\n",
       "      <td>Medium Box</td>\n",
       "      <td>0.65</td>\n",
       "      <td>2011-07-17</td>\n",
       "    </tr>\n",
       "    <tr>\n",
       "      <td>3</td>\n",
       "      <td>4</td>\n",
       "      <td>32</td>\n",
       "      <td>2011-07-15</td>\n",
       "      <td>High</td>\n",
       "      <td>24</td>\n",
       "      <td>1761.4000</td>\n",
       "      <td>0.09</td>\n",
       "      <td>Delivery Truck</td>\n",
       "      <td>-1748.5600</td>\n",
       "      <td>70.89</td>\n",
       "      <td>...</td>\n",
       "      <td>Liz Pelletier</td>\n",
       "      <td>Alberta</td>\n",
       "      <td>West</td>\n",
       "      <td>Corporate</td>\n",
       "      <td>Furniture</td>\n",
       "      <td>Tables</td>\n",
       "      <td>KI Conference Tables</td>\n",
       "      <td>Jumbo Box</td>\n",
       "      <td>0.72</td>\n",
       "      <td>2011-07-16</td>\n",
       "    </tr>\n",
       "    <tr>\n",
       "      <td>4</td>\n",
       "      <td>5</td>\n",
       "      <td>32</td>\n",
       "      <td>2011-07-15</td>\n",
       "      <td>High</td>\n",
       "      <td>23</td>\n",
       "      <td>160.2335</td>\n",
       "      <td>0.04</td>\n",
       "      <td>Regular Air</td>\n",
       "      <td>-85.1290</td>\n",
       "      <td>7.99</td>\n",
       "      <td>...</td>\n",
       "      <td>Liz Pelletier</td>\n",
       "      <td>Alberta</td>\n",
       "      <td>West</td>\n",
       "      <td>Corporate</td>\n",
       "      <td>Technology</td>\n",
       "      <td>Telephones and Communication</td>\n",
       "      <td>Bell Sonecor JB700 Caller ID</td>\n",
       "      <td>Medium Box</td>\n",
       "      <td>0.60</td>\n",
       "      <td>2011-07-17</td>\n",
       "    </tr>\n",
       "    <tr>\n",
       "      <td>...</td>\n",
       "      <td>...</td>\n",
       "      <td>...</td>\n",
       "      <td>...</td>\n",
       "      <td>...</td>\n",
       "      <td>...</td>\n",
       "      <td>...</td>\n",
       "      <td>...</td>\n",
       "      <td>...</td>\n",
       "      <td>...</td>\n",
       "      <td>...</td>\n",
       "      <td>...</td>\n",
       "      <td>...</td>\n",
       "      <td>...</td>\n",
       "      <td>...</td>\n",
       "      <td>...</td>\n",
       "      <td>...</td>\n",
       "      <td>...</td>\n",
       "      <td>...</td>\n",
       "      <td>...</td>\n",
       "      <td>...</td>\n",
       "      <td>...</td>\n",
       "    </tr>\n",
       "    <tr>\n",
       "      <td>8385</td>\n",
       "      <td>8386</td>\n",
       "      <td>59909</td>\n",
       "      <td>2012-08-05</td>\n",
       "      <td>Low</td>\n",
       "      <td>11</td>\n",
       "      <td>1255.4800</td>\n",
       "      <td>0.06</td>\n",
       "      <td>Delivery Truck</td>\n",
       "      <td>-292.6506</td>\n",
       "      <td>115.99</td>\n",
       "      <td>...</td>\n",
       "      <td>Christina Vanderzanden</td>\n",
       "      <td>Ontario</td>\n",
       "      <td>Ontario</td>\n",
       "      <td>Small Business</td>\n",
       "      <td>Technology</td>\n",
       "      <td>Office Machines</td>\n",
       "      <td>Hewlett-Packard Deskjet 5550 Color Inkjet Printer</td>\n",
       "      <td>Jumbo Drum</td>\n",
       "      <td>0.40</td>\n",
       "      <td>2012-08-07</td>\n",
       "    </tr>\n",
       "    <tr>\n",
       "      <td>8386</td>\n",
       "      <td>8387</td>\n",
       "      <td>59909</td>\n",
       "      <td>2012-08-05</td>\n",
       "      <td>Low</td>\n",
       "      <td>46</td>\n",
       "      <td>411.5600</td>\n",
       "      <td>0.09</td>\n",
       "      <td>Express Air</td>\n",
       "      <td>-188.0200</td>\n",
       "      <td>9.38</td>\n",
       "      <td>...</td>\n",
       "      <td>Christina Vanderzanden</td>\n",
       "      <td>Ontario</td>\n",
       "      <td>Ontario</td>\n",
       "      <td>Small Business</td>\n",
       "      <td>Office Supplies</td>\n",
       "      <td>Storage &amp; Organization</td>\n",
       "      <td>Staples File Caddy</td>\n",
       "      <td>Small Box</td>\n",
       "      <td>0.57</td>\n",
       "      <td>2012-08-12</td>\n",
       "    </tr>\n",
       "    <tr>\n",
       "      <td>8387</td>\n",
       "      <td>8388</td>\n",
       "      <td>59911</td>\n",
       "      <td>2011-12-18</td>\n",
       "      <td>Not Specified</td>\n",
       "      <td>1</td>\n",
       "      <td>10.5900</td>\n",
       "      <td>0.10</td>\n",
       "      <td>Regular Air</td>\n",
       "      <td>-4.3100</td>\n",
       "      <td>9.11</td>\n",
       "      <td>...</td>\n",
       "      <td>Arianne Irving</td>\n",
       "      <td>Saskachewan</td>\n",
       "      <td>Prarie</td>\n",
       "      <td>Corporate</td>\n",
       "      <td>Office Supplies</td>\n",
       "      <td>Paper</td>\n",
       "      <td>Black Print Carbonless Snap-Off® Rapid Letter,...</td>\n",
       "      <td>Wrap Bag</td>\n",
       "      <td>0.40</td>\n",
       "      <td>2011-12-19</td>\n",
       "    </tr>\n",
       "    <tr>\n",
       "      <td>8388</td>\n",
       "      <td>8389</td>\n",
       "      <td>59937</td>\n",
       "      <td>2009-12-28</td>\n",
       "      <td>High</td>\n",
       "      <td>7</td>\n",
       "      <td>235.9800</td>\n",
       "      <td>0.02</td>\n",
       "      <td>Regular Air</td>\n",
       "      <td>-32.2800</td>\n",
       "      <td>30.98</td>\n",
       "      <td>...</td>\n",
       "      <td>John Stevenson</td>\n",
       "      <td>Quebec</td>\n",
       "      <td>Quebec</td>\n",
       "      <td>Small Business</td>\n",
       "      <td>Office Supplies</td>\n",
       "      <td>Paper</td>\n",
       "      <td>Xerox 197</td>\n",
       "      <td>Small Box</td>\n",
       "      <td>0.40</td>\n",
       "      <td>2009-12-29</td>\n",
       "    </tr>\n",
       "    <tr>\n",
       "      <td>8389</td>\n",
       "      <td>8390</td>\n",
       "      <td>59939</td>\n",
       "      <td>2010-09-01</td>\n",
       "      <td>Medium</td>\n",
       "      <td>42</td>\n",
       "      <td>130.9600</td>\n",
       "      <td>0.05</td>\n",
       "      <td>Regular Air</td>\n",
       "      <td>-66.7400</td>\n",
       "      <td>3.14</td>\n",
       "      <td>...</td>\n",
       "      <td>Nicole Fjeld</td>\n",
       "      <td>Saskachewan</td>\n",
       "      <td>Prarie</td>\n",
       "      <td>Small Business</td>\n",
       "      <td>Office Supplies</td>\n",
       "      <td>Scissors, Rulers and Trimmers</td>\n",
       "      <td>Serrated Blade or Curved Handle Hand Letter Op...</td>\n",
       "      <td>Wrap Bag</td>\n",
       "      <td>0.84</td>\n",
       "      <td>2010-09-01</td>\n",
       "    </tr>\n",
       "  </tbody>\n",
       "</table>\n",
       "<p>8390 rows × 21 columns</p>\n",
       "</div>"
      ],
      "text/plain": [
       "      Row ID  Order ID Order Date Order Priority  Order Quantity      Sales  \\\n",
       "0          1         3 2010-10-13            Low               6   261.5400   \n",
       "1          2         6 2012-02-20  Not Specified               2     6.9300   \n",
       "2          3        32 2011-07-15           High              26  2808.0800   \n",
       "3          4        32 2011-07-15           High              24  1761.4000   \n",
       "4          5        32 2011-07-15           High              23   160.2335   \n",
       "...      ...       ...        ...            ...             ...        ...   \n",
       "8385    8386     59909 2012-08-05            Low              11  1255.4800   \n",
       "8386    8387     59909 2012-08-05            Low              46   411.5600   \n",
       "8387    8388     59911 2011-12-18  Not Specified               1    10.5900   \n",
       "8388    8389     59937 2009-12-28           High               7   235.9800   \n",
       "8389    8390     59939 2010-09-01         Medium              42   130.9600   \n",
       "\n",
       "      Discount       Ship Mode     Profit  Unit Price  ...  \\\n",
       "0         0.04     Regular Air  -213.2500       38.94  ...   \n",
       "1         0.01     Regular Air    -4.6400        2.08  ...   \n",
       "2         0.07     Regular Air  1054.8200      107.53  ...   \n",
       "3         0.09  Delivery Truck -1748.5600       70.89  ...   \n",
       "4         0.04     Regular Air   -85.1290        7.99  ...   \n",
       "...        ...             ...        ...         ...  ...   \n",
       "8385      0.06  Delivery Truck  -292.6506      115.99  ...   \n",
       "8386      0.09     Express Air  -188.0200        9.38  ...   \n",
       "8387      0.10     Regular Air    -4.3100        9.11  ...   \n",
       "8388      0.02     Regular Air   -32.2800       30.98  ...   \n",
       "8389      0.05     Regular Air   -66.7400        3.14  ...   \n",
       "\n",
       "               Customer Name     Province   Region Customer Segment  \\\n",
       "0         Muhammed MacIntyre      Nunavut  Nunavut   Small Business   \n",
       "1                Ruben Dartt      Alberta     West        Corporate   \n",
       "2              Liz Pelletier      Alberta     West        Corporate   \n",
       "3              Liz Pelletier      Alberta     West        Corporate   \n",
       "4              Liz Pelletier      Alberta     West        Corporate   \n",
       "...                      ...          ...      ...              ...   \n",
       "8385  Christina Vanderzanden      Ontario  Ontario   Small Business   \n",
       "8386  Christina Vanderzanden      Ontario  Ontario   Small Business   \n",
       "8387          Arianne Irving  Saskachewan   Prarie        Corporate   \n",
       "8388          John Stevenson       Quebec   Quebec   Small Business   \n",
       "8389            Nicole Fjeld  Saskachewan   Prarie   Small Business   \n",
       "\n",
       "     Product Category           Product Sub-Category  \\\n",
       "0     Office Supplies         Storage & Organization   \n",
       "1     Office Supplies  Scissors, Rulers and Trimmers   \n",
       "2           Furniture             Office Furnishings   \n",
       "3           Furniture                         Tables   \n",
       "4          Technology   Telephones and Communication   \n",
       "...               ...                            ...   \n",
       "8385       Technology                Office Machines   \n",
       "8386  Office Supplies         Storage & Organization   \n",
       "8387  Office Supplies                          Paper   \n",
       "8388  Office Supplies                          Paper   \n",
       "8389  Office Supplies  Scissors, Rulers and Trimmers   \n",
       "\n",
       "                                           Product Name Product Container  \\\n",
       "0      Eldon Base for stackable storage shelf, platinum         Large Box   \n",
       "1     Kleencut® Forged Office Shears by Acme United ...        Small Pack   \n",
       "2     Tenex Contemporary Contur Chairmats for Low an...        Medium Box   \n",
       "3                                  KI Conference Tables         Jumbo Box   \n",
       "4                          Bell Sonecor JB700 Caller ID        Medium Box   \n",
       "...                                                 ...               ...   \n",
       "8385  Hewlett-Packard Deskjet 5550 Color Inkjet Printer        Jumbo Drum   \n",
       "8386                                 Staples File Caddy         Small Box   \n",
       "8387  Black Print Carbonless Snap-Off® Rapid Letter,...          Wrap Bag   \n",
       "8388                                          Xerox 197         Small Box   \n",
       "8389  Serrated Blade or Curved Handle Hand Letter Op...          Wrap Bag   \n",
       "\n",
       "     Product Base Margin  Ship Date  \n",
       "0                   0.80 2010-10-20  \n",
       "1                   0.55 2012-02-21  \n",
       "2                   0.65 2011-07-17  \n",
       "3                   0.72 2011-07-16  \n",
       "4                   0.60 2011-07-17  \n",
       "...                  ...        ...  \n",
       "8385                0.40 2012-08-07  \n",
       "8386                0.57 2012-08-12  \n",
       "8387                0.40 2011-12-19  \n",
       "8388                0.40 2009-12-29  \n",
       "8389                0.84 2010-09-01  \n",
       "\n",
       "[8390 rows x 21 columns]"
      ]
     },
     "execution_count": 1,
     "metadata": {},
     "output_type": "execute_result"
    }
   ],
   "source": [
    "import pandas as pd\n",
    "\n",
    "import numpy as np\n",
    "\n",
    "import seaborn as sns\n",
    "\n",
    "data = pd.read_excel(\"F:\\\\patition E\\\\Data Rows\\\\sales1.xls\")\n",
    "\n",
    "data"
   ]
  },
  {
   "cell_type": "code",
   "execution_count": 2,
   "metadata": {},
   "outputs": [
    {
     "data": {
      "text/html": [
       "<div>\n",
       "<style scoped>\n",
       "    .dataframe tbody tr th:only-of-type {\n",
       "        vertical-align: middle;\n",
       "    }\n",
       "\n",
       "    .dataframe tbody tr th {\n",
       "        vertical-align: top;\n",
       "    }\n",
       "\n",
       "    .dataframe thead th {\n",
       "        text-align: right;\n",
       "    }\n",
       "</style>\n",
       "<table border=\"1\" class=\"dataframe\">\n",
       "  <thead>\n",
       "    <tr style=\"text-align: right;\">\n",
       "      <th></th>\n",
       "      <th>Row ID</th>\n",
       "      <th>Order ID</th>\n",
       "      <th>Order Quantity</th>\n",
       "      <th>Sales</th>\n",
       "      <th>Discount</th>\n",
       "      <th>Profit</th>\n",
       "      <th>Unit Price</th>\n",
       "      <th>Shipping Cost</th>\n",
       "      <th>Product Base Margin</th>\n",
       "    </tr>\n",
       "  </thead>\n",
       "  <tbody>\n",
       "    <tr>\n",
       "      <td>count</td>\n",
       "      <td>8390.000000</td>\n",
       "      <td>8390.000000</td>\n",
       "      <td>8390.000000</td>\n",
       "      <td>8390.000000</td>\n",
       "      <td>8390.000000</td>\n",
       "      <td>8390.000000</td>\n",
       "      <td>8390.000000</td>\n",
       "      <td>8390.000000</td>\n",
       "      <td>8327.000000</td>\n",
       "    </tr>\n",
       "    <tr>\n",
       "      <td>mean</td>\n",
       "      <td>4195.500000</td>\n",
       "      <td>29932.999166</td>\n",
       "      <td>25.564601</td>\n",
       "      <td>1775.466315</td>\n",
       "      <td>0.049677</td>\n",
       "      <td>181.060342</td>\n",
       "      <td>89.354539</td>\n",
       "      <td>12.841080</td>\n",
       "      <td>0.512504</td>\n",
       "    </tr>\n",
       "    <tr>\n",
       "      <td>std</td>\n",
       "      <td>2422.128713</td>\n",
       "      <td>17242.133927</td>\n",
       "      <td>14.481768</td>\n",
       "      <td>3585.180194</td>\n",
       "      <td>0.031817</td>\n",
       "      <td>1197.067399</td>\n",
       "      <td>290.479112</td>\n",
       "      <td>17.271407</td>\n",
       "      <td>0.135600</td>\n",
       "    </tr>\n",
       "    <tr>\n",
       "      <td>min</td>\n",
       "      <td>1.000000</td>\n",
       "      <td>3.000000</td>\n",
       "      <td>1.000000</td>\n",
       "      <td>2.240000</td>\n",
       "      <td>0.000000</td>\n",
       "      <td>-14140.701600</td>\n",
       "      <td>0.990000</td>\n",
       "      <td>0.490000</td>\n",
       "      <td>0.350000</td>\n",
       "    </tr>\n",
       "    <tr>\n",
       "      <td>25%</td>\n",
       "      <td>2098.250000</td>\n",
       "      <td>14989.500000</td>\n",
       "      <td>13.000000</td>\n",
       "      <td>142.962500</td>\n",
       "      <td>0.020000</td>\n",
       "      <td>-83.295000</td>\n",
       "      <td>6.480000</td>\n",
       "      <td>3.300000</td>\n",
       "      <td>0.380000</td>\n",
       "    </tr>\n",
       "    <tr>\n",
       "      <td>50%</td>\n",
       "      <td>4195.500000</td>\n",
       "      <td>29811.500000</td>\n",
       "      <td>26.000000</td>\n",
       "      <td>449.295000</td>\n",
       "      <td>0.050000</td>\n",
       "      <td>-1.515000</td>\n",
       "      <td>20.990000</td>\n",
       "      <td>6.070000</td>\n",
       "      <td>0.520000</td>\n",
       "    </tr>\n",
       "    <tr>\n",
       "      <td>75%</td>\n",
       "      <td>6292.750000</td>\n",
       "      <td>44539.250000</td>\n",
       "      <td>38.000000</td>\n",
       "      <td>1709.985000</td>\n",
       "      <td>0.080000</td>\n",
       "      <td>162.544500</td>\n",
       "      <td>85.990000</td>\n",
       "      <td>13.990000</td>\n",
       "      <td>0.590000</td>\n",
       "    </tr>\n",
       "    <tr>\n",
       "      <td>max</td>\n",
       "      <td>8390.000000</td>\n",
       "      <td>59939.000000</td>\n",
       "      <td>50.000000</td>\n",
       "      <td>89061.050000</td>\n",
       "      <td>0.250000</td>\n",
       "      <td>27220.690000</td>\n",
       "      <td>6783.020000</td>\n",
       "      <td>164.730000</td>\n",
       "      <td>0.850000</td>\n",
       "    </tr>\n",
       "  </tbody>\n",
       "</table>\n",
       "</div>"
      ],
      "text/plain": [
       "            Row ID      Order ID  Order Quantity         Sales     Discount  \\\n",
       "count  8390.000000   8390.000000     8390.000000   8390.000000  8390.000000   \n",
       "mean   4195.500000  29932.999166       25.564601   1775.466315     0.049677   \n",
       "std    2422.128713  17242.133927       14.481768   3585.180194     0.031817   \n",
       "min       1.000000      3.000000        1.000000      2.240000     0.000000   \n",
       "25%    2098.250000  14989.500000       13.000000    142.962500     0.020000   \n",
       "50%    4195.500000  29811.500000       26.000000    449.295000     0.050000   \n",
       "75%    6292.750000  44539.250000       38.000000   1709.985000     0.080000   \n",
       "max    8390.000000  59939.000000       50.000000  89061.050000     0.250000   \n",
       "\n",
       "             Profit   Unit Price  Shipping Cost  Product Base Margin  \n",
       "count   8390.000000  8390.000000    8390.000000          8327.000000  \n",
       "mean     181.060342    89.354539      12.841080             0.512504  \n",
       "std     1197.067399   290.479112      17.271407             0.135600  \n",
       "min   -14140.701600     0.990000       0.490000             0.350000  \n",
       "25%      -83.295000     6.480000       3.300000             0.380000  \n",
       "50%       -1.515000    20.990000       6.070000             0.520000  \n",
       "75%      162.544500    85.990000      13.990000             0.590000  \n",
       "max    27220.690000  6783.020000     164.730000             0.850000  "
      ]
     },
     "execution_count": 2,
     "metadata": {},
     "output_type": "execute_result"
    }
   ],
   "source": [
    "data.describe()"
   ]
  },
  {
   "cell_type": "markdown",
   "metadata": {},
   "source": [
    "# Using distplot func"
   ]
  },
  {
   "cell_type": "code",
   "execution_count": 5,
   "metadata": {},
   "outputs": [
    {
     "data": {
      "text/plain": [
       "<matplotlib.axes._subplots.AxesSubplot at 0x293db70d148>"
      ]
     },
     "execution_count": 5,
     "metadata": {},
     "output_type": "execute_result"
    },
    {
     "data": {
      "image/png": "[encoded data removed]",
      "text/plain": [
       "<Figure size 432x288 with 1 Axes>"
      ]
     },
     "metadata": {
      "needs_background": "light"
     },
     "output_type": "display_data"
    }
   ],
   "source": [
    "sns.distplot(data.Sales)"
   ]
  },
  {
   "cell_type": "code",
   "execution_count": 6,
   "metadata": {},
   "outputs": [
    {
     "data": {
      "text/plain": [
       "<matplotlib.axes._subplots.AxesSubplot at 0x293dc84da08>"
      ]
     },
     "execution_count": 6,
     "metadata": {},
     "output_type": "execute_result"
    },
    {
     "data": {
      "image/png": "[encoded data removed]",
      "text/plain": [
       "<Figure size 432x288 with 1 Axes>"
      ]
     },
     "metadata": {
      "needs_background": "light"
     },
     "output_type": "display_data"
    }
   ],
   "source": [
    "sns.distplot(data.Profit)"
   ]
  },
  {
   "cell_type": "markdown",
   "metadata": {},
   "source": [
    "# Run plot without crystallization"
   ]
  },
  {
   "cell_type": "code",
   "execution_count": 8,
   "metadata": {},
   "outputs": [
    {
     "data": {
      "text/plain": [
       "<matplotlib.axes._subplots.AxesSubplot at 0x293dc957ac8>"
      ]
     },
     "execution_count": 8,
     "metadata": {},
     "output_type": "execute_result"
    },
    {
     "data": {
      "image/png": "[encoded data removed]",
      "text/plain": [
       "<Figure size 432x288 with 1 Axes>"
      ]
     },
     "metadata": {
      "needs_background": "light"
     },
     "output_type": "display_data"
    }
   ],
   "source": [
    "sns.distplot(data.Profit , kde = False)"
   ]
  },
  {
   "cell_type": "markdown",
   "metadata": {},
   "source": [
    "# without Bars"
   ]
  },
  {
   "cell_type": "code",
   "execution_count": 11,
   "metadata": {},
   "outputs": [
    {
     "data": {
      "text/plain": [
       "<matplotlib.axes._subplots.AxesSubplot at 0x293dca90588>"
      ]
     },
     "execution_count": 11,
     "metadata": {},
     "output_type": "execute_result"
    },
    {
     "data": {
      "image/png": "[encoded data removed]",
      "text/plain": [
       "<Figure size 432x288 with 1 Axes>"
      ]
     },
     "metadata": {
      "needs_background": "light"
     },
     "output_type": "display_data"
    }
   ],
   "source": [
    "sns.distplot(data.Profit ,  hist = False)"
   ]
  },
  {
   "cell_type": "markdown",
   "metadata": {},
   "source": [
    "# with ranging"
   ]
  },
  {
   "cell_type": "code",
   "execution_count": 12,
   "metadata": {},
   "outputs": [
    {
     "data": {
      "text/plain": [
       "<matplotlib.axes._subplots.AxesSubplot at 0x293dcaf59c8>"
      ]
     },
     "execution_count": 12,
     "metadata": {},
     "output_type": "execute_result"
    },
    {
     "data": {
      "image/png": "[encoded data removed]",
      "text/plain": [
       "<Figure size 432x288 with 1 Axes>"
      ]
     },
     "metadata": {
      "needs_background": "light"
     },
     "output_type": "display_data"
    }
   ],
   "source": [
    "sns.distplot(data.Profit , hist = False , rug = True)"
   ]
  },
  {
   "cell_type": "code",
   "execution_count": 13,
   "metadata": {},
   "outputs": [
    {
     "data": {
      "text/plain": [
       "<matplotlib.axes._subplots.AxesSubplot at 0x293db39cf48>"
      ]
     },
     "execution_count": 13,
     "metadata": {},
     "output_type": "execute_result"
    },
    {
     "data": {
      "image/png": "[encoded data removed]",
      "text/plain": [
       "<Figure size 432x288 with 1 Axes>"
      ]
     },
     "metadata": {
      "needs_background": "light"
     },
     "output_type": "display_data"
    }
   ],
   "source": [
    "sns.distplot(data.Profit , kde = False , rug = True)"
   ]
  },
  {
   "cell_type": "code",
   "execution_count": 14,
   "metadata": {},
   "outputs": [
    {
     "data": {
      "text/plain": [
       "<matplotlib.axes._subplots.AxesSubplot at 0x293dcf21ac8>"
      ]
     },
     "execution_count": 14,
     "metadata": {},
     "output_type": "execute_result"
    },
    {
     "data": {
      "image/png": "[encoded data removed]",
      "text/plain": [
       "<Figure size 432x288 with 1 Axes>"
      ]
     },
     "metadata": {
      "needs_background": "light"
     },
     "output_type": "display_data"
    }
   ],
   "source": [
    "sns.distplot(data.Profit , kde = False , rug = True , bins = 100)"
   ]
  },
  {
   "cell_type": "markdown",
   "metadata": {},
   "source": [
    "# run statistics data behavior plot charts"
   ]
  },
  {
   "cell_type": "code",
   "execution_count": 16,
   "metadata": {},
   "outputs": [
    {
     "data": {
      "text/plain": [
       "array([ 5.17263739,  5.70915036,  4.60173   ,  5.42359841,  5.58451023,\n",
       "        6.18050856,  8.15427588,  8.8011645 ,  8.36224492,  8.11492627,\n",
       "        7.61841967,  4.40522406,  7.72137081,  2.95309313,  5.09400558,\n",
       "        3.46826326,  5.57306359,  2.030774  ,  9.48826374,  5.18494495,\n",
       "        4.06094   ,  5.45276307,  3.85682746,  6.74499361,  9.85782433,\n",
       "        7.31005331,  3.71903662,  2.99812056,  5.03575916,  4.34202506,\n",
       "        4.10478702,  3.02355357,  8.49904813,  3.43681795,  4.02760554,\n",
       "        3.0590429 ,  3.39483907, 10.29817437,  5.27528911,  7.51686534,\n",
       "        6.47939506,  4.97460526,  6.0665498 ,  4.99440202,  7.08857987,\n",
       "        4.38790899,  3.42714941,  7.23324584,  3.99806929,  7.65415233,\n",
       "        5.29844213,  9.6596324 ,  2.69532746,  5.69814172,  7.94322086,\n",
       "        2.75361473,  9.77561726,  1.68564197,  3.3074627 ,  5.19355026,\n",
       "        8.29890879,  1.43933214,  5.54470337,  1.11089193,  5.89814423,\n",
       "        3.45620875,  4.63400417,  8.17193535,  8.42804646,  4.67537591,\n",
       "        6.85070486,  9.71410861,  7.51881248,  4.37885313,  8.40282375,\n",
       "       11.05693779, 10.23277573,  4.19336596,  4.89712442,  4.67747446,\n",
       "        4.69772578,  9.56266214,  6.15694432,  1.68763825,  6.57666527,\n",
       "        2.52123259,  2.62075709,  5.15850191,  8.43535878,  8.21457032,\n",
       "        3.54548866,  7.8969142 ,  7.7967033 ,  4.79794806,  9.89417551,\n",
       "        6.11053141,  2.82849639,  2.94560068,  3.81542976,  5.28825075,\n",
       "        4.799933  ,  5.27251395,  8.51441278,  7.16640441,  4.79739001,\n",
       "        5.38483086,  8.30104267,  8.11751783,  7.55240203,  9.65957908,\n",
       "        7.83718341,  5.89881034, 10.87725187, 10.69836847,  3.94904016,\n",
       "        4.07115976,  4.27742703,  3.80990762,  7.99312764,  4.28650134,\n",
       "        5.39822858,  4.44284122,  8.91572351,  6.83205967,  7.11202819,\n",
       "        5.80732499,  9.30107405,  4.76267007,  4.98920343,  4.16558216,\n",
       "        4.73212618,  3.09580241,  7.04268771,  8.10560416, 11.27517231,\n",
       "        9.27561492,  7.83865278,  5.28068698,  4.64116938,  6.04777099,\n",
       "        7.58715172,  4.44136978,  7.81441584,  3.50039451,  5.24962339,\n",
       "        3.70649822,  8.91149547,  4.181437  ,  5.5333271 ,  4.70195575,\n",
       "       10.26041085,  6.99197726,  3.84870782,  8.69106544, 10.59110304,\n",
       "        3.68479026,  2.76347959,  2.54985293, 10.42646893,  4.91129855,\n",
       "        8.46590476,  1.91031077,  4.61238922,  3.31964595,  4.02032265,\n",
       "        7.3118102 ,  9.43649784,  3.42208912,  3.01156658,  3.05523178,\n",
       "        4.79517273,  6.00105894,  6.31500955,  4.76621021,  5.94704407,\n",
       "        6.1923683 ,  6.4721909 , 10.59116089,  3.46721293,  6.55804154,\n",
       "       13.98989808,  4.68409679,  9.34959195,  7.54726733,  6.66822627,\n",
       "        6.31789731,  7.09198614,  4.89671689,  7.10974212,  5.48074644,\n",
       "        5.22034985,  4.88603897,  3.11351545,  8.58092237,  4.52904769,\n",
       "        5.42676197,  1.65345754,  2.81638187, 12.36923061,  6.29689084])"
      ]
     },
     "execution_count": 16,
     "metadata": {},
     "output_type": "execute_result"
    }
   ],
   "source": [
    "from scipy import stats\n",
    "\n",
    "A = np.random.gamma(6,size = 200)\n",
    "A"
   ]
  },
  {
   "cell_type": "code",
   "execution_count": 17,
   "metadata": {},
   "outputs": [
    {
     "data": {
      "text/plain": [
       "<matplotlib.axes._subplots.AxesSubplot at 0x293dd4c1d08>"
      ]
     },
     "execution_count": 17,
     "metadata": {},
     "output_type": "execute_result"
    },
    {
     "data": {
      "image/png": "[encoded data removed]",
      "text/plain": [
       "<Figure size 432x288 with 1 Axes>"
      ]
     },
     "metadata": {
      "needs_background": "light"
     },
     "output_type": "display_data"
    }
   ],
   "source": [
    "sns.distplot(A)"
   ]
  },
  {
   "cell_type": "code",
   "execution_count": 18,
   "metadata": {},
   "outputs": [
    {
     "data": {
      "text/plain": [
       "<matplotlib.axes._subplots.AxesSubplot at 0x293dd4c6d08>"
      ]
     },
     "execution_count": 18,
     "metadata": {},
     "output_type": "execute_result"
    },
    {
     "data": {
      "image/png": "[encoded data removed]",
      "text/plain": [
       "<Figure size 432x288 with 1 Axes>"
      ]
     },
     "metadata": {
      "needs_background": "light"
     },
     "output_type": "display_data"
    }
   ],
   "source": [
    "sns.distplot(A,fit=stats.gamma)"
   ]
  },
  {
   "cell_type": "code",
   "execution_count": 21,
   "metadata": {},
   "outputs": [
    {
     "data": {
      "text/plain": [
       "<matplotlib.axes._subplots.AxesSubplot at 0x293dd6f4dc8>"
      ]
     },
     "execution_count": 21,
     "metadata": {},
     "output_type": "execute_result"
    },
    {
     "data": {
      "image/png": "[encoded data removed]",
      "text/plain": [
       "<Figure size 432x288 with 1 Axes>"
      ]
     },
     "metadata": {
      "needs_background": "light"
     },
     "output_type": "display_data"
    }
   ],
   "source": [
    "sns.distplot(A , kde = False,fit=stats.gamma)"
   ]
  },
  {
   "cell_type": "code",
   "execution_count": 22,
   "metadata": {},
   "outputs": [
    {
     "data": {
      "text/plain": [
       "<matplotlib.axes._subplots.AxesSubplot at 0x293dd792288>"
      ]
     },
     "execution_count": 22,
     "metadata": {},
     "output_type": "execute_result"
    },
    {
     "data": {
      "image/png": "[encoded data removed]",
      "text/plain": [
       "<Figure size 432x288 with 1 Axes>"
      ]
     },
     "metadata": {
      "needs_background": "light"
     },
     "output_type": "display_data"
    }
   ],
   "source": [
    "sns.distplot(A , hist = False,fit=stats.gamma)"
   ]
  },
  {
   "cell_type": "code",
   "execution_count": 23,
   "metadata": {},
   "outputs": [
    {
     "data": {
      "text/plain": [
       "<matplotlib.axes._subplots.AxesSubplot at 0x293dd7b2588>"
      ]
     },
     "execution_count": 23,
     "metadata": {},
     "output_type": "execute_result"
    },
    {
     "data": {
      "image/png": "[encoded data removed]",
      "text/plain": [
       "<Figure size 432x288 with 1 Axes>"
      ]
     },
     "metadata": {
      "needs_background": "light"
     },
     "output_type": "display_data"
    }
   ],
   "source": [
    "sns.distplot(A , kde = False, rug = True ,fit=stats.gamma)"
   ]
  },
  {
   "cell_type": "code",
   "execution_count": null,
   "metadata": {},
   "outputs": [],
   "source": []
  }
 ],
 "metadata": {
  "kernelspec": {
   "display_name": "Python 3",
   "language": "python",
   "name": "python3"
  },
  "language_info": {
   "codemirror_mode": {
    "name": "ipython",
    "version": 3
   },
   "file_extension": ".py",
   "mimetype": "text/x-python",
   "name": "python",
   "nbconvert_exporter": "python",
   "pygments_lexer": "ipython3",
   "version": "3.7.4"
  }
 },
 "nbformat": 4,
 "nbformat_minor": 2
}
