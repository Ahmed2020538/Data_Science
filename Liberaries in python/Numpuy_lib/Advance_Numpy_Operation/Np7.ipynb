{
 "cells": [
  {
   "cell_type": "markdown",
   "metadata": {},
   "source": [
    "# Saving Array"
   ]
  },
  {
   "cell_type": "code",
   "execution_count": 4,
   "metadata": {},
   "outputs": [
    {
     "name": "stdout",
     "output_type": "stream",
     "text": [
      "[[1 2 3]\n",
      " [4 5 6]]\n",
      "========================\n",
      "[[4 5 6]\n",
      " [3 2 1]]\n",
      "========================\n",
      "None\n",
      "========================\n",
      "None\n",
      "========================\n",
      "========================\n",
      "None\n"
     ]
    }
   ],
   "source": [
    "import numpy as np\n",
    "\n",
    "A= np.array([[1,2,3],\n",
    "             [4,5,6]])\n",
    "\n",
    "B = np.array([[4,5,6],\n",
    "              [3,2,1]]) \n",
    "\n",
    "print(A)\n",
    "print(\"========================\")\n",
    "print(B)\n",
    "print(\"========================\")\n",
    "\n",
    "# Saving Single Array\n",
    "\n",
    "print(np.save(\"A.npy\",A))\n",
    "print(\"========================\")\n",
    "print(np.save(\"B.npy\",B))\n",
    "\n",
    "\n",
    "print(\"========================\")\n",
    "print(\"========================\")\n",
    "\n",
    "# Saving multi Arrays\n",
    "\n",
    "print(np.savez(\"AB.npz\", X=A , Y=B))\n"
   ]
  },
  {
   "cell_type": "markdown",
   "metadata": {},
   "source": [
    "# Loading Array"
   ]
  },
  {
   "cell_type": "code",
   "execution_count": 11,
   "metadata": {},
   "outputs": [
    {
     "name": "stdout",
     "output_type": "stream",
     "text": [
      "[[1 2 3]\n",
      " [4 5 6]]\n",
      "========================\n",
      "[[4 5 6]\n",
      " [3 2 1]]\n",
      "========================\n",
      "[[1 2 3]\n",
      " [4 5 6]]\n",
      "========================\n",
      "[[4 5 6]\n",
      " [3 2 1]]\n",
      "========================\n",
      "========================\n",
      "<numpy.lib.npyio.NpzFile object at 0x00000076EF5D4B48>\n",
      "========================\n",
      "========================\n",
      "[[1 2 3]\n",
      " [4 5 6]]\n",
      "========================\n",
      "[[4 5 6]\n",
      " [3 2 1]]\n"
     ]
    }
   ],
   "source": [
    "import numpy as np\n",
    "\n",
    "A= np.array([[1,2,3],\n",
    "             [4,5,6]])\n",
    "\n",
    "B = np.array([[4,5,6],\n",
    "              [3,2,1]]) \n",
    "\n",
    "print(A)\n",
    "print(\"========================\")\n",
    "print(B)\n",
    "print(\"========================\")\n",
    "\n",
    "# Loading Single Array\n",
    "\n",
    "print(np.load(\"A.npy\"))\n",
    "print(\"========================\")\n",
    "\n",
    "print(np.load(\"B.npy\"))\n",
    "print(\"========================\")\n",
    "print(\"========================\")\n",
    "\n",
    "# Loading muti Arrays\n",
    "Arr = np.load(\"AB.npz\")\n",
    "print(Arr)\n",
    "\n",
    "print(\"========================\")\n",
    "print(\"========================\")\n",
    "\n",
    "print(Arr[\"X\"])\n",
    "print(\"========================\")\n",
    "print(Arr[\"Y\"])\n",
    "\n"
   ]
  },
  {
   "cell_type": "code",
   "execution_count": null,
   "metadata": {},
   "outputs": [],
   "source": []
  }
 ],
 "metadata": {
  "kernelspec": {
   "display_name": "Python 3",
   "language": "python",
   "name": "python3"
  },
  "language_info": {
   "codemirror_mode": {
    "name": "ipython",
    "version": 3
   },
   "file_extension": ".py",
   "mimetype": "text/x-python",
   "name": "python",
   "nbconvert_exporter": "python",
   "pygments_lexer": "ipython3",
   "version": "3.7.4"
  }
 },
 "nbformat": 4,
 "nbformat_minor": 2
}
