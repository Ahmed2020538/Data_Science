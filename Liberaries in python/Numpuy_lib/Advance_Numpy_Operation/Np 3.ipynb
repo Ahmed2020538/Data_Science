{
 "cells": [
  {
   "cell_type": "markdown",
   "metadata": {},
   "source": [
    "# Array Indexing"
   ]
  },
  {
   "cell_type": "code",
   "execution_count": 8,
   "metadata": {},
   "outputs": [
    {
     "name": "stdout",
     "output_type": "stream",
     "text": [
      "A [[ 1  2  3  4]\n",
      " [ 5  6  7  8]\n",
      " [ 9 10 11 12]]\n",
      "===========================\n",
      "[ 1  2  3  4  5  6  7  8  9 10 11 12]\n",
      "===========================\n",
      "[ 1  2  3  4  5  6  7  8  9 10 11 12]\n",
      "===========================\n",
      "12\n",
      "===========================\n",
      "3\n",
      "===========================\n",
      "11\n",
      "===========================\n",
      "8\n"
     ]
    }
   ],
   "source": [
    "import numpy as np\n",
    "\n",
    "A = np.array([[1,2,3,4],\n",
    "              [5,6,7,8],\n",
    "              [9,10,11,12]])\n",
    "\n",
    "print(\"A\" , A)\n",
    "print(\"===========================\")\n",
    "print(A.reshape((12,)))\n",
    "print(\"===========================\")\n",
    "print(A.flatten())\n",
    "print(\"===========================\")\n",
    "\n",
    "print(A[2,3])\n",
    "print(\"===========================\")\n",
    "print(A[0,2])\n",
    "print(\"===========================\")\n",
    "print(A[2][2])\n",
    "print(\"===========================\")\n",
    "print(A[1][3])"
   ]
  },
  {
   "cell_type": "markdown",
   "metadata": {},
   "source": [
    "# Integer rray Indexing"
   ]
  },
  {
   "cell_type": "code",
   "execution_count": 2,
   "metadata": {},
   "outputs": [
    {
     "name": "stdout",
     "output_type": "stream",
     "text": [
      "[[ 5  2  3]\n",
      " [-2  4  2]\n",
      " [ 2 -3  1]]\n",
      "==========================\n",
      "[5 4 1]\n",
      "==========================\n",
      "[ 3 -3 -2]\n"
     ]
    }
   ],
   "source": [
    "import numpy as np\n",
    "a = np.array([[5,2,3],\n",
    "              [-2,4,2],\n",
    "              [2,-3,1]])\n",
    "\n",
    "\n",
    "\n",
    "print(a)\n",
    "print(\"==========================\")\n",
    "print(a[[0,1,2],[0,1,2]])\n",
    "print(\"==========================\")\n",
    "print(a[[0,2,1],[2,1,0]])"
   ]
  },
  {
   "cell_type": "code",
   "execution_count": 3,
   "metadata": {},
   "outputs": [
    {
     "name": "stdout",
     "output_type": "stream",
     "text": [
      "[ 0  1  2  3  4  5  6  7  8  9 10 11 12 13 14 15 16 17 18 19 20 21 22 23\n",
      " 24 25 26 27 28 29 30 31 32 33 34 35 36 37 38 39 40 41 42 43 44 45 46 47\n",
      " 48 49 50 51 52 53 54 55 56 57 58 59 60 61 62 63 64 65 66 67 68 69]\n",
      "=================\n",
      "[[[ 0  1  2  3  4  5  6]\n",
      "  [ 7  8  9 10 11 12 13]\n",
      "  [14 15 16 17 18 19 20]\n",
      "  [21 22 23 24 25 26 27]\n",
      "  [28 29 30 31 32 33 34]]\n",
      "\n",
      " [[35 36 37 38 39 40 41]\n",
      "  [42 43 44 45 46 47 48]\n",
      "  [49 50 51 52 53 54 55]\n",
      "  [56 57 58 59 60 61 62]\n",
      "  [63 64 65 66 67 68 69]]]\n",
      "=================\n",
      "[[35 36 37 38 39 40 41]\n",
      " [42 43 44 45 46 47 48]\n",
      " [49 50 51 52 53 54 55]\n",
      " [56 57 58 59 60 61 62]\n",
      " [63 64 65 66 67 68 69]]\n",
      "=================\n",
      "[[ 0  1  2  3  4  5  6]\n",
      " [ 7  8  9 10 11 12 13]\n",
      " [14 15 16 17 18 19 20]\n",
      " [21 22 23 24 25 26 27]\n",
      " [28 29 30 31 32 33 34]]\n",
      "=================\n",
      "[[  35   36   37   38   39   40   41]\n",
      " [  42   43   44   45   46   47   48]\n",
      " [  49   50   51 1111   53   54   55]\n",
      " [  56   57   58   59   60   61   62]\n",
      " [  63   64   65   66   67   68   69]]\n",
      "=================\n"
     ]
    }
   ],
   "source": [
    "import numpy as np\n",
    "A= np.arange(70)\n",
    "print(A)\n",
    "print(\"=================\")\n",
    "C=A.reshape(2,5,7)\n",
    "print(C)\n",
    "print(\"=================\")\n",
    "print(C[1])\n",
    "print(\"=================\")\n",
    "print(C[0])\n",
    "print(\"=================\")\n",
    "C[1,2,3] = 1111\n",
    "print(C[1])\n",
    "print(\"=================\")\n",
    "\n"
   ]
  },
  {
   "cell_type": "markdown",
   "metadata": {},
   "source": [
    "# Boolean Array Indexing"
   ]
  },
  {
   "cell_type": "code",
   "execution_count": 10,
   "metadata": {},
   "outputs": [
    {
     "name": "stdout",
     "output_type": "stream",
     "text": [
      "[[ True  True  True]\n",
      " [False  True  True]\n",
      " [ True False  True]]\n",
      "==========================\n",
      "[[False False False]\n",
      " [ True False False]\n",
      " [False  True False]]\n",
      "==========================\n",
      "[5 2 3 4 2 2 1]\n",
      "==========================\n",
      "[-2 -3]\n"
     ]
    }
   ],
   "source": [
    "import numpy as np\n",
    "a = np.array([[5,2,3],\n",
    "              [-2,4,2],\n",
    "              [2,-3,1]])\n",
    "\n",
    "print(a>0)    # To Get Ture or False\n",
    "print(\"==========================\")\n",
    "\n",
    "print(a<0)    # To Get Ture or False\n",
    "print(\"==========================\")\n",
    "\n",
    "print(a[a>0])   # To get Numbers in array > 0\n",
    "print(\"==========================\")\n",
    "\n",
    "print(a[a<0])   # To get Numbers in array < 0 "
   ]
  },
  {
   "cell_type": "code",
   "execution_count": 7,
   "metadata": {},
   "outputs": [
    {
     "name": "stdout",
     "output_type": "stream",
     "text": [
      "[0 1 2 3 4 5 6 7 8 9]\n",
      "=================\n",
      "[ True False  True False  True False  True False  True False]\n",
      "=================\n",
      "[0 2 4 6 8]\n"
     ]
    }
   ],
   "source": [
    "import numpy as np\n",
    "A=np.arange(10)\n",
    "print(A)\n",
    "print(\"=================\")\n",
    "B= 0==(A%2)\n",
    "print(B)\n",
    "print(\"=================\")\n",
    "print(A[B])"
   ]
  },
  {
   "cell_type": "markdown",
   "metadata": {},
   "source": [
    "# Array Slicing"
   ]
  },
  {
   "cell_type": "code",
   "execution_count": 7,
   "metadata": {},
   "outputs": [
    {
     "name": "stdout",
     "output_type": "stream",
     "text": [
      "[[ 1  2]\n",
      " [ 5  6]\n",
      " [ 9 10]]\n",
      "==========================\n",
      "[[ 6  7  8]\n",
      " [10 11 12]]\n",
      "==========================\n",
      "[[7]]\n",
      "==========================\n",
      "7\n"
     ]
    }
   ],
   "source": [
    "A = np.array([[1,2,3,4],\n",
    "              [5,6,7,8],\n",
    "              [9,10,11,12]])\n",
    "\n",
    "print(A[ : , :2])\n",
    "print(\"==========================\")\n",
    "print(A[ 1 : , 1 : ])\n",
    "print(\"==========================\")\n",
    "print(A[ 1 : 2 , 2 : 3 ])\n",
    "print(\"==========================\")\n",
    "print(A[1,2])\n"
   ]
  },
  {
   "cell_type": "code",
   "execution_count": null,
   "metadata": {},
   "outputs": [],
   "source": []
  }
 ],
 "metadata": {
  "kernelspec": {
   "display_name": "Python 3",
   "language": "python",
   "name": "python3"
  },
  "language_info": {
   "codemirror_mode": {
    "name": "ipython",
    "version": 3
   },
   "file_extension": ".py",
   "mimetype": "text/x-python",
   "name": "python",
   "nbconvert_exporter": "python",
   "pygments_lexer": "ipython3",
   "version": "3.7.4"
  },
  "widgets": {
   "application/vnd.jupyter.widget-state+json": {
    "state": {},
    "version_major": 2,
    "version_minor": 0
   }
  }
 },
 "nbformat": 4,
 "nbformat_minor": 2
}
