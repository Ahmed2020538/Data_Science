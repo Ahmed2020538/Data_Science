{
 "cells": [
  {
   "cell_type": "markdown",
   "metadata": {},
   "source": [
    "# 1 Statistical Scipy and numpy Func"
   ]
  },
  {
   "cell_type": "code",
   "execution_count": 1,
   "metadata": {},
   "outputs": [],
   "source": [
    "import numpy as np\n",
    "import scipy as sp\n",
    "import matplotlib.pyplot as plt\n",
    "from scipy.stats import norm"
   ]
  },
  {
   "cell_type": "code",
   "execution_count": 11,
   "metadata": {},
   "outputs": [
    {
     "name": "stdout",
     "output_type": "stream",
     "text": [
      "[ 0.09086295 -1.71554632 -0.02175574  0.1999586  -0.97515553 -1.16226737\n",
      "  0.47883037 -1.48614109 -1.31981982 -0.05016273  0.41906309  0.55236617\n",
      " -1.99127395  1.45659774 -0.94513519  0.31520635 -1.00825126 -2.87536586\n",
      " -0.80400964  0.55827855 -1.48475096 -0.36791845  0.9380804  -0.62287528\n",
      " -0.51113527  0.59984117  0.23037126 -0.75329343 -0.16881076  1.69675789\n",
      "  0.4638573  -1.17575814  0.9486067   1.7402475  -0.61563239  0.23342414\n",
      " -0.563494    1.13799604  0.07493827  0.34224902  1.29765192  1.18089713\n",
      " -3.12830505  0.05039626  0.06162734  0.09313402  0.03877051  0.10863392\n",
      "  0.61885814  0.4502465  -1.1675303  -1.1041896   1.193363   -1.52035841\n",
      " -2.01332358 -0.51117556  1.01357414  0.13388627 -0.69469871 -0.04043762\n",
      "  0.56459959  0.62629143  0.47798899  1.25664708  0.1754933  -0.65383103\n",
      "  0.35638712  0.81445473 -0.2295188   0.62775433  1.52298781 -0.24537536\n",
      " -0.36352848  1.54693749 -0.29362888 -0.09795759  0.16522335 -0.58259185\n",
      "  1.53059975  1.07414351  0.29772909  1.06162896 -1.52209814 -1.49966118\n",
      " -1.69432034  1.15931142 -0.71233808 -0.13113052 -1.23662109  0.42891646\n",
      " -1.59485956  1.70930822 -2.05186307 -0.56754392 -0.57639638 -0.86260508\n",
      "  1.33059704  0.52915273 -1.33104308]\n",
      "==============================\n",
      "<class 'numpy.ndarray'>\n",
      "==============================\n",
      "-0.11182585240183507\n",
      "==============================\n",
      "-3.128305051313855\n",
      "==============================\n",
      "1.7402474986206402\n",
      "==============================\n",
      "0.05039626205053519\n",
      "==============================\n",
      "[-3.12830505  1.7402475 ]\n",
      "==============================\n",
      "==============================\n",
      "[1.04127509 1.08425381]\n"
     ]
    }
   ],
   "source": [
    "num_data = 99\n",
    "rand_data = sp.randn(num_data)\n",
    "print(rand_data)\n",
    "print(\"==============================\")\n",
    "print(type(rand_data))\n",
    "print(\"==============================\")\n",
    "print(rand_data.mean())\n",
    "print(\"==============================\")\n",
    "print(rand_data.min())\n",
    "print(\"==============================\")\n",
    "print(rand_data.max())\n",
    "print(\"==============================\")\n",
    "\n",
    "print(sp.median(rand_data))\n",
    "print(\"==============================\")\n",
    "Mi_Ma = np.array([rand_data.min() , rand_data.max()])\n",
    "print(Mi_Ma)\n",
    "\n",
    "print(\"==============================\")\n",
    "print(\"==============================\")\n",
    "Z = np.array([sp.std(rand_data) , sp.var(rand_data)])\n",
    "print(Z)\n"
   ]
  },
  {
   "cell_type": "code",
   "execution_count": 12,
   "metadata": {},
   "outputs": [
    {
     "name": "stdout",
     "output_type": "stream",
     "text": [
      "DescribeResult(nobs=99, minmax=(-3.128305051313855, 1.7402474986206402), mean=-0.11182585240183507, variance=1.095317621438831, skewness=-0.38950381877585, kurtosis=-0.19455687591186166)\n"
     ]
    }
   ],
   "source": [
    "print(sp.stats.describe(rand_data))"
   ]
  },
  {
   "cell_type": "markdown",
   "metadata": {},
   "source": [
    "# propability Distribution"
   ]
  },
  {
   "cell_type": "code",
   "execution_count": 19,
   "metadata": {},
   "outputs": [
    {
     "name": "stdout",
     "output_type": "stream",
     "text": [
      " 98.03\n",
      "128.12\n",
      "114.69\n",
      " 99.07\n",
      "127.25\n",
      "103.53\n",
      " 99.21\n",
      "108.23\n"
     ]
    }
   ],
   "source": [
    "i_mean= 100\n",
    "i_std = 15\n",
    "i_distribution = norm( loc = i_mean , scale = i_std )\n",
    "for n in np.arange(8) :\n",
    "    print(\"{:6.2f}\".format(i_distribution.rvs()))"
   ]
  },
  {
   "cell_type": "markdown",
   "metadata": {},
   "source": [
    " # Histogram distribution"
   ]
  },
  {
   "cell_type": "code",
   "execution_count": 57,
   "metadata": {},
   "outputs": [
    {
     "data": {
      "image/png": "[encoded data removed]",
      "text/plain": [
       "<Figure size 432x288 with 1 Axes>"
      ]
     },
     "metadata": {
      "needs_background": "light"
     },
     "output_type": "display_data"
    }
   ],
   "source": [
    "mu = 100\n",
    "sigma = 15\n",
    "data_set = mu + sigma * np.random.randn(10000)\n",
    "\n",
    "n , bins ,patches =  plt.hist (data_set , 50 , density = 1 , facecolor =\"b\" , alpha = 0.75 )\n",
    "plt.xlabel(\"IQ score \")\n",
    "plt.ylabel(\"Probabilty \")\n",
    "plt.title(\"Histogram of IQ\")\n",
    "plt.text(60 , .025  ,r\"$\\mu=100,\\ \\sigma=15$\" )\n",
    "plt.axis([ 40 , 160 , 0 , 0.03 ]) \n",
    "plt.grid(True) \n",
    "plt.show()"
   ]
  },
  {
   "cell_type": "code",
   "execution_count": null,
   "metadata": {},
   "outputs": [],
   "source": []
  }
 ],
 "metadata": {
  "kernelspec": {
   "display_name": "Python 3",
   "language": "python",
   "name": "python3"
  },
  "language_info": {
   "codemirror_mode": {
    "name": "ipython",
    "version": 3
   },
   "file_extension": ".py",
   "mimetype": "text/x-python",
   "name": "python",
   "nbconvert_exporter": "python",
   "pygments_lexer": "ipython3",
   "version": "3.7.4"
  },
  "widgets": {
   "application/vnd.jupyter.widget-state+json": {
    "state": {},
    "version_major": 2,
    "version_minor": 0
   }
  }
 },
 "nbformat": 4,
 "nbformat_minor": 2
}
