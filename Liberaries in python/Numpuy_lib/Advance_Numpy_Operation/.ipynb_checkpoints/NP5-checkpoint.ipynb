{
 "cells": [
  {
   "cell_type": "markdown",
   "metadata": {},
   "source": [
    "# Array Sorting"
   ]
  },
  {
   "cell_type": "code",
   "execution_count": 3,
   "metadata": {},
   "outputs": [
    {
     "name": "stdout",
     "output_type": "stream",
     "text": [
      "[[ 8  3  2]\n",
      " [ 1 -1  0]\n",
      " [ 5  4  7]]\n",
      "=====================\n",
      "[[ 2  3  8]\n",
      " [-1  0  1]\n",
      " [ 4  5  7]]\n",
      "=====================\n",
      "[[ 1 -1  0]\n",
      " [ 5  3  2]\n",
      " [ 8  4  7]]\n",
      "=====================\n",
      "[-1  0  1  2  3  4  5  7  8]\n"
     ]
    }
   ],
   "source": [
    "import numpy as np\n",
    "A = np.array([[8,3,2],\n",
    "             [1,-1,0],\n",
    "             [5,4,7]])\n",
    "\n",
    "print(A)\n",
    "print(\"=====================\")\n",
    "print(np.sort( A , axis= 1 ))     # Sorting Columns\n",
    "print(\"=====================\")\n",
    "print(np.sort( A , axis = 0 ))    # Sorting Rows\n",
    "print(\"=====================\")\n",
    "print(np.sort( A , axis = None ))  # convert into from 3_dimentional into 2_dimentionaland sorted elements"
   ]
  },
  {
   "cell_type": "markdown",
   "metadata": {},
   "source": [
    "# Array Stack "
   ]
  },
  {
   "cell_type": "code",
   "execution_count": 6,
   "metadata": {},
   "outputs": [
    {
     "name": "stdout",
     "output_type": "stream",
     "text": [
      "[[1 2]\n",
      " [3 4]]\n",
      "=====================\n",
      "[[5 6]\n",
      " [7 8]]\n",
      "=====================\n",
      "[[1 2]\n",
      " [3 4]\n",
      " [5 6]\n",
      " [7 8]]\n",
      "=====================\n",
      "[[1 2 5 6]\n",
      " [3 4 7 8]]\n",
      "=====================\n",
      "[[1 2]\n",
      " [3 4]\n",
      " [0 0]]\n",
      "=====================\n",
      "[[1 2 0]\n",
      " [3 4 0]]\n",
      "=====================\n",
      "[[1 2]\n",
      " [3 4]\n",
      " [5 6]\n",
      " [7 8]]\n",
      "=====================\n",
      "[[1 2 5 6]\n",
      " [3 4 7 8]]\n"
     ]
    }
   ],
   "source": [
    "import numpy as np\n",
    "A = np.array([[1,2],\n",
    "              [3,4]])\n",
    "B = np.array([[5,6],\n",
    "              [7,8]])\n",
    "C = np.array([0,0])\n",
    "\n",
    "print(A)\n",
    "print(\"=====================\")\n",
    "print(B)\n",
    "print(\"=====================\")\n",
    "print(np.vstack((A,B))) # vertical Stack\n",
    "print(\"=====================\")\n",
    "print(np.hstack((A,B))) # Herozontal stack\n",
    "print(\"=====================\")\n",
    "print(np.row_stack((A,C)))  # Addition row of C\n",
    "print(\"=====================\")\n",
    "print(np.column_stack((A,C))) # Addition colums of C\n",
    "print(\"=====================\")\n",
    "print(np.concatenate((A,B),axis = 0 ))  # cocate row   as Vertical\n",
    "print(\"=====================\")\n",
    "print(np.concatenate((A,B), axis = 1 )) # Concate colum   as herozontal"
   ]
  },
  {
   "cell_type": "markdown",
   "metadata": {},
   "source": [
    "# Array Spliting "
   ]
  },
  {
   "cell_type": "code",
   "execution_count": 11,
   "metadata": {},
   "outputs": [
    {
     "name": "stdout",
     "output_type": "stream",
     "text": [
      "[[1 3 5 7]\n",
      " [2 4 6 8]]\n",
      "=====================\n",
      "[array([[1, 3, 5, 7]]), array([[2, 4, 6, 8]])]\n",
      "=====================\n",
      "[array([[1, 3],\n",
      "       [2, 4]]), array([[5, 7],\n",
      "       [6, 8]])]\n",
      "=====================\n",
      "[array([[1, 3, 5, 7]]), array([[2, 4, 6, 8]])]\n",
      "=====================\n",
      "[array([[1, 3],\n",
      "       [2, 4]]), array([[5, 7],\n",
      "       [6, 8]])]\n"
     ]
    }
   ],
   "source": [
    "import numpy as np\n",
    "A = np.array([[1,3,5,7],\n",
    "              [2,4,6,8]])\n",
    "\n",
    "print(A)\n",
    "print(\"=====================\")\n",
    "print(np.vsplit(A,2))\n",
    "print(\"=====================\")\n",
    "print(np.hsplit(A,2))\n",
    "print(\"=====================\")\n",
    "print(np.array_split(A,2,axis=0))\n",
    "print(\"=====================\")\n",
    "print(np.array_split(A,2,axis=1))"
   ]
  },
  {
   "cell_type": "markdown",
   "metadata": {},
   "source": [
    "# Broad Casting"
   ]
  },
  {
   "cell_type": "code",
   "execution_count": 12,
   "metadata": {},
   "outputs": [
    {
     "name": "stdout",
     "output_type": "stream",
     "text": [
      "[2 4 6]\n"
     ]
    }
   ],
   "source": [
    "import numpy as np\n",
    "A = np.array([1,2,3])\n",
    "B = np.array([2,2,2])\n",
    "\n",
    "print(A*B)"
   ]
  },
  {
   "cell_type": "markdown",
   "metadata": {},
   "source": [
    "# Working With Date"
   ]
  },
  {
   "cell_type": "code",
   "execution_count": 37,
   "metadata": {},
   "outputs": [
    {
     "name": "stdout",
     "output_type": "stream",
     "text": [
      "2020-03-31\n",
      "=====================\n",
      "2020\n",
      "=====================\n",
      "2020-03-31\n",
      "=====================\n",
      "2020-03\n",
      "['2020-03-01' '2020-03-02' '2020-03-03' '2020-03-04' '2020-03-05'\n",
      " '2020-03-06' '2020-03-07' '2020-03-08' '2020-03-09' '2020-03-10'\n",
      " '2020-03-11' '2020-03-12' '2020-03-13' '2020-03-14' '2020-03-15'\n",
      " '2020-03-16' '2020-03-17' '2020-03-18' '2020-03-19' '2020-03-20'\n",
      " '2020-03-21' '2020-03-22' '2020-03-23' '2020-03-24' '2020-03-25'\n",
      " '2020-03-26' '2020-03-27' '2020-03-28' '2020-03-29' '2020-03-30'\n",
      " '2020-03-31']\n",
      "=====================\n",
      "['2020-03']\n",
      "=====================\n",
      "['2017' '2018' '2019']\n",
      "=====================\n",
      "366 days\n",
      "=====================\n",
      "52 weeks\n",
      "=====================\n",
      "['2015-03-10' '2018-04-15' '2020-08-30']\n",
      "=====================\n",
      "['2020' '2018' '2017']\n",
      "=====================\n"
     ]
    }
   ],
   "source": [
    "import numpy as np\n",
    "\n",
    "#create date\n",
    "\n",
    "Date = np.datetime64(\"2020-03-31\")\n",
    "\n",
    "print(Date)\n",
    "print(\"=====================\")\n",
    "\n",
    "#to det details of date\n",
    "\n",
    "print(np.datetime64(Date,\"Y\"))\n",
    "print(\"=====================\")\n",
    "print(np.datetime64(Date,\"D\"))\n",
    "print(\"=====================\")\n",
    "print(np.datetime64(Date,\"M\"))\n",
    "\n",
    "# toCreate arry by D or By M Or By Y\n",
    "\n",
    "D = np.arange(\"2020-03\" , \"2020-04\" , dtype=\"datetime64[D]\" )\n",
    "print(D)\n",
    "\n",
    "print(\"=====================\")\n",
    "D = np.arange(\"2020-03\" , \"2020-04\" , dtype=\"datetime64[M]\" )\n",
    "print(D)\n",
    "print(\"=====================\")\n",
    "\n",
    "D = np.arange(\"2017-03\" , \"2020-04\" , dtype=\"datetime64[Y]\" )\n",
    "print(D)\n",
    "print(\"=====================\")\n",
    "\n",
    "dur = (np.datetime64(\"2020-03-31\") - np.datetime64(\"2019-03-31\"))\n",
    "print(dur)\n",
    "print(\"=====================\")\n",
    "\n",
    "print(np.timedelta64(dur,\"W\"))\n",
    "print(\"=====================\")\n",
    "\n",
    "#Sirting dates\n",
    "Dates = np.array([\"2015-03-10\" , \"2018-04-15\" , \"2020-08-30\" ] , dtype=\"datetime64[D]\")\n",
    "print(Dates)\n",
    "print(\"=====================\")\n",
    "Dates = np.array([\"2020-03-10\" , \"2018-04-15\" , \"2017-08-30\" ] , dtype=\"datetime64[Y]\")\n",
    "print(Dates)\n",
    "print(\"=====================\")\n",
    "\n",
    "\n"
   ]
  },
  {
   "cell_type": "code",
   "execution_count": null,
   "metadata": {},
   "outputs": [],
   "source": []
  }
 ],
 "metadata": {
  "kernelspec": {
   "display_name": "Python 3",
   "language": "python",
   "name": "python3"
  },
  "language_info": {
   "codemirror_mode": {
    "name": "ipython",
    "version": 3
   },
   "file_extension": ".py",
   "mimetype": "text/x-python",
   "name": "python",
   "nbconvert_exporter": "python",
   "pygments_lexer": "ipython3",
   "version": "3.7.4"
  }
 },
 "nbformat": 4,
 "nbformat_minor": 2
}
