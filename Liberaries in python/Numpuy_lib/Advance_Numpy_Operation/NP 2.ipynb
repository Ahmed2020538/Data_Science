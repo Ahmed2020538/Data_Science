{
 "cells": [
  {
   "cell_type": "markdown",
   "metadata": {},
   "source": [
    "# Array Resheping"
   ]
  },
  {
   "cell_type": "code",
   "execution_count": 7,
   "metadata": {},
   "outputs": [
    {
     "name": "stdout",
     "output_type": "stream",
     "text": [
      "A [1 2 3 4 5 6 7 8]\n",
      "(8,)\n",
      "int32\n",
      "=================\n",
      "A1 [[1 2 3 4]\n",
      " [5 6 7 8]]\n",
      "(2, 4)\n",
      "int32\n",
      "=================\n",
      "A2 [[1 2]\n",
      " [3 4]\n",
      " [5 6]\n",
      " [7 8]]\n",
      "(4, 2)\n",
      "int32\n",
      "=================\n",
      "A3 [[[1 2]\n",
      "  [3 4]]\n",
      "\n",
      " [[5 6]\n",
      "  [7 8]]]\n",
      "(2, 2, 2)\n",
      "int32\n"
     ]
    }
   ],
   "source": [
    "import numpy as np\n",
    "\n",
    "A = np.array([1,2,3,4,5,6,7,8])   # one_dimentional Array\n",
    "\n",
    "print(\"A\" , A)\n",
    "print(A.shape)\n",
    "print(A.dtype)\n",
    "print(\"=================\")\n",
    "\n",
    "# To covert Array into Two_dimentional\n",
    "\n",
    "A1 = A.reshape((2,4))\n",
    "print(\"A1\" , A1)\n",
    "print(A1.shape)\n",
    "print(A1.dtype)\n",
    "\n",
    "print(\"=================\")\n",
    "A2 = A.reshape((4,2))\n",
    "print(\"A2\" , A2)\n",
    "print(A2.shape)\n",
    "print(A2.dtype)\n",
    "print(\"=================\")\n",
    "\n",
    "# To covert Array into 3_dimentional\n",
    "A3 = A.reshape((2,2,2))\n",
    "print(\"A3\" , A3)\n",
    "print(A3.shape)\n",
    "print(A3.dtype)\n",
    "\n",
    "\n",
    "\n"
   ]
  },
  {
   "cell_type": "markdown",
   "metadata": {},
   "source": [
    "# order Array >>>>  (\"F\")  ,, (\"C\") "
   ]
  },
  {
   "cell_type": "code",
   "execution_count": 3,
   "metadata": {},
   "outputs": [
    {
     "name": "stdout",
     "output_type": "stream",
     "text": [
      "Arr [[1 2 3 4 5 6 7 8]]\n",
      "(1, 8)\n",
      "=================\n",
      "Arr1 [[1 3 5 7]\n",
      " [2 4 6 8]]\n",
      "===========================\n",
      "Arr2 [[1 5]\n",
      " [2 6]\n",
      " [3 7]\n",
      " [4 8]]\n",
      "===========================\n",
      "Arr3 [[1 2 3 4]\n",
      " [5 6 7 8]]\n",
      "===========================\n",
      "Arr3 [[1 2]\n",
      " [3 4]\n",
      " [5 6]\n",
      " [7 8]]\n"
     ]
    }
   ],
   "source": [
    "import numpy as np\n",
    "Arr = np.array([[1,2,3,4,5,6,7,8]])\n",
    "print(\"Arr\" , Arr)\n",
    "print(Arr.shape)\n",
    "print(\"=================\")\n",
    "\n",
    "# Convert Array into 2_dimentional\n",
    "\n",
    "Arr1 = Arr.reshape( (2,4) , order = \"F\")\n",
    "print(\"Arr1\",Arr1)\n",
    "print(\"===========================\")\n",
    "\n",
    "Arr2 = Arr.reshape((4,2) , order = \"F\")\n",
    "print( \"Arr2\",Arr2)\n",
    "print(\"===========================\")\n",
    "\n",
    "Arr3 = Arr.reshape((2,4), order = \"C\")\n",
    "print(\"Arr3\" , Arr3)\n",
    "print(\"===========================\")\n",
    "\n",
    "Arr4 = Arr.reshape((4,2), order = \"C\")\n",
    "print(\"Arr3\",Arr4)"
   ]
  },
  {
   "cell_type": "markdown",
   "metadata": {},
   "source": [
    "# Array Flatten "
   ]
  },
  {
   "cell_type": "code",
   "execution_count": 6,
   "metadata": {},
   "outputs": [
    {
     "name": "stdout",
     "output_type": "stream",
     "text": [
      "a [[1 2 3 4]\n",
      " [5 6 7 8]]\n",
      "===========================\n",
      "a1 [1 2 3 4 5 6 7 8]\n",
      "(8,)\n",
      "===========================\n",
      "a2 [1 2 3 4 5 6 7 8]\n",
      "(8,)\n"
     ]
    }
   ],
   "source": [
    "import numpy as np\n",
    "a = np.array([[1,2,3,4],[5,6,7,8]]) # 2_dimentional\n",
    "print(\"a\",a)\n",
    "print(\"===========================\")\n",
    "\n",
    "# convert Array into 1_dimentional\n",
    "\n",
    "a1 = a.flatten()\n",
    "print(\"a1\",a1)\n",
    "print(a1.shape)\n",
    "print(\"===========================\")\n",
    "\n",
    "a2 = a.reshape((8,))\n",
    "\n",
    "print(\"a2\",a2)\n",
    "print(a1.shape)\n",
    "\n",
    "\n"
   ]
  },
  {
   "cell_type": "code",
   "execution_count": null,
   "metadata": {},
   "outputs": [],
   "source": []
  }
 ],
 "metadata": {
  "kernelspec": {
   "display_name": "Python 3",
   "language": "python",
   "name": "python3"
  },
  "language_info": {
   "codemirror_mode": {
    "name": "ipython",
    "version": 3
   },
   "file_extension": ".py",
   "mimetype": "text/x-python",
   "name": "python",
   "nbconvert_exporter": "python",
   "pygments_lexer": "ipython3",
   "version": "3.7.4"
  }
 },
 "nbformat": 4,
 "nbformat_minor": 2
}
