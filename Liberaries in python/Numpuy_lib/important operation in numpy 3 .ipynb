{
 "cells": [
  {
   "cell_type": "markdown",
   "metadata": {},
   "source": [
    "# Addition"
   ]
  },
  {
   "cell_type": "code",
   "execution_count": 3,
   "metadata": {},
   "outputs": [
    {
     "name": "stdout",
     "output_type": "stream",
     "text": [
      "[[[ 0  1  2  3]\n",
      "  [ 4  5  6  7]\n",
      "  [ 8  9 10 11]]\n",
      "\n",
      " [[12 13 14 15]\n",
      "  [16 17 18 19]\n",
      "  [20 21 22 23]]]\n",
      "=================================\n",
      "(2, 3, 4)\n"
     ]
    }
   ],
   "source": [
    "import numpy as np\n",
    "A = np.arange(24).reshape(2,3,4)\n",
    "print(A)\n",
    "print(\"=================================\")\n",
    "print(A.shape)"
   ]
  },
  {
   "cell_type": "code",
   "execution_count": 5,
   "metadata": {},
   "outputs": [
    {
     "name": "stdout",
     "output_type": "stream",
     "text": [
      "[ 0  1  2  3  4  5  6  7  8  9 10 11 12 13 14 15 16 17 18 19 20 21 22 23\n",
      " 11 22 33 44]\n",
      "=================================\n",
      "(28,)\n"
     ]
    }
   ],
   "source": [
    "B = np.append(A,[11,22,33,44])\n",
    "print(B)\n",
    "print(\"=================================\")\n",
    "\n",
    "print(B.shape)\n"
   ]
  },
  {
   "cell_type": "code",
   "execution_count": 8,
   "metadata": {},
   "outputs": [
    {
     "name": "stdout",
     "output_type": "stream",
     "text": [
      "[[ 0  1  2  3]\n",
      " [ 4  5  6  7]\n",
      " [ 8  9 10 11]\n",
      " [12 13 14 15]\n",
      " [16 17 18 19]\n",
      " [20 21 22 23]\n",
      " [11 22 33 44]]\n",
      "=================================\n",
      "[[[ 0  1  2  3]\n",
      "  [ 4  5  6  7]\n",
      "  [ 8  9 10 11]]\n",
      "\n",
      " [[12 13 14 15]\n",
      "  [16 17 18 19]\n",
      "  [20 21 22 23]]]\n",
      "=================================\n",
      "[ 0  1  2  3  4  5  6  7  8  9 10 11 12 13 14 15 16 17 18 19 20 21 22 23\n",
      " 11 22 33 44]\n"
     ]
    }
   ],
   "source": [
    "print(B.reshape(7,4))\n",
    "\n",
    "print(\"=================================\")\n",
    "print(A)\n",
    "print(\"=================================\")\n",
    "print(B)"
   ]
  },
  {
   "cell_type": "code",
   "execution_count": 26,
   "metadata": {},
   "outputs": [
    {
     "name": "stdout",
     "output_type": "stream",
     "text": [
      "[[[  3  13  23  33]\n",
      "  [ 43  53  63  73]\n",
      "  [ 83  93 103 113]]\n",
      "\n",
      " [[123 133 143 153]\n",
      "  [163 173 183 193]\n",
      "  [203 213 223 233]]]\n",
      "=================================\n",
      "(2, 3, 4)\n",
      "=================================\n",
      "24\n",
      "=================================\n",
      "int32\n",
      "=================================\n",
      "<class 'numpy.ndarray'>\n",
      "=================================\n",
      "3\n"
     ]
    }
   ],
   "source": [
    "C = np.array(np.arange(24).reshape(2,3,4) * 10+3)\n",
    "print(C)\n",
    "print(\"=================================\")\n",
    "print(C.shape)\n",
    "print(\"=================================\")\n",
    "print(C.size)\n",
    "print(\"=================================\")\n",
    "print(C.dtype)\n",
    "print(\"=================================\")\n",
    "print(type(C))\n",
    "print(\"=================================\")\n",
    "print(C.ndim)"
   ]
  },
  {
   "cell_type": "code",
   "execution_count": 28,
   "metadata": {},
   "outputs": [
    {
     "name": "stdout",
     "output_type": "stream",
     "text": [
      "[[[  0   1   2   3]\n",
      "  [  4   5   6   7]\n",
      "  [  8   9  10  11]]\n",
      "\n",
      " [[ 12  13  14  15]\n",
      "  [ 16  17  18  19]\n",
      "  [ 20  21  22  23]]\n",
      "\n",
      " [[  3  13  23  33]\n",
      "  [ 43  53  63  73]\n",
      "  [ 83  93 103 113]]\n",
      "\n",
      " [[123 133 143 153]\n",
      "  [163 173 183 193]\n",
      "  [203 213 223 233]]]\n",
      "=================================\n",
      "(4, 3, 4)\n"
     ]
    }
   ],
   "source": [
    "print(np.append(A,C,axis=0))\n",
    "print(\"=================================\")\n",
    "\n",
    "print(np.append(A,C,axis=0).shape)\n"
   ]
  },
  {
   "cell_type": "code",
   "execution_count": 30,
   "metadata": {},
   "outputs": [
    {
     "name": "stdout",
     "output_type": "stream",
     "text": [
      "[[[  0   1   2   3]\n",
      "  [  4   5   6   7]\n",
      "  [  8   9  10  11]\n",
      "  [  3  13  23  33]\n",
      "  [ 43  53  63  73]\n",
      "  [ 83  93 103 113]]\n",
      "\n",
      " [[ 12  13  14  15]\n",
      "  [ 16  17  18  19]\n",
      "  [ 20  21  22  23]\n",
      "  [123 133 143 153]\n",
      "  [163 173 183 193]\n",
      "  [203 213 223 233]]]\n",
      "=================================\n",
      "(2, 6, 4)\n"
     ]
    }
   ],
   "source": [
    "print(np.append(A,C,axis=1))\n",
    "print(\"=================================\")\n",
    "print(np.append(A,C,axis=1).shape)\n",
    "\n",
    "\n"
   ]
  },
  {
   "cell_type": "code",
   "execution_count": 31,
   "metadata": {},
   "outputs": [
    {
     "name": "stdout",
     "output_type": "stream",
     "text": [
      "[[[  0   1   2   3   3  13  23  33]\n",
      "  [  4   5   6   7  43  53  63  73]\n",
      "  [  8   9  10  11  83  93 103 113]]\n",
      "\n",
      " [[ 12  13  14  15 123 133 143 153]\n",
      "  [ 16  17  18  19 163 173 183 193]\n",
      "  [ 20  21  22  23 203 213 223 233]]]\n",
      "=================================\n",
      "(2, 3, 8)\n"
     ]
    }
   ],
   "source": [
    "print(np.append(A,C,axis=2))\n",
    "print(\"=================================\")\n",
    "print(np.append(A,C,axis=2).shape)\n",
    "\n"
   ]
  },
  {
   "cell_type": "markdown",
   "metadata": {},
   "source": [
    "# Herezontal_Stack"
   ]
  },
  {
   "cell_type": "code",
   "execution_count": 34,
   "metadata": {},
   "outputs": [
    {
     "name": "stdout",
     "output_type": "stream",
     "text": [
      "[[[  0   1   2   3]\n",
      "  [  4   5   6   7]\n",
      "  [  8   9  10  11]\n",
      "  [  3  13  23  33]\n",
      "  [ 43  53  63  73]\n",
      "  [ 83  93 103 113]]\n",
      "\n",
      " [[ 12  13  14  15]\n",
      "  [ 16  17  18  19]\n",
      "  [ 20  21  22  23]\n",
      "  [123 133 143 153]\n",
      "  [163 173 183 193]\n",
      "  [203 213 223 233]]]\n",
      "=================================\n",
      "(2, 6, 4)\n",
      "=================================\n",
      "48\n",
      "=================================\n",
      "int32\n"
     ]
    }
   ],
   "source": [
    "Her_stack = np.hstack((A,C))\n",
    "print(Her_stack)\n",
    "print(\"=================================\")\n",
    "print(Her_stack.shape)\n",
    "print(\"=================================\")\n",
    "print(Her_stack.size)\n",
    "print(\"=================================\")\n",
    "print(Her_stack.dtype)\n",
    "\n"
   ]
  },
  {
   "cell_type": "code",
   "execution_count": 35,
   "metadata": {},
   "outputs": [
    {
     "name": "stdout",
     "output_type": "stream",
     "text": [
      "[[[  0   1 666   3]\n",
      "  [  4   5   6   7]\n",
      "  [  8   9  10  11]\n",
      "  [  3  13  23  33]\n",
      "  [ 43  53  63  73]\n",
      "  [ 83  93 103 113]]\n",
      "\n",
      " [[ 12  13  14  15]\n",
      "  [ 16  17  18 999]\n",
      "  [ 20  21  22  23]\n",
      "  [123 133 143 153]\n",
      "  [163 173 183 193]\n",
      "  [203 213 223 233]]]\n",
      "=================================\n",
      "[[[ 0  1  2  3]\n",
      "  [ 4  5  6  7]\n",
      "  [ 8  9 10 11]]\n",
      "\n",
      " [[12 13 14 15]\n",
      "  [16 17 18 19]\n",
      "  [20 21 22 23]]]\n",
      "=================================\n",
      "[[[  3  13  23  33]\n",
      "  [ 43  53  63  73]\n",
      "  [ 83  93 103 113]]\n",
      "\n",
      " [[123 133 143 153]\n",
      "  [163 173 183 193]\n",
      "  [203 213 223 233]]]\n"
     ]
    }
   ],
   "source": [
    "Her_stack[0,0,2] = 666\n",
    "Her_stack[1,1,3] = 999\n",
    "print(Her_stack)\n",
    "print(\"=================================\")\n",
    "print(A)\n",
    "print(\"=================================\")\n",
    "print(C)"
   ]
  },
  {
   "cell_type": "markdown",
   "metadata": {},
   "source": [
    "# Insert Operation"
   ]
  },
  {
   "cell_type": "code",
   "execution_count": 37,
   "metadata": {},
   "outputs": [
    {
     "name": "stdout",
     "output_type": "stream",
     "text": [
      "[[[  3  13  23  33]\n",
      "  [ 43  53  63  73]\n",
      "  [ 83  93 103 113]]\n",
      "\n",
      " [[444 444 444 444]\n",
      "  [444 444 444 444]\n",
      "  [444 444 444 444]]\n",
      "\n",
      " [[123 133 143 153]\n",
      "  [163 173 183 193]\n",
      "  [203 213 223 233]]]\n"
     ]
    }
   ],
   "source": [
    "I = np.insert(C,1,444,axis=0)\n",
    "print(I)"
   ]
  },
  {
   "cell_type": "code",
   "execution_count": 45,
   "metadata": {},
   "outputs": [
    {
     "name": "stdout",
     "output_type": "stream",
     "text": [
      "[[[  3  13  23  33]\n",
      "  [333 333 333 333]\n",
      "  [ 43  53  63  73]\n",
      "  [ 83  93 103 113]]\n",
      "\n",
      " [[123 133 143 153]\n",
      "  [333 333 333 333]\n",
      "  [163 173 183 193]\n",
      "  [203 213 223 233]]]\n",
      "=================================\n",
      "[[[  3 111  13  23  33]\n",
      "  [ 43 111  53  63  73]\n",
      "  [ 83 111  93 103 113]]\n",
      "\n",
      " [[123 111 133 143 153]\n",
      "  [163 111 173 183 193]\n",
      "  [203 111 213 223 233]]]\n",
      "=================================\n",
      "[[[  3  13  23  33]\n",
      "  [ 43  53  63  73]\n",
      "  [555 555 555 555]\n",
      "  [ 83  93 103 113]]\n",
      "\n",
      " [[123 133 143 153]\n",
      "  [163 173 183 193]\n",
      "  [555 555 555 555]\n",
      "  [203 213 223 233]]]\n",
      "=================================\n",
      "[[[  3  13 777  23  33]\n",
      "  [ 43  53 777  63  73]\n",
      "  [ 83  93 777 103 113]]\n",
      "\n",
      " [[123 133 777 143 153]\n",
      "  [163 173 777 183 193]\n",
      "  [203 213 777 223 233]]]\n"
     ]
    }
   ],
   "source": [
    "print(np.insert(C,1,333,axis =1))  # axis = 1 change rows    and 1  index\n",
    "print(\"=================================\")\n",
    "print(np.insert(C,1,111,axis=2))   # axis = 2 change coums    and 1  index\n",
    "print(\"=================================\")\n",
    "print(np.insert(C,2,555,axis=1))   # axis = 1 change rows     and 2  index\n",
    "print(\"=================================\")\n",
    "print(np.insert(C,2,777,axis=2))    # axis = 2 change coums   and 2  index"
   ]
  },
  {
   "cell_type": "markdown",
   "metadata": {},
   "source": [
    "# Create empty Arry Shepe  as anouther Arry"
   ]
  },
  {
   "cell_type": "code",
   "execution_count": 50,
   "metadata": {},
   "outputs": [
    {
     "name": "stdout",
     "output_type": "stream",
     "text": [
      "[[[  3.  13.  23.  33.]\n",
      "  [ 43.  53.  63.  73.]\n",
      "  [ 83.  93. 103. 113.]]\n",
      "\n",
      " [[123. 133. 143. 153.]\n",
      "  [163. 173. 183. 193.]\n",
      "  [203. 213. 223. 233.]]]\n",
      "=================================\n",
      "(2, 3, 4)\n",
      "=================================\n",
      "24\n",
      "=================================\n",
      "3\n",
      "=================================\n",
      "8\n",
      "=================================\n",
      "2\n"
     ]
    }
   ],
   "source": [
    "W = np.empty(C.shape)  # create empty array has shape of C\n",
    "np.copyto(W,C)  # Copy Array C in Empty array W\n",
    "print(W)\n",
    "print(\"=================================\")\n",
    "print(W.shape)\n",
    "print(\"=================================\")\n",
    "print(W.size)\n",
    "print(\"=================================\")\n",
    "print(W.ndim)\n",
    "print(\"=================================\")\n",
    "print(W.itemsize)\n",
    "print(\"=================================\")\n",
    "print(len(W))  # let to number of Dimentional \n"
   ]
  },
  {
   "cell_type": "markdown",
   "metadata": {},
   "source": [
    "# Delet Operation"
   ]
  },
  {
   "cell_type": "markdown",
   "metadata": {},
   "source": [
    "# 1 _ delet dimentional"
   ]
  },
  {
   "cell_type": "code",
   "execution_count": 53,
   "metadata": {},
   "outputs": [
    {
     "name": "stdout",
     "output_type": "stream",
     "text": [
      "[[[123. 133. 143. 153.]\n",
      "  [163. 173. 183. 193.]\n",
      "  [203. 213. 223. 233.]]]\n"
     ]
    }
   ],
   "source": [
    "print(np.delete ( W , 0 , axis = 0)) # 0 index of dimentiona ,, axis = 0 >>delet rows and columns\n",
    "print(np.delete ( W , 1 , axis = 0)) # 1 index of dimentiona ,, axis = 0 >>delet rows and columns"
   ]
  },
  {
   "cell_type": "markdown",
   "metadata": {},
   "source": [
    " # 2 _ delet Rows only "
   ]
  },
  {
   "cell_type": "code",
   "execution_count": 56,
   "metadata": {},
   "outputs": [
    {
     "name": "stdout",
     "output_type": "stream",
     "text": [
      "[[[ 43.  53.  63.  73.]\n",
      "  [ 83.  93. 103. 113.]]\n",
      "\n",
      " [[163. 173. 183. 193.]\n",
      "  [203. 213. 223. 233.]]]\n",
      "=================================\n",
      "[[[  3.  13.  23.  33.]\n",
      "  [ 83.  93. 103. 113.]]\n",
      "\n",
      " [[123. 133. 143. 153.]\n",
      "  [203. 213. 223. 233.]]]\n"
     ]
    }
   ],
   "source": [
    "print(np.delete ( W , 0 , axis = 1)) # 0 let to index of delet  ,, axis =1  delet Rows only \n",
    "print(\"=================================\")\n",
    "print(np.delete ( W , 1 , axis = 1)) # 1 let to index of delet  ,, axis =1  delet Rows only \n"
   ]
  },
  {
   "cell_type": "markdown",
   "metadata": {},
   "source": [
    " # 3 _ delet Columns only"
   ]
  },
  {
   "cell_type": "code",
   "execution_count": 58,
   "metadata": {},
   "outputs": [
    {
     "name": "stdout",
     "output_type": "stream",
     "text": [
      "[[[  3.  23.  33.]\n",
      "  [ 43.  63.  73.]\n",
      "  [ 83. 103. 113.]]\n",
      "\n",
      " [[123. 143. 153.]\n",
      "  [163. 183. 193.]\n",
      "  [203. 223. 233.]]]\n",
      "=================================\n",
      "[[[  3.  13.  33.]\n",
      "  [ 43.  53.  73.]\n",
      "  [ 83.  93. 113.]]\n",
      "\n",
      " [[123. 133. 153.]\n",
      "  [163. 173. 193.]\n",
      "  [203. 213. 233.]]]\n"
     ]
    }
   ],
   "source": [
    "print(np.delete ( W , 1 , axis = 2 ))  # 1 let to index of delet  ,, axis =2  delet Colums only \n",
    "print(\"=================================\")\n",
    "print(np.delete ( W , 2 , axis = 2 ))  # 2 let to index of delet  ,, axis =2  delet Colums onl"
   ]
  },
  {
   "cell_type": "code",
   "execution_count": null,
   "metadata": {},
   "outputs": [],
   "source": []
  }
 ],
 "metadata": {
  "kernelspec": {
   "display_name": "Python 3",
   "language": "python",
   "name": "python3"
  },
  "language_info": {
   "codemirror_mode": {
    "name": "ipython",
    "version": 3
   },
   "file_extension": ".py",
   "mimetype": "text/x-python",
   "name": "python",
   "nbconvert_exporter": "python",
   "pygments_lexer": "ipython3",
   "version": "3.7.4"
  },
  "widgets": {
   "application/vnd.jupyter.widget-state+json": {
    "state": {},
    "version_major": 2,
    "version_minor": 0
   }
  }
 },
 "nbformat": 4,
 "nbformat_minor": 2
}
