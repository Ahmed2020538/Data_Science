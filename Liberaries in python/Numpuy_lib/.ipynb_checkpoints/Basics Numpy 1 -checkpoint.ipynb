{
 "cells": [
  {
   "cell_type": "markdown",
   "metadata": {},
   "source": [
    "# func of  Numpy"
   ]
  },
  {
   "cell_type": "code",
   "execution_count": 1,
   "metadata": {},
   "outputs": [
    {
     "name": "stdout",
     "output_type": "stream",
     "text": [
      "[20 40 60 80]\n",
      "[10 30 50 70]\n",
      "Sin(A)  = [-2.44929360e-15 -4.89858720e-15 -2.15587355e-14 -9.79717439e-15]\n",
      "=============================================\n",
      "Sin(B) = [-1.22464680e-15 -1.07793678e-14  9.82193362e-16 -1.56779550e-14]\n",
      "=============================================\n",
      "around(A)  = [20 40 60 80]\n",
      "=============================================\n",
      "around(B)  = [10 30 50 70]\n",
      "=============================================\n",
      "around(A) : 1  = [20 40 60 80]\n",
      "=============================================\n",
      "around(B) : 1  = [10 30 50 70]\n",
      "=============================================\n",
      "around(A) : 2  = [20 40 60 80]\n",
      "=============================================\n",
      "around(B) : 2  = [10 30 50 70]\n",
      "=============================================\n",
      " Floor :  5.0\n",
      "=============================================\n",
      "ceil   :  6.0\n",
      "=============================================\n",
      "Cos : pi   =  -1.0\n",
      "=============================================\n",
      "tan : pi   =  -1.2246467991473532e-16\n",
      "=============================================\n",
      "arcsin : pi/180   =  0.01745417873758517\n",
      "=============================================\n",
      "degrees : pi   = 180.0\n"
     ]
    }
   ],
   "source": [
    "import numpy as np\n",
    "A = np.array ([ 20 , 40 , 60 , 80 ])\n",
    "B = np.array ([ 10 , 30 , 50 , 70 ])\n",
    "\n",
    "print(A)\n",
    "print(B)\n",
    "\n",
    "\n",
    "# Functions In Numpy Of Array\n",
    "\n",
    "print(\"Sin(A) \" ,\"=\" , np.sin ( A*np.pi  ) )\n",
    "\n",
    "print(\"=============================================\")\n",
    "\n",
    "print(\"Sin(B)\" , \"=\" , np.sin ( B*np.pi  ) )\n",
    "\n",
    "print(\"=============================================\")\n",
    "\n",
    "print(\"around(A)\" , \" =\" , np.around (A))\n",
    "\n",
    "print(\"=============================================\")\n",
    "\n",
    "print(\"around(B)\" , \" =\" , np.around (B))\n",
    "\n",
    "print(\"=============================================\")\n",
    "\n",
    "print(\"around(A) : 1\" , \" =\" , np.around ( A , decimals = 1))\n",
    "\n",
    "print(\"=============================================\")\n",
    "\n",
    "print(\"around(B) : 1\" , \" =\" , np.around ( B , decimals = 1))\n",
    "\n",
    "print(\"=============================================\")\n",
    "\n",
    "print(\"around(A) : 2\" , \" =\" , np.around ( A , decimals = 2))\n",
    "\n",
    "print(\"=============================================\")\n",
    "\n",
    "print(\"around(B) : 2\" , \" =\" , np.around ( B , decimals = 2))\n",
    "\n",
    "print(\"=============================================\")\n",
    "\n",
    "\n",
    "\n",
    "print(\" Floor : \" , np.floor(5.3))\n",
    "\n",
    "print(\"=============================================\")\n",
    "\n",
    "print(\"ceil   : \" , np.ceil(5.9))\n",
    "\n",
    "print(\"=============================================\")\n",
    "\n",
    "\n",
    "print(\"Cos : pi \" , \" = \"  ,np.cos(np.pi))\n",
    "\n",
    "print(\"=============================================\")\n",
    "\n",
    "print(\"tan : pi \",\" = \" , np.tan(np.pi))\n",
    "\n",
    "print(\"=============================================\")\n",
    "\n",
    "print(\"arcsin : pi/180 \" , \" = \" , np.arcsin(np.pi/180))\n",
    "\n",
    "print(\"=============================================\")\n",
    "\n",
    "print(\"degrees : pi \" , \" =\" , np.degrees(np.pi))\n",
    "\n",
    "\n",
    "\n",
    "\n",
    "\n",
    "\n",
    "\n",
    "\n",
    "\n",
    "\n"
   ]
  },
  {
   "cell_type": "markdown",
   "metadata": {},
   "source": [
    "# Array operation"
   ]
  },
  {
   "cell_type": "code",
   "execution_count": 1,
   "metadata": {},
   "outputs": [
    {
     "name": "stdout",
     "output_type": "stream",
     "text": [
      "[1 4 7 5]\n",
      "(4,)\n",
      "=============================================\n",
      "[[1 4 7 5]\n",
      " [2 8 3 2]]\n",
      "(2, 4)\n",
      "=============================================\n",
      "[[1 4 7 5]\n",
      " [2 3 8 6]\n",
      " [9 2 5 4]]\n",
      "(3, 4)\n"
     ]
    }
   ],
   "source": [
    "import numpy as np\n",
    "\n",
    "A1 = np.array([ 1 , 4 , 7 , 5])\n",
    "A2 = np.array([[ 1 , 4 , 7 , 5] , [ 2 , 8 ,3 , 2 ]])\n",
    "A3 = np.array([[ 1 ,4 , 7 , 5 ] , [ 2 , 3 , 8 , 6] , [ 9 , 2 , 5 , 4]])\n",
    "\n",
    "print(A1)\n",
    "print(A1.shape)\n",
    "\n",
    "print(\"=============================================\")\n",
    "\n",
    "print(A2)\n",
    "print(A2.shape)\n",
    "\n",
    "print(\"=============================================\")\n",
    "\n",
    "print(A3)\n",
    "print(A3.shape)\n"
   ]
  },
  {
   "cell_type": "code",
   "execution_count": 8,
   "metadata": {},
   "outputs": [
    {
     "name": "stdout",
     "output_type": "stream",
     "text": [
      "[[ 0  1  2  3]\n",
      " [ 4  5  6  7]\n",
      " [ 8  9 10 11]]\n",
      "[[ 0  1  2]\n",
      " [ 3  4  5]\n",
      " [ 6  7  8]\n",
      " [ 9 10 11]]\n",
      "int32\n",
      "=============================================\n",
      "Size       : To V  =  12\n",
      "=============================================\n",
      "reshipe    : To V  =  (3, 4)\n",
      "=============================================\n",
      "ndim       : To V  =  2\n",
      "=============================================\n",
      "Dtype Name : To V  =  int32\n",
      "<class 'numpy.ndarray'>\n",
      "int32\n",
      "=============================================\n",
      "ItemSize   : To V  =  4\n"
     ]
    }
   ],
   "source": [
    "V = np.arange (12).reshape (3,4)\n",
    "print(V)\n",
    "V1 = np.arange (12).reshape((4,3))\n",
    "\n",
    "print(V1)\n",
    "\n",
    "print(V1.dtype)\n",
    "print(\"=============================================\")\n",
    "\n",
    "print(\"Size       : To V\" , \" = \" , V.size )\n",
    "\n",
    "print(\"=============================================\")\n",
    "\n",
    "print(\"reshipe    : To V\" , \" = \" , V.shape )\n",
    "\n",
    "print(\"=============================================\")\n",
    "\n",
    "print(\"ndim       : To V\" , \" = \" , V.ndim)\n",
    "\n",
    "print(\"=============================================\")\n",
    "\n",
    "print(\"Dtype Name : To V\" , \" = \" , V.dtype.name)\n",
    "print(type(V))\n",
    "print(V.dtype)\n",
    "\n",
    "print(\"=============================================\")\n",
    "\n",
    "print(\"ItemSize   : To V\" , \" = \" , V.itemsize)"
   ]
  },
  {
   "cell_type": "code",
   "execution_count": 16,
   "metadata": {},
   "outputs": [
    {
     "name": "stdout",
     "output_type": "stream",
     "text": [
      "[[1.5 5.2 3.3]\n",
      " [2.3 1.9 5.7]]\n",
      "=============================================\n",
      "[[1.+0.j 2.+0.j]\n",
      " [3.+0.j 4.+0.j]]\n"
     ]
    }
   ],
   "source": [
    "T = np.array([( 1.5 , 5.2 , 3.3 ) , ( 2.3 , 1.9 , 5.7)])\n",
    "Q = np.array([[ 1 , 2 ] , [ 3 , 4 ]] , dtype = complex )\n",
    "\n",
    "print(T)\n",
    "\n",
    "print(\"=============================================\")\n",
    "\n",
    "\n",
    "print(Q)"
   ]
  },
  {
   "cell_type": "code",
   "execution_count": 18,
   "metadata": {},
   "outputs": [
    {
     "name": "stdout",
     "output_type": "stream",
     "text": [
      "[[0. 0. 0. 0. 0. 0. 0. 0. 0. 0.]\n",
      " [0. 0. 0. 0. 0. 0. 0. 0. 0. 0.]\n",
      " [0. 0. 0. 0. 0. 0. 0. 0. 0. 0.]\n",
      " [0. 0. 0. 0. 0. 0. 0. 0. 0. 0.]]\n",
      "=============================================\n",
      "[[1 1 1 1 1 1 1 1 1 1]\n",
      " [1 1 1 1 1 1 1 1 1 1]\n",
      " [1 1 1 1 1 1 1 1 1 1]\n",
      " [1 1 1 1 1 1 1 1 1 1]]\n",
      "=============================================\n",
      "[0.  0.4 0.8 1.2 1.6 2.  2.4 2.8 3.2 3.6]\n",
      "=============================================\n",
      "[[[ 0  1  2  3]\n",
      "  [ 4  5  6  7]\n",
      "  [ 8  9 10 11]]\n",
      "\n",
      " [[12 13 14 15]\n",
      "  [16 17 18 19]\n",
      "  [20 21 22 23]]]\n"
     ]
    }
   ],
   "source": [
    "Z = np.zeros ( (4,10))\n",
    "O = np.ones  ( (4,10) , dtype = np.int16)\n",
    "R = np.arange (0,4,0.4)\n",
    "RR = np.arange(24).reshape(2,3,4) \n",
    "\n",
    "print(Z)\n",
    "\n",
    "print(\"=============================================\")\n",
    "\n",
    "\n",
    "\n",
    "print(O)\n",
    "\n",
    "print(\"=============================================\")\n",
    "\n",
    "\n",
    "\n",
    "print(R)\n",
    "\n",
    "print(\"=============================================\")\n",
    "\n",
    "print(RR)"
   ]
  },
  {
   "cell_type": "markdown",
   "metadata": {},
   "source": [
    "# Array operation part 2 "
   ]
  },
  {
   "cell_type": "code",
   "execution_count": 21,
   "metadata": {},
   "outputs": [
    {
     "name": "stdout",
     "output_type": "stream",
     "text": [
      "R1 * R2   =  [-48  16  10  18]\n",
      "=============================================\n",
      "R1 + R2   =  [-8 10  7  9]\n",
      "=============================================\n",
      "R1 - R2   =  [-16   6  -3   3]\n",
      "=============================================\n",
      "R1 // R2   =  [-3  4  0  2]\n",
      "=============================================\n",
      "R1 * 2   =  [-24  16   4  12]\n",
      "=============================================\n",
      "R2 * 3   =  [12  6 15  9]\n",
      "=============================================\n",
      "R1 dot R2   =  -4\n",
      "=============================================\n",
      "R2 dot R1  =  -4\n",
      "=============================================\n",
      "Sin : R1  =  [ 0.53657292  0.98935825  0.90929743 -0.2794155 ]\n",
      "=============================================\n",
      "Sin : R2  =  [-0.7568025   0.90929743 -0.95892427  0.14112001]\n",
      "=============================================\n",
      "Sum : R1  =  4\n",
      "=============================================\n",
      "Sum : R2  =  14\n",
      "=============================================\n",
      "Max : R1  =  8\n",
      "=============================================\n",
      "Max : R2  =  5\n",
      "=============================================\n",
      "Min : R1  =  -12\n",
      "=============================================\n",
      "Min : R2  =  2\n",
      "=============================================\n",
      "Mean : R1  =  1.0\n",
      "=============================================\n",
      "Mean : R2  =  3.5\n",
      "=============================================\n",
      "Median : R1  =  4.0\n",
      "=============================================\n",
      "Median : R2  =  3.5\n",
      "=============================================\n",
      "Average : R1  =  1.0\n",
      "=============================================\n",
      "verage : R2  =  1.8000000000000003\n",
      "=============================================\n",
      "Stander divsion : R1  =  7.810249675906654\n",
      "=============================================\n",
      "Standerdivsion : R2  =  1.118033988749895\n",
      "=============================================\n",
      "Variance : R1  =  61.0\n",
      "=============================================\n",
      "Variance : R2  =  1.25\n",
      "=============================================\n",
      "Cum Sum : R3  =  [ 1  4  9 11 13 17 20 21]\n",
      "=============================================\n",
      "[8]\n",
      "=============================================\n",
      "[4 2 5]\n",
      "=============================================\n",
      "[-12   8]\n",
      "=============================================\n",
      "[4 2 5 3]\n",
      "=============================================\n",
      "[2 4 3 1]\n"
     ]
    }
   ],
   "source": [
    "import numpy as np\n",
    "R1 = np.array( [ -12 , 8 , 2 , 6  ])\n",
    "R2 = np.array( [   4 , 2 , 5 , 3  ])\n",
    "R3 = np.array( [[ 1 , 3 , 5 , 2 ] , [ 2 , 4 , 3 , 1 ]])\n",
    "\n",
    "\n",
    "print(\"R1 * R2 \" , \" = \" , R1*R2)\n",
    "print(\"=============================================\")\n",
    "print(\"R1 + R2 \" , \" = \" , R1+R2)\n",
    "print(\"=============================================\")\n",
    "print(\"R1 - R2 \" , \" = \" , R1-R2)\n",
    "print(\"=============================================\")\n",
    "print(\"R1 // R2 \" , \" = \" , R1//R2)\n",
    "print(\"=============================================\")\n",
    "print(\"R1 * 2 \" , \" = \" , R1*2)\n",
    "print(\"=============================================\")\n",
    "print(\"R2 * 3 \" , \" = \" , R2*3)\n",
    "print(\"=============================================\")\n",
    "print(\"R1 dot R2 \" , \" = \" , R1.dot(R2))\n",
    "print(\"=============================================\")\n",
    "print(\"R2 dot R1\" , \" = \" , R2.dot(R1))\n",
    "print(\"=============================================\")\n",
    "print(\"Sin : R1\" , \" = \" , np.sin(R1))\n",
    "print(\"=============================================\")\n",
    "print(\"Sin : R2\" , \" = \" , np.sin(R2))\n",
    "print(\"=============================================\")\n",
    "print(\"Sum : R1\" , \" = \" , R1.sum())\n",
    "print(\"=============================================\")\n",
    "print(\"Sum : R2\" , \" = \" , R2.sum())\n",
    "print(\"=============================================\")\n",
    "print(\"Max : R1\" , \" = \" , R1.max())\n",
    "print(\"=============================================\")\n",
    "print(\"Max : R2\" , \" = \" , R2.max())\n",
    "print(\"=============================================\")\n",
    "print(\"Min : R1\" , \" = \" , R1.min())\n",
    "print(\"=============================================\")\n",
    "print(\"Min : R2\" , \" = \" , R2.min())\n",
    "print(\"=============================================\")\n",
    "print(\"Mean : R1\" , \" = \" , R1.mean())\n",
    "print(\"=============================================\")\n",
    "print(\"Mean : R2\" , \" = \" , R2.mean())\n",
    "print(\"=============================================\")\n",
    "print(\"Median : R1\" , \" = \" , np.median(R1))\n",
    "print(\"=============================================\")\n",
    "print(\"Median : R2\" , \" = \" , np.median(R2))\n",
    "print(\"=============================================\")\n",
    "print(\"Average : R1\" , \" = \" , np.average(R1))\n",
    "print(\"=============================================\")\n",
    "print(\"verage : R2\" , \" = \" , np.average(R))\n",
    "print(\"=============================================\")\n",
    "print(\"Stander divsion : R1\" , \" = \" , np.std(R1))\n",
    "print(\"=============================================\")\n",
    "print(\"Standerdivsion : R2\" , \" = \" , np.std(R2))\n",
    "print(\"=============================================\")\n",
    "print(\"Variance : R1\" , \" = \" , np.var(R1))\n",
    "print(\"=============================================\")\n",
    "print(\"Variance : R2\" , \" = \" , np.var(R2))\n",
    "print(\"=============================================\")\n",
    "print(\"Cum Sum : R3\" , \" = \" , R3.cumsum())\n",
    "print(\"=============================================\")\n",
    "print(R1[1:2])\n",
    "print(\"=============================================\")\n",
    "print(R2[0:3])\n",
    "print(\"=============================================\")\n",
    "print(R1[:2])\n",
    "print(\"=============================================\")\n",
    "print(R2[0:])\n",
    "print(\"=============================================\")\n",
    "print(R3[-1])\n",
    "\n"
   ]
  },
  {
   "cell_type": "markdown",
   "metadata": {},
   "source": [
    "# Syntax of Numpy To Sort "
   ]
  },
  {
   "cell_type": "code",
   "execution_count": 24,
   "metadata": {},
   "outputs": [
    {
     "name": "stdout",
     "output_type": "stream",
     "text": [
      "[[ 9  5  4  2 11  7]\n",
      " [22 14 10  8  6  1]]\n",
      "=================================================================\n",
      "Arr quick sort : [[ 2  4  5  7  9 11]\n",
      " [ 1  6  8 10 14 22]]\n",
      "===========================================================\n",
      "Arr Merge sort : [[ 2  4  5  7  9 11]\n",
      " [ 1  6  8 10 14 22]]\n",
      "===========================================================\n",
      "Arr Heap sort : [[ 2  4  5  7  9 11]\n",
      " [ 1  6  8 10 14 22]]\n",
      "===========================================================\n",
      "Arr fllatend sort : [ 1  2  4  5  6  7  8  9 10 11 14 22]\n",
      "===========================================================\n",
      "Arr fllatend by quick sort : [ 1  2  4  5  6  7  8  9 10 11 14 22]\n"
     ]
    }
   ],
   "source": [
    "import numpy as np \n",
    " \n",
    "Arr = np.array( [ [ 9 , 5 , 4 , 2 , 11 , 7] , [ 22 , 14 , 10 , 8 , 6 , 1] ])\n",
    "print(Arr)\n",
    "print(\"=================================================================\")\n",
    "print(\"Arr quick sort :\" , np.sort( Arr , kind = \"quicksort\"))\n",
    "print(\"===========================================================\")\n",
    "print(\"Arr Merge sort :\" , np.sort( Arr , kind = \"mergesort\"))\n",
    "print(\"===========================================================\")\n",
    "print(\"Arr Heap sort :\" , np.sort( Arr , kind = \"heapsort\"))\n",
    "print(\"===========================================================\")\n",
    "print(\"Arr fllatend sort :\" , np.sort( Arr , axis = None))\n",
    "print(\"===========================================================\")\n",
    "print(\"Arr fllatend by quick sort :\" , np.sort( Arr , axis = None , kind = \"quicksort\"))\n",
    "\n"
   ]
  },
  {
   "cell_type": "markdown",
   "metadata": {},
   "source": [
    "# To View data With other dtype"
   ]
  },
  {
   "cell_type": "code",
   "execution_count": 2,
   "metadata": {},
   "outputs": [],
   "source": [
    "d = np.array([[1,5,9] , [4,7,3]] , dtype = \"i\")"
   ]
  },
  {
   "cell_type": "code",
   "execution_count": 3,
   "metadata": {},
   "outputs": [
    {
     "data": {
      "text/plain": [
       "array([[1, 5, 9],\n",
       "       [4, 7, 3]], dtype=int32)"
      ]
     },
     "execution_count": 3,
     "metadata": {},
     "output_type": "execute_result"
    }
   ],
   "source": [
    "d"
   ]
  },
  {
   "cell_type": "code",
   "execution_count": 5,
   "metadata": {},
   "outputs": [
    {
     "data": {
      "text/plain": [
       "array([[1.+0.j, 5.+0.j, 9.+0.j],\n",
       "       [4.+0.j, 7.+0.j, 3.+0.j]])"
      ]
     },
     "execution_count": 5,
     "metadata": {},
     "output_type": "execute_result"
    }
   ],
   "source": [
    "d.astype(\"complex\")"
   ]
  },
  {
   "cell_type": "code",
   "execution_count": 6,
   "metadata": {},
   "outputs": [
    {
     "data": {
      "text/plain": [
       "array([[1., 5., 9.],\n",
       "       [4., 7., 3.]], dtype=float32)"
      ]
     },
     "execution_count": 6,
     "metadata": {},
     "output_type": "execute_result"
    }
   ],
   "source": [
    "d.astype(\"f\")"
   ]
  },
  {
   "cell_type": "code",
   "execution_count": 8,
   "metadata": {},
   "outputs": [
    {
     "data": {
      "text/plain": [
       "array([[ True,  True,  True],\n",
       "       [ True,  True,  True]])"
      ]
     },
     "execution_count": 8,
     "metadata": {},
     "output_type": "execute_result"
    }
   ],
   "source": [
    "d.astype(\"bool\")"
   ]
  },
  {
   "cell_type": "code",
   "execution_count": 9,
   "metadata": {},
   "outputs": [
    {
     "data": {
      "text/plain": [
       "array([['1', '5', '9'],\n",
       "       ['4', '7', '3']], dtype='<U11')"
      ]
     },
     "execution_count": 9,
     "metadata": {},
     "output_type": "execute_result"
    }
   ],
   "source": [
    "d.astype(\"U\")"
   ]
  },
  {
   "cell_type": "markdown",
   "metadata": {},
   "source": [
    "# The diff of Copy() and view()"
   ]
  },
  {
   "cell_type": "code",
   "execution_count": 10,
   "metadata": {},
   "outputs": [
    {
     "data": {
      "text/plain": [
       "array([[1, 5, 9],\n",
       "       [4, 7, 3]], dtype=int32)"
      ]
     },
     "execution_count": 10,
     "metadata": {},
     "output_type": "execute_result"
    }
   ],
   "source": [
    "d"
   ]
  },
  {
   "cell_type": "code",
   "execution_count": 11,
   "metadata": {},
   "outputs": [],
   "source": [
    "C = d.copy()\n",
    "d[1,2] = 100\n",
    "V = d.view()"
   ]
  },
  {
   "cell_type": "code",
   "execution_count": 12,
   "metadata": {},
   "outputs": [
    {
     "data": {
      "text/plain": [
       "array([[  1,   5,   9],\n",
       "       [  4,   7, 100]], dtype=int32)"
      ]
     },
     "execution_count": 12,
     "metadata": {},
     "output_type": "execute_result"
    }
   ],
   "source": [
    "d"
   ]
  },
  {
   "cell_type": "code",
   "execution_count": 15,
   "metadata": {},
   "outputs": [
    {
     "data": {
      "text/plain": [
       "array([[1, 5, 9],\n",
       "       [4, 7, 3]], dtype=int32)"
      ]
     },
     "execution_count": 15,
     "metadata": {},
     "output_type": "execute_result"
    }
   ],
   "source": [
    "# Copy data after or befor ubdate based operation position\n",
    "C"
   ]
  },
  {
   "cell_type": "code",
   "execution_count": 16,
   "metadata": {},
   "outputs": [
    {
     "data": {
      "text/plain": [
       "array([[  1,   5,   9],\n",
       "       [  4,   7, 100]], dtype=int32)"
      ]
     },
     "execution_count": 16,
     "metadata": {},
     "output_type": "execute_result"
    }
   ],
   "source": [
    "# overwrite after update\n",
    "V"
   ]
  },
  {
   "cell_type": "markdown",
   "metadata": {},
   "source": [
    "# To get index of max ,min values in array of any dimention  axis = 0 >>Rows(horizontal) ,, axis = 1 >>Columns(Vertical) "
   ]
  },
  {
   "cell_type": "code",
   "execution_count": 17,
   "metadata": {},
   "outputs": [
    {
     "data": {
      "text/plain": [
       "5"
      ]
     },
     "execution_count": 17,
     "metadata": {},
     "output_type": "execute_result"
    }
   ],
   "source": [
    "V.argmax()"
   ]
  },
  {
   "cell_type": "code",
   "execution_count": 21,
   "metadata": {},
   "outputs": [
    {
     "data": {
      "text/plain": [
       "array([1, 1, 1], dtype=int64)"
      ]
     },
     "execution_count": 21,
     "metadata": {},
     "output_type": "execute_result"
    }
   ],
   "source": [
    "V.argmax(axis = 0)"
   ]
  },
  {
   "cell_type": "code",
   "execution_count": 22,
   "metadata": {},
   "outputs": [
    {
     "data": {
      "text/plain": [
       "array([2, 2], dtype=int64)"
      ]
     },
     "execution_count": 22,
     "metadata": {},
     "output_type": "execute_result"
    }
   ],
   "source": [
    "V.argmax(axis = 1)"
   ]
  },
  {
   "cell_type": "code",
   "execution_count": 23,
   "metadata": {},
   "outputs": [
    {
     "data": {
      "text/plain": [
       "0"
      ]
     },
     "execution_count": 23,
     "metadata": {},
     "output_type": "execute_result"
    }
   ],
   "source": [
    "V.argmin()"
   ]
  },
  {
   "cell_type": "code",
   "execution_count": 24,
   "metadata": {},
   "outputs": [
    {
     "data": {
      "text/plain": [
       "array([0, 0, 0], dtype=int64)"
      ]
     },
     "execution_count": 24,
     "metadata": {},
     "output_type": "execute_result"
    }
   ],
   "source": [
    "V.argmin(axis = 0)"
   ]
  },
  {
   "cell_type": "code",
   "execution_count": 25,
   "metadata": {},
   "outputs": [
    {
     "data": {
      "text/plain": [
       "array([0, 0], dtype=int64)"
      ]
     },
     "execution_count": 25,
     "metadata": {},
     "output_type": "execute_result"
    }
   ],
   "source": [
    "V.argmin(axis = 1)"
   ]
  },
  {
   "cell_type": "code",
   "execution_count": null,
   "metadata": {},
   "outputs": [],
   "source": []
  }
 ],
 "metadata": {
  "kernelspec": {
   "display_name": "Python 3",
   "language": "python",
   "name": "python3"
  },
  "language_info": {
   "codemirror_mode": {
    "name": "ipython",
    "version": 3
   },
   "file_extension": ".py",
   "mimetype": "text/x-python",
   "name": "python",
   "nbconvert_exporter": "python",
   "pygments_lexer": "ipython3",
   "version": "3.7.4"
  }
 },
 "nbformat": 4,
 "nbformat_minor": 2
}
