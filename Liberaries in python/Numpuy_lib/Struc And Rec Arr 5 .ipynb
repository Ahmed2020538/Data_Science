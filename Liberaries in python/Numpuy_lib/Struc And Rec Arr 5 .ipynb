{
 "cells": [
  {
   "cell_type": "markdown",
   "metadata": {},
   "source": [
    "# Structure Array"
   ]
  },
  {
   "cell_type": "markdown",
   "metadata": {},
   "source": [
    "# 1_dimentional"
   ]
  },
  {
   "cell_type": "code",
   "execution_count": 42,
   "metadata": {},
   "outputs": [
    {
     "name": "stdout",
     "output_type": "stream",
     "text": [
      "[('name', 'S6'), ('weight', 'f8'), ('height', 'f8'), ('adge', 'i8')]\n"
     ]
    }
   ],
   "source": [
    "import numpy as np\n",
    "Data_Structure_def = [('name','S6') ,('weight','f8') ,('height','f8') ,('adge','i8')]\n",
    "print(Data_Structure_def)\n"
   ]
  },
  {
   "cell_type": "code",
   "execution_count": 43,
   "metadata": {},
   "outputs": [
    {
     "name": "stdout",
     "output_type": "stream",
     "text": [
      "[(b'', 0., 0., 0) (b'', 0., 0., 0) (b'', 0., 0., 0) (b'', 0., 0., 0)]\n"
     ]
    }
   ],
   "source": [
    "A = np.zeros((4),dtype=Data_Structure_def)\n",
    "print(A)"
   ]
  },
  {
   "cell_type": "code",
   "execution_count": 50,
   "metadata": {},
   "outputs": [
    {
     "name": "stdout",
     "output_type": "stream",
     "text": [
      "[(b'',   0.,   0.,  0) (b'Ahmed',  70., 100., 34) (b'',   0.,   0.,  0)\n",
      " (b'Mido', 120., 100., 55)]\n",
      "=================================\n",
      "[(b'',   0.,   0.,  0) (b'Ahmed',  70., 100., 34) (b'',   0.,   0.,  0)\n",
      " (b'Mido', 120., 100., 55)]\n",
      "=================================\n",
      "[ 0 34  0 55]\n",
      "=================================\n",
      "[b'' b'Ahmed' b'' b'Mido']\n",
      "=================================\n",
      "[ 0.         11.33333333  0.         18.33333333]\n",
      "=================================\n",
      "[(b'',   0.,   0.,  0) (b'Ahmed',  70., 100., 34) (b'',   0.,   0.,  0)\n",
      " (b'Mido', 120., 100., 55)]\n"
     ]
    }
   ],
   "source": [
    "A[1] = (\"Ahmed\",70,100,34)\n",
    "A[3] = (\"Mido\",120,100,55)\n",
    "print(A)\n",
    "print(\"=================================\")\n",
    "print(A[0:])\n",
    "print(\"=================================\")\n",
    "Adges = A[\"adge\"]\n",
    "print(Adges)\n",
    "print(\"=================================\")\n",
    "Names = A[\"name\"]\n",
    "print(Names)\n",
    "print(\"=================================\")\n",
    "print(Adge/3)\n",
    "print(\"=================================\")\n",
    "print(A)\n"
   ]
  },
  {
   "cell_type": "markdown",
   "metadata": {},
   "source": [
    "# Multi_dimentional array"
   ]
  },
  {
   "cell_type": "code",
   "execution_count": 55,
   "metadata": {},
   "outputs": [
    {
     "name": "stdout",
     "output_type": "stream",
     "text": [
      "[[[(b'', 0., 0., 0) (b'', 0., 0., 0)]\n",
      "  [(b'', 0., 0., 0) (b'', 0., 0., 0)]\n",
      "  [(b'', 0., 0., 0) (b'', 0., 0., 0)]]\n",
      "\n",
      " [[(b'', 0., 0., 0) (b'', 0., 0., 0)]\n",
      "  [(b'', 0., 0., 0) (b'', 0., 0., 0)]\n",
      "  [(b'', 0., 0., 0) (b'', 0., 0., 0)]]\n",
      "\n",
      " [[(b'', 0., 0., 0) (b'', 0., 0., 0)]\n",
      "  [(b'', 0., 0., 0) (b'', 0., 0., 0)]\n",
      "  [(b'', 0., 0., 0) (b'', 0., 0., 0)]]\n",
      "\n",
      " [[(b'', 0., 0., 0) (b'', 0., 0., 0)]\n",
      "  [(b'', 0., 0., 0) (b'', 0., 0., 0)]\n",
      "  [(b'', 0., 0., 0) (b'', 0., 0., 0)]]]\n"
     ]
    }
   ],
   "source": [
    "B = np.zeros((4,3,2),dtype=Data_Structure_def)\n",
    "print(B)"
   ]
  },
  {
   "cell_type": "code",
   "execution_count": 62,
   "metadata": {},
   "outputs": [
    {
     "name": "stdout",
     "output_type": "stream",
     "text": [
      "[[[(b'',   0.,   0.,  0) (b'',   0.,   0.,  0)]\n",
      "  [(b'',   0.,   0.,  0) (b'',   0.,   0.,  0)]\n",
      "  [(b'',   0.,   0.,  0) (b'',   0.,   0.,  0)]]\n",
      "\n",
      " [[(b'',   0.,   0.,  0) (b'',   0.,   0.,  0)]\n",
      "  [(b'Ali',  70., 100., 20) (b'',   0.,   0.,  0)]\n",
      "  [(b'',   0.,   0.,  0) (b'',   0.,   0.,  0)]]\n",
      "\n",
      " [[(b'',   0.,   0.,  0) (b'',   0.,   0.,  0)]\n",
      "  [(b'',   0.,   0.,  0) (b'Taha', 100.,  80., 26)]\n",
      "  [(b'',   0.,   0.,  0) (b'Taha', 100.,  80., 26)]]\n",
      "\n",
      " [[(b'Ahmed',  90., 110., 30) (b'',   0.,   0.,  0)]\n",
      "  [(b'',   0.,   0.,  0) (b'',   0.,   0.,  0)]\n",
      "  [(b'',   0.,   0.,  0) (b'',   0.,   0.,  0)]]]\n",
      "=================================\n",
      "[[[ 0  0]\n",
      "  [ 0  0]\n",
      "  [ 0  0]]\n",
      "\n",
      " [[ 0  0]\n",
      "  [20  0]\n",
      "  [ 0  0]]\n",
      "\n",
      " [[ 0  0]\n",
      "  [ 0 26]\n",
      "  [ 0 26]]\n",
      "\n",
      " [[30  0]\n",
      "  [ 0  0]\n",
      "  [ 0  0]]]\n",
      "=================================\n",
      "[[[ 0  0]\n",
      "  [ 0  0]\n",
      "  [ 0  0]]\n",
      "\n",
      " [[ 0  0]\n",
      "  [10  0]\n",
      "  [ 0  0]]\n",
      "\n",
      " [[ 0  0]\n",
      "  [ 0 13]\n",
      "  [ 0 13]]\n",
      "\n",
      " [[15  0]\n",
      "  [ 0  0]\n",
      "  [ 0  0]]]\n",
      "=================================\n",
      "[[[  0.   0.]\n",
      "  [  0.   0.]\n",
      "  [  0.   0.]]\n",
      "\n",
      " [[  0.   0.]\n",
      "  [100.   0.]\n",
      "  [  0.   0.]]\n",
      "\n",
      " [[  0.   0.]\n",
      "  [  0.  80.]\n",
      "  [  0.  80.]]\n",
      "\n",
      " [[110.   0.]\n",
      "  [  0.   0.]\n",
      "  [  0.   0.]]]\n"
     ]
    }
   ],
   "source": [
    "B[1,1,0] = (\"Ali\",70,100,20)\n",
    "B[2,1,1] = (\"Taha\",100,80,26)\n",
    "B[3,0,0] = (\"Ahmed\",90,110,30)\n",
    "print(B)\n",
    "print(\"=================================\")\n",
    "Adge=B[\"adge\"]\n",
    "print(Adge)\n",
    "print(\"=================================\")\n",
    "print(Adge//2)\n",
    "print(\"=================================\")\n",
    "Height =B[\"height\"]\n",
    "print(Height)"
   ]
  },
  {
   "cell_type": "markdown",
   "metadata": {},
   "source": [
    "# Array_Recording"
   ]
  },
  {
   "cell_type": "code",
   "execution_count": 70,
   "metadata": {},
   "outputs": [
    {
     "name": "stdout",
     "output_type": "stream",
     "text": [
      "[(b'Ahmed',  70., 100., 34) (b'Mido', 120., 100., 55)]\n",
      "===============\n",
      "34\n",
      "===============\n",
      "b'Mido'\n",
      "===============\n",
      "70.0\n",
      "===============\n",
      "120.0\n"
     ]
    }
   ],
   "source": [
    "R = np.rec.array([(\"Ahmed\",70,100,34), (\"Mido\",120,100,55) ], dtype = Data_Structure_def) \n",
    "print(R)\n",
    "print(\"===============\")\n",
    "print(R[0].adge)\n",
    "print(\"===============\")\n",
    "print(R[1].name)\n",
    "print(\"===============\")\n",
    "print(R[0].weight)\n",
    "print(\"===============\")\n",
    "print(R[1].weight)"
   ]
  },
  {
   "cell_type": "markdown",
   "metadata": {},
   "source": [
    "# Some Function In Numpy"
   ]
  },
  {
   "cell_type": "code",
   "execution_count": 1,
   "metadata": {},
   "outputs": [
    {
     "name": "stdout",
     "output_type": "stream",
     "text": [
      "[[[ 0  1  2  3]\n",
      "  [ 4  5  6  7]\n",
      "  [ 8  9 10 11]]\n",
      "\n",
      " [[12 13 14 15]\n",
      "  [16 17 18 19]\n",
      "  [20 21 22 23]]]\n",
      "=================================\n",
      "393583075776\n",
      "=================================\n",
      "(2, 3, 4)\n",
      "=================================\n",
      "3\n",
      "=================================\n",
      "24\n",
      "=================================\n",
      "4\n",
      "=================================\n",
      "2\n",
      "=================================\n",
      "int32\n",
      "=================================\n",
      "<class 'numpy.ndarray'>\n"
     ]
    }
   ],
   "source": [
    "import numpy as np\n",
    "Z = np.arange(24).reshape(2,3,4)\n",
    "print(Z)\n",
    "print(\"=================================\")\n",
    "print(id(Z))\n",
    "print(\"=================================\")\n",
    "print(Z.shape)\n",
    "print(\"=================================\")\n",
    "print(Z.ndim)\n",
    "print(\"=================================\")\n",
    "print(Z.size)\n",
    "print(\"=================================\")\n",
    "print(Z.itemsize)\n",
    "print(\"=================================\")\n",
    "print(len(Z))\n",
    "print(\"=================================\")\n",
    "print(Z.dtype)\n",
    "print(\"=================================\")\n",
    "print(type(Z))\n"
   ]
  },
  {
   "cell_type": "code",
   "execution_count": null,
   "metadata": {},
   "outputs": [],
   "source": []
  }
 ],
 "metadata": {
  "kernelspec": {
   "display_name": "Python 3",
   "language": "python",
   "name": "python3"
  },
  "language_info": {
   "codemirror_mode": {
    "name": "ipython",
    "version": 3
   },
   "file_extension": ".py",
   "mimetype": "text/x-python",
   "name": "python",
   "nbconvert_exporter": "python",
   "pygments_lexer": "ipython3",
   "version": "3.7.4"
  },
  "widgets": {
   "application/vnd.jupyter.widget-state+json": {
    "state": {},
    "version_major": 2,
    "version_minor": 0
   }
  }
 },
 "nbformat": 4,
 "nbformat_minor": 2
}
