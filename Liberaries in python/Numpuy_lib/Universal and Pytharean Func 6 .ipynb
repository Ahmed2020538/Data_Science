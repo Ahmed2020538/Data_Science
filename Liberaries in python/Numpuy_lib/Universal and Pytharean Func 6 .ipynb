{
 "cells": [
  {
   "cell_type": "markdown",
   "metadata": {},
   "source": [
    "# Unniversal Fun"
   ]
  },
  {
   "cell_type": "markdown",
   "metadata": {},
   "source": [
    " # 1 Create Func Module"
   ]
  },
  {
   "cell_type": "code",
   "execution_count": 3,
   "metadata": {},
   "outputs": [],
   "source": [
    "import numpy as np\n",
    "def truncated_binomial (X) :\n",
    "    return (X+1)**3 - (X)**3"
   ]
  },
  {
   "cell_type": "markdown",
   "metadata": {},
   "source": [
    "# Error Func"
   ]
  },
  {
   "cell_type": "code",
   "execution_count": 9,
   "metadata": {},
   "outputs": [],
   "source": [
    "#np.testing.assert_equal(truncated_binomial(4),61)\n",
    "#np.testing.assert_equal(truncated_binomial(4),65)"
   ]
  },
  {
   "cell_type": "markdown",
   "metadata": {},
   "source": [
    " # 2 Create Func in Nupy"
   ]
  },
  {
   "cell_type": "code",
   "execution_count": 10,
   "metadata": {},
   "outputs": [
    {
     "name": "stdout",
     "output_type": "stream",
     "text": [
      "<ufunc '? (vectorized)'>\n"
     ]
    }
   ],
   "source": [
    "NP_Func = np.frompyfunc ( truncated_binomial , 1 , 1)\n",
    "print(NP_Func)"
   ]
  },
  {
   "cell_type": "markdown",
   "metadata": {},
   "source": [
    " # 3 Create Arr And implementation Fun on it"
   ]
  },
  {
   "cell_type": "code",
   "execution_count": 11,
   "metadata": {},
   "outputs": [
    {
     "name": "stdout",
     "output_type": "stream",
     "text": [
      "[0 1 2 3 4 5 6 7 8 9]\n",
      "===========================\n",
      "===========================\n",
      "[1 7 19 37 61 91 127 169 217 271]\n"
     ]
    }
   ],
   "source": [
    "T_Func = np.arange(10)\n",
    "print(T_Func)\n",
    "print(\"===========================\")\n",
    "print(\"===========================\")\n",
    "print(NP_Func(T_Func))"
   ]
  },
  {
   "cell_type": "markdown",
   "metadata": {},
   "source": [
    " # 4 Get Big Test Fun"
   ]
  },
  {
   "cell_type": "code",
   "execution_count": 13,
   "metadata": {},
   "outputs": [
    {
     "name": "stdout",
     "output_type": "stream",
     "text": [
      "[[ 0  0  0  0  0  0  0  0  0  0]\n",
      " [ 0  1  2  3  4  5  6  7  8  9]\n",
      " [ 0  2  4  6  8 10 12 14 16 18]\n",
      " [ 0  3  6  9 12 15 18 21 24 27]\n",
      " [ 0  4  8 12 16 20 24 28 32 36]\n",
      " [ 0  5 10 15 20 25 30 35 40 45]\n",
      " [ 0  6 12 18 24 30 36 42 48 54]\n",
      " [ 0  7 14 21 28 35 42 49 56 63]\n",
      " [ 0  8 16 24 32 40 48 56 64 72]\n",
      " [ 0  9 18 27 36 45 54 63 72 81]]\n"
     ]
    }
   ],
   "source": [
    "B_T_Func = np.outer( T_Func , T_Func )\n",
    "print(B_T_Func)"
   ]
  },
  {
   "cell_type": "markdown",
   "metadata": {},
   "source": [
    " # 5 implementation Numpy Func On T_Func   and  On  B_T_Func "
   ]
  },
  {
   "cell_type": "code",
   "execution_count": 15,
   "metadata": {},
   "outputs": [
    {
     "name": "stdout",
     "output_type": "stream",
     "text": [
      "[1 7 19 37 61 91 127 169 217 271]\n",
      "===========================\n",
      "===========================\n",
      "===========================\n",
      "[[1 1 1 1 1 1 1 1 1 1]\n",
      " [1 7 19 37 61 91 127 169 217 271]\n",
      " [1 19 61 127 217 331 469 631 817 1027]\n",
      " [1 37 127 271 469 721 1027 1387 1801 2269]\n",
      " [1 61 217 469 817 1261 1801 2437 3169 3997]\n",
      " [1 91 331 721 1261 1951 2791 3781 4921 6211]\n",
      " [1 127 469 1027 1801 2791 3997 5419 7057 8911]\n",
      " [1 169 631 1387 2437 3781 5419 7351 9577 12097]\n",
      " [1 217 817 1801 3169 4921 7057 9577 12481 15769]\n",
      " [1 271 1027 2269 3997 6211 8911 12097 15769 19927]]\n"
     ]
    }
   ],
   "source": [
    "print(NP_Func(T_Func))\n",
    "\n",
    "print(\"===========================\")\n",
    "print(\"===========================\")\n",
    "print(\"===========================\")\n",
    "\n",
    "print(NP_Func(B_T_Func))"
   ]
  },
  {
   "cell_type": "markdown",
   "metadata": {},
   "source": [
    "# Pythagorean Triplet"
   ]
  },
  {
   "cell_type": "code",
   "execution_count": 21,
   "metadata": {},
   "outputs": [],
   "source": [
    "import numpy as np\n",
    "def is_integer (X) :\n",
    "    return np.equal(np.mod(X,1) , 0)\n",
    "\n",
    "    \n",
    "    "
   ]
  },
  {
   "cell_type": "code",
   "execution_count": 22,
   "metadata": {},
   "outputs": [],
   "source": [
    "Np_Int = np.frompyfunc( is_integer , 1 , 1)"
   ]
  },
  {
   "cell_type": "code",
   "execution_count": 24,
   "metadata": {},
   "outputs": [
    {
     "name": "stdout",
     "output_type": "stream",
     "text": [
      "[[False False False False False False False False False]\n",
      " [False False False False False False False False False]\n",
      " [False False False True False False False False False]\n",
      " [False False True False False False False False False]\n",
      " [False False False False False False False False False]\n",
      " [False False False False False False False True False]\n",
      " [False False False False False False False False False]\n",
      " [False False False False False True False False False]\n",
      " [False False False False False False False False False]]\n"
     ]
    }
   ],
   "source": [
    "Num_Tringle = 9\n",
    "Base = np.arange( Num_Tringle ) +1\n",
    "Height = np.arange( Num_Tringle ) +1\n",
    "\n",
    "Hyposes_sqr_func = np.add.outer( Base**2 , Height**2)\n",
    "Hyposes_T = np.sqrt(Hyposes_sqr_func)\n",
    "print(Np_Int(Hyposes_T))\n",
    "\n"
   ]
  },
  {
   "cell_type": "code",
   "execution_count": null,
   "metadata": {},
   "outputs": [],
   "source": []
  }
 ],
 "metadata": {
  "kernelspec": {
   "display_name": "Python 3",
   "language": "python",
   "name": "python3"
  },
  "language_info": {
   "codemirror_mode": {
    "name": "ipython",
    "version": 3
   },
   "file_extension": ".py",
   "mimetype": "text/x-python",
   "name": "python",
   "nbconvert_exporter": "python",
   "pygments_lexer": "ipython3",
   "version": "3.7.4"
  },
  "widgets": {
   "application/vnd.jupyter.widget-state+json": {
    "state": {},
    "version_major": 2,
    "version_minor": 0
   }
  }
 },
 "nbformat": 4,
 "nbformat_minor": 2
}
