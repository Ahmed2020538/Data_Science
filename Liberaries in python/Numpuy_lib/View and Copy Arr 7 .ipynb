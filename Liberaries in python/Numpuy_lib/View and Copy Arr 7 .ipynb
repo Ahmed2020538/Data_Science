{
 "cells": [
  {
   "cell_type": "markdown",
   "metadata": {},
   "source": [
    "# Compare Btween Arrays"
   ]
  },
  {
   "cell_type": "code",
   "execution_count": 2,
   "metadata": {},
   "outputs": [
    {
     "name": "stdout",
     "output_type": "stream",
     "text": [
      "[ 10  15 -12  80  33   7]\n",
      "=================================\n",
      "117204793584\n"
     ]
    }
   ],
   "source": [
    "import numpy as np\n",
    "A = np.array()\n",
    "print(A)\n",
    "print(\"=================================\")\n",
    "print(id(A))"
   ]
  },
  {
   "cell_type": "code",
   "execution_count": 3,
   "metadata": {},
   "outputs": [
    {
     "name": "stdout",
     "output_type": "stream",
     "text": [
      "[ 10  15 -12  80  33   7]\n",
      "=================================\n",
      "117204793584\n"
     ]
    }
   ],
   "source": [
    "B=A\n",
    "print(B)\n",
    "print(\"=================================\")\n",
    "print(id(B))"
   ]
  },
  {
   "cell_type": "code",
   "execution_count": 4,
   "metadata": {},
   "outputs": [
    {
     "data": {
      "text/plain": [
       "True"
      ]
     },
     "execution_count": 4,
     "metadata": {},
     "output_type": "execute_result"
    }
   ],
   "source": [
    "A is B"
   ]
  },
  {
   "cell_type": "code",
   "execution_count": 5,
   "metadata": {},
   "outputs": [
    {
     "data": {
      "text/plain": [
       "array([ True,  True,  True,  True,  True,  True])"
      ]
     },
     "execution_count": 5,
     "metadata": {},
     "output_type": "execute_result"
    }
   ],
   "source": [
    "A==B"
   ]
  },
  {
   "cell_type": "code",
   "execution_count": 7,
   "metadata": {},
   "outputs": [
    {
     "name": "stdout",
     "output_type": "stream",
     "text": [
      "[20 15 12 80 33  7]\n",
      "=================================\n",
      "[20 15 12 80 33  7]\n",
      "=================================\n",
      "117204793584\n",
      "=================================\n",
      "117204793584\n"
     ]
    }
   ],
   "source": [
    "A[0] = 20\n",
    "A[2] = 12\n",
    "print(A)\n",
    "print(\"=================================\")\n",
    "print(B)\n",
    "print(\"=================================\")\n",
    "print(id(A))\n",
    "print(\"=================================\")\n",
    "print(id(B))"
   ]
  },
  {
   "cell_type": "code",
   "execution_count": 23,
   "metadata": {},
   "outputs": [
    {
     "name": "stdout",
     "output_type": "stream",
     "text": [
      "[ 10  15 -12  80  33   7]\n",
      "=================================\n",
      "117165217552\n",
      "=================================\n",
      "[ 20  15 200  80 100   7]\n",
      "=================================\n",
      "117204793584\n",
      "=================================\n"
     ]
    },
    {
     "data": {
      "text/plain": [
       "False"
      ]
     },
     "execution_count": 23,
     "metadata": {},
     "output_type": "execute_result"
    }
   ],
   "source": [
    "C = np.array([10,15,-12,80,33,7])\n",
    "print(C)\n",
    "print(\"=================================\")\n",
    "print(id(C))\n",
    "print(\"=================================\")\n",
    "print(A)\n",
    "print(\"=================================\")\n",
    "\n",
    "print(id(A))\n",
    "\n",
    "print(\"=================================\")\n",
    "\n",
    "C is A\n",
    "\n",
    "\n",
    "\n"
   ]
  },
  {
   "cell_type": "code",
   "execution_count": 24,
   "metadata": {},
   "outputs": [
    {
     "name": "stdout",
     "output_type": "stream",
     "text": [
      "[ 10  15 200  80 100   7]\n"
     ]
    }
   ],
   "source": [
    "C[4]=100\n",
    "C[2]=200\n",
    "print(C)\n"
   ]
  },
  {
   "cell_type": "code",
   "execution_count": 25,
   "metadata": {},
   "outputs": [
    {
     "data": {
      "text/plain": [
       "False"
      ]
     },
     "execution_count": 25,
     "metadata": {},
     "output_type": "execute_result"
    }
   ],
   "source": [
    "C is B"
   ]
  },
  {
   "cell_type": "code",
   "execution_count": 26,
   "metadata": {},
   "outputs": [
    {
     "data": {
      "text/plain": [
       "False"
      ]
     },
     "execution_count": 26,
     "metadata": {},
     "output_type": "execute_result"
    }
   ],
   "source": [
    "C is A"
   ]
  },
  {
   "cell_type": "code",
   "execution_count": 31,
   "metadata": {},
   "outputs": [
    {
     "name": "stdout",
     "output_type": "stream",
     "text": [
      "[False  True  True  True  True  True]\n",
      "=================================\n",
      "[False  True  True  True  True  True]\n",
      "=================================\n",
      "117165217552\n",
      "=================================\n",
      "117204793584\n",
      "=================================\n",
      "117204793584\n"
     ]
    }
   ],
   "source": [
    "print(C == B)\n",
    "print(\"=================================\")\n",
    "\n",
    "print(C == A)\n",
    "print(\"=================================\")\n",
    "\n",
    "print(id(C))\n",
    "print(\"=================================\")\n",
    "\n",
    "print(id(A))\n",
    "print(\"=================================\")\n",
    "\n",
    "print(id(B))"
   ]
  },
  {
   "cell_type": "markdown",
   "metadata": {},
   "source": [
    "# View : Show Copy"
   ]
  },
  {
   "cell_type": "code",
   "execution_count": 35,
   "metadata": {},
   "outputs": [
    {
     "name": "stdout",
     "output_type": "stream",
     "text": [
      "[ 10  15 200  80 100   7]\n",
      "=================================\n",
      "117165217552\n",
      "=================================\n",
      "[ 10  15 200  80 100   7]\n",
      "[[ 10  15 200]\n",
      " [ 80 100   7]]\n",
      "=================================\n",
      "117165218352\n",
      "=================================\n",
      "False\n",
      "=================================\n",
      "[ True  True  True  True  True  True]\n"
     ]
    }
   ],
   "source": [
    "F = C.view()\n",
    "print(C)\n",
    "print(\"=================================\")\n",
    "print(id(C))\n",
    "print(\"=================================\")\n",
    "print(F)\n",
    "print(\"=================================\")\n",
    "\n",
    "print(F.reshape(2,3))\n",
    "print(\"=================================\")\n",
    "print(id(F))\n",
    "\n",
    "print(\"=================================\")\n",
    "print(F is C)\n",
    "print(\"=================================\")\n",
    "print(F == C)"
   ]
  },
  {
   "cell_type": "code",
   "execution_count": 37,
   "metadata": {},
   "outputs": [
    {
     "name": "stdout",
     "output_type": "stream",
     "text": [
      "[ 11  15 200  80 100   7]\n",
      "=================================\n",
      "[ 11  15 200  80 100   7]\n"
     ]
    }
   ],
   "source": [
    "F[0]=11\n",
    "print(F)\n",
    "print(\"=================================\")\n",
    "print(C)"
   ]
  },
  {
   "cell_type": "markdown",
   "metadata": {},
   "source": [
    "# Deep Copy"
   ]
  },
  {
   "cell_type": "code",
   "execution_count": 40,
   "metadata": {},
   "outputs": [
    {
     "name": "stdout",
     "output_type": "stream",
     "text": [
      "[ 11  15 200  80 100   7]\n",
      "=================================\n",
      "[121  15 200  80 100   7]\n",
      "=================================\n",
      "117165217552\n",
      "=================================\n",
      "117165253456\n",
      "=================================\n",
      "False\n",
      "=================================\n",
      "[False  True  True  True  True  True]\n"
     ]
    }
   ],
   "source": [
    " W = np.copy(C)\n",
    "W[0]=121\n",
    "print(C)\n",
    "print(\"=================================\")\n",
    "print(W)\n",
    "print(\"=================================\")\n",
    "print(id(C))\n",
    "print(\"=================================\")\n",
    "print(id(W))\n",
    "print(\"=================================\")\n",
    "\n",
    "print(W is C)\n",
    "print(\"=================================\")\n",
    "print(W == C)\n"
   ]
  },
  {
   "cell_type": "code",
   "execution_count": null,
   "metadata": {},
   "outputs": [],
   "source": []
  }
 ],
 "metadata": {
  "kernelspec": {
   "display_name": "Python 3",
   "language": "python",
   "name": "python3"
  },
  "language_info": {
   "codemirror_mode": {
    "name": "ipython",
    "version": 3
   },
   "file_extension": ".py",
   "mimetype": "text/x-python",
   "name": "python",
   "nbconvert_exporter": "python",
   "pygments_lexer": "ipython3",
   "version": "3.7.4"
  },
  "widgets": {
   "application/vnd.jupyter.widget-state+json": {
    "state": {},
    "version_major": 2,
    "version_minor": 0
   }
  }
 },
 "nbformat": 4,
 "nbformat_minor": 2
}
