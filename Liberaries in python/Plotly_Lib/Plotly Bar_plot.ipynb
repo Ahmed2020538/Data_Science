{
 "cells": [
  {
   "cell_type": "code",
   "execution_count": 1,
   "id": "a2ba4eb5",
   "metadata": {},
   "outputs": [],
   "source": [
    "# import all requried packages and frameworks ::\n",
    "import numpy     as np\n",
    "import pandas    as pd\n",
    "import seaborn   as sns\n",
    "import cufflinks as cf\n",
    "import plotly\n",
    "import chart_studio.plotly   as py\n",
    "import plotly.express        as px\n",
    "import plotly.figure_factory as ff\n",
    "import plotly.graph_objects  as go\n",
    "import matplotlib.pyplot     as plt\n",
    "from plotly.offline import download_plotlyjs , init_notebook_mode , plot , iplot\n",
    "\n"
   ]
  },
  {
   "cell_type": "code",
   "execution_count": 2,
   "id": "5e1e143a",
   "metadata": {},
   "outputs": [
    {
     "data": {
      "text/html": [
       "        <script type=\"text/javascript\">\n",
       "        window.PlotlyConfig = {MathJaxConfig: 'local'};\n",
       "        if (window.MathJax) {MathJax.Hub.Config({SVG: {font: \"STIX-Web\"}});}\n",
       "        if (typeof require !== 'undefined') {\n",
       "        require.undef(\"plotly\");\n",
       "        requirejs.config({\n",
       "            paths: {\n",
       "                'plotly': ['https://cdn.plot.ly/plotly-2.3.1.min']\n",
       "            }\n",
       "        });\n",
       "        require(['plotly'], function(Plotly) {\n",
       "            window._Plotly = Plotly;\n",
       "        });\n",
       "        }\n",
       "        </script>\n",
       "        "
      ]
     },
     "metadata": {},
     "output_type": "display_data"
    },
    {
     "data": {
      "text/html": [
       "        <script type=\"text/javascript\">\n",
       "        window.PlotlyConfig = {MathJaxConfig: 'local'};\n",
       "        if (window.MathJax) {MathJax.Hub.Config({SVG: {font: \"STIX-Web\"}});}\n",
       "        if (typeof require !== 'undefined') {\n",
       "        require.undef(\"plotly\");\n",
       "        requirejs.config({\n",
       "            paths: {\n",
       "                'plotly': ['https://cdn.plot.ly/plotly-2.3.1.min']\n",
       "            }\n",
       "        });\n",
       "        require(['plotly'], function(Plotly) {\n",
       "            window._Plotly = Plotly;\n",
       "        });\n",
       "        }\n",
       "        </script>\n",
       "        "
      ]
     },
     "metadata": {},
     "output_type": "display_data"
    }
   ],
   "source": [
    "# set Some Instructions and Rules ::\n",
    "%matplotlib inline\n",
    "sns.set(rc = {\"figure.figsize\" : [30 , 20]} , font_scale = 1.9)\n",
    "init_notebook_mode(connected=True)\n",
    "cf.go_offline()\n"
   ]
  },
  {
   "cell_type": "code",
   "execution_count": 3,
   "id": "90c4c28c",
   "metadata": {},
   "outputs": [],
   "source": [
    "# load data sets \n",
    "df1 = px.data.iris()\n",
    "df2 = px.data.tips()\n",
    "df3 = px.data.stocks()\n",
    "df4 = px.data.gapminder()\n"
   ]
  },
  {
   "cell_type": "code",
   "execution_count": 4,
   "id": "d26a1c8a",
   "metadata": {},
   "outputs": [
    {
     "data": {
      "text/html": [
       "<div>\n",
       "<style scoped>\n",
       "    .dataframe tbody tr th:only-of-type {\n",
       "        vertical-align: middle;\n",
       "    }\n",
       "\n",
       "    .dataframe tbody tr th {\n",
       "        vertical-align: top;\n",
       "    }\n",
       "\n",
       "    .dataframe thead th {\n",
       "        text-align: right;\n",
       "    }\n",
       "</style>\n",
       "<table border=\"1\" class=\"dataframe\">\n",
       "  <thead>\n",
       "    <tr style=\"text-align: right;\">\n",
       "      <th></th>\n",
       "      <th>sepal_length</th>\n",
       "      <th>sepal_width</th>\n",
       "      <th>petal_length</th>\n",
       "      <th>petal_width</th>\n",
       "      <th>species</th>\n",
       "      <th>species_id</th>\n",
       "    </tr>\n",
       "  </thead>\n",
       "  <tbody>\n",
       "    <tr>\n",
       "      <th>0</th>\n",
       "      <td>5.1</td>\n",
       "      <td>3.5</td>\n",
       "      <td>1.4</td>\n",
       "      <td>0.2</td>\n",
       "      <td>setosa</td>\n",
       "      <td>1</td>\n",
       "    </tr>\n",
       "    <tr>\n",
       "      <th>1</th>\n",
       "      <td>4.9</td>\n",
       "      <td>3.0</td>\n",
       "      <td>1.4</td>\n",
       "      <td>0.2</td>\n",
       "      <td>setosa</td>\n",
       "      <td>1</td>\n",
       "    </tr>\n",
       "    <tr>\n",
       "      <th>2</th>\n",
       "      <td>4.7</td>\n",
       "      <td>3.2</td>\n",
       "      <td>1.3</td>\n",
       "      <td>0.2</td>\n",
       "      <td>setosa</td>\n",
       "      <td>1</td>\n",
       "    </tr>\n",
       "    <tr>\n",
       "      <th>3</th>\n",
       "      <td>4.6</td>\n",
       "      <td>3.1</td>\n",
       "      <td>1.5</td>\n",
       "      <td>0.2</td>\n",
       "      <td>setosa</td>\n",
       "      <td>1</td>\n",
       "    </tr>\n",
       "    <tr>\n",
       "      <th>4</th>\n",
       "      <td>5.0</td>\n",
       "      <td>3.6</td>\n",
       "      <td>1.4</td>\n",
       "      <td>0.2</td>\n",
       "      <td>setosa</td>\n",
       "      <td>1</td>\n",
       "    </tr>\n",
       "    <tr>\n",
       "      <th>...</th>\n",
       "      <td>...</td>\n",
       "      <td>...</td>\n",
       "      <td>...</td>\n",
       "      <td>...</td>\n",
       "      <td>...</td>\n",
       "      <td>...</td>\n",
       "    </tr>\n",
       "    <tr>\n",
       "      <th>145</th>\n",
       "      <td>6.7</td>\n",
       "      <td>3.0</td>\n",
       "      <td>5.2</td>\n",
       "      <td>2.3</td>\n",
       "      <td>virginica</td>\n",
       "      <td>3</td>\n",
       "    </tr>\n",
       "    <tr>\n",
       "      <th>146</th>\n",
       "      <td>6.3</td>\n",
       "      <td>2.5</td>\n",
       "      <td>5.0</td>\n",
       "      <td>1.9</td>\n",
       "      <td>virginica</td>\n",
       "      <td>3</td>\n",
       "    </tr>\n",
       "    <tr>\n",
       "      <th>147</th>\n",
       "      <td>6.5</td>\n",
       "      <td>3.0</td>\n",
       "      <td>5.2</td>\n",
       "      <td>2.0</td>\n",
       "      <td>virginica</td>\n",
       "      <td>3</td>\n",
       "    </tr>\n",
       "    <tr>\n",
       "      <th>148</th>\n",
       "      <td>6.2</td>\n",
       "      <td>3.4</td>\n",
       "      <td>5.4</td>\n",
       "      <td>2.3</td>\n",
       "      <td>virginica</td>\n",
       "      <td>3</td>\n",
       "    </tr>\n",
       "    <tr>\n",
       "      <th>149</th>\n",
       "      <td>5.9</td>\n",
       "      <td>3.0</td>\n",
       "      <td>5.1</td>\n",
       "      <td>1.8</td>\n",
       "      <td>virginica</td>\n",
       "      <td>3</td>\n",
       "    </tr>\n",
       "  </tbody>\n",
       "</table>\n",
       "<p>150 rows × 6 columns</p>\n",
       "</div>"
      ],
      "text/plain": [
       "     sepal_length  sepal_width  petal_length  petal_width    species  \\\n",
       "0             5.1          3.5           1.4          0.2     setosa   \n",
       "1             4.9          3.0           1.4          0.2     setosa   \n",
       "2             4.7          3.2           1.3          0.2     setosa   \n",
       "3             4.6          3.1           1.5          0.2     setosa   \n",
       "4             5.0          3.6           1.4          0.2     setosa   \n",
       "..            ...          ...           ...          ...        ...   \n",
       "145           6.7          3.0           5.2          2.3  virginica   \n",
       "146           6.3          2.5           5.0          1.9  virginica   \n",
       "147           6.5          3.0           5.2          2.0  virginica   \n",
       "148           6.2          3.4           5.4          2.3  virginica   \n",
       "149           5.9          3.0           5.1          1.8  virginica   \n",
       "\n",
       "     species_id  \n",
       "0             1  \n",
       "1             1  \n",
       "2             1  \n",
       "3             1  \n",
       "4             1  \n",
       "..          ...  \n",
       "145           3  \n",
       "146           3  \n",
       "147           3  \n",
       "148           3  \n",
       "149           3  \n",
       "\n",
       "[150 rows x 6 columns]"
      ]
     },
     "execution_count": 4,
     "metadata": {},
     "output_type": "execute_result"
    }
   ],
   "source": [
    "df1"
   ]
  },
  {
   "cell_type": "code",
   "execution_count": 5,
   "id": "e56116d7",
   "metadata": {},
   "outputs": [
    {
     "data": {
      "text/html": [
       "<div>\n",
       "<style scoped>\n",
       "    .dataframe tbody tr th:only-of-type {\n",
       "        vertical-align: middle;\n",
       "    }\n",
       "\n",
       "    .dataframe tbody tr th {\n",
       "        vertical-align: top;\n",
       "    }\n",
       "\n",
       "    .dataframe thead th {\n",
       "        text-align: right;\n",
       "    }\n",
       "</style>\n",
       "<table border=\"1\" class=\"dataframe\">\n",
       "  <thead>\n",
       "    <tr style=\"text-align: right;\">\n",
       "      <th></th>\n",
       "      <th>total_bill</th>\n",
       "      <th>tip</th>\n",
       "      <th>sex</th>\n",
       "      <th>smoker</th>\n",
       "      <th>day</th>\n",
       "      <th>time</th>\n",
       "      <th>size</th>\n",
       "    </tr>\n",
       "  </thead>\n",
       "  <tbody>\n",
       "    <tr>\n",
       "      <th>0</th>\n",
       "      <td>16.99</td>\n",
       "      <td>1.01</td>\n",
       "      <td>Female</td>\n",
       "      <td>No</td>\n",
       "      <td>Sun</td>\n",
       "      <td>Dinner</td>\n",
       "      <td>2</td>\n",
       "    </tr>\n",
       "    <tr>\n",
       "      <th>1</th>\n",
       "      <td>10.34</td>\n",
       "      <td>1.66</td>\n",
       "      <td>Male</td>\n",
       "      <td>No</td>\n",
       "      <td>Sun</td>\n",
       "      <td>Dinner</td>\n",
       "      <td>3</td>\n",
       "    </tr>\n",
       "    <tr>\n",
       "      <th>2</th>\n",
       "      <td>21.01</td>\n",
       "      <td>3.50</td>\n",
       "      <td>Male</td>\n",
       "      <td>No</td>\n",
       "      <td>Sun</td>\n",
       "      <td>Dinner</td>\n",
       "      <td>3</td>\n",
       "    </tr>\n",
       "    <tr>\n",
       "      <th>3</th>\n",
       "      <td>23.68</td>\n",
       "      <td>3.31</td>\n",
       "      <td>Male</td>\n",
       "      <td>No</td>\n",
       "      <td>Sun</td>\n",
       "      <td>Dinner</td>\n",
       "      <td>2</td>\n",
       "    </tr>\n",
       "    <tr>\n",
       "      <th>4</th>\n",
       "      <td>24.59</td>\n",
       "      <td>3.61</td>\n",
       "      <td>Female</td>\n",
       "      <td>No</td>\n",
       "      <td>Sun</td>\n",
       "      <td>Dinner</td>\n",
       "      <td>4</td>\n",
       "    </tr>\n",
       "    <tr>\n",
       "      <th>...</th>\n",
       "      <td>...</td>\n",
       "      <td>...</td>\n",
       "      <td>...</td>\n",
       "      <td>...</td>\n",
       "      <td>...</td>\n",
       "      <td>...</td>\n",
       "      <td>...</td>\n",
       "    </tr>\n",
       "    <tr>\n",
       "      <th>239</th>\n",
       "      <td>29.03</td>\n",
       "      <td>5.92</td>\n",
       "      <td>Male</td>\n",
       "      <td>No</td>\n",
       "      <td>Sat</td>\n",
       "      <td>Dinner</td>\n",
       "      <td>3</td>\n",
       "    </tr>\n",
       "    <tr>\n",
       "      <th>240</th>\n",
       "      <td>27.18</td>\n",
       "      <td>2.00</td>\n",
       "      <td>Female</td>\n",
       "      <td>Yes</td>\n",
       "      <td>Sat</td>\n",
       "      <td>Dinner</td>\n",
       "      <td>2</td>\n",
       "    </tr>\n",
       "    <tr>\n",
       "      <th>241</th>\n",
       "      <td>22.67</td>\n",
       "      <td>2.00</td>\n",
       "      <td>Male</td>\n",
       "      <td>Yes</td>\n",
       "      <td>Sat</td>\n",
       "      <td>Dinner</td>\n",
       "      <td>2</td>\n",
       "    </tr>\n",
       "    <tr>\n",
       "      <th>242</th>\n",
       "      <td>17.82</td>\n",
       "      <td>1.75</td>\n",
       "      <td>Male</td>\n",
       "      <td>No</td>\n",
       "      <td>Sat</td>\n",
       "      <td>Dinner</td>\n",
       "      <td>2</td>\n",
       "    </tr>\n",
       "    <tr>\n",
       "      <th>243</th>\n",
       "      <td>18.78</td>\n",
       "      <td>3.00</td>\n",
       "      <td>Female</td>\n",
       "      <td>No</td>\n",
       "      <td>Thur</td>\n",
       "      <td>Dinner</td>\n",
       "      <td>2</td>\n",
       "    </tr>\n",
       "  </tbody>\n",
       "</table>\n",
       "<p>244 rows × 7 columns</p>\n",
       "</div>"
      ],
      "text/plain": [
       "     total_bill   tip     sex smoker   day    time  size\n",
       "0         16.99  1.01  Female     No   Sun  Dinner     2\n",
       "1         10.34  1.66    Male     No   Sun  Dinner     3\n",
       "2         21.01  3.50    Male     No   Sun  Dinner     3\n",
       "3         23.68  3.31    Male     No   Sun  Dinner     2\n",
       "4         24.59  3.61  Female     No   Sun  Dinner     4\n",
       "..          ...   ...     ...    ...   ...     ...   ...\n",
       "239       29.03  5.92    Male     No   Sat  Dinner     3\n",
       "240       27.18  2.00  Female    Yes   Sat  Dinner     2\n",
       "241       22.67  2.00    Male    Yes   Sat  Dinner     2\n",
       "242       17.82  1.75    Male     No   Sat  Dinner     2\n",
       "243       18.78  3.00  Female     No  Thur  Dinner     2\n",
       "\n",
       "[244 rows x 7 columns]"
      ]
     },
     "execution_count": 5,
     "metadata": {},
     "output_type": "execute_result"
    }
   ],
   "source": [
    "df2"
   ]
  },
  {
   "cell_type": "code",
   "execution_count": 6,
   "id": "49da2251",
   "metadata": {},
   "outputs": [
    {
     "data": {
      "text/html": [
       "<div>\n",
       "<style scoped>\n",
       "    .dataframe tbody tr th:only-of-type {\n",
       "        vertical-align: middle;\n",
       "    }\n",
       "\n",
       "    .dataframe tbody tr th {\n",
       "        vertical-align: top;\n",
       "    }\n",
       "\n",
       "    .dataframe thead th {\n",
       "        text-align: right;\n",
       "    }\n",
       "</style>\n",
       "<table border=\"1\" class=\"dataframe\">\n",
       "  <thead>\n",
       "    <tr style=\"text-align: right;\">\n",
       "      <th></th>\n",
       "      <th>date</th>\n",
       "      <th>GOOG</th>\n",
       "      <th>AAPL</th>\n",
       "      <th>AMZN</th>\n",
       "      <th>FB</th>\n",
       "      <th>NFLX</th>\n",
       "      <th>MSFT</th>\n",
       "    </tr>\n",
       "  </thead>\n",
       "  <tbody>\n",
       "    <tr>\n",
       "      <th>0</th>\n",
       "      <td>2018-01-01</td>\n",
       "      <td>1.000000</td>\n",
       "      <td>1.000000</td>\n",
       "      <td>1.000000</td>\n",
       "      <td>1.000000</td>\n",
       "      <td>1.000000</td>\n",
       "      <td>1.000000</td>\n",
       "    </tr>\n",
       "    <tr>\n",
       "      <th>1</th>\n",
       "      <td>2018-01-08</td>\n",
       "      <td>1.018172</td>\n",
       "      <td>1.011943</td>\n",
       "      <td>1.061881</td>\n",
       "      <td>0.959968</td>\n",
       "      <td>1.053526</td>\n",
       "      <td>1.015988</td>\n",
       "    </tr>\n",
       "    <tr>\n",
       "      <th>2</th>\n",
       "      <td>2018-01-15</td>\n",
       "      <td>1.032008</td>\n",
       "      <td>1.019771</td>\n",
       "      <td>1.053240</td>\n",
       "      <td>0.970243</td>\n",
       "      <td>1.049860</td>\n",
       "      <td>1.020524</td>\n",
       "    </tr>\n",
       "    <tr>\n",
       "      <th>3</th>\n",
       "      <td>2018-01-22</td>\n",
       "      <td>1.066783</td>\n",
       "      <td>0.980057</td>\n",
       "      <td>1.140676</td>\n",
       "      <td>1.016858</td>\n",
       "      <td>1.307681</td>\n",
       "      <td>1.066561</td>\n",
       "    </tr>\n",
       "    <tr>\n",
       "      <th>4</th>\n",
       "      <td>2018-01-29</td>\n",
       "      <td>1.008773</td>\n",
       "      <td>0.917143</td>\n",
       "      <td>1.163374</td>\n",
       "      <td>1.018357</td>\n",
       "      <td>1.273537</td>\n",
       "      <td>1.040708</td>\n",
       "    </tr>\n",
       "    <tr>\n",
       "      <th>...</th>\n",
       "      <td>...</td>\n",
       "      <td>...</td>\n",
       "      <td>...</td>\n",
       "      <td>...</td>\n",
       "      <td>...</td>\n",
       "      <td>...</td>\n",
       "      <td>...</td>\n",
       "    </tr>\n",
       "    <tr>\n",
       "      <th>100</th>\n",
       "      <td>2019-12-02</td>\n",
       "      <td>1.216280</td>\n",
       "      <td>1.546914</td>\n",
       "      <td>1.425061</td>\n",
       "      <td>1.075997</td>\n",
       "      <td>1.463641</td>\n",
       "      <td>1.720717</td>\n",
       "    </tr>\n",
       "    <tr>\n",
       "      <th>101</th>\n",
       "      <td>2019-12-09</td>\n",
       "      <td>1.222821</td>\n",
       "      <td>1.572286</td>\n",
       "      <td>1.432660</td>\n",
       "      <td>1.038855</td>\n",
       "      <td>1.421496</td>\n",
       "      <td>1.752239</td>\n",
       "    </tr>\n",
       "    <tr>\n",
       "      <th>102</th>\n",
       "      <td>2019-12-16</td>\n",
       "      <td>1.224418</td>\n",
       "      <td>1.596800</td>\n",
       "      <td>1.453455</td>\n",
       "      <td>1.104094</td>\n",
       "      <td>1.604362</td>\n",
       "      <td>1.784896</td>\n",
       "    </tr>\n",
       "    <tr>\n",
       "      <th>103</th>\n",
       "      <td>2019-12-23</td>\n",
       "      <td>1.226504</td>\n",
       "      <td>1.656000</td>\n",
       "      <td>1.521226</td>\n",
       "      <td>1.113728</td>\n",
       "      <td>1.567170</td>\n",
       "      <td>1.802472</td>\n",
       "    </tr>\n",
       "    <tr>\n",
       "      <th>104</th>\n",
       "      <td>2019-12-30</td>\n",
       "      <td>1.213014</td>\n",
       "      <td>1.678000</td>\n",
       "      <td>1.503360</td>\n",
       "      <td>1.098475</td>\n",
       "      <td>1.540883</td>\n",
       "      <td>1.788185</td>\n",
       "    </tr>\n",
       "  </tbody>\n",
       "</table>\n",
       "<p>105 rows × 7 columns</p>\n",
       "</div>"
      ],
      "text/plain": [
       "           date      GOOG      AAPL      AMZN        FB      NFLX      MSFT\n",
       "0    2018-01-01  1.000000  1.000000  1.000000  1.000000  1.000000  1.000000\n",
       "1    2018-01-08  1.018172  1.011943  1.061881  0.959968  1.053526  1.015988\n",
       "2    2018-01-15  1.032008  1.019771  1.053240  0.970243  1.049860  1.020524\n",
       "3    2018-01-22  1.066783  0.980057  1.140676  1.016858  1.307681  1.066561\n",
       "4    2018-01-29  1.008773  0.917143  1.163374  1.018357  1.273537  1.040708\n",
       "..          ...       ...       ...       ...       ...       ...       ...\n",
       "100  2019-12-02  1.216280  1.546914  1.425061  1.075997  1.463641  1.720717\n",
       "101  2019-12-09  1.222821  1.572286  1.432660  1.038855  1.421496  1.752239\n",
       "102  2019-12-16  1.224418  1.596800  1.453455  1.104094  1.604362  1.784896\n",
       "103  2019-12-23  1.226504  1.656000  1.521226  1.113728  1.567170  1.802472\n",
       "104  2019-12-30  1.213014  1.678000  1.503360  1.098475  1.540883  1.788185\n",
       "\n",
       "[105 rows x 7 columns]"
      ]
     },
     "execution_count": 6,
     "metadata": {},
     "output_type": "execute_result"
    }
   ],
   "source": [
    "df3"
   ]
  },
  {
   "cell_type": "code",
   "execution_count": 7,
   "id": "bbc2b717",
   "metadata": {},
   "outputs": [
    {
     "data": {
      "text/html": [
       "<div>\n",
       "<style scoped>\n",
       "    .dataframe tbody tr th:only-of-type {\n",
       "        vertical-align: middle;\n",
       "    }\n",
       "\n",
       "    .dataframe tbody tr th {\n",
       "        vertical-align: top;\n",
       "    }\n",
       "\n",
       "    .dataframe thead th {\n",
       "        text-align: right;\n",
       "    }\n",
       "</style>\n",
       "<table border=\"1\" class=\"dataframe\">\n",
       "  <thead>\n",
       "    <tr style=\"text-align: right;\">\n",
       "      <th></th>\n",
       "      <th>country</th>\n",
       "      <th>continent</th>\n",
       "      <th>year</th>\n",
       "      <th>lifeExp</th>\n",
       "      <th>pop</th>\n",
       "      <th>gdpPercap</th>\n",
       "      <th>iso_alpha</th>\n",
       "      <th>iso_num</th>\n",
       "    </tr>\n",
       "  </thead>\n",
       "  <tbody>\n",
       "    <tr>\n",
       "      <th>0</th>\n",
       "      <td>Afghanistan</td>\n",
       "      <td>Asia</td>\n",
       "      <td>1952</td>\n",
       "      <td>28.801</td>\n",
       "      <td>8425333</td>\n",
       "      <td>779.445314</td>\n",
       "      <td>AFG</td>\n",
       "      <td>4</td>\n",
       "    </tr>\n",
       "    <tr>\n",
       "      <th>1</th>\n",
       "      <td>Afghanistan</td>\n",
       "      <td>Asia</td>\n",
       "      <td>1957</td>\n",
       "      <td>30.332</td>\n",
       "      <td>9240934</td>\n",
       "      <td>820.853030</td>\n",
       "      <td>AFG</td>\n",
       "      <td>4</td>\n",
       "    </tr>\n",
       "    <tr>\n",
       "      <th>2</th>\n",
       "      <td>Afghanistan</td>\n",
       "      <td>Asia</td>\n",
       "      <td>1962</td>\n",
       "      <td>31.997</td>\n",
       "      <td>10267083</td>\n",
       "      <td>853.100710</td>\n",
       "      <td>AFG</td>\n",
       "      <td>4</td>\n",
       "    </tr>\n",
       "    <tr>\n",
       "      <th>3</th>\n",
       "      <td>Afghanistan</td>\n",
       "      <td>Asia</td>\n",
       "      <td>1967</td>\n",
       "      <td>34.020</td>\n",
       "      <td>11537966</td>\n",
       "      <td>836.197138</td>\n",
       "      <td>AFG</td>\n",
       "      <td>4</td>\n",
       "    </tr>\n",
       "    <tr>\n",
       "      <th>4</th>\n",
       "      <td>Afghanistan</td>\n",
       "      <td>Asia</td>\n",
       "      <td>1972</td>\n",
       "      <td>36.088</td>\n",
       "      <td>13079460</td>\n",
       "      <td>739.981106</td>\n",
       "      <td>AFG</td>\n",
       "      <td>4</td>\n",
       "    </tr>\n",
       "    <tr>\n",
       "      <th>...</th>\n",
       "      <td>...</td>\n",
       "      <td>...</td>\n",
       "      <td>...</td>\n",
       "      <td>...</td>\n",
       "      <td>...</td>\n",
       "      <td>...</td>\n",
       "      <td>...</td>\n",
       "      <td>...</td>\n",
       "    </tr>\n",
       "    <tr>\n",
       "      <th>1699</th>\n",
       "      <td>Zimbabwe</td>\n",
       "      <td>Africa</td>\n",
       "      <td>1987</td>\n",
       "      <td>62.351</td>\n",
       "      <td>9216418</td>\n",
       "      <td>706.157306</td>\n",
       "      <td>ZWE</td>\n",
       "      <td>716</td>\n",
       "    </tr>\n",
       "    <tr>\n",
       "      <th>1700</th>\n",
       "      <td>Zimbabwe</td>\n",
       "      <td>Africa</td>\n",
       "      <td>1992</td>\n",
       "      <td>60.377</td>\n",
       "      <td>10704340</td>\n",
       "      <td>693.420786</td>\n",
       "      <td>ZWE</td>\n",
       "      <td>716</td>\n",
       "    </tr>\n",
       "    <tr>\n",
       "      <th>1701</th>\n",
       "      <td>Zimbabwe</td>\n",
       "      <td>Africa</td>\n",
       "      <td>1997</td>\n",
       "      <td>46.809</td>\n",
       "      <td>11404948</td>\n",
       "      <td>792.449960</td>\n",
       "      <td>ZWE</td>\n",
       "      <td>716</td>\n",
       "    </tr>\n",
       "    <tr>\n",
       "      <th>1702</th>\n",
       "      <td>Zimbabwe</td>\n",
       "      <td>Africa</td>\n",
       "      <td>2002</td>\n",
       "      <td>39.989</td>\n",
       "      <td>11926563</td>\n",
       "      <td>672.038623</td>\n",
       "      <td>ZWE</td>\n",
       "      <td>716</td>\n",
       "    </tr>\n",
       "    <tr>\n",
       "      <th>1703</th>\n",
       "      <td>Zimbabwe</td>\n",
       "      <td>Africa</td>\n",
       "      <td>2007</td>\n",
       "      <td>43.487</td>\n",
       "      <td>12311143</td>\n",
       "      <td>469.709298</td>\n",
       "      <td>ZWE</td>\n",
       "      <td>716</td>\n",
       "    </tr>\n",
       "  </tbody>\n",
       "</table>\n",
       "<p>1704 rows × 8 columns</p>\n",
       "</div>"
      ],
      "text/plain": [
       "          country continent  year  lifeExp       pop   gdpPercap iso_alpha  \\\n",
       "0     Afghanistan      Asia  1952   28.801   8425333  779.445314       AFG   \n",
       "1     Afghanistan      Asia  1957   30.332   9240934  820.853030       AFG   \n",
       "2     Afghanistan      Asia  1962   31.997  10267083  853.100710       AFG   \n",
       "3     Afghanistan      Asia  1967   34.020  11537966  836.197138       AFG   \n",
       "4     Afghanistan      Asia  1972   36.088  13079460  739.981106       AFG   \n",
       "...           ...       ...   ...      ...       ...         ...       ...   \n",
       "1699     Zimbabwe    Africa  1987   62.351   9216418  706.157306       ZWE   \n",
       "1700     Zimbabwe    Africa  1992   60.377  10704340  693.420786       ZWE   \n",
       "1701     Zimbabwe    Africa  1997   46.809  11404948  792.449960       ZWE   \n",
       "1702     Zimbabwe    Africa  2002   39.989  11926563  672.038623       ZWE   \n",
       "1703     Zimbabwe    Africa  2007   43.487  12311143  469.709298       ZWE   \n",
       "\n",
       "      iso_num  \n",
       "0           4  \n",
       "1           4  \n",
       "2           4  \n",
       "3           4  \n",
       "4           4  \n",
       "...       ...  \n",
       "1699      716  \n",
       "1700      716  \n",
       "1701      716  \n",
       "1702      716  \n",
       "1703      716  \n",
       "\n",
       "[1704 rows x 8 columns]"
      ]
     },
     "execution_count": 7,
     "metadata": {},
     "output_type": "execute_result"
    }
   ],
   "source": [
    "df4"
   ]
  },
  {
   "cell_type": "markdown",
   "id": "76c74463",
   "metadata": {},
   "source": [
    "* get Barplot in Plotly package :"
   ]
  },
  {
   "cell_type": "code",
   "execution_count": 8,
   "id": "16030eb4",
   "metadata": {},
   "outputs": [
    {
     "data": {
      "application/vnd.plotly.v1+json": {
       "config": {
        "plotlyServerURL": "https://plot.ly"
       },
       "data": [
        {
         "alignmentgroup": "True",
         "hovertemplate": "species=%{x}<br>sepal_length=%{y}<extra></extra>",
         "legendgroup": "setosa",
         "marker": {
          "color": "#636efa",
          "pattern": {
           "shape": ""
          }
         },
         "name": "setosa",
         "offsetgroup": "setosa",
         "orientation": "v",
         "showlegend": true,
         "textposition": "auto",
         "type": "bar",
         "x": [
          "setosa",
          "setosa",
          "setosa",
          "setosa",
          "setosa",
          "setosa",
          "setosa",
          "setosa",
          "setosa",
          "setosa",
          "setosa",
          "setosa",
          "setosa",
          "setosa",
          "setosa",
          "setosa",
          "setosa",
          "setosa",
          "setosa",
          "setosa",
          "setosa",
          "setosa",
          "setosa",
          "setosa",
          "setosa",
          "setosa",
          "setosa",
          "setosa",
          "setosa",
          "setosa",
          "setosa",
          "setosa",
          "setosa",
          "setosa",
          "setosa",
          "setosa",
          "setosa",
          "setosa",
          "setosa",
          "setosa",
          "setosa",
          "setosa",
          "setosa",
          "setosa",
          "setosa",
          "setosa",
          "setosa",
          "setosa",
          "setosa",
          "setosa"
         ],
         "xaxis": "x",
         "y": [
          5.1,
          4.9,
          4.7,
          4.6,
          5,
          5.4,
          4.6,
          5,
          4.4,
          4.9,
          5.4,
          4.8,
          4.8,
          4.3,
          5.8,
          5.7,
          5.4,
          5.1,
          5.7,
          5.1,
          5.4,
          5.1,
          4.6,
          5.1,
          4.8,
          5,
          5,
          5.2,
          5.2,
          4.7,
          4.8,
          5.4,
          5.2,
          5.5,
          4.9,
          5,
          5.5,
          4.9,
          4.4,
          5.1,
          5,
          4.5,
          4.4,
          5,
          5.1,
          4.8,
          5.1,
          4.6,
          5.3,
          5
         ],
         "yaxis": "y"
        },
        {
         "alignmentgroup": "True",
         "hovertemplate": "species=%{x}<br>sepal_length=%{y}<extra></extra>",
         "legendgroup": "versicolor",
         "marker": {
          "color": "#EF553B",
          "pattern": {
           "shape": ""
          }
         },
         "name": "versicolor",
         "offsetgroup": "versicolor",
         "orientation": "v",
         "showlegend": true,
         "textposition": "auto",
         "type": "bar",
         "x": [
          "versicolor",
          "versicolor",
          "versicolor",
          "versicolor",
          "versicolor",
          "versicolor",
          "versicolor",
          "versicolor",
          "versicolor",
          "versicolor",
          "versicolor",
          "versicolor",
          "versicolor",
          "versicolor",
          "versicolor",
          "versicolor",
          "versicolor",
          "versicolor",
          "versicolor",
          "versicolor",
          "versicolor",
          "versicolor",
          "versicolor",
          "versicolor",
          "versicolor",
          "versicolor",
          "versicolor",
          "versicolor",
          "versicolor",
          "versicolor",
          "versicolor",
          "versicolor",
          "versicolor",
          "versicolor",
          "versicolor",
          "versicolor",
          "versicolor",
          "versicolor",
          "versicolor",
          "versicolor",
          "versicolor",
          "versicolor",
          "versicolor",
          "versicolor",
          "versicolor",
          "versicolor",
          "versicolor",
          "versicolor",
          "versicolor",
          "versicolor"
         ],
         "xaxis": "x",
         "y": [
          7,
          6.4,
          6.9,
          5.5,
          6.5,
          5.7,
          6.3,
          4.9,
          6.6,
          5.2,
          5,
          5.9,
          6,
          6.1,
          5.6,
          6.7,
          5.6,
          5.8,
          6.2,
          5.6,
          5.9,
          6.1,
          6.3,
          6.1,
          6.4,
          6.6,
          6.8,
          6.7,
          6,
          5.7,
          5.5,
          5.5,
          5.8,
          6,
          5.4,
          6,
          6.7,
          6.3,
          5.6,
          5.5,
          5.5,
          6.1,
          5.8,
          5,
          5.6,
          5.7,
          5.7,
          6.2,
          5.1,
          5.7
         ],
         "yaxis": "y"
        },
        {
         "alignmentgroup": "True",
         "hovertemplate": "species=%{x}<br>sepal_length=%{y}<extra></extra>",
         "legendgroup": "virginica",
         "marker": {
          "color": "#00cc96",
          "pattern": {
           "shape": ""
          }
         },
         "name": "virginica",
         "offsetgroup": "virginica",
         "orientation": "v",
         "showlegend": true,
         "textposition": "auto",
         "type": "bar",
         "x": [
          "virginica",
          "virginica",
          "virginica",
          "virginica",
          "virginica",
          "virginica",
          "virginica",
          "virginica",
          "virginica",
          "virginica",
          "virginica",
          "virginica",
          "virginica",
          "virginica",
          "virginica",
          "virginica",
          "virginica",
          "virginica",
          "virginica",
          "virginica",
          "virginica",
          "virginica",
          "virginica",
          "virginica",
          "virginica",
          "virginica",
          "virginica",
          "virginica",
          "virginica",
          "virginica",
          "virginica",
          "virginica",
          "virginica",
          "virginica",
          "virginica",
          "virginica",
          "virginica",
          "virginica",
          "virginica",
          "virginica",
          "virginica",
          "virginica",
          "virginica",
          "virginica",
          "virginica",
          "virginica",
          "virginica",
          "virginica",
          "virginica",
          "virginica"
         ],
         "xaxis": "x",
         "y": [
          6.3,
          5.8,
          7.1,
          6.3,
          6.5,
          7.6,
          4.9,
          7.3,
          6.7,
          7.2,
          6.5,
          6.4,
          6.8,
          5.7,
          5.8,
          6.4,
          6.5,
          7.7,
          7.7,
          6,
          6.9,
          5.6,
          7.7,
          6.3,
          6.7,
          7.2,
          6.2,
          6.1,
          6.4,
          7.2,
          7.4,
          7.9,
          6.4,
          6.3,
          6.1,
          7.7,
          6.3,
          6.4,
          6,
          6.9,
          6.7,
          6.9,
          5.8,
          6.8,
          6.7,
          6.7,
          6.3,
          6.5,
          6.2,
          5.9
         ],
         "yaxis": "y"
        }
       ],
       "layout": {
        "barmode": "relative",
        "legend": {
         "title": {
          "text": "species"
         },
         "tracegroupgap": 0
        },
        "template": {
         "data": {
          "bar": [
           {
            "error_x": {
             "color": "#2a3f5f"
            },
            "error_y": {
             "color": "#2a3f5f"
            },
            "marker": {
             "line": {
              "color": "#E5ECF6",
              "width": 0.5
             },
             "pattern": {
              "fillmode": "overlay",
              "size": 10,
              "solidity": 0.2
             }
            },
            "type": "bar"
           }
          ],
          "barpolar": [
           {
            "marker": {
             "line": {
              "color": "#E5ECF6",
              "width": 0.5
             },
             "pattern": {
              "fillmode": "overlay",
              "size": 10,
              "solidity": 0.2
             }
            },
            "type": "barpolar"
           }
          ],
          "carpet": [
           {
            "aaxis": {
             "endlinecolor": "#2a3f5f",
             "gridcolor": "white",
             "linecolor": "white",
             "minorgridcolor": "white",
             "startlinecolor": "#2a3f5f"
            },
            "baxis": {
             "endlinecolor": "#2a3f5f",
             "gridcolor": "white",
             "linecolor": "white",
             "minorgridcolor": "white",
             "startlinecolor": "#2a3f5f"
            },
            "type": "carpet"
           }
          ],
          "choropleth": [
           {
            "colorbar": {
             "outlinewidth": 0,
             "ticks": ""
            },
            "type": "choropleth"
           }
          ],
          "contour": [
           {
            "colorbar": {
             "outlinewidth": 0,
             "ticks": ""
            },
            "colorscale": [
             [
              0,
              "#0d0887"
             ],
             [
              0.1111111111111111,
              "#46039f"
             ],
             [
              0.2222222222222222,
              "#7201a8"
             ],
             [
              0.3333333333333333,
              "#9c179e"
             ],
             [
              0.4444444444444444,
              "#bd3786"
             ],
             [
              0.5555555555555556,
              "#d8576b"
             ],
             [
              0.6666666666666666,
              "#ed7953"
             ],
             [
              0.7777777777777778,
              "#fb9f3a"
             ],
             [
              0.8888888888888888,
              "#fdca26"
             ],
             [
              1,
              "#f0f921"
             ]
            ],
            "type": "contour"
           }
          ],
          "contourcarpet": [
           {
            "colorbar": {
             "outlinewidth": 0,
             "ticks": ""
            },
            "type": "contourcarpet"
           }
          ],
          "heatmap": [
           {
            "colorbar": {
             "outlinewidth": 0,
             "ticks": ""
            },
            "colorscale": [
             [
              0,
              "#0d0887"
             ],
             [
              0.1111111111111111,
              "#46039f"
             ],
             [
              0.2222222222222222,
              "#7201a8"
             ],
             [
              0.3333333333333333,
              "#9c179e"
             ],
             [
              0.4444444444444444,
              "#bd3786"
             ],
             [
              0.5555555555555556,
              "#d8576b"
             ],
             [
              0.6666666666666666,
              "#ed7953"
             ],
             [
              0.7777777777777778,
              "#fb9f3a"
             ],
             [
              0.8888888888888888,
              "#fdca26"
             ],
             [
              1,
              "#f0f921"
             ]
            ],
            "type": "heatmap"
           }
          ],
          "heatmapgl": [
           {
            "colorbar": {
             "outlinewidth": 0,
             "ticks": ""
            },
            "colorscale": [
             [
              0,
              "#0d0887"
             ],
             [
              0.1111111111111111,
              "#46039f"
             ],
             [
              0.2222222222222222,
              "#7201a8"
             ],
             [
              0.3333333333333333,
              "#9c179e"
             ],
             [
              0.4444444444444444,
              "#bd3786"
             ],
             [
              0.5555555555555556,
              "#d8576b"
             ],
             [
              0.6666666666666666,
              "#ed7953"
             ],
             [
              0.7777777777777778,
              "#fb9f3a"
             ],
             [
              0.8888888888888888,
              "#fdca26"
             ],
             [
              1,
              "#f0f921"
             ]
            ],
            "type": "heatmapgl"
           }
          ],
          "histogram": [
           {
            "marker": {
             "pattern": {
              "fillmode": "overlay",
              "size": 10,
              "solidity": 0.2
             }
            },
            "type": "histogram"
           }
          ],
          "histogram2d": [
           {
            "colorbar": {
             "outlinewidth": 0,
             "ticks": ""
            },
            "colorscale": [
             [
              0,
              "#0d0887"
             ],
             [
              0.1111111111111111,
              "#46039f"
             ],
             [
              0.2222222222222222,
              "#7201a8"
             ],
             [
              0.3333333333333333,
              "#9c179e"
             ],
             [
              0.4444444444444444,
              "#bd3786"
             ],
             [
              0.5555555555555556,
              "#d8576b"
             ],
             [
              0.6666666666666666,
              "#ed7953"
             ],
             [
              0.7777777777777778,
              "#fb9f3a"
             ],
             [
              0.8888888888888888,
              "#fdca26"
             ],
             [
              1,
              "#f0f921"
             ]
            ],
            "type": "histogram2d"
           }
          ],
          "histogram2dcontour": [
           {
            "colorbar": {
             "outlinewidth": 0,
             "ticks": ""
            },
            "colorscale": [
             [
              0,
              "#0d0887"
             ],
             [
              0.1111111111111111,
              "#46039f"
             ],
             [
              0.2222222222222222,
              "#7201a8"
             ],
             [
              0.3333333333333333,
              "#9c179e"
             ],
             [
              0.4444444444444444,
              "#bd3786"
             ],
             [
              0.5555555555555556,
              "#d8576b"
             ],
             [
              0.6666666666666666,
              "#ed7953"
             ],
             [
              0.7777777777777778,
              "#fb9f3a"
             ],
             [
              0.8888888888888888,
              "#fdca26"
             ],
             [
              1,
              "#f0f921"
             ]
            ],
            "type": "histogram2dcontour"
           }
          ],
          "mesh3d": [
           {
            "colorbar": {
             "outlinewidth": 0,
             "ticks": ""
            },
            "type": "mesh3d"
           }
          ],
          "parcoords": [
           {
            "line": {
             "colorbar": {
              "outlinewidth": 0,
              "ticks": ""
             }
            },
            "type": "parcoords"
           }
          ],
          "pie": [
           {
            "automargin": true,
            "type": "pie"
           }
          ],
          "scatter": [
           {
            "marker": {
             "colorbar": {
              "outlinewidth": 0,
              "ticks": ""
             }
            },
            "type": "scatter"
           }
          ],
          "scatter3d": [
           {
            "line": {
             "colorbar": {
              "outlinewidth": 0,
              "ticks": ""
             }
            },
            "marker": {
             "colorbar": {
              "outlinewidth": 0,
              "ticks": ""
             }
            },
            "type": "scatter3d"
           }
          ],
          "scattercarpet": [
           {
            "marker": {
             "colorbar": {
              "outlinewidth": 0,
              "ticks": ""
             }
            },
            "type": "scattercarpet"
           }
          ],
          "scattergeo": [
           {
            "marker": {
             "colorbar": {
              "outlinewidth": 0,
              "ticks": ""
             }
            },
            "type": "scattergeo"
           }
          ],
          "scattergl": [
           {
            "marker": {
             "colorbar": {
              "outlinewidth": 0,
              "ticks": ""
             }
            },
            "type": "scattergl"
           }
          ],
          "scattermapbox": [
           {
            "marker": {
             "colorbar": {
              "outlinewidth": 0,
              "ticks": ""
             }
            },
            "type": "scattermapbox"
           }
          ],
          "scatterpolar": [
           {
            "marker": {
             "colorbar": {
              "outlinewidth": 0,
              "ticks": ""
             }
            },
            "type": "scatterpolar"
           }
          ],
          "scatterpolargl": [
           {
            "marker": {
             "colorbar": {
              "outlinewidth": 0,
              "ticks": ""
             }
            },
            "type": "scatterpolargl"
           }
          ],
          "scatterternary": [
           {
            "marker": {
             "colorbar": {
              "outlinewidth": 0,
              "ticks": ""
             }
            },
            "type": "scatterternary"
           }
          ],
          "surface": [
           {
            "colorbar": {
             "outlinewidth": 0,
             "ticks": ""
            },
            "colorscale": [
             [
              0,
              "#0d0887"
             ],
             [
              0.1111111111111111,
              "#46039f"
             ],
             [
              0.2222222222222222,
              "#7201a8"
             ],
             [
              0.3333333333333333,
              "#9c179e"
             ],
             [
              0.4444444444444444,
              "#bd3786"
             ],
             [
              0.5555555555555556,
              "#d8576b"
             ],
             [
              0.6666666666666666,
              "#ed7953"
             ],
             [
              0.7777777777777778,
              "#fb9f3a"
             ],
             [
              0.8888888888888888,
              "#fdca26"
             ],
             [
              1,
              "#f0f921"
             ]
            ],
            "type": "surface"
           }
          ],
          "table": [
           {
            "cells": {
             "fill": {
              "color": "#EBF0F8"
             },
             "line": {
              "color": "white"
             }
            },
            "header": {
             "fill": {
              "color": "#C8D4E3"
             },
             "line": {
              "color": "white"
             }
            },
            "type": "table"
           }
          ]
         },
         "layout": {
          "annotationdefaults": {
           "arrowcolor": "#2a3f5f",
           "arrowhead": 0,
           "arrowwidth": 1
          },
          "autotypenumbers": "strict",
          "coloraxis": {
           "colorbar": {
            "outlinewidth": 0,
            "ticks": ""
           }
          },
          "colorscale": {
           "diverging": [
            [
             0,
             "#8e0152"
            ],
            [
             0.1,
             "#c51b7d"
            ],
            [
             0.2,
             "#de77ae"
            ],
            [
             0.3,
             "#f1b6da"
            ],
            [
             0.4,
             "#fde0ef"
            ],
            [
             0.5,
             "#f7f7f7"
            ],
            [
             0.6,
             "#e6f5d0"
            ],
            [
             0.7,
             "#b8e186"
            ],
            [
             0.8,
             "#7fbc41"
            ],
            [
             0.9,
             "#4d9221"
            ],
            [
             1,
             "#276419"
            ]
           ],
           "sequential": [
            [
             0,
             "#0d0887"
            ],
            [
             0.1111111111111111,
             "#46039f"
            ],
            [
             0.2222222222222222,
             "#7201a8"
            ],
            [
             0.3333333333333333,
             "#9c179e"
            ],
            [
             0.4444444444444444,
             "#bd3786"
            ],
            [
             0.5555555555555556,
             "#d8576b"
            ],
            [
             0.6666666666666666,
             "#ed7953"
            ],
            [
             0.7777777777777778,
             "#fb9f3a"
            ],
            [
             0.8888888888888888,
             "#fdca26"
            ],
            [
             1,
             "#f0f921"
            ]
           ],
           "sequentialminus": [
            [
             0,
             "#0d0887"
            ],
            [
             0.1111111111111111,
             "#46039f"
            ],
            [
             0.2222222222222222,
             "#7201a8"
            ],
            [
             0.3333333333333333,
             "#9c179e"
            ],
            [
             0.4444444444444444,
             "#bd3786"
            ],
            [
             0.5555555555555556,
             "#d8576b"
            ],
            [
             0.6666666666666666,
             "#ed7953"
            ],
            [
             0.7777777777777778,
             "#fb9f3a"
            ],
            [
             0.8888888888888888,
             "#fdca26"
            ],
            [
             1,
             "#f0f921"
            ]
           ]
          },
          "colorway": [
           "#636efa",
           "#EF553B",
           "#00cc96",
           "#ab63fa",
           "#FFA15A",
           "#19d3f3",
           "#FF6692",
           "#B6E880",
           "#FF97FF",
           "#FECB52"
          ],
          "font": {
           "color": "#2a3f5f"
          },
          "geo": {
           "bgcolor": "white",
           "lakecolor": "white",
           "landcolor": "#E5ECF6",
           "showlakes": true,
           "showland": true,
           "subunitcolor": "white"
          },
          "hoverlabel": {
           "align": "left"
          },
          "hovermode": "closest",
          "mapbox": {
           "style": "light"
          },
          "paper_bgcolor": "white",
          "plot_bgcolor": "#E5ECF6",
          "polar": {
           "angularaxis": {
            "gridcolor": "white",
            "linecolor": "white",
            "ticks": ""
           },
           "bgcolor": "#E5ECF6",
           "radialaxis": {
            "gridcolor": "white",
            "linecolor": "white",
            "ticks": ""
           }
          },
          "scene": {
           "xaxis": {
            "backgroundcolor": "#E5ECF6",
            "gridcolor": "white",
            "gridwidth": 2,
            "linecolor": "white",
            "showbackground": true,
            "ticks": "",
            "zerolinecolor": "white"
           },
           "yaxis": {
            "backgroundcolor": "#E5ECF6",
            "gridcolor": "white",
            "gridwidth": 2,
            "linecolor": "white",
            "showbackground": true,
            "ticks": "",
            "zerolinecolor": "white"
           },
           "zaxis": {
            "backgroundcolor": "#E5ECF6",
            "gridcolor": "white",
            "gridwidth": 2,
            "linecolor": "white",
            "showbackground": true,
            "ticks": "",
            "zerolinecolor": "white"
           }
          },
          "shapedefaults": {
           "line": {
            "color": "#2a3f5f"
           }
          },
          "ternary": {
           "aaxis": {
            "gridcolor": "white",
            "linecolor": "white",
            "ticks": ""
           },
           "baxis": {
            "gridcolor": "white",
            "linecolor": "white",
            "ticks": ""
           },
           "bgcolor": "#E5ECF6",
           "caxis": {
            "gridcolor": "white",
            "linecolor": "white",
            "ticks": ""
           }
          },
          "title": {
           "x": 0.05
          },
          "xaxis": {
           "automargin": true,
           "gridcolor": "white",
           "linecolor": "white",
           "ticks": "",
           "title": {
            "standoff": 15
           },
           "zerolinecolor": "white",
           "zerolinewidth": 2
          },
          "yaxis": {
           "automargin": true,
           "gridcolor": "white",
           "linecolor": "white",
           "ticks": "",
           "title": {
            "standoff": 15
           },
           "zerolinecolor": "white",
           "zerolinewidth": 2
          }
         }
        },
        "title": {
         "text": "Bar plot of sepal_length & sepal_length Based on species"
        },
        "xaxis": {
         "anchor": "y",
         "categoryarray": [
          "setosa",
          "versicolor",
          "virginica"
         ],
         "categoryorder": "array",
         "domain": [
          0,
          1
         ],
         "title": {
          "text": "species"
         }
        },
        "yaxis": {
         "anchor": "x",
         "domain": [
          0,
          1
         ],
         "title": {
          "text": "sepal_length"
         }
        }
       }
      },
      "text/html": [
       "<div>                            <div id=\"3e1df885-9f66-42af-bec3-ec13486a0b78\" class=\"plotly-graph-div\" style=\"height:525px; width:100%;\"></div>            <script type=\"text/javascript\">                require([\"plotly\"], function(Plotly) {                    window.PLOTLYENV=window.PLOTLYENV || {};                                    if (document.getElementById(\"3e1df885-9f66-42af-bec3-ec13486a0b78\")) {                    Plotly.newPlot(                        \"3e1df885-9f66-42af-bec3-ec13486a0b78\",                        [{\"alignmentgroup\":\"True\",\"hovertemplate\":\"species=%{x}<br>sepal_length=%{y}<extra></extra>\",\"legendgroup\":\"setosa\",\"marker\":{\"color\":\"#636efa\",\"pattern\":{\"shape\":\"\"}},\"name\":\"setosa\",\"offsetgroup\":\"setosa\",\"orientation\":\"v\",\"showlegend\":true,\"textposition\":\"auto\",\"type\":\"bar\",\"x\":[\"setosa\",\"setosa\",\"setosa\",\"setosa\",\"setosa\",\"setosa\",\"setosa\",\"setosa\",\"setosa\",\"setosa\",\"setosa\",\"setosa\",\"setosa\",\"setosa\",\"setosa\",\"setosa\",\"setosa\",\"setosa\",\"setosa\",\"setosa\",\"setosa\",\"setosa\",\"setosa\",\"setosa\",\"setosa\",\"setosa\",\"setosa\",\"setosa\",\"setosa\",\"setosa\",\"setosa\",\"setosa\",\"setosa\",\"setosa\",\"setosa\",\"setosa\",\"setosa\",\"setosa\",\"setosa\",\"setosa\",\"setosa\",\"setosa\",\"setosa\",\"setosa\",\"setosa\",\"setosa\",\"setosa\",\"setosa\",\"setosa\",\"setosa\"],\"xaxis\":\"x\",\"y\":[5.1,4.9,4.7,4.6,5.0,5.4,4.6,5.0,4.4,4.9,5.4,4.8,4.8,4.3,5.8,5.7,5.4,5.1,5.7,5.1,5.4,5.1,4.6,5.1,4.8,5.0,5.0,5.2,5.2,4.7,4.8,5.4,5.2,5.5,4.9,5.0,5.5,4.9,4.4,5.1,5.0,4.5,4.4,5.0,5.1,4.8,5.1,4.6,5.3,5.0],\"yaxis\":\"y\"},{\"alignmentgroup\":\"True\",\"hovertemplate\":\"species=%{x}<br>sepal_length=%{y}<extra></extra>\",\"legendgroup\":\"versicolor\",\"marker\":{\"color\":\"#EF553B\",\"pattern\":{\"shape\":\"\"}},\"name\":\"versicolor\",\"offsetgroup\":\"versicolor\",\"orientation\":\"v\",\"showlegend\":true,\"textposition\":\"auto\",\"type\":\"bar\",\"x\":[\"versicolor\",\"versicolor\",\"versicolor\",\"versicolor\",\"versicolor\",\"versicolor\",\"versicolor\",\"versicolor\",\"versicolor\",\"versicolor\",\"versicolor\",\"versicolor\",\"versicolor\",\"versicolor\",\"versicolor\",\"versicolor\",\"versicolor\",\"versicolor\",\"versicolor\",\"versicolor\",\"versicolor\",\"versicolor\",\"versicolor\",\"versicolor\",\"versicolor\",\"versicolor\",\"versicolor\",\"versicolor\",\"versicolor\",\"versicolor\",\"versicolor\",\"versicolor\",\"versicolor\",\"versicolor\",\"versicolor\",\"versicolor\",\"versicolor\",\"versicolor\",\"versicolor\",\"versicolor\",\"versicolor\",\"versicolor\",\"versicolor\",\"versicolor\",\"versicolor\",\"versicolor\",\"versicolor\",\"versicolor\",\"versicolor\",\"versicolor\"],\"xaxis\":\"x\",\"y\":[7.0,6.4,6.9,5.5,6.5,5.7,6.3,4.9,6.6,5.2,5.0,5.9,6.0,6.1,5.6,6.7,5.6,5.8,6.2,5.6,5.9,6.1,6.3,6.1,6.4,6.6,6.8,6.7,6.0,5.7,5.5,5.5,5.8,6.0,5.4,6.0,6.7,6.3,5.6,5.5,5.5,6.1,5.8,5.0,5.6,5.7,5.7,6.2,5.1,5.7],\"yaxis\":\"y\"},{\"alignmentgroup\":\"True\",\"hovertemplate\":\"species=%{x}<br>sepal_length=%{y}<extra></extra>\",\"legendgroup\":\"virginica\",\"marker\":{\"color\":\"#00cc96\",\"pattern\":{\"shape\":\"\"}},\"name\":\"virginica\",\"offsetgroup\":\"virginica\",\"orientation\":\"v\",\"showlegend\":true,\"textposition\":\"auto\",\"type\":\"bar\",\"x\":[\"virginica\",\"virginica\",\"virginica\",\"virginica\",\"virginica\",\"virginica\",\"virginica\",\"virginica\",\"virginica\",\"virginica\",\"virginica\",\"virginica\",\"virginica\",\"virginica\",\"virginica\",\"virginica\",\"virginica\",\"virginica\",\"virginica\",\"virginica\",\"virginica\",\"virginica\",\"virginica\",\"virginica\",\"virginica\",\"virginica\",\"virginica\",\"virginica\",\"virginica\",\"virginica\",\"virginica\",\"virginica\",\"virginica\",\"virginica\",\"virginica\",\"virginica\",\"virginica\",\"virginica\",\"virginica\",\"virginica\",\"virginica\",\"virginica\",\"virginica\",\"virginica\",\"virginica\",\"virginica\",\"virginica\",\"virginica\",\"virginica\",\"virginica\"],\"xaxis\":\"x\",\"y\":[6.3,5.8,7.1,6.3,6.5,7.6,4.9,7.3,6.7,7.2,6.5,6.4,6.8,5.7,5.8,6.4,6.5,7.7,7.7,6.0,6.9,5.6,7.7,6.3,6.7,7.2,6.2,6.1,6.4,7.2,7.4,7.9,6.4,6.3,6.1,7.7,6.3,6.4,6.0,6.9,6.7,6.9,5.8,6.8,6.7,6.7,6.3,6.5,6.2,5.9],\"yaxis\":\"y\"}],                        {\"barmode\":\"relative\",\"legend\":{\"title\":{\"text\":\"species\"},\"tracegroupgap\":0},\"template\":{\"data\":{\"bar\":[{\"error_x\":{\"color\":\"#2a3f5f\"},\"error_y\":{\"color\":\"#2a3f5f\"},\"marker\":{\"line\":{\"color\":\"#E5ECF6\",\"width\":0.5},\"pattern\":{\"fillmode\":\"overlay\",\"size\":10,\"solidity\":0.2}},\"type\":\"bar\"}],\"barpolar\":[{\"marker\":{\"line\":{\"color\":\"#E5ECF6\",\"width\":0.5},\"pattern\":{\"fillmode\":\"overlay\",\"size\":10,\"solidity\":0.2}},\"type\":\"barpolar\"}],\"carpet\":[{\"aaxis\":{\"endlinecolor\":\"#2a3f5f\",\"gridcolor\":\"white\",\"linecolor\":\"white\",\"minorgridcolor\":\"white\",\"startlinecolor\":\"#2a3f5f\"},\"baxis\":{\"endlinecolor\":\"#2a3f5f\",\"gridcolor\":\"white\",\"linecolor\":\"white\",\"minorgridcolor\":\"white\",\"startlinecolor\":\"#2a3f5f\"},\"type\":\"carpet\"}],\"choropleth\":[{\"colorbar\":{\"outlinewidth\":0,\"ticks\":\"\"},\"type\":\"choropleth\"}],\"contour\":[{\"colorbar\":{\"outlinewidth\":0,\"ticks\":\"\"},\"colorscale\":[[0.0,\"#0d0887\"],[0.1111111111111111,\"#46039f\"],[0.2222222222222222,\"#7201a8\"],[0.3333333333333333,\"#9c179e\"],[0.4444444444444444,\"#bd3786\"],[0.5555555555555556,\"#d8576b\"],[0.6666666666666666,\"#ed7953\"],[0.7777777777777778,\"#fb9f3a\"],[0.8888888888888888,\"#fdca26\"],[1.0,\"#f0f921\"]],\"type\":\"contour\"}],\"contourcarpet\":[{\"colorbar\":{\"outlinewidth\":0,\"ticks\":\"\"},\"type\":\"contourcarpet\"}],\"heatmap\":[{\"colorbar\":{\"outlinewidth\":0,\"ticks\":\"\"},\"colorscale\":[[0.0,\"#0d0887\"],[0.1111111111111111,\"#46039f\"],[0.2222222222222222,\"#7201a8\"],[0.3333333333333333,\"#9c179e\"],[0.4444444444444444,\"#bd3786\"],[0.5555555555555556,\"#d8576b\"],[0.6666666666666666,\"#ed7953\"],[0.7777777777777778,\"#fb9f3a\"],[0.8888888888888888,\"#fdca26\"],[1.0,\"#f0f921\"]],\"type\":\"heatmap\"}],\"heatmapgl\":[{\"colorbar\":{\"outlinewidth\":0,\"ticks\":\"\"},\"colorscale\":[[0.0,\"#0d0887\"],[0.1111111111111111,\"#46039f\"],[0.2222222222222222,\"#7201a8\"],[0.3333333333333333,\"#9c179e\"],[0.4444444444444444,\"#bd3786\"],[0.5555555555555556,\"#d8576b\"],[0.6666666666666666,\"#ed7953\"],[0.7777777777777778,\"#fb9f3a\"],[0.8888888888888888,\"#fdca26\"],[1.0,\"#f0f921\"]],\"type\":\"heatmapgl\"}],\"histogram\":[{\"marker\":{\"pattern\":{\"fillmode\":\"overlay\",\"size\":10,\"solidity\":0.2}},\"type\":\"histogram\"}],\"histogram2d\":[{\"colorbar\":{\"outlinewidth\":0,\"ticks\":\"\"},\"colorscale\":[[0.0,\"#0d0887\"],[0.1111111111111111,\"#46039f\"],[0.2222222222222222,\"#7201a8\"],[0.3333333333333333,\"#9c179e\"],[0.4444444444444444,\"#bd3786\"],[0.5555555555555556,\"#d8576b\"],[0.6666666666666666,\"#ed7953\"],[0.7777777777777778,\"#fb9f3a\"],[0.8888888888888888,\"#fdca26\"],[1.0,\"#f0f921\"]],\"type\":\"histogram2d\"}],\"histogram2dcontour\":[{\"colorbar\":{\"outlinewidth\":0,\"ticks\":\"\"},\"colorscale\":[[0.0,\"#0d0887\"],[0.1111111111111111,\"#46039f\"],[0.2222222222222222,\"#7201a8\"],[0.3333333333333333,\"#9c179e\"],[0.4444444444444444,\"#bd3786\"],[0.5555555555555556,\"#d8576b\"],[0.6666666666666666,\"#ed7953\"],[0.7777777777777778,\"#fb9f3a\"],[0.8888888888888888,\"#fdca26\"],[1.0,\"#f0f921\"]],\"type\":\"histogram2dcontour\"}],\"mesh3d\":[{\"colorbar\":{\"outlinewidth\":0,\"ticks\":\"\"},\"type\":\"mesh3d\"}],\"parcoords\":[{\"line\":{\"colorbar\":{\"outlinewidth\":0,\"ticks\":\"\"}},\"type\":\"parcoords\"}],\"pie\":[{\"automargin\":true,\"type\":\"pie\"}],\"scatter\":[{\"marker\":{\"colorbar\":{\"outlinewidth\":0,\"ticks\":\"\"}},\"type\":\"scatter\"}],\"scatter3d\":[{\"line\":{\"colorbar\":{\"outlinewidth\":0,\"ticks\":\"\"}},\"marker\":{\"colorbar\":{\"outlinewidth\":0,\"ticks\":\"\"}},\"type\":\"scatter3d\"}],\"scattercarpet\":[{\"marker\":{\"colorbar\":{\"outlinewidth\":0,\"ticks\":\"\"}},\"type\":\"scattercarpet\"}],\"scattergeo\":[{\"marker\":{\"colorbar\":{\"outlinewidth\":0,\"ticks\":\"\"}},\"type\":\"scattergeo\"}],\"scattergl\":[{\"marker\":{\"colorbar\":{\"outlinewidth\":0,\"ticks\":\"\"}},\"type\":\"scattergl\"}],\"scattermapbox\":[{\"marker\":{\"colorbar\":{\"outlinewidth\":0,\"ticks\":\"\"}},\"type\":\"scattermapbox\"}],\"scatterpolar\":[{\"marker\":{\"colorbar\":{\"outlinewidth\":0,\"ticks\":\"\"}},\"type\":\"scatterpolar\"}],\"scatterpolargl\":[{\"marker\":{\"colorbar\":{\"outlinewidth\":0,\"ticks\":\"\"}},\"type\":\"scatterpolargl\"}],\"scatterternary\":[{\"marker\":{\"colorbar\":{\"outlinewidth\":0,\"ticks\":\"\"}},\"type\":\"scatterternary\"}],\"surface\":[{\"colorbar\":{\"outlinewidth\":0,\"ticks\":\"\"},\"colorscale\":[[0.0,\"#0d0887\"],[0.1111111111111111,\"#46039f\"],[0.2222222222222222,\"#7201a8\"],[0.3333333333333333,\"#9c179e\"],[0.4444444444444444,\"#bd3786\"],[0.5555555555555556,\"#d8576b\"],[0.6666666666666666,\"#ed7953\"],[0.7777777777777778,\"#fb9f3a\"],[0.8888888888888888,\"#fdca26\"],[1.0,\"#f0f921\"]],\"type\":\"surface\"}],\"table\":[{\"cells\":{\"fill\":{\"color\":\"#EBF0F8\"},\"line\":{\"color\":\"white\"}},\"header\":{\"fill\":{\"color\":\"#C8D4E3\"},\"line\":{\"color\":\"white\"}},\"type\":\"table\"}]},\"layout\":{\"annotationdefaults\":{\"arrowcolor\":\"#2a3f5f\",\"arrowhead\":0,\"arrowwidth\":1},\"autotypenumbers\":\"strict\",\"coloraxis\":{\"colorbar\":{\"outlinewidth\":0,\"ticks\":\"\"}},\"colorscale\":{\"diverging\":[[0,\"#8e0152\"],[0.1,\"#c51b7d\"],[0.2,\"#de77ae\"],[0.3,\"#f1b6da\"],[0.4,\"#fde0ef\"],[0.5,\"#f7f7f7\"],[0.6,\"#e6f5d0\"],[0.7,\"#b8e186\"],[0.8,\"#7fbc41\"],[0.9,\"#4d9221\"],[1,\"#276419\"]],\"sequential\":[[0.0,\"#0d0887\"],[0.1111111111111111,\"#46039f\"],[0.2222222222222222,\"#7201a8\"],[0.3333333333333333,\"#9c179e\"],[0.4444444444444444,\"#bd3786\"],[0.5555555555555556,\"#d8576b\"],[0.6666666666666666,\"#ed7953\"],[0.7777777777777778,\"#fb9f3a\"],[0.8888888888888888,\"#fdca26\"],[1.0,\"#f0f921\"]],\"sequentialminus\":[[0.0,\"#0d0887\"],[0.1111111111111111,\"#46039f\"],[0.2222222222222222,\"#7201a8\"],[0.3333333333333333,\"#9c179e\"],[0.4444444444444444,\"#bd3786\"],[0.5555555555555556,\"#d8576b\"],[0.6666666666666666,\"#ed7953\"],[0.7777777777777778,\"#fb9f3a\"],[0.8888888888888888,\"#fdca26\"],[1.0,\"#f0f921\"]]},\"colorway\":[\"#636efa\",\"#EF553B\",\"#00cc96\",\"#ab63fa\",\"#FFA15A\",\"#19d3f3\",\"#FF6692\",\"#B6E880\",\"#FF97FF\",\"#FECB52\"],\"font\":{\"color\":\"#2a3f5f\"},\"geo\":{\"bgcolor\":\"white\",\"lakecolor\":\"white\",\"landcolor\":\"#E5ECF6\",\"showlakes\":true,\"showland\":true,\"subunitcolor\":\"white\"},\"hoverlabel\":{\"align\":\"left\"},\"hovermode\":\"closest\",\"mapbox\":{\"style\":\"light\"},\"paper_bgcolor\":\"white\",\"plot_bgcolor\":\"#E5ECF6\",\"polar\":{\"angularaxis\":{\"gridcolor\":\"white\",\"linecolor\":\"white\",\"ticks\":\"\"},\"bgcolor\":\"#E5ECF6\",\"radialaxis\":{\"gridcolor\":\"white\",\"linecolor\":\"white\",\"ticks\":\"\"}},\"scene\":{\"xaxis\":{\"backgroundcolor\":\"#E5ECF6\",\"gridcolor\":\"white\",\"gridwidth\":2,\"linecolor\":\"white\",\"showbackground\":true,\"ticks\":\"\",\"zerolinecolor\":\"white\"},\"yaxis\":{\"backgroundcolor\":\"#E5ECF6\",\"gridcolor\":\"white\",\"gridwidth\":2,\"linecolor\":\"white\",\"showbackground\":true,\"ticks\":\"\",\"zerolinecolor\":\"white\"},\"zaxis\":{\"backgroundcolor\":\"#E5ECF6\",\"gridcolor\":\"white\",\"gridwidth\":2,\"linecolor\":\"white\",\"showbackground\":true,\"ticks\":\"\",\"zerolinecolor\":\"white\"}},\"shapedefaults\":{\"line\":{\"color\":\"#2a3f5f\"}},\"ternary\":{\"aaxis\":{\"gridcolor\":\"white\",\"linecolor\":\"white\",\"ticks\":\"\"},\"baxis\":{\"gridcolor\":\"white\",\"linecolor\":\"white\",\"ticks\":\"\"},\"bgcolor\":\"#E5ECF6\",\"caxis\":{\"gridcolor\":\"white\",\"linecolor\":\"white\",\"ticks\":\"\"}},\"title\":{\"x\":0.05},\"xaxis\":{\"automargin\":true,\"gridcolor\":\"white\",\"linecolor\":\"white\",\"ticks\":\"\",\"title\":{\"standoff\":15},\"zerolinecolor\":\"white\",\"zerolinewidth\":2},\"yaxis\":{\"automargin\":true,\"gridcolor\":\"white\",\"linecolor\":\"white\",\"ticks\":\"\",\"title\":{\"standoff\":15},\"zerolinecolor\":\"white\",\"zerolinewidth\":2}}},\"title\":{\"text\":\"Bar plot of sepal_length & sepal_length Based on species\"},\"xaxis\":{\"anchor\":\"y\",\"categoryarray\":[\"setosa\",\"versicolor\",\"virginica\"],\"categoryorder\":\"array\",\"domain\":[0.0,1.0],\"title\":{\"text\":\"species\"}},\"yaxis\":{\"anchor\":\"x\",\"domain\":[0.0,1.0],\"title\":{\"text\":\"sepal_length\"}}},                        {\"responsive\": true}                    ).then(function(){\n",
       "                            \n",
       "var gd = document.getElementById('3e1df885-9f66-42af-bec3-ec13486a0b78');\n",
       "var x = new MutationObserver(function (mutations, observer) {{\n",
       "        var display = window.getComputedStyle(gd).display;\n",
       "        if (!display || display === 'none') {{\n",
       "            console.log([gd, 'removed!']);\n",
       "            Plotly.purge(gd);\n",
       "            observer.disconnect();\n",
       "        }}\n",
       "}});\n",
       "\n",
       "// Listen for the removal of the full notebook cells\n",
       "var notebookContainer = gd.closest('#notebook-container');\n",
       "if (notebookContainer) {{\n",
       "    x.observe(notebookContainer, {childList: true});\n",
       "}}\n",
       "\n",
       "// Listen for the clearing of the current output cell\n",
       "var outputEl = gd.closest('.output');\n",
       "if (outputEl) {{\n",
       "    x.observe(outputEl, {childList: true});\n",
       "}}\n",
       "\n",
       "                        })                };                });            </script>        </div>"
      ]
     },
     "metadata": {},
     "output_type": "display_data"
    }
   ],
   "source": [
    "\n",
    "px.bar(df1 , x = \"species\" ,\n",
    "       y = \"sepal_length\"  ,\n",
    "       color = \"species\"   ,\n",
    "       title = \"Bar plot of sepal_length & sepal_length Based on species\" )"
   ]
  },
  {
   "cell_type": "code",
   "execution_count": 9,
   "id": "2a397535",
   "metadata": {},
   "outputs": [
    {
     "data": {
      "application/vnd.plotly.v1+json": {
       "config": {
        "plotlyServerURL": "https://plot.ly"
       },
       "data": [
        {
         "alignmentgroup": "True",
         "hovertemplate": "day=Sun<br>time=%{x}<br>total_bill=%{y}<extra></extra>",
         "legendgroup": "Sun",
         "marker": {
          "color": "#636efa",
          "pattern": {
           "shape": ""
          }
         },
         "name": "Sun",
         "offsetgroup": "Sun",
         "orientation": "v",
         "showlegend": true,
         "textposition": "auto",
         "type": "bar",
         "x": [
          "Dinner",
          "Dinner",
          "Dinner",
          "Dinner",
          "Dinner",
          "Dinner",
          "Dinner",
          "Dinner",
          "Dinner",
          "Dinner",
          "Dinner",
          "Dinner",
          "Dinner",
          "Dinner",
          "Dinner",
          "Dinner",
          "Dinner",
          "Dinner",
          "Dinner",
          "Dinner",
          "Dinner",
          "Dinner",
          "Dinner",
          "Dinner",
          "Dinner",
          "Dinner",
          "Dinner",
          "Dinner",
          "Dinner",
          "Dinner",
          "Dinner",
          "Dinner",
          "Dinner",
          "Dinner",
          "Dinner",
          "Dinner",
          "Dinner",
          "Dinner",
          "Dinner",
          "Dinner",
          "Dinner",
          "Dinner",
          "Dinner",
          "Dinner",
          "Dinner",
          "Dinner",
          "Dinner",
          "Dinner",
          "Dinner",
          "Dinner",
          "Dinner",
          "Dinner",
          "Dinner",
          "Dinner",
          "Dinner",
          "Dinner",
          "Dinner",
          "Dinner",
          "Dinner",
          "Dinner",
          "Dinner",
          "Dinner",
          "Dinner",
          "Dinner",
          "Dinner",
          "Dinner",
          "Dinner",
          "Dinner",
          "Dinner",
          "Dinner",
          "Dinner",
          "Dinner",
          "Dinner",
          "Dinner",
          "Dinner",
          "Dinner"
         ],
         "xaxis": "x",
         "y": [
          16.99,
          10.34,
          21.01,
          23.68,
          24.59,
          25.29,
          8.77,
          26.88,
          15.04,
          14.78,
          10.27,
          35.26,
          15.42,
          18.43,
          14.83,
          21.58,
          10.33,
          16.29,
          16.97,
          17.46,
          13.94,
          9.68,
          30.4,
          18.29,
          22.23,
          32.4,
          28.55,
          18.04,
          12.54,
          10.29,
          34.81,
          9.94,
          25.56,
          19.49,
          38.07,
          23.95,
          25.71,
          17.31,
          29.93,
          14.07,
          13.13,
          17.26,
          24.55,
          19.77,
          29.85,
          48.17,
          25,
          13.39,
          16.49,
          21.5,
          12.66,
          16.21,
          13.81,
          17.51,
          24.52,
          20.76,
          31.71,
          7.25,
          31.85,
          16.82,
          32.9,
          17.89,
          14.48,
          9.6,
          34.63,
          34.65,
          23.33,
          45.35,
          23.17,
          40.55,
          20.69,
          20.9,
          30.46,
          18.15,
          23.1,
          15.69
         ],
         "yaxis": "y"
        },
        {
         "alignmentgroup": "True",
         "hovertemplate": "day=Sat<br>time=%{x}<br>total_bill=%{y}<extra></extra>",
         "legendgroup": "Sat",
         "marker": {
          "color": "#EF553B",
          "pattern": {
           "shape": ""
          }
         },
         "name": "Sat",
         "offsetgroup": "Sat",
         "orientation": "v",
         "showlegend": true,
         "textposition": "auto",
         "type": "bar",
         "x": [
          "Dinner",
          "Dinner",
          "Dinner",
          "Dinner",
          "Dinner",
          "Dinner",
          "Dinner",
          "Dinner",
          "Dinner",
          "Dinner",
          "Dinner",
          "Dinner",
          "Dinner",
          "Dinner",
          "Dinner",
          "Dinner",
          "Dinner",
          "Dinner",
          "Dinner",
          "Dinner",
          "Dinner",
          "Dinner",
          "Dinner",
          "Dinner",
          "Dinner",
          "Dinner",
          "Dinner",
          "Dinner",
          "Dinner",
          "Dinner",
          "Dinner",
          "Dinner",
          "Dinner",
          "Dinner",
          "Dinner",
          "Dinner",
          "Dinner",
          "Dinner",
          "Dinner",
          "Dinner",
          "Dinner",
          "Dinner",
          "Dinner",
          "Dinner",
          "Dinner",
          "Dinner",
          "Dinner",
          "Dinner",
          "Dinner",
          "Dinner",
          "Dinner",
          "Dinner",
          "Dinner",
          "Dinner",
          "Dinner",
          "Dinner",
          "Dinner",
          "Dinner",
          "Dinner",
          "Dinner",
          "Dinner",
          "Dinner",
          "Dinner",
          "Dinner",
          "Dinner",
          "Dinner",
          "Dinner",
          "Dinner",
          "Dinner",
          "Dinner",
          "Dinner",
          "Dinner",
          "Dinner",
          "Dinner",
          "Dinner",
          "Dinner",
          "Dinner",
          "Dinner",
          "Dinner",
          "Dinner",
          "Dinner",
          "Dinner",
          "Dinner",
          "Dinner",
          "Dinner",
          "Dinner",
          "Dinner"
         ],
         "xaxis": "x",
         "y": [
          20.65,
          17.92,
          20.29,
          15.77,
          39.42,
          19.82,
          17.81,
          13.37,
          12.69,
          21.7,
          19.65,
          9.55,
          18.35,
          15.06,
          20.69,
          17.78,
          24.06,
          16.31,
          16.93,
          18.69,
          31.27,
          16.04,
          38.01,
          26.41,
          11.24,
          48.27,
          20.29,
          13.81,
          11.02,
          18.29,
          17.59,
          20.08,
          16.45,
          3.07,
          20.23,
          15.01,
          12.02,
          17.07,
          26.86,
          25.28,
          14.73,
          10.51,
          17.92,
          44.3,
          22.42,
          20.92,
          15.36,
          20.49,
          25.21,
          18.24,
          14.31,
          14,
          7.25,
          10.59,
          10.63,
          50.81,
          15.81,
          26.59,
          38.73,
          24.27,
          12.76,
          30.06,
          25.89,
          48.33,
          13.27,
          28.17,
          12.9,
          28.15,
          11.59,
          7.74,
          30.14,
          20.45,
          13.28,
          22.12,
          24.01,
          15.69,
          11.61,
          10.77,
          15.53,
          10.07,
          12.6,
          32.83,
          35.83,
          29.03,
          27.18,
          22.67,
          17.82
         ],
         "yaxis": "y"
        },
        {
         "alignmentgroup": "True",
         "hovertemplate": "day=Thur<br>time=%{x}<br>total_bill=%{y}<extra></extra>",
         "legendgroup": "Thur",
         "marker": {
          "color": "#00cc96",
          "pattern": {
           "shape": ""
          }
         },
         "name": "Thur",
         "offsetgroup": "Thur",
         "orientation": "v",
         "showlegend": true,
         "textposition": "auto",
         "type": "bar",
         "x": [
          "Lunch",
          "Lunch",
          "Lunch",
          "Lunch",
          "Lunch",
          "Lunch",
          "Lunch",
          "Lunch",
          "Lunch",
          "Lunch",
          "Lunch",
          "Lunch",
          "Lunch",
          "Lunch",
          "Lunch",
          "Lunch",
          "Lunch",
          "Lunch",
          "Lunch",
          "Lunch",
          "Lunch",
          "Lunch",
          "Lunch",
          "Lunch",
          "Lunch",
          "Lunch",
          "Lunch",
          "Lunch",
          "Lunch",
          "Lunch",
          "Lunch",
          "Lunch",
          "Lunch",
          "Lunch",
          "Lunch",
          "Lunch",
          "Lunch",
          "Lunch",
          "Lunch",
          "Lunch",
          "Lunch",
          "Lunch",
          "Lunch",
          "Lunch",
          "Lunch",
          "Lunch",
          "Lunch",
          "Lunch",
          "Lunch",
          "Lunch",
          "Lunch",
          "Lunch",
          "Lunch",
          "Lunch",
          "Lunch",
          "Lunch",
          "Lunch",
          "Lunch",
          "Lunch",
          "Lunch",
          "Lunch",
          "Dinner"
         ],
         "xaxis": "x",
         "y": [
          27.2,
          22.76,
          17.29,
          19.44,
          16.66,
          10.07,
          32.68,
          15.98,
          34.83,
          13.03,
          18.28,
          24.71,
          21.16,
          10.65,
          12.43,
          24.08,
          11.69,
          13.42,
          14.26,
          15.95,
          12.48,
          29.8,
          8.52,
          14.52,
          11.38,
          22.82,
          19.08,
          20.27,
          11.17,
          12.26,
          18.26,
          8.51,
          10.33,
          14.15,
          16,
          13.16,
          17.47,
          34.3,
          41.19,
          27.05,
          16.43,
          8.35,
          18.64,
          11.87,
          9.78,
          7.51,
          19.81,
          28.44,
          15.48,
          16.58,
          7.56,
          10.34,
          43.11,
          13,
          13.51,
          18.71,
          12.74,
          13,
          16.4,
          20.53,
          16.47,
          18.78
         ],
         "yaxis": "y"
        },
        {
         "alignmentgroup": "True",
         "hovertemplate": "day=Fri<br>time=%{x}<br>total_bill=%{y}<extra></extra>",
         "legendgroup": "Fri",
         "marker": {
          "color": "#ab63fa",
          "pattern": {
           "shape": ""
          }
         },
         "name": "Fri",
         "offsetgroup": "Fri",
         "orientation": "v",
         "showlegend": true,
         "textposition": "auto",
         "type": "bar",
         "x": [
          "Dinner",
          "Dinner",
          "Dinner",
          "Dinner",
          "Dinner",
          "Dinner",
          "Dinner",
          "Dinner",
          "Dinner",
          "Dinner",
          "Dinner",
          "Dinner",
          "Lunch",
          "Lunch",
          "Lunch",
          "Lunch",
          "Lunch",
          "Lunch",
          "Lunch"
         ],
         "xaxis": "x",
         "y": [
          28.97,
          22.49,
          5.75,
          16.32,
          22.75,
          40.17,
          27.28,
          12.03,
          21.01,
          12.46,
          11.35,
          15.38,
          12.16,
          13.42,
          8.58,
          15.98,
          13.42,
          16.27,
          10.09
         ],
         "yaxis": "y"
        }
       ],
       "layout": {
        "barmode": "group",
        "legend": {
         "title": {
          "text": "day"
         },
         "tracegroupgap": 0
        },
        "template": {
         "data": {
          "bar": [
           {
            "error_x": {
             "color": "#2a3f5f"
            },
            "error_y": {
             "color": "#2a3f5f"
            },
            "marker": {
             "line": {
              "color": "#E5ECF6",
              "width": 0.5
             },
             "pattern": {
              "fillmode": "overlay",
              "size": 10,
              "solidity": 0.2
             }
            },
            "type": "bar"
           }
          ],
          "barpolar": [
           {
            "marker": {
             "line": {
              "color": "#E5ECF6",
              "width": 0.5
             },
             "pattern": {
              "fillmode": "overlay",
              "size": 10,
              "solidity": 0.2
             }
            },
            "type": "barpolar"
           }
          ],
          "carpet": [
           {
            "aaxis": {
             "endlinecolor": "#2a3f5f",
             "gridcolor": "white",
             "linecolor": "white",
             "minorgridcolor": "white",
             "startlinecolor": "#2a3f5f"
            },
            "baxis": {
             "endlinecolor": "#2a3f5f",
             "gridcolor": "white",
             "linecolor": "white",
             "minorgridcolor": "white",
             "startlinecolor": "#2a3f5f"
            },
            "type": "carpet"
           }
          ],
          "choropleth": [
           {
            "colorbar": {
             "outlinewidth": 0,
             "ticks": ""
            },
            "type": "choropleth"
           }
          ],
          "contour": [
           {
            "colorbar": {
             "outlinewidth": 0,
             "ticks": ""
            },
            "colorscale": [
             [
              0,
              "#0d0887"
             ],
             [
              0.1111111111111111,
              "#46039f"
             ],
             [
              0.2222222222222222,
              "#7201a8"
             ],
             [
              0.3333333333333333,
              "#9c179e"
             ],
             [
              0.4444444444444444,
              "#bd3786"
             ],
             [
              0.5555555555555556,
              "#d8576b"
             ],
             [
              0.6666666666666666,
              "#ed7953"
             ],
             [
              0.7777777777777778,
              "#fb9f3a"
             ],
             [
              0.8888888888888888,
              "#fdca26"
             ],
             [
              1,
              "#f0f921"
             ]
            ],
            "type": "contour"
           }
          ],
          "contourcarpet": [
           {
            "colorbar": {
             "outlinewidth": 0,
             "ticks": ""
            },
            "type": "contourcarpet"
           }
          ],
          "heatmap": [
           {
            "colorbar": {
             "outlinewidth": 0,
             "ticks": ""
            },
            "colorscale": [
             [
              0,
              "#0d0887"
             ],
             [
              0.1111111111111111,
              "#46039f"
             ],
             [
              0.2222222222222222,
              "#7201a8"
             ],
             [
              0.3333333333333333,
              "#9c179e"
             ],
             [
              0.4444444444444444,
              "#bd3786"
             ],
             [
              0.5555555555555556,
              "#d8576b"
             ],
             [
              0.6666666666666666,
              "#ed7953"
             ],
             [
              0.7777777777777778,
              "#fb9f3a"
             ],
             [
              0.8888888888888888,
              "#fdca26"
             ],
             [
              1,
              "#f0f921"
             ]
            ],
            "type": "heatmap"
           }
          ],
          "heatmapgl": [
           {
            "colorbar": {
             "outlinewidth": 0,
             "ticks": ""
            },
            "colorscale": [
             [
              0,
              "#0d0887"
             ],
             [
              0.1111111111111111,
              "#46039f"
             ],
             [
              0.2222222222222222,
              "#7201a8"
             ],
             [
              0.3333333333333333,
              "#9c179e"
             ],
             [
              0.4444444444444444,
              "#bd3786"
             ],
             [
              0.5555555555555556,
              "#d8576b"
             ],
             [
              0.6666666666666666,
              "#ed7953"
             ],
             [
              0.7777777777777778,
              "#fb9f3a"
             ],
             [
              0.8888888888888888,
              "#fdca26"
             ],
             [
              1,
              "#f0f921"
             ]
            ],
            "type": "heatmapgl"
           }
          ],
          "histogram": [
           {
            "marker": {
             "pattern": {
              "fillmode": "overlay",
              "size": 10,
              "solidity": 0.2
             }
            },
            "type": "histogram"
           }
          ],
          "histogram2d": [
           {
            "colorbar": {
             "outlinewidth": 0,
             "ticks": ""
            },
            "colorscale": [
             [
              0,
              "#0d0887"
             ],
             [
              0.1111111111111111,
              "#46039f"
             ],
             [
              0.2222222222222222,
              "#7201a8"
             ],
             [
              0.3333333333333333,
              "#9c179e"
             ],
             [
              0.4444444444444444,
              "#bd3786"
             ],
             [
              0.5555555555555556,
              "#d8576b"
             ],
             [
              0.6666666666666666,
              "#ed7953"
             ],
             [
              0.7777777777777778,
              "#fb9f3a"
             ],
             [
              0.8888888888888888,
              "#fdca26"
             ],
             [
              1,
              "#f0f921"
             ]
            ],
            "type": "histogram2d"
           }
          ],
          "histogram2dcontour": [
           {
            "colorbar": {
             "outlinewidth": 0,
             "ticks": ""
            },
            "colorscale": [
             [
              0,
              "#0d0887"
             ],
             [
              0.1111111111111111,
              "#46039f"
             ],
             [
              0.2222222222222222,
              "#7201a8"
             ],
             [
              0.3333333333333333,
              "#9c179e"
             ],
             [
              0.4444444444444444,
              "#bd3786"
             ],
             [
              0.5555555555555556,
              "#d8576b"
             ],
             [
              0.6666666666666666,
              "#ed7953"
             ],
             [
              0.7777777777777778,
              "#fb9f3a"
             ],
             [
              0.8888888888888888,
              "#fdca26"
             ],
             [
              1,
              "#f0f921"
             ]
            ],
            "type": "histogram2dcontour"
           }
          ],
          "mesh3d": [
           {
            "colorbar": {
             "outlinewidth": 0,
             "ticks": ""
            },
            "type": "mesh3d"
           }
          ],
          "parcoords": [
           {
            "line": {
             "colorbar": {
              "outlinewidth": 0,
              "ticks": ""
             }
            },
            "type": "parcoords"
           }
          ],
          "pie": [
           {
            "automargin": true,
            "type": "pie"
           }
          ],
          "scatter": [
           {
            "marker": {
             "colorbar": {
              "outlinewidth": 0,
              "ticks": ""
             }
            },
            "type": "scatter"
           }
          ],
          "scatter3d": [
           {
            "line": {
             "colorbar": {
              "outlinewidth": 0,
              "ticks": ""
             }
            },
            "marker": {
             "colorbar": {
              "outlinewidth": 0,
              "ticks": ""
             }
            },
            "type": "scatter3d"
           }
          ],
          "scattercarpet": [
           {
            "marker": {
             "colorbar": {
              "outlinewidth": 0,
              "ticks": ""
             }
            },
            "type": "scattercarpet"
           }
          ],
          "scattergeo": [
           {
            "marker": {
             "colorbar": {
              "outlinewidth": 0,
              "ticks": ""
             }
            },
            "type": "scattergeo"
           }
          ],
          "scattergl": [
           {
            "marker": {
             "colorbar": {
              "outlinewidth": 0,
              "ticks": ""
             }
            },
            "type": "scattergl"
           }
          ],
          "scattermapbox": [
           {
            "marker": {
             "colorbar": {
              "outlinewidth": 0,
              "ticks": ""
             }
            },
            "type": "scattermapbox"
           }
          ],
          "scatterpolar": [
           {
            "marker": {
             "colorbar": {
              "outlinewidth": 0,
              "ticks": ""
             }
            },
            "type": "scatterpolar"
           }
          ],
          "scatterpolargl": [
           {
            "marker": {
             "colorbar": {
              "outlinewidth": 0,
              "ticks": ""
             }
            },
            "type": "scatterpolargl"
           }
          ],
          "scatterternary": [
           {
            "marker": {
             "colorbar": {
              "outlinewidth": 0,
              "ticks": ""
             }
            },
            "type": "scatterternary"
           }
          ],
          "surface": [
           {
            "colorbar": {
             "outlinewidth": 0,
             "ticks": ""
            },
            "colorscale": [
             [
              0,
              "#0d0887"
             ],
             [
              0.1111111111111111,
              "#46039f"
             ],
             [
              0.2222222222222222,
              "#7201a8"
             ],
             [
              0.3333333333333333,
              "#9c179e"
             ],
             [
              0.4444444444444444,
              "#bd3786"
             ],
             [
              0.5555555555555556,
              "#d8576b"
             ],
             [
              0.6666666666666666,
              "#ed7953"
             ],
             [
              0.7777777777777778,
              "#fb9f3a"
             ],
             [
              0.8888888888888888,
              "#fdca26"
             ],
             [
              1,
              "#f0f921"
             ]
            ],
            "type": "surface"
           }
          ],
          "table": [
           {
            "cells": {
             "fill": {
              "color": "#EBF0F8"
             },
             "line": {
              "color": "white"
             }
            },
            "header": {
             "fill": {
              "color": "#C8D4E3"
             },
             "line": {
              "color": "white"
             }
            },
            "type": "table"
           }
          ]
         },
         "layout": {
          "annotationdefaults": {
           "arrowcolor": "#2a3f5f",
           "arrowhead": 0,
           "arrowwidth": 1
          },
          "autotypenumbers": "strict",
          "coloraxis": {
           "colorbar": {
            "outlinewidth": 0,
            "ticks": ""
           }
          },
          "colorscale": {
           "diverging": [
            [
             0,
             "#8e0152"
            ],
            [
             0.1,
             "#c51b7d"
            ],
            [
             0.2,
             "#de77ae"
            ],
            [
             0.3,
             "#f1b6da"
            ],
            [
             0.4,
             "#fde0ef"
            ],
            [
             0.5,
             "#f7f7f7"
            ],
            [
             0.6,
             "#e6f5d0"
            ],
            [
             0.7,
             "#b8e186"
            ],
            [
             0.8,
             "#7fbc41"
            ],
            [
             0.9,
             "#4d9221"
            ],
            [
             1,
             "#276419"
            ]
           ],
           "sequential": [
            [
             0,
             "#0d0887"
            ],
            [
             0.1111111111111111,
             "#46039f"
            ],
            [
             0.2222222222222222,
             "#7201a8"
            ],
            [
             0.3333333333333333,
             "#9c179e"
            ],
            [
             0.4444444444444444,
             "#bd3786"
            ],
            [
             0.5555555555555556,
             "#d8576b"
            ],
            [
             0.6666666666666666,
             "#ed7953"
            ],
            [
             0.7777777777777778,
             "#fb9f3a"
            ],
            [
             0.8888888888888888,
             "#fdca26"
            ],
            [
             1,
             "#f0f921"
            ]
           ],
           "sequentialminus": [
            [
             0,
             "#0d0887"
            ],
            [
             0.1111111111111111,
             "#46039f"
            ],
            [
             0.2222222222222222,
             "#7201a8"
            ],
            [
             0.3333333333333333,
             "#9c179e"
            ],
            [
             0.4444444444444444,
             "#bd3786"
            ],
            [
             0.5555555555555556,
             "#d8576b"
            ],
            [
             0.6666666666666666,
             "#ed7953"
            ],
            [
             0.7777777777777778,
             "#fb9f3a"
            ],
            [
             0.8888888888888888,
             "#fdca26"
            ],
            [
             1,
             "#f0f921"
            ]
           ]
          },
          "colorway": [
           "#636efa",
           "#EF553B",
           "#00cc96",
           "#ab63fa",
           "#FFA15A",
           "#19d3f3",
           "#FF6692",
           "#B6E880",
           "#FF97FF",
           "#FECB52"
          ],
          "font": {
           "color": "#2a3f5f"
          },
          "geo": {
           "bgcolor": "white",
           "lakecolor": "white",
           "landcolor": "#E5ECF6",
           "showlakes": true,
           "showland": true,
           "subunitcolor": "white"
          },
          "hoverlabel": {
           "align": "left"
          },
          "hovermode": "closest",
          "mapbox": {
           "style": "light"
          },
          "paper_bgcolor": "white",
          "plot_bgcolor": "#E5ECF6",
          "polar": {
           "angularaxis": {
            "gridcolor": "white",
            "linecolor": "white",
            "ticks": ""
           },
           "bgcolor": "#E5ECF6",
           "radialaxis": {
            "gridcolor": "white",
            "linecolor": "white",
            "ticks": ""
           }
          },
          "scene": {
           "xaxis": {
            "backgroundcolor": "#E5ECF6",
            "gridcolor": "white",
            "gridwidth": 2,
            "linecolor": "white",
            "showbackground": true,
            "ticks": "",
            "zerolinecolor": "white"
           },
           "yaxis": {
            "backgroundcolor": "#E5ECF6",
            "gridcolor": "white",
            "gridwidth": 2,
            "linecolor": "white",
            "showbackground": true,
            "ticks": "",
            "zerolinecolor": "white"
           },
           "zaxis": {
            "backgroundcolor": "#E5ECF6",
            "gridcolor": "white",
            "gridwidth": 2,
            "linecolor": "white",
            "showbackground": true,
            "ticks": "",
            "zerolinecolor": "white"
           }
          },
          "shapedefaults": {
           "line": {
            "color": "#2a3f5f"
           }
          },
          "ternary": {
           "aaxis": {
            "gridcolor": "white",
            "linecolor": "white",
            "ticks": ""
           },
           "baxis": {
            "gridcolor": "white",
            "linecolor": "white",
            "ticks": ""
           },
           "bgcolor": "#E5ECF6",
           "caxis": {
            "gridcolor": "white",
            "linecolor": "white",
            "ticks": ""
           }
          },
          "title": {
           "x": 0.05
          },
          "xaxis": {
           "automargin": true,
           "gridcolor": "white",
           "linecolor": "white",
           "ticks": "",
           "title": {
            "standoff": 15
           },
           "zerolinecolor": "white",
           "zerolinewidth": 2
          },
          "yaxis": {
           "automargin": true,
           "gridcolor": "white",
           "linecolor": "white",
           "ticks": "",
           "title": {
            "standoff": 15
           },
           "zerolinecolor": "white",
           "zerolinewidth": 2
          }
         }
        },
        "title": {
         "text": "Bar plot of time & total_bill Based on day"
        },
        "xaxis": {
         "anchor": "y",
         "domain": [
          0,
          1
         ],
         "title": {
          "text": "time"
         }
        },
        "yaxis": {
         "anchor": "x",
         "domain": [
          0,
          1
         ],
         "title": {
          "text": "total_bill"
         }
        }
       }
      },
      "text/html": [
       "<div>                            <div id=\"16b5152a-8001-4538-b71e-846a879179a9\" class=\"plotly-graph-div\" style=\"height:525px; width:100%;\"></div>            <script type=\"text/javascript\">                require([\"plotly\"], function(Plotly) {                    window.PLOTLYENV=window.PLOTLYENV || {};                                    if (document.getElementById(\"16b5152a-8001-4538-b71e-846a879179a9\")) {                    Plotly.newPlot(                        \"16b5152a-8001-4538-b71e-846a879179a9\",                        [{\"alignmentgroup\":\"True\",\"hovertemplate\":\"day=Sun<br>time=%{x}<br>total_bill=%{y}<extra></extra>\",\"legendgroup\":\"Sun\",\"marker\":{\"color\":\"#636efa\",\"pattern\":{\"shape\":\"\"}},\"name\":\"Sun\",\"offsetgroup\":\"Sun\",\"orientation\":\"v\",\"showlegend\":true,\"textposition\":\"auto\",\"type\":\"bar\",\"x\":[\"Dinner\",\"Dinner\",\"Dinner\",\"Dinner\",\"Dinner\",\"Dinner\",\"Dinner\",\"Dinner\",\"Dinner\",\"Dinner\",\"Dinner\",\"Dinner\",\"Dinner\",\"Dinner\",\"Dinner\",\"Dinner\",\"Dinner\",\"Dinner\",\"Dinner\",\"Dinner\",\"Dinner\",\"Dinner\",\"Dinner\",\"Dinner\",\"Dinner\",\"Dinner\",\"Dinner\",\"Dinner\",\"Dinner\",\"Dinner\",\"Dinner\",\"Dinner\",\"Dinner\",\"Dinner\",\"Dinner\",\"Dinner\",\"Dinner\",\"Dinner\",\"Dinner\",\"Dinner\",\"Dinner\",\"Dinner\",\"Dinner\",\"Dinner\",\"Dinner\",\"Dinner\",\"Dinner\",\"Dinner\",\"Dinner\",\"Dinner\",\"Dinner\",\"Dinner\",\"Dinner\",\"Dinner\",\"Dinner\",\"Dinner\",\"Dinner\",\"Dinner\",\"Dinner\",\"Dinner\",\"Dinner\",\"Dinner\",\"Dinner\",\"Dinner\",\"Dinner\",\"Dinner\",\"Dinner\",\"Dinner\",\"Dinner\",\"Dinner\",\"Dinner\",\"Dinner\",\"Dinner\",\"Dinner\",\"Dinner\",\"Dinner\"],\"xaxis\":\"x\",\"y\":[16.99,10.34,21.01,23.68,24.59,25.29,8.77,26.88,15.04,14.78,10.27,35.26,15.42,18.43,14.83,21.58,10.33,16.29,16.97,17.46,13.94,9.68,30.4,18.29,22.23,32.4,28.55,18.04,12.54,10.29,34.81,9.94,25.56,19.49,38.07,23.95,25.71,17.31,29.93,14.07,13.13,17.26,24.55,19.77,29.85,48.17,25.0,13.39,16.49,21.5,12.66,16.21,13.81,17.51,24.52,20.76,31.71,7.25,31.85,16.82,32.9,17.89,14.48,9.6,34.63,34.65,23.33,45.35,23.17,40.55,20.69,20.9,30.46,18.15,23.1,15.69],\"yaxis\":\"y\"},{\"alignmentgroup\":\"True\",\"hovertemplate\":\"day=Sat<br>time=%{x}<br>total_bill=%{y}<extra></extra>\",\"legendgroup\":\"Sat\",\"marker\":{\"color\":\"#EF553B\",\"pattern\":{\"shape\":\"\"}},\"name\":\"Sat\",\"offsetgroup\":\"Sat\",\"orientation\":\"v\",\"showlegend\":true,\"textposition\":\"auto\",\"type\":\"bar\",\"x\":[\"Dinner\",\"Dinner\",\"Dinner\",\"Dinner\",\"Dinner\",\"Dinner\",\"Dinner\",\"Dinner\",\"Dinner\",\"Dinner\",\"Dinner\",\"Dinner\",\"Dinner\",\"Dinner\",\"Dinner\",\"Dinner\",\"Dinner\",\"Dinner\",\"Dinner\",\"Dinner\",\"Dinner\",\"Dinner\",\"Dinner\",\"Dinner\",\"Dinner\",\"Dinner\",\"Dinner\",\"Dinner\",\"Dinner\",\"Dinner\",\"Dinner\",\"Dinner\",\"Dinner\",\"Dinner\",\"Dinner\",\"Dinner\",\"Dinner\",\"Dinner\",\"Dinner\",\"Dinner\",\"Dinner\",\"Dinner\",\"Dinner\",\"Dinner\",\"Dinner\",\"Dinner\",\"Dinner\",\"Dinner\",\"Dinner\",\"Dinner\",\"Dinner\",\"Dinner\",\"Dinner\",\"Dinner\",\"Dinner\",\"Dinner\",\"Dinner\",\"Dinner\",\"Dinner\",\"Dinner\",\"Dinner\",\"Dinner\",\"Dinner\",\"Dinner\",\"Dinner\",\"Dinner\",\"Dinner\",\"Dinner\",\"Dinner\",\"Dinner\",\"Dinner\",\"Dinner\",\"Dinner\",\"Dinner\",\"Dinner\",\"Dinner\",\"Dinner\",\"Dinner\",\"Dinner\",\"Dinner\",\"Dinner\",\"Dinner\",\"Dinner\",\"Dinner\",\"Dinner\",\"Dinner\",\"Dinner\"],\"xaxis\":\"x\",\"y\":[20.65,17.92,20.29,15.77,39.42,19.82,17.81,13.37,12.69,21.7,19.65,9.55,18.35,15.06,20.69,17.78,24.06,16.31,16.93,18.69,31.27,16.04,38.01,26.41,11.24,48.27,20.29,13.81,11.02,18.29,17.59,20.08,16.45,3.07,20.23,15.01,12.02,17.07,26.86,25.28,14.73,10.51,17.92,44.3,22.42,20.92,15.36,20.49,25.21,18.24,14.31,14.0,7.25,10.59,10.63,50.81,15.81,26.59,38.73,24.27,12.76,30.06,25.89,48.33,13.27,28.17,12.9,28.15,11.59,7.74,30.14,20.45,13.28,22.12,24.01,15.69,11.61,10.77,15.53,10.07,12.6,32.83,35.83,29.03,27.18,22.67,17.82],\"yaxis\":\"y\"},{\"alignmentgroup\":\"True\",\"hovertemplate\":\"day=Thur<br>time=%{x}<br>total_bill=%{y}<extra></extra>\",\"legendgroup\":\"Thur\",\"marker\":{\"color\":\"#00cc96\",\"pattern\":{\"shape\":\"\"}},\"name\":\"Thur\",\"offsetgroup\":\"Thur\",\"orientation\":\"v\",\"showlegend\":true,\"textposition\":\"auto\",\"type\":\"bar\",\"x\":[\"Lunch\",\"Lunch\",\"Lunch\",\"Lunch\",\"Lunch\",\"Lunch\",\"Lunch\",\"Lunch\",\"Lunch\",\"Lunch\",\"Lunch\",\"Lunch\",\"Lunch\",\"Lunch\",\"Lunch\",\"Lunch\",\"Lunch\",\"Lunch\",\"Lunch\",\"Lunch\",\"Lunch\",\"Lunch\",\"Lunch\",\"Lunch\",\"Lunch\",\"Lunch\",\"Lunch\",\"Lunch\",\"Lunch\",\"Lunch\",\"Lunch\",\"Lunch\",\"Lunch\",\"Lunch\",\"Lunch\",\"Lunch\",\"Lunch\",\"Lunch\",\"Lunch\",\"Lunch\",\"Lunch\",\"Lunch\",\"Lunch\",\"Lunch\",\"Lunch\",\"Lunch\",\"Lunch\",\"Lunch\",\"Lunch\",\"Lunch\",\"Lunch\",\"Lunch\",\"Lunch\",\"Lunch\",\"Lunch\",\"Lunch\",\"Lunch\",\"Lunch\",\"Lunch\",\"Lunch\",\"Lunch\",\"Dinner\"],\"xaxis\":\"x\",\"y\":[27.2,22.76,17.29,19.44,16.66,10.07,32.68,15.98,34.83,13.03,18.28,24.71,21.16,10.65,12.43,24.08,11.69,13.42,14.26,15.95,12.48,29.8,8.52,14.52,11.38,22.82,19.08,20.27,11.17,12.26,18.26,8.51,10.33,14.15,16.0,13.16,17.47,34.3,41.19,27.05,16.43,8.35,18.64,11.87,9.78,7.51,19.81,28.44,15.48,16.58,7.56,10.34,43.11,13.0,13.51,18.71,12.74,13.0,16.4,20.53,16.47,18.78],\"yaxis\":\"y\"},{\"alignmentgroup\":\"True\",\"hovertemplate\":\"day=Fri<br>time=%{x}<br>total_bill=%{y}<extra></extra>\",\"legendgroup\":\"Fri\",\"marker\":{\"color\":\"#ab63fa\",\"pattern\":{\"shape\":\"\"}},\"name\":\"Fri\",\"offsetgroup\":\"Fri\",\"orientation\":\"v\",\"showlegend\":true,\"textposition\":\"auto\",\"type\":\"bar\",\"x\":[\"Dinner\",\"Dinner\",\"Dinner\",\"Dinner\",\"Dinner\",\"Dinner\",\"Dinner\",\"Dinner\",\"Dinner\",\"Dinner\",\"Dinner\",\"Dinner\",\"Lunch\",\"Lunch\",\"Lunch\",\"Lunch\",\"Lunch\",\"Lunch\",\"Lunch\"],\"xaxis\":\"x\",\"y\":[28.97,22.49,5.75,16.32,22.75,40.17,27.28,12.03,21.01,12.46,11.35,15.38,12.16,13.42,8.58,15.98,13.42,16.27,10.09],\"yaxis\":\"y\"}],                        {\"barmode\":\"group\",\"legend\":{\"title\":{\"text\":\"day\"},\"tracegroupgap\":0},\"template\":{\"data\":{\"bar\":[{\"error_x\":{\"color\":\"#2a3f5f\"},\"error_y\":{\"color\":\"#2a3f5f\"},\"marker\":{\"line\":{\"color\":\"#E5ECF6\",\"width\":0.5},\"pattern\":{\"fillmode\":\"overlay\",\"size\":10,\"solidity\":0.2}},\"type\":\"bar\"}],\"barpolar\":[{\"marker\":{\"line\":{\"color\":\"#E5ECF6\",\"width\":0.5},\"pattern\":{\"fillmode\":\"overlay\",\"size\":10,\"solidity\":0.2}},\"type\":\"barpolar\"}],\"carpet\":[{\"aaxis\":{\"endlinecolor\":\"#2a3f5f\",\"gridcolor\":\"white\",\"linecolor\":\"white\",\"minorgridcolor\":\"white\",\"startlinecolor\":\"#2a3f5f\"},\"baxis\":{\"endlinecolor\":\"#2a3f5f\",\"gridcolor\":\"white\",\"linecolor\":\"white\",\"minorgridcolor\":\"white\",\"startlinecolor\":\"#2a3f5f\"},\"type\":\"carpet\"}],\"choropleth\":[{\"colorbar\":{\"outlinewidth\":0,\"ticks\":\"\"},\"type\":\"choropleth\"}],\"contour\":[{\"colorbar\":{\"outlinewidth\":0,\"ticks\":\"\"},\"colorscale\":[[0.0,\"#0d0887\"],[0.1111111111111111,\"#46039f\"],[0.2222222222222222,\"#7201a8\"],[0.3333333333333333,\"#9c179e\"],[0.4444444444444444,\"#bd3786\"],[0.5555555555555556,\"#d8576b\"],[0.6666666666666666,\"#ed7953\"],[0.7777777777777778,\"#fb9f3a\"],[0.8888888888888888,\"#fdca26\"],[1.0,\"#f0f921\"]],\"type\":\"contour\"}],\"contourcarpet\":[{\"colorbar\":{\"outlinewidth\":0,\"ticks\":\"\"},\"type\":\"contourcarpet\"}],\"heatmap\":[{\"colorbar\":{\"outlinewidth\":0,\"ticks\":\"\"},\"colorscale\":[[0.0,\"#0d0887\"],[0.1111111111111111,\"#46039f\"],[0.2222222222222222,\"#7201a8\"],[0.3333333333333333,\"#9c179e\"],[0.4444444444444444,\"#bd3786\"],[0.5555555555555556,\"#d8576b\"],[0.6666666666666666,\"#ed7953\"],[0.7777777777777778,\"#fb9f3a\"],[0.8888888888888888,\"#fdca26\"],[1.0,\"#f0f921\"]],\"type\":\"heatmap\"}],\"heatmapgl\":[{\"colorbar\":{\"outlinewidth\":0,\"ticks\":\"\"},\"colorscale\":[[0.0,\"#0d0887\"],[0.1111111111111111,\"#46039f\"],[0.2222222222222222,\"#7201a8\"],[0.3333333333333333,\"#9c179e\"],[0.4444444444444444,\"#bd3786\"],[0.5555555555555556,\"#d8576b\"],[0.6666666666666666,\"#ed7953\"],[0.7777777777777778,\"#fb9f3a\"],[0.8888888888888888,\"#fdca26\"],[1.0,\"#f0f921\"]],\"type\":\"heatmapgl\"}],\"histogram\":[{\"marker\":{\"pattern\":{\"fillmode\":\"overlay\",\"size\":10,\"solidity\":0.2}},\"type\":\"histogram\"}],\"histogram2d\":[{\"colorbar\":{\"outlinewidth\":0,\"ticks\":\"\"},\"colorscale\":[[0.0,\"#0d0887\"],[0.1111111111111111,\"#46039f\"],[0.2222222222222222,\"#7201a8\"],[0.3333333333333333,\"#9c179e\"],[0.4444444444444444,\"#bd3786\"],[0.5555555555555556,\"#d8576b\"],[0.6666666666666666,\"#ed7953\"],[0.7777777777777778,\"#fb9f3a\"],[0.8888888888888888,\"#fdca26\"],[1.0,\"#f0f921\"]],\"type\":\"histogram2d\"}],\"histogram2dcontour\":[{\"colorbar\":{\"outlinewidth\":0,\"ticks\":\"\"},\"colorscale\":[[0.0,\"#0d0887\"],[0.1111111111111111,\"#46039f\"],[0.2222222222222222,\"#7201a8\"],[0.3333333333333333,\"#9c179e\"],[0.4444444444444444,\"#bd3786\"],[0.5555555555555556,\"#d8576b\"],[0.6666666666666666,\"#ed7953\"],[0.7777777777777778,\"#fb9f3a\"],[0.8888888888888888,\"#fdca26\"],[1.0,\"#f0f921\"]],\"type\":\"histogram2dcontour\"}],\"mesh3d\":[{\"colorbar\":{\"outlinewidth\":0,\"ticks\":\"\"},\"type\":\"mesh3d\"}],\"parcoords\":[{\"line\":{\"colorbar\":{\"outlinewidth\":0,\"ticks\":\"\"}},\"type\":\"parcoords\"}],\"pie\":[{\"automargin\":true,\"type\":\"pie\"}],\"scatter\":[{\"marker\":{\"colorbar\":{\"outlinewidth\":0,\"ticks\":\"\"}},\"type\":\"scatter\"}],\"scatter3d\":[{\"line\":{\"colorbar\":{\"outlinewidth\":0,\"ticks\":\"\"}},\"marker\":{\"colorbar\":{\"outlinewidth\":0,\"ticks\":\"\"}},\"type\":\"scatter3d\"}],\"scattercarpet\":[{\"marker\":{\"colorbar\":{\"outlinewidth\":0,\"ticks\":\"\"}},\"type\":\"scattercarpet\"}],\"scattergeo\":[{\"marker\":{\"colorbar\":{\"outlinewidth\":0,\"ticks\":\"\"}},\"type\":\"scattergeo\"}],\"scattergl\":[{\"marker\":{\"colorbar\":{\"outlinewidth\":0,\"ticks\":\"\"}},\"type\":\"scattergl\"}],\"scattermapbox\":[{\"marker\":{\"colorbar\":{\"outlinewidth\":0,\"ticks\":\"\"}},\"type\":\"scattermapbox\"}],\"scatterpolar\":[{\"marker\":{\"colorbar\":{\"outlinewidth\":0,\"ticks\":\"\"}},\"type\":\"scatterpolar\"}],\"scatterpolargl\":[{\"marker\":{\"colorbar\":{\"outlinewidth\":0,\"ticks\":\"\"}},\"type\":\"scatterpolargl\"}],\"scatterternary\":[{\"marker\":{\"colorbar\":{\"outlinewidth\":0,\"ticks\":\"\"}},\"type\":\"scatterternary\"}],\"surface\":[{\"colorbar\":{\"outlinewidth\":0,\"ticks\":\"\"},\"colorscale\":[[0.0,\"#0d0887\"],[0.1111111111111111,\"#46039f\"],[0.2222222222222222,\"#7201a8\"],[0.3333333333333333,\"#9c179e\"],[0.4444444444444444,\"#bd3786\"],[0.5555555555555556,\"#d8576b\"],[0.6666666666666666,\"#ed7953\"],[0.7777777777777778,\"#fb9f3a\"],[0.8888888888888888,\"#fdca26\"],[1.0,\"#f0f921\"]],\"type\":\"surface\"}],\"table\":[{\"cells\":{\"fill\":{\"color\":\"#EBF0F8\"},\"line\":{\"color\":\"white\"}},\"header\":{\"fill\":{\"color\":\"#C8D4E3\"},\"line\":{\"color\":\"white\"}},\"type\":\"table\"}]},\"layout\":{\"annotationdefaults\":{\"arrowcolor\":\"#2a3f5f\",\"arrowhead\":0,\"arrowwidth\":1},\"autotypenumbers\":\"strict\",\"coloraxis\":{\"colorbar\":{\"outlinewidth\":0,\"ticks\":\"\"}},\"colorscale\":{\"diverging\":[[0,\"#8e0152\"],[0.1,\"#c51b7d\"],[0.2,\"#de77ae\"],[0.3,\"#f1b6da\"],[0.4,\"#fde0ef\"],[0.5,\"#f7f7f7\"],[0.6,\"#e6f5d0\"],[0.7,\"#b8e186\"],[0.8,\"#7fbc41\"],[0.9,\"#4d9221\"],[1,\"#276419\"]],\"sequential\":[[0.0,\"#0d0887\"],[0.1111111111111111,\"#46039f\"],[0.2222222222222222,\"#7201a8\"],[0.3333333333333333,\"#9c179e\"],[0.4444444444444444,\"#bd3786\"],[0.5555555555555556,\"#d8576b\"],[0.6666666666666666,\"#ed7953\"],[0.7777777777777778,\"#fb9f3a\"],[0.8888888888888888,\"#fdca26\"],[1.0,\"#f0f921\"]],\"sequentialminus\":[[0.0,\"#0d0887\"],[0.1111111111111111,\"#46039f\"],[0.2222222222222222,\"#7201a8\"],[0.3333333333333333,\"#9c179e\"],[0.4444444444444444,\"#bd3786\"],[0.5555555555555556,\"#d8576b\"],[0.6666666666666666,\"#ed7953\"],[0.7777777777777778,\"#fb9f3a\"],[0.8888888888888888,\"#fdca26\"],[1.0,\"#f0f921\"]]},\"colorway\":[\"#636efa\",\"#EF553B\",\"#00cc96\",\"#ab63fa\",\"#FFA15A\",\"#19d3f3\",\"#FF6692\",\"#B6E880\",\"#FF97FF\",\"#FECB52\"],\"font\":{\"color\":\"#2a3f5f\"},\"geo\":{\"bgcolor\":\"white\",\"lakecolor\":\"white\",\"landcolor\":\"#E5ECF6\",\"showlakes\":true,\"showland\":true,\"subunitcolor\":\"white\"},\"hoverlabel\":{\"align\":\"left\"},\"hovermode\":\"closest\",\"mapbox\":{\"style\":\"light\"},\"paper_bgcolor\":\"white\",\"plot_bgcolor\":\"#E5ECF6\",\"polar\":{\"angularaxis\":{\"gridcolor\":\"white\",\"linecolor\":\"white\",\"ticks\":\"\"},\"bgcolor\":\"#E5ECF6\",\"radialaxis\":{\"gridcolor\":\"white\",\"linecolor\":\"white\",\"ticks\":\"\"}},\"scene\":{\"xaxis\":{\"backgroundcolor\":\"#E5ECF6\",\"gridcolor\":\"white\",\"gridwidth\":2,\"linecolor\":\"white\",\"showbackground\":true,\"ticks\":\"\",\"zerolinecolor\":\"white\"},\"yaxis\":{\"backgroundcolor\":\"#E5ECF6\",\"gridcolor\":\"white\",\"gridwidth\":2,\"linecolor\":\"white\",\"showbackground\":true,\"ticks\":\"\",\"zerolinecolor\":\"white\"},\"zaxis\":{\"backgroundcolor\":\"#E5ECF6\",\"gridcolor\":\"white\",\"gridwidth\":2,\"linecolor\":\"white\",\"showbackground\":true,\"ticks\":\"\",\"zerolinecolor\":\"white\"}},\"shapedefaults\":{\"line\":{\"color\":\"#2a3f5f\"}},\"ternary\":{\"aaxis\":{\"gridcolor\":\"white\",\"linecolor\":\"white\",\"ticks\":\"\"},\"baxis\":{\"gridcolor\":\"white\",\"linecolor\":\"white\",\"ticks\":\"\"},\"bgcolor\":\"#E5ECF6\",\"caxis\":{\"gridcolor\":\"white\",\"linecolor\":\"white\",\"ticks\":\"\"}},\"title\":{\"x\":0.05},\"xaxis\":{\"automargin\":true,\"gridcolor\":\"white\",\"linecolor\":\"white\",\"ticks\":\"\",\"title\":{\"standoff\":15},\"zerolinecolor\":\"white\",\"zerolinewidth\":2},\"yaxis\":{\"automargin\":true,\"gridcolor\":\"white\",\"linecolor\":\"white\",\"ticks\":\"\",\"title\":{\"standoff\":15},\"zerolinecolor\":\"white\",\"zerolinewidth\":2}}},\"title\":{\"text\":\"Bar plot of time & total_bill Based on day\"},\"xaxis\":{\"anchor\":\"y\",\"domain\":[0.0,1.0],\"title\":{\"text\":\"time\"}},\"yaxis\":{\"anchor\":\"x\",\"domain\":[0.0,1.0],\"title\":{\"text\":\"total_bill\"}}},                        {\"responsive\": true}                    ).then(function(){\n",
       "                            \n",
       "var gd = document.getElementById('16b5152a-8001-4538-b71e-846a879179a9');\n",
       "var x = new MutationObserver(function (mutations, observer) {{\n",
       "        var display = window.getComputedStyle(gd).display;\n",
       "        if (!display || display === 'none') {{\n",
       "            console.log([gd, 'removed!']);\n",
       "            Plotly.purge(gd);\n",
       "            observer.disconnect();\n",
       "        }}\n",
       "}});\n",
       "\n",
       "// Listen for the removal of the full notebook cells\n",
       "var notebookContainer = gd.closest('#notebook-container');\n",
       "if (notebookContainer) {{\n",
       "    x.observe(notebookContainer, {childList: true});\n",
       "}}\n",
       "\n",
       "// Listen for the clearing of the current output cell\n",
       "var outputEl = gd.closest('.output');\n",
       "if (outputEl) {{\n",
       "    x.observe(outputEl, {childList: true});\n",
       "}}\n",
       "\n",
       "                        })                };                });            </script>        </div>"
      ]
     },
     "metadata": {},
     "output_type": "display_data"
    }
   ],
   "source": [
    "px.bar(df2 , x = \"time\" ,\n",
    "       y = \"total_bill\"  ,\n",
    "       color = \"day\"   ,\n",
    "       barmode='group' ,\n",
    "       title = \"Bar plot of time & total_bill Based on day\")\n"
   ]
  },
  {
   "cell_type": "code",
   "execution_count": 10,
   "id": "39be9bfd",
   "metadata": {},
   "outputs": [
    {
     "data": {
      "application/vnd.plotly.v1+json": {
       "config": {
        "plotlyServerURL": "https://plot.ly"
       },
       "data": [
        {
         "alignmentgroup": "True",
         "hovertemplate": "date=%{x}<br>GOOG=%{y}<extra></extra>",
         "legendgroup": "",
         "marker": {
          "color": "#636efa",
          "pattern": {
           "shape": ""
          }
         },
         "name": "",
         "offsetgroup": "",
         "orientation": "v",
         "showlegend": false,
         "textposition": "auto",
         "type": "bar",
         "x": [
          "2018-01-01",
          "2018-01-08",
          "2018-01-15",
          "2018-01-22",
          "2018-01-29",
          "2018-02-05",
          "2018-02-12",
          "2018-02-19",
          "2018-02-26",
          "2018-03-05",
          "2018-03-12",
          "2018-03-19",
          "2018-03-26",
          "2018-04-02",
          "2018-04-09",
          "2018-04-16",
          "2018-04-23",
          "2018-04-30",
          "2018-05-07",
          "2018-05-14",
          "2018-05-21",
          "2018-05-28",
          "2018-06-04",
          "2018-06-11",
          "2018-06-18",
          "2018-06-25",
          "2018-07-02",
          "2018-07-09",
          "2018-07-16",
          "2018-07-23",
          "2018-07-30",
          "2018-08-06",
          "2018-08-13",
          "2018-08-20",
          "2018-08-27",
          "2018-09-03",
          "2018-09-10",
          "2018-09-17",
          "2018-09-24",
          "2018-10-01",
          "2018-10-08",
          "2018-10-15",
          "2018-10-22",
          "2018-10-29",
          "2018-11-05",
          "2018-11-12",
          "2018-11-19",
          "2018-11-26",
          "2018-12-03",
          "2018-12-10",
          "2018-12-17",
          "2018-12-24",
          "2018-12-31",
          "2019-01-07",
          "2019-01-14",
          "2019-01-21",
          "2019-01-28",
          "2019-02-04",
          "2019-02-11",
          "2019-02-18",
          "2019-02-25",
          "2019-03-04",
          "2019-03-11",
          "2019-03-18",
          "2019-03-25",
          "2019-04-01",
          "2019-04-08",
          "2019-04-15",
          "2019-04-22",
          "2019-04-29",
          "2019-05-06",
          "2019-05-13",
          "2019-05-20",
          "2019-05-27",
          "2019-06-03",
          "2019-06-10",
          "2019-06-17",
          "2019-06-24",
          "2019-07-01",
          "2019-07-08",
          "2019-07-15",
          "2019-07-22",
          "2019-07-29",
          "2019-08-05",
          "2019-08-12",
          "2019-08-19",
          "2019-08-26",
          "2019-09-02",
          "2019-09-09",
          "2019-09-16",
          "2019-09-23",
          "2019-09-30",
          "2019-10-07",
          "2019-10-14",
          "2019-10-21",
          "2019-10-28",
          "2019-11-04",
          "2019-11-11",
          "2019-11-18",
          "2019-11-25",
          "2019-12-02",
          "2019-12-09",
          "2019-12-16",
          "2019-12-23",
          "2019-12-30"
         ],
         "xaxis": "x",
         "y": [
          1,
          1.018172278347936,
          1.032007866452698,
          1.066782783389724,
          1.0087731636550117,
          0.9415276737437316,
          0.99325918262539,
          1.0222821547641083,
          0.9788520214265992,
          1.0524482730908842,
          1.0303929312465263,
          0.926821104067592,
          0.9360932452590338,
          0.913638710861412,
          0.93380695379017,
          0.9734447261178653,
          0.9345146364100892,
          0.9509902470625956,
          0.9963982380519172,
          0.9674568868105002,
          0.9758943718805396,
          1.015668254641377,
          1.0169111849053498,
          1.0453898287179595,
          1.0483111519067918,
          1.0121753574512644,
          1.0344211867653972,
          1.0785588920381208,
          1.075011617811375,
          1.1236312044424703,
          1.1102129167272332,
          1.1228237368393843,
          1.0895729410299655,
          1.1074367837463466,
          1.1052048693141154,
          1.0567939333314087,
          1.0637798374890872,
          1.0579370795194665,
          1.0827776350267664,
          1.0500077089175164,
          1.007121903906116,
          0.9947651405743836,
          0.9720929301886708,
          0.959681788913054,
          0.9672663993407256,
          0.9630385756700248,
          0.9289168536315806,
          0.992923504040418,
          0.9404389054995582,
          0.945446952912676,
          0.8886892896888904,
          0.9408925313390586,
          0.9714034098401132,
          0.9591373489949891,
          0.9963982380519172,
          0.989802500200548,
          1.0077298024501202,
          0.9934950771344468,
          1.0103608540932627,
          1.0073850422758417,
          1.035165084150587,
          1.0363716889645844,
          1.0746032883264525,
          1.0936918990354445,
          1.064487521016258,
          1.095188886079836,
          1.1049145977684258,
          1.1216987538299403,
          1.1541874899828073,
          1.075456162061569,
          1.0562859304552756,
          1.0544986709579427,
          1.0283425342867192,
          1.001270175031893,
          0.9671666152648106,
          0.98468558802946,
          1.0178275181736574,
          0.980657443195294,
          1.0266368965939394,
          1.0387124690620373,
          1.025285100664745,
          1.1344366027859267,
          1.0832494231376286,
          1.0778240762422375,
          1.068379555417282,
          1.0445098208996275,
          1.0779056980467905,
          1.0931748145700046,
          1.12459294475006,
          1.115856106545024,
          1.1114649285805127,
          1.0968672799119472,
          1.10271900878617,
          1.129972884606169,
          1.1477913211905195,
          1.155602744537941,
          1.189742629754999,
          1.2110630442115171,
          1.1751993590303178,
          1.183927115646047,
          1.216279741365772,
          1.222820990588552,
          1.22441776261611,
          1.2265044859331442,
          1.213013658002661
         ],
         "yaxis": "y"
        }
       ],
       "layout": {
        "barmode": "relative",
        "legend": {
         "tracegroupgap": 0
        },
        "template": {
         "data": {
          "bar": [
           {
            "error_x": {
             "color": "#2a3f5f"
            },
            "error_y": {
             "color": "#2a3f5f"
            },
            "marker": {
             "line": {
              "color": "#E5ECF6",
              "width": 0.5
             },
             "pattern": {
              "fillmode": "overlay",
              "size": 10,
              "solidity": 0.2
             }
            },
            "type": "bar"
           }
          ],
          "barpolar": [
           {
            "marker": {
             "line": {
              "color": "#E5ECF6",
              "width": 0.5
             },
             "pattern": {
              "fillmode": "overlay",
              "size": 10,
              "solidity": 0.2
             }
            },
            "type": "barpolar"
           }
          ],
          "carpet": [
           {
            "aaxis": {
             "endlinecolor": "#2a3f5f",
             "gridcolor": "white",
             "linecolor": "white",
             "minorgridcolor": "white",
             "startlinecolor": "#2a3f5f"
            },
            "baxis": {
             "endlinecolor": "#2a3f5f",
             "gridcolor": "white",
             "linecolor": "white",
             "minorgridcolor": "white",
             "startlinecolor": "#2a3f5f"
            },
            "type": "carpet"
           }
          ],
          "choropleth": [
           {
            "colorbar": {
             "outlinewidth": 0,
             "ticks": ""
            },
            "type": "choropleth"
           }
          ],
          "contour": [
           {
            "colorbar": {
             "outlinewidth": 0,
             "ticks": ""
            },
            "colorscale": [
             [
              0,
              "#0d0887"
             ],
             [
              0.1111111111111111,
              "#46039f"
             ],
             [
              0.2222222222222222,
              "#7201a8"
             ],
             [
              0.3333333333333333,
              "#9c179e"
             ],
             [
              0.4444444444444444,
              "#bd3786"
             ],
             [
              0.5555555555555556,
              "#d8576b"
             ],
             [
              0.6666666666666666,
              "#ed7953"
             ],
             [
              0.7777777777777778,
              "#fb9f3a"
             ],
             [
              0.8888888888888888,
              "#fdca26"
             ],
             [
              1,
              "#f0f921"
             ]
            ],
            "type": "contour"
           }
          ],
          "contourcarpet": [
           {
            "colorbar": {
             "outlinewidth": 0,
             "ticks": ""
            },
            "type": "contourcarpet"
           }
          ],
          "heatmap": [
           {
            "colorbar": {
             "outlinewidth": 0,
             "ticks": ""
            },
            "colorscale": [
             [
              0,
              "#0d0887"
             ],
             [
              0.1111111111111111,
              "#46039f"
             ],
             [
              0.2222222222222222,
              "#7201a8"
             ],
             [
              0.3333333333333333,
              "#9c179e"
             ],
             [
              0.4444444444444444,
              "#bd3786"
             ],
             [
              0.5555555555555556,
              "#d8576b"
             ],
             [
              0.6666666666666666,
              "#ed7953"
             ],
             [
              0.7777777777777778,
              "#fb9f3a"
             ],
             [
              0.8888888888888888,
              "#fdca26"
             ],
             [
              1,
              "#f0f921"
             ]
            ],
            "type": "heatmap"
           }
          ],
          "heatmapgl": [
           {
            "colorbar": {
             "outlinewidth": 0,
             "ticks": ""
            },
            "colorscale": [
             [
              0,
              "#0d0887"
             ],
             [
              0.1111111111111111,
              "#46039f"
             ],
             [
              0.2222222222222222,
              "#7201a8"
             ],
             [
              0.3333333333333333,
              "#9c179e"
             ],
             [
              0.4444444444444444,
              "#bd3786"
             ],
             [
              0.5555555555555556,
              "#d8576b"
             ],
             [
              0.6666666666666666,
              "#ed7953"
             ],
             [
              0.7777777777777778,
              "#fb9f3a"
             ],
             [
              0.8888888888888888,
              "#fdca26"
             ],
             [
              1,
              "#f0f921"
             ]
            ],
            "type": "heatmapgl"
           }
          ],
          "histogram": [
           {
            "marker": {
             "pattern": {
              "fillmode": "overlay",
              "size": 10,
              "solidity": 0.2
             }
            },
            "type": "histogram"
           }
          ],
          "histogram2d": [
           {
            "colorbar": {
             "outlinewidth": 0,
             "ticks": ""
            },
            "colorscale": [
             [
              0,
              "#0d0887"
             ],
             [
              0.1111111111111111,
              "#46039f"
             ],
             [
              0.2222222222222222,
              "#7201a8"
             ],
             [
              0.3333333333333333,
              "#9c179e"
             ],
             [
              0.4444444444444444,
              "#bd3786"
             ],
             [
              0.5555555555555556,
              "#d8576b"
             ],
             [
              0.6666666666666666,
              "#ed7953"
             ],
             [
              0.7777777777777778,
              "#fb9f3a"
             ],
             [
              0.8888888888888888,
              "#fdca26"
             ],
             [
              1,
              "#f0f921"
             ]
            ],
            "type": "histogram2d"
           }
          ],
          "histogram2dcontour": [
           {
            "colorbar": {
             "outlinewidth": 0,
             "ticks": ""
            },
            "colorscale": [
             [
              0,
              "#0d0887"
             ],
             [
              0.1111111111111111,
              "#46039f"
             ],
             [
              0.2222222222222222,
              "#7201a8"
             ],
             [
              0.3333333333333333,
              "#9c179e"
             ],
             [
              0.4444444444444444,
              "#bd3786"
             ],
             [
              0.5555555555555556,
              "#d8576b"
             ],
             [
              0.6666666666666666,
              "#ed7953"
             ],
             [
              0.7777777777777778,
              "#fb9f3a"
             ],
             [
              0.8888888888888888,
              "#fdca26"
             ],
             [
              1,
              "#f0f921"
             ]
            ],
            "type": "histogram2dcontour"
           }
          ],
          "mesh3d": [
           {
            "colorbar": {
             "outlinewidth": 0,
             "ticks": ""
            },
            "type": "mesh3d"
           }
          ],
          "parcoords": [
           {
            "line": {
             "colorbar": {
              "outlinewidth": 0,
              "ticks": ""
             }
            },
            "type": "parcoords"
           }
          ],
          "pie": [
           {
            "automargin": true,
            "type": "pie"
           }
          ],
          "scatter": [
           {
            "marker": {
             "colorbar": {
              "outlinewidth": 0,
              "ticks": ""
             }
            },
            "type": "scatter"
           }
          ],
          "scatter3d": [
           {
            "line": {
             "colorbar": {
              "outlinewidth": 0,
              "ticks": ""
             }
            },
            "marker": {
             "colorbar": {
              "outlinewidth": 0,
              "ticks": ""
             }
            },
            "type": "scatter3d"
           }
          ],
          "scattercarpet": [
           {
            "marker": {
             "colorbar": {
              "outlinewidth": 0,
              "ticks": ""
             }
            },
            "type": "scattercarpet"
           }
          ],
          "scattergeo": [
           {
            "marker": {
             "colorbar": {
              "outlinewidth": 0,
              "ticks": ""
             }
            },
            "type": "scattergeo"
           }
          ],
          "scattergl": [
           {
            "marker": {
             "colorbar": {
              "outlinewidth": 0,
              "ticks": ""
             }
            },
            "type": "scattergl"
           }
          ],
          "scattermapbox": [
           {
            "marker": {
             "colorbar": {
              "outlinewidth": 0,
              "ticks": ""
             }
            },
            "type": "scattermapbox"
           }
          ],
          "scatterpolar": [
           {
            "marker": {
             "colorbar": {
              "outlinewidth": 0,
              "ticks": ""
             }
            },
            "type": "scatterpolar"
           }
          ],
          "scatterpolargl": [
           {
            "marker": {
             "colorbar": {
              "outlinewidth": 0,
              "ticks": ""
             }
            },
            "type": "scatterpolargl"
           }
          ],
          "scatterternary": [
           {
            "marker": {
             "colorbar": {
              "outlinewidth": 0,
              "ticks": ""
             }
            },
            "type": "scatterternary"
           }
          ],
          "surface": [
           {
            "colorbar": {
             "outlinewidth": 0,
             "ticks": ""
            },
            "colorscale": [
             [
              0,
              "#0d0887"
             ],
             [
              0.1111111111111111,
              "#46039f"
             ],
             [
              0.2222222222222222,
              "#7201a8"
             ],
             [
              0.3333333333333333,
              "#9c179e"
             ],
             [
              0.4444444444444444,
              "#bd3786"
             ],
             [
              0.5555555555555556,
              "#d8576b"
             ],
             [
              0.6666666666666666,
              "#ed7953"
             ],
             [
              0.7777777777777778,
              "#fb9f3a"
             ],
             [
              0.8888888888888888,
              "#fdca26"
             ],
             [
              1,
              "#f0f921"
             ]
            ],
            "type": "surface"
           }
          ],
          "table": [
           {
            "cells": {
             "fill": {
              "color": "#EBF0F8"
             },
             "line": {
              "color": "white"
             }
            },
            "header": {
             "fill": {
              "color": "#C8D4E3"
             },
             "line": {
              "color": "white"
             }
            },
            "type": "table"
           }
          ]
         },
         "layout": {
          "annotationdefaults": {
           "arrowcolor": "#2a3f5f",
           "arrowhead": 0,
           "arrowwidth": 1
          },
          "autotypenumbers": "strict",
          "coloraxis": {
           "colorbar": {
            "outlinewidth": 0,
            "ticks": ""
           }
          },
          "colorscale": {
           "diverging": [
            [
             0,
             "#8e0152"
            ],
            [
             0.1,
             "#c51b7d"
            ],
            [
             0.2,
             "#de77ae"
            ],
            [
             0.3,
             "#f1b6da"
            ],
            [
             0.4,
             "#fde0ef"
            ],
            [
             0.5,
             "#f7f7f7"
            ],
            [
             0.6,
             "#e6f5d0"
            ],
            [
             0.7,
             "#b8e186"
            ],
            [
             0.8,
             "#7fbc41"
            ],
            [
             0.9,
             "#4d9221"
            ],
            [
             1,
             "#276419"
            ]
           ],
           "sequential": [
            [
             0,
             "#0d0887"
            ],
            [
             0.1111111111111111,
             "#46039f"
            ],
            [
             0.2222222222222222,
             "#7201a8"
            ],
            [
             0.3333333333333333,
             "#9c179e"
            ],
            [
             0.4444444444444444,
             "#bd3786"
            ],
            [
             0.5555555555555556,
             "#d8576b"
            ],
            [
             0.6666666666666666,
             "#ed7953"
            ],
            [
             0.7777777777777778,
             "#fb9f3a"
            ],
            [
             0.8888888888888888,
             "#fdca26"
            ],
            [
             1,
             "#f0f921"
            ]
           ],
           "sequentialminus": [
            [
             0,
             "#0d0887"
            ],
            [
             0.1111111111111111,
             "#46039f"
            ],
            [
             0.2222222222222222,
             "#7201a8"
            ],
            [
             0.3333333333333333,
             "#9c179e"
            ],
            [
             0.4444444444444444,
             "#bd3786"
            ],
            [
             0.5555555555555556,
             "#d8576b"
            ],
            [
             0.6666666666666666,
             "#ed7953"
            ],
            [
             0.7777777777777778,
             "#fb9f3a"
            ],
            [
             0.8888888888888888,
             "#fdca26"
            ],
            [
             1,
             "#f0f921"
            ]
           ]
          },
          "colorway": [
           "#636efa",
           "#EF553B",
           "#00cc96",
           "#ab63fa",
           "#FFA15A",
           "#19d3f3",
           "#FF6692",
           "#B6E880",
           "#FF97FF",
           "#FECB52"
          ],
          "font": {
           "color": "#2a3f5f"
          },
          "geo": {
           "bgcolor": "white",
           "lakecolor": "white",
           "landcolor": "#E5ECF6",
           "showlakes": true,
           "showland": true,
           "subunitcolor": "white"
          },
          "hoverlabel": {
           "align": "left"
          },
          "hovermode": "closest",
          "mapbox": {
           "style": "light"
          },
          "paper_bgcolor": "white",
          "plot_bgcolor": "#E5ECF6",
          "polar": {
           "angularaxis": {
            "gridcolor": "white",
            "linecolor": "white",
            "ticks": ""
           },
           "bgcolor": "#E5ECF6",
           "radialaxis": {
            "gridcolor": "white",
            "linecolor": "white",
            "ticks": ""
           }
          },
          "scene": {
           "xaxis": {
            "backgroundcolor": "#E5ECF6",
            "gridcolor": "white",
            "gridwidth": 2,
            "linecolor": "white",
            "showbackground": true,
            "ticks": "",
            "zerolinecolor": "white"
           },
           "yaxis": {
            "backgroundcolor": "#E5ECF6",
            "gridcolor": "white",
            "gridwidth": 2,
            "linecolor": "white",
            "showbackground": true,
            "ticks": "",
            "zerolinecolor": "white"
           },
           "zaxis": {
            "backgroundcolor": "#E5ECF6",
            "gridcolor": "white",
            "gridwidth": 2,
            "linecolor": "white",
            "showbackground": true,
            "ticks": "",
            "zerolinecolor": "white"
           }
          },
          "shapedefaults": {
           "line": {
            "color": "#2a3f5f"
           }
          },
          "ternary": {
           "aaxis": {
            "gridcolor": "white",
            "linecolor": "white",
            "ticks": ""
           },
           "baxis": {
            "gridcolor": "white",
            "linecolor": "white",
            "ticks": ""
           },
           "bgcolor": "#E5ECF6",
           "caxis": {
            "gridcolor": "white",
            "linecolor": "white",
            "ticks": ""
           }
          },
          "title": {
           "x": 0.05
          },
          "xaxis": {
           "automargin": true,
           "gridcolor": "white",
           "linecolor": "white",
           "ticks": "",
           "title": {
            "standoff": 15
           },
           "zerolinecolor": "white",
           "zerolinewidth": 2
          },
          "yaxis": {
           "automargin": true,
           "gridcolor": "white",
           "linecolor": "white",
           "ticks": "",
           "title": {
            "standoff": 15
           },
           "zerolinecolor": "white",
           "zerolinewidth": 2
          }
         }
        },
        "title": {
         "text": "Bar plot of GOOG & date "
        },
        "xaxis": {
         "anchor": "y",
         "domain": [
          0,
          1
         ],
         "title": {
          "text": "date"
         }
        },
        "yaxis": {
         "anchor": "x",
         "domain": [
          0,
          1
         ],
         "title": {
          "text": "GOOG"
         }
        }
       }
      },
      "text/html": [
       "<div>                            <div id=\"03fa2291-940d-4529-851a-2bdad19cb5b0\" class=\"plotly-graph-div\" style=\"height:525px; width:100%;\"></div>            <script type=\"text/javascript\">                require([\"plotly\"], function(Plotly) {                    window.PLOTLYENV=window.PLOTLYENV || {};                                    if (document.getElementById(\"03fa2291-940d-4529-851a-2bdad19cb5b0\")) {                    Plotly.newPlot(                        \"03fa2291-940d-4529-851a-2bdad19cb5b0\",                        [{\"alignmentgroup\":\"True\",\"hovertemplate\":\"date=%{x}<br>GOOG=%{y}<extra></extra>\",\"legendgroup\":\"\",\"marker\":{\"color\":\"#636efa\",\"pattern\":{\"shape\":\"\"}},\"name\":\"\",\"offsetgroup\":\"\",\"orientation\":\"v\",\"showlegend\":false,\"textposition\":\"auto\",\"type\":\"bar\",\"x\":[\"2018-01-01\",\"2018-01-08\",\"2018-01-15\",\"2018-01-22\",\"2018-01-29\",\"2018-02-05\",\"2018-02-12\",\"2018-02-19\",\"2018-02-26\",\"2018-03-05\",\"2018-03-12\",\"2018-03-19\",\"2018-03-26\",\"2018-04-02\",\"2018-04-09\",\"2018-04-16\",\"2018-04-23\",\"2018-04-30\",\"2018-05-07\",\"2018-05-14\",\"2018-05-21\",\"2018-05-28\",\"2018-06-04\",\"2018-06-11\",\"2018-06-18\",\"2018-06-25\",\"2018-07-02\",\"2018-07-09\",\"2018-07-16\",\"2018-07-23\",\"2018-07-30\",\"2018-08-06\",\"2018-08-13\",\"2018-08-20\",\"2018-08-27\",\"2018-09-03\",\"2018-09-10\",\"2018-09-17\",\"2018-09-24\",\"2018-10-01\",\"2018-10-08\",\"2018-10-15\",\"2018-10-22\",\"2018-10-29\",\"2018-11-05\",\"2018-11-12\",\"2018-11-19\",\"2018-11-26\",\"2018-12-03\",\"2018-12-10\",\"2018-12-17\",\"2018-12-24\",\"2018-12-31\",\"2019-01-07\",\"2019-01-14\",\"2019-01-21\",\"2019-01-28\",\"2019-02-04\",\"2019-02-11\",\"2019-02-18\",\"2019-02-25\",\"2019-03-04\",\"2019-03-11\",\"2019-03-18\",\"2019-03-25\",\"2019-04-01\",\"2019-04-08\",\"2019-04-15\",\"2019-04-22\",\"2019-04-29\",\"2019-05-06\",\"2019-05-13\",\"2019-05-20\",\"2019-05-27\",\"2019-06-03\",\"2019-06-10\",\"2019-06-17\",\"2019-06-24\",\"2019-07-01\",\"2019-07-08\",\"2019-07-15\",\"2019-07-22\",\"2019-07-29\",\"2019-08-05\",\"2019-08-12\",\"2019-08-19\",\"2019-08-26\",\"2019-09-02\",\"2019-09-09\",\"2019-09-16\",\"2019-09-23\",\"2019-09-30\",\"2019-10-07\",\"2019-10-14\",\"2019-10-21\",\"2019-10-28\",\"2019-11-04\",\"2019-11-11\",\"2019-11-18\",\"2019-11-25\",\"2019-12-02\",\"2019-12-09\",\"2019-12-16\",\"2019-12-23\",\"2019-12-30\"],\"xaxis\":\"x\",\"y\":[1.0,1.018172278347936,1.032007866452698,1.066782783389724,1.0087731636550117,0.9415276737437316,0.99325918262539,1.0222821547641083,0.9788520214265992,1.0524482730908842,1.0303929312465263,0.926821104067592,0.9360932452590338,0.913638710861412,0.93380695379017,0.9734447261178653,0.9345146364100892,0.9509902470625956,0.9963982380519172,0.9674568868105002,0.9758943718805396,1.015668254641377,1.0169111849053498,1.0453898287179595,1.0483111519067918,1.0121753574512644,1.0344211867653972,1.0785588920381208,1.075011617811375,1.1236312044424703,1.1102129167272332,1.1228237368393843,1.0895729410299655,1.1074367837463466,1.1052048693141154,1.0567939333314087,1.0637798374890872,1.0579370795194665,1.0827776350267664,1.0500077089175164,1.007121903906116,0.9947651405743836,0.9720929301886708,0.959681788913054,0.9672663993407256,0.9630385756700248,0.9289168536315806,0.992923504040418,0.9404389054995582,0.945446952912676,0.8886892896888904,0.9408925313390586,0.9714034098401132,0.9591373489949891,0.9963982380519172,0.989802500200548,1.0077298024501202,0.9934950771344468,1.0103608540932627,1.0073850422758417,1.035165084150587,1.0363716889645844,1.0746032883264525,1.0936918990354445,1.064487521016258,1.095188886079836,1.1049145977684258,1.1216987538299403,1.1541874899828073,1.075456162061569,1.0562859304552756,1.0544986709579427,1.0283425342867192,1.001270175031893,0.9671666152648106,0.98468558802946,1.0178275181736574,0.980657443195294,1.0266368965939394,1.0387124690620373,1.025285100664745,1.1344366027859267,1.0832494231376286,1.0778240762422375,1.068379555417282,1.0445098208996275,1.0779056980467905,1.0931748145700046,1.12459294475006,1.115856106545024,1.1114649285805127,1.0968672799119472,1.10271900878617,1.129972884606169,1.1477913211905195,1.155602744537941,1.189742629754999,1.2110630442115171,1.1751993590303178,1.183927115646047,1.216279741365772,1.222820990588552,1.22441776261611,1.2265044859331442,1.213013658002661],\"yaxis\":\"y\"}],                        {\"barmode\":\"relative\",\"legend\":{\"tracegroupgap\":0},\"template\":{\"data\":{\"bar\":[{\"error_x\":{\"color\":\"#2a3f5f\"},\"error_y\":{\"color\":\"#2a3f5f\"},\"marker\":{\"line\":{\"color\":\"#E5ECF6\",\"width\":0.5},\"pattern\":{\"fillmode\":\"overlay\",\"size\":10,\"solidity\":0.2}},\"type\":\"bar\"}],\"barpolar\":[{\"marker\":{\"line\":{\"color\":\"#E5ECF6\",\"width\":0.5},\"pattern\":{\"fillmode\":\"overlay\",\"size\":10,\"solidity\":0.2}},\"type\":\"barpolar\"}],\"carpet\":[{\"aaxis\":{\"endlinecolor\":\"#2a3f5f\",\"gridcolor\":\"white\",\"linecolor\":\"white\",\"minorgridcolor\":\"white\",\"startlinecolor\":\"#2a3f5f\"},\"baxis\":{\"endlinecolor\":\"#2a3f5f\",\"gridcolor\":\"white\",\"linecolor\":\"white\",\"minorgridcolor\":\"white\",\"startlinecolor\":\"#2a3f5f\"},\"type\":\"carpet\"}],\"choropleth\":[{\"colorbar\":{\"outlinewidth\":0,\"ticks\":\"\"},\"type\":\"choropleth\"}],\"contour\":[{\"colorbar\":{\"outlinewidth\":0,\"ticks\":\"\"},\"colorscale\":[[0.0,\"#0d0887\"],[0.1111111111111111,\"#46039f\"],[0.2222222222222222,\"#7201a8\"],[0.3333333333333333,\"#9c179e\"],[0.4444444444444444,\"#bd3786\"],[0.5555555555555556,\"#d8576b\"],[0.6666666666666666,\"#ed7953\"],[0.7777777777777778,\"#fb9f3a\"],[0.8888888888888888,\"#fdca26\"],[1.0,\"#f0f921\"]],\"type\":\"contour\"}],\"contourcarpet\":[{\"colorbar\":{\"outlinewidth\":0,\"ticks\":\"\"},\"type\":\"contourcarpet\"}],\"heatmap\":[{\"colorbar\":{\"outlinewidth\":0,\"ticks\":\"\"},\"colorscale\":[[0.0,\"#0d0887\"],[0.1111111111111111,\"#46039f\"],[0.2222222222222222,\"#7201a8\"],[0.3333333333333333,\"#9c179e\"],[0.4444444444444444,\"#bd3786\"],[0.5555555555555556,\"#d8576b\"],[0.6666666666666666,\"#ed7953\"],[0.7777777777777778,\"#fb9f3a\"],[0.8888888888888888,\"#fdca26\"],[1.0,\"#f0f921\"]],\"type\":\"heatmap\"}],\"heatmapgl\":[{\"colorbar\":{\"outlinewidth\":0,\"ticks\":\"\"},\"colorscale\":[[0.0,\"#0d0887\"],[0.1111111111111111,\"#46039f\"],[0.2222222222222222,\"#7201a8\"],[0.3333333333333333,\"#9c179e\"],[0.4444444444444444,\"#bd3786\"],[0.5555555555555556,\"#d8576b\"],[0.6666666666666666,\"#ed7953\"],[0.7777777777777778,\"#fb9f3a\"],[0.8888888888888888,\"#fdca26\"],[1.0,\"#f0f921\"]],\"type\":\"heatmapgl\"}],\"histogram\":[{\"marker\":{\"pattern\":{\"fillmode\":\"overlay\",\"size\":10,\"solidity\":0.2}},\"type\":\"histogram\"}],\"histogram2d\":[{\"colorbar\":{\"outlinewidth\":0,\"ticks\":\"\"},\"colorscale\":[[0.0,\"#0d0887\"],[0.1111111111111111,\"#46039f\"],[0.2222222222222222,\"#7201a8\"],[0.3333333333333333,\"#9c179e\"],[0.4444444444444444,\"#bd3786\"],[0.5555555555555556,\"#d8576b\"],[0.6666666666666666,\"#ed7953\"],[0.7777777777777778,\"#fb9f3a\"],[0.8888888888888888,\"#fdca26\"],[1.0,\"#f0f921\"]],\"type\":\"histogram2d\"}],\"histogram2dcontour\":[{\"colorbar\":{\"outlinewidth\":0,\"ticks\":\"\"},\"colorscale\":[[0.0,\"#0d0887\"],[0.1111111111111111,\"#46039f\"],[0.2222222222222222,\"#7201a8\"],[0.3333333333333333,\"#9c179e\"],[0.4444444444444444,\"#bd3786\"],[0.5555555555555556,\"#d8576b\"],[0.6666666666666666,\"#ed7953\"],[0.7777777777777778,\"#fb9f3a\"],[0.8888888888888888,\"#fdca26\"],[1.0,\"#f0f921\"]],\"type\":\"histogram2dcontour\"}],\"mesh3d\":[{\"colorbar\":{\"outlinewidth\":0,\"ticks\":\"\"},\"type\":\"mesh3d\"}],\"parcoords\":[{\"line\":{\"colorbar\":{\"outlinewidth\":0,\"ticks\":\"\"}},\"type\":\"parcoords\"}],\"pie\":[{\"automargin\":true,\"type\":\"pie\"}],\"scatter\":[{\"marker\":{\"colorbar\":{\"outlinewidth\":0,\"ticks\":\"\"}},\"type\":\"scatter\"}],\"scatter3d\":[{\"line\":{\"colorbar\":{\"outlinewidth\":0,\"ticks\":\"\"}},\"marker\":{\"colorbar\":{\"outlinewidth\":0,\"ticks\":\"\"}},\"type\":\"scatter3d\"}],\"scattercarpet\":[{\"marker\":{\"colorbar\":{\"outlinewidth\":0,\"ticks\":\"\"}},\"type\":\"scattercarpet\"}],\"scattergeo\":[{\"marker\":{\"colorbar\":{\"outlinewidth\":0,\"ticks\":\"\"}},\"type\":\"scattergeo\"}],\"scattergl\":[{\"marker\":{\"colorbar\":{\"outlinewidth\":0,\"ticks\":\"\"}},\"type\":\"scattergl\"}],\"scattermapbox\":[{\"marker\":{\"colorbar\":{\"outlinewidth\":0,\"ticks\":\"\"}},\"type\":\"scattermapbox\"}],\"scatterpolar\":[{\"marker\":{\"colorbar\":{\"outlinewidth\":0,\"ticks\":\"\"}},\"type\":\"scatterpolar\"}],\"scatterpolargl\":[{\"marker\":{\"colorbar\":{\"outlinewidth\":0,\"ticks\":\"\"}},\"type\":\"scatterpolargl\"}],\"scatterternary\":[{\"marker\":{\"colorbar\":{\"outlinewidth\":0,\"ticks\":\"\"}},\"type\":\"scatterternary\"}],\"surface\":[{\"colorbar\":{\"outlinewidth\":0,\"ticks\":\"\"},\"colorscale\":[[0.0,\"#0d0887\"],[0.1111111111111111,\"#46039f\"],[0.2222222222222222,\"#7201a8\"],[0.3333333333333333,\"#9c179e\"],[0.4444444444444444,\"#bd3786\"],[0.5555555555555556,\"#d8576b\"],[0.6666666666666666,\"#ed7953\"],[0.7777777777777778,\"#fb9f3a\"],[0.8888888888888888,\"#fdca26\"],[1.0,\"#f0f921\"]],\"type\":\"surface\"}],\"table\":[{\"cells\":{\"fill\":{\"color\":\"#EBF0F8\"},\"line\":{\"color\":\"white\"}},\"header\":{\"fill\":{\"color\":\"#C8D4E3\"},\"line\":{\"color\":\"white\"}},\"type\":\"table\"}]},\"layout\":{\"annotationdefaults\":{\"arrowcolor\":\"#2a3f5f\",\"arrowhead\":0,\"arrowwidth\":1},\"autotypenumbers\":\"strict\",\"coloraxis\":{\"colorbar\":{\"outlinewidth\":0,\"ticks\":\"\"}},\"colorscale\":{\"diverging\":[[0,\"#8e0152\"],[0.1,\"#c51b7d\"],[0.2,\"#de77ae\"],[0.3,\"#f1b6da\"],[0.4,\"#fde0ef\"],[0.5,\"#f7f7f7\"],[0.6,\"#e6f5d0\"],[0.7,\"#b8e186\"],[0.8,\"#7fbc41\"],[0.9,\"#4d9221\"],[1,\"#276419\"]],\"sequential\":[[0.0,\"#0d0887\"],[0.1111111111111111,\"#46039f\"],[0.2222222222222222,\"#7201a8\"],[0.3333333333333333,\"#9c179e\"],[0.4444444444444444,\"#bd3786\"],[0.5555555555555556,\"#d8576b\"],[0.6666666666666666,\"#ed7953\"],[0.7777777777777778,\"#fb9f3a\"],[0.8888888888888888,\"#fdca26\"],[1.0,\"#f0f921\"]],\"sequentialminus\":[[0.0,\"#0d0887\"],[0.1111111111111111,\"#46039f\"],[0.2222222222222222,\"#7201a8\"],[0.3333333333333333,\"#9c179e\"],[0.4444444444444444,\"#bd3786\"],[0.5555555555555556,\"#d8576b\"],[0.6666666666666666,\"#ed7953\"],[0.7777777777777778,\"#fb9f3a\"],[0.8888888888888888,\"#fdca26\"],[1.0,\"#f0f921\"]]},\"colorway\":[\"#636efa\",\"#EF553B\",\"#00cc96\",\"#ab63fa\",\"#FFA15A\",\"#19d3f3\",\"#FF6692\",\"#B6E880\",\"#FF97FF\",\"#FECB52\"],\"font\":{\"color\":\"#2a3f5f\"},\"geo\":{\"bgcolor\":\"white\",\"lakecolor\":\"white\",\"landcolor\":\"#E5ECF6\",\"showlakes\":true,\"showland\":true,\"subunitcolor\":\"white\"},\"hoverlabel\":{\"align\":\"left\"},\"hovermode\":\"closest\",\"mapbox\":{\"style\":\"light\"},\"paper_bgcolor\":\"white\",\"plot_bgcolor\":\"#E5ECF6\",\"polar\":{\"angularaxis\":{\"gridcolor\":\"white\",\"linecolor\":\"white\",\"ticks\":\"\"},\"bgcolor\":\"#E5ECF6\",\"radialaxis\":{\"gridcolor\":\"white\",\"linecolor\":\"white\",\"ticks\":\"\"}},\"scene\":{\"xaxis\":{\"backgroundcolor\":\"#E5ECF6\",\"gridcolor\":\"white\",\"gridwidth\":2,\"linecolor\":\"white\",\"showbackground\":true,\"ticks\":\"\",\"zerolinecolor\":\"white\"},\"yaxis\":{\"backgroundcolor\":\"#E5ECF6\",\"gridcolor\":\"white\",\"gridwidth\":2,\"linecolor\":\"white\",\"showbackground\":true,\"ticks\":\"\",\"zerolinecolor\":\"white\"},\"zaxis\":{\"backgroundcolor\":\"#E5ECF6\",\"gridcolor\":\"white\",\"gridwidth\":2,\"linecolor\":\"white\",\"showbackground\":true,\"ticks\":\"\",\"zerolinecolor\":\"white\"}},\"shapedefaults\":{\"line\":{\"color\":\"#2a3f5f\"}},\"ternary\":{\"aaxis\":{\"gridcolor\":\"white\",\"linecolor\":\"white\",\"ticks\":\"\"},\"baxis\":{\"gridcolor\":\"white\",\"linecolor\":\"white\",\"ticks\":\"\"},\"bgcolor\":\"#E5ECF6\",\"caxis\":{\"gridcolor\":\"white\",\"linecolor\":\"white\",\"ticks\":\"\"}},\"title\":{\"x\":0.05},\"xaxis\":{\"automargin\":true,\"gridcolor\":\"white\",\"linecolor\":\"white\",\"ticks\":\"\",\"title\":{\"standoff\":15},\"zerolinecolor\":\"white\",\"zerolinewidth\":2},\"yaxis\":{\"automargin\":true,\"gridcolor\":\"white\",\"linecolor\":\"white\",\"ticks\":\"\",\"title\":{\"standoff\":15},\"zerolinecolor\":\"white\",\"zerolinewidth\":2}}},\"title\":{\"text\":\"Bar plot of GOOG & date \"},\"xaxis\":{\"anchor\":\"y\",\"domain\":[0.0,1.0],\"title\":{\"text\":\"date\"}},\"yaxis\":{\"anchor\":\"x\",\"domain\":[0.0,1.0],\"title\":{\"text\":\"GOOG\"}}},                        {\"responsive\": true}                    ).then(function(){\n",
       "                            \n",
       "var gd = document.getElementById('03fa2291-940d-4529-851a-2bdad19cb5b0');\n",
       "var x = new MutationObserver(function (mutations, observer) {{\n",
       "        var display = window.getComputedStyle(gd).display;\n",
       "        if (!display || display === 'none') {{\n",
       "            console.log([gd, 'removed!']);\n",
       "            Plotly.purge(gd);\n",
       "            observer.disconnect();\n",
       "        }}\n",
       "}});\n",
       "\n",
       "// Listen for the removal of the full notebook cells\n",
       "var notebookContainer = gd.closest('#notebook-container');\n",
       "if (notebookContainer) {{\n",
       "    x.observe(notebookContainer, {childList: true});\n",
       "}}\n",
       "\n",
       "// Listen for the clearing of the current output cell\n",
       "var outputEl = gd.closest('.output');\n",
       "if (outputEl) {{\n",
       "    x.observe(outputEl, {childList: true});\n",
       "}}\n",
       "\n",
       "                        })                };                });            </script>        </div>"
      ]
     },
     "metadata": {},
     "output_type": "display_data"
    }
   ],
   "source": [
    "px.bar(df3 , x = \"date\" ,\n",
    "       y = \"GOOG\"  ,\n",
    "       title = \"Bar plot of GOOG & date \")"
   ]
  },
  {
   "cell_type": "code",
   "execution_count": 11,
   "id": "4a2fb162",
   "metadata": {},
   "outputs": [
    {
     "data": {
      "application/vnd.plotly.v1+json": {
       "config": {
        "plotlyServerURL": "https://plot.ly"
       },
       "data": [
        {
         "alignmentgroup": "True",
         "hovertemplate": "date=%{x}<br>FB=%{y}<extra></extra>",
         "legendgroup": "",
         "marker": {
          "color": "#636efa",
          "pattern": {
           "shape": ""
          }
         },
         "name": "",
         "offsetgroup": "",
         "orientation": "v",
         "showlegend": false,
         "textposition": "auto",
         "type": "bar",
         "x": [
          "2018-01-01",
          "2018-01-08",
          "2018-01-15",
          "2018-01-22",
          "2018-01-29",
          "2018-02-05",
          "2018-02-12",
          "2018-02-19",
          "2018-02-26",
          "2018-03-05",
          "2018-03-12",
          "2018-03-19",
          "2018-03-26",
          "2018-04-02",
          "2018-04-09",
          "2018-04-16",
          "2018-04-23",
          "2018-04-30",
          "2018-05-07",
          "2018-05-14",
          "2018-05-21",
          "2018-05-28",
          "2018-06-04",
          "2018-06-11",
          "2018-06-18",
          "2018-06-25",
          "2018-07-02",
          "2018-07-09",
          "2018-07-16",
          "2018-07-23",
          "2018-07-30",
          "2018-08-06",
          "2018-08-13",
          "2018-08-20",
          "2018-08-27",
          "2018-09-03",
          "2018-09-10",
          "2018-09-17",
          "2018-09-24",
          "2018-10-01",
          "2018-10-08",
          "2018-10-15",
          "2018-10-22",
          "2018-10-29",
          "2018-11-05",
          "2018-11-12",
          "2018-11-19",
          "2018-11-26",
          "2018-12-03",
          "2018-12-10",
          "2018-12-17",
          "2018-12-24",
          "2018-12-31",
          "2019-01-07",
          "2019-01-14",
          "2019-01-21",
          "2019-01-28",
          "2019-02-04",
          "2019-02-11",
          "2019-02-18",
          "2019-02-25",
          "2019-03-04",
          "2019-03-11",
          "2019-03-18",
          "2019-03-25",
          "2019-04-01",
          "2019-04-08",
          "2019-04-15",
          "2019-04-22",
          "2019-04-29",
          "2019-05-06",
          "2019-05-13",
          "2019-05-20",
          "2019-05-27",
          "2019-06-03",
          "2019-06-10",
          "2019-06-17",
          "2019-06-24",
          "2019-07-01",
          "2019-07-08",
          "2019-07-15",
          "2019-07-22",
          "2019-07-29",
          "2019-08-05",
          "2019-08-12",
          "2019-08-19",
          "2019-08-26",
          "2019-09-02",
          "2019-09-09",
          "2019-09-16",
          "2019-09-23",
          "2019-09-30",
          "2019-10-07",
          "2019-10-14",
          "2019-10-21",
          "2019-10-28",
          "2019-11-04",
          "2019-11-11",
          "2019-11-18",
          "2019-11-25",
          "2019-12-02",
          "2019-12-09",
          "2019-12-16",
          "2019-12-23",
          "2019-12-30"
         ],
         "xaxis": "x",
         "y": [
          1,
          0.9599678310954936,
          0.9702434422185674,
          1.0168584099483515,
          1.0183569327795472,
          0.9425207136466456,
          0.949210571606832,
          0.9809472149548658,
          0.9452501435830832,
          0.9913298905647344,
          0.9905806264731936,
          0.8530371628674177,
          0.8551778853033591,
          0.8413165210173983,
          0.8804923666954552,
          0.8899116599439659,
          0.9290339332394776,
          0.9451966568307202,
          1.0007492587396545,
          0.9776825642702948,
          0.9896708164943808,
          1.038212463316699,
          1.0120417443283358,
          1.048166977313343,
          1.0796895826698554,
          1.039978596521961,
          1.0876638451914205,
          1.109553119307901,
          1.12357503483302,
          0.9359914015737306,
          0.951458353177682,
          0.9647310099631464,
          0.9301578668399936,
          0.934706922085943,
          0.940486970067317,
          0.8725715159998442,
          0.868718232741186,
          0.8719828084993478,
          0.8801712695690254,
          0.8420122930046896,
          0.822799036998693,
          0.8244581110690464,
          0.7780036945784202,
          0.8046561475625534,
          0.7758094853901156,
          0.7467486995959743,
          0.7050039698687512,
          0.7525287475773482,
          0.735456214007293,
          0.7709927394918039,
          0.668718185644586,
          0.712871248181817,
          0.7382927084305257,
          0.769601275795517,
          0.8029969932139043,
          0.7974845609584834,
          0.8868611275292119,
          0.8955311566861818,
          0.8696815348242483,
          0.8664168787877908,
          0.8685041144713691,
          0.907679960149426,
          0.8883060779778621,
          0.8795289843340972,
          0.8921059494105662,
          0.9404334779630672,
          0.9585228806468435,
          0.9541342963617566,
          1.024832747396326,
          1.0461332337340143,
          1.0079742571696786,
          0.9917045600737096,
          0.9690125351133252,
          0.9497992791073284,
          0.9277495340299856,
          0.9704575658402708,
          1.0229595550561554,
          1.0329140690527994,
          1.0511104505931883,
          1.0964409334832987,
          1.0616001853379655,
          1.0690393020378066,
          1.011613582715111,
          1.0053518863681492,
          0.9831415097733526,
          0.951297801938524,
          0.993684731270493,
          1.003425201923729,
          1.0018196199576253,
          1.0164837404393767,
          0.9478191079105452,
          0.9657478790768677,
          0.9857639608531776,
          0.9946481136318508,
          1.0055659243596704,
          1.03623221184162,
          1.0213539730900516,
          1.044153062537231,
          1.0640620851786324,
          1.0791543619217223,
          1.07599677037206,
          1.0388546682733315,
          1.104094173804843,
          1.113727585323171,
          1.0984746770626277
         ],
         "yaxis": "y"
        }
       ],
       "layout": {
        "barmode": "relative",
        "legend": {
         "tracegroupgap": 0
        },
        "template": {
         "data": {
          "bar": [
           {
            "error_x": {
             "color": "#2a3f5f"
            },
            "error_y": {
             "color": "#2a3f5f"
            },
            "marker": {
             "line": {
              "color": "#E5ECF6",
              "width": 0.5
             },
             "pattern": {
              "fillmode": "overlay",
              "size": 10,
              "solidity": 0.2
             }
            },
            "type": "bar"
           }
          ],
          "barpolar": [
           {
            "marker": {
             "line": {
              "color": "#E5ECF6",
              "width": 0.5
             },
             "pattern": {
              "fillmode": "overlay",
              "size": 10,
              "solidity": 0.2
             }
            },
            "type": "barpolar"
           }
          ],
          "carpet": [
           {
            "aaxis": {
             "endlinecolor": "#2a3f5f",
             "gridcolor": "white",
             "linecolor": "white",
             "minorgridcolor": "white",
             "startlinecolor": "#2a3f5f"
            },
            "baxis": {
             "endlinecolor": "#2a3f5f",
             "gridcolor": "white",
             "linecolor": "white",
             "minorgridcolor": "white",
             "startlinecolor": "#2a3f5f"
            },
            "type": "carpet"
           }
          ],
          "choropleth": [
           {
            "colorbar": {
             "outlinewidth": 0,
             "ticks": ""
            },
            "type": "choropleth"
           }
          ],
          "contour": [
           {
            "colorbar": {
             "outlinewidth": 0,
             "ticks": ""
            },
            "colorscale": [
             [
              0,
              "#0d0887"
             ],
             [
              0.1111111111111111,
              "#46039f"
             ],
             [
              0.2222222222222222,
              "#7201a8"
             ],
             [
              0.3333333333333333,
              "#9c179e"
             ],
             [
              0.4444444444444444,
              "#bd3786"
             ],
             [
              0.5555555555555556,
              "#d8576b"
             ],
             [
              0.6666666666666666,
              "#ed7953"
             ],
             [
              0.7777777777777778,
              "#fb9f3a"
             ],
             [
              0.8888888888888888,
              "#fdca26"
             ],
             [
              1,
              "#f0f921"
             ]
            ],
            "type": "contour"
           }
          ],
          "contourcarpet": [
           {
            "colorbar": {
             "outlinewidth": 0,
             "ticks": ""
            },
            "type": "contourcarpet"
           }
          ],
          "heatmap": [
           {
            "colorbar": {
             "outlinewidth": 0,
             "ticks": ""
            },
            "colorscale": [
             [
              0,
              "#0d0887"
             ],
             [
              0.1111111111111111,
              "#46039f"
             ],
             [
              0.2222222222222222,
              "#7201a8"
             ],
             [
              0.3333333333333333,
              "#9c179e"
             ],
             [
              0.4444444444444444,
              "#bd3786"
             ],
             [
              0.5555555555555556,
              "#d8576b"
             ],
             [
              0.6666666666666666,
              "#ed7953"
             ],
             [
              0.7777777777777778,
              "#fb9f3a"
             ],
             [
              0.8888888888888888,
              "#fdca26"
             ],
             [
              1,
              "#f0f921"
             ]
            ],
            "type": "heatmap"
           }
          ],
          "heatmapgl": [
           {
            "colorbar": {
             "outlinewidth": 0,
             "ticks": ""
            },
            "colorscale": [
             [
              0,
              "#0d0887"
             ],
             [
              0.1111111111111111,
              "#46039f"
             ],
             [
              0.2222222222222222,
              "#7201a8"
             ],
             [
              0.3333333333333333,
              "#9c179e"
             ],
             [
              0.4444444444444444,
              "#bd3786"
             ],
             [
              0.5555555555555556,
              "#d8576b"
             ],
             [
              0.6666666666666666,
              "#ed7953"
             ],
             [
              0.7777777777777778,
              "#fb9f3a"
             ],
             [
              0.8888888888888888,
              "#fdca26"
             ],
             [
              1,
              "#f0f921"
             ]
            ],
            "type": "heatmapgl"
           }
          ],
          "histogram": [
           {
            "marker": {
             "pattern": {
              "fillmode": "overlay",
              "size": 10,
              "solidity": 0.2
             }
            },
            "type": "histogram"
           }
          ],
          "histogram2d": [
           {
            "colorbar": {
             "outlinewidth": 0,
             "ticks": ""
            },
            "colorscale": [
             [
              0,
              "#0d0887"
             ],
             [
              0.1111111111111111,
              "#46039f"
             ],
             [
              0.2222222222222222,
              "#7201a8"
             ],
             [
              0.3333333333333333,
              "#9c179e"
             ],
             [
              0.4444444444444444,
              "#bd3786"
             ],
             [
              0.5555555555555556,
              "#d8576b"
             ],
             [
              0.6666666666666666,
              "#ed7953"
             ],
             [
              0.7777777777777778,
              "#fb9f3a"
             ],
             [
              0.8888888888888888,
              "#fdca26"
             ],
             [
              1,
              "#f0f921"
             ]
            ],
            "type": "histogram2d"
           }
          ],
          "histogram2dcontour": [
           {
            "colorbar": {
             "outlinewidth": 0,
             "ticks": ""
            },
            "colorscale": [
             [
              0,
              "#0d0887"
             ],
             [
              0.1111111111111111,
              "#46039f"
             ],
             [
              0.2222222222222222,
              "#7201a8"
             ],
             [
              0.3333333333333333,
              "#9c179e"
             ],
             [
              0.4444444444444444,
              "#bd3786"
             ],
             [
              0.5555555555555556,
              "#d8576b"
             ],
             [
              0.6666666666666666,
              "#ed7953"
             ],
             [
              0.7777777777777778,
              "#fb9f3a"
             ],
             [
              0.8888888888888888,
              "#fdca26"
             ],
             [
              1,
              "#f0f921"
             ]
            ],
            "type": "histogram2dcontour"
           }
          ],
          "mesh3d": [
           {
            "colorbar": {
             "outlinewidth": 0,
             "ticks": ""
            },
            "type": "mesh3d"
           }
          ],
          "parcoords": [
           {
            "line": {
             "colorbar": {
              "outlinewidth": 0,
              "ticks": ""
             }
            },
            "type": "parcoords"
           }
          ],
          "pie": [
           {
            "automargin": true,
            "type": "pie"
           }
          ],
          "scatter": [
           {
            "marker": {
             "colorbar": {
              "outlinewidth": 0,
              "ticks": ""
             }
            },
            "type": "scatter"
           }
          ],
          "scatter3d": [
           {
            "line": {
             "colorbar": {
              "outlinewidth": 0,
              "ticks": ""
             }
            },
            "marker": {
             "colorbar": {
              "outlinewidth": 0,
              "ticks": ""
             }
            },
            "type": "scatter3d"
           }
          ],
          "scattercarpet": [
           {
            "marker": {
             "colorbar": {
              "outlinewidth": 0,
              "ticks": ""
             }
            },
            "type": "scattercarpet"
           }
          ],
          "scattergeo": [
           {
            "marker": {
             "colorbar": {
              "outlinewidth": 0,
              "ticks": ""
             }
            },
            "type": "scattergeo"
           }
          ],
          "scattergl": [
           {
            "marker": {
             "colorbar": {
              "outlinewidth": 0,
              "ticks": ""
             }
            },
            "type": "scattergl"
           }
          ],
          "scattermapbox": [
           {
            "marker": {
             "colorbar": {
              "outlinewidth": 0,
              "ticks": ""
             }
            },
            "type": "scattermapbox"
           }
          ],
          "scatterpolar": [
           {
            "marker": {
             "colorbar": {
              "outlinewidth": 0,
              "ticks": ""
             }
            },
            "type": "scatterpolar"
           }
          ],
          "scatterpolargl": [
           {
            "marker": {
             "colorbar": {
              "outlinewidth": 0,
              "ticks": ""
             }
            },
            "type": "scatterpolargl"
           }
          ],
          "scatterternary": [
           {
            "marker": {
             "colorbar": {
              "outlinewidth": 0,
              "ticks": ""
             }
            },
            "type": "scatterternary"
           }
          ],
          "surface": [
           {
            "colorbar": {
             "outlinewidth": 0,
             "ticks": ""
            },
            "colorscale": [
             [
              0,
              "#0d0887"
             ],
             [
              0.1111111111111111,
              "#46039f"
             ],
             [
              0.2222222222222222,
              "#7201a8"
             ],
             [
              0.3333333333333333,
              "#9c179e"
             ],
             [
              0.4444444444444444,
              "#bd3786"
             ],
             [
              0.5555555555555556,
              "#d8576b"
             ],
             [
              0.6666666666666666,
              "#ed7953"
             ],
             [
              0.7777777777777778,
              "#fb9f3a"
             ],
             [
              0.8888888888888888,
              "#fdca26"
             ],
             [
              1,
              "#f0f921"
             ]
            ],
            "type": "surface"
           }
          ],
          "table": [
           {
            "cells": {
             "fill": {
              "color": "#EBF0F8"
             },
             "line": {
              "color": "white"
             }
            },
            "header": {
             "fill": {
              "color": "#C8D4E3"
             },
             "line": {
              "color": "white"
             }
            },
            "type": "table"
           }
          ]
         },
         "layout": {
          "annotationdefaults": {
           "arrowcolor": "#2a3f5f",
           "arrowhead": 0,
           "arrowwidth": 1
          },
          "autotypenumbers": "strict",
          "coloraxis": {
           "colorbar": {
            "outlinewidth": 0,
            "ticks": ""
           }
          },
          "colorscale": {
           "diverging": [
            [
             0,
             "#8e0152"
            ],
            [
             0.1,
             "#c51b7d"
            ],
            [
             0.2,
             "#de77ae"
            ],
            [
             0.3,
             "#f1b6da"
            ],
            [
             0.4,
             "#fde0ef"
            ],
            [
             0.5,
             "#f7f7f7"
            ],
            [
             0.6,
             "#e6f5d0"
            ],
            [
             0.7,
             "#b8e186"
            ],
            [
             0.8,
             "#7fbc41"
            ],
            [
             0.9,
             "#4d9221"
            ],
            [
             1,
             "#276419"
            ]
           ],
           "sequential": [
            [
             0,
             "#0d0887"
            ],
            [
             0.1111111111111111,
             "#46039f"
            ],
            [
             0.2222222222222222,
             "#7201a8"
            ],
            [
             0.3333333333333333,
             "#9c179e"
            ],
            [
             0.4444444444444444,
             "#bd3786"
            ],
            [
             0.5555555555555556,
             "#d8576b"
            ],
            [
             0.6666666666666666,
             "#ed7953"
            ],
            [
             0.7777777777777778,
             "#fb9f3a"
            ],
            [
             0.8888888888888888,
             "#fdca26"
            ],
            [
             1,
             "#f0f921"
            ]
           ],
           "sequentialminus": [
            [
             0,
             "#0d0887"
            ],
            [
             0.1111111111111111,
             "#46039f"
            ],
            [
             0.2222222222222222,
             "#7201a8"
            ],
            [
             0.3333333333333333,
             "#9c179e"
            ],
            [
             0.4444444444444444,
             "#bd3786"
            ],
            [
             0.5555555555555556,
             "#d8576b"
            ],
            [
             0.6666666666666666,
             "#ed7953"
            ],
            [
             0.7777777777777778,
             "#fb9f3a"
            ],
            [
             0.8888888888888888,
             "#fdca26"
            ],
            [
             1,
             "#f0f921"
            ]
           ]
          },
          "colorway": [
           "#636efa",
           "#EF553B",
           "#00cc96",
           "#ab63fa",
           "#FFA15A",
           "#19d3f3",
           "#FF6692",
           "#B6E880",
           "#FF97FF",
           "#FECB52"
          ],
          "font": {
           "color": "#2a3f5f"
          },
          "geo": {
           "bgcolor": "white",
           "lakecolor": "white",
           "landcolor": "#E5ECF6",
           "showlakes": true,
           "showland": true,
           "subunitcolor": "white"
          },
          "hoverlabel": {
           "align": "left"
          },
          "hovermode": "closest",
          "mapbox": {
           "style": "light"
          },
          "paper_bgcolor": "white",
          "plot_bgcolor": "#E5ECF6",
          "polar": {
           "angularaxis": {
            "gridcolor": "white",
            "linecolor": "white",
            "ticks": ""
           },
           "bgcolor": "#E5ECF6",
           "radialaxis": {
            "gridcolor": "white",
            "linecolor": "white",
            "ticks": ""
           }
          },
          "scene": {
           "xaxis": {
            "backgroundcolor": "#E5ECF6",
            "gridcolor": "white",
            "gridwidth": 2,
            "linecolor": "white",
            "showbackground": true,
            "ticks": "",
            "zerolinecolor": "white"
           },
           "yaxis": {
            "backgroundcolor": "#E5ECF6",
            "gridcolor": "white",
            "gridwidth": 2,
            "linecolor": "white",
            "showbackground": true,
            "ticks": "",
            "zerolinecolor": "white"
           },
           "zaxis": {
            "backgroundcolor": "#E5ECF6",
            "gridcolor": "white",
            "gridwidth": 2,
            "linecolor": "white",
            "showbackground": true,
            "ticks": "",
            "zerolinecolor": "white"
           }
          },
          "shapedefaults": {
           "line": {
            "color": "#2a3f5f"
           }
          },
          "ternary": {
           "aaxis": {
            "gridcolor": "white",
            "linecolor": "white",
            "ticks": ""
           },
           "baxis": {
            "gridcolor": "white",
            "linecolor": "white",
            "ticks": ""
           },
           "bgcolor": "#E5ECF6",
           "caxis": {
            "gridcolor": "white",
            "linecolor": "white",
            "ticks": ""
           }
          },
          "title": {
           "x": 0.05
          },
          "xaxis": {
           "automargin": true,
           "gridcolor": "white",
           "linecolor": "white",
           "ticks": "",
           "title": {
            "standoff": 15
           },
           "zerolinecolor": "white",
           "zerolinewidth": 2
          },
          "yaxis": {
           "automargin": true,
           "gridcolor": "white",
           "linecolor": "white",
           "ticks": "",
           "title": {
            "standoff": 15
           },
           "zerolinecolor": "white",
           "zerolinewidth": 2
          }
         }
        },
        "title": {
         "text": "Bar plot of FB & date "
        },
        "xaxis": {
         "anchor": "y",
         "domain": [
          0,
          1
         ],
         "title": {
          "text": "date"
         }
        },
        "yaxis": {
         "anchor": "x",
         "domain": [
          0,
          1
         ],
         "title": {
          "text": "FB"
         }
        }
       }
      },
      "text/html": [
       "<div>                            <div id=\"19afaed6-3386-40bd-9cee-803fa5d9fcaa\" class=\"plotly-graph-div\" style=\"height:525px; width:100%;\"></div>            <script type=\"text/javascript\">                require([\"plotly\"], function(Plotly) {                    window.PLOTLYENV=window.PLOTLYENV || {};                                    if (document.getElementById(\"19afaed6-3386-40bd-9cee-803fa5d9fcaa\")) {                    Plotly.newPlot(                        \"19afaed6-3386-40bd-9cee-803fa5d9fcaa\",                        [{\"alignmentgroup\":\"True\",\"hovertemplate\":\"date=%{x}<br>FB=%{y}<extra></extra>\",\"legendgroup\":\"\",\"marker\":{\"color\":\"#636efa\",\"pattern\":{\"shape\":\"\"}},\"name\":\"\",\"offsetgroup\":\"\",\"orientation\":\"v\",\"showlegend\":false,\"textposition\":\"auto\",\"type\":\"bar\",\"x\":[\"2018-01-01\",\"2018-01-08\",\"2018-01-15\",\"2018-01-22\",\"2018-01-29\",\"2018-02-05\",\"2018-02-12\",\"2018-02-19\",\"2018-02-26\",\"2018-03-05\",\"2018-03-12\",\"2018-03-19\",\"2018-03-26\",\"2018-04-02\",\"2018-04-09\",\"2018-04-16\",\"2018-04-23\",\"2018-04-30\",\"2018-05-07\",\"2018-05-14\",\"2018-05-21\",\"2018-05-28\",\"2018-06-04\",\"2018-06-11\",\"2018-06-18\",\"2018-06-25\",\"2018-07-02\",\"2018-07-09\",\"2018-07-16\",\"2018-07-23\",\"2018-07-30\",\"2018-08-06\",\"2018-08-13\",\"2018-08-20\",\"2018-08-27\",\"2018-09-03\",\"2018-09-10\",\"2018-09-17\",\"2018-09-24\",\"2018-10-01\",\"2018-10-08\",\"2018-10-15\",\"2018-10-22\",\"2018-10-29\",\"2018-11-05\",\"2018-11-12\",\"2018-11-19\",\"2018-11-26\",\"2018-12-03\",\"2018-12-10\",\"2018-12-17\",\"2018-12-24\",\"2018-12-31\",\"2019-01-07\",\"2019-01-14\",\"2019-01-21\",\"2019-01-28\",\"2019-02-04\",\"2019-02-11\",\"2019-02-18\",\"2019-02-25\",\"2019-03-04\",\"2019-03-11\",\"2019-03-18\",\"2019-03-25\",\"2019-04-01\",\"2019-04-08\",\"2019-04-15\",\"2019-04-22\",\"2019-04-29\",\"2019-05-06\",\"2019-05-13\",\"2019-05-20\",\"2019-05-27\",\"2019-06-03\",\"2019-06-10\",\"2019-06-17\",\"2019-06-24\",\"2019-07-01\",\"2019-07-08\",\"2019-07-15\",\"2019-07-22\",\"2019-07-29\",\"2019-08-05\",\"2019-08-12\",\"2019-08-19\",\"2019-08-26\",\"2019-09-02\",\"2019-09-09\",\"2019-09-16\",\"2019-09-23\",\"2019-09-30\",\"2019-10-07\",\"2019-10-14\",\"2019-10-21\",\"2019-10-28\",\"2019-11-04\",\"2019-11-11\",\"2019-11-18\",\"2019-11-25\",\"2019-12-02\",\"2019-12-09\",\"2019-12-16\",\"2019-12-23\",\"2019-12-30\"],\"xaxis\":\"x\",\"y\":[1.0,0.9599678310954936,0.9702434422185674,1.0168584099483515,1.0183569327795472,0.9425207136466456,0.949210571606832,0.9809472149548658,0.9452501435830832,0.9913298905647344,0.9905806264731936,0.8530371628674177,0.8551778853033591,0.8413165210173983,0.8804923666954552,0.8899116599439659,0.9290339332394776,0.9451966568307202,1.0007492587396545,0.9776825642702948,0.9896708164943808,1.038212463316699,1.0120417443283358,1.048166977313343,1.0796895826698554,1.039978596521961,1.0876638451914205,1.109553119307901,1.12357503483302,0.9359914015737306,0.951458353177682,0.9647310099631464,0.9301578668399936,0.934706922085943,0.940486970067317,0.8725715159998442,0.868718232741186,0.8719828084993478,0.8801712695690254,0.8420122930046896,0.822799036998693,0.8244581110690464,0.7780036945784202,0.8046561475625534,0.7758094853901156,0.7467486995959743,0.7050039698687512,0.7525287475773482,0.735456214007293,0.7709927394918039,0.668718185644586,0.712871248181817,0.7382927084305257,0.769601275795517,0.8029969932139043,0.7974845609584834,0.8868611275292119,0.8955311566861818,0.8696815348242483,0.8664168787877908,0.8685041144713691,0.907679960149426,0.8883060779778621,0.8795289843340972,0.8921059494105662,0.9404334779630672,0.9585228806468435,0.9541342963617566,1.024832747396326,1.0461332337340143,1.0079742571696786,0.9917045600737096,0.9690125351133252,0.9497992791073284,0.9277495340299856,0.9704575658402708,1.0229595550561554,1.0329140690527994,1.0511104505931883,1.0964409334832987,1.0616001853379655,1.0690393020378066,1.011613582715111,1.0053518863681492,0.9831415097733526,0.951297801938524,0.993684731270493,1.003425201923729,1.0018196199576253,1.0164837404393767,0.9478191079105452,0.9657478790768677,0.9857639608531776,0.9946481136318508,1.0055659243596704,1.03623221184162,1.0213539730900516,1.044153062537231,1.0640620851786324,1.0791543619217223,1.07599677037206,1.0388546682733315,1.104094173804843,1.113727585323171,1.0984746770626277],\"yaxis\":\"y\"}],                        {\"barmode\":\"relative\",\"legend\":{\"tracegroupgap\":0},\"template\":{\"data\":{\"bar\":[{\"error_x\":{\"color\":\"#2a3f5f\"},\"error_y\":{\"color\":\"#2a3f5f\"},\"marker\":{\"line\":{\"color\":\"#E5ECF6\",\"width\":0.5},\"pattern\":{\"fillmode\":\"overlay\",\"size\":10,\"solidity\":0.2}},\"type\":\"bar\"}],\"barpolar\":[{\"marker\":{\"line\":{\"color\":\"#E5ECF6\",\"width\":0.5},\"pattern\":{\"fillmode\":\"overlay\",\"size\":10,\"solidity\":0.2}},\"type\":\"barpolar\"}],\"carpet\":[{\"aaxis\":{\"endlinecolor\":\"#2a3f5f\",\"gridcolor\":\"white\",\"linecolor\":\"white\",\"minorgridcolor\":\"white\",\"startlinecolor\":\"#2a3f5f\"},\"baxis\":{\"endlinecolor\":\"#2a3f5f\",\"gridcolor\":\"white\",\"linecolor\":\"white\",\"minorgridcolor\":\"white\",\"startlinecolor\":\"#2a3f5f\"},\"type\":\"carpet\"}],\"choropleth\":[{\"colorbar\":{\"outlinewidth\":0,\"ticks\":\"\"},\"type\":\"choropleth\"}],\"contour\":[{\"colorbar\":{\"outlinewidth\":0,\"ticks\":\"\"},\"colorscale\":[[0.0,\"#0d0887\"],[0.1111111111111111,\"#46039f\"],[0.2222222222222222,\"#7201a8\"],[0.3333333333333333,\"#9c179e\"],[0.4444444444444444,\"#bd3786\"],[0.5555555555555556,\"#d8576b\"],[0.6666666666666666,\"#ed7953\"],[0.7777777777777778,\"#fb9f3a\"],[0.8888888888888888,\"#fdca26\"],[1.0,\"#f0f921\"]],\"type\":\"contour\"}],\"contourcarpet\":[{\"colorbar\":{\"outlinewidth\":0,\"ticks\":\"\"},\"type\":\"contourcarpet\"}],\"heatmap\":[{\"colorbar\":{\"outlinewidth\":0,\"ticks\":\"\"},\"colorscale\":[[0.0,\"#0d0887\"],[0.1111111111111111,\"#46039f\"],[0.2222222222222222,\"#7201a8\"],[0.3333333333333333,\"#9c179e\"],[0.4444444444444444,\"#bd3786\"],[0.5555555555555556,\"#d8576b\"],[0.6666666666666666,\"#ed7953\"],[0.7777777777777778,\"#fb9f3a\"],[0.8888888888888888,\"#fdca26\"],[1.0,\"#f0f921\"]],\"type\":\"heatmap\"}],\"heatmapgl\":[{\"colorbar\":{\"outlinewidth\":0,\"ticks\":\"\"},\"colorscale\":[[0.0,\"#0d0887\"],[0.1111111111111111,\"#46039f\"],[0.2222222222222222,\"#7201a8\"],[0.3333333333333333,\"#9c179e\"],[0.4444444444444444,\"#bd3786\"],[0.5555555555555556,\"#d8576b\"],[0.6666666666666666,\"#ed7953\"],[0.7777777777777778,\"#fb9f3a\"],[0.8888888888888888,\"#fdca26\"],[1.0,\"#f0f921\"]],\"type\":\"heatmapgl\"}],\"histogram\":[{\"marker\":{\"pattern\":{\"fillmode\":\"overlay\",\"size\":10,\"solidity\":0.2}},\"type\":\"histogram\"}],\"histogram2d\":[{\"colorbar\":{\"outlinewidth\":0,\"ticks\":\"\"},\"colorscale\":[[0.0,\"#0d0887\"],[0.1111111111111111,\"#46039f\"],[0.2222222222222222,\"#7201a8\"],[0.3333333333333333,\"#9c179e\"],[0.4444444444444444,\"#bd3786\"],[0.5555555555555556,\"#d8576b\"],[0.6666666666666666,\"#ed7953\"],[0.7777777777777778,\"#fb9f3a\"],[0.8888888888888888,\"#fdca26\"],[1.0,\"#f0f921\"]],\"type\":\"histogram2d\"}],\"histogram2dcontour\":[{\"colorbar\":{\"outlinewidth\":0,\"ticks\":\"\"},\"colorscale\":[[0.0,\"#0d0887\"],[0.1111111111111111,\"#46039f\"],[0.2222222222222222,\"#7201a8\"],[0.3333333333333333,\"#9c179e\"],[0.4444444444444444,\"#bd3786\"],[0.5555555555555556,\"#d8576b\"],[0.6666666666666666,\"#ed7953\"],[0.7777777777777778,\"#fb9f3a\"],[0.8888888888888888,\"#fdca26\"],[1.0,\"#f0f921\"]],\"type\":\"histogram2dcontour\"}],\"mesh3d\":[{\"colorbar\":{\"outlinewidth\":0,\"ticks\":\"\"},\"type\":\"mesh3d\"}],\"parcoords\":[{\"line\":{\"colorbar\":{\"outlinewidth\":0,\"ticks\":\"\"}},\"type\":\"parcoords\"}],\"pie\":[{\"automargin\":true,\"type\":\"pie\"}],\"scatter\":[{\"marker\":{\"colorbar\":{\"outlinewidth\":0,\"ticks\":\"\"}},\"type\":\"scatter\"}],\"scatter3d\":[{\"line\":{\"colorbar\":{\"outlinewidth\":0,\"ticks\":\"\"}},\"marker\":{\"colorbar\":{\"outlinewidth\":0,\"ticks\":\"\"}},\"type\":\"scatter3d\"}],\"scattercarpet\":[{\"marker\":{\"colorbar\":{\"outlinewidth\":0,\"ticks\":\"\"}},\"type\":\"scattercarpet\"}],\"scattergeo\":[{\"marker\":{\"colorbar\":{\"outlinewidth\":0,\"ticks\":\"\"}},\"type\":\"scattergeo\"}],\"scattergl\":[{\"marker\":{\"colorbar\":{\"outlinewidth\":0,\"ticks\":\"\"}},\"type\":\"scattergl\"}],\"scattermapbox\":[{\"marker\":{\"colorbar\":{\"outlinewidth\":0,\"ticks\":\"\"}},\"type\":\"scattermapbox\"}],\"scatterpolar\":[{\"marker\":{\"colorbar\":{\"outlinewidth\":0,\"ticks\":\"\"}},\"type\":\"scatterpolar\"}],\"scatterpolargl\":[{\"marker\":{\"colorbar\":{\"outlinewidth\":0,\"ticks\":\"\"}},\"type\":\"scatterpolargl\"}],\"scatterternary\":[{\"marker\":{\"colorbar\":{\"outlinewidth\":0,\"ticks\":\"\"}},\"type\":\"scatterternary\"}],\"surface\":[{\"colorbar\":{\"outlinewidth\":0,\"ticks\":\"\"},\"colorscale\":[[0.0,\"#0d0887\"],[0.1111111111111111,\"#46039f\"],[0.2222222222222222,\"#7201a8\"],[0.3333333333333333,\"#9c179e\"],[0.4444444444444444,\"#bd3786\"],[0.5555555555555556,\"#d8576b\"],[0.6666666666666666,\"#ed7953\"],[0.7777777777777778,\"#fb9f3a\"],[0.8888888888888888,\"#fdca26\"],[1.0,\"#f0f921\"]],\"type\":\"surface\"}],\"table\":[{\"cells\":{\"fill\":{\"color\":\"#EBF0F8\"},\"line\":{\"color\":\"white\"}},\"header\":{\"fill\":{\"color\":\"#C8D4E3\"},\"line\":{\"color\":\"white\"}},\"type\":\"table\"}]},\"layout\":{\"annotationdefaults\":{\"arrowcolor\":\"#2a3f5f\",\"arrowhead\":0,\"arrowwidth\":1},\"autotypenumbers\":\"strict\",\"coloraxis\":{\"colorbar\":{\"outlinewidth\":0,\"ticks\":\"\"}},\"colorscale\":{\"diverging\":[[0,\"#8e0152\"],[0.1,\"#c51b7d\"],[0.2,\"#de77ae\"],[0.3,\"#f1b6da\"],[0.4,\"#fde0ef\"],[0.5,\"#f7f7f7\"],[0.6,\"#e6f5d0\"],[0.7,\"#b8e186\"],[0.8,\"#7fbc41\"],[0.9,\"#4d9221\"],[1,\"#276419\"]],\"sequential\":[[0.0,\"#0d0887\"],[0.1111111111111111,\"#46039f\"],[0.2222222222222222,\"#7201a8\"],[0.3333333333333333,\"#9c179e\"],[0.4444444444444444,\"#bd3786\"],[0.5555555555555556,\"#d8576b\"],[0.6666666666666666,\"#ed7953\"],[0.7777777777777778,\"#fb9f3a\"],[0.8888888888888888,\"#fdca26\"],[1.0,\"#f0f921\"]],\"sequentialminus\":[[0.0,\"#0d0887\"],[0.1111111111111111,\"#46039f\"],[0.2222222222222222,\"#7201a8\"],[0.3333333333333333,\"#9c179e\"],[0.4444444444444444,\"#bd3786\"],[0.5555555555555556,\"#d8576b\"],[0.6666666666666666,\"#ed7953\"],[0.7777777777777778,\"#fb9f3a\"],[0.8888888888888888,\"#fdca26\"],[1.0,\"#f0f921\"]]},\"colorway\":[\"#636efa\",\"#EF553B\",\"#00cc96\",\"#ab63fa\",\"#FFA15A\",\"#19d3f3\",\"#FF6692\",\"#B6E880\",\"#FF97FF\",\"#FECB52\"],\"font\":{\"color\":\"#2a3f5f\"},\"geo\":{\"bgcolor\":\"white\",\"lakecolor\":\"white\",\"landcolor\":\"#E5ECF6\",\"showlakes\":true,\"showland\":true,\"subunitcolor\":\"white\"},\"hoverlabel\":{\"align\":\"left\"},\"hovermode\":\"closest\",\"mapbox\":{\"style\":\"light\"},\"paper_bgcolor\":\"white\",\"plot_bgcolor\":\"#E5ECF6\",\"polar\":{\"angularaxis\":{\"gridcolor\":\"white\",\"linecolor\":\"white\",\"ticks\":\"\"},\"bgcolor\":\"#E5ECF6\",\"radialaxis\":{\"gridcolor\":\"white\",\"linecolor\":\"white\",\"ticks\":\"\"}},\"scene\":{\"xaxis\":{\"backgroundcolor\":\"#E5ECF6\",\"gridcolor\":\"white\",\"gridwidth\":2,\"linecolor\":\"white\",\"showbackground\":true,\"ticks\":\"\",\"zerolinecolor\":\"white\"},\"yaxis\":{\"backgroundcolor\":\"#E5ECF6\",\"gridcolor\":\"white\",\"gridwidth\":2,\"linecolor\":\"white\",\"showbackground\":true,\"ticks\":\"\",\"zerolinecolor\":\"white\"},\"zaxis\":{\"backgroundcolor\":\"#E5ECF6\",\"gridcolor\":\"white\",\"gridwidth\":2,\"linecolor\":\"white\",\"showbackground\":true,\"ticks\":\"\",\"zerolinecolor\":\"white\"}},\"shapedefaults\":{\"line\":{\"color\":\"#2a3f5f\"}},\"ternary\":{\"aaxis\":{\"gridcolor\":\"white\",\"linecolor\":\"white\",\"ticks\":\"\"},\"baxis\":{\"gridcolor\":\"white\",\"linecolor\":\"white\",\"ticks\":\"\"},\"bgcolor\":\"#E5ECF6\",\"caxis\":{\"gridcolor\":\"white\",\"linecolor\":\"white\",\"ticks\":\"\"}},\"title\":{\"x\":0.05},\"xaxis\":{\"automargin\":true,\"gridcolor\":\"white\",\"linecolor\":\"white\",\"ticks\":\"\",\"title\":{\"standoff\":15},\"zerolinecolor\":\"white\",\"zerolinewidth\":2},\"yaxis\":{\"automargin\":true,\"gridcolor\":\"white\",\"linecolor\":\"white\",\"ticks\":\"\",\"title\":{\"standoff\":15},\"zerolinecolor\":\"white\",\"zerolinewidth\":2}}},\"title\":{\"text\":\"Bar plot of FB & date \"},\"xaxis\":{\"anchor\":\"y\",\"domain\":[0.0,1.0],\"title\":{\"text\":\"date\"}},\"yaxis\":{\"anchor\":\"x\",\"domain\":[0.0,1.0],\"title\":{\"text\":\"FB\"}}},                        {\"responsive\": true}                    ).then(function(){\n",
       "                            \n",
       "var gd = document.getElementById('19afaed6-3386-40bd-9cee-803fa5d9fcaa');\n",
       "var x = new MutationObserver(function (mutations, observer) {{\n",
       "        var display = window.getComputedStyle(gd).display;\n",
       "        if (!display || display === 'none') {{\n",
       "            console.log([gd, 'removed!']);\n",
       "            Plotly.purge(gd);\n",
       "            observer.disconnect();\n",
       "        }}\n",
       "}});\n",
       "\n",
       "// Listen for the removal of the full notebook cells\n",
       "var notebookContainer = gd.closest('#notebook-container');\n",
       "if (notebookContainer) {{\n",
       "    x.observe(notebookContainer, {childList: true});\n",
       "}}\n",
       "\n",
       "// Listen for the clearing of the current output cell\n",
       "var outputEl = gd.closest('.output');\n",
       "if (outputEl) {{\n",
       "    x.observe(outputEl, {childList: true});\n",
       "}}\n",
       "\n",
       "                        })                };                });            </script>        </div>"
      ]
     },
     "metadata": {},
     "output_type": "display_data"
    }
   ],
   "source": [
    "px.bar(df3 , x = \"date\" ,\n",
    "       y = \"FB\"  ,\n",
    "       title = \"Bar plot of FB & date \")"
   ]
  },
  {
   "cell_type": "code",
   "execution_count": 12,
   "id": "9a0c0e0f",
   "metadata": {},
   "outputs": [
    {
     "data": {
      "application/vnd.plotly.v1+json": {
       "config": {
        "plotlyServerURL": "https://plot.ly"
       },
       "data": [
        {
         "alignmentgroup": "True",
         "hovertemplate": "date=%{x}<br>AAPL=%{y}<extra></extra>",
         "legendgroup": "",
         "marker": {
          "color": "#636efa",
          "pattern": {
           "shape": ""
          }
         },
         "name": "",
         "offsetgroup": "",
         "orientation": "v",
         "showlegend": false,
         "textposition": "auto",
         "type": "bar",
         "x": [
          "2018-01-01",
          "2018-01-08",
          "2018-01-15",
          "2018-01-22",
          "2018-01-29",
          "2018-02-05",
          "2018-02-12",
          "2018-02-19",
          "2018-02-26",
          "2018-03-05",
          "2018-03-12",
          "2018-03-19",
          "2018-03-26",
          "2018-04-02",
          "2018-04-09",
          "2018-04-16",
          "2018-04-23",
          "2018-04-30",
          "2018-05-07",
          "2018-05-14",
          "2018-05-21",
          "2018-05-28",
          "2018-06-04",
          "2018-06-11",
          "2018-06-18",
          "2018-06-25",
          "2018-07-02",
          "2018-07-09",
          "2018-07-16",
          "2018-07-23",
          "2018-07-30",
          "2018-08-06",
          "2018-08-13",
          "2018-08-20",
          "2018-08-27",
          "2018-09-03",
          "2018-09-10",
          "2018-09-17",
          "2018-09-24",
          "2018-10-01",
          "2018-10-08",
          "2018-10-15",
          "2018-10-22",
          "2018-10-29",
          "2018-11-05",
          "2018-11-12",
          "2018-11-19",
          "2018-11-26",
          "2018-12-03",
          "2018-12-10",
          "2018-12-17",
          "2018-12-24",
          "2018-12-31",
          "2019-01-07",
          "2019-01-14",
          "2019-01-21",
          "2019-01-28",
          "2019-02-04",
          "2019-02-11",
          "2019-02-18",
          "2019-02-25",
          "2019-03-04",
          "2019-03-11",
          "2019-03-18",
          "2019-03-25",
          "2019-04-01",
          "2019-04-08",
          "2019-04-15",
          "2019-04-22",
          "2019-04-29",
          "2019-05-06",
          "2019-05-13",
          "2019-05-20",
          "2019-05-27",
          "2019-06-03",
          "2019-06-10",
          "2019-06-17",
          "2019-06-24",
          "2019-07-01",
          "2019-07-08",
          "2019-07-15",
          "2019-07-22",
          "2019-07-29",
          "2019-08-05",
          "2019-08-12",
          "2019-08-19",
          "2019-08-26",
          "2019-09-02",
          "2019-09-09",
          "2019-09-16",
          "2019-09-23",
          "2019-09-30",
          "2019-10-07",
          "2019-10-14",
          "2019-10-21",
          "2019-10-28",
          "2019-11-04",
          "2019-11-11",
          "2019-11-18",
          "2019-11-25",
          "2019-12-02",
          "2019-12-09",
          "2019-12-16",
          "2019-12-23",
          "2019-12-30"
         ],
         "xaxis": "x",
         "y": [
          1,
          1.0119428342857142,
          1.0197714685714288,
          0.9800571142857144,
          0.9171428571428571,
          0.8937714514285715,
          0.9853142457142856,
          1.002857142857143,
          1.006914325714286,
          1.02845712,
          1.0172571657142857,
          0.9425142971428572,
          0.9587428514285714,
          0.9621714571428572,
          0.99845712,
          0.9469714342857144,
          0.9275428971428572,
          1.0504571542857144,
          1.07765712,
          1.06462856,
          1.0776000114285715,
          1.0870857428571428,
          1.0954285542857145,
          1.0790856914285714,
          1.0566857028571428,
          1.0577714342857143,
          1.0741142914285715,
          1.093314297142857,
          1.0939428685714283,
          1.0913142628571428,
          1.1885143142857142,
          1.1858857085714285,
          1.2433142971428572,
          1.235200022857143,
          1.3007428857142855,
          1.2645714457142856,
          1.279085691428571,
          1.2437714514285716,
          1.2899428857142856,
          1.2816571028571428,
          1.2692000057142856,
          1.253199988571429,
          1.236000017142857,
          1.1855999771428571,
          1.1684000057142856,
          1.1058857085714286,
          0.9845142457142856,
          1.0204571542857144,
          0.9628000285714284,
          0.9455999771428572,
          0.8613142628571429,
          0.8927428342857143,
          0.8471999714285714,
          0.8702285314285714,
          0.8961143257142857,
          0.9014856857142858,
          0.95154288,
          0.9737714514285716,
          0.97382856,
          0.9884000057142855,
          0.9998285771428572,
          0.9880571657142858,
          1.0635428285714286,
          1.0917143028571428,
          1.0854285542857145,
          1.1257142857142857,
          1.1363999714285713,
          1.1649142914285715,
          1.1674285885714286,
          1.21,
          1.126742817142857,
          1.08,
          1.02268572,
          1.00040004,
          1.0865713942857145,
          1.1013714571428572,
          1.135885708571429,
          1.130971417142857,
          1.167028548571429,
          1.1617143028571428,
          1.15765712,
          1.1870857428571429,
          1.1658285942857145,
          1.1485143142857142,
          1.18,
          1.1579428514285717,
          1.1928000285714286,
          1.218628542857143,
          1.25,
          1.2441714057142856,
          1.25040004,
          1.2971999714285716,
          1.3497714685714286,
          1.3509143085714286,
          1.409028582857143,
          1.4618286114285712,
          1.4865143714285716,
          1.5186286285714288,
          1.4958857085714288,
          1.5271428571428571,
          1.5469142342857145,
          1.57228568,
          1.5968000114285714,
          1.6559999314285714,
          1.6779999657142857
         ],
         "yaxis": "y"
        }
       ],
       "layout": {
        "barmode": "relative",
        "legend": {
         "tracegroupgap": 0
        },
        "template": {
         "data": {
          "bar": [
           {
            "error_x": {
             "color": "#2a3f5f"
            },
            "error_y": {
             "color": "#2a3f5f"
            },
            "marker": {
             "line": {
              "color": "#E5ECF6",
              "width": 0.5
             },
             "pattern": {
              "fillmode": "overlay",
              "size": 10,
              "solidity": 0.2
             }
            },
            "type": "bar"
           }
          ],
          "barpolar": [
           {
            "marker": {
             "line": {
              "color": "#E5ECF6",
              "width": 0.5
             },
             "pattern": {
              "fillmode": "overlay",
              "size": 10,
              "solidity": 0.2
             }
            },
            "type": "barpolar"
           }
          ],
          "carpet": [
           {
            "aaxis": {
             "endlinecolor": "#2a3f5f",
             "gridcolor": "white",
             "linecolor": "white",
             "minorgridcolor": "white",
             "startlinecolor": "#2a3f5f"
            },
            "baxis": {
             "endlinecolor": "#2a3f5f",
             "gridcolor": "white",
             "linecolor": "white",
             "minorgridcolor": "white",
             "startlinecolor": "#2a3f5f"
            },
            "type": "carpet"
           }
          ],
          "choropleth": [
           {
            "colorbar": {
             "outlinewidth": 0,
             "ticks": ""
            },
            "type": "choropleth"
           }
          ],
          "contour": [
           {
            "colorbar": {
             "outlinewidth": 0,
             "ticks": ""
            },
            "colorscale": [
             [
              0,
              "#0d0887"
             ],
             [
              0.1111111111111111,
              "#46039f"
             ],
             [
              0.2222222222222222,
              "#7201a8"
             ],
             [
              0.3333333333333333,
              "#9c179e"
             ],
             [
              0.4444444444444444,
              "#bd3786"
             ],
             [
              0.5555555555555556,
              "#d8576b"
             ],
             [
              0.6666666666666666,
              "#ed7953"
             ],
             [
              0.7777777777777778,
              "#fb9f3a"
             ],
             [
              0.8888888888888888,
              "#fdca26"
             ],
             [
              1,
              "#f0f921"
             ]
            ],
            "type": "contour"
           }
          ],
          "contourcarpet": [
           {
            "colorbar": {
             "outlinewidth": 0,
             "ticks": ""
            },
            "type": "contourcarpet"
           }
          ],
          "heatmap": [
           {
            "colorbar": {
             "outlinewidth": 0,
             "ticks": ""
            },
            "colorscale": [
             [
              0,
              "#0d0887"
             ],
             [
              0.1111111111111111,
              "#46039f"
             ],
             [
              0.2222222222222222,
              "#7201a8"
             ],
             [
              0.3333333333333333,
              "#9c179e"
             ],
             [
              0.4444444444444444,
              "#bd3786"
             ],
             [
              0.5555555555555556,
              "#d8576b"
             ],
             [
              0.6666666666666666,
              "#ed7953"
             ],
             [
              0.7777777777777778,
              "#fb9f3a"
             ],
             [
              0.8888888888888888,
              "#fdca26"
             ],
             [
              1,
              "#f0f921"
             ]
            ],
            "type": "heatmap"
           }
          ],
          "heatmapgl": [
           {
            "colorbar": {
             "outlinewidth": 0,
             "ticks": ""
            },
            "colorscale": [
             [
              0,
              "#0d0887"
             ],
             [
              0.1111111111111111,
              "#46039f"
             ],
             [
              0.2222222222222222,
              "#7201a8"
             ],
             [
              0.3333333333333333,
              "#9c179e"
             ],
             [
              0.4444444444444444,
              "#bd3786"
             ],
             [
              0.5555555555555556,
              "#d8576b"
             ],
             [
              0.6666666666666666,
              "#ed7953"
             ],
             [
              0.7777777777777778,
              "#fb9f3a"
             ],
             [
              0.8888888888888888,
              "#fdca26"
             ],
             [
              1,
              "#f0f921"
             ]
            ],
            "type": "heatmapgl"
           }
          ],
          "histogram": [
           {
            "marker": {
             "pattern": {
              "fillmode": "overlay",
              "size": 10,
              "solidity": 0.2
             }
            },
            "type": "histogram"
           }
          ],
          "histogram2d": [
           {
            "colorbar": {
             "outlinewidth": 0,
             "ticks": ""
            },
            "colorscale": [
             [
              0,
              "#0d0887"
             ],
             [
              0.1111111111111111,
              "#46039f"
             ],
             [
              0.2222222222222222,
              "#7201a8"
             ],
             [
              0.3333333333333333,
              "#9c179e"
             ],
             [
              0.4444444444444444,
              "#bd3786"
             ],
             [
              0.5555555555555556,
              "#d8576b"
             ],
             [
              0.6666666666666666,
              "#ed7953"
             ],
             [
              0.7777777777777778,
              "#fb9f3a"
             ],
             [
              0.8888888888888888,
              "#fdca26"
             ],
             [
              1,
              "#f0f921"
             ]
            ],
            "type": "histogram2d"
           }
          ],
          "histogram2dcontour": [
           {
            "colorbar": {
             "outlinewidth": 0,
             "ticks": ""
            },
            "colorscale": [
             [
              0,
              "#0d0887"
             ],
             [
              0.1111111111111111,
              "#46039f"
             ],
             [
              0.2222222222222222,
              "#7201a8"
             ],
             [
              0.3333333333333333,
              "#9c179e"
             ],
             [
              0.4444444444444444,
              "#bd3786"
             ],
             [
              0.5555555555555556,
              "#d8576b"
             ],
             [
              0.6666666666666666,
              "#ed7953"
             ],
             [
              0.7777777777777778,
              "#fb9f3a"
             ],
             [
              0.8888888888888888,
              "#fdca26"
             ],
             [
              1,
              "#f0f921"
             ]
            ],
            "type": "histogram2dcontour"
           }
          ],
          "mesh3d": [
           {
            "colorbar": {
             "outlinewidth": 0,
             "ticks": ""
            },
            "type": "mesh3d"
           }
          ],
          "parcoords": [
           {
            "line": {
             "colorbar": {
              "outlinewidth": 0,
              "ticks": ""
             }
            },
            "type": "parcoords"
           }
          ],
          "pie": [
           {
            "automargin": true,
            "type": "pie"
           }
          ],
          "scatter": [
           {
            "marker": {
             "colorbar": {
              "outlinewidth": 0,
              "ticks": ""
             }
            },
            "type": "scatter"
           }
          ],
          "scatter3d": [
           {
            "line": {
             "colorbar": {
              "outlinewidth": 0,
              "ticks": ""
             }
            },
            "marker": {
             "colorbar": {
              "outlinewidth": 0,
              "ticks": ""
             }
            },
            "type": "scatter3d"
           }
          ],
          "scattercarpet": [
           {
            "marker": {
             "colorbar": {
              "outlinewidth": 0,
              "ticks": ""
             }
            },
            "type": "scattercarpet"
           }
          ],
          "scattergeo": [
           {
            "marker": {
             "colorbar": {
              "outlinewidth": 0,
              "ticks": ""
             }
            },
            "type": "scattergeo"
           }
          ],
          "scattergl": [
           {
            "marker": {
             "colorbar": {
              "outlinewidth": 0,
              "ticks": ""
             }
            },
            "type": "scattergl"
           }
          ],
          "scattermapbox": [
           {
            "marker": {
             "colorbar": {
              "outlinewidth": 0,
              "ticks": ""
             }
            },
            "type": "scattermapbox"
           }
          ],
          "scatterpolar": [
           {
            "marker": {
             "colorbar": {
              "outlinewidth": 0,
              "ticks": ""
             }
            },
            "type": "scatterpolar"
           }
          ],
          "scatterpolargl": [
           {
            "marker": {
             "colorbar": {
              "outlinewidth": 0,
              "ticks": ""
             }
            },
            "type": "scatterpolargl"
           }
          ],
          "scatterternary": [
           {
            "marker": {
             "colorbar": {
              "outlinewidth": 0,
              "ticks": ""
             }
            },
            "type": "scatterternary"
           }
          ],
          "surface": [
           {
            "colorbar": {
             "outlinewidth": 0,
             "ticks": ""
            },
            "colorscale": [
             [
              0,
              "#0d0887"
             ],
             [
              0.1111111111111111,
              "#46039f"
             ],
             [
              0.2222222222222222,
              "#7201a8"
             ],
             [
              0.3333333333333333,
              "#9c179e"
             ],
             [
              0.4444444444444444,
              "#bd3786"
             ],
             [
              0.5555555555555556,
              "#d8576b"
             ],
             [
              0.6666666666666666,
              "#ed7953"
             ],
             [
              0.7777777777777778,
              "#fb9f3a"
             ],
             [
              0.8888888888888888,
              "#fdca26"
             ],
             [
              1,
              "#f0f921"
             ]
            ],
            "type": "surface"
           }
          ],
          "table": [
           {
            "cells": {
             "fill": {
              "color": "#EBF0F8"
             },
             "line": {
              "color": "white"
             }
            },
            "header": {
             "fill": {
              "color": "#C8D4E3"
             },
             "line": {
              "color": "white"
             }
            },
            "type": "table"
           }
          ]
         },
         "layout": {
          "annotationdefaults": {
           "arrowcolor": "#2a3f5f",
           "arrowhead": 0,
           "arrowwidth": 1
          },
          "autotypenumbers": "strict",
          "coloraxis": {
           "colorbar": {
            "outlinewidth": 0,
            "ticks": ""
           }
          },
          "colorscale": {
           "diverging": [
            [
             0,
             "#8e0152"
            ],
            [
             0.1,
             "#c51b7d"
            ],
            [
             0.2,
             "#de77ae"
            ],
            [
             0.3,
             "#f1b6da"
            ],
            [
             0.4,
             "#fde0ef"
            ],
            [
             0.5,
             "#f7f7f7"
            ],
            [
             0.6,
             "#e6f5d0"
            ],
            [
             0.7,
             "#b8e186"
            ],
            [
             0.8,
             "#7fbc41"
            ],
            [
             0.9,
             "#4d9221"
            ],
            [
             1,
             "#276419"
            ]
           ],
           "sequential": [
            [
             0,
             "#0d0887"
            ],
            [
             0.1111111111111111,
             "#46039f"
            ],
            [
             0.2222222222222222,
             "#7201a8"
            ],
            [
             0.3333333333333333,
             "#9c179e"
            ],
            [
             0.4444444444444444,
             "#bd3786"
            ],
            [
             0.5555555555555556,
             "#d8576b"
            ],
            [
             0.6666666666666666,
             "#ed7953"
            ],
            [
             0.7777777777777778,
             "#fb9f3a"
            ],
            [
             0.8888888888888888,
             "#fdca26"
            ],
            [
             1,
             "#f0f921"
            ]
           ],
           "sequentialminus": [
            [
             0,
             "#0d0887"
            ],
            [
             0.1111111111111111,
             "#46039f"
            ],
            [
             0.2222222222222222,
             "#7201a8"
            ],
            [
             0.3333333333333333,
             "#9c179e"
            ],
            [
             0.4444444444444444,
             "#bd3786"
            ],
            [
             0.5555555555555556,
             "#d8576b"
            ],
            [
             0.6666666666666666,
             "#ed7953"
            ],
            [
             0.7777777777777778,
             "#fb9f3a"
            ],
            [
             0.8888888888888888,
             "#fdca26"
            ],
            [
             1,
             "#f0f921"
            ]
           ]
          },
          "colorway": [
           "#636efa",
           "#EF553B",
           "#00cc96",
           "#ab63fa",
           "#FFA15A",
           "#19d3f3",
           "#FF6692",
           "#B6E880",
           "#FF97FF",
           "#FECB52"
          ],
          "font": {
           "color": "#2a3f5f"
          },
          "geo": {
           "bgcolor": "white",
           "lakecolor": "white",
           "landcolor": "#E5ECF6",
           "showlakes": true,
           "showland": true,
           "subunitcolor": "white"
          },
          "hoverlabel": {
           "align": "left"
          },
          "hovermode": "closest",
          "mapbox": {
           "style": "light"
          },
          "paper_bgcolor": "white",
          "plot_bgcolor": "#E5ECF6",
          "polar": {
           "angularaxis": {
            "gridcolor": "white",
            "linecolor": "white",
            "ticks": ""
           },
           "bgcolor": "#E5ECF6",
           "radialaxis": {
            "gridcolor": "white",
            "linecolor": "white",
            "ticks": ""
           }
          },
          "scene": {
           "xaxis": {
            "backgroundcolor": "#E5ECF6",
            "gridcolor": "white",
            "gridwidth": 2,
            "linecolor": "white",
            "showbackground": true,
            "ticks": "",
            "zerolinecolor": "white"
           },
           "yaxis": {
            "backgroundcolor": "#E5ECF6",
            "gridcolor": "white",
            "gridwidth": 2,
            "linecolor": "white",
            "showbackground": true,
            "ticks": "",
            "zerolinecolor": "white"
           },
           "zaxis": {
            "backgroundcolor": "#E5ECF6",
            "gridcolor": "white",
            "gridwidth": 2,
            "linecolor": "white",
            "showbackground": true,
            "ticks": "",
            "zerolinecolor": "white"
           }
          },
          "shapedefaults": {
           "line": {
            "color": "#2a3f5f"
           }
          },
          "ternary": {
           "aaxis": {
            "gridcolor": "white",
            "linecolor": "white",
            "ticks": ""
           },
           "baxis": {
            "gridcolor": "white",
            "linecolor": "white",
            "ticks": ""
           },
           "bgcolor": "#E5ECF6",
           "caxis": {
            "gridcolor": "white",
            "linecolor": "white",
            "ticks": ""
           }
          },
          "title": {
           "x": 0.05
          },
          "xaxis": {
           "automargin": true,
           "gridcolor": "white",
           "linecolor": "white",
           "ticks": "",
           "title": {
            "standoff": 15
           },
           "zerolinecolor": "white",
           "zerolinewidth": 2
          },
          "yaxis": {
           "automargin": true,
           "gridcolor": "white",
           "linecolor": "white",
           "ticks": "",
           "title": {
            "standoff": 15
           },
           "zerolinecolor": "white",
           "zerolinewidth": 2
          }
         }
        },
        "title": {
         "text": "Bar plot of AAPL & date "
        },
        "xaxis": {
         "anchor": "y",
         "domain": [
          0,
          1
         ],
         "title": {
          "text": "date"
         }
        },
        "yaxis": {
         "anchor": "x",
         "domain": [
          0,
          1
         ],
         "title": {
          "text": "AAPL"
         }
        }
       }
      },
      "text/html": [
       "<div>                            <div id=\"d475a599-5184-4fbb-8884-2ca2221cc847\" class=\"plotly-graph-div\" style=\"height:525px; width:100%;\"></div>            <script type=\"text/javascript\">                require([\"plotly\"], function(Plotly) {                    window.PLOTLYENV=window.PLOTLYENV || {};                                    if (document.getElementById(\"d475a599-5184-4fbb-8884-2ca2221cc847\")) {                    Plotly.newPlot(                        \"d475a599-5184-4fbb-8884-2ca2221cc847\",                        [{\"alignmentgroup\":\"True\",\"hovertemplate\":\"date=%{x}<br>AAPL=%{y}<extra></extra>\",\"legendgroup\":\"\",\"marker\":{\"color\":\"#636efa\",\"pattern\":{\"shape\":\"\"}},\"name\":\"\",\"offsetgroup\":\"\",\"orientation\":\"v\",\"showlegend\":false,\"textposition\":\"auto\",\"type\":\"bar\",\"x\":[\"2018-01-01\",\"2018-01-08\",\"2018-01-15\",\"2018-01-22\",\"2018-01-29\",\"2018-02-05\",\"2018-02-12\",\"2018-02-19\",\"2018-02-26\",\"2018-03-05\",\"2018-03-12\",\"2018-03-19\",\"2018-03-26\",\"2018-04-02\",\"2018-04-09\",\"2018-04-16\",\"2018-04-23\",\"2018-04-30\",\"2018-05-07\",\"2018-05-14\",\"2018-05-21\",\"2018-05-28\",\"2018-06-04\",\"2018-06-11\",\"2018-06-18\",\"2018-06-25\",\"2018-07-02\",\"2018-07-09\",\"2018-07-16\",\"2018-07-23\",\"2018-07-30\",\"2018-08-06\",\"2018-08-13\",\"2018-08-20\",\"2018-08-27\",\"2018-09-03\",\"2018-09-10\",\"2018-09-17\",\"2018-09-24\",\"2018-10-01\",\"2018-10-08\",\"2018-10-15\",\"2018-10-22\",\"2018-10-29\",\"2018-11-05\",\"2018-11-12\",\"2018-11-19\",\"2018-11-26\",\"2018-12-03\",\"2018-12-10\",\"2018-12-17\",\"2018-12-24\",\"2018-12-31\",\"2019-01-07\",\"2019-01-14\",\"2019-01-21\",\"2019-01-28\",\"2019-02-04\",\"2019-02-11\",\"2019-02-18\",\"2019-02-25\",\"2019-03-04\",\"2019-03-11\",\"2019-03-18\",\"2019-03-25\",\"2019-04-01\",\"2019-04-08\",\"2019-04-15\",\"2019-04-22\",\"2019-04-29\",\"2019-05-06\",\"2019-05-13\",\"2019-05-20\",\"2019-05-27\",\"2019-06-03\",\"2019-06-10\",\"2019-06-17\",\"2019-06-24\",\"2019-07-01\",\"2019-07-08\",\"2019-07-15\",\"2019-07-22\",\"2019-07-29\",\"2019-08-05\",\"2019-08-12\",\"2019-08-19\",\"2019-08-26\",\"2019-09-02\",\"2019-09-09\",\"2019-09-16\",\"2019-09-23\",\"2019-09-30\",\"2019-10-07\",\"2019-10-14\",\"2019-10-21\",\"2019-10-28\",\"2019-11-04\",\"2019-11-11\",\"2019-11-18\",\"2019-11-25\",\"2019-12-02\",\"2019-12-09\",\"2019-12-16\",\"2019-12-23\",\"2019-12-30\"],\"xaxis\":\"x\",\"y\":[1.0,1.0119428342857142,1.0197714685714288,0.9800571142857144,0.9171428571428571,0.8937714514285715,0.9853142457142856,1.002857142857143,1.006914325714286,1.02845712,1.0172571657142857,0.9425142971428572,0.9587428514285714,0.9621714571428572,0.99845712,0.9469714342857144,0.9275428971428572,1.0504571542857144,1.07765712,1.06462856,1.0776000114285715,1.0870857428571428,1.0954285542857145,1.0790856914285714,1.0566857028571428,1.0577714342857143,1.0741142914285715,1.093314297142857,1.0939428685714283,1.0913142628571428,1.1885143142857142,1.1858857085714285,1.2433142971428572,1.235200022857143,1.3007428857142855,1.2645714457142856,1.279085691428571,1.2437714514285716,1.2899428857142856,1.2816571028571428,1.2692000057142856,1.253199988571429,1.236000017142857,1.1855999771428571,1.1684000057142856,1.1058857085714286,0.9845142457142856,1.0204571542857144,0.9628000285714284,0.9455999771428572,0.8613142628571429,0.8927428342857143,0.8471999714285714,0.8702285314285714,0.8961143257142857,0.9014856857142858,0.95154288,0.9737714514285716,0.97382856,0.9884000057142855,0.9998285771428572,0.9880571657142858,1.0635428285714286,1.0917143028571428,1.0854285542857145,1.1257142857142857,1.1363999714285713,1.1649142914285715,1.1674285885714286,1.21,1.126742817142857,1.08,1.02268572,1.00040004,1.0865713942857145,1.1013714571428572,1.135885708571429,1.130971417142857,1.167028548571429,1.1617143028571428,1.15765712,1.1870857428571429,1.1658285942857145,1.1485143142857142,1.18,1.1579428514285717,1.1928000285714286,1.218628542857143,1.25,1.2441714057142856,1.25040004,1.2971999714285716,1.3497714685714286,1.3509143085714286,1.409028582857143,1.4618286114285712,1.4865143714285716,1.5186286285714288,1.4958857085714288,1.5271428571428571,1.5469142342857145,1.57228568,1.5968000114285714,1.6559999314285714,1.6779999657142857],\"yaxis\":\"y\"}],                        {\"barmode\":\"relative\",\"legend\":{\"tracegroupgap\":0},\"template\":{\"data\":{\"bar\":[{\"error_x\":{\"color\":\"#2a3f5f\"},\"error_y\":{\"color\":\"#2a3f5f\"},\"marker\":{\"line\":{\"color\":\"#E5ECF6\",\"width\":0.5},\"pattern\":{\"fillmode\":\"overlay\",\"size\":10,\"solidity\":0.2}},\"type\":\"bar\"}],\"barpolar\":[{\"marker\":{\"line\":{\"color\":\"#E5ECF6\",\"width\":0.5},\"pattern\":{\"fillmode\":\"overlay\",\"size\":10,\"solidity\":0.2}},\"type\":\"barpolar\"}],\"carpet\":[{\"aaxis\":{\"endlinecolor\":\"#2a3f5f\",\"gridcolor\":\"white\",\"linecolor\":\"white\",\"minorgridcolor\":\"white\",\"startlinecolor\":\"#2a3f5f\"},\"baxis\":{\"endlinecolor\":\"#2a3f5f\",\"gridcolor\":\"white\",\"linecolor\":\"white\",\"minorgridcolor\":\"white\",\"startlinecolor\":\"#2a3f5f\"},\"type\":\"carpet\"}],\"choropleth\":[{\"colorbar\":{\"outlinewidth\":0,\"ticks\":\"\"},\"type\":\"choropleth\"}],\"contour\":[{\"colorbar\":{\"outlinewidth\":0,\"ticks\":\"\"},\"colorscale\":[[0.0,\"#0d0887\"],[0.1111111111111111,\"#46039f\"],[0.2222222222222222,\"#7201a8\"],[0.3333333333333333,\"#9c179e\"],[0.4444444444444444,\"#bd3786\"],[0.5555555555555556,\"#d8576b\"],[0.6666666666666666,\"#ed7953\"],[0.7777777777777778,\"#fb9f3a\"],[0.8888888888888888,\"#fdca26\"],[1.0,\"#f0f921\"]],\"type\":\"contour\"}],\"contourcarpet\":[{\"colorbar\":{\"outlinewidth\":0,\"ticks\":\"\"},\"type\":\"contourcarpet\"}],\"heatmap\":[{\"colorbar\":{\"outlinewidth\":0,\"ticks\":\"\"},\"colorscale\":[[0.0,\"#0d0887\"],[0.1111111111111111,\"#46039f\"],[0.2222222222222222,\"#7201a8\"],[0.3333333333333333,\"#9c179e\"],[0.4444444444444444,\"#bd3786\"],[0.5555555555555556,\"#d8576b\"],[0.6666666666666666,\"#ed7953\"],[0.7777777777777778,\"#fb9f3a\"],[0.8888888888888888,\"#fdca26\"],[1.0,\"#f0f921\"]],\"type\":\"heatmap\"}],\"heatmapgl\":[{\"colorbar\":{\"outlinewidth\":0,\"ticks\":\"\"},\"colorscale\":[[0.0,\"#0d0887\"],[0.1111111111111111,\"#46039f\"],[0.2222222222222222,\"#7201a8\"],[0.3333333333333333,\"#9c179e\"],[0.4444444444444444,\"#bd3786\"],[0.5555555555555556,\"#d8576b\"],[0.6666666666666666,\"#ed7953\"],[0.7777777777777778,\"#fb9f3a\"],[0.8888888888888888,\"#fdca26\"],[1.0,\"#f0f921\"]],\"type\":\"heatmapgl\"}],\"histogram\":[{\"marker\":{\"pattern\":{\"fillmode\":\"overlay\",\"size\":10,\"solidity\":0.2}},\"type\":\"histogram\"}],\"histogram2d\":[{\"colorbar\":{\"outlinewidth\":0,\"ticks\":\"\"},\"colorscale\":[[0.0,\"#0d0887\"],[0.1111111111111111,\"#46039f\"],[0.2222222222222222,\"#7201a8\"],[0.3333333333333333,\"#9c179e\"],[0.4444444444444444,\"#bd3786\"],[0.5555555555555556,\"#d8576b\"],[0.6666666666666666,\"#ed7953\"],[0.7777777777777778,\"#fb9f3a\"],[0.8888888888888888,\"#fdca26\"],[1.0,\"#f0f921\"]],\"type\":\"histogram2d\"}],\"histogram2dcontour\":[{\"colorbar\":{\"outlinewidth\":0,\"ticks\":\"\"},\"colorscale\":[[0.0,\"#0d0887\"],[0.1111111111111111,\"#46039f\"],[0.2222222222222222,\"#7201a8\"],[0.3333333333333333,\"#9c179e\"],[0.4444444444444444,\"#bd3786\"],[0.5555555555555556,\"#d8576b\"],[0.6666666666666666,\"#ed7953\"],[0.7777777777777778,\"#fb9f3a\"],[0.8888888888888888,\"#fdca26\"],[1.0,\"#f0f921\"]],\"type\":\"histogram2dcontour\"}],\"mesh3d\":[{\"colorbar\":{\"outlinewidth\":0,\"ticks\":\"\"},\"type\":\"mesh3d\"}],\"parcoords\":[{\"line\":{\"colorbar\":{\"outlinewidth\":0,\"ticks\":\"\"}},\"type\":\"parcoords\"}],\"pie\":[{\"automargin\":true,\"type\":\"pie\"}],\"scatter\":[{\"marker\":{\"colorbar\":{\"outlinewidth\":0,\"ticks\":\"\"}},\"type\":\"scatter\"}],\"scatter3d\":[{\"line\":{\"colorbar\":{\"outlinewidth\":0,\"ticks\":\"\"}},\"marker\":{\"colorbar\":{\"outlinewidth\":0,\"ticks\":\"\"}},\"type\":\"scatter3d\"}],\"scattercarpet\":[{\"marker\":{\"colorbar\":{\"outlinewidth\":0,\"ticks\":\"\"}},\"type\":\"scattercarpet\"}],\"scattergeo\":[{\"marker\":{\"colorbar\":{\"outlinewidth\":0,\"ticks\":\"\"}},\"type\":\"scattergeo\"}],\"scattergl\":[{\"marker\":{\"colorbar\":{\"outlinewidth\":0,\"ticks\":\"\"}},\"type\":\"scattergl\"}],\"scattermapbox\":[{\"marker\":{\"colorbar\":{\"outlinewidth\":0,\"ticks\":\"\"}},\"type\":\"scattermapbox\"}],\"scatterpolar\":[{\"marker\":{\"colorbar\":{\"outlinewidth\":0,\"ticks\":\"\"}},\"type\":\"scatterpolar\"}],\"scatterpolargl\":[{\"marker\":{\"colorbar\":{\"outlinewidth\":0,\"ticks\":\"\"}},\"type\":\"scatterpolargl\"}],\"scatterternary\":[{\"marker\":{\"colorbar\":{\"outlinewidth\":0,\"ticks\":\"\"}},\"type\":\"scatterternary\"}],\"surface\":[{\"colorbar\":{\"outlinewidth\":0,\"ticks\":\"\"},\"colorscale\":[[0.0,\"#0d0887\"],[0.1111111111111111,\"#46039f\"],[0.2222222222222222,\"#7201a8\"],[0.3333333333333333,\"#9c179e\"],[0.4444444444444444,\"#bd3786\"],[0.5555555555555556,\"#d8576b\"],[0.6666666666666666,\"#ed7953\"],[0.7777777777777778,\"#fb9f3a\"],[0.8888888888888888,\"#fdca26\"],[1.0,\"#f0f921\"]],\"type\":\"surface\"}],\"table\":[{\"cells\":{\"fill\":{\"color\":\"#EBF0F8\"},\"line\":{\"color\":\"white\"}},\"header\":{\"fill\":{\"color\":\"#C8D4E3\"},\"line\":{\"color\":\"white\"}},\"type\":\"table\"}]},\"layout\":{\"annotationdefaults\":{\"arrowcolor\":\"#2a3f5f\",\"arrowhead\":0,\"arrowwidth\":1},\"autotypenumbers\":\"strict\",\"coloraxis\":{\"colorbar\":{\"outlinewidth\":0,\"ticks\":\"\"}},\"colorscale\":{\"diverging\":[[0,\"#8e0152\"],[0.1,\"#c51b7d\"],[0.2,\"#de77ae\"],[0.3,\"#f1b6da\"],[0.4,\"#fde0ef\"],[0.5,\"#f7f7f7\"],[0.6,\"#e6f5d0\"],[0.7,\"#b8e186\"],[0.8,\"#7fbc41\"],[0.9,\"#4d9221\"],[1,\"#276419\"]],\"sequential\":[[0.0,\"#0d0887\"],[0.1111111111111111,\"#46039f\"],[0.2222222222222222,\"#7201a8\"],[0.3333333333333333,\"#9c179e\"],[0.4444444444444444,\"#bd3786\"],[0.5555555555555556,\"#d8576b\"],[0.6666666666666666,\"#ed7953\"],[0.7777777777777778,\"#fb9f3a\"],[0.8888888888888888,\"#fdca26\"],[1.0,\"#f0f921\"]],\"sequentialminus\":[[0.0,\"#0d0887\"],[0.1111111111111111,\"#46039f\"],[0.2222222222222222,\"#7201a8\"],[0.3333333333333333,\"#9c179e\"],[0.4444444444444444,\"#bd3786\"],[0.5555555555555556,\"#d8576b\"],[0.6666666666666666,\"#ed7953\"],[0.7777777777777778,\"#fb9f3a\"],[0.8888888888888888,\"#fdca26\"],[1.0,\"#f0f921\"]]},\"colorway\":[\"#636efa\",\"#EF553B\",\"#00cc96\",\"#ab63fa\",\"#FFA15A\",\"#19d3f3\",\"#FF6692\",\"#B6E880\",\"#FF97FF\",\"#FECB52\"],\"font\":{\"color\":\"#2a3f5f\"},\"geo\":{\"bgcolor\":\"white\",\"lakecolor\":\"white\",\"landcolor\":\"#E5ECF6\",\"showlakes\":true,\"showland\":true,\"subunitcolor\":\"white\"},\"hoverlabel\":{\"align\":\"left\"},\"hovermode\":\"closest\",\"mapbox\":{\"style\":\"light\"},\"paper_bgcolor\":\"white\",\"plot_bgcolor\":\"#E5ECF6\",\"polar\":{\"angularaxis\":{\"gridcolor\":\"white\",\"linecolor\":\"white\",\"ticks\":\"\"},\"bgcolor\":\"#E5ECF6\",\"radialaxis\":{\"gridcolor\":\"white\",\"linecolor\":\"white\",\"ticks\":\"\"}},\"scene\":{\"xaxis\":{\"backgroundcolor\":\"#E5ECF6\",\"gridcolor\":\"white\",\"gridwidth\":2,\"linecolor\":\"white\",\"showbackground\":true,\"ticks\":\"\",\"zerolinecolor\":\"white\"},\"yaxis\":{\"backgroundcolor\":\"#E5ECF6\",\"gridcolor\":\"white\",\"gridwidth\":2,\"linecolor\":\"white\",\"showbackground\":true,\"ticks\":\"\",\"zerolinecolor\":\"white\"},\"zaxis\":{\"backgroundcolor\":\"#E5ECF6\",\"gridcolor\":\"white\",\"gridwidth\":2,\"linecolor\":\"white\",\"showbackground\":true,\"ticks\":\"\",\"zerolinecolor\":\"white\"}},\"shapedefaults\":{\"line\":{\"color\":\"#2a3f5f\"}},\"ternary\":{\"aaxis\":{\"gridcolor\":\"white\",\"linecolor\":\"white\",\"ticks\":\"\"},\"baxis\":{\"gridcolor\":\"white\",\"linecolor\":\"white\",\"ticks\":\"\"},\"bgcolor\":\"#E5ECF6\",\"caxis\":{\"gridcolor\":\"white\",\"linecolor\":\"white\",\"ticks\":\"\"}},\"title\":{\"x\":0.05},\"xaxis\":{\"automargin\":true,\"gridcolor\":\"white\",\"linecolor\":\"white\",\"ticks\":\"\",\"title\":{\"standoff\":15},\"zerolinecolor\":\"white\",\"zerolinewidth\":2},\"yaxis\":{\"automargin\":true,\"gridcolor\":\"white\",\"linecolor\":\"white\",\"ticks\":\"\",\"title\":{\"standoff\":15},\"zerolinecolor\":\"white\",\"zerolinewidth\":2}}},\"title\":{\"text\":\"Bar plot of AAPL & date \"},\"xaxis\":{\"anchor\":\"y\",\"domain\":[0.0,1.0],\"title\":{\"text\":\"date\"}},\"yaxis\":{\"anchor\":\"x\",\"domain\":[0.0,1.0],\"title\":{\"text\":\"AAPL\"}}},                        {\"responsive\": true}                    ).then(function(){\n",
       "                            \n",
       "var gd = document.getElementById('d475a599-5184-4fbb-8884-2ca2221cc847');\n",
       "var x = new MutationObserver(function (mutations, observer) {{\n",
       "        var display = window.getComputedStyle(gd).display;\n",
       "        if (!display || display === 'none') {{\n",
       "            console.log([gd, 'removed!']);\n",
       "            Plotly.purge(gd);\n",
       "            observer.disconnect();\n",
       "        }}\n",
       "}});\n",
       "\n",
       "// Listen for the removal of the full notebook cells\n",
       "var notebookContainer = gd.closest('#notebook-container');\n",
       "if (notebookContainer) {{\n",
       "    x.observe(notebookContainer, {childList: true});\n",
       "}}\n",
       "\n",
       "// Listen for the clearing of the current output cell\n",
       "var outputEl = gd.closest('.output');\n",
       "if (outputEl) {{\n",
       "    x.observe(outputEl, {childList: true});\n",
       "}}\n",
       "\n",
       "                        })                };                });            </script>        </div>"
      ]
     },
     "metadata": {},
     "output_type": "display_data"
    }
   ],
   "source": [
    "px.bar(df3 , x = \"date\" ,\n",
    "       y = \"AAPL\"  ,\n",
    "       title = \"Bar plot of AAPL & date \")"
   ]
  },
  {
   "cell_type": "code",
   "execution_count": 13,
   "id": "a3b315ee",
   "metadata": {},
   "outputs": [
    {
     "data": {
      "application/vnd.plotly.v1+json": {
       "config": {
        "plotlyServerURL": "https://plot.ly"
       },
       "data": [
        {
         "alignmentgroup": "True",
         "hovertemplate": "year=%{x}<br>pop=%{y}<extra></extra>",
         "legendgroup": "",
         "marker": {
          "color": "#636efa",
          "pattern": {
           "shape": ""
          }
         },
         "name": "",
         "offsetgroup": "",
         "orientation": "v",
         "showlegend": false,
         "textposition": "auto",
         "type": "bar",
         "x": [
          1952,
          1957,
          1962,
          1967,
          1972,
          1977,
          1982,
          1987,
          1992,
          1997,
          2002,
          2007
         ],
         "xaxis": "x",
         "y": [
          14785584,
          17010154,
          18985849,
          20819767,
          22284500,
          23796400,
          25201900,
          26549700,
          28523502,
          30305843,
          31902268,
          33390141
         ],
         "yaxis": "y"
        }
       ],
       "layout": {
        "barmode": "relative",
        "legend": {
         "tracegroupgap": 0
        },
        "template": {
         "data": {
          "bar": [
           {
            "error_x": {
             "color": "#2a3f5f"
            },
            "error_y": {
             "color": "#2a3f5f"
            },
            "marker": {
             "line": {
              "color": "#E5ECF6",
              "width": 0.5
             },
             "pattern": {
              "fillmode": "overlay",
              "size": 10,
              "solidity": 0.2
             }
            },
            "type": "bar"
           }
          ],
          "barpolar": [
           {
            "marker": {
             "line": {
              "color": "#E5ECF6",
              "width": 0.5
             },
             "pattern": {
              "fillmode": "overlay",
              "size": 10,
              "solidity": 0.2
             }
            },
            "type": "barpolar"
           }
          ],
          "carpet": [
           {
            "aaxis": {
             "endlinecolor": "#2a3f5f",
             "gridcolor": "white",
             "linecolor": "white",
             "minorgridcolor": "white",
             "startlinecolor": "#2a3f5f"
            },
            "baxis": {
             "endlinecolor": "#2a3f5f",
             "gridcolor": "white",
             "linecolor": "white",
             "minorgridcolor": "white",
             "startlinecolor": "#2a3f5f"
            },
            "type": "carpet"
           }
          ],
          "choropleth": [
           {
            "colorbar": {
             "outlinewidth": 0,
             "ticks": ""
            },
            "type": "choropleth"
           }
          ],
          "contour": [
           {
            "colorbar": {
             "outlinewidth": 0,
             "ticks": ""
            },
            "colorscale": [
             [
              0,
              "#0d0887"
             ],
             [
              0.1111111111111111,
              "#46039f"
             ],
             [
              0.2222222222222222,
              "#7201a8"
             ],
             [
              0.3333333333333333,
              "#9c179e"
             ],
             [
              0.4444444444444444,
              "#bd3786"
             ],
             [
              0.5555555555555556,
              "#d8576b"
             ],
             [
              0.6666666666666666,
              "#ed7953"
             ],
             [
              0.7777777777777778,
              "#fb9f3a"
             ],
             [
              0.8888888888888888,
              "#fdca26"
             ],
             [
              1,
              "#f0f921"
             ]
            ],
            "type": "contour"
           }
          ],
          "contourcarpet": [
           {
            "colorbar": {
             "outlinewidth": 0,
             "ticks": ""
            },
            "type": "contourcarpet"
           }
          ],
          "heatmap": [
           {
            "colorbar": {
             "outlinewidth": 0,
             "ticks": ""
            },
            "colorscale": [
             [
              0,
              "#0d0887"
             ],
             [
              0.1111111111111111,
              "#46039f"
             ],
             [
              0.2222222222222222,
              "#7201a8"
             ],
             [
              0.3333333333333333,
              "#9c179e"
             ],
             [
              0.4444444444444444,
              "#bd3786"
             ],
             [
              0.5555555555555556,
              "#d8576b"
             ],
             [
              0.6666666666666666,
              "#ed7953"
             ],
             [
              0.7777777777777778,
              "#fb9f3a"
             ],
             [
              0.8888888888888888,
              "#fdca26"
             ],
             [
              1,
              "#f0f921"
             ]
            ],
            "type": "heatmap"
           }
          ],
          "heatmapgl": [
           {
            "colorbar": {
             "outlinewidth": 0,
             "ticks": ""
            },
            "colorscale": [
             [
              0,
              "#0d0887"
             ],
             [
              0.1111111111111111,
              "#46039f"
             ],
             [
              0.2222222222222222,
              "#7201a8"
             ],
             [
              0.3333333333333333,
              "#9c179e"
             ],
             [
              0.4444444444444444,
              "#bd3786"
             ],
             [
              0.5555555555555556,
              "#d8576b"
             ],
             [
              0.6666666666666666,
              "#ed7953"
             ],
             [
              0.7777777777777778,
              "#fb9f3a"
             ],
             [
              0.8888888888888888,
              "#fdca26"
             ],
             [
              1,
              "#f0f921"
             ]
            ],
            "type": "heatmapgl"
           }
          ],
          "histogram": [
           {
            "marker": {
             "pattern": {
              "fillmode": "overlay",
              "size": 10,
              "solidity": 0.2
             }
            },
            "type": "histogram"
           }
          ],
          "histogram2d": [
           {
            "colorbar": {
             "outlinewidth": 0,
             "ticks": ""
            },
            "colorscale": [
             [
              0,
              "#0d0887"
             ],
             [
              0.1111111111111111,
              "#46039f"
             ],
             [
              0.2222222222222222,
              "#7201a8"
             ],
             [
              0.3333333333333333,
              "#9c179e"
             ],
             [
              0.4444444444444444,
              "#bd3786"
             ],
             [
              0.5555555555555556,
              "#d8576b"
             ],
             [
              0.6666666666666666,
              "#ed7953"
             ],
             [
              0.7777777777777778,
              "#fb9f3a"
             ],
             [
              0.8888888888888888,
              "#fdca26"
             ],
             [
              1,
              "#f0f921"
             ]
            ],
            "type": "histogram2d"
           }
          ],
          "histogram2dcontour": [
           {
            "colorbar": {
             "outlinewidth": 0,
             "ticks": ""
            },
            "colorscale": [
             [
              0,
              "#0d0887"
             ],
             [
              0.1111111111111111,
              "#46039f"
             ],
             [
              0.2222222222222222,
              "#7201a8"
             ],
             [
              0.3333333333333333,
              "#9c179e"
             ],
             [
              0.4444444444444444,
              "#bd3786"
             ],
             [
              0.5555555555555556,
              "#d8576b"
             ],
             [
              0.6666666666666666,
              "#ed7953"
             ],
             [
              0.7777777777777778,
              "#fb9f3a"
             ],
             [
              0.8888888888888888,
              "#fdca26"
             ],
             [
              1,
              "#f0f921"
             ]
            ],
            "type": "histogram2dcontour"
           }
          ],
          "mesh3d": [
           {
            "colorbar": {
             "outlinewidth": 0,
             "ticks": ""
            },
            "type": "mesh3d"
           }
          ],
          "parcoords": [
           {
            "line": {
             "colorbar": {
              "outlinewidth": 0,
              "ticks": ""
             }
            },
            "type": "parcoords"
           }
          ],
          "pie": [
           {
            "automargin": true,
            "type": "pie"
           }
          ],
          "scatter": [
           {
            "marker": {
             "colorbar": {
              "outlinewidth": 0,
              "ticks": ""
             }
            },
            "type": "scatter"
           }
          ],
          "scatter3d": [
           {
            "line": {
             "colorbar": {
              "outlinewidth": 0,
              "ticks": ""
             }
            },
            "marker": {
             "colorbar": {
              "outlinewidth": 0,
              "ticks": ""
             }
            },
            "type": "scatter3d"
           }
          ],
          "scattercarpet": [
           {
            "marker": {
             "colorbar": {
              "outlinewidth": 0,
              "ticks": ""
             }
            },
            "type": "scattercarpet"
           }
          ],
          "scattergeo": [
           {
            "marker": {
             "colorbar": {
              "outlinewidth": 0,
              "ticks": ""
             }
            },
            "type": "scattergeo"
           }
          ],
          "scattergl": [
           {
            "marker": {
             "colorbar": {
              "outlinewidth": 0,
              "ticks": ""
             }
            },
            "type": "scattergl"
           }
          ],
          "scattermapbox": [
           {
            "marker": {
             "colorbar": {
              "outlinewidth": 0,
              "ticks": ""
             }
            },
            "type": "scattermapbox"
           }
          ],
          "scatterpolar": [
           {
            "marker": {
             "colorbar": {
              "outlinewidth": 0,
              "ticks": ""
             }
            },
            "type": "scatterpolar"
           }
          ],
          "scatterpolargl": [
           {
            "marker": {
             "colorbar": {
              "outlinewidth": 0,
              "ticks": ""
             }
            },
            "type": "scatterpolargl"
           }
          ],
          "scatterternary": [
           {
            "marker": {
             "colorbar": {
              "outlinewidth": 0,
              "ticks": ""
             }
            },
            "type": "scatterternary"
           }
          ],
          "surface": [
           {
            "colorbar": {
             "outlinewidth": 0,
             "ticks": ""
            },
            "colorscale": [
             [
              0,
              "#0d0887"
             ],
             [
              0.1111111111111111,
              "#46039f"
             ],
             [
              0.2222222222222222,
              "#7201a8"
             ],
             [
              0.3333333333333333,
              "#9c179e"
             ],
             [
              0.4444444444444444,
              "#bd3786"
             ],
             [
              0.5555555555555556,
              "#d8576b"
             ],
             [
              0.6666666666666666,
              "#ed7953"
             ],
             [
              0.7777777777777778,
              "#fb9f3a"
             ],
             [
              0.8888888888888888,
              "#fdca26"
             ],
             [
              1,
              "#f0f921"
             ]
            ],
            "type": "surface"
           }
          ],
          "table": [
           {
            "cells": {
             "fill": {
              "color": "#EBF0F8"
             },
             "line": {
              "color": "white"
             }
            },
            "header": {
             "fill": {
              "color": "#C8D4E3"
             },
             "line": {
              "color": "white"
             }
            },
            "type": "table"
           }
          ]
         },
         "layout": {
          "annotationdefaults": {
           "arrowcolor": "#2a3f5f",
           "arrowhead": 0,
           "arrowwidth": 1
          },
          "autotypenumbers": "strict",
          "coloraxis": {
           "colorbar": {
            "outlinewidth": 0,
            "ticks": ""
           }
          },
          "colorscale": {
           "diverging": [
            [
             0,
             "#8e0152"
            ],
            [
             0.1,
             "#c51b7d"
            ],
            [
             0.2,
             "#de77ae"
            ],
            [
             0.3,
             "#f1b6da"
            ],
            [
             0.4,
             "#fde0ef"
            ],
            [
             0.5,
             "#f7f7f7"
            ],
            [
             0.6,
             "#e6f5d0"
            ],
            [
             0.7,
             "#b8e186"
            ],
            [
             0.8,
             "#7fbc41"
            ],
            [
             0.9,
             "#4d9221"
            ],
            [
             1,
             "#276419"
            ]
           ],
           "sequential": [
            [
             0,
             "#0d0887"
            ],
            [
             0.1111111111111111,
             "#46039f"
            ],
            [
             0.2222222222222222,
             "#7201a8"
            ],
            [
             0.3333333333333333,
             "#9c179e"
            ],
            [
             0.4444444444444444,
             "#bd3786"
            ],
            [
             0.5555555555555556,
             "#d8576b"
            ],
            [
             0.6666666666666666,
             "#ed7953"
            ],
            [
             0.7777777777777778,
             "#fb9f3a"
            ],
            [
             0.8888888888888888,
             "#fdca26"
            ],
            [
             1,
             "#f0f921"
            ]
           ],
           "sequentialminus": [
            [
             0,
             "#0d0887"
            ],
            [
             0.1111111111111111,
             "#46039f"
            ],
            [
             0.2222222222222222,
             "#7201a8"
            ],
            [
             0.3333333333333333,
             "#9c179e"
            ],
            [
             0.4444444444444444,
             "#bd3786"
            ],
            [
             0.5555555555555556,
             "#d8576b"
            ],
            [
             0.6666666666666666,
             "#ed7953"
            ],
            [
             0.7777777777777778,
             "#fb9f3a"
            ],
            [
             0.8888888888888888,
             "#fdca26"
            ],
            [
             1,
             "#f0f921"
            ]
           ]
          },
          "colorway": [
           "#636efa",
           "#EF553B",
           "#00cc96",
           "#ab63fa",
           "#FFA15A",
           "#19d3f3",
           "#FF6692",
           "#B6E880",
           "#FF97FF",
           "#FECB52"
          ],
          "font": {
           "color": "#2a3f5f"
          },
          "geo": {
           "bgcolor": "white",
           "lakecolor": "white",
           "landcolor": "#E5ECF6",
           "showlakes": true,
           "showland": true,
           "subunitcolor": "white"
          },
          "hoverlabel": {
           "align": "left"
          },
          "hovermode": "closest",
          "mapbox": {
           "style": "light"
          },
          "paper_bgcolor": "white",
          "plot_bgcolor": "#E5ECF6",
          "polar": {
           "angularaxis": {
            "gridcolor": "white",
            "linecolor": "white",
            "ticks": ""
           },
           "bgcolor": "#E5ECF6",
           "radialaxis": {
            "gridcolor": "white",
            "linecolor": "white",
            "ticks": ""
           }
          },
          "scene": {
           "xaxis": {
            "backgroundcolor": "#E5ECF6",
            "gridcolor": "white",
            "gridwidth": 2,
            "linecolor": "white",
            "showbackground": true,
            "ticks": "",
            "zerolinecolor": "white"
           },
           "yaxis": {
            "backgroundcolor": "#E5ECF6",
            "gridcolor": "white",
            "gridwidth": 2,
            "linecolor": "white",
            "showbackground": true,
            "ticks": "",
            "zerolinecolor": "white"
           },
           "zaxis": {
            "backgroundcolor": "#E5ECF6",
            "gridcolor": "white",
            "gridwidth": 2,
            "linecolor": "white",
            "showbackground": true,
            "ticks": "",
            "zerolinecolor": "white"
           }
          },
          "shapedefaults": {
           "line": {
            "color": "#2a3f5f"
           }
          },
          "ternary": {
           "aaxis": {
            "gridcolor": "white",
            "linecolor": "white",
            "ticks": ""
           },
           "baxis": {
            "gridcolor": "white",
            "linecolor": "white",
            "ticks": ""
           },
           "bgcolor": "#E5ECF6",
           "caxis": {
            "gridcolor": "white",
            "linecolor": "white",
            "ticks": ""
           }
          },
          "title": {
           "x": 0.05
          },
          "xaxis": {
           "automargin": true,
           "gridcolor": "white",
           "linecolor": "white",
           "ticks": "",
           "title": {
            "standoff": 15
           },
           "zerolinecolor": "white",
           "zerolinewidth": 2
          },
          "yaxis": {
           "automargin": true,
           "gridcolor": "white",
           "linecolor": "white",
           "ticks": "",
           "title": {
            "standoff": 15
           },
           "zerolinecolor": "white",
           "zerolinewidth": 2
          }
         }
        },
        "title": {
         "text": "Bar plot of year & pop Based on iso_alpha"
        },
        "xaxis": {
         "anchor": "y",
         "domain": [
          0,
          1
         ],
         "title": {
          "text": "year"
         }
        },
        "yaxis": {
         "anchor": "x",
         "domain": [
          0,
          1
         ],
         "title": {
          "text": "pop"
         }
        }
       }
      },
      "text/html": [
       "<div>                            <div id=\"c584e2e0-4395-4feb-a874-e026a6e98e0a\" class=\"plotly-graph-div\" style=\"height:525px; width:100%;\"></div>            <script type=\"text/javascript\">                require([\"plotly\"], function(Plotly) {                    window.PLOTLYENV=window.PLOTLYENV || {};                                    if (document.getElementById(\"c584e2e0-4395-4feb-a874-e026a6e98e0a\")) {                    Plotly.newPlot(                        \"c584e2e0-4395-4feb-a874-e026a6e98e0a\",                        [{\"alignmentgroup\":\"True\",\"hovertemplate\":\"year=%{x}<br>pop=%{y}<extra></extra>\",\"legendgroup\":\"\",\"marker\":{\"color\":\"#636efa\",\"pattern\":{\"shape\":\"\"}},\"name\":\"\",\"offsetgroup\":\"\",\"orientation\":\"v\",\"showlegend\":false,\"textposition\":\"auto\",\"type\":\"bar\",\"x\":[1952,1957,1962,1967,1972,1977,1982,1987,1992,1997,2002,2007],\"xaxis\":\"x\",\"y\":[14785584,17010154,18985849,20819767,22284500,23796400,25201900,26549700,28523502,30305843,31902268,33390141],\"yaxis\":\"y\"}],                        {\"barmode\":\"relative\",\"legend\":{\"tracegroupgap\":0},\"template\":{\"data\":{\"bar\":[{\"error_x\":{\"color\":\"#2a3f5f\"},\"error_y\":{\"color\":\"#2a3f5f\"},\"marker\":{\"line\":{\"color\":\"#E5ECF6\",\"width\":0.5},\"pattern\":{\"fillmode\":\"overlay\",\"size\":10,\"solidity\":0.2}},\"type\":\"bar\"}],\"barpolar\":[{\"marker\":{\"line\":{\"color\":\"#E5ECF6\",\"width\":0.5},\"pattern\":{\"fillmode\":\"overlay\",\"size\":10,\"solidity\":0.2}},\"type\":\"barpolar\"}],\"carpet\":[{\"aaxis\":{\"endlinecolor\":\"#2a3f5f\",\"gridcolor\":\"white\",\"linecolor\":\"white\",\"minorgridcolor\":\"white\",\"startlinecolor\":\"#2a3f5f\"},\"baxis\":{\"endlinecolor\":\"#2a3f5f\",\"gridcolor\":\"white\",\"linecolor\":\"white\",\"minorgridcolor\":\"white\",\"startlinecolor\":\"#2a3f5f\"},\"type\":\"carpet\"}],\"choropleth\":[{\"colorbar\":{\"outlinewidth\":0,\"ticks\":\"\"},\"type\":\"choropleth\"}],\"contour\":[{\"colorbar\":{\"outlinewidth\":0,\"ticks\":\"\"},\"colorscale\":[[0.0,\"#0d0887\"],[0.1111111111111111,\"#46039f\"],[0.2222222222222222,\"#7201a8\"],[0.3333333333333333,\"#9c179e\"],[0.4444444444444444,\"#bd3786\"],[0.5555555555555556,\"#d8576b\"],[0.6666666666666666,\"#ed7953\"],[0.7777777777777778,\"#fb9f3a\"],[0.8888888888888888,\"#fdca26\"],[1.0,\"#f0f921\"]],\"type\":\"contour\"}],\"contourcarpet\":[{\"colorbar\":{\"outlinewidth\":0,\"ticks\":\"\"},\"type\":\"contourcarpet\"}],\"heatmap\":[{\"colorbar\":{\"outlinewidth\":0,\"ticks\":\"\"},\"colorscale\":[[0.0,\"#0d0887\"],[0.1111111111111111,\"#46039f\"],[0.2222222222222222,\"#7201a8\"],[0.3333333333333333,\"#9c179e\"],[0.4444444444444444,\"#bd3786\"],[0.5555555555555556,\"#d8576b\"],[0.6666666666666666,\"#ed7953\"],[0.7777777777777778,\"#fb9f3a\"],[0.8888888888888888,\"#fdca26\"],[1.0,\"#f0f921\"]],\"type\":\"heatmap\"}],\"heatmapgl\":[{\"colorbar\":{\"outlinewidth\":0,\"ticks\":\"\"},\"colorscale\":[[0.0,\"#0d0887\"],[0.1111111111111111,\"#46039f\"],[0.2222222222222222,\"#7201a8\"],[0.3333333333333333,\"#9c179e\"],[0.4444444444444444,\"#bd3786\"],[0.5555555555555556,\"#d8576b\"],[0.6666666666666666,\"#ed7953\"],[0.7777777777777778,\"#fb9f3a\"],[0.8888888888888888,\"#fdca26\"],[1.0,\"#f0f921\"]],\"type\":\"heatmapgl\"}],\"histogram\":[{\"marker\":{\"pattern\":{\"fillmode\":\"overlay\",\"size\":10,\"solidity\":0.2}},\"type\":\"histogram\"}],\"histogram2d\":[{\"colorbar\":{\"outlinewidth\":0,\"ticks\":\"\"},\"colorscale\":[[0.0,\"#0d0887\"],[0.1111111111111111,\"#46039f\"],[0.2222222222222222,\"#7201a8\"],[0.3333333333333333,\"#9c179e\"],[0.4444444444444444,\"#bd3786\"],[0.5555555555555556,\"#d8576b\"],[0.6666666666666666,\"#ed7953\"],[0.7777777777777778,\"#fb9f3a\"],[0.8888888888888888,\"#fdca26\"],[1.0,\"#f0f921\"]],\"type\":\"histogram2d\"}],\"histogram2dcontour\":[{\"colorbar\":{\"outlinewidth\":0,\"ticks\":\"\"},\"colorscale\":[[0.0,\"#0d0887\"],[0.1111111111111111,\"#46039f\"],[0.2222222222222222,\"#7201a8\"],[0.3333333333333333,\"#9c179e\"],[0.4444444444444444,\"#bd3786\"],[0.5555555555555556,\"#d8576b\"],[0.6666666666666666,\"#ed7953\"],[0.7777777777777778,\"#fb9f3a\"],[0.8888888888888888,\"#fdca26\"],[1.0,\"#f0f921\"]],\"type\":\"histogram2dcontour\"}],\"mesh3d\":[{\"colorbar\":{\"outlinewidth\":0,\"ticks\":\"\"},\"type\":\"mesh3d\"}],\"parcoords\":[{\"line\":{\"colorbar\":{\"outlinewidth\":0,\"ticks\":\"\"}},\"type\":\"parcoords\"}],\"pie\":[{\"automargin\":true,\"type\":\"pie\"}],\"scatter\":[{\"marker\":{\"colorbar\":{\"outlinewidth\":0,\"ticks\":\"\"}},\"type\":\"scatter\"}],\"scatter3d\":[{\"line\":{\"colorbar\":{\"outlinewidth\":0,\"ticks\":\"\"}},\"marker\":{\"colorbar\":{\"outlinewidth\":0,\"ticks\":\"\"}},\"type\":\"scatter3d\"}],\"scattercarpet\":[{\"marker\":{\"colorbar\":{\"outlinewidth\":0,\"ticks\":\"\"}},\"type\":\"scattercarpet\"}],\"scattergeo\":[{\"marker\":{\"colorbar\":{\"outlinewidth\":0,\"ticks\":\"\"}},\"type\":\"scattergeo\"}],\"scattergl\":[{\"marker\":{\"colorbar\":{\"outlinewidth\":0,\"ticks\":\"\"}},\"type\":\"scattergl\"}],\"scattermapbox\":[{\"marker\":{\"colorbar\":{\"outlinewidth\":0,\"ticks\":\"\"}},\"type\":\"scattermapbox\"}],\"scatterpolar\":[{\"marker\":{\"colorbar\":{\"outlinewidth\":0,\"ticks\":\"\"}},\"type\":\"scatterpolar\"}],\"scatterpolargl\":[{\"marker\":{\"colorbar\":{\"outlinewidth\":0,\"ticks\":\"\"}},\"type\":\"scatterpolargl\"}],\"scatterternary\":[{\"marker\":{\"colorbar\":{\"outlinewidth\":0,\"ticks\":\"\"}},\"type\":\"scatterternary\"}],\"surface\":[{\"colorbar\":{\"outlinewidth\":0,\"ticks\":\"\"},\"colorscale\":[[0.0,\"#0d0887\"],[0.1111111111111111,\"#46039f\"],[0.2222222222222222,\"#7201a8\"],[0.3333333333333333,\"#9c179e\"],[0.4444444444444444,\"#bd3786\"],[0.5555555555555556,\"#d8576b\"],[0.6666666666666666,\"#ed7953\"],[0.7777777777777778,\"#fb9f3a\"],[0.8888888888888888,\"#fdca26\"],[1.0,\"#f0f921\"]],\"type\":\"surface\"}],\"table\":[{\"cells\":{\"fill\":{\"color\":\"#EBF0F8\"},\"line\":{\"color\":\"white\"}},\"header\":{\"fill\":{\"color\":\"#C8D4E3\"},\"line\":{\"color\":\"white\"}},\"type\":\"table\"}]},\"layout\":{\"annotationdefaults\":{\"arrowcolor\":\"#2a3f5f\",\"arrowhead\":0,\"arrowwidth\":1},\"autotypenumbers\":\"strict\",\"coloraxis\":{\"colorbar\":{\"outlinewidth\":0,\"ticks\":\"\"}},\"colorscale\":{\"diverging\":[[0,\"#8e0152\"],[0.1,\"#c51b7d\"],[0.2,\"#de77ae\"],[0.3,\"#f1b6da\"],[0.4,\"#fde0ef\"],[0.5,\"#f7f7f7\"],[0.6,\"#e6f5d0\"],[0.7,\"#b8e186\"],[0.8,\"#7fbc41\"],[0.9,\"#4d9221\"],[1,\"#276419\"]],\"sequential\":[[0.0,\"#0d0887\"],[0.1111111111111111,\"#46039f\"],[0.2222222222222222,\"#7201a8\"],[0.3333333333333333,\"#9c179e\"],[0.4444444444444444,\"#bd3786\"],[0.5555555555555556,\"#d8576b\"],[0.6666666666666666,\"#ed7953\"],[0.7777777777777778,\"#fb9f3a\"],[0.8888888888888888,\"#fdca26\"],[1.0,\"#f0f921\"]],\"sequentialminus\":[[0.0,\"#0d0887\"],[0.1111111111111111,\"#46039f\"],[0.2222222222222222,\"#7201a8\"],[0.3333333333333333,\"#9c179e\"],[0.4444444444444444,\"#bd3786\"],[0.5555555555555556,\"#d8576b\"],[0.6666666666666666,\"#ed7953\"],[0.7777777777777778,\"#fb9f3a\"],[0.8888888888888888,\"#fdca26\"],[1.0,\"#f0f921\"]]},\"colorway\":[\"#636efa\",\"#EF553B\",\"#00cc96\",\"#ab63fa\",\"#FFA15A\",\"#19d3f3\",\"#FF6692\",\"#B6E880\",\"#FF97FF\",\"#FECB52\"],\"font\":{\"color\":\"#2a3f5f\"},\"geo\":{\"bgcolor\":\"white\",\"lakecolor\":\"white\",\"landcolor\":\"#E5ECF6\",\"showlakes\":true,\"showland\":true,\"subunitcolor\":\"white\"},\"hoverlabel\":{\"align\":\"left\"},\"hovermode\":\"closest\",\"mapbox\":{\"style\":\"light\"},\"paper_bgcolor\":\"white\",\"plot_bgcolor\":\"#E5ECF6\",\"polar\":{\"angularaxis\":{\"gridcolor\":\"white\",\"linecolor\":\"white\",\"ticks\":\"\"},\"bgcolor\":\"#E5ECF6\",\"radialaxis\":{\"gridcolor\":\"white\",\"linecolor\":\"white\",\"ticks\":\"\"}},\"scene\":{\"xaxis\":{\"backgroundcolor\":\"#E5ECF6\",\"gridcolor\":\"white\",\"gridwidth\":2,\"linecolor\":\"white\",\"showbackground\":true,\"ticks\":\"\",\"zerolinecolor\":\"white\"},\"yaxis\":{\"backgroundcolor\":\"#E5ECF6\",\"gridcolor\":\"white\",\"gridwidth\":2,\"linecolor\":\"white\",\"showbackground\":true,\"ticks\":\"\",\"zerolinecolor\":\"white\"},\"zaxis\":{\"backgroundcolor\":\"#E5ECF6\",\"gridcolor\":\"white\",\"gridwidth\":2,\"linecolor\":\"white\",\"showbackground\":true,\"ticks\":\"\",\"zerolinecolor\":\"white\"}},\"shapedefaults\":{\"line\":{\"color\":\"#2a3f5f\"}},\"ternary\":{\"aaxis\":{\"gridcolor\":\"white\",\"linecolor\":\"white\",\"ticks\":\"\"},\"baxis\":{\"gridcolor\":\"white\",\"linecolor\":\"white\",\"ticks\":\"\"},\"bgcolor\":\"#E5ECF6\",\"caxis\":{\"gridcolor\":\"white\",\"linecolor\":\"white\",\"ticks\":\"\"}},\"title\":{\"x\":0.05},\"xaxis\":{\"automargin\":true,\"gridcolor\":\"white\",\"linecolor\":\"white\",\"ticks\":\"\",\"title\":{\"standoff\":15},\"zerolinecolor\":\"white\",\"zerolinewidth\":2},\"yaxis\":{\"automargin\":true,\"gridcolor\":\"white\",\"linecolor\":\"white\",\"ticks\":\"\",\"title\":{\"standoff\":15},\"zerolinecolor\":\"white\",\"zerolinewidth\":2}}},\"title\":{\"text\":\"Bar plot of year & pop Based on iso_alpha\"},\"xaxis\":{\"anchor\":\"y\",\"domain\":[0.0,1.0],\"title\":{\"text\":\"year\"}},\"yaxis\":{\"anchor\":\"x\",\"domain\":[0.0,1.0],\"title\":{\"text\":\"pop\"}}},                        {\"responsive\": true}                    ).then(function(){\n",
       "                            \n",
       "var gd = document.getElementById('c584e2e0-4395-4feb-a874-e026a6e98e0a');\n",
       "var x = new MutationObserver(function (mutations, observer) {{\n",
       "        var display = window.getComputedStyle(gd).display;\n",
       "        if (!display || display === 'none') {{\n",
       "            console.log([gd, 'removed!']);\n",
       "            Plotly.purge(gd);\n",
       "            observer.disconnect();\n",
       "        }}\n",
       "}});\n",
       "\n",
       "// Listen for the removal of the full notebook cells\n",
       "var notebookContainer = gd.closest('#notebook-container');\n",
       "if (notebookContainer) {{\n",
       "    x.observe(notebookContainer, {childList: true});\n",
       "}}\n",
       "\n",
       "// Listen for the clearing of the current output cell\n",
       "var outputEl = gd.closest('.output');\n",
       "if (outputEl) {{\n",
       "    x.observe(outputEl, {childList: true});\n",
       "}}\n",
       "\n",
       "                        })                };                });            </script>        </div>"
      ]
     },
     "metadata": {},
     "output_type": "display_data"
    }
   ],
   "source": [
    "canda_data = df4[df4.country  == \"Canada\"]\n",
    "px.bar(canda_data ,\n",
    "       x = \"year\" ,\n",
    "       y = \"pop\"  ,\n",
    "       title = \"Bar plot of year & pop Based on iso_alpha\")\n",
    "\n"
   ]
  },
  {
   "cell_type": "code",
   "execution_count": 14,
   "id": "bb93a47d",
   "metadata": {},
   "outputs": [
    {
     "data": {
      "application/vnd.plotly.v1+json": {
       "config": {
        "plotlyServerURL": "https://plot.ly"
       },
       "data": [
        {
         "alignmentgroup": "True",
         "hovertemplate": "continent=Asia<br>country=%{x}<br>pop=%{y}<extra></extra>",
         "legendgroup": "Asia",
         "marker": {
          "color": "#636efa",
          "pattern": {
           "shape": ""
          }
         },
         "name": "Asia",
         "offsetgroup": "Asia",
         "orientation": "v",
         "showlegend": true,
         "textposition": "auto",
         "type": "bar",
         "x": [
          "Afghanistan",
          "Afghanistan",
          "Afghanistan",
          "Afghanistan",
          "Afghanistan",
          "Afghanistan",
          "Afghanistan",
          "Afghanistan",
          "Afghanistan",
          "Afghanistan",
          "Afghanistan",
          "Afghanistan",
          "Bahrain",
          "Bahrain",
          "Bahrain",
          "Bahrain",
          "Bahrain",
          "Bahrain",
          "Bahrain",
          "Bahrain",
          "Bahrain",
          "Bahrain",
          "Bahrain",
          "Bahrain",
          "Bangladesh",
          "Bangladesh",
          "Bangladesh",
          "Bangladesh",
          "Bangladesh",
          "Bangladesh",
          "Bangladesh",
          "Bangladesh",
          "Bangladesh",
          "Bangladesh",
          "Bangladesh",
          "Bangladesh",
          "Cambodia",
          "Cambodia",
          "Cambodia",
          "Cambodia",
          "Cambodia",
          "Cambodia",
          "Cambodia",
          "Cambodia",
          "Cambodia",
          "Cambodia",
          "Cambodia",
          "Cambodia",
          "China",
          "China",
          "China",
          "China",
          "China",
          "China",
          "China",
          "China",
          "China",
          "China",
          "China",
          "China",
          "Hong Kong, China",
          "Hong Kong, China",
          "Hong Kong, China",
          "Hong Kong, China",
          "Hong Kong, China",
          "Hong Kong, China",
          "Hong Kong, China",
          "Hong Kong, China",
          "Hong Kong, China",
          "Hong Kong, China",
          "Hong Kong, China",
          "Hong Kong, China",
          "India",
          "India",
          "India",
          "India",
          "India",
          "India",
          "India",
          "India",
          "India",
          "India",
          "India",
          "India",
          "Indonesia",
          "Indonesia",
          "Indonesia",
          "Indonesia",
          "Indonesia",
          "Indonesia",
          "Indonesia",
          "Indonesia",
          "Indonesia",
          "Indonesia",
          "Indonesia",
          "Indonesia",
          "Iran",
          "Iran",
          "Iran",
          "Iran",
          "Iran",
          "Iran",
          "Iran",
          "Iran",
          "Iran",
          "Iran",
          "Iran",
          "Iran",
          "Iraq",
          "Iraq",
          "Iraq",
          "Iraq",
          "Iraq",
          "Iraq",
          "Iraq",
          "Iraq",
          "Iraq",
          "Iraq",
          "Iraq",
          "Iraq",
          "Israel",
          "Israel",
          "Israel",
          "Israel",
          "Israel",
          "Israel",
          "Israel",
          "Israel",
          "Israel",
          "Israel",
          "Israel",
          "Israel",
          "Japan",
          "Japan",
          "Japan",
          "Japan",
          "Japan",
          "Japan",
          "Japan",
          "Japan",
          "Japan",
          "Japan",
          "Japan",
          "Japan",
          "Jordan",
          "Jordan",
          "Jordan",
          "Jordan",
          "Jordan",
          "Jordan",
          "Jordan",
          "Jordan",
          "Jordan",
          "Jordan",
          "Jordan",
          "Jordan",
          "Korea, Dem. Rep.",
          "Korea, Dem. Rep.",
          "Korea, Dem. Rep.",
          "Korea, Dem. Rep.",
          "Korea, Dem. Rep.",
          "Korea, Dem. Rep.",
          "Korea, Dem. Rep.",
          "Korea, Dem. Rep.",
          "Korea, Dem. Rep.",
          "Korea, Dem. Rep.",
          "Korea, Dem. Rep.",
          "Korea, Dem. Rep.",
          "Korea, Rep.",
          "Korea, Rep.",
          "Korea, Rep.",
          "Korea, Rep.",
          "Korea, Rep.",
          "Korea, Rep.",
          "Korea, Rep.",
          "Korea, Rep.",
          "Korea, Rep.",
          "Korea, Rep.",
          "Korea, Rep.",
          "Korea, Rep.",
          "Kuwait",
          "Kuwait",
          "Kuwait",
          "Kuwait",
          "Kuwait",
          "Kuwait",
          "Kuwait",
          "Kuwait",
          "Kuwait",
          "Kuwait",
          "Kuwait",
          "Kuwait",
          "Lebanon",
          "Lebanon",
          "Lebanon",
          "Lebanon",
          "Lebanon",
          "Lebanon",
          "Lebanon",
          "Lebanon",
          "Lebanon",
          "Lebanon",
          "Lebanon",
          "Lebanon",
          "Malaysia",
          "Malaysia",
          "Malaysia",
          "Malaysia",
          "Malaysia",
          "Malaysia",
          "Malaysia",
          "Malaysia",
          "Malaysia",
          "Malaysia",
          "Malaysia",
          "Malaysia",
          "Mongolia",
          "Mongolia",
          "Mongolia",
          "Mongolia",
          "Mongolia",
          "Mongolia",
          "Mongolia",
          "Mongolia",
          "Mongolia",
          "Mongolia",
          "Mongolia",
          "Mongolia",
          "Myanmar",
          "Myanmar",
          "Myanmar",
          "Myanmar",
          "Myanmar",
          "Myanmar",
          "Myanmar",
          "Myanmar",
          "Myanmar",
          "Myanmar",
          "Myanmar",
          "Myanmar",
          "Nepal",
          "Nepal",
          "Nepal",
          "Nepal",
          "Nepal",
          "Nepal",
          "Nepal",
          "Nepal",
          "Nepal",
          "Nepal",
          "Nepal",
          "Nepal",
          "Oman",
          "Oman",
          "Oman",
          "Oman",
          "Oman",
          "Oman",
          "Oman",
          "Oman",
          "Oman",
          "Oman",
          "Oman",
          "Oman",
          "Pakistan",
          "Pakistan",
          "Pakistan",
          "Pakistan",
          "Pakistan",
          "Pakistan",
          "Pakistan",
          "Pakistan",
          "Pakistan",
          "Pakistan",
          "Pakistan",
          "Pakistan",
          "Philippines",
          "Philippines",
          "Philippines",
          "Philippines",
          "Philippines",
          "Philippines",
          "Philippines",
          "Philippines",
          "Philippines",
          "Philippines",
          "Philippines",
          "Philippines",
          "Saudi Arabia",
          "Saudi Arabia",
          "Saudi Arabia",
          "Saudi Arabia",
          "Saudi Arabia",
          "Saudi Arabia",
          "Saudi Arabia",
          "Saudi Arabia",
          "Saudi Arabia",
          "Saudi Arabia",
          "Saudi Arabia",
          "Saudi Arabia",
          "Singapore",
          "Singapore",
          "Singapore",
          "Singapore",
          "Singapore",
          "Singapore",
          "Singapore",
          "Singapore",
          "Singapore",
          "Singapore",
          "Singapore",
          "Singapore",
          "Sri Lanka",
          "Sri Lanka",
          "Sri Lanka",
          "Sri Lanka",
          "Sri Lanka",
          "Sri Lanka",
          "Sri Lanka",
          "Sri Lanka",
          "Sri Lanka",
          "Sri Lanka",
          "Sri Lanka",
          "Sri Lanka",
          "Syria",
          "Syria",
          "Syria",
          "Syria",
          "Syria",
          "Syria",
          "Syria",
          "Syria",
          "Syria",
          "Syria",
          "Syria",
          "Syria",
          "Taiwan",
          "Taiwan",
          "Taiwan",
          "Taiwan",
          "Taiwan",
          "Taiwan",
          "Taiwan",
          "Taiwan",
          "Taiwan",
          "Taiwan",
          "Taiwan",
          "Taiwan",
          "Thailand",
          "Thailand",
          "Thailand",
          "Thailand",
          "Thailand",
          "Thailand",
          "Thailand",
          "Thailand",
          "Thailand",
          "Thailand",
          "Thailand",
          "Thailand",
          "Vietnam",
          "Vietnam",
          "Vietnam",
          "Vietnam",
          "Vietnam",
          "Vietnam",
          "Vietnam",
          "Vietnam",
          "Vietnam",
          "Vietnam",
          "Vietnam",
          "Vietnam",
          "West Bank and Gaza",
          "West Bank and Gaza",
          "West Bank and Gaza",
          "West Bank and Gaza",
          "West Bank and Gaza",
          "West Bank and Gaza",
          "West Bank and Gaza",
          "West Bank and Gaza",
          "West Bank and Gaza",
          "West Bank and Gaza",
          "West Bank and Gaza",
          "West Bank and Gaza",
          "Yemen, Rep.",
          "Yemen, Rep.",
          "Yemen, Rep.",
          "Yemen, Rep.",
          "Yemen, Rep.",
          "Yemen, Rep.",
          "Yemen, Rep.",
          "Yemen, Rep.",
          "Yemen, Rep.",
          "Yemen, Rep.",
          "Yemen, Rep.",
          "Yemen, Rep."
         ],
         "xaxis": "x",
         "y": [
          8425333,
          9240934,
          10267083,
          11537966,
          13079460,
          14880372,
          12881816,
          13867957,
          16317921,
          22227415,
          25268405,
          31889923,
          120447,
          138655,
          171863,
          202182,
          230800,
          297410,
          377967,
          454612,
          529491,
          598561,
          656397,
          708573,
          46886859,
          51365468,
          56839289,
          62821884,
          70759295,
          80428306,
          93074406,
          103764241,
          113704579,
          123315288,
          135656790,
          150448339,
          4693836,
          5322536,
          6083619,
          6960067,
          7450606,
          6978607,
          7272485,
          8371791,
          10150094,
          11782962,
          12926707,
          14131858,
          556263527,
          637408000,
          665770000,
          754550000,
          862030000,
          943455000,
          1000281000,
          1084035000,
          1164970000,
          1230075000,
          1280400000,
          1318683096,
          2125900,
          2736300,
          3305200,
          3722800,
          4115700,
          4583700,
          5264500,
          5584510,
          5829696,
          6495918,
          6762476,
          6980412,
          372000000,
          409000000,
          454000000,
          506000000,
          567000000,
          634000000,
          708000000,
          788000000,
          872000000,
          959000000,
          1034172547,
          1110396331,
          82052000,
          90124000,
          99028000,
          109343000,
          121282000,
          136725000,
          153343000,
          169276000,
          184816000,
          199278000,
          211060000,
          223547000,
          17272000,
          19792000,
          22874000,
          26538000,
          30614000,
          35480679,
          43072751,
          51889696,
          60397973,
          63327987,
          66907826,
          69453570,
          5441766,
          6248643,
          7240260,
          8519282,
          10061506,
          11882916,
          14173318,
          16543189,
          17861905,
          20775703,
          24001816,
          27499638,
          1620914,
          1944401,
          2310904,
          2693585,
          3095893,
          3495918,
          3858421,
          4203148,
          4936550,
          5531387,
          6029529,
          6426679,
          86459025,
          91563009,
          95831757,
          100825279,
          107188273,
          113872473,
          118454974,
          122091325,
          124329269,
          125956499,
          127065841,
          127467972,
          607914,
          746559,
          933559,
          1255058,
          1613551,
          1937652,
          2347031,
          2820042,
          3867409,
          4526235,
          5307470,
          6053193,
          8865488,
          9411381,
          10917494,
          12617009,
          14781241,
          16325320,
          17647518,
          19067554,
          20711375,
          21585105,
          22215365,
          23301725,
          20947571,
          22611552,
          26420307,
          30131000,
          33505000,
          36436000,
          39326000,
          41622000,
          43805450,
          46173816,
          47969150,
          49044790,
          160000,
          212846,
          358266,
          575003,
          841934,
          1140357,
          1497494,
          1891487,
          1418095,
          1765345,
          2111561,
          2505559,
          1439529,
          1647412,
          1886848,
          2186894,
          2680018,
          3115787,
          3086876,
          3089353,
          3219994,
          3430388,
          3677780,
          3921278,
          6748378,
          7739235,
          8906385,
          10154878,
          11441462,
          12845381,
          14441916,
          16331785,
          18319502,
          20476091,
          22662365,
          24821286,
          800663,
          882134,
          1010280,
          1149500,
          1320500,
          1528000,
          1756032,
          2015133,
          2312802,
          2494803,
          2674234,
          2874127,
          20092996,
          21731844,
          23634436,
          25870271,
          28466390,
          31528087,
          34680442,
          38028578,
          40546538,
          43247867,
          45598081,
          47761980,
          9182536,
          9682338,
          10332057,
          11261690,
          12412593,
          13933198,
          15796314,
          17917180,
          20326209,
          23001113,
          25873917,
          28901790,
          507833,
          561977,
          628164,
          714775,
          829050,
          1004533,
          1301048,
          1593882,
          1915208,
          2283635,
          2713462,
          3204897,
          41346560,
          46679944,
          53100671,
          60641899,
          69325921,
          78152686,
          91462088,
          105186881,
          120065004,
          135564834,
          153403524,
          169270617,
          22438691,
          26072194,
          30325264,
          35356600,
          40850141,
          46850962,
          53456774,
          60017788,
          67185766,
          75012988,
          82995088,
          91077287,
          4005677,
          4419650,
          4943029,
          5618198,
          6472756,
          8128505,
          11254672,
          14619745,
          16945857,
          21229759,
          24501530,
          27601038,
          1127000,
          1445929,
          1750200,
          1977600,
          2152400,
          2325300,
          2651869,
          2794552,
          3235865,
          3802309,
          4197776,
          4553009,
          7982342,
          9128546,
          10421936,
          11737396,
          13016733,
          14116836,
          15410151,
          16495304,
          17587060,
          18698655,
          19576783,
          20378239,
          3661549,
          4149908,
          4834621,
          5680812,
          6701172,
          7932503,
          9410494,
          11242847,
          13219062,
          15081016,
          17155814,
          19314747,
          8550362,
          10164215,
          11918938,
          13648692,
          15226039,
          16785196,
          18501390,
          19757799,
          20686918,
          21628605,
          22454239,
          23174294,
          21289402,
          25041917,
          29263397,
          34024249,
          39276153,
          44148285,
          48827160,
          52910342,
          56667095,
          60216677,
          62806748,
          65068149,
          26246839,
          28998543,
          33796140,
          39463910,
          44655014,
          50533506,
          56142181,
          62826491,
          69940728,
          76048996,
          80908147,
          85262356,
          1030585,
          1070439,
          1133134,
          1142636,
          1089572,
          1261091,
          1425876,
          1691210,
          2104779,
          2826046,
          3389578,
          4018332,
          4963829,
          5498090,
          6120081,
          6740785,
          7407075,
          8403990,
          9657618,
          11219340,
          13367997,
          15826497,
          18701257,
          22211743
         ],
         "yaxis": "y"
        },
        {
         "alignmentgroup": "True",
         "hovertemplate": "continent=Europe<br>country=%{x}<br>pop=%{y}<extra></extra>",
         "legendgroup": "Europe",
         "marker": {
          "color": "#EF553B",
          "pattern": {
           "shape": ""
          }
         },
         "name": "Europe",
         "offsetgroup": "Europe",
         "orientation": "v",
         "showlegend": true,
         "textposition": "auto",
         "type": "bar",
         "x": [
          "Albania",
          "Albania",
          "Albania",
          "Albania",
          "Albania",
          "Albania",
          "Albania",
          "Albania",
          "Albania",
          "Albania",
          "Albania",
          "Albania",
          "Austria",
          "Austria",
          "Austria",
          "Austria",
          "Austria",
          "Austria",
          "Austria",
          "Austria",
          "Austria",
          "Austria",
          "Austria",
          "Austria",
          "Belgium",
          "Belgium",
          "Belgium",
          "Belgium",
          "Belgium",
          "Belgium",
          "Belgium",
          "Belgium",
          "Belgium",
          "Belgium",
          "Belgium",
          "Belgium",
          "Bosnia and Herzegovina",
          "Bosnia and Herzegovina",
          "Bosnia and Herzegovina",
          "Bosnia and Herzegovina",
          "Bosnia and Herzegovina",
          "Bosnia and Herzegovina",
          "Bosnia and Herzegovina",
          "Bosnia and Herzegovina",
          "Bosnia and Herzegovina",
          "Bosnia and Herzegovina",
          "Bosnia and Herzegovina",
          "Bosnia and Herzegovina",
          "Bulgaria",
          "Bulgaria",
          "Bulgaria",
          "Bulgaria",
          "Bulgaria",
          "Bulgaria",
          "Bulgaria",
          "Bulgaria",
          "Bulgaria",
          "Bulgaria",
          "Bulgaria",
          "Bulgaria",
          "Croatia",
          "Croatia",
          "Croatia",
          "Croatia",
          "Croatia",
          "Croatia",
          "Croatia",
          "Croatia",
          "Croatia",
          "Croatia",
          "Croatia",
          "Croatia",
          "Czech Republic",
          "Czech Republic",
          "Czech Republic",
          "Czech Republic",
          "Czech Republic",
          "Czech Republic",
          "Czech Republic",
          "Czech Republic",
          "Czech Republic",
          "Czech Republic",
          "Czech Republic",
          "Czech Republic",
          "Denmark",
          "Denmark",
          "Denmark",
          "Denmark",
          "Denmark",
          "Denmark",
          "Denmark",
          "Denmark",
          "Denmark",
          "Denmark",
          "Denmark",
          "Denmark",
          "Finland",
          "Finland",
          "Finland",
          "Finland",
          "Finland",
          "Finland",
          "Finland",
          "Finland",
          "Finland",
          "Finland",
          "Finland",
          "Finland",
          "France",
          "France",
          "France",
          "France",
          "France",
          "France",
          "France",
          "France",
          "France",
          "France",
          "France",
          "France",
          "Germany",
          "Germany",
          "Germany",
          "Germany",
          "Germany",
          "Germany",
          "Germany",
          "Germany",
          "Germany",
          "Germany",
          "Germany",
          "Germany",
          "Greece",
          "Greece",
          "Greece",
          "Greece",
          "Greece",
          "Greece",
          "Greece",
          "Greece",
          "Greece",
          "Greece",
          "Greece",
          "Greece",
          "Hungary",
          "Hungary",
          "Hungary",
          "Hungary",
          "Hungary",
          "Hungary",
          "Hungary",
          "Hungary",
          "Hungary",
          "Hungary",
          "Hungary",
          "Hungary",
          "Iceland",
          "Iceland",
          "Iceland",
          "Iceland",
          "Iceland",
          "Iceland",
          "Iceland",
          "Iceland",
          "Iceland",
          "Iceland",
          "Iceland",
          "Iceland",
          "Ireland",
          "Ireland",
          "Ireland",
          "Ireland",
          "Ireland",
          "Ireland",
          "Ireland",
          "Ireland",
          "Ireland",
          "Ireland",
          "Ireland",
          "Ireland",
          "Italy",
          "Italy",
          "Italy",
          "Italy",
          "Italy",
          "Italy",
          "Italy",
          "Italy",
          "Italy",
          "Italy",
          "Italy",
          "Italy",
          "Montenegro",
          "Montenegro",
          "Montenegro",
          "Montenegro",
          "Montenegro",
          "Montenegro",
          "Montenegro",
          "Montenegro",
          "Montenegro",
          "Montenegro",
          "Montenegro",
          "Montenegro",
          "Netherlands",
          "Netherlands",
          "Netherlands",
          "Netherlands",
          "Netherlands",
          "Netherlands",
          "Netherlands",
          "Netherlands",
          "Netherlands",
          "Netherlands",
          "Netherlands",
          "Netherlands",
          "Norway",
          "Norway",
          "Norway",
          "Norway",
          "Norway",
          "Norway",
          "Norway",
          "Norway",
          "Norway",
          "Norway",
          "Norway",
          "Norway",
          "Poland",
          "Poland",
          "Poland",
          "Poland",
          "Poland",
          "Poland",
          "Poland",
          "Poland",
          "Poland",
          "Poland",
          "Poland",
          "Poland",
          "Portugal",
          "Portugal",
          "Portugal",
          "Portugal",
          "Portugal",
          "Portugal",
          "Portugal",
          "Portugal",
          "Portugal",
          "Portugal",
          "Portugal",
          "Portugal",
          "Romania",
          "Romania",
          "Romania",
          "Romania",
          "Romania",
          "Romania",
          "Romania",
          "Romania",
          "Romania",
          "Romania",
          "Romania",
          "Romania",
          "Serbia",
          "Serbia",
          "Serbia",
          "Serbia",
          "Serbia",
          "Serbia",
          "Serbia",
          "Serbia",
          "Serbia",
          "Serbia",
          "Serbia",
          "Serbia",
          "Slovak Republic",
          "Slovak Republic",
          "Slovak Republic",
          "Slovak Republic",
          "Slovak Republic",
          "Slovak Republic",
          "Slovak Republic",
          "Slovak Republic",
          "Slovak Republic",
          "Slovak Republic",
          "Slovak Republic",
          "Slovak Republic",
          "Slovenia",
          "Slovenia",
          "Slovenia",
          "Slovenia",
          "Slovenia",
          "Slovenia",
          "Slovenia",
          "Slovenia",
          "Slovenia",
          "Slovenia",
          "Slovenia",
          "Slovenia",
          "Spain",
          "Spain",
          "Spain",
          "Spain",
          "Spain",
          "Spain",
          "Spain",
          "Spain",
          "Spain",
          "Spain",
          "Spain",
          "Spain",
          "Sweden",
          "Sweden",
          "Sweden",
          "Sweden",
          "Sweden",
          "Sweden",
          "Sweden",
          "Sweden",
          "Sweden",
          "Sweden",
          "Sweden",
          "Sweden",
          "Switzerland",
          "Switzerland",
          "Switzerland",
          "Switzerland",
          "Switzerland",
          "Switzerland",
          "Switzerland",
          "Switzerland",
          "Switzerland",
          "Switzerland",
          "Switzerland",
          "Switzerland",
          "Turkey",
          "Turkey",
          "Turkey",
          "Turkey",
          "Turkey",
          "Turkey",
          "Turkey",
          "Turkey",
          "Turkey",
          "Turkey",
          "Turkey",
          "Turkey",
          "United Kingdom",
          "United Kingdom",
          "United Kingdom",
          "United Kingdom",
          "United Kingdom",
          "United Kingdom",
          "United Kingdom",
          "United Kingdom",
          "United Kingdom",
          "United Kingdom",
          "United Kingdom",
          "United Kingdom"
         ],
         "xaxis": "x",
         "y": [
          1282697,
          1476505,
          1728137,
          1984060,
          2263554,
          2509048,
          2780097,
          3075321,
          3326498,
          3428038,
          3508512,
          3600523,
          6927772,
          6965860,
          7129864,
          7376998,
          7544201,
          7568430,
          7574613,
          7578903,
          7914969,
          8069876,
          8148312,
          8199783,
          8730405,
          8989111,
          9218400,
          9556500,
          9709100,
          9821800,
          9856303,
          9870200,
          10045622,
          10199787,
          10311970,
          10392226,
          2791000,
          3076000,
          3349000,
          3585000,
          3819000,
          4086000,
          4172693,
          4338977,
          4256013,
          3607000,
          4165416,
          4552198,
          7274900,
          7651254,
          8012946,
          8310226,
          8576200,
          8797022,
          8892098,
          8971958,
          8658506,
          8066057,
          7661799,
          7322858,
          3882229,
          3991242,
          4076557,
          4174366,
          4225310,
          4318673,
          4413368,
          4484310,
          4494013,
          4444595,
          4481020,
          4493312,
          9125183,
          9513758,
          9620282,
          9835109,
          9862158,
          10161915,
          10303704,
          10311597,
          10315702,
          10300707,
          10256295,
          10228744,
          4334000,
          4487831,
          4646899,
          4838800,
          4991596,
          5088419,
          5117810,
          5127024,
          5171393,
          5283663,
          5374693,
          5468120,
          4090500,
          4324000,
          4491443,
          4605744,
          4639657,
          4738902,
          4826933,
          4931729,
          5041039,
          5134406,
          5193039,
          5238460,
          42459667,
          44310863,
          47124000,
          49569000,
          51732000,
          53165019,
          54433565,
          55630100,
          57374179,
          58623428,
          59925035,
          61083916,
          69145952,
          71019069,
          73739117,
          76368453,
          78717088,
          78160773,
          78335266,
          77718298,
          80597764,
          82011073,
          82350671,
          82400996,
          7733250,
          8096218,
          8448233,
          8716441,
          8888628,
          9308479,
          9786480,
          9974490,
          10325429,
          10502372,
          10603863,
          10706290,
          9504000,
          9839000,
          10063000,
          10223422,
          10394091,
          10637171,
          10705535,
          10612740,
          10348684,
          10244684,
          10083313,
          9956108,
          147962,
          165110,
          182053,
          198676,
          209275,
          221823,
          233997,
          244676,
          259012,
          271192,
          288030,
          301931,
          2952156,
          2878220,
          2830000,
          2900100,
          3024400,
          3271900,
          3480000,
          3539900,
          3557761,
          3667233,
          3879155,
          4109086,
          47666000,
          49182000,
          50843200,
          52667100,
          54365564,
          56059245,
          56535636,
          56729703,
          56840847,
          57479469,
          57926999,
          58147733,
          413834,
          442829,
          474528,
          501035,
          527678,
          560073,
          562548,
          569473,
          621621,
          692651,
          720230,
          684736,
          10381988,
          11026383,
          11805689,
          12596822,
          13329874,
          13852989,
          14310401,
          14665278,
          15174244,
          15604464,
          16122830,
          16570613,
          3327728,
          3491938,
          3638919,
          3786019,
          3933004,
          4043205,
          4114787,
          4186147,
          4286357,
          4405672,
          4535591,
          4627926,
          25730551,
          28235346,
          30329617,
          31785378,
          33039545,
          34621254,
          36227381,
          37740710,
          38370697,
          38654957,
          38625976,
          38518241,
          8526050,
          8817650,
          9019800,
          9103000,
          8970450,
          9662600,
          9859650,
          9915289,
          9927680,
          10156415,
          10433867,
          10642836,
          16630000,
          17829327,
          18680721,
          19284814,
          20662648,
          21658597,
          22356726,
          22686371,
          22797027,
          22562458,
          22404337,
          22276056,
          6860147,
          7271135,
          7616060,
          7971222,
          8313288,
          8686367,
          9032824,
          9230783,
          9826397,
          10336594,
          10111559,
          10150265,
          3558137,
          3844277,
          4237384,
          4442238,
          4593433,
          4827803,
          5048043,
          5199318,
          5302888,
          5383010,
          5410052,
          5447502,
          1489518,
          1533070,
          1582962,
          1646912,
          1694510,
          1746919,
          1861252,
          1945870,
          1999210,
          2011612,
          2011497,
          2009245,
          28549870,
          29841614,
          31158061,
          32850275,
          34513161,
          36439000,
          37983310,
          38880702,
          39549438,
          39855442,
          40152517,
          40448191,
          7124673,
          7363802,
          7561588,
          7867931,
          8122293,
          8251648,
          8325260,
          8421403,
          8718867,
          8897619,
          8954175,
          9031088,
          4815000,
          5126000,
          5666000,
          6063000,
          6401400,
          6316424,
          6468126,
          6649942,
          6995447,
          7193761,
          7361757,
          7554661,
          22235677,
          25670939,
          29788695,
          33411317,
          37492953,
          42404033,
          47328791,
          52881328,
          58179144,
          63047647,
          67308928,
          71158647,
          50430000,
          51430000,
          53292000,
          54959000,
          56079000,
          56179000,
          56339704,
          56981620,
          57866349,
          58808266,
          59912431,
          60776238
         ],
         "yaxis": "y"
        },
        {
         "alignmentgroup": "True",
         "hovertemplate": "continent=Africa<br>country=%{x}<br>pop=%{y}<extra></extra>",
         "legendgroup": "Africa",
         "marker": {
          "color": "#00cc96",
          "pattern": {
           "shape": ""
          }
         },
         "name": "Africa",
         "offsetgroup": "Africa",
         "orientation": "v",
         "showlegend": true,
         "textposition": "auto",
         "type": "bar",
         "x": [
          "Algeria",
          "Algeria",
          "Algeria",
          "Algeria",
          "Algeria",
          "Algeria",
          "Algeria",
          "Algeria",
          "Algeria",
          "Algeria",
          "Algeria",
          "Algeria",
          "Angola",
          "Angola",
          "Angola",
          "Angola",
          "Angola",
          "Angola",
          "Angola",
          "Angola",
          "Angola",
          "Angola",
          "Angola",
          "Angola",
          "Benin",
          "Benin",
          "Benin",
          "Benin",
          "Benin",
          "Benin",
          "Benin",
          "Benin",
          "Benin",
          "Benin",
          "Benin",
          "Benin",
          "Botswana",
          "Botswana",
          "Botswana",
          "Botswana",
          "Botswana",
          "Botswana",
          "Botswana",
          "Botswana",
          "Botswana",
          "Botswana",
          "Botswana",
          "Botswana",
          "Burkina Faso",
          "Burkina Faso",
          "Burkina Faso",
          "Burkina Faso",
          "Burkina Faso",
          "Burkina Faso",
          "Burkina Faso",
          "Burkina Faso",
          "Burkina Faso",
          "Burkina Faso",
          "Burkina Faso",
          "Burkina Faso",
          "Burundi",
          "Burundi",
          "Burundi",
          "Burundi",
          "Burundi",
          "Burundi",
          "Burundi",
          "Burundi",
          "Burundi",
          "Burundi",
          "Burundi",
          "Burundi",
          "Cameroon",
          "Cameroon",
          "Cameroon",
          "Cameroon",
          "Cameroon",
          "Cameroon",
          "Cameroon",
          "Cameroon",
          "Cameroon",
          "Cameroon",
          "Cameroon",
          "Cameroon",
          "Central African Republic",
          "Central African Republic",
          "Central African Republic",
          "Central African Republic",
          "Central African Republic",
          "Central African Republic",
          "Central African Republic",
          "Central African Republic",
          "Central African Republic",
          "Central African Republic",
          "Central African Republic",
          "Central African Republic",
          "Chad",
          "Chad",
          "Chad",
          "Chad",
          "Chad",
          "Chad",
          "Chad",
          "Chad",
          "Chad",
          "Chad",
          "Chad",
          "Chad",
          "Comoros",
          "Comoros",
          "Comoros",
          "Comoros",
          "Comoros",
          "Comoros",
          "Comoros",
          "Comoros",
          "Comoros",
          "Comoros",
          "Comoros",
          "Comoros",
          "Congo, Dem. Rep.",
          "Congo, Dem. Rep.",
          "Congo, Dem. Rep.",
          "Congo, Dem. Rep.",
          "Congo, Dem. Rep.",
          "Congo, Dem. Rep.",
          "Congo, Dem. Rep.",
          "Congo, Dem. Rep.",
          "Congo, Dem. Rep.",
          "Congo, Dem. Rep.",
          "Congo, Dem. Rep.",
          "Congo, Dem. Rep.",
          "Congo, Rep.",
          "Congo, Rep.",
          "Congo, Rep.",
          "Congo, Rep.",
          "Congo, Rep.",
          "Congo, Rep.",
          "Congo, Rep.",
          "Congo, Rep.",
          "Congo, Rep.",
          "Congo, Rep.",
          "Congo, Rep.",
          "Congo, Rep.",
          "Cote d'Ivoire",
          "Cote d'Ivoire",
          "Cote d'Ivoire",
          "Cote d'Ivoire",
          "Cote d'Ivoire",
          "Cote d'Ivoire",
          "Cote d'Ivoire",
          "Cote d'Ivoire",
          "Cote d'Ivoire",
          "Cote d'Ivoire",
          "Cote d'Ivoire",
          "Cote d'Ivoire",
          "Djibouti",
          "Djibouti",
          "Djibouti",
          "Djibouti",
          "Djibouti",
          "Djibouti",
          "Djibouti",
          "Djibouti",
          "Djibouti",
          "Djibouti",
          "Djibouti",
          "Djibouti",
          "Egypt",
          "Egypt",
          "Egypt",
          "Egypt",
          "Egypt",
          "Egypt",
          "Egypt",
          "Egypt",
          "Egypt",
          "Egypt",
          "Egypt",
          "Egypt",
          "Equatorial Guinea",
          "Equatorial Guinea",
          "Equatorial Guinea",
          "Equatorial Guinea",
          "Equatorial Guinea",
          "Equatorial Guinea",
          "Equatorial Guinea",
          "Equatorial Guinea",
          "Equatorial Guinea",
          "Equatorial Guinea",
          "Equatorial Guinea",
          "Equatorial Guinea",
          "Eritrea",
          "Eritrea",
          "Eritrea",
          "Eritrea",
          "Eritrea",
          "Eritrea",
          "Eritrea",
          "Eritrea",
          "Eritrea",
          "Eritrea",
          "Eritrea",
          "Eritrea",
          "Ethiopia",
          "Ethiopia",
          "Ethiopia",
          "Ethiopia",
          "Ethiopia",
          "Ethiopia",
          "Ethiopia",
          "Ethiopia",
          "Ethiopia",
          "Ethiopia",
          "Ethiopia",
          "Ethiopia",
          "Gabon",
          "Gabon",
          "Gabon",
          "Gabon",
          "Gabon",
          "Gabon",
          "Gabon",
          "Gabon",
          "Gabon",
          "Gabon",
          "Gabon",
          "Gabon",
          "Gambia",
          "Gambia",
          "Gambia",
          "Gambia",
          "Gambia",
          "Gambia",
          "Gambia",
          "Gambia",
          "Gambia",
          "Gambia",
          "Gambia",
          "Gambia",
          "Ghana",
          "Ghana",
          "Ghana",
          "Ghana",
          "Ghana",
          "Ghana",
          "Ghana",
          "Ghana",
          "Ghana",
          "Ghana",
          "Ghana",
          "Ghana",
          "Guinea",
          "Guinea",
          "Guinea",
          "Guinea",
          "Guinea",
          "Guinea",
          "Guinea",
          "Guinea",
          "Guinea",
          "Guinea",
          "Guinea",
          "Guinea",
          "Guinea-Bissau",
          "Guinea-Bissau",
          "Guinea-Bissau",
          "Guinea-Bissau",
          "Guinea-Bissau",
          "Guinea-Bissau",
          "Guinea-Bissau",
          "Guinea-Bissau",
          "Guinea-Bissau",
          "Guinea-Bissau",
          "Guinea-Bissau",
          "Guinea-Bissau",
          "Kenya",
          "Kenya",
          "Kenya",
          "Kenya",
          "Kenya",
          "Kenya",
          "Kenya",
          "Kenya",
          "Kenya",
          "Kenya",
          "Kenya",
          "Kenya",
          "Lesotho",
          "Lesotho",
          "Lesotho",
          "Lesotho",
          "Lesotho",
          "Lesotho",
          "Lesotho",
          "Lesotho",
          "Lesotho",
          "Lesotho",
          "Lesotho",
          "Lesotho",
          "Liberia",
          "Liberia",
          "Liberia",
          "Liberia",
          "Liberia",
          "Liberia",
          "Liberia",
          "Liberia",
          "Liberia",
          "Liberia",
          "Liberia",
          "Liberia",
          "Libya",
          "Libya",
          "Libya",
          "Libya",
          "Libya",
          "Libya",
          "Libya",
          "Libya",
          "Libya",
          "Libya",
          "Libya",
          "Libya",
          "Madagascar",
          "Madagascar",
          "Madagascar",
          "Madagascar",
          "Madagascar",
          "Madagascar",
          "Madagascar",
          "Madagascar",
          "Madagascar",
          "Madagascar",
          "Madagascar",
          "Madagascar",
          "Malawi",
          "Malawi",
          "Malawi",
          "Malawi",
          "Malawi",
          "Malawi",
          "Malawi",
          "Malawi",
          "Malawi",
          "Malawi",
          "Malawi",
          "Malawi",
          "Mali",
          "Mali",
          "Mali",
          "Mali",
          "Mali",
          "Mali",
          "Mali",
          "Mali",
          "Mali",
          "Mali",
          "Mali",
          "Mali",
          "Mauritania",
          "Mauritania",
          "Mauritania",
          "Mauritania",
          "Mauritania",
          "Mauritania",
          "Mauritania",
          "Mauritania",
          "Mauritania",
          "Mauritania",
          "Mauritania",
          "Mauritania",
          "Mauritius",
          "Mauritius",
          "Mauritius",
          "Mauritius",
          "Mauritius",
          "Mauritius",
          "Mauritius",
          "Mauritius",
          "Mauritius",
          "Mauritius",
          "Mauritius",
          "Mauritius",
          "Morocco",
          "Morocco",
          "Morocco",
          "Morocco",
          "Morocco",
          "Morocco",
          "Morocco",
          "Morocco",
          "Morocco",
          "Morocco",
          "Morocco",
          "Morocco",
          "Mozambique",
          "Mozambique",
          "Mozambique",
          "Mozambique",
          "Mozambique",
          "Mozambique",
          "Mozambique",
          "Mozambique",
          "Mozambique",
          "Mozambique",
          "Mozambique",
          "Mozambique",
          "Namibia",
          "Namibia",
          "Namibia",
          "Namibia",
          "Namibia",
          "Namibia",
          "Namibia",
          "Namibia",
          "Namibia",
          "Namibia",
          "Namibia",
          "Namibia",
          "Niger",
          "Niger",
          "Niger",
          "Niger",
          "Niger",
          "Niger",
          "Niger",
          "Niger",
          "Niger",
          "Niger",
          "Niger",
          "Niger",
          "Nigeria",
          "Nigeria",
          "Nigeria",
          "Nigeria",
          "Nigeria",
          "Nigeria",
          "Nigeria",
          "Nigeria",
          "Nigeria",
          "Nigeria",
          "Nigeria",
          "Nigeria",
          "Reunion",
          "Reunion",
          "Reunion",
          "Reunion",
          "Reunion",
          "Reunion",
          "Reunion",
          "Reunion",
          "Reunion",
          "Reunion",
          "Reunion",
          "Reunion",
          "Rwanda",
          "Rwanda",
          "Rwanda",
          "Rwanda",
          "Rwanda",
          "Rwanda",
          "Rwanda",
          "Rwanda",
          "Rwanda",
          "Rwanda",
          "Rwanda",
          "Rwanda",
          "Sao Tome and Principe",
          "Sao Tome and Principe",
          "Sao Tome and Principe",
          "Sao Tome and Principe",
          "Sao Tome and Principe",
          "Sao Tome and Principe",
          "Sao Tome and Principe",
          "Sao Tome and Principe",
          "Sao Tome and Principe",
          "Sao Tome and Principe",
          "Sao Tome and Principe",
          "Sao Tome and Principe",
          "Senegal",
          "Senegal",
          "Senegal",
          "Senegal",
          "Senegal",
          "Senegal",
          "Senegal",
          "Senegal",
          "Senegal",
          "Senegal",
          "Senegal",
          "Senegal",
          "Sierra Leone",
          "Sierra Leone",
          "Sierra Leone",
          "Sierra Leone",
          "Sierra Leone",
          "Sierra Leone",
          "Sierra Leone",
          "Sierra Leone",
          "Sierra Leone",
          "Sierra Leone",
          "Sierra Leone",
          "Sierra Leone",
          "Somalia",
          "Somalia",
          "Somalia",
          "Somalia",
          "Somalia",
          "Somalia",
          "Somalia",
          "Somalia",
          "Somalia",
          "Somalia",
          "Somalia",
          "Somalia",
          "South Africa",
          "South Africa",
          "South Africa",
          "South Africa",
          "South Africa",
          "South Africa",
          "South Africa",
          "South Africa",
          "South Africa",
          "South Africa",
          "South Africa",
          "South Africa",
          "Sudan",
          "Sudan",
          "Sudan",
          "Sudan",
          "Sudan",
          "Sudan",
          "Sudan",
          "Sudan",
          "Sudan",
          "Sudan",
          "Sudan",
          "Sudan",
          "Swaziland",
          "Swaziland",
          "Swaziland",
          "Swaziland",
          "Swaziland",
          "Swaziland",
          "Swaziland",
          "Swaziland",
          "Swaziland",
          "Swaziland",
          "Swaziland",
          "Swaziland",
          "Tanzania",
          "Tanzania",
          "Tanzania",
          "Tanzania",
          "Tanzania",
          "Tanzania",
          "Tanzania",
          "Tanzania",
          "Tanzania",
          "Tanzania",
          "Tanzania",
          "Tanzania",
          "Togo",
          "Togo",
          "Togo",
          "Togo",
          "Togo",
          "Togo",
          "Togo",
          "Togo",
          "Togo",
          "Togo",
          "Togo",
          "Togo",
          "Tunisia",
          "Tunisia",
          "Tunisia",
          "Tunisia",
          "Tunisia",
          "Tunisia",
          "Tunisia",
          "Tunisia",
          "Tunisia",
          "Tunisia",
          "Tunisia",
          "Tunisia",
          "Uganda",
          "Uganda",
          "Uganda",
          "Uganda",
          "Uganda",
          "Uganda",
          "Uganda",
          "Uganda",
          "Uganda",
          "Uganda",
          "Uganda",
          "Uganda",
          "Zambia",
          "Zambia",
          "Zambia",
          "Zambia",
          "Zambia",
          "Zambia",
          "Zambia",
          "Zambia",
          "Zambia",
          "Zambia",
          "Zambia",
          "Zambia",
          "Zimbabwe",
          "Zimbabwe",
          "Zimbabwe",
          "Zimbabwe",
          "Zimbabwe",
          "Zimbabwe",
          "Zimbabwe",
          "Zimbabwe",
          "Zimbabwe",
          "Zimbabwe",
          "Zimbabwe",
          "Zimbabwe"
         ],
         "xaxis": "x",
         "y": [
          9279525,
          10270856,
          11000948,
          12760499,
          14760787,
          17152804,
          20033753,
          23254956,
          26298373,
          29072015,
          31287142,
          33333216,
          4232095,
          4561361,
          4826015,
          5247469,
          5894858,
          6162675,
          7016384,
          7874230,
          8735988,
          9875024,
          10866106,
          12420476,
          1738315,
          1925173,
          2151895,
          2427334,
          2761407,
          3168267,
          3641603,
          4243788,
          4981671,
          6066080,
          7026113,
          8078314,
          442308,
          474639,
          512764,
          553541,
          619351,
          781472,
          970347,
          1151184,
          1342614,
          1536536,
          1630347,
          1639131,
          4469979,
          4713416,
          4919632,
          5127935,
          5433886,
          5889574,
          6634596,
          7586551,
          8878303,
          10352843,
          12251209,
          14326203,
          2445618,
          2667518,
          2961915,
          3330989,
          3529983,
          3834415,
          4580410,
          5126023,
          5809236,
          6121610,
          7021078,
          8390505,
          5009067,
          5359923,
          5793633,
          6335506,
          7021028,
          7959865,
          9250831,
          10780667,
          12467171,
          14195809,
          15929988,
          17696293,
          1291695,
          1392284,
          1523478,
          1733638,
          1927260,
          2167533,
          2476971,
          2840009,
          3265124,
          3696513,
          4048013,
          4369038,
          2682462,
          2894855,
          3150417,
          3495967,
          3899068,
          4388260,
          4875118,
          5498955,
          6429417,
          7562011,
          8835739,
          10238807,
          153936,
          170928,
          191689,
          217378,
          250027,
          304739,
          348643,
          395114,
          454429,
          527982,
          614382,
          710960,
          14100005,
          15577932,
          17486434,
          19941073,
          23007669,
          26480870,
          30646495,
          35481645,
          41672143,
          47798986,
          55379852,
          64606759,
          854885,
          940458,
          1047924,
          1179760,
          1340458,
          1536769,
          1774735,
          2064095,
          2409073,
          2800947,
          3328795,
          3800610,
          2977019,
          3300000,
          3832408,
          4744870,
          6071696,
          7459574,
          9025951,
          10761098,
          12772596,
          14625967,
          16252726,
          18013409,
          63149,
          71851,
          89898,
          127617,
          178848,
          228694,
          305991,
          311025,
          384156,
          417908,
          447416,
          496374,
          22223309,
          25009741,
          28173309,
          31681188,
          34807417,
          38783863,
          45681811,
          52799062,
          59402198,
          66134291,
          73312559,
          80264543,
          216964,
          232922,
          249220,
          259864,
          277603,
          192675,
          285483,
          341244,
          387838,
          439971,
          495627,
          551201,
          1438760,
          1542611,
          1666618,
          1820319,
          2260187,
          2512642,
          2637297,
          2915959,
          3668440,
          4058319,
          4414865,
          4906585,
          20860941,
          22815614,
          25145372,
          27860297,
          30770372,
          34617799,
          38111756,
          42999530,
          52088559,
          59861301,
          67946797,
          76511887,
          420702,
          434904,
          455661,
          489004,
          537977,
          706367,
          753874,
          880397,
          985739,
          1126189,
          1299304,
          1454867,
          284320,
          323150,
          374020,
          439593,
          517101,
          608274,
          715523,
          848406,
          1025384,
          1235767,
          1457766,
          1688359,
          5581001,
          6391288,
          7355248,
          8490213,
          9354120,
          10538093,
          11400338,
          14168101,
          16278738,
          18418288,
          20550751,
          22873338,
          2664249,
          2876726,
          3140003,
          3451418,
          3811387,
          4227026,
          4710497,
          5650262,
          6990574,
          8048834,
          8807818,
          9947814,
          580653,
          601095,
          627820,
          601287,
          625361,
          745228,
          825987,
          927524,
          1050938,
          1193708,
          1332459,
          1472041,
          6464046,
          7454779,
          8678557,
          10191512,
          12044785,
          14500404,
          17661452,
          21198082,
          25020539,
          28263827,
          31386842,
          35610177,
          748747,
          813338,
          893143,
          996380,
          1116779,
          1251524,
          1411807,
          1599200,
          1803195,
          1982823,
          2046772,
          2012649,
          863308,
          975950,
          1112796,
          1279406,
          1482628,
          1703617,
          1956875,
          2269414,
          1912974,
          2200725,
          2814651,
          3193942,
          1019729,
          1201578,
          1441863,
          1759224,
          2183877,
          2721783,
          3344074,
          3799845,
          4364501,
          4759670,
          5368585,
          6036914,
          4762912,
          5181679,
          5703324,
          6334556,
          7082430,
          8007166,
          9171477,
          10568642,
          12210395,
          14165114,
          16473477,
          19167654,
          2917802,
          3221238,
          3628608,
          4147252,
          4730997,
          5637246,
          6502825,
          7824747,
          10014249,
          10419991,
          11824495,
          13327079,
          3838168,
          4241884,
          4690372,
          5212416,
          5828158,
          6491649,
          6998256,
          7634008,
          8416215,
          9384984,
          10580176,
          12031795,
          1022556,
          1076852,
          1146757,
          1230542,
          1332786,
          1456688,
          1622136,
          1841240,
          2119465,
          2444741,
          2828858,
          3270065,
          516556,
          609816,
          701016,
          789309,
          851334,
          913025,
          992040,
          1042663,
          1096202,
          1149818,
          1200206,
          1250882,
          9939217,
          11406350,
          13056604,
          14770296,
          16660670,
          18396941,
          20198730,
          22987397,
          25798239,
          28529501,
          31167783,
          33757175,
          6446316,
          7038035,
          7788944,
          8680909,
          9809596,
          11127868,
          12587223,
          12891952,
          13160731,
          16603334,
          18473780,
          19951656,
          485831,
          548080,
          621392,
          706640,
          821782,
          977026,
          1099010,
          1278184,
          1554253,
          1774766,
          1972153,
          2055080,
          3379468,
          3692184,
          4076008,
          4534062,
          5060262,
          5682086,
          6437188,
          7332638,
          8392818,
          9666252,
          11140655,
          12894865,
          33119096,
          37173340,
          41871351,
          47287752,
          53740085,
          62209173,
          73039376,
          81551520,
          93364244,
          106207839,
          119901274,
          135031164,
          257700,
          308700,
          358900,
          414024,
          461633,
          492095,
          517810,
          562035,
          622191,
          684810,
          743981,
          798094,
          2534927,
          2822082,
          3051242,
          3451079,
          3992121,
          4657072,
          5507565,
          6349365,
          7290203,
          7212583,
          7852401,
          8860588,
          60011,
          61325,
          65345,
          70787,
          76595,
          86796,
          98593,
          110812,
          125911,
          145608,
          170372,
          199579,
          2755589,
          3054547,
          3430243,
          3965841,
          4588696,
          5260855,
          6147783,
          7171347,
          8307920,
          9535314,
          10870037,
          12267493,
          2143249,
          2295678,
          2467895,
          2662190,
          2879013,
          3140897,
          3464522,
          3868905,
          4260884,
          4578212,
          5359092,
          6144562,
          2526994,
          2780415,
          3080153,
          3428839,
          3840161,
          4353666,
          5828892,
          6921858,
          6099799,
          6633514,
          7753310,
          9118773,
          14264935,
          16151549,
          18356657,
          20997321,
          23935810,
          27129932,
          31140029,
          35933379,
          39964159,
          42835005,
          44433622,
          43997828,
          8504667,
          9753392,
          11183227,
          12716129,
          14597019,
          17104986,
          20367053,
          24725960,
          28227588,
          32160729,
          37090298,
          42292929,
          290243,
          326741,
          370006,
          420690,
          480105,
          551425,
          649901,
          779348,
          962344,
          1054486,
          1130269,
          1133066,
          8322925,
          9452826,
          10863958,
          12607312,
          14706593,
          17129565,
          19844382,
          23040630,
          26605473,
          30686889,
          34593779,
          38139640,
          1219113,
          1357445,
          1528098,
          1735550,
          2056351,
          2308582,
          2644765,
          3154264,
          3747553,
          4320890,
          4977378,
          5701579,
          3647735,
          3950849,
          4286552,
          4786986,
          5303507,
          6005061,
          6734098,
          7724976,
          8523077,
          9231669,
          9770575,
          10276158,
          5824797,
          6675501,
          7688797,
          8900294,
          10190285,
          11457758,
          12939400,
          15283050,
          18252190,
          21210254,
          24739869,
          29170398,
          2672000,
          3016000,
          3421000,
          3900000,
          4506497,
          5216550,
          6100407,
          7272406,
          8381163,
          9417789,
          10595811,
          11746035,
          3080907,
          3646340,
          4277736,
          4995432,
          5861135,
          6642107,
          7636524,
          9216418,
          10704340,
          11404948,
          11926563,
          12311143
         ],
         "yaxis": "y"
        },
        {
         "alignmentgroup": "True",
         "hovertemplate": "continent=Americas<br>country=%{x}<br>pop=%{y}<extra></extra>",
         "legendgroup": "Americas",
         "marker": {
          "color": "#ab63fa",
          "pattern": {
           "shape": ""
          }
         },
         "name": "Americas",
         "offsetgroup": "Americas",
         "orientation": "v",
         "showlegend": true,
         "textposition": "auto",
         "type": "bar",
         "x": [
          "Argentina",
          "Argentina",
          "Argentina",
          "Argentina",
          "Argentina",
          "Argentina",
          "Argentina",
          "Argentina",
          "Argentina",
          "Argentina",
          "Argentina",
          "Argentina",
          "Bolivia",
          "Bolivia",
          "Bolivia",
          "Bolivia",
          "Bolivia",
          "Bolivia",
          "Bolivia",
          "Bolivia",
          "Bolivia",
          "Bolivia",
          "Bolivia",
          "Bolivia",
          "Brazil",
          "Brazil",
          "Brazil",
          "Brazil",
          "Brazil",
          "Brazil",
          "Brazil",
          "Brazil",
          "Brazil",
          "Brazil",
          "Brazil",
          "Brazil",
          "Canada",
          "Canada",
          "Canada",
          "Canada",
          "Canada",
          "Canada",
          "Canada",
          "Canada",
          "Canada",
          "Canada",
          "Canada",
          "Canada",
          "Chile",
          "Chile",
          "Chile",
          "Chile",
          "Chile",
          "Chile",
          "Chile",
          "Chile",
          "Chile",
          "Chile",
          "Chile",
          "Chile",
          "Colombia",
          "Colombia",
          "Colombia",
          "Colombia",
          "Colombia",
          "Colombia",
          "Colombia",
          "Colombia",
          "Colombia",
          "Colombia",
          "Colombia",
          "Colombia",
          "Costa Rica",
          "Costa Rica",
          "Costa Rica",
          "Costa Rica",
          "Costa Rica",
          "Costa Rica",
          "Costa Rica",
          "Costa Rica",
          "Costa Rica",
          "Costa Rica",
          "Costa Rica",
          "Costa Rica",
          "Cuba",
          "Cuba",
          "Cuba",
          "Cuba",
          "Cuba",
          "Cuba",
          "Cuba",
          "Cuba",
          "Cuba",
          "Cuba",
          "Cuba",
          "Cuba",
          "Dominican Republic",
          "Dominican Republic",
          "Dominican Republic",
          "Dominican Republic",
          "Dominican Republic",
          "Dominican Republic",
          "Dominican Republic",
          "Dominican Republic",
          "Dominican Republic",
          "Dominican Republic",
          "Dominican Republic",
          "Dominican Republic",
          "Ecuador",
          "Ecuador",
          "Ecuador",
          "Ecuador",
          "Ecuador",
          "Ecuador",
          "Ecuador",
          "Ecuador",
          "Ecuador",
          "Ecuador",
          "Ecuador",
          "Ecuador",
          "El Salvador",
          "El Salvador",
          "El Salvador",
          "El Salvador",
          "El Salvador",
          "El Salvador",
          "El Salvador",
          "El Salvador",
          "El Salvador",
          "El Salvador",
          "El Salvador",
          "El Salvador",
          "Guatemala",
          "Guatemala",
          "Guatemala",
          "Guatemala",
          "Guatemala",
          "Guatemala",
          "Guatemala",
          "Guatemala",
          "Guatemala",
          "Guatemala",
          "Guatemala",
          "Guatemala",
          "Haiti",
          "Haiti",
          "Haiti",
          "Haiti",
          "Haiti",
          "Haiti",
          "Haiti",
          "Haiti",
          "Haiti",
          "Haiti",
          "Haiti",
          "Haiti",
          "Honduras",
          "Honduras",
          "Honduras",
          "Honduras",
          "Honduras",
          "Honduras",
          "Honduras",
          "Honduras",
          "Honduras",
          "Honduras",
          "Honduras",
          "Honduras",
          "Jamaica",
          "Jamaica",
          "Jamaica",
          "Jamaica",
          "Jamaica",
          "Jamaica",
          "Jamaica",
          "Jamaica",
          "Jamaica",
          "Jamaica",
          "Jamaica",
          "Jamaica",
          "Mexico",
          "Mexico",
          "Mexico",
          "Mexico",
          "Mexico",
          "Mexico",
          "Mexico",
          "Mexico",
          "Mexico",
          "Mexico",
          "Mexico",
          "Mexico",
          "Nicaragua",
          "Nicaragua",
          "Nicaragua",
          "Nicaragua",
          "Nicaragua",
          "Nicaragua",
          "Nicaragua",
          "Nicaragua",
          "Nicaragua",
          "Nicaragua",
          "Nicaragua",
          "Nicaragua",
          "Panama",
          "Panama",
          "Panama",
          "Panama",
          "Panama",
          "Panama",
          "Panama",
          "Panama",
          "Panama",
          "Panama",
          "Panama",
          "Panama",
          "Paraguay",
          "Paraguay",
          "Paraguay",
          "Paraguay",
          "Paraguay",
          "Paraguay",
          "Paraguay",
          "Paraguay",
          "Paraguay",
          "Paraguay",
          "Paraguay",
          "Paraguay",
          "Peru",
          "Peru",
          "Peru",
          "Peru",
          "Peru",
          "Peru",
          "Peru",
          "Peru",
          "Peru",
          "Peru",
          "Peru",
          "Peru",
          "Puerto Rico",
          "Puerto Rico",
          "Puerto Rico",
          "Puerto Rico",
          "Puerto Rico",
          "Puerto Rico",
          "Puerto Rico",
          "Puerto Rico",
          "Puerto Rico",
          "Puerto Rico",
          "Puerto Rico",
          "Puerto Rico",
          "Trinidad and Tobago",
          "Trinidad and Tobago",
          "Trinidad and Tobago",
          "Trinidad and Tobago",
          "Trinidad and Tobago",
          "Trinidad and Tobago",
          "Trinidad and Tobago",
          "Trinidad and Tobago",
          "Trinidad and Tobago",
          "Trinidad and Tobago",
          "Trinidad and Tobago",
          "Trinidad and Tobago",
          "United States",
          "United States",
          "United States",
          "United States",
          "United States",
          "United States",
          "United States",
          "United States",
          "United States",
          "United States",
          "United States",
          "United States",
          "Uruguay",
          "Uruguay",
          "Uruguay",
          "Uruguay",
          "Uruguay",
          "Uruguay",
          "Uruguay",
          "Uruguay",
          "Uruguay",
          "Uruguay",
          "Uruguay",
          "Uruguay",
          "Venezuela",
          "Venezuela",
          "Venezuela",
          "Venezuela",
          "Venezuela",
          "Venezuela",
          "Venezuela",
          "Venezuela",
          "Venezuela",
          "Venezuela",
          "Venezuela",
          "Venezuela"
         ],
         "xaxis": "x",
         "y": [
          17876956,
          19610538,
          21283783,
          22934225,
          24779799,
          26983828,
          29341374,
          31620918,
          33958947,
          36203463,
          38331121,
          40301927,
          2883315,
          3211738,
          3593918,
          4040665,
          4565872,
          5079716,
          5642224,
          6156369,
          6893451,
          7693188,
          8445134,
          9119152,
          56602560,
          65551171,
          76039390,
          88049823,
          100840058,
          114313951,
          128962939,
          142938076,
          155975974,
          168546719,
          179914212,
          190010647,
          14785584,
          17010154,
          18985849,
          20819767,
          22284500,
          23796400,
          25201900,
          26549700,
          28523502,
          30305843,
          31902268,
          33390141,
          6377619,
          7048426,
          7961258,
          8858908,
          9717524,
          10599793,
          11487112,
          12463354,
          13572994,
          14599929,
          15497046,
          16284741,
          12350771,
          14485993,
          17009885,
          19764027,
          22542890,
          25094412,
          27764644,
          30964245,
          34202721,
          37657830,
          41008227,
          44227550,
          926317,
          1112300,
          1345187,
          1588717,
          1834796,
          2108457,
          2424367,
          2799811,
          3173216,
          3518107,
          3834934,
          4133884,
          6007797,
          6640752,
          7254373,
          8139332,
          8831348,
          9537988,
          9789224,
          10239839,
          10723260,
          10983007,
          11226999,
          11416987,
          2491346,
          2923186,
          3453434,
          4049146,
          4671329,
          5302800,
          5968349,
          6655297,
          7351181,
          7992357,
          8650322,
          9319622,
          3548753,
          4058385,
          4681707,
          5432424,
          6298651,
          7278866,
          8365850,
          9545158,
          10748394,
          11911819,
          12921234,
          13755680,
          2042865,
          2355805,
          2747687,
          3232927,
          3790903,
          4282586,
          4474873,
          4842194,
          5274649,
          5783439,
          6353681,
          6939688,
          3146381,
          3640876,
          4208858,
          4690773,
          5149581,
          5703430,
          6395630,
          7326406,
          8486949,
          9803875,
          11178650,
          12572928,
          3201488,
          3507701,
          3880130,
          4318137,
          4698301,
          4908554,
          5198399,
          5756203,
          6326682,
          6913545,
          7607651,
          8502814,
          1517453,
          1770390,
          2090162,
          2500689,
          2965146,
          3055235,
          3669448,
          4372203,
          5077347,
          5867957,
          6677328,
          7483763,
          1426095,
          1535090,
          1665128,
          1861096,
          1997616,
          2156814,
          2298309,
          2326606,
          2378618,
          2531311,
          2664659,
          2780132,
          30144317,
          35015548,
          41121485,
          47995559,
          55984294,
          63759976,
          71640904,
          80122492,
          88111030,
          95895146,
          102479927,
          108700891,
          1165790,
          1358828,
          1590597,
          1865490,
          2182908,
          2554598,
          2979423,
          3344353,
          4017939,
          4609572,
          5146848,
          5675356,
          940080,
          1063506,
          1215725,
          1405486,
          1616384,
          1839782,
          2036305,
          2253639,
          2484997,
          2734531,
          2990875,
          3242173,
          1555876,
          1770902,
          2009813,
          2287985,
          2614104,
          2984494,
          3366439,
          3886512,
          4483945,
          5154123,
          5884491,
          6667147,
          8025700,
          9146100,
          10516500,
          12132200,
          13954700,
          15990099,
          18125129,
          20195924,
          22430449,
          24748122,
          26769436,
          28674757,
          2227000,
          2260000,
          2448046,
          2648961,
          2847132,
          3080828,
          3279001,
          3444468,
          3585176,
          3759430,
          3859606,
          3942491,
          662850,
          764900,
          887498,
          960155,
          975199,
          1039009,
          1116479,
          1191336,
          1183669,
          1138101,
          1101832,
          1056608,
          157553000,
          171984000,
          186538000,
          198712000,
          209896000,
          220239000,
          232187835,
          242803533,
          256894189,
          272911760,
          287675526,
          301139947,
          2252965,
          2424959,
          2598466,
          2748579,
          2829526,
          2873520,
          2953997,
          3045153,
          3149262,
          3262838,
          3363085,
          3447496,
          5439568,
          6702668,
          8143375,
          9709552,
          11515649,
          13503563,
          15620766,
          17910182,
          20265563,
          22374398,
          24287670,
          26084662
         ],
         "yaxis": "y"
        },
        {
         "alignmentgroup": "True",
         "hovertemplate": "continent=Oceania<br>country=%{x}<br>pop=%{y}<extra></extra>",
         "legendgroup": "Oceania",
         "marker": {
          "color": "#FFA15A",
          "pattern": {
           "shape": ""
          }
         },
         "name": "Oceania",
         "offsetgroup": "Oceania",
         "orientation": "v",
         "showlegend": true,
         "textposition": "auto",
         "type": "bar",
         "x": [
          "Australia",
          "Australia",
          "Australia",
          "Australia",
          "Australia",
          "Australia",
          "Australia",
          "Australia",
          "Australia",
          "Australia",
          "Australia",
          "Australia",
          "New Zealand",
          "New Zealand",
          "New Zealand",
          "New Zealand",
          "New Zealand",
          "New Zealand",
          "New Zealand",
          "New Zealand",
          "New Zealand",
          "New Zealand",
          "New Zealand",
          "New Zealand"
         ],
         "xaxis": "x",
         "y": [
          8691212,
          9712569,
          10794968,
          11872264,
          13177000,
          14074100,
          15184200,
          16257249,
          17481977,
          18565243,
          19546792,
          20434176,
          1994794,
          2229407,
          2488550,
          2728150,
          2929100,
          3164900,
          3210650,
          3317166,
          3437674,
          3676187,
          3908037,
          4115771
         ],
         "yaxis": "y"
        }
       ],
       "layout": {
        "barmode": "relative",
        "legend": {
         "title": {
          "text": "continent"
         },
         "tracegroupgap": 0
        },
        "template": {
         "data": {
          "bar": [
           {
            "error_x": {
             "color": "#2a3f5f"
            },
            "error_y": {
             "color": "#2a3f5f"
            },
            "marker": {
             "line": {
              "color": "#E5ECF6",
              "width": 0.5
             },
             "pattern": {
              "fillmode": "overlay",
              "size": 10,
              "solidity": 0.2
             }
            },
            "type": "bar"
           }
          ],
          "barpolar": [
           {
            "marker": {
             "line": {
              "color": "#E5ECF6",
              "width": 0.5
             },
             "pattern": {
              "fillmode": "overlay",
              "size": 10,
              "solidity": 0.2
             }
            },
            "type": "barpolar"
           }
          ],
          "carpet": [
           {
            "aaxis": {
             "endlinecolor": "#2a3f5f",
             "gridcolor": "white",
             "linecolor": "white",
             "minorgridcolor": "white",
             "startlinecolor": "#2a3f5f"
            },
            "baxis": {
             "endlinecolor": "#2a3f5f",
             "gridcolor": "white",
             "linecolor": "white",
             "minorgridcolor": "white",
             "startlinecolor": "#2a3f5f"
            },
            "type": "carpet"
           }
          ],
          "choropleth": [
           {
            "colorbar": {
             "outlinewidth": 0,
             "ticks": ""
            },
            "type": "choropleth"
           }
          ],
          "contour": [
           {
            "colorbar": {
             "outlinewidth": 0,
             "ticks": ""
            },
            "colorscale": [
             [
              0,
              "#0d0887"
             ],
             [
              0.1111111111111111,
              "#46039f"
             ],
             [
              0.2222222222222222,
              "#7201a8"
             ],
             [
              0.3333333333333333,
              "#9c179e"
             ],
             [
              0.4444444444444444,
              "#bd3786"
             ],
             [
              0.5555555555555556,
              "#d8576b"
             ],
             [
              0.6666666666666666,
              "#ed7953"
             ],
             [
              0.7777777777777778,
              "#fb9f3a"
             ],
             [
              0.8888888888888888,
              "#fdca26"
             ],
             [
              1,
              "#f0f921"
             ]
            ],
            "type": "contour"
           }
          ],
          "contourcarpet": [
           {
            "colorbar": {
             "outlinewidth": 0,
             "ticks": ""
            },
            "type": "contourcarpet"
           }
          ],
          "heatmap": [
           {
            "colorbar": {
             "outlinewidth": 0,
             "ticks": ""
            },
            "colorscale": [
             [
              0,
              "#0d0887"
             ],
             [
              0.1111111111111111,
              "#46039f"
             ],
             [
              0.2222222222222222,
              "#7201a8"
             ],
             [
              0.3333333333333333,
              "#9c179e"
             ],
             [
              0.4444444444444444,
              "#bd3786"
             ],
             [
              0.5555555555555556,
              "#d8576b"
             ],
             [
              0.6666666666666666,
              "#ed7953"
             ],
             [
              0.7777777777777778,
              "#fb9f3a"
             ],
             [
              0.8888888888888888,
              "#fdca26"
             ],
             [
              1,
              "#f0f921"
             ]
            ],
            "type": "heatmap"
           }
          ],
          "heatmapgl": [
           {
            "colorbar": {
             "outlinewidth": 0,
             "ticks": ""
            },
            "colorscale": [
             [
              0,
              "#0d0887"
             ],
             [
              0.1111111111111111,
              "#46039f"
             ],
             [
              0.2222222222222222,
              "#7201a8"
             ],
             [
              0.3333333333333333,
              "#9c179e"
             ],
             [
              0.4444444444444444,
              "#bd3786"
             ],
             [
              0.5555555555555556,
              "#d8576b"
             ],
             [
              0.6666666666666666,
              "#ed7953"
             ],
             [
              0.7777777777777778,
              "#fb9f3a"
             ],
             [
              0.8888888888888888,
              "#fdca26"
             ],
             [
              1,
              "#f0f921"
             ]
            ],
            "type": "heatmapgl"
           }
          ],
          "histogram": [
           {
            "marker": {
             "pattern": {
              "fillmode": "overlay",
              "size": 10,
              "solidity": 0.2
             }
            },
            "type": "histogram"
           }
          ],
          "histogram2d": [
           {
            "colorbar": {
             "outlinewidth": 0,
             "ticks": ""
            },
            "colorscale": [
             [
              0,
              "#0d0887"
             ],
             [
              0.1111111111111111,
              "#46039f"
             ],
             [
              0.2222222222222222,
              "#7201a8"
             ],
             [
              0.3333333333333333,
              "#9c179e"
             ],
             [
              0.4444444444444444,
              "#bd3786"
             ],
             [
              0.5555555555555556,
              "#d8576b"
             ],
             [
              0.6666666666666666,
              "#ed7953"
             ],
             [
              0.7777777777777778,
              "#fb9f3a"
             ],
             [
              0.8888888888888888,
              "#fdca26"
             ],
             [
              1,
              "#f0f921"
             ]
            ],
            "type": "histogram2d"
           }
          ],
          "histogram2dcontour": [
           {
            "colorbar": {
             "outlinewidth": 0,
             "ticks": ""
            },
            "colorscale": [
             [
              0,
              "#0d0887"
             ],
             [
              0.1111111111111111,
              "#46039f"
             ],
             [
              0.2222222222222222,
              "#7201a8"
             ],
             [
              0.3333333333333333,
              "#9c179e"
             ],
             [
              0.4444444444444444,
              "#bd3786"
             ],
             [
              0.5555555555555556,
              "#d8576b"
             ],
             [
              0.6666666666666666,
              "#ed7953"
             ],
             [
              0.7777777777777778,
              "#fb9f3a"
             ],
             [
              0.8888888888888888,
              "#fdca26"
             ],
             [
              1,
              "#f0f921"
             ]
            ],
            "type": "histogram2dcontour"
           }
          ],
          "mesh3d": [
           {
            "colorbar": {
             "outlinewidth": 0,
             "ticks": ""
            },
            "type": "mesh3d"
           }
          ],
          "parcoords": [
           {
            "line": {
             "colorbar": {
              "outlinewidth": 0,
              "ticks": ""
             }
            },
            "type": "parcoords"
           }
          ],
          "pie": [
           {
            "automargin": true,
            "type": "pie"
           }
          ],
          "scatter": [
           {
            "marker": {
             "colorbar": {
              "outlinewidth": 0,
              "ticks": ""
             }
            },
            "type": "scatter"
           }
          ],
          "scatter3d": [
           {
            "line": {
             "colorbar": {
              "outlinewidth": 0,
              "ticks": ""
             }
            },
            "marker": {
             "colorbar": {
              "outlinewidth": 0,
              "ticks": ""
             }
            },
            "type": "scatter3d"
           }
          ],
          "scattercarpet": [
           {
            "marker": {
             "colorbar": {
              "outlinewidth": 0,
              "ticks": ""
             }
            },
            "type": "scattercarpet"
           }
          ],
          "scattergeo": [
           {
            "marker": {
             "colorbar": {
              "outlinewidth": 0,
              "ticks": ""
             }
            },
            "type": "scattergeo"
           }
          ],
          "scattergl": [
           {
            "marker": {
             "colorbar": {
              "outlinewidth": 0,
              "ticks": ""
             }
            },
            "type": "scattergl"
           }
          ],
          "scattermapbox": [
           {
            "marker": {
             "colorbar": {
              "outlinewidth": 0,
              "ticks": ""
             }
            },
            "type": "scattermapbox"
           }
          ],
          "scatterpolar": [
           {
            "marker": {
             "colorbar": {
              "outlinewidth": 0,
              "ticks": ""
             }
            },
            "type": "scatterpolar"
           }
          ],
          "scatterpolargl": [
           {
            "marker": {
             "colorbar": {
              "outlinewidth": 0,
              "ticks": ""
             }
            },
            "type": "scatterpolargl"
           }
          ],
          "scatterternary": [
           {
            "marker": {
             "colorbar": {
              "outlinewidth": 0,
              "ticks": ""
             }
            },
            "type": "scatterternary"
           }
          ],
          "surface": [
           {
            "colorbar": {
             "outlinewidth": 0,
             "ticks": ""
            },
            "colorscale": [
             [
              0,
              "#0d0887"
             ],
             [
              0.1111111111111111,
              "#46039f"
             ],
             [
              0.2222222222222222,
              "#7201a8"
             ],
             [
              0.3333333333333333,
              "#9c179e"
             ],
             [
              0.4444444444444444,
              "#bd3786"
             ],
             [
              0.5555555555555556,
              "#d8576b"
             ],
             [
              0.6666666666666666,
              "#ed7953"
             ],
             [
              0.7777777777777778,
              "#fb9f3a"
             ],
             [
              0.8888888888888888,
              "#fdca26"
             ],
             [
              1,
              "#f0f921"
             ]
            ],
            "type": "surface"
           }
          ],
          "table": [
           {
            "cells": {
             "fill": {
              "color": "#EBF0F8"
             },
             "line": {
              "color": "white"
             }
            },
            "header": {
             "fill": {
              "color": "#C8D4E3"
             },
             "line": {
              "color": "white"
             }
            },
            "type": "table"
           }
          ]
         },
         "layout": {
          "annotationdefaults": {
           "arrowcolor": "#2a3f5f",
           "arrowhead": 0,
           "arrowwidth": 1
          },
          "autotypenumbers": "strict",
          "coloraxis": {
           "colorbar": {
            "outlinewidth": 0,
            "ticks": ""
           }
          },
          "colorscale": {
           "diverging": [
            [
             0,
             "#8e0152"
            ],
            [
             0.1,
             "#c51b7d"
            ],
            [
             0.2,
             "#de77ae"
            ],
            [
             0.3,
             "#f1b6da"
            ],
            [
             0.4,
             "#fde0ef"
            ],
            [
             0.5,
             "#f7f7f7"
            ],
            [
             0.6,
             "#e6f5d0"
            ],
            [
             0.7,
             "#b8e186"
            ],
            [
             0.8,
             "#7fbc41"
            ],
            [
             0.9,
             "#4d9221"
            ],
            [
             1,
             "#276419"
            ]
           ],
           "sequential": [
            [
             0,
             "#0d0887"
            ],
            [
             0.1111111111111111,
             "#46039f"
            ],
            [
             0.2222222222222222,
             "#7201a8"
            ],
            [
             0.3333333333333333,
             "#9c179e"
            ],
            [
             0.4444444444444444,
             "#bd3786"
            ],
            [
             0.5555555555555556,
             "#d8576b"
            ],
            [
             0.6666666666666666,
             "#ed7953"
            ],
            [
             0.7777777777777778,
             "#fb9f3a"
            ],
            [
             0.8888888888888888,
             "#fdca26"
            ],
            [
             1,
             "#f0f921"
            ]
           ],
           "sequentialminus": [
            [
             0,
             "#0d0887"
            ],
            [
             0.1111111111111111,
             "#46039f"
            ],
            [
             0.2222222222222222,
             "#7201a8"
            ],
            [
             0.3333333333333333,
             "#9c179e"
            ],
            [
             0.4444444444444444,
             "#bd3786"
            ],
            [
             0.5555555555555556,
             "#d8576b"
            ],
            [
             0.6666666666666666,
             "#ed7953"
            ],
            [
             0.7777777777777778,
             "#fb9f3a"
            ],
            [
             0.8888888888888888,
             "#fdca26"
            ],
            [
             1,
             "#f0f921"
            ]
           ]
          },
          "colorway": [
           "#636efa",
           "#EF553B",
           "#00cc96",
           "#ab63fa",
           "#FFA15A",
           "#19d3f3",
           "#FF6692",
           "#B6E880",
           "#FF97FF",
           "#FECB52"
          ],
          "font": {
           "color": "#2a3f5f"
          },
          "geo": {
           "bgcolor": "white",
           "lakecolor": "white",
           "landcolor": "#E5ECF6",
           "showlakes": true,
           "showland": true,
           "subunitcolor": "white"
          },
          "hoverlabel": {
           "align": "left"
          },
          "hovermode": "closest",
          "mapbox": {
           "style": "light"
          },
          "paper_bgcolor": "white",
          "plot_bgcolor": "#E5ECF6",
          "polar": {
           "angularaxis": {
            "gridcolor": "white",
            "linecolor": "white",
            "ticks": ""
           },
           "bgcolor": "#E5ECF6",
           "radialaxis": {
            "gridcolor": "white",
            "linecolor": "white",
            "ticks": ""
           }
          },
          "scene": {
           "xaxis": {
            "backgroundcolor": "#E5ECF6",
            "gridcolor": "white",
            "gridwidth": 2,
            "linecolor": "white",
            "showbackground": true,
            "ticks": "",
            "zerolinecolor": "white"
           },
           "yaxis": {
            "backgroundcolor": "#E5ECF6",
            "gridcolor": "white",
            "gridwidth": 2,
            "linecolor": "white",
            "showbackground": true,
            "ticks": "",
            "zerolinecolor": "white"
           },
           "zaxis": {
            "backgroundcolor": "#E5ECF6",
            "gridcolor": "white",
            "gridwidth": 2,
            "linecolor": "white",
            "showbackground": true,
            "ticks": "",
            "zerolinecolor": "white"
           }
          },
          "shapedefaults": {
           "line": {
            "color": "#2a3f5f"
           }
          },
          "ternary": {
           "aaxis": {
            "gridcolor": "white",
            "linecolor": "white",
            "ticks": ""
           },
           "baxis": {
            "gridcolor": "white",
            "linecolor": "white",
            "ticks": ""
           },
           "bgcolor": "#E5ECF6",
           "caxis": {
            "gridcolor": "white",
            "linecolor": "white",
            "ticks": ""
           }
          },
          "title": {
           "x": 0.05
          },
          "xaxis": {
           "automargin": true,
           "gridcolor": "white",
           "linecolor": "white",
           "ticks": "",
           "title": {
            "standoff": 15
           },
           "zerolinecolor": "white",
           "zerolinewidth": 2
          },
          "yaxis": {
           "automargin": true,
           "gridcolor": "white",
           "linecolor": "white",
           "ticks": "",
           "title": {
            "standoff": 15
           },
           "zerolinecolor": "white",
           "zerolinewidth": 2
          }
         }
        },
        "title": {
         "text": "Bar plot of year & pop Based on iso_alpha"
        },
        "xaxis": {
         "anchor": "y",
         "domain": [
          0,
          1
         ],
         "title": {
          "text": "country"
         }
        },
        "yaxis": {
         "anchor": "x",
         "domain": [
          0,
          1
         ],
         "title": {
          "text": "pop"
         }
        }
       }
      },
      "text/html": [
       "<div>                            <div id=\"ba2de127-be14-4a24-a1cc-fc06cf6f584c\" class=\"plotly-graph-div\" style=\"height:525px; width:100%;\"></div>            <script type=\"text/javascript\">                require([\"plotly\"], function(Plotly) {                    window.PLOTLYENV=window.PLOTLYENV || {};                                    if (document.getElementById(\"ba2de127-be14-4a24-a1cc-fc06cf6f584c\")) {                    Plotly.newPlot(                        \"ba2de127-be14-4a24-a1cc-fc06cf6f584c\",                        [{\"alignmentgroup\":\"True\",\"hovertemplate\":\"continent=Asia<br>country=%{x}<br>pop=%{y}<extra></extra>\",\"legendgroup\":\"Asia\",\"marker\":{\"color\":\"#636efa\",\"pattern\":{\"shape\":\"\"}},\"name\":\"Asia\",\"offsetgroup\":\"Asia\",\"orientation\":\"v\",\"showlegend\":true,\"textposition\":\"auto\",\"type\":\"bar\",\"x\":[\"Afghanistan\",\"Afghanistan\",\"Afghanistan\",\"Afghanistan\",\"Afghanistan\",\"Afghanistan\",\"Afghanistan\",\"Afghanistan\",\"Afghanistan\",\"Afghanistan\",\"Afghanistan\",\"Afghanistan\",\"Bahrain\",\"Bahrain\",\"Bahrain\",\"Bahrain\",\"Bahrain\",\"Bahrain\",\"Bahrain\",\"Bahrain\",\"Bahrain\",\"Bahrain\",\"Bahrain\",\"Bahrain\",\"Bangladesh\",\"Bangladesh\",\"Bangladesh\",\"Bangladesh\",\"Bangladesh\",\"Bangladesh\",\"Bangladesh\",\"Bangladesh\",\"Bangladesh\",\"Bangladesh\",\"Bangladesh\",\"Bangladesh\",\"Cambodia\",\"Cambodia\",\"Cambodia\",\"Cambodia\",\"Cambodia\",\"Cambodia\",\"Cambodia\",\"Cambodia\",\"Cambodia\",\"Cambodia\",\"Cambodia\",\"Cambodia\",\"China\",\"China\",\"China\",\"China\",\"China\",\"China\",\"China\",\"China\",\"China\",\"China\",\"China\",\"China\",\"Hong Kong, China\",\"Hong Kong, China\",\"Hong Kong, China\",\"Hong Kong, China\",\"Hong Kong, China\",\"Hong Kong, China\",\"Hong Kong, China\",\"Hong Kong, China\",\"Hong Kong, China\",\"Hong Kong, China\",\"Hong Kong, China\",\"Hong Kong, China\",\"India\",\"India\",\"India\",\"India\",\"India\",\"India\",\"India\",\"India\",\"India\",\"India\",\"India\",\"India\",\"Indonesia\",\"Indonesia\",\"Indonesia\",\"Indonesia\",\"Indonesia\",\"Indonesia\",\"Indonesia\",\"Indonesia\",\"Indonesia\",\"Indonesia\",\"Indonesia\",\"Indonesia\",\"Iran\",\"Iran\",\"Iran\",\"Iran\",\"Iran\",\"Iran\",\"Iran\",\"Iran\",\"Iran\",\"Iran\",\"Iran\",\"Iran\",\"Iraq\",\"Iraq\",\"Iraq\",\"Iraq\",\"Iraq\",\"Iraq\",\"Iraq\",\"Iraq\",\"Iraq\",\"Iraq\",\"Iraq\",\"Iraq\",\"Israel\",\"Israel\",\"Israel\",\"Israel\",\"Israel\",\"Israel\",\"Israel\",\"Israel\",\"Israel\",\"Israel\",\"Israel\",\"Israel\",\"Japan\",\"Japan\",\"Japan\",\"Japan\",\"Japan\",\"Japan\",\"Japan\",\"Japan\",\"Japan\",\"Japan\",\"Japan\",\"Japan\",\"Jordan\",\"Jordan\",\"Jordan\",\"Jordan\",\"Jordan\",\"Jordan\",\"Jordan\",\"Jordan\",\"Jordan\",\"Jordan\",\"Jordan\",\"Jordan\",\"Korea, Dem. Rep.\",\"Korea, Dem. Rep.\",\"Korea, Dem. Rep.\",\"Korea, Dem. Rep.\",\"Korea, Dem. Rep.\",\"Korea, Dem. Rep.\",\"Korea, Dem. Rep.\",\"Korea, Dem. Rep.\",\"Korea, Dem. Rep.\",\"Korea, Dem. Rep.\",\"Korea, Dem. Rep.\",\"Korea, Dem. Rep.\",\"Korea, Rep.\",\"Korea, Rep.\",\"Korea, Rep.\",\"Korea, Rep.\",\"Korea, Rep.\",\"Korea, Rep.\",\"Korea, Rep.\",\"Korea, Rep.\",\"Korea, Rep.\",\"Korea, Rep.\",\"Korea, Rep.\",\"Korea, Rep.\",\"Kuwait\",\"Kuwait\",\"Kuwait\",\"Kuwait\",\"Kuwait\",\"Kuwait\",\"Kuwait\",\"Kuwait\",\"Kuwait\",\"Kuwait\",\"Kuwait\",\"Kuwait\",\"Lebanon\",\"Lebanon\",\"Lebanon\",\"Lebanon\",\"Lebanon\",\"Lebanon\",\"Lebanon\",\"Lebanon\",\"Lebanon\",\"Lebanon\",\"Lebanon\",\"Lebanon\",\"Malaysia\",\"Malaysia\",\"Malaysia\",\"Malaysia\",\"Malaysia\",\"Malaysia\",\"Malaysia\",\"Malaysia\",\"Malaysia\",\"Malaysia\",\"Malaysia\",\"Malaysia\",\"Mongolia\",\"Mongolia\",\"Mongolia\",\"Mongolia\",\"Mongolia\",\"Mongolia\",\"Mongolia\",\"Mongolia\",\"Mongolia\",\"Mongolia\",\"Mongolia\",\"Mongolia\",\"Myanmar\",\"Myanmar\",\"Myanmar\",\"Myanmar\",\"Myanmar\",\"Myanmar\",\"Myanmar\",\"Myanmar\",\"Myanmar\",\"Myanmar\",\"Myanmar\",\"Myanmar\",\"Nepal\",\"Nepal\",\"Nepal\",\"Nepal\",\"Nepal\",\"Nepal\",\"Nepal\",\"Nepal\",\"Nepal\",\"Nepal\",\"Nepal\",\"Nepal\",\"Oman\",\"Oman\",\"Oman\",\"Oman\",\"Oman\",\"Oman\",\"Oman\",\"Oman\",\"Oman\",\"Oman\",\"Oman\",\"Oman\",\"Pakistan\",\"Pakistan\",\"Pakistan\",\"Pakistan\",\"Pakistan\",\"Pakistan\",\"Pakistan\",\"Pakistan\",\"Pakistan\",\"Pakistan\",\"Pakistan\",\"Pakistan\",\"Philippines\",\"Philippines\",\"Philippines\",\"Philippines\",\"Philippines\",\"Philippines\",\"Philippines\",\"Philippines\",\"Philippines\",\"Philippines\",\"Philippines\",\"Philippines\",\"Saudi Arabia\",\"Saudi Arabia\",\"Saudi Arabia\",\"Saudi Arabia\",\"Saudi Arabia\",\"Saudi Arabia\",\"Saudi Arabia\",\"Saudi Arabia\",\"Saudi Arabia\",\"Saudi Arabia\",\"Saudi Arabia\",\"Saudi Arabia\",\"Singapore\",\"Singapore\",\"Singapore\",\"Singapore\",\"Singapore\",\"Singapore\",\"Singapore\",\"Singapore\",\"Singapore\",\"Singapore\",\"Singapore\",\"Singapore\",\"Sri Lanka\",\"Sri Lanka\",\"Sri Lanka\",\"Sri Lanka\",\"Sri Lanka\",\"Sri Lanka\",\"Sri Lanka\",\"Sri Lanka\",\"Sri Lanka\",\"Sri Lanka\",\"Sri Lanka\",\"Sri Lanka\",\"Syria\",\"Syria\",\"Syria\",\"Syria\",\"Syria\",\"Syria\",\"Syria\",\"Syria\",\"Syria\",\"Syria\",\"Syria\",\"Syria\",\"Taiwan\",\"Taiwan\",\"Taiwan\",\"Taiwan\",\"Taiwan\",\"Taiwan\",\"Taiwan\",\"Taiwan\",\"Taiwan\",\"Taiwan\",\"Taiwan\",\"Taiwan\",\"Thailand\",\"Thailand\",\"Thailand\",\"Thailand\",\"Thailand\",\"Thailand\",\"Thailand\",\"Thailand\",\"Thailand\",\"Thailand\",\"Thailand\",\"Thailand\",\"Vietnam\",\"Vietnam\",\"Vietnam\",\"Vietnam\",\"Vietnam\",\"Vietnam\",\"Vietnam\",\"Vietnam\",\"Vietnam\",\"Vietnam\",\"Vietnam\",\"Vietnam\",\"West Bank and Gaza\",\"West Bank and Gaza\",\"West Bank and Gaza\",\"West Bank and Gaza\",\"West Bank and Gaza\",\"West Bank and Gaza\",\"West Bank and Gaza\",\"West Bank and Gaza\",\"West Bank and Gaza\",\"West Bank and Gaza\",\"West Bank and Gaza\",\"West Bank and Gaza\",\"Yemen, Rep.\",\"Yemen, Rep.\",\"Yemen, Rep.\",\"Yemen, Rep.\",\"Yemen, Rep.\",\"Yemen, Rep.\",\"Yemen, Rep.\",\"Yemen, Rep.\",\"Yemen, Rep.\",\"Yemen, Rep.\",\"Yemen, Rep.\",\"Yemen, Rep.\"],\"xaxis\":\"x\",\"y\":[8425333,9240934,10267083,11537966,13079460,14880372,12881816,13867957,16317921,22227415,25268405,31889923,120447,138655,171863,202182,230800,297410,377967,454612,529491,598561,656397,708573,46886859,51365468,56839289,62821884,70759295,80428306,93074406,103764241,113704579,123315288,135656790,150448339,4693836,5322536,6083619,6960067,7450606,6978607,7272485,8371791,10150094,11782962,12926707,14131858,556263527,637408000,665770000,754550000,862030000,943455000,1000281000,1084035000,1164970000,1230075000,1280400000,1318683096,2125900,2736300,3305200,3722800,4115700,4583700,5264500,5584510,5829696,6495918,6762476,6980412,372000000,409000000,454000000,506000000,567000000,634000000,708000000,788000000,872000000,959000000,1034172547,1110396331,82052000,90124000,99028000,109343000,121282000,136725000,153343000,169276000,184816000,199278000,211060000,223547000,17272000,19792000,22874000,26538000,30614000,35480679,43072751,51889696,60397973,63327987,66907826,69453570,5441766,6248643,7240260,8519282,10061506,11882916,14173318,16543189,17861905,20775703,24001816,27499638,1620914,1944401,2310904,2693585,3095893,3495918,3858421,4203148,4936550,5531387,6029529,6426679,86459025,91563009,95831757,100825279,107188273,113872473,118454974,122091325,124329269,125956499,127065841,127467972,607914,746559,933559,1255058,1613551,1937652,2347031,2820042,3867409,4526235,5307470,6053193,8865488,9411381,10917494,12617009,14781241,16325320,17647518,19067554,20711375,21585105,22215365,23301725,20947571,22611552,26420307,30131000,33505000,36436000,39326000,41622000,43805450,46173816,47969150,49044790,160000,212846,358266,575003,841934,1140357,1497494,1891487,1418095,1765345,2111561,2505559,1439529,1647412,1886848,2186894,2680018,3115787,3086876,3089353,3219994,3430388,3677780,3921278,6748378,7739235,8906385,10154878,11441462,12845381,14441916,16331785,18319502,20476091,22662365,24821286,800663,882134,1010280,1149500,1320500,1528000,1756032,2015133,2312802,2494803,2674234,2874127,20092996,21731844,23634436,25870271,28466390,31528087,34680442,38028578,40546538,43247867,45598081,47761980,9182536,9682338,10332057,11261690,12412593,13933198,15796314,17917180,20326209,23001113,25873917,28901790,507833,561977,628164,714775,829050,1004533,1301048,1593882,1915208,2283635,2713462,3204897,41346560,46679944,53100671,60641899,69325921,78152686,91462088,105186881,120065004,135564834,153403524,169270617,22438691,26072194,30325264,35356600,40850141,46850962,53456774,60017788,67185766,75012988,82995088,91077287,4005677,4419650,4943029,5618198,6472756,8128505,11254672,14619745,16945857,21229759,24501530,27601038,1127000,1445929,1750200,1977600,2152400,2325300,2651869,2794552,3235865,3802309,4197776,4553009,7982342,9128546,10421936,11737396,13016733,14116836,15410151,16495304,17587060,18698655,19576783,20378239,3661549,4149908,4834621,5680812,6701172,7932503,9410494,11242847,13219062,15081016,17155814,19314747,8550362,10164215,11918938,13648692,15226039,16785196,18501390,19757799,20686918,21628605,22454239,23174294,21289402,25041917,29263397,34024249,39276153,44148285,48827160,52910342,56667095,60216677,62806748,65068149,26246839,28998543,33796140,39463910,44655014,50533506,56142181,62826491,69940728,76048996,80908147,85262356,1030585,1070439,1133134,1142636,1089572,1261091,1425876,1691210,2104779,2826046,3389578,4018332,4963829,5498090,6120081,6740785,7407075,8403990,9657618,11219340,13367997,15826497,18701257,22211743],\"yaxis\":\"y\"},{\"alignmentgroup\":\"True\",\"hovertemplate\":\"continent=Europe<br>country=%{x}<br>pop=%{y}<extra></extra>\",\"legendgroup\":\"Europe\",\"marker\":{\"color\":\"#EF553B\",\"pattern\":{\"shape\":\"\"}},\"name\":\"Europe\",\"offsetgroup\":\"Europe\",\"orientation\":\"v\",\"showlegend\":true,\"textposition\":\"auto\",\"type\":\"bar\",\"x\":[\"Albania\",\"Albania\",\"Albania\",\"Albania\",\"Albania\",\"Albania\",\"Albania\",\"Albania\",\"Albania\",\"Albania\",\"Albania\",\"Albania\",\"Austria\",\"Austria\",\"Austria\",\"Austria\",\"Austria\",\"Austria\",\"Austria\",\"Austria\",\"Austria\",\"Austria\",\"Austria\",\"Austria\",\"Belgium\",\"Belgium\",\"Belgium\",\"Belgium\",\"Belgium\",\"Belgium\",\"Belgium\",\"Belgium\",\"Belgium\",\"Belgium\",\"Belgium\",\"Belgium\",\"Bosnia and Herzegovina\",\"Bosnia and Herzegovina\",\"Bosnia and Herzegovina\",\"Bosnia and Herzegovina\",\"Bosnia and Herzegovina\",\"Bosnia and Herzegovina\",\"Bosnia and Herzegovina\",\"Bosnia and Herzegovina\",\"Bosnia and Herzegovina\",\"Bosnia and Herzegovina\",\"Bosnia and Herzegovina\",\"Bosnia and Herzegovina\",\"Bulgaria\",\"Bulgaria\",\"Bulgaria\",\"Bulgaria\",\"Bulgaria\",\"Bulgaria\",\"Bulgaria\",\"Bulgaria\",\"Bulgaria\",\"Bulgaria\",\"Bulgaria\",\"Bulgaria\",\"Croatia\",\"Croatia\",\"Croatia\",\"Croatia\",\"Croatia\",\"Croatia\",\"Croatia\",\"Croatia\",\"Croatia\",\"Croatia\",\"Croatia\",\"Croatia\",\"Czech Republic\",\"Czech Republic\",\"Czech Republic\",\"Czech Republic\",\"Czech Republic\",\"Czech Republic\",\"Czech Republic\",\"Czech Republic\",\"Czech Republic\",\"Czech Republic\",\"Czech Republic\",\"Czech Republic\",\"Denmark\",\"Denmark\",\"Denmark\",\"Denmark\",\"Denmark\",\"Denmark\",\"Denmark\",\"Denmark\",\"Denmark\",\"Denmark\",\"Denmark\",\"Denmark\",\"Finland\",\"Finland\",\"Finland\",\"Finland\",\"Finland\",\"Finland\",\"Finland\",\"Finland\",\"Finland\",\"Finland\",\"Finland\",\"Finland\",\"France\",\"France\",\"France\",\"France\",\"France\",\"France\",\"France\",\"France\",\"France\",\"France\",\"France\",\"France\",\"Germany\",\"Germany\",\"Germany\",\"Germany\",\"Germany\",\"Germany\",\"Germany\",\"Germany\",\"Germany\",\"Germany\",\"Germany\",\"Germany\",\"Greece\",\"Greece\",\"Greece\",\"Greece\",\"Greece\",\"Greece\",\"Greece\",\"Greece\",\"Greece\",\"Greece\",\"Greece\",\"Greece\",\"Hungary\",\"Hungary\",\"Hungary\",\"Hungary\",\"Hungary\",\"Hungary\",\"Hungary\",\"Hungary\",\"Hungary\",\"Hungary\",\"Hungary\",\"Hungary\",\"Iceland\",\"Iceland\",\"Iceland\",\"Iceland\",\"Iceland\",\"Iceland\",\"Iceland\",\"Iceland\",\"Iceland\",\"Iceland\",\"Iceland\",\"Iceland\",\"Ireland\",\"Ireland\",\"Ireland\",\"Ireland\",\"Ireland\",\"Ireland\",\"Ireland\",\"Ireland\",\"Ireland\",\"Ireland\",\"Ireland\",\"Ireland\",\"Italy\",\"Italy\",\"Italy\",\"Italy\",\"Italy\",\"Italy\",\"Italy\",\"Italy\",\"Italy\",\"Italy\",\"Italy\",\"Italy\",\"Montenegro\",\"Montenegro\",\"Montenegro\",\"Montenegro\",\"Montenegro\",\"Montenegro\",\"Montenegro\",\"Montenegro\",\"Montenegro\",\"Montenegro\",\"Montenegro\",\"Montenegro\",\"Netherlands\",\"Netherlands\",\"Netherlands\",\"Netherlands\",\"Netherlands\",\"Netherlands\",\"Netherlands\",\"Netherlands\",\"Netherlands\",\"Netherlands\",\"Netherlands\",\"Netherlands\",\"Norway\",\"Norway\",\"Norway\",\"Norway\",\"Norway\",\"Norway\",\"Norway\",\"Norway\",\"Norway\",\"Norway\",\"Norway\",\"Norway\",\"Poland\",\"Poland\",\"Poland\",\"Poland\",\"Poland\",\"Poland\",\"Poland\",\"Poland\",\"Poland\",\"Poland\",\"Poland\",\"Poland\",\"Portugal\",\"Portugal\",\"Portugal\",\"Portugal\",\"Portugal\",\"Portugal\",\"Portugal\",\"Portugal\",\"Portugal\",\"Portugal\",\"Portugal\",\"Portugal\",\"Romania\",\"Romania\",\"Romania\",\"Romania\",\"Romania\",\"Romania\",\"Romania\",\"Romania\",\"Romania\",\"Romania\",\"Romania\",\"Romania\",\"Serbia\",\"Serbia\",\"Serbia\",\"Serbia\",\"Serbia\",\"Serbia\",\"Serbia\",\"Serbia\",\"Serbia\",\"Serbia\",\"Serbia\",\"Serbia\",\"Slovak Republic\",\"Slovak Republic\",\"Slovak Republic\",\"Slovak Republic\",\"Slovak Republic\",\"Slovak Republic\",\"Slovak Republic\",\"Slovak Republic\",\"Slovak Republic\",\"Slovak Republic\",\"Slovak Republic\",\"Slovak Republic\",\"Slovenia\",\"Slovenia\",\"Slovenia\",\"Slovenia\",\"Slovenia\",\"Slovenia\",\"Slovenia\",\"Slovenia\",\"Slovenia\",\"Slovenia\",\"Slovenia\",\"Slovenia\",\"Spain\",\"Spain\",\"Spain\",\"Spain\",\"Spain\",\"Spain\",\"Spain\",\"Spain\",\"Spain\",\"Spain\",\"Spain\",\"Spain\",\"Sweden\",\"Sweden\",\"Sweden\",\"Sweden\",\"Sweden\",\"Sweden\",\"Sweden\",\"Sweden\",\"Sweden\",\"Sweden\",\"Sweden\",\"Sweden\",\"Switzerland\",\"Switzerland\",\"Switzerland\",\"Switzerland\",\"Switzerland\",\"Switzerland\",\"Switzerland\",\"Switzerland\",\"Switzerland\",\"Switzerland\",\"Switzerland\",\"Switzerland\",\"Turkey\",\"Turkey\",\"Turkey\",\"Turkey\",\"Turkey\",\"Turkey\",\"Turkey\",\"Turkey\",\"Turkey\",\"Turkey\",\"Turkey\",\"Turkey\",\"United Kingdom\",\"United Kingdom\",\"United Kingdom\",\"United Kingdom\",\"United Kingdom\",\"United Kingdom\",\"United Kingdom\",\"United Kingdom\",\"United Kingdom\",\"United Kingdom\",\"United Kingdom\",\"United Kingdom\"],\"xaxis\":\"x\",\"y\":[1282697,1476505,1728137,1984060,2263554,2509048,2780097,3075321,3326498,3428038,3508512,3600523,6927772,6965860,7129864,7376998,7544201,7568430,7574613,7578903,7914969,8069876,8148312,8199783,8730405,8989111,9218400,9556500,9709100,9821800,9856303,9870200,10045622,10199787,10311970,10392226,2791000,3076000,3349000,3585000,3819000,4086000,4172693,4338977,4256013,3607000,4165416,4552198,7274900,7651254,8012946,8310226,8576200,8797022,8892098,8971958,8658506,8066057,7661799,7322858,3882229,3991242,4076557,4174366,4225310,4318673,4413368,4484310,4494013,4444595,4481020,4493312,9125183,9513758,9620282,9835109,9862158,10161915,10303704,10311597,10315702,10300707,10256295,10228744,4334000,4487831,4646899,4838800,4991596,5088419,5117810,5127024,5171393,5283663,5374693,5468120,4090500,4324000,4491443,4605744,4639657,4738902,4826933,4931729,5041039,5134406,5193039,5238460,42459667,44310863,47124000,49569000,51732000,53165019,54433565,55630100,57374179,58623428,59925035,61083916,69145952,71019069,73739117,76368453,78717088,78160773,78335266,77718298,80597764,82011073,82350671,82400996,7733250,8096218,8448233,8716441,8888628,9308479,9786480,9974490,10325429,10502372,10603863,10706290,9504000,9839000,10063000,10223422,10394091,10637171,10705535,10612740,10348684,10244684,10083313,9956108,147962,165110,182053,198676,209275,221823,233997,244676,259012,271192,288030,301931,2952156,2878220,2830000,2900100,3024400,3271900,3480000,3539900,3557761,3667233,3879155,4109086,47666000,49182000,50843200,52667100,54365564,56059245,56535636,56729703,56840847,57479469,57926999,58147733,413834,442829,474528,501035,527678,560073,562548,569473,621621,692651,720230,684736,10381988,11026383,11805689,12596822,13329874,13852989,14310401,14665278,15174244,15604464,16122830,16570613,3327728,3491938,3638919,3786019,3933004,4043205,4114787,4186147,4286357,4405672,4535591,4627926,25730551,28235346,30329617,31785378,33039545,34621254,36227381,37740710,38370697,38654957,38625976,38518241,8526050,8817650,9019800,9103000,8970450,9662600,9859650,9915289,9927680,10156415,10433867,10642836,16630000,17829327,18680721,19284814,20662648,21658597,22356726,22686371,22797027,22562458,22404337,22276056,6860147,7271135,7616060,7971222,8313288,8686367,9032824,9230783,9826397,10336594,10111559,10150265,3558137,3844277,4237384,4442238,4593433,4827803,5048043,5199318,5302888,5383010,5410052,5447502,1489518,1533070,1582962,1646912,1694510,1746919,1861252,1945870,1999210,2011612,2011497,2009245,28549870,29841614,31158061,32850275,34513161,36439000,37983310,38880702,39549438,39855442,40152517,40448191,7124673,7363802,7561588,7867931,8122293,8251648,8325260,8421403,8718867,8897619,8954175,9031088,4815000,5126000,5666000,6063000,6401400,6316424,6468126,6649942,6995447,7193761,7361757,7554661,22235677,25670939,29788695,33411317,37492953,42404033,47328791,52881328,58179144,63047647,67308928,71158647,50430000,51430000,53292000,54959000,56079000,56179000,56339704,56981620,57866349,58808266,59912431,60776238],\"yaxis\":\"y\"},{\"alignmentgroup\":\"True\",\"hovertemplate\":\"continent=Africa<br>country=%{x}<br>pop=%{y}<extra></extra>\",\"legendgroup\":\"Africa\",\"marker\":{\"color\":\"#00cc96\",\"pattern\":{\"shape\":\"\"}},\"name\":\"Africa\",\"offsetgroup\":\"Africa\",\"orientation\":\"v\",\"showlegend\":true,\"textposition\":\"auto\",\"type\":\"bar\",\"x\":[\"Algeria\",\"Algeria\",\"Algeria\",\"Algeria\",\"Algeria\",\"Algeria\",\"Algeria\",\"Algeria\",\"Algeria\",\"Algeria\",\"Algeria\",\"Algeria\",\"Angola\",\"Angola\",\"Angola\",\"Angola\",\"Angola\",\"Angola\",\"Angola\",\"Angola\",\"Angola\",\"Angola\",\"Angola\",\"Angola\",\"Benin\",\"Benin\",\"Benin\",\"Benin\",\"Benin\",\"Benin\",\"Benin\",\"Benin\",\"Benin\",\"Benin\",\"Benin\",\"Benin\",\"Botswana\",\"Botswana\",\"Botswana\",\"Botswana\",\"Botswana\",\"Botswana\",\"Botswana\",\"Botswana\",\"Botswana\",\"Botswana\",\"Botswana\",\"Botswana\",\"Burkina Faso\",\"Burkina Faso\",\"Burkina Faso\",\"Burkina Faso\",\"Burkina Faso\",\"Burkina Faso\",\"Burkina Faso\",\"Burkina Faso\",\"Burkina Faso\",\"Burkina Faso\",\"Burkina Faso\",\"Burkina Faso\",\"Burundi\",\"Burundi\",\"Burundi\",\"Burundi\",\"Burundi\",\"Burundi\",\"Burundi\",\"Burundi\",\"Burundi\",\"Burundi\",\"Burundi\",\"Burundi\",\"Cameroon\",\"Cameroon\",\"Cameroon\",\"Cameroon\",\"Cameroon\",\"Cameroon\",\"Cameroon\",\"Cameroon\",\"Cameroon\",\"Cameroon\",\"Cameroon\",\"Cameroon\",\"Central African Republic\",\"Central African Republic\",\"Central African Republic\",\"Central African Republic\",\"Central African Republic\",\"Central African Republic\",\"Central African Republic\",\"Central African Republic\",\"Central African Republic\",\"Central African Republic\",\"Central African Republic\",\"Central African Republic\",\"Chad\",\"Chad\",\"Chad\",\"Chad\",\"Chad\",\"Chad\",\"Chad\",\"Chad\",\"Chad\",\"Chad\",\"Chad\",\"Chad\",\"Comoros\",\"Comoros\",\"Comoros\",\"Comoros\",\"Comoros\",\"Comoros\",\"Comoros\",\"Comoros\",\"Comoros\",\"Comoros\",\"Comoros\",\"Comoros\",\"Congo, Dem. Rep.\",\"Congo, Dem. Rep.\",\"Congo, Dem. Rep.\",\"Congo, Dem. Rep.\",\"Congo, Dem. Rep.\",\"Congo, Dem. Rep.\",\"Congo, Dem. Rep.\",\"Congo, Dem. Rep.\",\"Congo, Dem. Rep.\",\"Congo, Dem. Rep.\",\"Congo, Dem. Rep.\",\"Congo, Dem. Rep.\",\"Congo, Rep.\",\"Congo, Rep.\",\"Congo, Rep.\",\"Congo, Rep.\",\"Congo, Rep.\",\"Congo, Rep.\",\"Congo, Rep.\",\"Congo, Rep.\",\"Congo, Rep.\",\"Congo, Rep.\",\"Congo, Rep.\",\"Congo, Rep.\",\"Cote d'Ivoire\",\"Cote d'Ivoire\",\"Cote d'Ivoire\",\"Cote d'Ivoire\",\"Cote d'Ivoire\",\"Cote d'Ivoire\",\"Cote d'Ivoire\",\"Cote d'Ivoire\",\"Cote d'Ivoire\",\"Cote d'Ivoire\",\"Cote d'Ivoire\",\"Cote d'Ivoire\",\"Djibouti\",\"Djibouti\",\"Djibouti\",\"Djibouti\",\"Djibouti\",\"Djibouti\",\"Djibouti\",\"Djibouti\",\"Djibouti\",\"Djibouti\",\"Djibouti\",\"Djibouti\",\"Egypt\",\"Egypt\",\"Egypt\",\"Egypt\",\"Egypt\",\"Egypt\",\"Egypt\",\"Egypt\",\"Egypt\",\"Egypt\",\"Egypt\",\"Egypt\",\"Equatorial Guinea\",\"Equatorial Guinea\",\"Equatorial Guinea\",\"Equatorial Guinea\",\"Equatorial Guinea\",\"Equatorial Guinea\",\"Equatorial Guinea\",\"Equatorial Guinea\",\"Equatorial Guinea\",\"Equatorial Guinea\",\"Equatorial Guinea\",\"Equatorial Guinea\",\"Eritrea\",\"Eritrea\",\"Eritrea\",\"Eritrea\",\"Eritrea\",\"Eritrea\",\"Eritrea\",\"Eritrea\",\"Eritrea\",\"Eritrea\",\"Eritrea\",\"Eritrea\",\"Ethiopia\",\"Ethiopia\",\"Ethiopia\",\"Ethiopia\",\"Ethiopia\",\"Ethiopia\",\"Ethiopia\",\"Ethiopia\",\"Ethiopia\",\"Ethiopia\",\"Ethiopia\",\"Ethiopia\",\"Gabon\",\"Gabon\",\"Gabon\",\"Gabon\",\"Gabon\",\"Gabon\",\"Gabon\",\"Gabon\",\"Gabon\",\"Gabon\",\"Gabon\",\"Gabon\",\"Gambia\",\"Gambia\",\"Gambia\",\"Gambia\",\"Gambia\",\"Gambia\",\"Gambia\",\"Gambia\",\"Gambia\",\"Gambia\",\"Gambia\",\"Gambia\",\"Ghana\",\"Ghana\",\"Ghana\",\"Ghana\",\"Ghana\",\"Ghana\",\"Ghana\",\"Ghana\",\"Ghana\",\"Ghana\",\"Ghana\",\"Ghana\",\"Guinea\",\"Guinea\",\"Guinea\",\"Guinea\",\"Guinea\",\"Guinea\",\"Guinea\",\"Guinea\",\"Guinea\",\"Guinea\",\"Guinea\",\"Guinea\",\"Guinea-Bissau\",\"Guinea-Bissau\",\"Guinea-Bissau\",\"Guinea-Bissau\",\"Guinea-Bissau\",\"Guinea-Bissau\",\"Guinea-Bissau\",\"Guinea-Bissau\",\"Guinea-Bissau\",\"Guinea-Bissau\",\"Guinea-Bissau\",\"Guinea-Bissau\",\"Kenya\",\"Kenya\",\"Kenya\",\"Kenya\",\"Kenya\",\"Kenya\",\"Kenya\",\"Kenya\",\"Kenya\",\"Kenya\",\"Kenya\",\"Kenya\",\"Lesotho\",\"Lesotho\",\"Lesotho\",\"Lesotho\",\"Lesotho\",\"Lesotho\",\"Lesotho\",\"Lesotho\",\"Lesotho\",\"Lesotho\",\"Lesotho\",\"Lesotho\",\"Liberia\",\"Liberia\",\"Liberia\",\"Liberia\",\"Liberia\",\"Liberia\",\"Liberia\",\"Liberia\",\"Liberia\",\"Liberia\",\"Liberia\",\"Liberia\",\"Libya\",\"Libya\",\"Libya\",\"Libya\",\"Libya\",\"Libya\",\"Libya\",\"Libya\",\"Libya\",\"Libya\",\"Libya\",\"Libya\",\"Madagascar\",\"Madagascar\",\"Madagascar\",\"Madagascar\",\"Madagascar\",\"Madagascar\",\"Madagascar\",\"Madagascar\",\"Madagascar\",\"Madagascar\",\"Madagascar\",\"Madagascar\",\"Malawi\",\"Malawi\",\"Malawi\",\"Malawi\",\"Malawi\",\"Malawi\",\"Malawi\",\"Malawi\",\"Malawi\",\"Malawi\",\"Malawi\",\"Malawi\",\"Mali\",\"Mali\",\"Mali\",\"Mali\",\"Mali\",\"Mali\",\"Mali\",\"Mali\",\"Mali\",\"Mali\",\"Mali\",\"Mali\",\"Mauritania\",\"Mauritania\",\"Mauritania\",\"Mauritania\",\"Mauritania\",\"Mauritania\",\"Mauritania\",\"Mauritania\",\"Mauritania\",\"Mauritania\",\"Mauritania\",\"Mauritania\",\"Mauritius\",\"Mauritius\",\"Mauritius\",\"Mauritius\",\"Mauritius\",\"Mauritius\",\"Mauritius\",\"Mauritius\",\"Mauritius\",\"Mauritius\",\"Mauritius\",\"Mauritius\",\"Morocco\",\"Morocco\",\"Morocco\",\"Morocco\",\"Morocco\",\"Morocco\",\"Morocco\",\"Morocco\",\"Morocco\",\"Morocco\",\"Morocco\",\"Morocco\",\"Mozambique\",\"Mozambique\",\"Mozambique\",\"Mozambique\",\"Mozambique\",\"Mozambique\",\"Mozambique\",\"Mozambique\",\"Mozambique\",\"Mozambique\",\"Mozambique\",\"Mozambique\",\"Namibia\",\"Namibia\",\"Namibia\",\"Namibia\",\"Namibia\",\"Namibia\",\"Namibia\",\"Namibia\",\"Namibia\",\"Namibia\",\"Namibia\",\"Namibia\",\"Niger\",\"Niger\",\"Niger\",\"Niger\",\"Niger\",\"Niger\",\"Niger\",\"Niger\",\"Niger\",\"Niger\",\"Niger\",\"Niger\",\"Nigeria\",\"Nigeria\",\"Nigeria\",\"Nigeria\",\"Nigeria\",\"Nigeria\",\"Nigeria\",\"Nigeria\",\"Nigeria\",\"Nigeria\",\"Nigeria\",\"Nigeria\",\"Reunion\",\"Reunion\",\"Reunion\",\"Reunion\",\"Reunion\",\"Reunion\",\"Reunion\",\"Reunion\",\"Reunion\",\"Reunion\",\"Reunion\",\"Reunion\",\"Rwanda\",\"Rwanda\",\"Rwanda\",\"Rwanda\",\"Rwanda\",\"Rwanda\",\"Rwanda\",\"Rwanda\",\"Rwanda\",\"Rwanda\",\"Rwanda\",\"Rwanda\",\"Sao Tome and Principe\",\"Sao Tome and Principe\",\"Sao Tome and Principe\",\"Sao Tome and Principe\",\"Sao Tome and Principe\",\"Sao Tome and Principe\",\"Sao Tome and Principe\",\"Sao Tome and Principe\",\"Sao Tome and Principe\",\"Sao Tome and Principe\",\"Sao Tome and Principe\",\"Sao Tome and Principe\",\"Senegal\",\"Senegal\",\"Senegal\",\"Senegal\",\"Senegal\",\"Senegal\",\"Senegal\",\"Senegal\",\"Senegal\",\"Senegal\",\"Senegal\",\"Senegal\",\"Sierra Leone\",\"Sierra Leone\",\"Sierra Leone\",\"Sierra Leone\",\"Sierra Leone\",\"Sierra Leone\",\"Sierra Leone\",\"Sierra Leone\",\"Sierra Leone\",\"Sierra Leone\",\"Sierra Leone\",\"Sierra Leone\",\"Somalia\",\"Somalia\",\"Somalia\",\"Somalia\",\"Somalia\",\"Somalia\",\"Somalia\",\"Somalia\",\"Somalia\",\"Somalia\",\"Somalia\",\"Somalia\",\"South Africa\",\"South Africa\",\"South Africa\",\"South Africa\",\"South Africa\",\"South Africa\",\"South Africa\",\"South Africa\",\"South Africa\",\"South Africa\",\"South Africa\",\"South Africa\",\"Sudan\",\"Sudan\",\"Sudan\",\"Sudan\",\"Sudan\",\"Sudan\",\"Sudan\",\"Sudan\",\"Sudan\",\"Sudan\",\"Sudan\",\"Sudan\",\"Swaziland\",\"Swaziland\",\"Swaziland\",\"Swaziland\",\"Swaziland\",\"Swaziland\",\"Swaziland\",\"Swaziland\",\"Swaziland\",\"Swaziland\",\"Swaziland\",\"Swaziland\",\"Tanzania\",\"Tanzania\",\"Tanzania\",\"Tanzania\",\"Tanzania\",\"Tanzania\",\"Tanzania\",\"Tanzania\",\"Tanzania\",\"Tanzania\",\"Tanzania\",\"Tanzania\",\"Togo\",\"Togo\",\"Togo\",\"Togo\",\"Togo\",\"Togo\",\"Togo\",\"Togo\",\"Togo\",\"Togo\",\"Togo\",\"Togo\",\"Tunisia\",\"Tunisia\",\"Tunisia\",\"Tunisia\",\"Tunisia\",\"Tunisia\",\"Tunisia\",\"Tunisia\",\"Tunisia\",\"Tunisia\",\"Tunisia\",\"Tunisia\",\"Uganda\",\"Uganda\",\"Uganda\",\"Uganda\",\"Uganda\",\"Uganda\",\"Uganda\",\"Uganda\",\"Uganda\",\"Uganda\",\"Uganda\",\"Uganda\",\"Zambia\",\"Zambia\",\"Zambia\",\"Zambia\",\"Zambia\",\"Zambia\",\"Zambia\",\"Zambia\",\"Zambia\",\"Zambia\",\"Zambia\",\"Zambia\",\"Zimbabwe\",\"Zimbabwe\",\"Zimbabwe\",\"Zimbabwe\",\"Zimbabwe\",\"Zimbabwe\",\"Zimbabwe\",\"Zimbabwe\",\"Zimbabwe\",\"Zimbabwe\",\"Zimbabwe\",\"Zimbabwe\"],\"xaxis\":\"x\",\"y\":[9279525,10270856,11000948,12760499,14760787,17152804,20033753,23254956,26298373,29072015,31287142,33333216,4232095,4561361,4826015,5247469,5894858,6162675,7016384,7874230,8735988,9875024,10866106,12420476,1738315,1925173,2151895,2427334,2761407,3168267,3641603,4243788,4981671,6066080,7026113,8078314,442308,474639,512764,553541,619351,781472,970347,1151184,1342614,1536536,1630347,1639131,4469979,4713416,4919632,5127935,5433886,5889574,6634596,7586551,8878303,10352843,12251209,14326203,2445618,2667518,2961915,3330989,3529983,3834415,4580410,5126023,5809236,6121610,7021078,8390505,5009067,5359923,5793633,6335506,7021028,7959865,9250831,10780667,12467171,14195809,15929988,17696293,1291695,1392284,1523478,1733638,1927260,2167533,2476971,2840009,3265124,3696513,4048013,4369038,2682462,2894855,3150417,3495967,3899068,4388260,4875118,5498955,6429417,7562011,8835739,10238807,153936,170928,191689,217378,250027,304739,348643,395114,454429,527982,614382,710960,14100005,15577932,17486434,19941073,23007669,26480870,30646495,35481645,41672143,47798986,55379852,64606759,854885,940458,1047924,1179760,1340458,1536769,1774735,2064095,2409073,2800947,3328795,3800610,2977019,3300000,3832408,4744870,6071696,7459574,9025951,10761098,12772596,14625967,16252726,18013409,63149,71851,89898,127617,178848,228694,305991,311025,384156,417908,447416,496374,22223309,25009741,28173309,31681188,34807417,38783863,45681811,52799062,59402198,66134291,73312559,80264543,216964,232922,249220,259864,277603,192675,285483,341244,387838,439971,495627,551201,1438760,1542611,1666618,1820319,2260187,2512642,2637297,2915959,3668440,4058319,4414865,4906585,20860941,22815614,25145372,27860297,30770372,34617799,38111756,42999530,52088559,59861301,67946797,76511887,420702,434904,455661,489004,537977,706367,753874,880397,985739,1126189,1299304,1454867,284320,323150,374020,439593,517101,608274,715523,848406,1025384,1235767,1457766,1688359,5581001,6391288,7355248,8490213,9354120,10538093,11400338,14168101,16278738,18418288,20550751,22873338,2664249,2876726,3140003,3451418,3811387,4227026,4710497,5650262,6990574,8048834,8807818,9947814,580653,601095,627820,601287,625361,745228,825987,927524,1050938,1193708,1332459,1472041,6464046,7454779,8678557,10191512,12044785,14500404,17661452,21198082,25020539,28263827,31386842,35610177,748747,813338,893143,996380,1116779,1251524,1411807,1599200,1803195,1982823,2046772,2012649,863308,975950,1112796,1279406,1482628,1703617,1956875,2269414,1912974,2200725,2814651,3193942,1019729,1201578,1441863,1759224,2183877,2721783,3344074,3799845,4364501,4759670,5368585,6036914,4762912,5181679,5703324,6334556,7082430,8007166,9171477,10568642,12210395,14165114,16473477,19167654,2917802,3221238,3628608,4147252,4730997,5637246,6502825,7824747,10014249,10419991,11824495,13327079,3838168,4241884,4690372,5212416,5828158,6491649,6998256,7634008,8416215,9384984,10580176,12031795,1022556,1076852,1146757,1230542,1332786,1456688,1622136,1841240,2119465,2444741,2828858,3270065,516556,609816,701016,789309,851334,913025,992040,1042663,1096202,1149818,1200206,1250882,9939217,11406350,13056604,14770296,16660670,18396941,20198730,22987397,25798239,28529501,31167783,33757175,6446316,7038035,7788944,8680909,9809596,11127868,12587223,12891952,13160731,16603334,18473780,19951656,485831,548080,621392,706640,821782,977026,1099010,1278184,1554253,1774766,1972153,2055080,3379468,3692184,4076008,4534062,5060262,5682086,6437188,7332638,8392818,9666252,11140655,12894865,33119096,37173340,41871351,47287752,53740085,62209173,73039376,81551520,93364244,106207839,119901274,135031164,257700,308700,358900,414024,461633,492095,517810,562035,622191,684810,743981,798094,2534927,2822082,3051242,3451079,3992121,4657072,5507565,6349365,7290203,7212583,7852401,8860588,60011,61325,65345,70787,76595,86796,98593,110812,125911,145608,170372,199579,2755589,3054547,3430243,3965841,4588696,5260855,6147783,7171347,8307920,9535314,10870037,12267493,2143249,2295678,2467895,2662190,2879013,3140897,3464522,3868905,4260884,4578212,5359092,6144562,2526994,2780415,3080153,3428839,3840161,4353666,5828892,6921858,6099799,6633514,7753310,9118773,14264935,16151549,18356657,20997321,23935810,27129932,31140029,35933379,39964159,42835005,44433622,43997828,8504667,9753392,11183227,12716129,14597019,17104986,20367053,24725960,28227588,32160729,37090298,42292929,290243,326741,370006,420690,480105,551425,649901,779348,962344,1054486,1130269,1133066,8322925,9452826,10863958,12607312,14706593,17129565,19844382,23040630,26605473,30686889,34593779,38139640,1219113,1357445,1528098,1735550,2056351,2308582,2644765,3154264,3747553,4320890,4977378,5701579,3647735,3950849,4286552,4786986,5303507,6005061,6734098,7724976,8523077,9231669,9770575,10276158,5824797,6675501,7688797,8900294,10190285,11457758,12939400,15283050,18252190,21210254,24739869,29170398,2672000,3016000,3421000,3900000,4506497,5216550,6100407,7272406,8381163,9417789,10595811,11746035,3080907,3646340,4277736,4995432,5861135,6642107,7636524,9216418,10704340,11404948,11926563,12311143],\"yaxis\":\"y\"},{\"alignmentgroup\":\"True\",\"hovertemplate\":\"continent=Americas<br>country=%{x}<br>pop=%{y}<extra></extra>\",\"legendgroup\":\"Americas\",\"marker\":{\"color\":\"#ab63fa\",\"pattern\":{\"shape\":\"\"}},\"name\":\"Americas\",\"offsetgroup\":\"Americas\",\"orientation\":\"v\",\"showlegend\":true,\"textposition\":\"auto\",\"type\":\"bar\",\"x\":[\"Argentina\",\"Argentina\",\"Argentina\",\"Argentina\",\"Argentina\",\"Argentina\",\"Argentina\",\"Argentina\",\"Argentina\",\"Argentina\",\"Argentina\",\"Argentina\",\"Bolivia\",\"Bolivia\",\"Bolivia\",\"Bolivia\",\"Bolivia\",\"Bolivia\",\"Bolivia\",\"Bolivia\",\"Bolivia\",\"Bolivia\",\"Bolivia\",\"Bolivia\",\"Brazil\",\"Brazil\",\"Brazil\",\"Brazil\",\"Brazil\",\"Brazil\",\"Brazil\",\"Brazil\",\"Brazil\",\"Brazil\",\"Brazil\",\"Brazil\",\"Canada\",\"Canada\",\"Canada\",\"Canada\",\"Canada\",\"Canada\",\"Canada\",\"Canada\",\"Canada\",\"Canada\",\"Canada\",\"Canada\",\"Chile\",\"Chile\",\"Chile\",\"Chile\",\"Chile\",\"Chile\",\"Chile\",\"Chile\",\"Chile\",\"Chile\",\"Chile\",\"Chile\",\"Colombia\",\"Colombia\",\"Colombia\",\"Colombia\",\"Colombia\",\"Colombia\",\"Colombia\",\"Colombia\",\"Colombia\",\"Colombia\",\"Colombia\",\"Colombia\",\"Costa Rica\",\"Costa Rica\",\"Costa Rica\",\"Costa Rica\",\"Costa Rica\",\"Costa Rica\",\"Costa Rica\",\"Costa Rica\",\"Costa Rica\",\"Costa Rica\",\"Costa Rica\",\"Costa Rica\",\"Cuba\",\"Cuba\",\"Cuba\",\"Cuba\",\"Cuba\",\"Cuba\",\"Cuba\",\"Cuba\",\"Cuba\",\"Cuba\",\"Cuba\",\"Cuba\",\"Dominican Republic\",\"Dominican Republic\",\"Dominican Republic\",\"Dominican Republic\",\"Dominican Republic\",\"Dominican Republic\",\"Dominican Republic\",\"Dominican Republic\",\"Dominican Republic\",\"Dominican Republic\",\"Dominican Republic\",\"Dominican Republic\",\"Ecuador\",\"Ecuador\",\"Ecuador\",\"Ecuador\",\"Ecuador\",\"Ecuador\",\"Ecuador\",\"Ecuador\",\"Ecuador\",\"Ecuador\",\"Ecuador\",\"Ecuador\",\"El Salvador\",\"El Salvador\",\"El Salvador\",\"El Salvador\",\"El Salvador\",\"El Salvador\",\"El Salvador\",\"El Salvador\",\"El Salvador\",\"El Salvador\",\"El Salvador\",\"El Salvador\",\"Guatemala\",\"Guatemala\",\"Guatemala\",\"Guatemala\",\"Guatemala\",\"Guatemala\",\"Guatemala\",\"Guatemala\",\"Guatemala\",\"Guatemala\",\"Guatemala\",\"Guatemala\",\"Haiti\",\"Haiti\",\"Haiti\",\"Haiti\",\"Haiti\",\"Haiti\",\"Haiti\",\"Haiti\",\"Haiti\",\"Haiti\",\"Haiti\",\"Haiti\",\"Honduras\",\"Honduras\",\"Honduras\",\"Honduras\",\"Honduras\",\"Honduras\",\"Honduras\",\"Honduras\",\"Honduras\",\"Honduras\",\"Honduras\",\"Honduras\",\"Jamaica\",\"Jamaica\",\"Jamaica\",\"Jamaica\",\"Jamaica\",\"Jamaica\",\"Jamaica\",\"Jamaica\",\"Jamaica\",\"Jamaica\",\"Jamaica\",\"Jamaica\",\"Mexico\",\"Mexico\",\"Mexico\",\"Mexico\",\"Mexico\",\"Mexico\",\"Mexico\",\"Mexico\",\"Mexico\",\"Mexico\",\"Mexico\",\"Mexico\",\"Nicaragua\",\"Nicaragua\",\"Nicaragua\",\"Nicaragua\",\"Nicaragua\",\"Nicaragua\",\"Nicaragua\",\"Nicaragua\",\"Nicaragua\",\"Nicaragua\",\"Nicaragua\",\"Nicaragua\",\"Panama\",\"Panama\",\"Panama\",\"Panama\",\"Panama\",\"Panama\",\"Panama\",\"Panama\",\"Panama\",\"Panama\",\"Panama\",\"Panama\",\"Paraguay\",\"Paraguay\",\"Paraguay\",\"Paraguay\",\"Paraguay\",\"Paraguay\",\"Paraguay\",\"Paraguay\",\"Paraguay\",\"Paraguay\",\"Paraguay\",\"Paraguay\",\"Peru\",\"Peru\",\"Peru\",\"Peru\",\"Peru\",\"Peru\",\"Peru\",\"Peru\",\"Peru\",\"Peru\",\"Peru\",\"Peru\",\"Puerto Rico\",\"Puerto Rico\",\"Puerto Rico\",\"Puerto Rico\",\"Puerto Rico\",\"Puerto Rico\",\"Puerto Rico\",\"Puerto Rico\",\"Puerto Rico\",\"Puerto Rico\",\"Puerto Rico\",\"Puerto Rico\",\"Trinidad and Tobago\",\"Trinidad and Tobago\",\"Trinidad and Tobago\",\"Trinidad and Tobago\",\"Trinidad and Tobago\",\"Trinidad and Tobago\",\"Trinidad and Tobago\",\"Trinidad and Tobago\",\"Trinidad and Tobago\",\"Trinidad and Tobago\",\"Trinidad and Tobago\",\"Trinidad and Tobago\",\"United States\",\"United States\",\"United States\",\"United States\",\"United States\",\"United States\",\"United States\",\"United States\",\"United States\",\"United States\",\"United States\",\"United States\",\"Uruguay\",\"Uruguay\",\"Uruguay\",\"Uruguay\",\"Uruguay\",\"Uruguay\",\"Uruguay\",\"Uruguay\",\"Uruguay\",\"Uruguay\",\"Uruguay\",\"Uruguay\",\"Venezuela\",\"Venezuela\",\"Venezuela\",\"Venezuela\",\"Venezuela\",\"Venezuela\",\"Venezuela\",\"Venezuela\",\"Venezuela\",\"Venezuela\",\"Venezuela\",\"Venezuela\"],\"xaxis\":\"x\",\"y\":[17876956,19610538,21283783,22934225,24779799,26983828,29341374,31620918,33958947,36203463,38331121,40301927,2883315,3211738,3593918,4040665,4565872,5079716,5642224,6156369,6893451,7693188,8445134,9119152,56602560,65551171,76039390,88049823,100840058,114313951,128962939,142938076,155975974,168546719,179914212,190010647,14785584,17010154,18985849,20819767,22284500,23796400,25201900,26549700,28523502,30305843,31902268,33390141,6377619,7048426,7961258,8858908,9717524,10599793,11487112,12463354,13572994,14599929,15497046,16284741,12350771,14485993,17009885,19764027,22542890,25094412,27764644,30964245,34202721,37657830,41008227,44227550,926317,1112300,1345187,1588717,1834796,2108457,2424367,2799811,3173216,3518107,3834934,4133884,6007797,6640752,7254373,8139332,8831348,9537988,9789224,10239839,10723260,10983007,11226999,11416987,2491346,2923186,3453434,4049146,4671329,5302800,5968349,6655297,7351181,7992357,8650322,9319622,3548753,4058385,4681707,5432424,6298651,7278866,8365850,9545158,10748394,11911819,12921234,13755680,2042865,2355805,2747687,3232927,3790903,4282586,4474873,4842194,5274649,5783439,6353681,6939688,3146381,3640876,4208858,4690773,5149581,5703430,6395630,7326406,8486949,9803875,11178650,12572928,3201488,3507701,3880130,4318137,4698301,4908554,5198399,5756203,6326682,6913545,7607651,8502814,1517453,1770390,2090162,2500689,2965146,3055235,3669448,4372203,5077347,5867957,6677328,7483763,1426095,1535090,1665128,1861096,1997616,2156814,2298309,2326606,2378618,2531311,2664659,2780132,30144317,35015548,41121485,47995559,55984294,63759976,71640904,80122492,88111030,95895146,102479927,108700891,1165790,1358828,1590597,1865490,2182908,2554598,2979423,3344353,4017939,4609572,5146848,5675356,940080,1063506,1215725,1405486,1616384,1839782,2036305,2253639,2484997,2734531,2990875,3242173,1555876,1770902,2009813,2287985,2614104,2984494,3366439,3886512,4483945,5154123,5884491,6667147,8025700,9146100,10516500,12132200,13954700,15990099,18125129,20195924,22430449,24748122,26769436,28674757,2227000,2260000,2448046,2648961,2847132,3080828,3279001,3444468,3585176,3759430,3859606,3942491,662850,764900,887498,960155,975199,1039009,1116479,1191336,1183669,1138101,1101832,1056608,157553000,171984000,186538000,198712000,209896000,220239000,232187835,242803533,256894189,272911760,287675526,301139947,2252965,2424959,2598466,2748579,2829526,2873520,2953997,3045153,3149262,3262838,3363085,3447496,5439568,6702668,8143375,9709552,11515649,13503563,15620766,17910182,20265563,22374398,24287670,26084662],\"yaxis\":\"y\"},{\"alignmentgroup\":\"True\",\"hovertemplate\":\"continent=Oceania<br>country=%{x}<br>pop=%{y}<extra></extra>\",\"legendgroup\":\"Oceania\",\"marker\":{\"color\":\"#FFA15A\",\"pattern\":{\"shape\":\"\"}},\"name\":\"Oceania\",\"offsetgroup\":\"Oceania\",\"orientation\":\"v\",\"showlegend\":true,\"textposition\":\"auto\",\"type\":\"bar\",\"x\":[\"Australia\",\"Australia\",\"Australia\",\"Australia\",\"Australia\",\"Australia\",\"Australia\",\"Australia\",\"Australia\",\"Australia\",\"Australia\",\"Australia\",\"New Zealand\",\"New Zealand\",\"New Zealand\",\"New Zealand\",\"New Zealand\",\"New Zealand\",\"New Zealand\",\"New Zealand\",\"New Zealand\",\"New Zealand\",\"New Zealand\",\"New Zealand\"],\"xaxis\":\"x\",\"y\":[8691212,9712569,10794968,11872264,13177000,14074100,15184200,16257249,17481977,18565243,19546792,20434176,1994794,2229407,2488550,2728150,2929100,3164900,3210650,3317166,3437674,3676187,3908037,4115771],\"yaxis\":\"y\"}],                        {\"barmode\":\"relative\",\"legend\":{\"title\":{\"text\":\"continent\"},\"tracegroupgap\":0},\"template\":{\"data\":{\"bar\":[{\"error_x\":{\"color\":\"#2a3f5f\"},\"error_y\":{\"color\":\"#2a3f5f\"},\"marker\":{\"line\":{\"color\":\"#E5ECF6\",\"width\":0.5},\"pattern\":{\"fillmode\":\"overlay\",\"size\":10,\"solidity\":0.2}},\"type\":\"bar\"}],\"barpolar\":[{\"marker\":{\"line\":{\"color\":\"#E5ECF6\",\"width\":0.5},\"pattern\":{\"fillmode\":\"overlay\",\"size\":10,\"solidity\":0.2}},\"type\":\"barpolar\"}],\"carpet\":[{\"aaxis\":{\"endlinecolor\":\"#2a3f5f\",\"gridcolor\":\"white\",\"linecolor\":\"white\",\"minorgridcolor\":\"white\",\"startlinecolor\":\"#2a3f5f\"},\"baxis\":{\"endlinecolor\":\"#2a3f5f\",\"gridcolor\":\"white\",\"linecolor\":\"white\",\"minorgridcolor\":\"white\",\"startlinecolor\":\"#2a3f5f\"},\"type\":\"carpet\"}],\"choropleth\":[{\"colorbar\":{\"outlinewidth\":0,\"ticks\":\"\"},\"type\":\"choropleth\"}],\"contour\":[{\"colorbar\":{\"outlinewidth\":0,\"ticks\":\"\"},\"colorscale\":[[0.0,\"#0d0887\"],[0.1111111111111111,\"#46039f\"],[0.2222222222222222,\"#7201a8\"],[0.3333333333333333,\"#9c179e\"],[0.4444444444444444,\"#bd3786\"],[0.5555555555555556,\"#d8576b\"],[0.6666666666666666,\"#ed7953\"],[0.7777777777777778,\"#fb9f3a\"],[0.8888888888888888,\"#fdca26\"],[1.0,\"#f0f921\"]],\"type\":\"contour\"}],\"contourcarpet\":[{\"colorbar\":{\"outlinewidth\":0,\"ticks\":\"\"},\"type\":\"contourcarpet\"}],\"heatmap\":[{\"colorbar\":{\"outlinewidth\":0,\"ticks\":\"\"},\"colorscale\":[[0.0,\"#0d0887\"],[0.1111111111111111,\"#46039f\"],[0.2222222222222222,\"#7201a8\"],[0.3333333333333333,\"#9c179e\"],[0.4444444444444444,\"#bd3786\"],[0.5555555555555556,\"#d8576b\"],[0.6666666666666666,\"#ed7953\"],[0.7777777777777778,\"#fb9f3a\"],[0.8888888888888888,\"#fdca26\"],[1.0,\"#f0f921\"]],\"type\":\"heatmap\"}],\"heatmapgl\":[{\"colorbar\":{\"outlinewidth\":0,\"ticks\":\"\"},\"colorscale\":[[0.0,\"#0d0887\"],[0.1111111111111111,\"#46039f\"],[0.2222222222222222,\"#7201a8\"],[0.3333333333333333,\"#9c179e\"],[0.4444444444444444,\"#bd3786\"],[0.5555555555555556,\"#d8576b\"],[0.6666666666666666,\"#ed7953\"],[0.7777777777777778,\"#fb9f3a\"],[0.8888888888888888,\"#fdca26\"],[1.0,\"#f0f921\"]],\"type\":\"heatmapgl\"}],\"histogram\":[{\"marker\":{\"pattern\":{\"fillmode\":\"overlay\",\"size\":10,\"solidity\":0.2}},\"type\":\"histogram\"}],\"histogram2d\":[{\"colorbar\":{\"outlinewidth\":0,\"ticks\":\"\"},\"colorscale\":[[0.0,\"#0d0887\"],[0.1111111111111111,\"#46039f\"],[0.2222222222222222,\"#7201a8\"],[0.3333333333333333,\"#9c179e\"],[0.4444444444444444,\"#bd3786\"],[0.5555555555555556,\"#d8576b\"],[0.6666666666666666,\"#ed7953\"],[0.7777777777777778,\"#fb9f3a\"],[0.8888888888888888,\"#fdca26\"],[1.0,\"#f0f921\"]],\"type\":\"histogram2d\"}],\"histogram2dcontour\":[{\"colorbar\":{\"outlinewidth\":0,\"ticks\":\"\"},\"colorscale\":[[0.0,\"#0d0887\"],[0.1111111111111111,\"#46039f\"],[0.2222222222222222,\"#7201a8\"],[0.3333333333333333,\"#9c179e\"],[0.4444444444444444,\"#bd3786\"],[0.5555555555555556,\"#d8576b\"],[0.6666666666666666,\"#ed7953\"],[0.7777777777777778,\"#fb9f3a\"],[0.8888888888888888,\"#fdca26\"],[1.0,\"#f0f921\"]],\"type\":\"histogram2dcontour\"}],\"mesh3d\":[{\"colorbar\":{\"outlinewidth\":0,\"ticks\":\"\"},\"type\":\"mesh3d\"}],\"parcoords\":[{\"line\":{\"colorbar\":{\"outlinewidth\":0,\"ticks\":\"\"}},\"type\":\"parcoords\"}],\"pie\":[{\"automargin\":true,\"type\":\"pie\"}],\"scatter\":[{\"marker\":{\"colorbar\":{\"outlinewidth\":0,\"ticks\":\"\"}},\"type\":\"scatter\"}],\"scatter3d\":[{\"line\":{\"colorbar\":{\"outlinewidth\":0,\"ticks\":\"\"}},\"marker\":{\"colorbar\":{\"outlinewidth\":0,\"ticks\":\"\"}},\"type\":\"scatter3d\"}],\"scattercarpet\":[{\"marker\":{\"colorbar\":{\"outlinewidth\":0,\"ticks\":\"\"}},\"type\":\"scattercarpet\"}],\"scattergeo\":[{\"marker\":{\"colorbar\":{\"outlinewidth\":0,\"ticks\":\"\"}},\"type\":\"scattergeo\"}],\"scattergl\":[{\"marker\":{\"colorbar\":{\"outlinewidth\":0,\"ticks\":\"\"}},\"type\":\"scattergl\"}],\"scattermapbox\":[{\"marker\":{\"colorbar\":{\"outlinewidth\":0,\"ticks\":\"\"}},\"type\":\"scattermapbox\"}],\"scatterpolar\":[{\"marker\":{\"colorbar\":{\"outlinewidth\":0,\"ticks\":\"\"}},\"type\":\"scatterpolar\"}],\"scatterpolargl\":[{\"marker\":{\"colorbar\":{\"outlinewidth\":0,\"ticks\":\"\"}},\"type\":\"scatterpolargl\"}],\"scatterternary\":[{\"marker\":{\"colorbar\":{\"outlinewidth\":0,\"ticks\":\"\"}},\"type\":\"scatterternary\"}],\"surface\":[{\"colorbar\":{\"outlinewidth\":0,\"ticks\":\"\"},\"colorscale\":[[0.0,\"#0d0887\"],[0.1111111111111111,\"#46039f\"],[0.2222222222222222,\"#7201a8\"],[0.3333333333333333,\"#9c179e\"],[0.4444444444444444,\"#bd3786\"],[0.5555555555555556,\"#d8576b\"],[0.6666666666666666,\"#ed7953\"],[0.7777777777777778,\"#fb9f3a\"],[0.8888888888888888,\"#fdca26\"],[1.0,\"#f0f921\"]],\"type\":\"surface\"}],\"table\":[{\"cells\":{\"fill\":{\"color\":\"#EBF0F8\"},\"line\":{\"color\":\"white\"}},\"header\":{\"fill\":{\"color\":\"#C8D4E3\"},\"line\":{\"color\":\"white\"}},\"type\":\"table\"}]},\"layout\":{\"annotationdefaults\":{\"arrowcolor\":\"#2a3f5f\",\"arrowhead\":0,\"arrowwidth\":1},\"autotypenumbers\":\"strict\",\"coloraxis\":{\"colorbar\":{\"outlinewidth\":0,\"ticks\":\"\"}},\"colorscale\":{\"diverging\":[[0,\"#8e0152\"],[0.1,\"#c51b7d\"],[0.2,\"#de77ae\"],[0.3,\"#f1b6da\"],[0.4,\"#fde0ef\"],[0.5,\"#f7f7f7\"],[0.6,\"#e6f5d0\"],[0.7,\"#b8e186\"],[0.8,\"#7fbc41\"],[0.9,\"#4d9221\"],[1,\"#276419\"]],\"sequential\":[[0.0,\"#0d0887\"],[0.1111111111111111,\"#46039f\"],[0.2222222222222222,\"#7201a8\"],[0.3333333333333333,\"#9c179e\"],[0.4444444444444444,\"#bd3786\"],[0.5555555555555556,\"#d8576b\"],[0.6666666666666666,\"#ed7953\"],[0.7777777777777778,\"#fb9f3a\"],[0.8888888888888888,\"#fdca26\"],[1.0,\"#f0f921\"]],\"sequentialminus\":[[0.0,\"#0d0887\"],[0.1111111111111111,\"#46039f\"],[0.2222222222222222,\"#7201a8\"],[0.3333333333333333,\"#9c179e\"],[0.4444444444444444,\"#bd3786\"],[0.5555555555555556,\"#d8576b\"],[0.6666666666666666,\"#ed7953\"],[0.7777777777777778,\"#fb9f3a\"],[0.8888888888888888,\"#fdca26\"],[1.0,\"#f0f921\"]]},\"colorway\":[\"#636efa\",\"#EF553B\",\"#00cc96\",\"#ab63fa\",\"#FFA15A\",\"#19d3f3\",\"#FF6692\",\"#B6E880\",\"#FF97FF\",\"#FECB52\"],\"font\":{\"color\":\"#2a3f5f\"},\"geo\":{\"bgcolor\":\"white\",\"lakecolor\":\"white\",\"landcolor\":\"#E5ECF6\",\"showlakes\":true,\"showland\":true,\"subunitcolor\":\"white\"},\"hoverlabel\":{\"align\":\"left\"},\"hovermode\":\"closest\",\"mapbox\":{\"style\":\"light\"},\"paper_bgcolor\":\"white\",\"plot_bgcolor\":\"#E5ECF6\",\"polar\":{\"angularaxis\":{\"gridcolor\":\"white\",\"linecolor\":\"white\",\"ticks\":\"\"},\"bgcolor\":\"#E5ECF6\",\"radialaxis\":{\"gridcolor\":\"white\",\"linecolor\":\"white\",\"ticks\":\"\"}},\"scene\":{\"xaxis\":{\"backgroundcolor\":\"#E5ECF6\",\"gridcolor\":\"white\",\"gridwidth\":2,\"linecolor\":\"white\",\"showbackground\":true,\"ticks\":\"\",\"zerolinecolor\":\"white\"},\"yaxis\":{\"backgroundcolor\":\"#E5ECF6\",\"gridcolor\":\"white\",\"gridwidth\":2,\"linecolor\":\"white\",\"showbackground\":true,\"ticks\":\"\",\"zerolinecolor\":\"white\"},\"zaxis\":{\"backgroundcolor\":\"#E5ECF6\",\"gridcolor\":\"white\",\"gridwidth\":2,\"linecolor\":\"white\",\"showbackground\":true,\"ticks\":\"\",\"zerolinecolor\":\"white\"}},\"shapedefaults\":{\"line\":{\"color\":\"#2a3f5f\"}},\"ternary\":{\"aaxis\":{\"gridcolor\":\"white\",\"linecolor\":\"white\",\"ticks\":\"\"},\"baxis\":{\"gridcolor\":\"white\",\"linecolor\":\"white\",\"ticks\":\"\"},\"bgcolor\":\"#E5ECF6\",\"caxis\":{\"gridcolor\":\"white\",\"linecolor\":\"white\",\"ticks\":\"\"}},\"title\":{\"x\":0.05},\"xaxis\":{\"automargin\":true,\"gridcolor\":\"white\",\"linecolor\":\"white\",\"ticks\":\"\",\"title\":{\"standoff\":15},\"zerolinecolor\":\"white\",\"zerolinewidth\":2},\"yaxis\":{\"automargin\":true,\"gridcolor\":\"white\",\"linecolor\":\"white\",\"ticks\":\"\",\"title\":{\"standoff\":15},\"zerolinecolor\":\"white\",\"zerolinewidth\":2}}},\"title\":{\"text\":\"Bar plot of year & pop Based on iso_alpha\"},\"xaxis\":{\"anchor\":\"y\",\"domain\":[0.0,1.0],\"title\":{\"text\":\"country\"}},\"yaxis\":{\"anchor\":\"x\",\"domain\":[0.0,1.0],\"title\":{\"text\":\"pop\"}}},                        {\"responsive\": true}                    ).then(function(){\n",
       "                            \n",
       "var gd = document.getElementById('ba2de127-be14-4a24-a1cc-fc06cf6f584c');\n",
       "var x = new MutationObserver(function (mutations, observer) {{\n",
       "        var display = window.getComputedStyle(gd).display;\n",
       "        if (!display || display === 'none') {{\n",
       "            console.log([gd, 'removed!']);\n",
       "            Plotly.purge(gd);\n",
       "            observer.disconnect();\n",
       "        }}\n",
       "}});\n",
       "\n",
       "// Listen for the removal of the full notebook cells\n",
       "var notebookContainer = gd.closest('#notebook-container');\n",
       "if (notebookContainer) {{\n",
       "    x.observe(notebookContainer, {childList: true});\n",
       "}}\n",
       "\n",
       "// Listen for the clearing of the current output cell\n",
       "var outputEl = gd.closest('.output');\n",
       "if (outputEl) {{\n",
       "    x.observe(outputEl, {childList: true});\n",
       "}}\n",
       "\n",
       "                        })                };                });            </script>        </div>"
      ]
     },
     "metadata": {},
     "output_type": "display_data"
    }
   ],
   "source": [
    "\n",
    "px.bar(df4 ,\n",
    "       x = \"country\" ,\n",
    "       y = \"pop\"  ,\n",
    "       color = \"continent\" ,\n",
    "       title = \"Bar plot of year & pop Based on iso_alpha\" )\n"
   ]
  },
  {
   "cell_type": "code",
   "execution_count": 15,
   "id": "be6ac421",
   "metadata": {},
   "outputs": [
    {
     "data": {
      "application/vnd.plotly.v1+json": {
       "config": {
        "plotlyServerURL": "https://plot.ly"
       },
       "data": [
        {
         "alignmentgroup": "True",
         "hovertemplate": "continent=%{x}<br>pop=%{text}<extra></extra>",
         "legendgroup": "Asia",
         "marker": {
          "color": "#636efa",
          "pattern": {
           "shape": ""
          }
         },
         "name": "Asia",
         "offsetgroup": "Asia",
         "orientation": "v",
         "showlegend": true,
         "text": [
          8425333,
          9240934,
          10267083,
          11537966,
          13079460,
          14880372,
          12881816,
          13867957,
          16317921,
          22227415,
          25268405,
          31889923,
          120447,
          138655,
          171863,
          202182,
          230800,
          297410,
          377967,
          454612,
          529491,
          598561,
          656397,
          708573,
          46886859,
          51365468,
          56839289,
          62821884,
          70759295,
          80428306,
          93074406,
          103764241,
          113704579,
          123315288,
          135656790,
          150448339,
          4693836,
          5322536,
          6083619,
          6960067,
          7450606,
          6978607,
          7272485,
          8371791,
          10150094,
          11782962,
          12926707,
          14131858,
          556263527,
          637408000,
          665770000,
          754550000,
          862030000,
          943455000,
          1000281000,
          1084035000,
          1164970000,
          1230075000,
          1280400000,
          1318683096,
          2125900,
          2736300,
          3305200,
          3722800,
          4115700,
          4583700,
          5264500,
          5584510,
          5829696,
          6495918,
          6762476,
          6980412,
          372000000,
          409000000,
          454000000,
          506000000,
          567000000,
          634000000,
          708000000,
          788000000,
          872000000,
          959000000,
          1034172547,
          1110396331,
          82052000,
          90124000,
          99028000,
          109343000,
          121282000,
          136725000,
          153343000,
          169276000,
          184816000,
          199278000,
          211060000,
          223547000,
          17272000,
          19792000,
          22874000,
          26538000,
          30614000,
          35480679,
          43072751,
          51889696,
          60397973,
          63327987,
          66907826,
          69453570,
          5441766,
          6248643,
          7240260,
          8519282,
          10061506,
          11882916,
          14173318,
          16543189,
          17861905,
          20775703,
          24001816,
          27499638,
          1620914,
          1944401,
          2310904,
          2693585,
          3095893,
          3495918,
          3858421,
          4203148,
          4936550,
          5531387,
          6029529,
          6426679,
          86459025,
          91563009,
          95831757,
          100825279,
          107188273,
          113872473,
          118454974,
          122091325,
          124329269,
          125956499,
          127065841,
          127467972,
          607914,
          746559,
          933559,
          1255058,
          1613551,
          1937652,
          2347031,
          2820042,
          3867409,
          4526235,
          5307470,
          6053193,
          8865488,
          9411381,
          10917494,
          12617009,
          14781241,
          16325320,
          17647518,
          19067554,
          20711375,
          21585105,
          22215365,
          23301725,
          20947571,
          22611552,
          26420307,
          30131000,
          33505000,
          36436000,
          39326000,
          41622000,
          43805450,
          46173816,
          47969150,
          49044790,
          160000,
          212846,
          358266,
          575003,
          841934,
          1140357,
          1497494,
          1891487,
          1418095,
          1765345,
          2111561,
          2505559,
          1439529,
          1647412,
          1886848,
          2186894,
          2680018,
          3115787,
          3086876,
          3089353,
          3219994,
          3430388,
          3677780,
          3921278,
          6748378,
          7739235,
          8906385,
          10154878,
          11441462,
          12845381,
          14441916,
          16331785,
          18319502,
          20476091,
          22662365,
          24821286,
          800663,
          882134,
          1010280,
          1149500,
          1320500,
          1528000,
          1756032,
          2015133,
          2312802,
          2494803,
          2674234,
          2874127,
          20092996,
          21731844,
          23634436,
          25870271,
          28466390,
          31528087,
          34680442,
          38028578,
          40546538,
          43247867,
          45598081,
          47761980,
          9182536,
          9682338,
          10332057,
          11261690,
          12412593,
          13933198,
          15796314,
          17917180,
          20326209,
          23001113,
          25873917,
          28901790,
          507833,
          561977,
          628164,
          714775,
          829050,
          1004533,
          1301048,
          1593882,
          1915208,
          2283635,
          2713462,
          3204897,
          41346560,
          46679944,
          53100671,
          60641899,
          69325921,
          78152686,
          91462088,
          105186881,
          120065004,
          135564834,
          153403524,
          169270617,
          22438691,
          26072194,
          30325264,
          35356600,
          40850141,
          46850962,
          53456774,
          60017788,
          67185766,
          75012988,
          82995088,
          91077287,
          4005677,
          4419650,
          4943029,
          5618198,
          6472756,
          8128505,
          11254672,
          14619745,
          16945857,
          21229759,
          24501530,
          27601038,
          1127000,
          1445929,
          1750200,
          1977600,
          2152400,
          2325300,
          2651869,
          2794552,
          3235865,
          3802309,
          4197776,
          4553009,
          7982342,
          9128546,
          10421936,
          11737396,
          13016733,
          14116836,
          15410151,
          16495304,
          17587060,
          18698655,
          19576783,
          20378239,
          3661549,
          4149908,
          4834621,
          5680812,
          6701172,
          7932503,
          9410494,
          11242847,
          13219062,
          15081016,
          17155814,
          19314747,
          8550362,
          10164215,
          11918938,
          13648692,
          15226039,
          16785196,
          18501390,
          19757799,
          20686918,
          21628605,
          22454239,
          23174294,
          21289402,
          25041917,
          29263397,
          34024249,
          39276153,
          44148285,
          48827160,
          52910342,
          56667095,
          60216677,
          62806748,
          65068149,
          26246839,
          28998543,
          33796140,
          39463910,
          44655014,
          50533506,
          56142181,
          62826491,
          69940728,
          76048996,
          80908147,
          85262356,
          1030585,
          1070439,
          1133134,
          1142636,
          1089572,
          1261091,
          1425876,
          1691210,
          2104779,
          2826046,
          3389578,
          4018332,
          4963829,
          5498090,
          6120081,
          6740785,
          7407075,
          8403990,
          9657618,
          11219340,
          13367997,
          15826497,
          18701257,
          22211743
         ],
         "textposition": "outside",
         "texttemplate": "%{text:.2s}",
         "type": "bar",
         "x": [
          "Asia",
          "Asia",
          "Asia",
          "Asia",
          "Asia",
          "Asia",
          "Asia",
          "Asia",
          "Asia",
          "Asia",
          "Asia",
          "Asia",
          "Asia",
          "Asia",
          "Asia",
          "Asia",
          "Asia",
          "Asia",
          "Asia",
          "Asia",
          "Asia",
          "Asia",
          "Asia",
          "Asia",
          "Asia",
          "Asia",
          "Asia",
          "Asia",
          "Asia",
          "Asia",
          "Asia",
          "Asia",
          "Asia",
          "Asia",
          "Asia",
          "Asia",
          "Asia",
          "Asia",
          "Asia",
          "Asia",
          "Asia",
          "Asia",
          "Asia",
          "Asia",
          "Asia",
          "Asia",
          "Asia",
          "Asia",
          "Asia",
          "Asia",
          "Asia",
          "Asia",
          "Asia",
          "Asia",
          "Asia",
          "Asia",
          "Asia",
          "Asia",
          "Asia",
          "Asia",
          "Asia",
          "Asia",
          "Asia",
          "Asia",
          "Asia",
          "Asia",
          "Asia",
          "Asia",
          "Asia",
          "Asia",
          "Asia",
          "Asia",
          "Asia",
          "Asia",
          "Asia",
          "Asia",
          "Asia",
          "Asia",
          "Asia",
          "Asia",
          "Asia",
          "Asia",
          "Asia",
          "Asia",
          "Asia",
          "Asia",
          "Asia",
          "Asia",
          "Asia",
          "Asia",
          "Asia",
          "Asia",
          "Asia",
          "Asia",
          "Asia",
          "Asia",
          "Asia",
          "Asia",
          "Asia",
          "Asia",
          "Asia",
          "Asia",
          "Asia",
          "Asia",
          "Asia",
          "Asia",
          "Asia",
          "Asia",
          "Asia",
          "Asia",
          "Asia",
          "Asia",
          "Asia",
          "Asia",
          "Asia",
          "Asia",
          "Asia",
          "Asia",
          "Asia",
          "Asia",
          "Asia",
          "Asia",
          "Asia",
          "Asia",
          "Asia",
          "Asia",
          "Asia",
          "Asia",
          "Asia",
          "Asia",
          "Asia",
          "Asia",
          "Asia",
          "Asia",
          "Asia",
          "Asia",
          "Asia",
          "Asia",
          "Asia",
          "Asia",
          "Asia",
          "Asia",
          "Asia",
          "Asia",
          "Asia",
          "Asia",
          "Asia",
          "Asia",
          "Asia",
          "Asia",
          "Asia",
          "Asia",
          "Asia",
          "Asia",
          "Asia",
          "Asia",
          "Asia",
          "Asia",
          "Asia",
          "Asia",
          "Asia",
          "Asia",
          "Asia",
          "Asia",
          "Asia",
          "Asia",
          "Asia",
          "Asia",
          "Asia",
          "Asia",
          "Asia",
          "Asia",
          "Asia",
          "Asia",
          "Asia",
          "Asia",
          "Asia",
          "Asia",
          "Asia",
          "Asia",
          "Asia",
          "Asia",
          "Asia",
          "Asia",
          "Asia",
          "Asia",
          "Asia",
          "Asia",
          "Asia",
          "Asia",
          "Asia",
          "Asia",
          "Asia",
          "Asia",
          "Asia",
          "Asia",
          "Asia",
          "Asia",
          "Asia",
          "Asia",
          "Asia",
          "Asia",
          "Asia",
          "Asia",
          "Asia",
          "Asia",
          "Asia",
          "Asia",
          "Asia",
          "Asia",
          "Asia",
          "Asia",
          "Asia",
          "Asia",
          "Asia",
          "Asia",
          "Asia",
          "Asia",
          "Asia",
          "Asia",
          "Asia",
          "Asia",
          "Asia",
          "Asia",
          "Asia",
          "Asia",
          "Asia",
          "Asia",
          "Asia",
          "Asia",
          "Asia",
          "Asia",
          "Asia",
          "Asia",
          "Asia",
          "Asia",
          "Asia",
          "Asia",
          "Asia",
          "Asia",
          "Asia",
          "Asia",
          "Asia",
          "Asia",
          "Asia",
          "Asia",
          "Asia",
          "Asia",
          "Asia",
          "Asia",
          "Asia",
          "Asia",
          "Asia",
          "Asia",
          "Asia",
          "Asia",
          "Asia",
          "Asia",
          "Asia",
          "Asia",
          "Asia",
          "Asia",
          "Asia",
          "Asia",
          "Asia",
          "Asia",
          "Asia",
          "Asia",
          "Asia",
          "Asia",
          "Asia",
          "Asia",
          "Asia",
          "Asia",
          "Asia",
          "Asia",
          "Asia",
          "Asia",
          "Asia",
          "Asia",
          "Asia",
          "Asia",
          "Asia",
          "Asia",
          "Asia",
          "Asia",
          "Asia",
          "Asia",
          "Asia",
          "Asia",
          "Asia",
          "Asia",
          "Asia",
          "Asia",
          "Asia",
          "Asia",
          "Asia",
          "Asia",
          "Asia",
          "Asia",
          "Asia",
          "Asia",
          "Asia",
          "Asia",
          "Asia",
          "Asia",
          "Asia",
          "Asia",
          "Asia",
          "Asia",
          "Asia",
          "Asia",
          "Asia",
          "Asia",
          "Asia",
          "Asia",
          "Asia",
          "Asia",
          "Asia",
          "Asia",
          "Asia",
          "Asia",
          "Asia",
          "Asia",
          "Asia",
          "Asia",
          "Asia",
          "Asia",
          "Asia",
          "Asia",
          "Asia",
          "Asia",
          "Asia",
          "Asia",
          "Asia",
          "Asia",
          "Asia",
          "Asia",
          "Asia",
          "Asia",
          "Asia",
          "Asia",
          "Asia",
          "Asia",
          "Asia",
          "Asia",
          "Asia",
          "Asia",
          "Asia",
          "Asia",
          "Asia",
          "Asia",
          "Asia",
          "Asia",
          "Asia",
          "Asia",
          "Asia",
          "Asia",
          "Asia",
          "Asia",
          "Asia",
          "Asia",
          "Asia",
          "Asia",
          "Asia",
          "Asia",
          "Asia",
          "Asia",
          "Asia",
          "Asia",
          "Asia",
          "Asia",
          "Asia",
          "Asia",
          "Asia",
          "Asia",
          "Asia",
          "Asia",
          "Asia",
          "Asia",
          "Asia",
          "Asia",
          "Asia",
          "Asia",
          "Asia",
          "Asia",
          "Asia",
          "Asia",
          "Asia",
          "Asia",
          "Asia",
          "Asia",
          "Asia",
          "Asia",
          "Asia",
          "Asia"
         ],
         "xaxis": "x",
         "y": [
          8425333,
          9240934,
          10267083,
          11537966,
          13079460,
          14880372,
          12881816,
          13867957,
          16317921,
          22227415,
          25268405,
          31889923,
          120447,
          138655,
          171863,
          202182,
          230800,
          297410,
          377967,
          454612,
          529491,
          598561,
          656397,
          708573,
          46886859,
          51365468,
          56839289,
          62821884,
          70759295,
          80428306,
          93074406,
          103764241,
          113704579,
          123315288,
          135656790,
          150448339,
          4693836,
          5322536,
          6083619,
          6960067,
          7450606,
          6978607,
          7272485,
          8371791,
          10150094,
          11782962,
          12926707,
          14131858,
          556263527,
          637408000,
          665770000,
          754550000,
          862030000,
          943455000,
          1000281000,
          1084035000,
          1164970000,
          1230075000,
          1280400000,
          1318683096,
          2125900,
          2736300,
          3305200,
          3722800,
          4115700,
          4583700,
          5264500,
          5584510,
          5829696,
          6495918,
          6762476,
          6980412,
          372000000,
          409000000,
          454000000,
          506000000,
          567000000,
          634000000,
          708000000,
          788000000,
          872000000,
          959000000,
          1034172547,
          1110396331,
          82052000,
          90124000,
          99028000,
          109343000,
          121282000,
          136725000,
          153343000,
          169276000,
          184816000,
          199278000,
          211060000,
          223547000,
          17272000,
          19792000,
          22874000,
          26538000,
          30614000,
          35480679,
          43072751,
          51889696,
          60397973,
          63327987,
          66907826,
          69453570,
          5441766,
          6248643,
          7240260,
          8519282,
          10061506,
          11882916,
          14173318,
          16543189,
          17861905,
          20775703,
          24001816,
          27499638,
          1620914,
          1944401,
          2310904,
          2693585,
          3095893,
          3495918,
          3858421,
          4203148,
          4936550,
          5531387,
          6029529,
          6426679,
          86459025,
          91563009,
          95831757,
          100825279,
          107188273,
          113872473,
          118454974,
          122091325,
          124329269,
          125956499,
          127065841,
          127467972,
          607914,
          746559,
          933559,
          1255058,
          1613551,
          1937652,
          2347031,
          2820042,
          3867409,
          4526235,
          5307470,
          6053193,
          8865488,
          9411381,
          10917494,
          12617009,
          14781241,
          16325320,
          17647518,
          19067554,
          20711375,
          21585105,
          22215365,
          23301725,
          20947571,
          22611552,
          26420307,
          30131000,
          33505000,
          36436000,
          39326000,
          41622000,
          43805450,
          46173816,
          47969150,
          49044790,
          160000,
          212846,
          358266,
          575003,
          841934,
          1140357,
          1497494,
          1891487,
          1418095,
          1765345,
          2111561,
          2505559,
          1439529,
          1647412,
          1886848,
          2186894,
          2680018,
          3115787,
          3086876,
          3089353,
          3219994,
          3430388,
          3677780,
          3921278,
          6748378,
          7739235,
          8906385,
          10154878,
          11441462,
          12845381,
          14441916,
          16331785,
          18319502,
          20476091,
          22662365,
          24821286,
          800663,
          882134,
          1010280,
          1149500,
          1320500,
          1528000,
          1756032,
          2015133,
          2312802,
          2494803,
          2674234,
          2874127,
          20092996,
          21731844,
          23634436,
          25870271,
          28466390,
          31528087,
          34680442,
          38028578,
          40546538,
          43247867,
          45598081,
          47761980,
          9182536,
          9682338,
          10332057,
          11261690,
          12412593,
          13933198,
          15796314,
          17917180,
          20326209,
          23001113,
          25873917,
          28901790,
          507833,
          561977,
          628164,
          714775,
          829050,
          1004533,
          1301048,
          1593882,
          1915208,
          2283635,
          2713462,
          3204897,
          41346560,
          46679944,
          53100671,
          60641899,
          69325921,
          78152686,
          91462088,
          105186881,
          120065004,
          135564834,
          153403524,
          169270617,
          22438691,
          26072194,
          30325264,
          35356600,
          40850141,
          46850962,
          53456774,
          60017788,
          67185766,
          75012988,
          82995088,
          91077287,
          4005677,
          4419650,
          4943029,
          5618198,
          6472756,
          8128505,
          11254672,
          14619745,
          16945857,
          21229759,
          24501530,
          27601038,
          1127000,
          1445929,
          1750200,
          1977600,
          2152400,
          2325300,
          2651869,
          2794552,
          3235865,
          3802309,
          4197776,
          4553009,
          7982342,
          9128546,
          10421936,
          11737396,
          13016733,
          14116836,
          15410151,
          16495304,
          17587060,
          18698655,
          19576783,
          20378239,
          3661549,
          4149908,
          4834621,
          5680812,
          6701172,
          7932503,
          9410494,
          11242847,
          13219062,
          15081016,
          17155814,
          19314747,
          8550362,
          10164215,
          11918938,
          13648692,
          15226039,
          16785196,
          18501390,
          19757799,
          20686918,
          21628605,
          22454239,
          23174294,
          21289402,
          25041917,
          29263397,
          34024249,
          39276153,
          44148285,
          48827160,
          52910342,
          56667095,
          60216677,
          62806748,
          65068149,
          26246839,
          28998543,
          33796140,
          39463910,
          44655014,
          50533506,
          56142181,
          62826491,
          69940728,
          76048996,
          80908147,
          85262356,
          1030585,
          1070439,
          1133134,
          1142636,
          1089572,
          1261091,
          1425876,
          1691210,
          2104779,
          2826046,
          3389578,
          4018332,
          4963829,
          5498090,
          6120081,
          6740785,
          7407075,
          8403990,
          9657618,
          11219340,
          13367997,
          15826497,
          18701257,
          22211743
         ],
         "yaxis": "y"
        },
        {
         "alignmentgroup": "True",
         "hovertemplate": "continent=%{x}<br>pop=%{text}<extra></extra>",
         "legendgroup": "Europe",
         "marker": {
          "color": "#EF553B",
          "pattern": {
           "shape": ""
          }
         },
         "name": "Europe",
         "offsetgroup": "Europe",
         "orientation": "v",
         "showlegend": true,
         "text": [
          1282697,
          1476505,
          1728137,
          1984060,
          2263554,
          2509048,
          2780097,
          3075321,
          3326498,
          3428038,
          3508512,
          3600523,
          6927772,
          6965860,
          7129864,
          7376998,
          7544201,
          7568430,
          7574613,
          7578903,
          7914969,
          8069876,
          8148312,
          8199783,
          8730405,
          8989111,
          9218400,
          9556500,
          9709100,
          9821800,
          9856303,
          9870200,
          10045622,
          10199787,
          10311970,
          10392226,
          2791000,
          3076000,
          3349000,
          3585000,
          3819000,
          4086000,
          4172693,
          4338977,
          4256013,
          3607000,
          4165416,
          4552198,
          7274900,
          7651254,
          8012946,
          8310226,
          8576200,
          8797022,
          8892098,
          8971958,
          8658506,
          8066057,
          7661799,
          7322858,
          3882229,
          3991242,
          4076557,
          4174366,
          4225310,
          4318673,
          4413368,
          4484310,
          4494013,
          4444595,
          4481020,
          4493312,
          9125183,
          9513758,
          9620282,
          9835109,
          9862158,
          10161915,
          10303704,
          10311597,
          10315702,
          10300707,
          10256295,
          10228744,
          4334000,
          4487831,
          4646899,
          4838800,
          4991596,
          5088419,
          5117810,
          5127024,
          5171393,
          5283663,
          5374693,
          5468120,
          4090500,
          4324000,
          4491443,
          4605744,
          4639657,
          4738902,
          4826933,
          4931729,
          5041039,
          5134406,
          5193039,
          5238460,
          42459667,
          44310863,
          47124000,
          49569000,
          51732000,
          53165019,
          54433565,
          55630100,
          57374179,
          58623428,
          59925035,
          61083916,
          69145952,
          71019069,
          73739117,
          76368453,
          78717088,
          78160773,
          78335266,
          77718298,
          80597764,
          82011073,
          82350671,
          82400996,
          7733250,
          8096218,
          8448233,
          8716441,
          8888628,
          9308479,
          9786480,
          9974490,
          10325429,
          10502372,
          10603863,
          10706290,
          9504000,
          9839000,
          10063000,
          10223422,
          10394091,
          10637171,
          10705535,
          10612740,
          10348684,
          10244684,
          10083313,
          9956108,
          147962,
          165110,
          182053,
          198676,
          209275,
          221823,
          233997,
          244676,
          259012,
          271192,
          288030,
          301931,
          2952156,
          2878220,
          2830000,
          2900100,
          3024400,
          3271900,
          3480000,
          3539900,
          3557761,
          3667233,
          3879155,
          4109086,
          47666000,
          49182000,
          50843200,
          52667100,
          54365564,
          56059245,
          56535636,
          56729703,
          56840847,
          57479469,
          57926999,
          58147733,
          413834,
          442829,
          474528,
          501035,
          527678,
          560073,
          562548,
          569473,
          621621,
          692651,
          720230,
          684736,
          10381988,
          11026383,
          11805689,
          12596822,
          13329874,
          13852989,
          14310401,
          14665278,
          15174244,
          15604464,
          16122830,
          16570613,
          3327728,
          3491938,
          3638919,
          3786019,
          3933004,
          4043205,
          4114787,
          4186147,
          4286357,
          4405672,
          4535591,
          4627926,
          25730551,
          28235346,
          30329617,
          31785378,
          33039545,
          34621254,
          36227381,
          37740710,
          38370697,
          38654957,
          38625976,
          38518241,
          8526050,
          8817650,
          9019800,
          9103000,
          8970450,
          9662600,
          9859650,
          9915289,
          9927680,
          10156415,
          10433867,
          10642836,
          16630000,
          17829327,
          18680721,
          19284814,
          20662648,
          21658597,
          22356726,
          22686371,
          22797027,
          22562458,
          22404337,
          22276056,
          6860147,
          7271135,
          7616060,
          7971222,
          8313288,
          8686367,
          9032824,
          9230783,
          9826397,
          10336594,
          10111559,
          10150265,
          3558137,
          3844277,
          4237384,
          4442238,
          4593433,
          4827803,
          5048043,
          5199318,
          5302888,
          5383010,
          5410052,
          5447502,
          1489518,
          1533070,
          1582962,
          1646912,
          1694510,
          1746919,
          1861252,
          1945870,
          1999210,
          2011612,
          2011497,
          2009245,
          28549870,
          29841614,
          31158061,
          32850275,
          34513161,
          36439000,
          37983310,
          38880702,
          39549438,
          39855442,
          40152517,
          40448191,
          7124673,
          7363802,
          7561588,
          7867931,
          8122293,
          8251648,
          8325260,
          8421403,
          8718867,
          8897619,
          8954175,
          9031088,
          4815000,
          5126000,
          5666000,
          6063000,
          6401400,
          6316424,
          6468126,
          6649942,
          6995447,
          7193761,
          7361757,
          7554661,
          22235677,
          25670939,
          29788695,
          33411317,
          37492953,
          42404033,
          47328791,
          52881328,
          58179144,
          63047647,
          67308928,
          71158647,
          50430000,
          51430000,
          53292000,
          54959000,
          56079000,
          56179000,
          56339704,
          56981620,
          57866349,
          58808266,
          59912431,
          60776238
         ],
         "textposition": "outside",
         "texttemplate": "%{text:.2s}",
         "type": "bar",
         "x": [
          "Europe",
          "Europe",
          "Europe",
          "Europe",
          "Europe",
          "Europe",
          "Europe",
          "Europe",
          "Europe",
          "Europe",
          "Europe",
          "Europe",
          "Europe",
          "Europe",
          "Europe",
          "Europe",
          "Europe",
          "Europe",
          "Europe",
          "Europe",
          "Europe",
          "Europe",
          "Europe",
          "Europe",
          "Europe",
          "Europe",
          "Europe",
          "Europe",
          "Europe",
          "Europe",
          "Europe",
          "Europe",
          "Europe",
          "Europe",
          "Europe",
          "Europe",
          "Europe",
          "Europe",
          "Europe",
          "Europe",
          "Europe",
          "Europe",
          "Europe",
          "Europe",
          "Europe",
          "Europe",
          "Europe",
          "Europe",
          "Europe",
          "Europe",
          "Europe",
          "Europe",
          "Europe",
          "Europe",
          "Europe",
          "Europe",
          "Europe",
          "Europe",
          "Europe",
          "Europe",
          "Europe",
          "Europe",
          "Europe",
          "Europe",
          "Europe",
          "Europe",
          "Europe",
          "Europe",
          "Europe",
          "Europe",
          "Europe",
          "Europe",
          "Europe",
          "Europe",
          "Europe",
          "Europe",
          "Europe",
          "Europe",
          "Europe",
          "Europe",
          "Europe",
          "Europe",
          "Europe",
          "Europe",
          "Europe",
          "Europe",
          "Europe",
          "Europe",
          "Europe",
          "Europe",
          "Europe",
          "Europe",
          "Europe",
          "Europe",
          "Europe",
          "Europe",
          "Europe",
          "Europe",
          "Europe",
          "Europe",
          "Europe",
          "Europe",
          "Europe",
          "Europe",
          "Europe",
          "Europe",
          "Europe",
          "Europe",
          "Europe",
          "Europe",
          "Europe",
          "Europe",
          "Europe",
          "Europe",
          "Europe",
          "Europe",
          "Europe",
          "Europe",
          "Europe",
          "Europe",
          "Europe",
          "Europe",
          "Europe",
          "Europe",
          "Europe",
          "Europe",
          "Europe",
          "Europe",
          "Europe",
          "Europe",
          "Europe",
          "Europe",
          "Europe",
          "Europe",
          "Europe",
          "Europe",
          "Europe",
          "Europe",
          "Europe",
          "Europe",
          "Europe",
          "Europe",
          "Europe",
          "Europe",
          "Europe",
          "Europe",
          "Europe",
          "Europe",
          "Europe",
          "Europe",
          "Europe",
          "Europe",
          "Europe",
          "Europe",
          "Europe",
          "Europe",
          "Europe",
          "Europe",
          "Europe",
          "Europe",
          "Europe",
          "Europe",
          "Europe",
          "Europe",
          "Europe",
          "Europe",
          "Europe",
          "Europe",
          "Europe",
          "Europe",
          "Europe",
          "Europe",
          "Europe",
          "Europe",
          "Europe",
          "Europe",
          "Europe",
          "Europe",
          "Europe",
          "Europe",
          "Europe",
          "Europe",
          "Europe",
          "Europe",
          "Europe",
          "Europe",
          "Europe",
          "Europe",
          "Europe",
          "Europe",
          "Europe",
          "Europe",
          "Europe",
          "Europe",
          "Europe",
          "Europe",
          "Europe",
          "Europe",
          "Europe",
          "Europe",
          "Europe",
          "Europe",
          "Europe",
          "Europe",
          "Europe",
          "Europe",
          "Europe",
          "Europe",
          "Europe",
          "Europe",
          "Europe",
          "Europe",
          "Europe",
          "Europe",
          "Europe",
          "Europe",
          "Europe",
          "Europe",
          "Europe",
          "Europe",
          "Europe",
          "Europe",
          "Europe",
          "Europe",
          "Europe",
          "Europe",
          "Europe",
          "Europe",
          "Europe",
          "Europe",
          "Europe",
          "Europe",
          "Europe",
          "Europe",
          "Europe",
          "Europe",
          "Europe",
          "Europe",
          "Europe",
          "Europe",
          "Europe",
          "Europe",
          "Europe",
          "Europe",
          "Europe",
          "Europe",
          "Europe",
          "Europe",
          "Europe",
          "Europe",
          "Europe",
          "Europe",
          "Europe",
          "Europe",
          "Europe",
          "Europe",
          "Europe",
          "Europe",
          "Europe",
          "Europe",
          "Europe",
          "Europe",
          "Europe",
          "Europe",
          "Europe",
          "Europe",
          "Europe",
          "Europe",
          "Europe",
          "Europe",
          "Europe",
          "Europe",
          "Europe",
          "Europe",
          "Europe",
          "Europe",
          "Europe",
          "Europe",
          "Europe",
          "Europe",
          "Europe",
          "Europe",
          "Europe",
          "Europe",
          "Europe",
          "Europe",
          "Europe",
          "Europe",
          "Europe",
          "Europe",
          "Europe",
          "Europe",
          "Europe",
          "Europe",
          "Europe",
          "Europe",
          "Europe",
          "Europe",
          "Europe",
          "Europe",
          "Europe",
          "Europe",
          "Europe",
          "Europe",
          "Europe",
          "Europe",
          "Europe",
          "Europe",
          "Europe",
          "Europe",
          "Europe",
          "Europe",
          "Europe",
          "Europe",
          "Europe",
          "Europe",
          "Europe",
          "Europe",
          "Europe",
          "Europe",
          "Europe",
          "Europe",
          "Europe",
          "Europe",
          "Europe",
          "Europe",
          "Europe",
          "Europe",
          "Europe",
          "Europe",
          "Europe",
          "Europe",
          "Europe",
          "Europe",
          "Europe",
          "Europe",
          "Europe",
          "Europe",
          "Europe",
          "Europe",
          "Europe",
          "Europe",
          "Europe",
          "Europe",
          "Europe",
          "Europe",
          "Europe",
          "Europe",
          "Europe",
          "Europe",
          "Europe",
          "Europe",
          "Europe",
          "Europe",
          "Europe",
          "Europe",
          "Europe",
          "Europe",
          "Europe",
          "Europe"
         ],
         "xaxis": "x",
         "y": [
          1282697,
          1476505,
          1728137,
          1984060,
          2263554,
          2509048,
          2780097,
          3075321,
          3326498,
          3428038,
          3508512,
          3600523,
          6927772,
          6965860,
          7129864,
          7376998,
          7544201,
          7568430,
          7574613,
          7578903,
          7914969,
          8069876,
          8148312,
          8199783,
          8730405,
          8989111,
          9218400,
          9556500,
          9709100,
          9821800,
          9856303,
          9870200,
          10045622,
          10199787,
          10311970,
          10392226,
          2791000,
          3076000,
          3349000,
          3585000,
          3819000,
          4086000,
          4172693,
          4338977,
          4256013,
          3607000,
          4165416,
          4552198,
          7274900,
          7651254,
          8012946,
          8310226,
          8576200,
          8797022,
          8892098,
          8971958,
          8658506,
          8066057,
          7661799,
          7322858,
          3882229,
          3991242,
          4076557,
          4174366,
          4225310,
          4318673,
          4413368,
          4484310,
          4494013,
          4444595,
          4481020,
          4493312,
          9125183,
          9513758,
          9620282,
          9835109,
          9862158,
          10161915,
          10303704,
          10311597,
          10315702,
          10300707,
          10256295,
          10228744,
          4334000,
          4487831,
          4646899,
          4838800,
          4991596,
          5088419,
          5117810,
          5127024,
          5171393,
          5283663,
          5374693,
          5468120,
          4090500,
          4324000,
          4491443,
          4605744,
          4639657,
          4738902,
          4826933,
          4931729,
          5041039,
          5134406,
          5193039,
          5238460,
          42459667,
          44310863,
          47124000,
          49569000,
          51732000,
          53165019,
          54433565,
          55630100,
          57374179,
          58623428,
          59925035,
          61083916,
          69145952,
          71019069,
          73739117,
          76368453,
          78717088,
          78160773,
          78335266,
          77718298,
          80597764,
          82011073,
          82350671,
          82400996,
          7733250,
          8096218,
          8448233,
          8716441,
          8888628,
          9308479,
          9786480,
          9974490,
          10325429,
          10502372,
          10603863,
          10706290,
          9504000,
          9839000,
          10063000,
          10223422,
          10394091,
          10637171,
          10705535,
          10612740,
          10348684,
          10244684,
          10083313,
          9956108,
          147962,
          165110,
          182053,
          198676,
          209275,
          221823,
          233997,
          244676,
          259012,
          271192,
          288030,
          301931,
          2952156,
          2878220,
          2830000,
          2900100,
          3024400,
          3271900,
          3480000,
          3539900,
          3557761,
          3667233,
          3879155,
          4109086,
          47666000,
          49182000,
          50843200,
          52667100,
          54365564,
          56059245,
          56535636,
          56729703,
          56840847,
          57479469,
          57926999,
          58147733,
          413834,
          442829,
          474528,
          501035,
          527678,
          560073,
          562548,
          569473,
          621621,
          692651,
          720230,
          684736,
          10381988,
          11026383,
          11805689,
          12596822,
          13329874,
          13852989,
          14310401,
          14665278,
          15174244,
          15604464,
          16122830,
          16570613,
          3327728,
          3491938,
          3638919,
          3786019,
          3933004,
          4043205,
          4114787,
          4186147,
          4286357,
          4405672,
          4535591,
          4627926,
          25730551,
          28235346,
          30329617,
          31785378,
          33039545,
          34621254,
          36227381,
          37740710,
          38370697,
          38654957,
          38625976,
          38518241,
          8526050,
          8817650,
          9019800,
          9103000,
          8970450,
          9662600,
          9859650,
          9915289,
          9927680,
          10156415,
          10433867,
          10642836,
          16630000,
          17829327,
          18680721,
          19284814,
          20662648,
          21658597,
          22356726,
          22686371,
          22797027,
          22562458,
          22404337,
          22276056,
          6860147,
          7271135,
          7616060,
          7971222,
          8313288,
          8686367,
          9032824,
          9230783,
          9826397,
          10336594,
          10111559,
          10150265,
          3558137,
          3844277,
          4237384,
          4442238,
          4593433,
          4827803,
          5048043,
          5199318,
          5302888,
          5383010,
          5410052,
          5447502,
          1489518,
          1533070,
          1582962,
          1646912,
          1694510,
          1746919,
          1861252,
          1945870,
          1999210,
          2011612,
          2011497,
          2009245,
          28549870,
          29841614,
          31158061,
          32850275,
          34513161,
          36439000,
          37983310,
          38880702,
          39549438,
          39855442,
          40152517,
          40448191,
          7124673,
          7363802,
          7561588,
          7867931,
          8122293,
          8251648,
          8325260,
          8421403,
          8718867,
          8897619,
          8954175,
          9031088,
          4815000,
          5126000,
          5666000,
          6063000,
          6401400,
          6316424,
          6468126,
          6649942,
          6995447,
          7193761,
          7361757,
          7554661,
          22235677,
          25670939,
          29788695,
          33411317,
          37492953,
          42404033,
          47328791,
          52881328,
          58179144,
          63047647,
          67308928,
          71158647,
          50430000,
          51430000,
          53292000,
          54959000,
          56079000,
          56179000,
          56339704,
          56981620,
          57866349,
          58808266,
          59912431,
          60776238
         ],
         "yaxis": "y"
        },
        {
         "alignmentgroup": "True",
         "hovertemplate": "continent=%{x}<br>pop=%{text}<extra></extra>",
         "legendgroup": "Africa",
         "marker": {
          "color": "#00cc96",
          "pattern": {
           "shape": ""
          }
         },
         "name": "Africa",
         "offsetgroup": "Africa",
         "orientation": "v",
         "showlegend": true,
         "text": [
          9279525,
          10270856,
          11000948,
          12760499,
          14760787,
          17152804,
          20033753,
          23254956,
          26298373,
          29072015,
          31287142,
          33333216,
          4232095,
          4561361,
          4826015,
          5247469,
          5894858,
          6162675,
          7016384,
          7874230,
          8735988,
          9875024,
          10866106,
          12420476,
          1738315,
          1925173,
          2151895,
          2427334,
          2761407,
          3168267,
          3641603,
          4243788,
          4981671,
          6066080,
          7026113,
          8078314,
          442308,
          474639,
          512764,
          553541,
          619351,
          781472,
          970347,
          1151184,
          1342614,
          1536536,
          1630347,
          1639131,
          4469979,
          4713416,
          4919632,
          5127935,
          5433886,
          5889574,
          6634596,
          7586551,
          8878303,
          10352843,
          12251209,
          14326203,
          2445618,
          2667518,
          2961915,
          3330989,
          3529983,
          3834415,
          4580410,
          5126023,
          5809236,
          6121610,
          7021078,
          8390505,
          5009067,
          5359923,
          5793633,
          6335506,
          7021028,
          7959865,
          9250831,
          10780667,
          12467171,
          14195809,
          15929988,
          17696293,
          1291695,
          1392284,
          1523478,
          1733638,
          1927260,
          2167533,
          2476971,
          2840009,
          3265124,
          3696513,
          4048013,
          4369038,
          2682462,
          2894855,
          3150417,
          3495967,
          3899068,
          4388260,
          4875118,
          5498955,
          6429417,
          7562011,
          8835739,
          10238807,
          153936,
          170928,
          191689,
          217378,
          250027,
          304739,
          348643,
          395114,
          454429,
          527982,
          614382,
          710960,
          14100005,
          15577932,
          17486434,
          19941073,
          23007669,
          26480870,
          30646495,
          35481645,
          41672143,
          47798986,
          55379852,
          64606759,
          854885,
          940458,
          1047924,
          1179760,
          1340458,
          1536769,
          1774735,
          2064095,
          2409073,
          2800947,
          3328795,
          3800610,
          2977019,
          3300000,
          3832408,
          4744870,
          6071696,
          7459574,
          9025951,
          10761098,
          12772596,
          14625967,
          16252726,
          18013409,
          63149,
          71851,
          89898,
          127617,
          178848,
          228694,
          305991,
          311025,
          384156,
          417908,
          447416,
          496374,
          22223309,
          25009741,
          28173309,
          31681188,
          34807417,
          38783863,
          45681811,
          52799062,
          59402198,
          66134291,
          73312559,
          80264543,
          216964,
          232922,
          249220,
          259864,
          277603,
          192675,
          285483,
          341244,
          387838,
          439971,
          495627,
          551201,
          1438760,
          1542611,
          1666618,
          1820319,
          2260187,
          2512642,
          2637297,
          2915959,
          3668440,
          4058319,
          4414865,
          4906585,
          20860941,
          22815614,
          25145372,
          27860297,
          30770372,
          34617799,
          38111756,
          42999530,
          52088559,
          59861301,
          67946797,
          76511887,
          420702,
          434904,
          455661,
          489004,
          537977,
          706367,
          753874,
          880397,
          985739,
          1126189,
          1299304,
          1454867,
          284320,
          323150,
          374020,
          439593,
          517101,
          608274,
          715523,
          848406,
          1025384,
          1235767,
          1457766,
          1688359,
          5581001,
          6391288,
          7355248,
          8490213,
          9354120,
          10538093,
          11400338,
          14168101,
          16278738,
          18418288,
          20550751,
          22873338,
          2664249,
          2876726,
          3140003,
          3451418,
          3811387,
          4227026,
          4710497,
          5650262,
          6990574,
          8048834,
          8807818,
          9947814,
          580653,
          601095,
          627820,
          601287,
          625361,
          745228,
          825987,
          927524,
          1050938,
          1193708,
          1332459,
          1472041,
          6464046,
          7454779,
          8678557,
          10191512,
          12044785,
          14500404,
          17661452,
          21198082,
          25020539,
          28263827,
          31386842,
          35610177,
          748747,
          813338,
          893143,
          996380,
          1116779,
          1251524,
          1411807,
          1599200,
          1803195,
          1982823,
          2046772,
          2012649,
          863308,
          975950,
          1112796,
          1279406,
          1482628,
          1703617,
          1956875,
          2269414,
          1912974,
          2200725,
          2814651,
          3193942,
          1019729,
          1201578,
          1441863,
          1759224,
          2183877,
          2721783,
          3344074,
          3799845,
          4364501,
          4759670,
          5368585,
          6036914,
          4762912,
          5181679,
          5703324,
          6334556,
          7082430,
          8007166,
          9171477,
          10568642,
          12210395,
          14165114,
          16473477,
          19167654,
          2917802,
          3221238,
          3628608,
          4147252,
          4730997,
          5637246,
          6502825,
          7824747,
          10014249,
          10419991,
          11824495,
          13327079,
          3838168,
          4241884,
          4690372,
          5212416,
          5828158,
          6491649,
          6998256,
          7634008,
          8416215,
          9384984,
          10580176,
          12031795,
          1022556,
          1076852,
          1146757,
          1230542,
          1332786,
          1456688,
          1622136,
          1841240,
          2119465,
          2444741,
          2828858,
          3270065,
          516556,
          609816,
          701016,
          789309,
          851334,
          913025,
          992040,
          1042663,
          1096202,
          1149818,
          1200206,
          1250882,
          9939217,
          11406350,
          13056604,
          14770296,
          16660670,
          18396941,
          20198730,
          22987397,
          25798239,
          28529501,
          31167783,
          33757175,
          6446316,
          7038035,
          7788944,
          8680909,
          9809596,
          11127868,
          12587223,
          12891952,
          13160731,
          16603334,
          18473780,
          19951656,
          485831,
          548080,
          621392,
          706640,
          821782,
          977026,
          1099010,
          1278184,
          1554253,
          1774766,
          1972153,
          2055080,
          3379468,
          3692184,
          4076008,
          4534062,
          5060262,
          5682086,
          6437188,
          7332638,
          8392818,
          9666252,
          11140655,
          12894865,
          33119096,
          37173340,
          41871351,
          47287752,
          53740085,
          62209173,
          73039376,
          81551520,
          93364244,
          106207839,
          119901274,
          135031164,
          257700,
          308700,
          358900,
          414024,
          461633,
          492095,
          517810,
          562035,
          622191,
          684810,
          743981,
          798094,
          2534927,
          2822082,
          3051242,
          3451079,
          3992121,
          4657072,
          5507565,
          6349365,
          7290203,
          7212583,
          7852401,
          8860588,
          60011,
          61325,
          65345,
          70787,
          76595,
          86796,
          98593,
          110812,
          125911,
          145608,
          170372,
          199579,
          2755589,
          3054547,
          3430243,
          3965841,
          4588696,
          5260855,
          6147783,
          7171347,
          8307920,
          9535314,
          10870037,
          12267493,
          2143249,
          2295678,
          2467895,
          2662190,
          2879013,
          3140897,
          3464522,
          3868905,
          4260884,
          4578212,
          5359092,
          6144562,
          2526994,
          2780415,
          3080153,
          3428839,
          3840161,
          4353666,
          5828892,
          6921858,
          6099799,
          6633514,
          7753310,
          9118773,
          14264935,
          16151549,
          18356657,
          20997321,
          23935810,
          27129932,
          31140029,
          35933379,
          39964159,
          42835005,
          44433622,
          43997828,
          8504667,
          9753392,
          11183227,
          12716129,
          14597019,
          17104986,
          20367053,
          24725960,
          28227588,
          32160729,
          37090298,
          42292929,
          290243,
          326741,
          370006,
          420690,
          480105,
          551425,
          649901,
          779348,
          962344,
          1054486,
          1130269,
          1133066,
          8322925,
          9452826,
          10863958,
          12607312,
          14706593,
          17129565,
          19844382,
          23040630,
          26605473,
          30686889,
          34593779,
          38139640,
          1219113,
          1357445,
          1528098,
          1735550,
          2056351,
          2308582,
          2644765,
          3154264,
          3747553,
          4320890,
          4977378,
          5701579,
          3647735,
          3950849,
          4286552,
          4786986,
          5303507,
          6005061,
          6734098,
          7724976,
          8523077,
          9231669,
          9770575,
          10276158,
          5824797,
          6675501,
          7688797,
          8900294,
          10190285,
          11457758,
          12939400,
          15283050,
          18252190,
          21210254,
          24739869,
          29170398,
          2672000,
          3016000,
          3421000,
          3900000,
          4506497,
          5216550,
          6100407,
          7272406,
          8381163,
          9417789,
          10595811,
          11746035,
          3080907,
          3646340,
          4277736,
          4995432,
          5861135,
          6642107,
          7636524,
          9216418,
          10704340,
          11404948,
          11926563,
          12311143
         ],
         "textposition": "outside",
         "texttemplate": "%{text:.2s}",
         "type": "bar",
         "x": [
          "Africa",
          "Africa",
          "Africa",
          "Africa",
          "Africa",
          "Africa",
          "Africa",
          "Africa",
          "Africa",
          "Africa",
          "Africa",
          "Africa",
          "Africa",
          "Africa",
          "Africa",
          "Africa",
          "Africa",
          "Africa",
          "Africa",
          "Africa",
          "Africa",
          "Africa",
          "Africa",
          "Africa",
          "Africa",
          "Africa",
          "Africa",
          "Africa",
          "Africa",
          "Africa",
          "Africa",
          "Africa",
          "Africa",
          "Africa",
          "Africa",
          "Africa",
          "Africa",
          "Africa",
          "Africa",
          "Africa",
          "Africa",
          "Africa",
          "Africa",
          "Africa",
          "Africa",
          "Africa",
          "Africa",
          "Africa",
          "Africa",
          "Africa",
          "Africa",
          "Africa",
          "Africa",
          "Africa",
          "Africa",
          "Africa",
          "Africa",
          "Africa",
          "Africa",
          "Africa",
          "Africa",
          "Africa",
          "Africa",
          "Africa",
          "Africa",
          "Africa",
          "Africa",
          "Africa",
          "Africa",
          "Africa",
          "Africa",
          "Africa",
          "Africa",
          "Africa",
          "Africa",
          "Africa",
          "Africa",
          "Africa",
          "Africa",
          "Africa",
          "Africa",
          "Africa",
          "Africa",
          "Africa",
          "Africa",
          "Africa",
          "Africa",
          "Africa",
          "Africa",
          "Africa",
          "Africa",
          "Africa",
          "Africa",
          "Africa",
          "Africa",
          "Africa",
          "Africa",
          "Africa",
          "Africa",
          "Africa",
          "Africa",
          "Africa",
          "Africa",
          "Africa",
          "Africa",
          "Africa",
          "Africa",
          "Africa",
          "Africa",
          "Africa",
          "Africa",
          "Africa",
          "Africa",
          "Africa",
          "Africa",
          "Africa",
          "Africa",
          "Africa",
          "Africa",
          "Africa",
          "Africa",
          "Africa",
          "Africa",
          "Africa",
          "Africa",
          "Africa",
          "Africa",
          "Africa",
          "Africa",
          "Africa",
          "Africa",
          "Africa",
          "Africa",
          "Africa",
          "Africa",
          "Africa",
          "Africa",
          "Africa",
          "Africa",
          "Africa",
          "Africa",
          "Africa",
          "Africa",
          "Africa",
          "Africa",
          "Africa",
          "Africa",
          "Africa",
          "Africa",
          "Africa",
          "Africa",
          "Africa",
          "Africa",
          "Africa",
          "Africa",
          "Africa",
          "Africa",
          "Africa",
          "Africa",
          "Africa",
          "Africa",
          "Africa",
          "Africa",
          "Africa",
          "Africa",
          "Africa",
          "Africa",
          "Africa",
          "Africa",
          "Africa",
          "Africa",
          "Africa",
          "Africa",
          "Africa",
          "Africa",
          "Africa",
          "Africa",
          "Africa",
          "Africa",
          "Africa",
          "Africa",
          "Africa",
          "Africa",
          "Africa",
          "Africa",
          "Africa",
          "Africa",
          "Africa",
          "Africa",
          "Africa",
          "Africa",
          "Africa",
          "Africa",
          "Africa",
          "Africa",
          "Africa",
          "Africa",
          "Africa",
          "Africa",
          "Africa",
          "Africa",
          "Africa",
          "Africa",
          "Africa",
          "Africa",
          "Africa",
          "Africa",
          "Africa",
          "Africa",
          "Africa",
          "Africa",
          "Africa",
          "Africa",
          "Africa",
          "Africa",
          "Africa",
          "Africa",
          "Africa",
          "Africa",
          "Africa",
          "Africa",
          "Africa",
          "Africa",
          "Africa",
          "Africa",
          "Africa",
          "Africa",
          "Africa",
          "Africa",
          "Africa",
          "Africa",
          "Africa",
          "Africa",
          "Africa",
          "Africa",
          "Africa",
          "Africa",
          "Africa",
          "Africa",
          "Africa",
          "Africa",
          "Africa",
          "Africa",
          "Africa",
          "Africa",
          "Africa",
          "Africa",
          "Africa",
          "Africa",
          "Africa",
          "Africa",
          "Africa",
          "Africa",
          "Africa",
          "Africa",
          "Africa",
          "Africa",
          "Africa",
          "Africa",
          "Africa",
          "Africa",
          "Africa",
          "Africa",
          "Africa",
          "Africa",
          "Africa",
          "Africa",
          "Africa",
          "Africa",
          "Africa",
          "Africa",
          "Africa",
          "Africa",
          "Africa",
          "Africa",
          "Africa",
          "Africa",
          "Africa",
          "Africa",
          "Africa",
          "Africa",
          "Africa",
          "Africa",
          "Africa",
          "Africa",
          "Africa",
          "Africa",
          "Africa",
          "Africa",
          "Africa",
          "Africa",
          "Africa",
          "Africa",
          "Africa",
          "Africa",
          "Africa",
          "Africa",
          "Africa",
          "Africa",
          "Africa",
          "Africa",
          "Africa",
          "Africa",
          "Africa",
          "Africa",
          "Africa",
          "Africa",
          "Africa",
          "Africa",
          "Africa",
          "Africa",
          "Africa",
          "Africa",
          "Africa",
          "Africa",
          "Africa",
          "Africa",
          "Africa",
          "Africa",
          "Africa",
          "Africa",
          "Africa",
          "Africa",
          "Africa",
          "Africa",
          "Africa",
          "Africa",
          "Africa",
          "Africa",
          "Africa",
          "Africa",
          "Africa",
          "Africa",
          "Africa",
          "Africa",
          "Africa",
          "Africa",
          "Africa",
          "Africa",
          "Africa",
          "Africa",
          "Africa",
          "Africa",
          "Africa",
          "Africa",
          "Africa",
          "Africa",
          "Africa",
          "Africa",
          "Africa",
          "Africa",
          "Africa",
          "Africa",
          "Africa",
          "Africa",
          "Africa",
          "Africa",
          "Africa",
          "Africa",
          "Africa",
          "Africa",
          "Africa",
          "Africa",
          "Africa",
          "Africa",
          "Africa",
          "Africa",
          "Africa",
          "Africa",
          "Africa",
          "Africa",
          "Africa",
          "Africa",
          "Africa",
          "Africa",
          "Africa",
          "Africa",
          "Africa",
          "Africa",
          "Africa",
          "Africa",
          "Africa",
          "Africa",
          "Africa",
          "Africa",
          "Africa",
          "Africa",
          "Africa",
          "Africa",
          "Africa",
          "Africa",
          "Africa",
          "Africa",
          "Africa",
          "Africa",
          "Africa",
          "Africa",
          "Africa",
          "Africa",
          "Africa",
          "Africa",
          "Africa",
          "Africa",
          "Africa",
          "Africa",
          "Africa",
          "Africa",
          "Africa",
          "Africa",
          "Africa",
          "Africa",
          "Africa",
          "Africa",
          "Africa",
          "Africa",
          "Africa",
          "Africa",
          "Africa",
          "Africa",
          "Africa",
          "Africa",
          "Africa",
          "Africa",
          "Africa",
          "Africa",
          "Africa",
          "Africa",
          "Africa",
          "Africa",
          "Africa",
          "Africa",
          "Africa",
          "Africa",
          "Africa",
          "Africa",
          "Africa",
          "Africa",
          "Africa",
          "Africa",
          "Africa",
          "Africa",
          "Africa",
          "Africa",
          "Africa",
          "Africa",
          "Africa",
          "Africa",
          "Africa",
          "Africa",
          "Africa",
          "Africa",
          "Africa",
          "Africa",
          "Africa",
          "Africa",
          "Africa",
          "Africa",
          "Africa",
          "Africa",
          "Africa",
          "Africa",
          "Africa",
          "Africa",
          "Africa",
          "Africa",
          "Africa",
          "Africa",
          "Africa",
          "Africa",
          "Africa",
          "Africa",
          "Africa",
          "Africa",
          "Africa",
          "Africa",
          "Africa",
          "Africa",
          "Africa",
          "Africa",
          "Africa",
          "Africa",
          "Africa",
          "Africa",
          "Africa",
          "Africa",
          "Africa",
          "Africa",
          "Africa",
          "Africa",
          "Africa",
          "Africa",
          "Africa",
          "Africa",
          "Africa",
          "Africa",
          "Africa",
          "Africa",
          "Africa",
          "Africa",
          "Africa",
          "Africa",
          "Africa",
          "Africa",
          "Africa",
          "Africa",
          "Africa",
          "Africa",
          "Africa",
          "Africa",
          "Africa",
          "Africa",
          "Africa",
          "Africa",
          "Africa",
          "Africa",
          "Africa",
          "Africa",
          "Africa",
          "Africa",
          "Africa",
          "Africa",
          "Africa",
          "Africa",
          "Africa",
          "Africa",
          "Africa",
          "Africa",
          "Africa",
          "Africa",
          "Africa",
          "Africa",
          "Africa",
          "Africa",
          "Africa",
          "Africa",
          "Africa",
          "Africa",
          "Africa",
          "Africa",
          "Africa",
          "Africa",
          "Africa",
          "Africa",
          "Africa",
          "Africa",
          "Africa",
          "Africa",
          "Africa",
          "Africa",
          "Africa",
          "Africa",
          "Africa",
          "Africa",
          "Africa",
          "Africa",
          "Africa",
          "Africa",
          "Africa",
          "Africa",
          "Africa",
          "Africa",
          "Africa",
          "Africa",
          "Africa",
          "Africa",
          "Africa",
          "Africa",
          "Africa",
          "Africa",
          "Africa",
          "Africa",
          "Africa",
          "Africa",
          "Africa",
          "Africa",
          "Africa",
          "Africa",
          "Africa",
          "Africa",
          "Africa",
          "Africa",
          "Africa",
          "Africa",
          "Africa",
          "Africa",
          "Africa",
          "Africa",
          "Africa",
          "Africa",
          "Africa",
          "Africa",
          "Africa",
          "Africa",
          "Africa",
          "Africa",
          "Africa",
          "Africa",
          "Africa",
          "Africa",
          "Africa",
          "Africa",
          "Africa",
          "Africa",
          "Africa",
          "Africa",
          "Africa",
          "Africa",
          "Africa",
          "Africa",
          "Africa",
          "Africa",
          "Africa",
          "Africa",
          "Africa",
          "Africa",
          "Africa",
          "Africa",
          "Africa",
          "Africa",
          "Africa",
          "Africa",
          "Africa",
          "Africa",
          "Africa"
         ],
         "xaxis": "x",
         "y": [
          9279525,
          10270856,
          11000948,
          12760499,
          14760787,
          17152804,
          20033753,
          23254956,
          26298373,
          29072015,
          31287142,
          33333216,
          4232095,
          4561361,
          4826015,
          5247469,
          5894858,
          6162675,
          7016384,
          7874230,
          8735988,
          9875024,
          10866106,
          12420476,
          1738315,
          1925173,
          2151895,
          2427334,
          2761407,
          3168267,
          3641603,
          4243788,
          4981671,
          6066080,
          7026113,
          8078314,
          442308,
          474639,
          512764,
          553541,
          619351,
          781472,
          970347,
          1151184,
          1342614,
          1536536,
          1630347,
          1639131,
          4469979,
          4713416,
          4919632,
          5127935,
          5433886,
          5889574,
          6634596,
          7586551,
          8878303,
          10352843,
          12251209,
          14326203,
          2445618,
          2667518,
          2961915,
          3330989,
          3529983,
          3834415,
          4580410,
          5126023,
          5809236,
          6121610,
          7021078,
          8390505,
          5009067,
          5359923,
          5793633,
          6335506,
          7021028,
          7959865,
          9250831,
          10780667,
          12467171,
          14195809,
          15929988,
          17696293,
          1291695,
          1392284,
          1523478,
          1733638,
          1927260,
          2167533,
          2476971,
          2840009,
          3265124,
          3696513,
          4048013,
          4369038,
          2682462,
          2894855,
          3150417,
          3495967,
          3899068,
          4388260,
          4875118,
          5498955,
          6429417,
          7562011,
          8835739,
          10238807,
          153936,
          170928,
          191689,
          217378,
          250027,
          304739,
          348643,
          395114,
          454429,
          527982,
          614382,
          710960,
          14100005,
          15577932,
          17486434,
          19941073,
          23007669,
          26480870,
          30646495,
          35481645,
          41672143,
          47798986,
          55379852,
          64606759,
          854885,
          940458,
          1047924,
          1179760,
          1340458,
          1536769,
          1774735,
          2064095,
          2409073,
          2800947,
          3328795,
          3800610,
          2977019,
          3300000,
          3832408,
          4744870,
          6071696,
          7459574,
          9025951,
          10761098,
          12772596,
          14625967,
          16252726,
          18013409,
          63149,
          71851,
          89898,
          127617,
          178848,
          228694,
          305991,
          311025,
          384156,
          417908,
          447416,
          496374,
          22223309,
          25009741,
          28173309,
          31681188,
          34807417,
          38783863,
          45681811,
          52799062,
          59402198,
          66134291,
          73312559,
          80264543,
          216964,
          232922,
          249220,
          259864,
          277603,
          192675,
          285483,
          341244,
          387838,
          439971,
          495627,
          551201,
          1438760,
          1542611,
          1666618,
          1820319,
          2260187,
          2512642,
          2637297,
          2915959,
          3668440,
          4058319,
          4414865,
          4906585,
          20860941,
          22815614,
          25145372,
          27860297,
          30770372,
          34617799,
          38111756,
          42999530,
          52088559,
          59861301,
          67946797,
          76511887,
          420702,
          434904,
          455661,
          489004,
          537977,
          706367,
          753874,
          880397,
          985739,
          1126189,
          1299304,
          1454867,
          284320,
          323150,
          374020,
          439593,
          517101,
          608274,
          715523,
          848406,
          1025384,
          1235767,
          1457766,
          1688359,
          5581001,
          6391288,
          7355248,
          8490213,
          9354120,
          10538093,
          11400338,
          14168101,
          16278738,
          18418288,
          20550751,
          22873338,
          2664249,
          2876726,
          3140003,
          3451418,
          3811387,
          4227026,
          4710497,
          5650262,
          6990574,
          8048834,
          8807818,
          9947814,
          580653,
          601095,
          627820,
          601287,
          625361,
          745228,
          825987,
          927524,
          1050938,
          1193708,
          1332459,
          1472041,
          6464046,
          7454779,
          8678557,
          10191512,
          12044785,
          14500404,
          17661452,
          21198082,
          25020539,
          28263827,
          31386842,
          35610177,
          748747,
          813338,
          893143,
          996380,
          1116779,
          1251524,
          1411807,
          1599200,
          1803195,
          1982823,
          2046772,
          2012649,
          863308,
          975950,
          1112796,
          1279406,
          1482628,
          1703617,
          1956875,
          2269414,
          1912974,
          2200725,
          2814651,
          3193942,
          1019729,
          1201578,
          1441863,
          1759224,
          2183877,
          2721783,
          3344074,
          3799845,
          4364501,
          4759670,
          5368585,
          6036914,
          4762912,
          5181679,
          5703324,
          6334556,
          7082430,
          8007166,
          9171477,
          10568642,
          12210395,
          14165114,
          16473477,
          19167654,
          2917802,
          3221238,
          3628608,
          4147252,
          4730997,
          5637246,
          6502825,
          7824747,
          10014249,
          10419991,
          11824495,
          13327079,
          3838168,
          4241884,
          4690372,
          5212416,
          5828158,
          6491649,
          6998256,
          7634008,
          8416215,
          9384984,
          10580176,
          12031795,
          1022556,
          1076852,
          1146757,
          1230542,
          1332786,
          1456688,
          1622136,
          1841240,
          2119465,
          2444741,
          2828858,
          3270065,
          516556,
          609816,
          701016,
          789309,
          851334,
          913025,
          992040,
          1042663,
          1096202,
          1149818,
          1200206,
          1250882,
          9939217,
          11406350,
          13056604,
          14770296,
          16660670,
          18396941,
          20198730,
          22987397,
          25798239,
          28529501,
          31167783,
          33757175,
          6446316,
          7038035,
          7788944,
          8680909,
          9809596,
          11127868,
          12587223,
          12891952,
          13160731,
          16603334,
          18473780,
          19951656,
          485831,
          548080,
          621392,
          706640,
          821782,
          977026,
          1099010,
          1278184,
          1554253,
          1774766,
          1972153,
          2055080,
          3379468,
          3692184,
          4076008,
          4534062,
          5060262,
          5682086,
          6437188,
          7332638,
          8392818,
          9666252,
          11140655,
          12894865,
          33119096,
          37173340,
          41871351,
          47287752,
          53740085,
          62209173,
          73039376,
          81551520,
          93364244,
          106207839,
          119901274,
          135031164,
          257700,
          308700,
          358900,
          414024,
          461633,
          492095,
          517810,
          562035,
          622191,
          684810,
          743981,
          798094,
          2534927,
          2822082,
          3051242,
          3451079,
          3992121,
          4657072,
          5507565,
          6349365,
          7290203,
          7212583,
          7852401,
          8860588,
          60011,
          61325,
          65345,
          70787,
          76595,
          86796,
          98593,
          110812,
          125911,
          145608,
          170372,
          199579,
          2755589,
          3054547,
          3430243,
          3965841,
          4588696,
          5260855,
          6147783,
          7171347,
          8307920,
          9535314,
          10870037,
          12267493,
          2143249,
          2295678,
          2467895,
          2662190,
          2879013,
          3140897,
          3464522,
          3868905,
          4260884,
          4578212,
          5359092,
          6144562,
          2526994,
          2780415,
          3080153,
          3428839,
          3840161,
          4353666,
          5828892,
          6921858,
          6099799,
          6633514,
          7753310,
          9118773,
          14264935,
          16151549,
          18356657,
          20997321,
          23935810,
          27129932,
          31140029,
          35933379,
          39964159,
          42835005,
          44433622,
          43997828,
          8504667,
          9753392,
          11183227,
          12716129,
          14597019,
          17104986,
          20367053,
          24725960,
          28227588,
          32160729,
          37090298,
          42292929,
          290243,
          326741,
          370006,
          420690,
          480105,
          551425,
          649901,
          779348,
          962344,
          1054486,
          1130269,
          1133066,
          8322925,
          9452826,
          10863958,
          12607312,
          14706593,
          17129565,
          19844382,
          23040630,
          26605473,
          30686889,
          34593779,
          38139640,
          1219113,
          1357445,
          1528098,
          1735550,
          2056351,
          2308582,
          2644765,
          3154264,
          3747553,
          4320890,
          4977378,
          5701579,
          3647735,
          3950849,
          4286552,
          4786986,
          5303507,
          6005061,
          6734098,
          7724976,
          8523077,
          9231669,
          9770575,
          10276158,
          5824797,
          6675501,
          7688797,
          8900294,
          10190285,
          11457758,
          12939400,
          15283050,
          18252190,
          21210254,
          24739869,
          29170398,
          2672000,
          3016000,
          3421000,
          3900000,
          4506497,
          5216550,
          6100407,
          7272406,
          8381163,
          9417789,
          10595811,
          11746035,
          3080907,
          3646340,
          4277736,
          4995432,
          5861135,
          6642107,
          7636524,
          9216418,
          10704340,
          11404948,
          11926563,
          12311143
         ],
         "yaxis": "y"
        },
        {
         "alignmentgroup": "True",
         "hovertemplate": "continent=%{x}<br>pop=%{text}<extra></extra>",
         "legendgroup": "Americas",
         "marker": {
          "color": "#ab63fa",
          "pattern": {
           "shape": ""
          }
         },
         "name": "Americas",
         "offsetgroup": "Americas",
         "orientation": "v",
         "showlegend": true,
         "text": [
          17876956,
          19610538,
          21283783,
          22934225,
          24779799,
          26983828,
          29341374,
          31620918,
          33958947,
          36203463,
          38331121,
          40301927,
          2883315,
          3211738,
          3593918,
          4040665,
          4565872,
          5079716,
          5642224,
          6156369,
          6893451,
          7693188,
          8445134,
          9119152,
          56602560,
          65551171,
          76039390,
          88049823,
          100840058,
          114313951,
          128962939,
          142938076,
          155975974,
          168546719,
          179914212,
          190010647,
          14785584,
          17010154,
          18985849,
          20819767,
          22284500,
          23796400,
          25201900,
          26549700,
          28523502,
          30305843,
          31902268,
          33390141,
          6377619,
          7048426,
          7961258,
          8858908,
          9717524,
          10599793,
          11487112,
          12463354,
          13572994,
          14599929,
          15497046,
          16284741,
          12350771,
          14485993,
          17009885,
          19764027,
          22542890,
          25094412,
          27764644,
          30964245,
          34202721,
          37657830,
          41008227,
          44227550,
          926317,
          1112300,
          1345187,
          1588717,
          1834796,
          2108457,
          2424367,
          2799811,
          3173216,
          3518107,
          3834934,
          4133884,
          6007797,
          6640752,
          7254373,
          8139332,
          8831348,
          9537988,
          9789224,
          10239839,
          10723260,
          10983007,
          11226999,
          11416987,
          2491346,
          2923186,
          3453434,
          4049146,
          4671329,
          5302800,
          5968349,
          6655297,
          7351181,
          7992357,
          8650322,
          9319622,
          3548753,
          4058385,
          4681707,
          5432424,
          6298651,
          7278866,
          8365850,
          9545158,
          10748394,
          11911819,
          12921234,
          13755680,
          2042865,
          2355805,
          2747687,
          3232927,
          3790903,
          4282586,
          4474873,
          4842194,
          5274649,
          5783439,
          6353681,
          6939688,
          3146381,
          3640876,
          4208858,
          4690773,
          5149581,
          5703430,
          6395630,
          7326406,
          8486949,
          9803875,
          11178650,
          12572928,
          3201488,
          3507701,
          3880130,
          4318137,
          4698301,
          4908554,
          5198399,
          5756203,
          6326682,
          6913545,
          7607651,
          8502814,
          1517453,
          1770390,
          2090162,
          2500689,
          2965146,
          3055235,
          3669448,
          4372203,
          5077347,
          5867957,
          6677328,
          7483763,
          1426095,
          1535090,
          1665128,
          1861096,
          1997616,
          2156814,
          2298309,
          2326606,
          2378618,
          2531311,
          2664659,
          2780132,
          30144317,
          35015548,
          41121485,
          47995559,
          55984294,
          63759976,
          71640904,
          80122492,
          88111030,
          95895146,
          102479927,
          108700891,
          1165790,
          1358828,
          1590597,
          1865490,
          2182908,
          2554598,
          2979423,
          3344353,
          4017939,
          4609572,
          5146848,
          5675356,
          940080,
          1063506,
          1215725,
          1405486,
          1616384,
          1839782,
          2036305,
          2253639,
          2484997,
          2734531,
          2990875,
          3242173,
          1555876,
          1770902,
          2009813,
          2287985,
          2614104,
          2984494,
          3366439,
          3886512,
          4483945,
          5154123,
          5884491,
          6667147,
          8025700,
          9146100,
          10516500,
          12132200,
          13954700,
          15990099,
          18125129,
          20195924,
          22430449,
          24748122,
          26769436,
          28674757,
          2227000,
          2260000,
          2448046,
          2648961,
          2847132,
          3080828,
          3279001,
          3444468,
          3585176,
          3759430,
          3859606,
          3942491,
          662850,
          764900,
          887498,
          960155,
          975199,
          1039009,
          1116479,
          1191336,
          1183669,
          1138101,
          1101832,
          1056608,
          157553000,
          171984000,
          186538000,
          198712000,
          209896000,
          220239000,
          232187835,
          242803533,
          256894189,
          272911760,
          287675526,
          301139947,
          2252965,
          2424959,
          2598466,
          2748579,
          2829526,
          2873520,
          2953997,
          3045153,
          3149262,
          3262838,
          3363085,
          3447496,
          5439568,
          6702668,
          8143375,
          9709552,
          11515649,
          13503563,
          15620766,
          17910182,
          20265563,
          22374398,
          24287670,
          26084662
         ],
         "textposition": "outside",
         "texttemplate": "%{text:.2s}",
         "type": "bar",
         "x": [
          "Americas",
          "Americas",
          "Americas",
          "Americas",
          "Americas",
          "Americas",
          "Americas",
          "Americas",
          "Americas",
          "Americas",
          "Americas",
          "Americas",
          "Americas",
          "Americas",
          "Americas",
          "Americas",
          "Americas",
          "Americas",
          "Americas",
          "Americas",
          "Americas",
          "Americas",
          "Americas",
          "Americas",
          "Americas",
          "Americas",
          "Americas",
          "Americas",
          "Americas",
          "Americas",
          "Americas",
          "Americas",
          "Americas",
          "Americas",
          "Americas",
          "Americas",
          "Americas",
          "Americas",
          "Americas",
          "Americas",
          "Americas",
          "Americas",
          "Americas",
          "Americas",
          "Americas",
          "Americas",
          "Americas",
          "Americas",
          "Americas",
          "Americas",
          "Americas",
          "Americas",
          "Americas",
          "Americas",
          "Americas",
          "Americas",
          "Americas",
          "Americas",
          "Americas",
          "Americas",
          "Americas",
          "Americas",
          "Americas",
          "Americas",
          "Americas",
          "Americas",
          "Americas",
          "Americas",
          "Americas",
          "Americas",
          "Americas",
          "Americas",
          "Americas",
          "Americas",
          "Americas",
          "Americas",
          "Americas",
          "Americas",
          "Americas",
          "Americas",
          "Americas",
          "Americas",
          "Americas",
          "Americas",
          "Americas",
          "Americas",
          "Americas",
          "Americas",
          "Americas",
          "Americas",
          "Americas",
          "Americas",
          "Americas",
          "Americas",
          "Americas",
          "Americas",
          "Americas",
          "Americas",
          "Americas",
          "Americas",
          "Americas",
          "Americas",
          "Americas",
          "Americas",
          "Americas",
          "Americas",
          "Americas",
          "Americas",
          "Americas",
          "Americas",
          "Americas",
          "Americas",
          "Americas",
          "Americas",
          "Americas",
          "Americas",
          "Americas",
          "Americas",
          "Americas",
          "Americas",
          "Americas",
          "Americas",
          "Americas",
          "Americas",
          "Americas",
          "Americas",
          "Americas",
          "Americas",
          "Americas",
          "Americas",
          "Americas",
          "Americas",
          "Americas",
          "Americas",
          "Americas",
          "Americas",
          "Americas",
          "Americas",
          "Americas",
          "Americas",
          "Americas",
          "Americas",
          "Americas",
          "Americas",
          "Americas",
          "Americas",
          "Americas",
          "Americas",
          "Americas",
          "Americas",
          "Americas",
          "Americas",
          "Americas",
          "Americas",
          "Americas",
          "Americas",
          "Americas",
          "Americas",
          "Americas",
          "Americas",
          "Americas",
          "Americas",
          "Americas",
          "Americas",
          "Americas",
          "Americas",
          "Americas",
          "Americas",
          "Americas",
          "Americas",
          "Americas",
          "Americas",
          "Americas",
          "Americas",
          "Americas",
          "Americas",
          "Americas",
          "Americas",
          "Americas",
          "Americas",
          "Americas",
          "Americas",
          "Americas",
          "Americas",
          "Americas",
          "Americas",
          "Americas",
          "Americas",
          "Americas",
          "Americas",
          "Americas",
          "Americas",
          "Americas",
          "Americas",
          "Americas",
          "Americas",
          "Americas",
          "Americas",
          "Americas",
          "Americas",
          "Americas",
          "Americas",
          "Americas",
          "Americas",
          "Americas",
          "Americas",
          "Americas",
          "Americas",
          "Americas",
          "Americas",
          "Americas",
          "Americas",
          "Americas",
          "Americas",
          "Americas",
          "Americas",
          "Americas",
          "Americas",
          "Americas",
          "Americas",
          "Americas",
          "Americas",
          "Americas",
          "Americas",
          "Americas",
          "Americas",
          "Americas",
          "Americas",
          "Americas",
          "Americas",
          "Americas",
          "Americas",
          "Americas",
          "Americas",
          "Americas",
          "Americas",
          "Americas",
          "Americas",
          "Americas",
          "Americas",
          "Americas",
          "Americas",
          "Americas",
          "Americas",
          "Americas",
          "Americas",
          "Americas",
          "Americas",
          "Americas",
          "Americas",
          "Americas",
          "Americas",
          "Americas",
          "Americas",
          "Americas",
          "Americas",
          "Americas",
          "Americas",
          "Americas",
          "Americas",
          "Americas",
          "Americas",
          "Americas",
          "Americas",
          "Americas",
          "Americas",
          "Americas",
          "Americas",
          "Americas",
          "Americas",
          "Americas",
          "Americas",
          "Americas",
          "Americas",
          "Americas",
          "Americas",
          "Americas",
          "Americas",
          "Americas",
          "Americas",
          "Americas",
          "Americas",
          "Americas",
          "Americas",
          "Americas",
          "Americas",
          "Americas",
          "Americas",
          "Americas",
          "Americas",
          "Americas",
          "Americas",
          "Americas",
          "Americas",
          "Americas",
          "Americas",
          "Americas",
          "Americas",
          "Americas",
          "Americas"
         ],
         "xaxis": "x",
         "y": [
          17876956,
          19610538,
          21283783,
          22934225,
          24779799,
          26983828,
          29341374,
          31620918,
          33958947,
          36203463,
          38331121,
          40301927,
          2883315,
          3211738,
          3593918,
          4040665,
          4565872,
          5079716,
          5642224,
          6156369,
          6893451,
          7693188,
          8445134,
          9119152,
          56602560,
          65551171,
          76039390,
          88049823,
          100840058,
          114313951,
          128962939,
          142938076,
          155975974,
          168546719,
          179914212,
          190010647,
          14785584,
          17010154,
          18985849,
          20819767,
          22284500,
          23796400,
          25201900,
          26549700,
          28523502,
          30305843,
          31902268,
          33390141,
          6377619,
          7048426,
          7961258,
          8858908,
          9717524,
          10599793,
          11487112,
          12463354,
          13572994,
          14599929,
          15497046,
          16284741,
          12350771,
          14485993,
          17009885,
          19764027,
          22542890,
          25094412,
          27764644,
          30964245,
          34202721,
          37657830,
          41008227,
          44227550,
          926317,
          1112300,
          1345187,
          1588717,
          1834796,
          2108457,
          2424367,
          2799811,
          3173216,
          3518107,
          3834934,
          4133884,
          6007797,
          6640752,
          7254373,
          8139332,
          8831348,
          9537988,
          9789224,
          10239839,
          10723260,
          10983007,
          11226999,
          11416987,
          2491346,
          2923186,
          3453434,
          4049146,
          4671329,
          5302800,
          5968349,
          6655297,
          7351181,
          7992357,
          8650322,
          9319622,
          3548753,
          4058385,
          4681707,
          5432424,
          6298651,
          7278866,
          8365850,
          9545158,
          10748394,
          11911819,
          12921234,
          13755680,
          2042865,
          2355805,
          2747687,
          3232927,
          3790903,
          4282586,
          4474873,
          4842194,
          5274649,
          5783439,
          6353681,
          6939688,
          3146381,
          3640876,
          4208858,
          4690773,
          5149581,
          5703430,
          6395630,
          7326406,
          8486949,
          9803875,
          11178650,
          12572928,
          3201488,
          3507701,
          3880130,
          4318137,
          4698301,
          4908554,
          5198399,
          5756203,
          6326682,
          6913545,
          7607651,
          8502814,
          1517453,
          1770390,
          2090162,
          2500689,
          2965146,
          3055235,
          3669448,
          4372203,
          5077347,
          5867957,
          6677328,
          7483763,
          1426095,
          1535090,
          1665128,
          1861096,
          1997616,
          2156814,
          2298309,
          2326606,
          2378618,
          2531311,
          2664659,
          2780132,
          30144317,
          35015548,
          41121485,
          47995559,
          55984294,
          63759976,
          71640904,
          80122492,
          88111030,
          95895146,
          102479927,
          108700891,
          1165790,
          1358828,
          1590597,
          1865490,
          2182908,
          2554598,
          2979423,
          3344353,
          4017939,
          4609572,
          5146848,
          5675356,
          940080,
          1063506,
          1215725,
          1405486,
          1616384,
          1839782,
          2036305,
          2253639,
          2484997,
          2734531,
          2990875,
          3242173,
          1555876,
          1770902,
          2009813,
          2287985,
          2614104,
          2984494,
          3366439,
          3886512,
          4483945,
          5154123,
          5884491,
          6667147,
          8025700,
          9146100,
          10516500,
          12132200,
          13954700,
          15990099,
          18125129,
          20195924,
          22430449,
          24748122,
          26769436,
          28674757,
          2227000,
          2260000,
          2448046,
          2648961,
          2847132,
          3080828,
          3279001,
          3444468,
          3585176,
          3759430,
          3859606,
          3942491,
          662850,
          764900,
          887498,
          960155,
          975199,
          1039009,
          1116479,
          1191336,
          1183669,
          1138101,
          1101832,
          1056608,
          157553000,
          171984000,
          186538000,
          198712000,
          209896000,
          220239000,
          232187835,
          242803533,
          256894189,
          272911760,
          287675526,
          301139947,
          2252965,
          2424959,
          2598466,
          2748579,
          2829526,
          2873520,
          2953997,
          3045153,
          3149262,
          3262838,
          3363085,
          3447496,
          5439568,
          6702668,
          8143375,
          9709552,
          11515649,
          13503563,
          15620766,
          17910182,
          20265563,
          22374398,
          24287670,
          26084662
         ],
         "yaxis": "y"
        },
        {
         "alignmentgroup": "True",
         "hovertemplate": "continent=%{x}<br>pop=%{text}<extra></extra>",
         "legendgroup": "Oceania",
         "marker": {
          "color": "#FFA15A",
          "pattern": {
           "shape": ""
          }
         },
         "name": "Oceania",
         "offsetgroup": "Oceania",
         "orientation": "v",
         "showlegend": true,
         "text": [
          8691212,
          9712569,
          10794968,
          11872264,
          13177000,
          14074100,
          15184200,
          16257249,
          17481977,
          18565243,
          19546792,
          20434176,
          1994794,
          2229407,
          2488550,
          2728150,
          2929100,
          3164900,
          3210650,
          3317166,
          3437674,
          3676187,
          3908037,
          4115771
         ],
         "textposition": "outside",
         "texttemplate": "%{text:.2s}",
         "type": "bar",
         "x": [
          "Oceania",
          "Oceania",
          "Oceania",
          "Oceania",
          "Oceania",
          "Oceania",
          "Oceania",
          "Oceania",
          "Oceania",
          "Oceania",
          "Oceania",
          "Oceania",
          "Oceania",
          "Oceania",
          "Oceania",
          "Oceania",
          "Oceania",
          "Oceania",
          "Oceania",
          "Oceania",
          "Oceania",
          "Oceania",
          "Oceania",
          "Oceania"
         ],
         "xaxis": "x",
         "y": [
          8691212,
          9712569,
          10794968,
          11872264,
          13177000,
          14074100,
          15184200,
          16257249,
          17481977,
          18565243,
          19546792,
          20434176,
          1994794,
          2229407,
          2488550,
          2728150,
          2929100,
          3164900,
          3210650,
          3317166,
          3437674,
          3676187,
          3908037,
          4115771
         ],
         "yaxis": "y"
        }
       ],
       "layout": {
        "barmode": "relative",
        "legend": {
         "title": {
          "text": "continent"
         },
         "tracegroupgap": 0
        },
        "template": {
         "data": {
          "bar": [
           {
            "error_x": {
             "color": "#2a3f5f"
            },
            "error_y": {
             "color": "#2a3f5f"
            },
            "marker": {
             "line": {
              "color": "#E5ECF6",
              "width": 0.5
             },
             "pattern": {
              "fillmode": "overlay",
              "size": 10,
              "solidity": 0.2
             }
            },
            "type": "bar"
           }
          ],
          "barpolar": [
           {
            "marker": {
             "line": {
              "color": "#E5ECF6",
              "width": 0.5
             },
             "pattern": {
              "fillmode": "overlay",
              "size": 10,
              "solidity": 0.2
             }
            },
            "type": "barpolar"
           }
          ],
          "carpet": [
           {
            "aaxis": {
             "endlinecolor": "#2a3f5f",
             "gridcolor": "white",
             "linecolor": "white",
             "minorgridcolor": "white",
             "startlinecolor": "#2a3f5f"
            },
            "baxis": {
             "endlinecolor": "#2a3f5f",
             "gridcolor": "white",
             "linecolor": "white",
             "minorgridcolor": "white",
             "startlinecolor": "#2a3f5f"
            },
            "type": "carpet"
           }
          ],
          "choropleth": [
           {
            "colorbar": {
             "outlinewidth": 0,
             "ticks": ""
            },
            "type": "choropleth"
           }
          ],
          "contour": [
           {
            "colorbar": {
             "outlinewidth": 0,
             "ticks": ""
            },
            "colorscale": [
             [
              0,
              "#0d0887"
             ],
             [
              0.1111111111111111,
              "#46039f"
             ],
             [
              0.2222222222222222,
              "#7201a8"
             ],
             [
              0.3333333333333333,
              "#9c179e"
             ],
             [
              0.4444444444444444,
              "#bd3786"
             ],
             [
              0.5555555555555556,
              "#d8576b"
             ],
             [
              0.6666666666666666,
              "#ed7953"
             ],
             [
              0.7777777777777778,
              "#fb9f3a"
             ],
             [
              0.8888888888888888,
              "#fdca26"
             ],
             [
              1,
              "#f0f921"
             ]
            ],
            "type": "contour"
           }
          ],
          "contourcarpet": [
           {
            "colorbar": {
             "outlinewidth": 0,
             "ticks": ""
            },
            "type": "contourcarpet"
           }
          ],
          "heatmap": [
           {
            "colorbar": {
             "outlinewidth": 0,
             "ticks": ""
            },
            "colorscale": [
             [
              0,
              "#0d0887"
             ],
             [
              0.1111111111111111,
              "#46039f"
             ],
             [
              0.2222222222222222,
              "#7201a8"
             ],
             [
              0.3333333333333333,
              "#9c179e"
             ],
             [
              0.4444444444444444,
              "#bd3786"
             ],
             [
              0.5555555555555556,
              "#d8576b"
             ],
             [
              0.6666666666666666,
              "#ed7953"
             ],
             [
              0.7777777777777778,
              "#fb9f3a"
             ],
             [
              0.8888888888888888,
              "#fdca26"
             ],
             [
              1,
              "#f0f921"
             ]
            ],
            "type": "heatmap"
           }
          ],
          "heatmapgl": [
           {
            "colorbar": {
             "outlinewidth": 0,
             "ticks": ""
            },
            "colorscale": [
             [
              0,
              "#0d0887"
             ],
             [
              0.1111111111111111,
              "#46039f"
             ],
             [
              0.2222222222222222,
              "#7201a8"
             ],
             [
              0.3333333333333333,
              "#9c179e"
             ],
             [
              0.4444444444444444,
              "#bd3786"
             ],
             [
              0.5555555555555556,
              "#d8576b"
             ],
             [
              0.6666666666666666,
              "#ed7953"
             ],
             [
              0.7777777777777778,
              "#fb9f3a"
             ],
             [
              0.8888888888888888,
              "#fdca26"
             ],
             [
              1,
              "#f0f921"
             ]
            ],
            "type": "heatmapgl"
           }
          ],
          "histogram": [
           {
            "marker": {
             "pattern": {
              "fillmode": "overlay",
              "size": 10,
              "solidity": 0.2
             }
            },
            "type": "histogram"
           }
          ],
          "histogram2d": [
           {
            "colorbar": {
             "outlinewidth": 0,
             "ticks": ""
            },
            "colorscale": [
             [
              0,
              "#0d0887"
             ],
             [
              0.1111111111111111,
              "#46039f"
             ],
             [
              0.2222222222222222,
              "#7201a8"
             ],
             [
              0.3333333333333333,
              "#9c179e"
             ],
             [
              0.4444444444444444,
              "#bd3786"
             ],
             [
              0.5555555555555556,
              "#d8576b"
             ],
             [
              0.6666666666666666,
              "#ed7953"
             ],
             [
              0.7777777777777778,
              "#fb9f3a"
             ],
             [
              0.8888888888888888,
              "#fdca26"
             ],
             [
              1,
              "#f0f921"
             ]
            ],
            "type": "histogram2d"
           }
          ],
          "histogram2dcontour": [
           {
            "colorbar": {
             "outlinewidth": 0,
             "ticks": ""
            },
            "colorscale": [
             [
              0,
              "#0d0887"
             ],
             [
              0.1111111111111111,
              "#46039f"
             ],
             [
              0.2222222222222222,
              "#7201a8"
             ],
             [
              0.3333333333333333,
              "#9c179e"
             ],
             [
              0.4444444444444444,
              "#bd3786"
             ],
             [
              0.5555555555555556,
              "#d8576b"
             ],
             [
              0.6666666666666666,
              "#ed7953"
             ],
             [
              0.7777777777777778,
              "#fb9f3a"
             ],
             [
              0.8888888888888888,
              "#fdca26"
             ],
             [
              1,
              "#f0f921"
             ]
            ],
            "type": "histogram2dcontour"
           }
          ],
          "mesh3d": [
           {
            "colorbar": {
             "outlinewidth": 0,
             "ticks": ""
            },
            "type": "mesh3d"
           }
          ],
          "parcoords": [
           {
            "line": {
             "colorbar": {
              "outlinewidth": 0,
              "ticks": ""
             }
            },
            "type": "parcoords"
           }
          ],
          "pie": [
           {
            "automargin": true,
            "type": "pie"
           }
          ],
          "scatter": [
           {
            "marker": {
             "colorbar": {
              "outlinewidth": 0,
              "ticks": ""
             }
            },
            "type": "scatter"
           }
          ],
          "scatter3d": [
           {
            "line": {
             "colorbar": {
              "outlinewidth": 0,
              "ticks": ""
             }
            },
            "marker": {
             "colorbar": {
              "outlinewidth": 0,
              "ticks": ""
             }
            },
            "type": "scatter3d"
           }
          ],
          "scattercarpet": [
           {
            "marker": {
             "colorbar": {
              "outlinewidth": 0,
              "ticks": ""
             }
            },
            "type": "scattercarpet"
           }
          ],
          "scattergeo": [
           {
            "marker": {
             "colorbar": {
              "outlinewidth": 0,
              "ticks": ""
             }
            },
            "type": "scattergeo"
           }
          ],
          "scattergl": [
           {
            "marker": {
             "colorbar": {
              "outlinewidth": 0,
              "ticks": ""
             }
            },
            "type": "scattergl"
           }
          ],
          "scattermapbox": [
           {
            "marker": {
             "colorbar": {
              "outlinewidth": 0,
              "ticks": ""
             }
            },
            "type": "scattermapbox"
           }
          ],
          "scatterpolar": [
           {
            "marker": {
             "colorbar": {
              "outlinewidth": 0,
              "ticks": ""
             }
            },
            "type": "scatterpolar"
           }
          ],
          "scatterpolargl": [
           {
            "marker": {
             "colorbar": {
              "outlinewidth": 0,
              "ticks": ""
             }
            },
            "type": "scatterpolargl"
           }
          ],
          "scatterternary": [
           {
            "marker": {
             "colorbar": {
              "outlinewidth": 0,
              "ticks": ""
             }
            },
            "type": "scatterternary"
           }
          ],
          "surface": [
           {
            "colorbar": {
             "outlinewidth": 0,
             "ticks": ""
            },
            "colorscale": [
             [
              0,
              "#0d0887"
             ],
             [
              0.1111111111111111,
              "#46039f"
             ],
             [
              0.2222222222222222,
              "#7201a8"
             ],
             [
              0.3333333333333333,
              "#9c179e"
             ],
             [
              0.4444444444444444,
              "#bd3786"
             ],
             [
              0.5555555555555556,
              "#d8576b"
             ],
             [
              0.6666666666666666,
              "#ed7953"
             ],
             [
              0.7777777777777778,
              "#fb9f3a"
             ],
             [
              0.8888888888888888,
              "#fdca26"
             ],
             [
              1,
              "#f0f921"
             ]
            ],
            "type": "surface"
           }
          ],
          "table": [
           {
            "cells": {
             "fill": {
              "color": "#EBF0F8"
             },
             "line": {
              "color": "white"
             }
            },
            "header": {
             "fill": {
              "color": "#C8D4E3"
             },
             "line": {
              "color": "white"
             }
            },
            "type": "table"
           }
          ]
         },
         "layout": {
          "annotationdefaults": {
           "arrowcolor": "#2a3f5f",
           "arrowhead": 0,
           "arrowwidth": 1
          },
          "autotypenumbers": "strict",
          "coloraxis": {
           "colorbar": {
            "outlinewidth": 0,
            "ticks": ""
           }
          },
          "colorscale": {
           "diverging": [
            [
             0,
             "#8e0152"
            ],
            [
             0.1,
             "#c51b7d"
            ],
            [
             0.2,
             "#de77ae"
            ],
            [
             0.3,
             "#f1b6da"
            ],
            [
             0.4,
             "#fde0ef"
            ],
            [
             0.5,
             "#f7f7f7"
            ],
            [
             0.6,
             "#e6f5d0"
            ],
            [
             0.7,
             "#b8e186"
            ],
            [
             0.8,
             "#7fbc41"
            ],
            [
             0.9,
             "#4d9221"
            ],
            [
             1,
             "#276419"
            ]
           ],
           "sequential": [
            [
             0,
             "#0d0887"
            ],
            [
             0.1111111111111111,
             "#46039f"
            ],
            [
             0.2222222222222222,
             "#7201a8"
            ],
            [
             0.3333333333333333,
             "#9c179e"
            ],
            [
             0.4444444444444444,
             "#bd3786"
            ],
            [
             0.5555555555555556,
             "#d8576b"
            ],
            [
             0.6666666666666666,
             "#ed7953"
            ],
            [
             0.7777777777777778,
             "#fb9f3a"
            ],
            [
             0.8888888888888888,
             "#fdca26"
            ],
            [
             1,
             "#f0f921"
            ]
           ],
           "sequentialminus": [
            [
             0,
             "#0d0887"
            ],
            [
             0.1111111111111111,
             "#46039f"
            ],
            [
             0.2222222222222222,
             "#7201a8"
            ],
            [
             0.3333333333333333,
             "#9c179e"
            ],
            [
             0.4444444444444444,
             "#bd3786"
            ],
            [
             0.5555555555555556,
             "#d8576b"
            ],
            [
             0.6666666666666666,
             "#ed7953"
            ],
            [
             0.7777777777777778,
             "#fb9f3a"
            ],
            [
             0.8888888888888888,
             "#fdca26"
            ],
            [
             1,
             "#f0f921"
            ]
           ]
          },
          "colorway": [
           "#636efa",
           "#EF553B",
           "#00cc96",
           "#ab63fa",
           "#FFA15A",
           "#19d3f3",
           "#FF6692",
           "#B6E880",
           "#FF97FF",
           "#FECB52"
          ],
          "font": {
           "color": "#2a3f5f"
          },
          "geo": {
           "bgcolor": "white",
           "lakecolor": "white",
           "landcolor": "#E5ECF6",
           "showlakes": true,
           "showland": true,
           "subunitcolor": "white"
          },
          "hoverlabel": {
           "align": "left"
          },
          "hovermode": "closest",
          "mapbox": {
           "style": "light"
          },
          "paper_bgcolor": "white",
          "plot_bgcolor": "#E5ECF6",
          "polar": {
           "angularaxis": {
            "gridcolor": "white",
            "linecolor": "white",
            "ticks": ""
           },
           "bgcolor": "#E5ECF6",
           "radialaxis": {
            "gridcolor": "white",
            "linecolor": "white",
            "ticks": ""
           }
          },
          "scene": {
           "xaxis": {
            "backgroundcolor": "#E5ECF6",
            "gridcolor": "white",
            "gridwidth": 2,
            "linecolor": "white",
            "showbackground": true,
            "ticks": "",
            "zerolinecolor": "white"
           },
           "yaxis": {
            "backgroundcolor": "#E5ECF6",
            "gridcolor": "white",
            "gridwidth": 2,
            "linecolor": "white",
            "showbackground": true,
            "ticks": "",
            "zerolinecolor": "white"
           },
           "zaxis": {
            "backgroundcolor": "#E5ECF6",
            "gridcolor": "white",
            "gridwidth": 2,
            "linecolor": "white",
            "showbackground": true,
            "ticks": "",
            "zerolinecolor": "white"
           }
          },
          "shapedefaults": {
           "line": {
            "color": "#2a3f5f"
           }
          },
          "ternary": {
           "aaxis": {
            "gridcolor": "white",
            "linecolor": "white",
            "ticks": ""
           },
           "baxis": {
            "gridcolor": "white",
            "linecolor": "white",
            "ticks": ""
           },
           "bgcolor": "#E5ECF6",
           "caxis": {
            "gridcolor": "white",
            "linecolor": "white",
            "ticks": ""
           }
          },
          "title": {
           "x": 0.05
          },
          "xaxis": {
           "automargin": true,
           "gridcolor": "white",
           "linecolor": "white",
           "ticks": "",
           "title": {
            "standoff": 15
           },
           "zerolinecolor": "white",
           "zerolinewidth": 2
          },
          "yaxis": {
           "automargin": true,
           "gridcolor": "white",
           "linecolor": "white",
           "ticks": "",
           "title": {
            "standoff": 15
           },
           "zerolinecolor": "white",
           "zerolinewidth": 2
          }
         }
        },
        "title": {
         "text": "Bar plot of year & pop Based on iso_alpha"
        },
        "uniformtext": {
         "minsize": 10,
         "mode": "hide"
        },
        "xaxis": {
         "anchor": "y",
         "categoryarray": [
          "Asia",
          "Europe",
          "Africa",
          "Americas",
          "Oceania"
         ],
         "categoryorder": "array",
         "domain": [
          0,
          1
         ],
         "title": {
          "text": "continent"
         }
        },
        "yaxis": {
         "anchor": "x",
         "domain": [
          0,
          1
         ],
         "title": {
          "text": "pop"
         }
        }
       }
      },
      "text/html": [
       "<div>                            <div id=\"08bcdb84-4ddd-4750-80e9-8c23eadabefb\" class=\"plotly-graph-div\" style=\"height:525px; width:100%;\"></div>            <script type=\"text/javascript\">                require([\"plotly\"], function(Plotly) {                    window.PLOTLYENV=window.PLOTLYENV || {};                                    if (document.getElementById(\"08bcdb84-4ddd-4750-80e9-8c23eadabefb\")) {                    Plotly.newPlot(                        \"08bcdb84-4ddd-4750-80e9-8c23eadabefb\",                        [{\"alignmentgroup\":\"True\",\"hovertemplate\":\"continent=%{x}<br>pop=%{text}<extra></extra>\",\"legendgroup\":\"Asia\",\"marker\":{\"color\":\"#636efa\",\"pattern\":{\"shape\":\"\"}},\"name\":\"Asia\",\"offsetgroup\":\"Asia\",\"orientation\":\"v\",\"showlegend\":true,\"text\":[8425333.0,9240934.0,10267083.0,11537966.0,13079460.0,14880372.0,12881816.0,13867957.0,16317921.0,22227415.0,25268405.0,31889923.0,120447.0,138655.0,171863.0,202182.0,230800.0,297410.0,377967.0,454612.0,529491.0,598561.0,656397.0,708573.0,46886859.0,51365468.0,56839289.0,62821884.0,70759295.0,80428306.0,93074406.0,103764241.0,113704579.0,123315288.0,135656790.0,150448339.0,4693836.0,5322536.0,6083619.0,6960067.0,7450606.0,6978607.0,7272485.0,8371791.0,10150094.0,11782962.0,12926707.0,14131858.0,556263527.0,637408000.0,665770000.0,754550000.0,862030000.0,943455000.0,1000281000.0,1084035000.0,1164970000.0,1230075000.0,1280400000.0,1318683096.0,2125900.0,2736300.0,3305200.0,3722800.0,4115700.0,4583700.0,5264500.0,5584510.0,5829696.0,6495918.0,6762476.0,6980412.0,372000000.0,409000000.0,454000000.0,506000000.0,567000000.0,634000000.0,708000000.0,788000000.0,872000000.0,959000000.0,1034172547.0,1110396331.0,82052000.0,90124000.0,99028000.0,109343000.0,121282000.0,136725000.0,153343000.0,169276000.0,184816000.0,199278000.0,211060000.0,223547000.0,17272000.0,19792000.0,22874000.0,26538000.0,30614000.0,35480679.0,43072751.0,51889696.0,60397973.0,63327987.0,66907826.0,69453570.0,5441766.0,6248643.0,7240260.0,8519282.0,10061506.0,11882916.0,14173318.0,16543189.0,17861905.0,20775703.0,24001816.0,27499638.0,1620914.0,1944401.0,2310904.0,2693585.0,3095893.0,3495918.0,3858421.0,4203148.0,4936550.0,5531387.0,6029529.0,6426679.0,86459025.0,91563009.0,95831757.0,100825279.0,107188273.0,113872473.0,118454974.0,122091325.0,124329269.0,125956499.0,127065841.0,127467972.0,607914.0,746559.0,933559.0,1255058.0,1613551.0,1937652.0,2347031.0,2820042.0,3867409.0,4526235.0,5307470.0,6053193.0,8865488.0,9411381.0,10917494.0,12617009.0,14781241.0,16325320.0,17647518.0,19067554.0,20711375.0,21585105.0,22215365.0,23301725.0,20947571.0,22611552.0,26420307.0,30131000.0,33505000.0,36436000.0,39326000.0,41622000.0,43805450.0,46173816.0,47969150.0,49044790.0,160000.0,212846.0,358266.0,575003.0,841934.0,1140357.0,1497494.0,1891487.0,1418095.0,1765345.0,2111561.0,2505559.0,1439529.0,1647412.0,1886848.0,2186894.0,2680018.0,3115787.0,3086876.0,3089353.0,3219994.0,3430388.0,3677780.0,3921278.0,6748378.0,7739235.0,8906385.0,10154878.0,11441462.0,12845381.0,14441916.0,16331785.0,18319502.0,20476091.0,22662365.0,24821286.0,800663.0,882134.0,1010280.0,1149500.0,1320500.0,1528000.0,1756032.0,2015133.0,2312802.0,2494803.0,2674234.0,2874127.0,20092996.0,21731844.0,23634436.0,25870271.0,28466390.0,31528087.0,34680442.0,38028578.0,40546538.0,43247867.0,45598081.0,47761980.0,9182536.0,9682338.0,10332057.0,11261690.0,12412593.0,13933198.0,15796314.0,17917180.0,20326209.0,23001113.0,25873917.0,28901790.0,507833.0,561977.0,628164.0,714775.0,829050.0,1004533.0,1301048.0,1593882.0,1915208.0,2283635.0,2713462.0,3204897.0,41346560.0,46679944.0,53100671.0,60641899.0,69325921.0,78152686.0,91462088.0,105186881.0,120065004.0,135564834.0,153403524.0,169270617.0,22438691.0,26072194.0,30325264.0,35356600.0,40850141.0,46850962.0,53456774.0,60017788.0,67185766.0,75012988.0,82995088.0,91077287.0,4005677.0,4419650.0,4943029.0,5618198.0,6472756.0,8128505.0,11254672.0,14619745.0,16945857.0,21229759.0,24501530.0,27601038.0,1127000.0,1445929.0,1750200.0,1977600.0,2152400.0,2325300.0,2651869.0,2794552.0,3235865.0,3802309.0,4197776.0,4553009.0,7982342.0,9128546.0,10421936.0,11737396.0,13016733.0,14116836.0,15410151.0,16495304.0,17587060.0,18698655.0,19576783.0,20378239.0,3661549.0,4149908.0,4834621.0,5680812.0,6701172.0,7932503.0,9410494.0,11242847.0,13219062.0,15081016.0,17155814.0,19314747.0,8550362.0,10164215.0,11918938.0,13648692.0,15226039.0,16785196.0,18501390.0,19757799.0,20686918.0,21628605.0,22454239.0,23174294.0,21289402.0,25041917.0,29263397.0,34024249.0,39276153.0,44148285.0,48827160.0,52910342.0,56667095.0,60216677.0,62806748.0,65068149.0,26246839.0,28998543.0,33796140.0,39463910.0,44655014.0,50533506.0,56142181.0,62826491.0,69940728.0,76048996.0,80908147.0,85262356.0,1030585.0,1070439.0,1133134.0,1142636.0,1089572.0,1261091.0,1425876.0,1691210.0,2104779.0,2826046.0,3389578.0,4018332.0,4963829.0,5498090.0,6120081.0,6740785.0,7407075.0,8403990.0,9657618.0,11219340.0,13367997.0,15826497.0,18701257.0,22211743.0],\"textposition\":\"outside\",\"texttemplate\":\"%{text:.2s}\",\"type\":\"bar\",\"x\":[\"Asia\",\"Asia\",\"Asia\",\"Asia\",\"Asia\",\"Asia\",\"Asia\",\"Asia\",\"Asia\",\"Asia\",\"Asia\",\"Asia\",\"Asia\",\"Asia\",\"Asia\",\"Asia\",\"Asia\",\"Asia\",\"Asia\",\"Asia\",\"Asia\",\"Asia\",\"Asia\",\"Asia\",\"Asia\",\"Asia\",\"Asia\",\"Asia\",\"Asia\",\"Asia\",\"Asia\",\"Asia\",\"Asia\",\"Asia\",\"Asia\",\"Asia\",\"Asia\",\"Asia\",\"Asia\",\"Asia\",\"Asia\",\"Asia\",\"Asia\",\"Asia\",\"Asia\",\"Asia\",\"Asia\",\"Asia\",\"Asia\",\"Asia\",\"Asia\",\"Asia\",\"Asia\",\"Asia\",\"Asia\",\"Asia\",\"Asia\",\"Asia\",\"Asia\",\"Asia\",\"Asia\",\"Asia\",\"Asia\",\"Asia\",\"Asia\",\"Asia\",\"Asia\",\"Asia\",\"Asia\",\"Asia\",\"Asia\",\"Asia\",\"Asia\",\"Asia\",\"Asia\",\"Asia\",\"Asia\",\"Asia\",\"Asia\",\"Asia\",\"Asia\",\"Asia\",\"Asia\",\"Asia\",\"Asia\",\"Asia\",\"Asia\",\"Asia\",\"Asia\",\"Asia\",\"Asia\",\"Asia\",\"Asia\",\"Asia\",\"Asia\",\"Asia\",\"Asia\",\"Asia\",\"Asia\",\"Asia\",\"Asia\",\"Asia\",\"Asia\",\"Asia\",\"Asia\",\"Asia\",\"Asia\",\"Asia\",\"Asia\",\"Asia\",\"Asia\",\"Asia\",\"Asia\",\"Asia\",\"Asia\",\"Asia\",\"Asia\",\"Asia\",\"Asia\",\"Asia\",\"Asia\",\"Asia\",\"Asia\",\"Asia\",\"Asia\",\"Asia\",\"Asia\",\"Asia\",\"Asia\",\"Asia\",\"Asia\",\"Asia\",\"Asia\",\"Asia\",\"Asia\",\"Asia\",\"Asia\",\"Asia\",\"Asia\",\"Asia\",\"Asia\",\"Asia\",\"Asia\",\"Asia\",\"Asia\",\"Asia\",\"Asia\",\"Asia\",\"Asia\",\"Asia\",\"Asia\",\"Asia\",\"Asia\",\"Asia\",\"Asia\",\"Asia\",\"Asia\",\"Asia\",\"Asia\",\"Asia\",\"Asia\",\"Asia\",\"Asia\",\"Asia\",\"Asia\",\"Asia\",\"Asia\",\"Asia\",\"Asia\",\"Asia\",\"Asia\",\"Asia\",\"Asia\",\"Asia\",\"Asia\",\"Asia\",\"Asia\",\"Asia\",\"Asia\",\"Asia\",\"Asia\",\"Asia\",\"Asia\",\"Asia\",\"Asia\",\"Asia\",\"Asia\",\"Asia\",\"Asia\",\"Asia\",\"Asia\",\"Asia\",\"Asia\",\"Asia\",\"Asia\",\"Asia\",\"Asia\",\"Asia\",\"Asia\",\"Asia\",\"Asia\",\"Asia\",\"Asia\",\"Asia\",\"Asia\",\"Asia\",\"Asia\",\"Asia\",\"Asia\",\"Asia\",\"Asia\",\"Asia\",\"Asia\",\"Asia\",\"Asia\",\"Asia\",\"Asia\",\"Asia\",\"Asia\",\"Asia\",\"Asia\",\"Asia\",\"Asia\",\"Asia\",\"Asia\",\"Asia\",\"Asia\",\"Asia\",\"Asia\",\"Asia\",\"Asia\",\"Asia\",\"Asia\",\"Asia\",\"Asia\",\"Asia\",\"Asia\",\"Asia\",\"Asia\",\"Asia\",\"Asia\",\"Asia\",\"Asia\",\"Asia\",\"Asia\",\"Asia\",\"Asia\",\"Asia\",\"Asia\",\"Asia\",\"Asia\",\"Asia\",\"Asia\",\"Asia\",\"Asia\",\"Asia\",\"Asia\",\"Asia\",\"Asia\",\"Asia\",\"Asia\",\"Asia\",\"Asia\",\"Asia\",\"Asia\",\"Asia\",\"Asia\",\"Asia\",\"Asia\",\"Asia\",\"Asia\",\"Asia\",\"Asia\",\"Asia\",\"Asia\",\"Asia\",\"Asia\",\"Asia\",\"Asia\",\"Asia\",\"Asia\",\"Asia\",\"Asia\",\"Asia\",\"Asia\",\"Asia\",\"Asia\",\"Asia\",\"Asia\",\"Asia\",\"Asia\",\"Asia\",\"Asia\",\"Asia\",\"Asia\",\"Asia\",\"Asia\",\"Asia\",\"Asia\",\"Asia\",\"Asia\",\"Asia\",\"Asia\",\"Asia\",\"Asia\",\"Asia\",\"Asia\",\"Asia\",\"Asia\",\"Asia\",\"Asia\",\"Asia\",\"Asia\",\"Asia\",\"Asia\",\"Asia\",\"Asia\",\"Asia\",\"Asia\",\"Asia\",\"Asia\",\"Asia\",\"Asia\",\"Asia\",\"Asia\",\"Asia\",\"Asia\",\"Asia\",\"Asia\",\"Asia\",\"Asia\",\"Asia\",\"Asia\",\"Asia\",\"Asia\",\"Asia\",\"Asia\",\"Asia\",\"Asia\",\"Asia\",\"Asia\",\"Asia\",\"Asia\",\"Asia\",\"Asia\",\"Asia\",\"Asia\",\"Asia\",\"Asia\",\"Asia\",\"Asia\",\"Asia\",\"Asia\",\"Asia\",\"Asia\",\"Asia\",\"Asia\",\"Asia\",\"Asia\",\"Asia\",\"Asia\",\"Asia\",\"Asia\",\"Asia\",\"Asia\",\"Asia\",\"Asia\",\"Asia\",\"Asia\",\"Asia\",\"Asia\",\"Asia\",\"Asia\",\"Asia\",\"Asia\",\"Asia\",\"Asia\",\"Asia\",\"Asia\",\"Asia\",\"Asia\",\"Asia\",\"Asia\",\"Asia\",\"Asia\",\"Asia\",\"Asia\",\"Asia\",\"Asia\",\"Asia\",\"Asia\",\"Asia\",\"Asia\",\"Asia\",\"Asia\",\"Asia\"],\"xaxis\":\"x\",\"y\":[8425333,9240934,10267083,11537966,13079460,14880372,12881816,13867957,16317921,22227415,25268405,31889923,120447,138655,171863,202182,230800,297410,377967,454612,529491,598561,656397,708573,46886859,51365468,56839289,62821884,70759295,80428306,93074406,103764241,113704579,123315288,135656790,150448339,4693836,5322536,6083619,6960067,7450606,6978607,7272485,8371791,10150094,11782962,12926707,14131858,556263527,637408000,665770000,754550000,862030000,943455000,1000281000,1084035000,1164970000,1230075000,1280400000,1318683096,2125900,2736300,3305200,3722800,4115700,4583700,5264500,5584510,5829696,6495918,6762476,6980412,372000000,409000000,454000000,506000000,567000000,634000000,708000000,788000000,872000000,959000000,1034172547,1110396331,82052000,90124000,99028000,109343000,121282000,136725000,153343000,169276000,184816000,199278000,211060000,223547000,17272000,19792000,22874000,26538000,30614000,35480679,43072751,51889696,60397973,63327987,66907826,69453570,5441766,6248643,7240260,8519282,10061506,11882916,14173318,16543189,17861905,20775703,24001816,27499638,1620914,1944401,2310904,2693585,3095893,3495918,3858421,4203148,4936550,5531387,6029529,6426679,86459025,91563009,95831757,100825279,107188273,113872473,118454974,122091325,124329269,125956499,127065841,127467972,607914,746559,933559,1255058,1613551,1937652,2347031,2820042,3867409,4526235,5307470,6053193,8865488,9411381,10917494,12617009,14781241,16325320,17647518,19067554,20711375,21585105,22215365,23301725,20947571,22611552,26420307,30131000,33505000,36436000,39326000,41622000,43805450,46173816,47969150,49044790,160000,212846,358266,575003,841934,1140357,1497494,1891487,1418095,1765345,2111561,2505559,1439529,1647412,1886848,2186894,2680018,3115787,3086876,3089353,3219994,3430388,3677780,3921278,6748378,7739235,8906385,10154878,11441462,12845381,14441916,16331785,18319502,20476091,22662365,24821286,800663,882134,1010280,1149500,1320500,1528000,1756032,2015133,2312802,2494803,2674234,2874127,20092996,21731844,23634436,25870271,28466390,31528087,34680442,38028578,40546538,43247867,45598081,47761980,9182536,9682338,10332057,11261690,12412593,13933198,15796314,17917180,20326209,23001113,25873917,28901790,507833,561977,628164,714775,829050,1004533,1301048,1593882,1915208,2283635,2713462,3204897,41346560,46679944,53100671,60641899,69325921,78152686,91462088,105186881,120065004,135564834,153403524,169270617,22438691,26072194,30325264,35356600,40850141,46850962,53456774,60017788,67185766,75012988,82995088,91077287,4005677,4419650,4943029,5618198,6472756,8128505,11254672,14619745,16945857,21229759,24501530,27601038,1127000,1445929,1750200,1977600,2152400,2325300,2651869,2794552,3235865,3802309,4197776,4553009,7982342,9128546,10421936,11737396,13016733,14116836,15410151,16495304,17587060,18698655,19576783,20378239,3661549,4149908,4834621,5680812,6701172,7932503,9410494,11242847,13219062,15081016,17155814,19314747,8550362,10164215,11918938,13648692,15226039,16785196,18501390,19757799,20686918,21628605,22454239,23174294,21289402,25041917,29263397,34024249,39276153,44148285,48827160,52910342,56667095,60216677,62806748,65068149,26246839,28998543,33796140,39463910,44655014,50533506,56142181,62826491,69940728,76048996,80908147,85262356,1030585,1070439,1133134,1142636,1089572,1261091,1425876,1691210,2104779,2826046,3389578,4018332,4963829,5498090,6120081,6740785,7407075,8403990,9657618,11219340,13367997,15826497,18701257,22211743],\"yaxis\":\"y\"},{\"alignmentgroup\":\"True\",\"hovertemplate\":\"continent=%{x}<br>pop=%{text}<extra></extra>\",\"legendgroup\":\"Europe\",\"marker\":{\"color\":\"#EF553B\",\"pattern\":{\"shape\":\"\"}},\"name\":\"Europe\",\"offsetgroup\":\"Europe\",\"orientation\":\"v\",\"showlegend\":true,\"text\":[1282697.0,1476505.0,1728137.0,1984060.0,2263554.0,2509048.0,2780097.0,3075321.0,3326498.0,3428038.0,3508512.0,3600523.0,6927772.0,6965860.0,7129864.0,7376998.0,7544201.0,7568430.0,7574613.0,7578903.0,7914969.0,8069876.0,8148312.0,8199783.0,8730405.0,8989111.0,9218400.0,9556500.0,9709100.0,9821800.0,9856303.0,9870200.0,10045622.0,10199787.0,10311970.0,10392226.0,2791000.0,3076000.0,3349000.0,3585000.0,3819000.0,4086000.0,4172693.0,4338977.0,4256013.0,3607000.0,4165416.0,4552198.0,7274900.0,7651254.0,8012946.0,8310226.0,8576200.0,8797022.0,8892098.0,8971958.0,8658506.0,8066057.0,7661799.0,7322858.0,3882229.0,3991242.0,4076557.0,4174366.0,4225310.0,4318673.0,4413368.0,4484310.0,4494013.0,4444595.0,4481020.0,4493312.0,9125183.0,9513758.0,9620282.0,9835109.0,9862158.0,10161915.0,10303704.0,10311597.0,10315702.0,10300707.0,10256295.0,10228744.0,4334000.0,4487831.0,4646899.0,4838800.0,4991596.0,5088419.0,5117810.0,5127024.0,5171393.0,5283663.0,5374693.0,5468120.0,4090500.0,4324000.0,4491443.0,4605744.0,4639657.0,4738902.0,4826933.0,4931729.0,5041039.0,5134406.0,5193039.0,5238460.0,42459667.0,44310863.0,47124000.0,49569000.0,51732000.0,53165019.0,54433565.0,55630100.0,57374179.0,58623428.0,59925035.0,61083916.0,69145952.0,71019069.0,73739117.0,76368453.0,78717088.0,78160773.0,78335266.0,77718298.0,80597764.0,82011073.0,82350671.0,82400996.0,7733250.0,8096218.0,8448233.0,8716441.0,8888628.0,9308479.0,9786480.0,9974490.0,10325429.0,10502372.0,10603863.0,10706290.0,9504000.0,9839000.0,10063000.0,10223422.0,10394091.0,10637171.0,10705535.0,10612740.0,10348684.0,10244684.0,10083313.0,9956108.0,147962.0,165110.0,182053.0,198676.0,209275.0,221823.0,233997.0,244676.0,259012.0,271192.0,288030.0,301931.0,2952156.0,2878220.0,2830000.0,2900100.0,3024400.0,3271900.0,3480000.0,3539900.0,3557761.0,3667233.0,3879155.0,4109086.0,47666000.0,49182000.0,50843200.0,52667100.0,54365564.0,56059245.0,56535636.0,56729703.0,56840847.0,57479469.0,57926999.0,58147733.0,413834.0,442829.0,474528.0,501035.0,527678.0,560073.0,562548.0,569473.0,621621.0,692651.0,720230.0,684736.0,10381988.0,11026383.0,11805689.0,12596822.0,13329874.0,13852989.0,14310401.0,14665278.0,15174244.0,15604464.0,16122830.0,16570613.0,3327728.0,3491938.0,3638919.0,3786019.0,3933004.0,4043205.0,4114787.0,4186147.0,4286357.0,4405672.0,4535591.0,4627926.0,25730551.0,28235346.0,30329617.0,31785378.0,33039545.0,34621254.0,36227381.0,37740710.0,38370697.0,38654957.0,38625976.0,38518241.0,8526050.0,8817650.0,9019800.0,9103000.0,8970450.0,9662600.0,9859650.0,9915289.0,9927680.0,10156415.0,10433867.0,10642836.0,16630000.0,17829327.0,18680721.0,19284814.0,20662648.0,21658597.0,22356726.0,22686371.0,22797027.0,22562458.0,22404337.0,22276056.0,6860147.0,7271135.0,7616060.0,7971222.0,8313288.0,8686367.0,9032824.0,9230783.0,9826397.0,10336594.0,10111559.0,10150265.0,3558137.0,3844277.0,4237384.0,4442238.0,4593433.0,4827803.0,5048043.0,5199318.0,5302888.0,5383010.0,5410052.0,5447502.0,1489518.0,1533070.0,1582962.0,1646912.0,1694510.0,1746919.0,1861252.0,1945870.0,1999210.0,2011612.0,2011497.0,2009245.0,28549870.0,29841614.0,31158061.0,32850275.0,34513161.0,36439000.0,37983310.0,38880702.0,39549438.0,39855442.0,40152517.0,40448191.0,7124673.0,7363802.0,7561588.0,7867931.0,8122293.0,8251648.0,8325260.0,8421403.0,8718867.0,8897619.0,8954175.0,9031088.0,4815000.0,5126000.0,5666000.0,6063000.0,6401400.0,6316424.0,6468126.0,6649942.0,6995447.0,7193761.0,7361757.0,7554661.0,22235677.0,25670939.0,29788695.0,33411317.0,37492953.0,42404033.0,47328791.0,52881328.0,58179144.0,63047647.0,67308928.0,71158647.0,50430000.0,51430000.0,53292000.0,54959000.0,56079000.0,56179000.0,56339704.0,56981620.0,57866349.0,58808266.0,59912431.0,60776238.0],\"textposition\":\"outside\",\"texttemplate\":\"%{text:.2s}\",\"type\":\"bar\",\"x\":[\"Europe\",\"Europe\",\"Europe\",\"Europe\",\"Europe\",\"Europe\",\"Europe\",\"Europe\",\"Europe\",\"Europe\",\"Europe\",\"Europe\",\"Europe\",\"Europe\",\"Europe\",\"Europe\",\"Europe\",\"Europe\",\"Europe\",\"Europe\",\"Europe\",\"Europe\",\"Europe\",\"Europe\",\"Europe\",\"Europe\",\"Europe\",\"Europe\",\"Europe\",\"Europe\",\"Europe\",\"Europe\",\"Europe\",\"Europe\",\"Europe\",\"Europe\",\"Europe\",\"Europe\",\"Europe\",\"Europe\",\"Europe\",\"Europe\",\"Europe\",\"Europe\",\"Europe\",\"Europe\",\"Europe\",\"Europe\",\"Europe\",\"Europe\",\"Europe\",\"Europe\",\"Europe\",\"Europe\",\"Europe\",\"Europe\",\"Europe\",\"Europe\",\"Europe\",\"Europe\",\"Europe\",\"Europe\",\"Europe\",\"Europe\",\"Europe\",\"Europe\",\"Europe\",\"Europe\",\"Europe\",\"Europe\",\"Europe\",\"Europe\",\"Europe\",\"Europe\",\"Europe\",\"Europe\",\"Europe\",\"Europe\",\"Europe\",\"Europe\",\"Europe\",\"Europe\",\"Europe\",\"Europe\",\"Europe\",\"Europe\",\"Europe\",\"Europe\",\"Europe\",\"Europe\",\"Europe\",\"Europe\",\"Europe\",\"Europe\",\"Europe\",\"Europe\",\"Europe\",\"Europe\",\"Europe\",\"Europe\",\"Europe\",\"Europe\",\"Europe\",\"Europe\",\"Europe\",\"Europe\",\"Europe\",\"Europe\",\"Europe\",\"Europe\",\"Europe\",\"Europe\",\"Europe\",\"Europe\",\"Europe\",\"Europe\",\"Europe\",\"Europe\",\"Europe\",\"Europe\",\"Europe\",\"Europe\",\"Europe\",\"Europe\",\"Europe\",\"Europe\",\"Europe\",\"Europe\",\"Europe\",\"Europe\",\"Europe\",\"Europe\",\"Europe\",\"Europe\",\"Europe\",\"Europe\",\"Europe\",\"Europe\",\"Europe\",\"Europe\",\"Europe\",\"Europe\",\"Europe\",\"Europe\",\"Europe\",\"Europe\",\"Europe\",\"Europe\",\"Europe\",\"Europe\",\"Europe\",\"Europe\",\"Europe\",\"Europe\",\"Europe\",\"Europe\",\"Europe\",\"Europe\",\"Europe\",\"Europe\",\"Europe\",\"Europe\",\"Europe\",\"Europe\",\"Europe\",\"Europe\",\"Europe\",\"Europe\",\"Europe\",\"Europe\",\"Europe\",\"Europe\",\"Europe\",\"Europe\",\"Europe\",\"Europe\",\"Europe\",\"Europe\",\"Europe\",\"Europe\",\"Europe\",\"Europe\",\"Europe\",\"Europe\",\"Europe\",\"Europe\",\"Europe\",\"Europe\",\"Europe\",\"Europe\",\"Europe\",\"Europe\",\"Europe\",\"Europe\",\"Europe\",\"Europe\",\"Europe\",\"Europe\",\"Europe\",\"Europe\",\"Europe\",\"Europe\",\"Europe\",\"Europe\",\"Europe\",\"Europe\",\"Europe\",\"Europe\",\"Europe\",\"Europe\",\"Europe\",\"Europe\",\"Europe\",\"Europe\",\"Europe\",\"Europe\",\"Europe\",\"Europe\",\"Europe\",\"Europe\",\"Europe\",\"Europe\",\"Europe\",\"Europe\",\"Europe\",\"Europe\",\"Europe\",\"Europe\",\"Europe\",\"Europe\",\"Europe\",\"Europe\",\"Europe\",\"Europe\",\"Europe\",\"Europe\",\"Europe\",\"Europe\",\"Europe\",\"Europe\",\"Europe\",\"Europe\",\"Europe\",\"Europe\",\"Europe\",\"Europe\",\"Europe\",\"Europe\",\"Europe\",\"Europe\",\"Europe\",\"Europe\",\"Europe\",\"Europe\",\"Europe\",\"Europe\",\"Europe\",\"Europe\",\"Europe\",\"Europe\",\"Europe\",\"Europe\",\"Europe\",\"Europe\",\"Europe\",\"Europe\",\"Europe\",\"Europe\",\"Europe\",\"Europe\",\"Europe\",\"Europe\",\"Europe\",\"Europe\",\"Europe\",\"Europe\",\"Europe\",\"Europe\",\"Europe\",\"Europe\",\"Europe\",\"Europe\",\"Europe\",\"Europe\",\"Europe\",\"Europe\",\"Europe\",\"Europe\",\"Europe\",\"Europe\",\"Europe\",\"Europe\",\"Europe\",\"Europe\",\"Europe\",\"Europe\",\"Europe\",\"Europe\",\"Europe\",\"Europe\",\"Europe\",\"Europe\",\"Europe\",\"Europe\",\"Europe\",\"Europe\",\"Europe\",\"Europe\",\"Europe\",\"Europe\",\"Europe\",\"Europe\",\"Europe\",\"Europe\",\"Europe\",\"Europe\",\"Europe\",\"Europe\",\"Europe\",\"Europe\",\"Europe\",\"Europe\",\"Europe\",\"Europe\",\"Europe\",\"Europe\",\"Europe\",\"Europe\",\"Europe\",\"Europe\",\"Europe\",\"Europe\",\"Europe\",\"Europe\",\"Europe\",\"Europe\",\"Europe\",\"Europe\",\"Europe\",\"Europe\",\"Europe\",\"Europe\",\"Europe\",\"Europe\",\"Europe\",\"Europe\",\"Europe\",\"Europe\",\"Europe\",\"Europe\",\"Europe\",\"Europe\",\"Europe\",\"Europe\",\"Europe\",\"Europe\",\"Europe\",\"Europe\",\"Europe\",\"Europe\"],\"xaxis\":\"x\",\"y\":[1282697,1476505,1728137,1984060,2263554,2509048,2780097,3075321,3326498,3428038,3508512,3600523,6927772,6965860,7129864,7376998,7544201,7568430,7574613,7578903,7914969,8069876,8148312,8199783,8730405,8989111,9218400,9556500,9709100,9821800,9856303,9870200,10045622,10199787,10311970,10392226,2791000,3076000,3349000,3585000,3819000,4086000,4172693,4338977,4256013,3607000,4165416,4552198,7274900,7651254,8012946,8310226,8576200,8797022,8892098,8971958,8658506,8066057,7661799,7322858,3882229,3991242,4076557,4174366,4225310,4318673,4413368,4484310,4494013,4444595,4481020,4493312,9125183,9513758,9620282,9835109,9862158,10161915,10303704,10311597,10315702,10300707,10256295,10228744,4334000,4487831,4646899,4838800,4991596,5088419,5117810,5127024,5171393,5283663,5374693,5468120,4090500,4324000,4491443,4605744,4639657,4738902,4826933,4931729,5041039,5134406,5193039,5238460,42459667,44310863,47124000,49569000,51732000,53165019,54433565,55630100,57374179,58623428,59925035,61083916,69145952,71019069,73739117,76368453,78717088,78160773,78335266,77718298,80597764,82011073,82350671,82400996,7733250,8096218,8448233,8716441,8888628,9308479,9786480,9974490,10325429,10502372,10603863,10706290,9504000,9839000,10063000,10223422,10394091,10637171,10705535,10612740,10348684,10244684,10083313,9956108,147962,165110,182053,198676,209275,221823,233997,244676,259012,271192,288030,301931,2952156,2878220,2830000,2900100,3024400,3271900,3480000,3539900,3557761,3667233,3879155,4109086,47666000,49182000,50843200,52667100,54365564,56059245,56535636,56729703,56840847,57479469,57926999,58147733,413834,442829,474528,501035,527678,560073,562548,569473,621621,692651,720230,684736,10381988,11026383,11805689,12596822,13329874,13852989,14310401,14665278,15174244,15604464,16122830,16570613,3327728,3491938,3638919,3786019,3933004,4043205,4114787,4186147,4286357,4405672,4535591,4627926,25730551,28235346,30329617,31785378,33039545,34621254,36227381,37740710,38370697,38654957,38625976,38518241,8526050,8817650,9019800,9103000,8970450,9662600,9859650,9915289,9927680,10156415,10433867,10642836,16630000,17829327,18680721,19284814,20662648,21658597,22356726,22686371,22797027,22562458,22404337,22276056,6860147,7271135,7616060,7971222,8313288,8686367,9032824,9230783,9826397,10336594,10111559,10150265,3558137,3844277,4237384,4442238,4593433,4827803,5048043,5199318,5302888,5383010,5410052,5447502,1489518,1533070,1582962,1646912,1694510,1746919,1861252,1945870,1999210,2011612,2011497,2009245,28549870,29841614,31158061,32850275,34513161,36439000,37983310,38880702,39549438,39855442,40152517,40448191,7124673,7363802,7561588,7867931,8122293,8251648,8325260,8421403,8718867,8897619,8954175,9031088,4815000,5126000,5666000,6063000,6401400,6316424,6468126,6649942,6995447,7193761,7361757,7554661,22235677,25670939,29788695,33411317,37492953,42404033,47328791,52881328,58179144,63047647,67308928,71158647,50430000,51430000,53292000,54959000,56079000,56179000,56339704,56981620,57866349,58808266,59912431,60776238],\"yaxis\":\"y\"},{\"alignmentgroup\":\"True\",\"hovertemplate\":\"continent=%{x}<br>pop=%{text}<extra></extra>\",\"legendgroup\":\"Africa\",\"marker\":{\"color\":\"#00cc96\",\"pattern\":{\"shape\":\"\"}},\"name\":\"Africa\",\"offsetgroup\":\"Africa\",\"orientation\":\"v\",\"showlegend\":true,\"text\":[9279525.0,10270856.0,11000948.0,12760499.0,14760787.0,17152804.0,20033753.0,23254956.0,26298373.0,29072015.0,31287142.0,33333216.0,4232095.0,4561361.0,4826015.0,5247469.0,5894858.0,6162675.0,7016384.0,7874230.0,8735988.0,9875024.0,10866106.0,12420476.0,1738315.0,1925173.0,2151895.0,2427334.0,2761407.0,3168267.0,3641603.0,4243788.0,4981671.0,6066080.0,7026113.0,8078314.0,442308.0,474639.0,512764.0,553541.0,619351.0,781472.0,970347.0,1151184.0,1342614.0,1536536.0,1630347.0,1639131.0,4469979.0,4713416.0,4919632.0,5127935.0,5433886.0,5889574.0,6634596.0,7586551.0,8878303.0,10352843.0,12251209.0,14326203.0,2445618.0,2667518.0,2961915.0,3330989.0,3529983.0,3834415.0,4580410.0,5126023.0,5809236.0,6121610.0,7021078.0,8390505.0,5009067.0,5359923.0,5793633.0,6335506.0,7021028.0,7959865.0,9250831.0,10780667.0,12467171.0,14195809.0,15929988.0,17696293.0,1291695.0,1392284.0,1523478.0,1733638.0,1927260.0,2167533.0,2476971.0,2840009.0,3265124.0,3696513.0,4048013.0,4369038.0,2682462.0,2894855.0,3150417.0,3495967.0,3899068.0,4388260.0,4875118.0,5498955.0,6429417.0,7562011.0,8835739.0,10238807.0,153936.0,170928.0,191689.0,217378.0,250027.0,304739.0,348643.0,395114.0,454429.0,527982.0,614382.0,710960.0,14100005.0,15577932.0,17486434.0,19941073.0,23007669.0,26480870.0,30646495.0,35481645.0,41672143.0,47798986.0,55379852.0,64606759.0,854885.0,940458.0,1047924.0,1179760.0,1340458.0,1536769.0,1774735.0,2064095.0,2409073.0,2800947.0,3328795.0,3800610.0,2977019.0,3300000.0,3832408.0,4744870.0,6071696.0,7459574.0,9025951.0,10761098.0,12772596.0,14625967.0,16252726.0,18013409.0,63149.0,71851.0,89898.0,127617.0,178848.0,228694.0,305991.0,311025.0,384156.0,417908.0,447416.0,496374.0,22223309.0,25009741.0,28173309.0,31681188.0,34807417.0,38783863.0,45681811.0,52799062.0,59402198.0,66134291.0,73312559.0,80264543.0,216964.0,232922.0,249220.0,259864.0,277603.0,192675.0,285483.0,341244.0,387838.0,439971.0,495627.0,551201.0,1438760.0,1542611.0,1666618.0,1820319.0,2260187.0,2512642.0,2637297.0,2915959.0,3668440.0,4058319.0,4414865.0,4906585.0,20860941.0,22815614.0,25145372.0,27860297.0,30770372.0,34617799.0,38111756.0,42999530.0,52088559.0,59861301.0,67946797.0,76511887.0,420702.0,434904.0,455661.0,489004.0,537977.0,706367.0,753874.0,880397.0,985739.0,1126189.0,1299304.0,1454867.0,284320.0,323150.0,374020.0,439593.0,517101.0,608274.0,715523.0,848406.0,1025384.0,1235767.0,1457766.0,1688359.0,5581001.0,6391288.0,7355248.0,8490213.0,9354120.0,10538093.0,11400338.0,14168101.0,16278738.0,18418288.0,20550751.0,22873338.0,2664249.0,2876726.0,3140003.0,3451418.0,3811387.0,4227026.0,4710497.0,5650262.0,6990574.0,8048834.0,8807818.0,9947814.0,580653.0,601095.0,627820.0,601287.0,625361.0,745228.0,825987.0,927524.0,1050938.0,1193708.0,1332459.0,1472041.0,6464046.0,7454779.0,8678557.0,10191512.0,12044785.0,14500404.0,17661452.0,21198082.0,25020539.0,28263827.0,31386842.0,35610177.0,748747.0,813338.0,893143.0,996380.0,1116779.0,1251524.0,1411807.0,1599200.0,1803195.0,1982823.0,2046772.0,2012649.0,863308.0,975950.0,1112796.0,1279406.0,1482628.0,1703617.0,1956875.0,2269414.0,1912974.0,2200725.0,2814651.0,3193942.0,1019729.0,1201578.0,1441863.0,1759224.0,2183877.0,2721783.0,3344074.0,3799845.0,4364501.0,4759670.0,5368585.0,6036914.0,4762912.0,5181679.0,5703324.0,6334556.0,7082430.0,8007166.0,9171477.0,10568642.0,12210395.0,14165114.0,16473477.0,19167654.0,2917802.0,3221238.0,3628608.0,4147252.0,4730997.0,5637246.0,6502825.0,7824747.0,10014249.0,10419991.0,11824495.0,13327079.0,3838168.0,4241884.0,4690372.0,5212416.0,5828158.0,6491649.0,6998256.0,7634008.0,8416215.0,9384984.0,10580176.0,12031795.0,1022556.0,1076852.0,1146757.0,1230542.0,1332786.0,1456688.0,1622136.0,1841240.0,2119465.0,2444741.0,2828858.0,3270065.0,516556.0,609816.0,701016.0,789309.0,851334.0,913025.0,992040.0,1042663.0,1096202.0,1149818.0,1200206.0,1250882.0,9939217.0,11406350.0,13056604.0,14770296.0,16660670.0,18396941.0,20198730.0,22987397.0,25798239.0,28529501.0,31167783.0,33757175.0,6446316.0,7038035.0,7788944.0,8680909.0,9809596.0,11127868.0,12587223.0,12891952.0,13160731.0,16603334.0,18473780.0,19951656.0,485831.0,548080.0,621392.0,706640.0,821782.0,977026.0,1099010.0,1278184.0,1554253.0,1774766.0,1972153.0,2055080.0,3379468.0,3692184.0,4076008.0,4534062.0,5060262.0,5682086.0,6437188.0,7332638.0,8392818.0,9666252.0,11140655.0,12894865.0,33119096.0,37173340.0,41871351.0,47287752.0,53740085.0,62209173.0,73039376.0,81551520.0,93364244.0,106207839.0,119901274.0,135031164.0,257700.0,308700.0,358900.0,414024.0,461633.0,492095.0,517810.0,562035.0,622191.0,684810.0,743981.0,798094.0,2534927.0,2822082.0,3051242.0,3451079.0,3992121.0,4657072.0,5507565.0,6349365.0,7290203.0,7212583.0,7852401.0,8860588.0,60011.0,61325.0,65345.0,70787.0,76595.0,86796.0,98593.0,110812.0,125911.0,145608.0,170372.0,199579.0,2755589.0,3054547.0,3430243.0,3965841.0,4588696.0,5260855.0,6147783.0,7171347.0,8307920.0,9535314.0,10870037.0,12267493.0,2143249.0,2295678.0,2467895.0,2662190.0,2879013.0,3140897.0,3464522.0,3868905.0,4260884.0,4578212.0,5359092.0,6144562.0,2526994.0,2780415.0,3080153.0,3428839.0,3840161.0,4353666.0,5828892.0,6921858.0,6099799.0,6633514.0,7753310.0,9118773.0,14264935.0,16151549.0,18356657.0,20997321.0,23935810.0,27129932.0,31140029.0,35933379.0,39964159.0,42835005.0,44433622.0,43997828.0,8504667.0,9753392.0,11183227.0,12716129.0,14597019.0,17104986.0,20367053.0,24725960.0,28227588.0,32160729.0,37090298.0,42292929.0,290243.0,326741.0,370006.0,420690.0,480105.0,551425.0,649901.0,779348.0,962344.0,1054486.0,1130269.0,1133066.0,8322925.0,9452826.0,10863958.0,12607312.0,14706593.0,17129565.0,19844382.0,23040630.0,26605473.0,30686889.0,34593779.0,38139640.0,1219113.0,1357445.0,1528098.0,1735550.0,2056351.0,2308582.0,2644765.0,3154264.0,3747553.0,4320890.0,4977378.0,5701579.0,3647735.0,3950849.0,4286552.0,4786986.0,5303507.0,6005061.0,6734098.0,7724976.0,8523077.0,9231669.0,9770575.0,10276158.0,5824797.0,6675501.0,7688797.0,8900294.0,10190285.0,11457758.0,12939400.0,15283050.0,18252190.0,21210254.0,24739869.0,29170398.0,2672000.0,3016000.0,3421000.0,3900000.0,4506497.0,5216550.0,6100407.0,7272406.0,8381163.0,9417789.0,10595811.0,11746035.0,3080907.0,3646340.0,4277736.0,4995432.0,5861135.0,6642107.0,7636524.0,9216418.0,10704340.0,11404948.0,11926563.0,12311143.0],\"textposition\":\"outside\",\"texttemplate\":\"%{text:.2s}\",\"type\":\"bar\",\"x\":[\"Africa\",\"Africa\",\"Africa\",\"Africa\",\"Africa\",\"Africa\",\"Africa\",\"Africa\",\"Africa\",\"Africa\",\"Africa\",\"Africa\",\"Africa\",\"Africa\",\"Africa\",\"Africa\",\"Africa\",\"Africa\",\"Africa\",\"Africa\",\"Africa\",\"Africa\",\"Africa\",\"Africa\",\"Africa\",\"Africa\",\"Africa\",\"Africa\",\"Africa\",\"Africa\",\"Africa\",\"Africa\",\"Africa\",\"Africa\",\"Africa\",\"Africa\",\"Africa\",\"Africa\",\"Africa\",\"Africa\",\"Africa\",\"Africa\",\"Africa\",\"Africa\",\"Africa\",\"Africa\",\"Africa\",\"Africa\",\"Africa\",\"Africa\",\"Africa\",\"Africa\",\"Africa\",\"Africa\",\"Africa\",\"Africa\",\"Africa\",\"Africa\",\"Africa\",\"Africa\",\"Africa\",\"Africa\",\"Africa\",\"Africa\",\"Africa\",\"Africa\",\"Africa\",\"Africa\",\"Africa\",\"Africa\",\"Africa\",\"Africa\",\"Africa\",\"Africa\",\"Africa\",\"Africa\",\"Africa\",\"Africa\",\"Africa\",\"Africa\",\"Africa\",\"Africa\",\"Africa\",\"Africa\",\"Africa\",\"Africa\",\"Africa\",\"Africa\",\"Africa\",\"Africa\",\"Africa\",\"Africa\",\"Africa\",\"Africa\",\"Africa\",\"Africa\",\"Africa\",\"Africa\",\"Africa\",\"Africa\",\"Africa\",\"Africa\",\"Africa\",\"Africa\",\"Africa\",\"Africa\",\"Africa\",\"Africa\",\"Africa\",\"Africa\",\"Africa\",\"Africa\",\"Africa\",\"Africa\",\"Africa\",\"Africa\",\"Africa\",\"Africa\",\"Africa\",\"Africa\",\"Africa\",\"Africa\",\"Africa\",\"Africa\",\"Africa\",\"Africa\",\"Africa\",\"Africa\",\"Africa\",\"Africa\",\"Africa\",\"Africa\",\"Africa\",\"Africa\",\"Africa\",\"Africa\",\"Africa\",\"Africa\",\"Africa\",\"Africa\",\"Africa\",\"Africa\",\"Africa\",\"Africa\",\"Africa\",\"Africa\",\"Africa\",\"Africa\",\"Africa\",\"Africa\",\"Africa\",\"Africa\",\"Africa\",\"Africa\",\"Africa\",\"Africa\",\"Africa\",\"Africa\",\"Africa\",\"Africa\",\"Africa\",\"Africa\",\"Africa\",\"Africa\",\"Africa\",\"Africa\",\"Africa\",\"Africa\",\"Africa\",\"Africa\",\"Africa\",\"Africa\",\"Africa\",\"Africa\",\"Africa\",\"Africa\",\"Africa\",\"Africa\",\"Africa\",\"Africa\",\"Africa\",\"Africa\",\"Africa\",\"Africa\",\"Africa\",\"Africa\",\"Africa\",\"Africa\",\"Africa\",\"Africa\",\"Africa\",\"Africa\",\"Africa\",\"Africa\",\"Africa\",\"Africa\",\"Africa\",\"Africa\",\"Africa\",\"Africa\",\"Africa\",\"Africa\",\"Africa\",\"Africa\",\"Africa\",\"Africa\",\"Africa\",\"Africa\",\"Africa\",\"Africa\",\"Africa\",\"Africa\",\"Africa\",\"Africa\",\"Africa\",\"Africa\",\"Africa\",\"Africa\",\"Africa\",\"Africa\",\"Africa\",\"Africa\",\"Africa\",\"Africa\",\"Africa\",\"Africa\",\"Africa\",\"Africa\",\"Africa\",\"Africa\",\"Africa\",\"Africa\",\"Africa\",\"Africa\",\"Africa\",\"Africa\",\"Africa\",\"Africa\",\"Africa\",\"Africa\",\"Africa\",\"Africa\",\"Africa\",\"Africa\",\"Africa\",\"Africa\",\"Africa\",\"Africa\",\"Africa\",\"Africa\",\"Africa\",\"Africa\",\"Africa\",\"Africa\",\"Africa\",\"Africa\",\"Africa\",\"Africa\",\"Africa\",\"Africa\",\"Africa\",\"Africa\",\"Africa\",\"Africa\",\"Africa\",\"Africa\",\"Africa\",\"Africa\",\"Africa\",\"Africa\",\"Africa\",\"Africa\",\"Africa\",\"Africa\",\"Africa\",\"Africa\",\"Africa\",\"Africa\",\"Africa\",\"Africa\",\"Africa\",\"Africa\",\"Africa\",\"Africa\",\"Africa\",\"Africa\",\"Africa\",\"Africa\",\"Africa\",\"Africa\",\"Africa\",\"Africa\",\"Africa\",\"Africa\",\"Africa\",\"Africa\",\"Africa\",\"Africa\",\"Africa\",\"Africa\",\"Africa\",\"Africa\",\"Africa\",\"Africa\",\"Africa\",\"Africa\",\"Africa\",\"Africa\",\"Africa\",\"Africa\",\"Africa\",\"Africa\",\"Africa\",\"Africa\",\"Africa\",\"Africa\",\"Africa\",\"Africa\",\"Africa\",\"Africa\",\"Africa\",\"Africa\",\"Africa\",\"Africa\",\"Africa\",\"Africa\",\"Africa\",\"Africa\",\"Africa\",\"Africa\",\"Africa\",\"Africa\",\"Africa\",\"Africa\",\"Africa\",\"Africa\",\"Africa\",\"Africa\",\"Africa\",\"Africa\",\"Africa\",\"Africa\",\"Africa\",\"Africa\",\"Africa\",\"Africa\",\"Africa\",\"Africa\",\"Africa\",\"Africa\",\"Africa\",\"Africa\",\"Africa\",\"Africa\",\"Africa\",\"Africa\",\"Africa\",\"Africa\",\"Africa\",\"Africa\",\"Africa\",\"Africa\",\"Africa\",\"Africa\",\"Africa\",\"Africa\",\"Africa\",\"Africa\",\"Africa\",\"Africa\",\"Africa\",\"Africa\",\"Africa\",\"Africa\",\"Africa\",\"Africa\",\"Africa\",\"Africa\",\"Africa\",\"Africa\",\"Africa\",\"Africa\",\"Africa\",\"Africa\",\"Africa\",\"Africa\",\"Africa\",\"Africa\",\"Africa\",\"Africa\",\"Africa\",\"Africa\",\"Africa\",\"Africa\",\"Africa\",\"Africa\",\"Africa\",\"Africa\",\"Africa\",\"Africa\",\"Africa\",\"Africa\",\"Africa\",\"Africa\",\"Africa\",\"Africa\",\"Africa\",\"Africa\",\"Africa\",\"Africa\",\"Africa\",\"Africa\",\"Africa\",\"Africa\",\"Africa\",\"Africa\",\"Africa\",\"Africa\",\"Africa\",\"Africa\",\"Africa\",\"Africa\",\"Africa\",\"Africa\",\"Africa\",\"Africa\",\"Africa\",\"Africa\",\"Africa\",\"Africa\",\"Africa\",\"Africa\",\"Africa\",\"Africa\",\"Africa\",\"Africa\",\"Africa\",\"Africa\",\"Africa\",\"Africa\",\"Africa\",\"Africa\",\"Africa\",\"Africa\",\"Africa\",\"Africa\",\"Africa\",\"Africa\",\"Africa\",\"Africa\",\"Africa\",\"Africa\",\"Africa\",\"Africa\",\"Africa\",\"Africa\",\"Africa\",\"Africa\",\"Africa\",\"Africa\",\"Africa\",\"Africa\",\"Africa\",\"Africa\",\"Africa\",\"Africa\",\"Africa\",\"Africa\",\"Africa\",\"Africa\",\"Africa\",\"Africa\",\"Africa\",\"Africa\",\"Africa\",\"Africa\",\"Africa\",\"Africa\",\"Africa\",\"Africa\",\"Africa\",\"Africa\",\"Africa\",\"Africa\",\"Africa\",\"Africa\",\"Africa\",\"Africa\",\"Africa\",\"Africa\",\"Africa\",\"Africa\",\"Africa\",\"Africa\",\"Africa\",\"Africa\",\"Africa\",\"Africa\",\"Africa\",\"Africa\",\"Africa\",\"Africa\",\"Africa\",\"Africa\",\"Africa\",\"Africa\",\"Africa\",\"Africa\",\"Africa\",\"Africa\",\"Africa\",\"Africa\",\"Africa\",\"Africa\",\"Africa\",\"Africa\",\"Africa\",\"Africa\",\"Africa\",\"Africa\",\"Africa\",\"Africa\",\"Africa\",\"Africa\",\"Africa\",\"Africa\",\"Africa\",\"Africa\",\"Africa\",\"Africa\",\"Africa\",\"Africa\",\"Africa\",\"Africa\",\"Africa\",\"Africa\",\"Africa\",\"Africa\",\"Africa\",\"Africa\",\"Africa\",\"Africa\",\"Africa\",\"Africa\",\"Africa\",\"Africa\",\"Africa\",\"Africa\",\"Africa\",\"Africa\",\"Africa\",\"Africa\",\"Africa\",\"Africa\",\"Africa\",\"Africa\",\"Africa\",\"Africa\",\"Africa\",\"Africa\",\"Africa\",\"Africa\",\"Africa\",\"Africa\",\"Africa\",\"Africa\",\"Africa\",\"Africa\",\"Africa\",\"Africa\",\"Africa\",\"Africa\",\"Africa\",\"Africa\",\"Africa\",\"Africa\",\"Africa\",\"Africa\",\"Africa\",\"Africa\",\"Africa\",\"Africa\",\"Africa\",\"Africa\",\"Africa\",\"Africa\",\"Africa\",\"Africa\",\"Africa\",\"Africa\",\"Africa\",\"Africa\",\"Africa\",\"Africa\",\"Africa\",\"Africa\",\"Africa\",\"Africa\",\"Africa\",\"Africa\",\"Africa\",\"Africa\",\"Africa\",\"Africa\",\"Africa\",\"Africa\",\"Africa\",\"Africa\",\"Africa\",\"Africa\",\"Africa\",\"Africa\",\"Africa\",\"Africa\",\"Africa\",\"Africa\",\"Africa\",\"Africa\",\"Africa\",\"Africa\",\"Africa\",\"Africa\",\"Africa\",\"Africa\"],\"xaxis\":\"x\",\"y\":[9279525,10270856,11000948,12760499,14760787,17152804,20033753,23254956,26298373,29072015,31287142,33333216,4232095,4561361,4826015,5247469,5894858,6162675,7016384,7874230,8735988,9875024,10866106,12420476,1738315,1925173,2151895,2427334,2761407,3168267,3641603,4243788,4981671,6066080,7026113,8078314,442308,474639,512764,553541,619351,781472,970347,1151184,1342614,1536536,1630347,1639131,4469979,4713416,4919632,5127935,5433886,5889574,6634596,7586551,8878303,10352843,12251209,14326203,2445618,2667518,2961915,3330989,3529983,3834415,4580410,5126023,5809236,6121610,7021078,8390505,5009067,5359923,5793633,6335506,7021028,7959865,9250831,10780667,12467171,14195809,15929988,17696293,1291695,1392284,1523478,1733638,1927260,2167533,2476971,2840009,3265124,3696513,4048013,4369038,2682462,2894855,3150417,3495967,3899068,4388260,4875118,5498955,6429417,7562011,8835739,10238807,153936,170928,191689,217378,250027,304739,348643,395114,454429,527982,614382,710960,14100005,15577932,17486434,19941073,23007669,26480870,30646495,35481645,41672143,47798986,55379852,64606759,854885,940458,1047924,1179760,1340458,1536769,1774735,2064095,2409073,2800947,3328795,3800610,2977019,3300000,3832408,4744870,6071696,7459574,9025951,10761098,12772596,14625967,16252726,18013409,63149,71851,89898,127617,178848,228694,305991,311025,384156,417908,447416,496374,22223309,25009741,28173309,31681188,34807417,38783863,45681811,52799062,59402198,66134291,73312559,80264543,216964,232922,249220,259864,277603,192675,285483,341244,387838,439971,495627,551201,1438760,1542611,1666618,1820319,2260187,2512642,2637297,2915959,3668440,4058319,4414865,4906585,20860941,22815614,25145372,27860297,30770372,34617799,38111756,42999530,52088559,59861301,67946797,76511887,420702,434904,455661,489004,537977,706367,753874,880397,985739,1126189,1299304,1454867,284320,323150,374020,439593,517101,608274,715523,848406,1025384,1235767,1457766,1688359,5581001,6391288,7355248,8490213,9354120,10538093,11400338,14168101,16278738,18418288,20550751,22873338,2664249,2876726,3140003,3451418,3811387,4227026,4710497,5650262,6990574,8048834,8807818,9947814,580653,601095,627820,601287,625361,745228,825987,927524,1050938,1193708,1332459,1472041,6464046,7454779,8678557,10191512,12044785,14500404,17661452,21198082,25020539,28263827,31386842,35610177,748747,813338,893143,996380,1116779,1251524,1411807,1599200,1803195,1982823,2046772,2012649,863308,975950,1112796,1279406,1482628,1703617,1956875,2269414,1912974,2200725,2814651,3193942,1019729,1201578,1441863,1759224,2183877,2721783,3344074,3799845,4364501,4759670,5368585,6036914,4762912,5181679,5703324,6334556,7082430,8007166,9171477,10568642,12210395,14165114,16473477,19167654,2917802,3221238,3628608,4147252,4730997,5637246,6502825,7824747,10014249,10419991,11824495,13327079,3838168,4241884,4690372,5212416,5828158,6491649,6998256,7634008,8416215,9384984,10580176,12031795,1022556,1076852,1146757,1230542,1332786,1456688,1622136,1841240,2119465,2444741,2828858,3270065,516556,609816,701016,789309,851334,913025,992040,1042663,1096202,1149818,1200206,1250882,9939217,11406350,13056604,14770296,16660670,18396941,20198730,22987397,25798239,28529501,31167783,33757175,6446316,7038035,7788944,8680909,9809596,11127868,12587223,12891952,13160731,16603334,18473780,19951656,485831,548080,621392,706640,821782,977026,1099010,1278184,1554253,1774766,1972153,2055080,3379468,3692184,4076008,4534062,5060262,5682086,6437188,7332638,8392818,9666252,11140655,12894865,33119096,37173340,41871351,47287752,53740085,62209173,73039376,81551520,93364244,106207839,119901274,135031164,257700,308700,358900,414024,461633,492095,517810,562035,622191,684810,743981,798094,2534927,2822082,3051242,3451079,3992121,4657072,5507565,6349365,7290203,7212583,7852401,8860588,60011,61325,65345,70787,76595,86796,98593,110812,125911,145608,170372,199579,2755589,3054547,3430243,3965841,4588696,5260855,6147783,7171347,8307920,9535314,10870037,12267493,2143249,2295678,2467895,2662190,2879013,3140897,3464522,3868905,4260884,4578212,5359092,6144562,2526994,2780415,3080153,3428839,3840161,4353666,5828892,6921858,6099799,6633514,7753310,9118773,14264935,16151549,18356657,20997321,23935810,27129932,31140029,35933379,39964159,42835005,44433622,43997828,8504667,9753392,11183227,12716129,14597019,17104986,20367053,24725960,28227588,32160729,37090298,42292929,290243,326741,370006,420690,480105,551425,649901,779348,962344,1054486,1130269,1133066,8322925,9452826,10863958,12607312,14706593,17129565,19844382,23040630,26605473,30686889,34593779,38139640,1219113,1357445,1528098,1735550,2056351,2308582,2644765,3154264,3747553,4320890,4977378,5701579,3647735,3950849,4286552,4786986,5303507,6005061,6734098,7724976,8523077,9231669,9770575,10276158,5824797,6675501,7688797,8900294,10190285,11457758,12939400,15283050,18252190,21210254,24739869,29170398,2672000,3016000,3421000,3900000,4506497,5216550,6100407,7272406,8381163,9417789,10595811,11746035,3080907,3646340,4277736,4995432,5861135,6642107,7636524,9216418,10704340,11404948,11926563,12311143],\"yaxis\":\"y\"},{\"alignmentgroup\":\"True\",\"hovertemplate\":\"continent=%{x}<br>pop=%{text}<extra></extra>\",\"legendgroup\":\"Americas\",\"marker\":{\"color\":\"#ab63fa\",\"pattern\":{\"shape\":\"\"}},\"name\":\"Americas\",\"offsetgroup\":\"Americas\",\"orientation\":\"v\",\"showlegend\":true,\"text\":[17876956.0,19610538.0,21283783.0,22934225.0,24779799.0,26983828.0,29341374.0,31620918.0,33958947.0,36203463.0,38331121.0,40301927.0,2883315.0,3211738.0,3593918.0,4040665.0,4565872.0,5079716.0,5642224.0,6156369.0,6893451.0,7693188.0,8445134.0,9119152.0,56602560.0,65551171.0,76039390.0,88049823.0,100840058.0,114313951.0,128962939.0,142938076.0,155975974.0,168546719.0,179914212.0,190010647.0,14785584.0,17010154.0,18985849.0,20819767.0,22284500.0,23796400.0,25201900.0,26549700.0,28523502.0,30305843.0,31902268.0,33390141.0,6377619.0,7048426.0,7961258.0,8858908.0,9717524.0,10599793.0,11487112.0,12463354.0,13572994.0,14599929.0,15497046.0,16284741.0,12350771.0,14485993.0,17009885.0,19764027.0,22542890.0,25094412.0,27764644.0,30964245.0,34202721.0,37657830.0,41008227.0,44227550.0,926317.0,1112300.0,1345187.0,1588717.0,1834796.0,2108457.0,2424367.0,2799811.0,3173216.0,3518107.0,3834934.0,4133884.0,6007797.0,6640752.0,7254373.0,8139332.0,8831348.0,9537988.0,9789224.0,10239839.0,10723260.0,10983007.0,11226999.0,11416987.0,2491346.0,2923186.0,3453434.0,4049146.0,4671329.0,5302800.0,5968349.0,6655297.0,7351181.0,7992357.0,8650322.0,9319622.0,3548753.0,4058385.0,4681707.0,5432424.0,6298651.0,7278866.0,8365850.0,9545158.0,10748394.0,11911819.0,12921234.0,13755680.0,2042865.0,2355805.0,2747687.0,3232927.0,3790903.0,4282586.0,4474873.0,4842194.0,5274649.0,5783439.0,6353681.0,6939688.0,3146381.0,3640876.0,4208858.0,4690773.0,5149581.0,5703430.0,6395630.0,7326406.0,8486949.0,9803875.0,11178650.0,12572928.0,3201488.0,3507701.0,3880130.0,4318137.0,4698301.0,4908554.0,5198399.0,5756203.0,6326682.0,6913545.0,7607651.0,8502814.0,1517453.0,1770390.0,2090162.0,2500689.0,2965146.0,3055235.0,3669448.0,4372203.0,5077347.0,5867957.0,6677328.0,7483763.0,1426095.0,1535090.0,1665128.0,1861096.0,1997616.0,2156814.0,2298309.0,2326606.0,2378618.0,2531311.0,2664659.0,2780132.0,30144317.0,35015548.0,41121485.0,47995559.0,55984294.0,63759976.0,71640904.0,80122492.0,88111030.0,95895146.0,102479927.0,108700891.0,1165790.0,1358828.0,1590597.0,1865490.0,2182908.0,2554598.0,2979423.0,3344353.0,4017939.0,4609572.0,5146848.0,5675356.0,940080.0,1063506.0,1215725.0,1405486.0,1616384.0,1839782.0,2036305.0,2253639.0,2484997.0,2734531.0,2990875.0,3242173.0,1555876.0,1770902.0,2009813.0,2287985.0,2614104.0,2984494.0,3366439.0,3886512.0,4483945.0,5154123.0,5884491.0,6667147.0,8025700.0,9146100.0,10516500.0,12132200.0,13954700.0,15990099.0,18125129.0,20195924.0,22430449.0,24748122.0,26769436.0,28674757.0,2227000.0,2260000.0,2448046.0,2648961.0,2847132.0,3080828.0,3279001.0,3444468.0,3585176.0,3759430.0,3859606.0,3942491.0,662850.0,764900.0,887498.0,960155.0,975199.0,1039009.0,1116479.0,1191336.0,1183669.0,1138101.0,1101832.0,1056608.0,157553000.0,171984000.0,186538000.0,198712000.0,209896000.0,220239000.0,232187835.0,242803533.0,256894189.0,272911760.0,287675526.0,301139947.0,2252965.0,2424959.0,2598466.0,2748579.0,2829526.0,2873520.0,2953997.0,3045153.0,3149262.0,3262838.0,3363085.0,3447496.0,5439568.0,6702668.0,8143375.0,9709552.0,11515649.0,13503563.0,15620766.0,17910182.0,20265563.0,22374398.0,24287670.0,26084662.0],\"textposition\":\"outside\",\"texttemplate\":\"%{text:.2s}\",\"type\":\"bar\",\"x\":[\"Americas\",\"Americas\",\"Americas\",\"Americas\",\"Americas\",\"Americas\",\"Americas\",\"Americas\",\"Americas\",\"Americas\",\"Americas\",\"Americas\",\"Americas\",\"Americas\",\"Americas\",\"Americas\",\"Americas\",\"Americas\",\"Americas\",\"Americas\",\"Americas\",\"Americas\",\"Americas\",\"Americas\",\"Americas\",\"Americas\",\"Americas\",\"Americas\",\"Americas\",\"Americas\",\"Americas\",\"Americas\",\"Americas\",\"Americas\",\"Americas\",\"Americas\",\"Americas\",\"Americas\",\"Americas\",\"Americas\",\"Americas\",\"Americas\",\"Americas\",\"Americas\",\"Americas\",\"Americas\",\"Americas\",\"Americas\",\"Americas\",\"Americas\",\"Americas\",\"Americas\",\"Americas\",\"Americas\",\"Americas\",\"Americas\",\"Americas\",\"Americas\",\"Americas\",\"Americas\",\"Americas\",\"Americas\",\"Americas\",\"Americas\",\"Americas\",\"Americas\",\"Americas\",\"Americas\",\"Americas\",\"Americas\",\"Americas\",\"Americas\",\"Americas\",\"Americas\",\"Americas\",\"Americas\",\"Americas\",\"Americas\",\"Americas\",\"Americas\",\"Americas\",\"Americas\",\"Americas\",\"Americas\",\"Americas\",\"Americas\",\"Americas\",\"Americas\",\"Americas\",\"Americas\",\"Americas\",\"Americas\",\"Americas\",\"Americas\",\"Americas\",\"Americas\",\"Americas\",\"Americas\",\"Americas\",\"Americas\",\"Americas\",\"Americas\",\"Americas\",\"Americas\",\"Americas\",\"Americas\",\"Americas\",\"Americas\",\"Americas\",\"Americas\",\"Americas\",\"Americas\",\"Americas\",\"Americas\",\"Americas\",\"Americas\",\"Americas\",\"Americas\",\"Americas\",\"Americas\",\"Americas\",\"Americas\",\"Americas\",\"Americas\",\"Americas\",\"Americas\",\"Americas\",\"Americas\",\"Americas\",\"Americas\",\"Americas\",\"Americas\",\"Americas\",\"Americas\",\"Americas\",\"Americas\",\"Americas\",\"Americas\",\"Americas\",\"Americas\",\"Americas\",\"Americas\",\"Americas\",\"Americas\",\"Americas\",\"Americas\",\"Americas\",\"Americas\",\"Americas\",\"Americas\",\"Americas\",\"Americas\",\"Americas\",\"Americas\",\"Americas\",\"Americas\",\"Americas\",\"Americas\",\"Americas\",\"Americas\",\"Americas\",\"Americas\",\"Americas\",\"Americas\",\"Americas\",\"Americas\",\"Americas\",\"Americas\",\"Americas\",\"Americas\",\"Americas\",\"Americas\",\"Americas\",\"Americas\",\"Americas\",\"Americas\",\"Americas\",\"Americas\",\"Americas\",\"Americas\",\"Americas\",\"Americas\",\"Americas\",\"Americas\",\"Americas\",\"Americas\",\"Americas\",\"Americas\",\"Americas\",\"Americas\",\"Americas\",\"Americas\",\"Americas\",\"Americas\",\"Americas\",\"Americas\",\"Americas\",\"Americas\",\"Americas\",\"Americas\",\"Americas\",\"Americas\",\"Americas\",\"Americas\",\"Americas\",\"Americas\",\"Americas\",\"Americas\",\"Americas\",\"Americas\",\"Americas\",\"Americas\",\"Americas\",\"Americas\",\"Americas\",\"Americas\",\"Americas\",\"Americas\",\"Americas\",\"Americas\",\"Americas\",\"Americas\",\"Americas\",\"Americas\",\"Americas\",\"Americas\",\"Americas\",\"Americas\",\"Americas\",\"Americas\",\"Americas\",\"Americas\",\"Americas\",\"Americas\",\"Americas\",\"Americas\",\"Americas\",\"Americas\",\"Americas\",\"Americas\",\"Americas\",\"Americas\",\"Americas\",\"Americas\",\"Americas\",\"Americas\",\"Americas\",\"Americas\",\"Americas\",\"Americas\",\"Americas\",\"Americas\",\"Americas\",\"Americas\",\"Americas\",\"Americas\",\"Americas\",\"Americas\",\"Americas\",\"Americas\",\"Americas\",\"Americas\",\"Americas\",\"Americas\",\"Americas\",\"Americas\",\"Americas\",\"Americas\",\"Americas\",\"Americas\",\"Americas\",\"Americas\",\"Americas\",\"Americas\",\"Americas\",\"Americas\",\"Americas\",\"Americas\",\"Americas\",\"Americas\",\"Americas\",\"Americas\",\"Americas\",\"Americas\",\"Americas\",\"Americas\",\"Americas\",\"Americas\",\"Americas\",\"Americas\",\"Americas\",\"Americas\",\"Americas\",\"Americas\",\"Americas\",\"Americas\",\"Americas\",\"Americas\",\"Americas\",\"Americas\"],\"xaxis\":\"x\",\"y\":[17876956,19610538,21283783,22934225,24779799,26983828,29341374,31620918,33958947,36203463,38331121,40301927,2883315,3211738,3593918,4040665,4565872,5079716,5642224,6156369,6893451,7693188,8445134,9119152,56602560,65551171,76039390,88049823,100840058,114313951,128962939,142938076,155975974,168546719,179914212,190010647,14785584,17010154,18985849,20819767,22284500,23796400,25201900,26549700,28523502,30305843,31902268,33390141,6377619,7048426,7961258,8858908,9717524,10599793,11487112,12463354,13572994,14599929,15497046,16284741,12350771,14485993,17009885,19764027,22542890,25094412,27764644,30964245,34202721,37657830,41008227,44227550,926317,1112300,1345187,1588717,1834796,2108457,2424367,2799811,3173216,3518107,3834934,4133884,6007797,6640752,7254373,8139332,8831348,9537988,9789224,10239839,10723260,10983007,11226999,11416987,2491346,2923186,3453434,4049146,4671329,5302800,5968349,6655297,7351181,7992357,8650322,9319622,3548753,4058385,4681707,5432424,6298651,7278866,8365850,9545158,10748394,11911819,12921234,13755680,2042865,2355805,2747687,3232927,3790903,4282586,4474873,4842194,5274649,5783439,6353681,6939688,3146381,3640876,4208858,4690773,5149581,5703430,6395630,7326406,8486949,9803875,11178650,12572928,3201488,3507701,3880130,4318137,4698301,4908554,5198399,5756203,6326682,6913545,7607651,8502814,1517453,1770390,2090162,2500689,2965146,3055235,3669448,4372203,5077347,5867957,6677328,7483763,1426095,1535090,1665128,1861096,1997616,2156814,2298309,2326606,2378618,2531311,2664659,2780132,30144317,35015548,41121485,47995559,55984294,63759976,71640904,80122492,88111030,95895146,102479927,108700891,1165790,1358828,1590597,1865490,2182908,2554598,2979423,3344353,4017939,4609572,5146848,5675356,940080,1063506,1215725,1405486,1616384,1839782,2036305,2253639,2484997,2734531,2990875,3242173,1555876,1770902,2009813,2287985,2614104,2984494,3366439,3886512,4483945,5154123,5884491,6667147,8025700,9146100,10516500,12132200,13954700,15990099,18125129,20195924,22430449,24748122,26769436,28674757,2227000,2260000,2448046,2648961,2847132,3080828,3279001,3444468,3585176,3759430,3859606,3942491,662850,764900,887498,960155,975199,1039009,1116479,1191336,1183669,1138101,1101832,1056608,157553000,171984000,186538000,198712000,209896000,220239000,232187835,242803533,256894189,272911760,287675526,301139947,2252965,2424959,2598466,2748579,2829526,2873520,2953997,3045153,3149262,3262838,3363085,3447496,5439568,6702668,8143375,9709552,11515649,13503563,15620766,17910182,20265563,22374398,24287670,26084662],\"yaxis\":\"y\"},{\"alignmentgroup\":\"True\",\"hovertemplate\":\"continent=%{x}<br>pop=%{text}<extra></extra>\",\"legendgroup\":\"Oceania\",\"marker\":{\"color\":\"#FFA15A\",\"pattern\":{\"shape\":\"\"}},\"name\":\"Oceania\",\"offsetgroup\":\"Oceania\",\"orientation\":\"v\",\"showlegend\":true,\"text\":[8691212.0,9712569.0,10794968.0,11872264.0,13177000.0,14074100.0,15184200.0,16257249.0,17481977.0,18565243.0,19546792.0,20434176.0,1994794.0,2229407.0,2488550.0,2728150.0,2929100.0,3164900.0,3210650.0,3317166.0,3437674.0,3676187.0,3908037.0,4115771.0],\"textposition\":\"outside\",\"texttemplate\":\"%{text:.2s}\",\"type\":\"bar\",\"x\":[\"Oceania\",\"Oceania\",\"Oceania\",\"Oceania\",\"Oceania\",\"Oceania\",\"Oceania\",\"Oceania\",\"Oceania\",\"Oceania\",\"Oceania\",\"Oceania\",\"Oceania\",\"Oceania\",\"Oceania\",\"Oceania\",\"Oceania\",\"Oceania\",\"Oceania\",\"Oceania\",\"Oceania\",\"Oceania\",\"Oceania\",\"Oceania\"],\"xaxis\":\"x\",\"y\":[8691212,9712569,10794968,11872264,13177000,14074100,15184200,16257249,17481977,18565243,19546792,20434176,1994794,2229407,2488550,2728150,2929100,3164900,3210650,3317166,3437674,3676187,3908037,4115771],\"yaxis\":\"y\"}],                        {\"barmode\":\"relative\",\"legend\":{\"title\":{\"text\":\"continent\"},\"tracegroupgap\":0},\"template\":{\"data\":{\"bar\":[{\"error_x\":{\"color\":\"#2a3f5f\"},\"error_y\":{\"color\":\"#2a3f5f\"},\"marker\":{\"line\":{\"color\":\"#E5ECF6\",\"width\":0.5},\"pattern\":{\"fillmode\":\"overlay\",\"size\":10,\"solidity\":0.2}},\"type\":\"bar\"}],\"barpolar\":[{\"marker\":{\"line\":{\"color\":\"#E5ECF6\",\"width\":0.5},\"pattern\":{\"fillmode\":\"overlay\",\"size\":10,\"solidity\":0.2}},\"type\":\"barpolar\"}],\"carpet\":[{\"aaxis\":{\"endlinecolor\":\"#2a3f5f\",\"gridcolor\":\"white\",\"linecolor\":\"white\",\"minorgridcolor\":\"white\",\"startlinecolor\":\"#2a3f5f\"},\"baxis\":{\"endlinecolor\":\"#2a3f5f\",\"gridcolor\":\"white\",\"linecolor\":\"white\",\"minorgridcolor\":\"white\",\"startlinecolor\":\"#2a3f5f\"},\"type\":\"carpet\"}],\"choropleth\":[{\"colorbar\":{\"outlinewidth\":0,\"ticks\":\"\"},\"type\":\"choropleth\"}],\"contour\":[{\"colorbar\":{\"outlinewidth\":0,\"ticks\":\"\"},\"colorscale\":[[0.0,\"#0d0887\"],[0.1111111111111111,\"#46039f\"],[0.2222222222222222,\"#7201a8\"],[0.3333333333333333,\"#9c179e\"],[0.4444444444444444,\"#bd3786\"],[0.5555555555555556,\"#d8576b\"],[0.6666666666666666,\"#ed7953\"],[0.7777777777777778,\"#fb9f3a\"],[0.8888888888888888,\"#fdca26\"],[1.0,\"#f0f921\"]],\"type\":\"contour\"}],\"contourcarpet\":[{\"colorbar\":{\"outlinewidth\":0,\"ticks\":\"\"},\"type\":\"contourcarpet\"}],\"heatmap\":[{\"colorbar\":{\"outlinewidth\":0,\"ticks\":\"\"},\"colorscale\":[[0.0,\"#0d0887\"],[0.1111111111111111,\"#46039f\"],[0.2222222222222222,\"#7201a8\"],[0.3333333333333333,\"#9c179e\"],[0.4444444444444444,\"#bd3786\"],[0.5555555555555556,\"#d8576b\"],[0.6666666666666666,\"#ed7953\"],[0.7777777777777778,\"#fb9f3a\"],[0.8888888888888888,\"#fdca26\"],[1.0,\"#f0f921\"]],\"type\":\"heatmap\"}],\"heatmapgl\":[{\"colorbar\":{\"outlinewidth\":0,\"ticks\":\"\"},\"colorscale\":[[0.0,\"#0d0887\"],[0.1111111111111111,\"#46039f\"],[0.2222222222222222,\"#7201a8\"],[0.3333333333333333,\"#9c179e\"],[0.4444444444444444,\"#bd3786\"],[0.5555555555555556,\"#d8576b\"],[0.6666666666666666,\"#ed7953\"],[0.7777777777777778,\"#fb9f3a\"],[0.8888888888888888,\"#fdca26\"],[1.0,\"#f0f921\"]],\"type\":\"heatmapgl\"}],\"histogram\":[{\"marker\":{\"pattern\":{\"fillmode\":\"overlay\",\"size\":10,\"solidity\":0.2}},\"type\":\"histogram\"}],\"histogram2d\":[{\"colorbar\":{\"outlinewidth\":0,\"ticks\":\"\"},\"colorscale\":[[0.0,\"#0d0887\"],[0.1111111111111111,\"#46039f\"],[0.2222222222222222,\"#7201a8\"],[0.3333333333333333,\"#9c179e\"],[0.4444444444444444,\"#bd3786\"],[0.5555555555555556,\"#d8576b\"],[0.6666666666666666,\"#ed7953\"],[0.7777777777777778,\"#fb9f3a\"],[0.8888888888888888,\"#fdca26\"],[1.0,\"#f0f921\"]],\"type\":\"histogram2d\"}],\"histogram2dcontour\":[{\"colorbar\":{\"outlinewidth\":0,\"ticks\":\"\"},\"colorscale\":[[0.0,\"#0d0887\"],[0.1111111111111111,\"#46039f\"],[0.2222222222222222,\"#7201a8\"],[0.3333333333333333,\"#9c179e\"],[0.4444444444444444,\"#bd3786\"],[0.5555555555555556,\"#d8576b\"],[0.6666666666666666,\"#ed7953\"],[0.7777777777777778,\"#fb9f3a\"],[0.8888888888888888,\"#fdca26\"],[1.0,\"#f0f921\"]],\"type\":\"histogram2dcontour\"}],\"mesh3d\":[{\"colorbar\":{\"outlinewidth\":0,\"ticks\":\"\"},\"type\":\"mesh3d\"}],\"parcoords\":[{\"line\":{\"colorbar\":{\"outlinewidth\":0,\"ticks\":\"\"}},\"type\":\"parcoords\"}],\"pie\":[{\"automargin\":true,\"type\":\"pie\"}],\"scatter\":[{\"marker\":{\"colorbar\":{\"outlinewidth\":0,\"ticks\":\"\"}},\"type\":\"scatter\"}],\"scatter3d\":[{\"line\":{\"colorbar\":{\"outlinewidth\":0,\"ticks\":\"\"}},\"marker\":{\"colorbar\":{\"outlinewidth\":0,\"ticks\":\"\"}},\"type\":\"scatter3d\"}],\"scattercarpet\":[{\"marker\":{\"colorbar\":{\"outlinewidth\":0,\"ticks\":\"\"}},\"type\":\"scattercarpet\"}],\"scattergeo\":[{\"marker\":{\"colorbar\":{\"outlinewidth\":0,\"ticks\":\"\"}},\"type\":\"scattergeo\"}],\"scattergl\":[{\"marker\":{\"colorbar\":{\"outlinewidth\":0,\"ticks\":\"\"}},\"type\":\"scattergl\"}],\"scattermapbox\":[{\"marker\":{\"colorbar\":{\"outlinewidth\":0,\"ticks\":\"\"}},\"type\":\"scattermapbox\"}],\"scatterpolar\":[{\"marker\":{\"colorbar\":{\"outlinewidth\":0,\"ticks\":\"\"}},\"type\":\"scatterpolar\"}],\"scatterpolargl\":[{\"marker\":{\"colorbar\":{\"outlinewidth\":0,\"ticks\":\"\"}},\"type\":\"scatterpolargl\"}],\"scatterternary\":[{\"marker\":{\"colorbar\":{\"outlinewidth\":0,\"ticks\":\"\"}},\"type\":\"scatterternary\"}],\"surface\":[{\"colorbar\":{\"outlinewidth\":0,\"ticks\":\"\"},\"colorscale\":[[0.0,\"#0d0887\"],[0.1111111111111111,\"#46039f\"],[0.2222222222222222,\"#7201a8\"],[0.3333333333333333,\"#9c179e\"],[0.4444444444444444,\"#bd3786\"],[0.5555555555555556,\"#d8576b\"],[0.6666666666666666,\"#ed7953\"],[0.7777777777777778,\"#fb9f3a\"],[0.8888888888888888,\"#fdca26\"],[1.0,\"#f0f921\"]],\"type\":\"surface\"}],\"table\":[{\"cells\":{\"fill\":{\"color\":\"#EBF0F8\"},\"line\":{\"color\":\"white\"}},\"header\":{\"fill\":{\"color\":\"#C8D4E3\"},\"line\":{\"color\":\"white\"}},\"type\":\"table\"}]},\"layout\":{\"annotationdefaults\":{\"arrowcolor\":\"#2a3f5f\",\"arrowhead\":0,\"arrowwidth\":1},\"autotypenumbers\":\"strict\",\"coloraxis\":{\"colorbar\":{\"outlinewidth\":0,\"ticks\":\"\"}},\"colorscale\":{\"diverging\":[[0,\"#8e0152\"],[0.1,\"#c51b7d\"],[0.2,\"#de77ae\"],[0.3,\"#f1b6da\"],[0.4,\"#fde0ef\"],[0.5,\"#f7f7f7\"],[0.6,\"#e6f5d0\"],[0.7,\"#b8e186\"],[0.8,\"#7fbc41\"],[0.9,\"#4d9221\"],[1,\"#276419\"]],\"sequential\":[[0.0,\"#0d0887\"],[0.1111111111111111,\"#46039f\"],[0.2222222222222222,\"#7201a8\"],[0.3333333333333333,\"#9c179e\"],[0.4444444444444444,\"#bd3786\"],[0.5555555555555556,\"#d8576b\"],[0.6666666666666666,\"#ed7953\"],[0.7777777777777778,\"#fb9f3a\"],[0.8888888888888888,\"#fdca26\"],[1.0,\"#f0f921\"]],\"sequentialminus\":[[0.0,\"#0d0887\"],[0.1111111111111111,\"#46039f\"],[0.2222222222222222,\"#7201a8\"],[0.3333333333333333,\"#9c179e\"],[0.4444444444444444,\"#bd3786\"],[0.5555555555555556,\"#d8576b\"],[0.6666666666666666,\"#ed7953\"],[0.7777777777777778,\"#fb9f3a\"],[0.8888888888888888,\"#fdca26\"],[1.0,\"#f0f921\"]]},\"colorway\":[\"#636efa\",\"#EF553B\",\"#00cc96\",\"#ab63fa\",\"#FFA15A\",\"#19d3f3\",\"#FF6692\",\"#B6E880\",\"#FF97FF\",\"#FECB52\"],\"font\":{\"color\":\"#2a3f5f\"},\"geo\":{\"bgcolor\":\"white\",\"lakecolor\":\"white\",\"landcolor\":\"#E5ECF6\",\"showlakes\":true,\"showland\":true,\"subunitcolor\":\"white\"},\"hoverlabel\":{\"align\":\"left\"},\"hovermode\":\"closest\",\"mapbox\":{\"style\":\"light\"},\"paper_bgcolor\":\"white\",\"plot_bgcolor\":\"#E5ECF6\",\"polar\":{\"angularaxis\":{\"gridcolor\":\"white\",\"linecolor\":\"white\",\"ticks\":\"\"},\"bgcolor\":\"#E5ECF6\",\"radialaxis\":{\"gridcolor\":\"white\",\"linecolor\":\"white\",\"ticks\":\"\"}},\"scene\":{\"xaxis\":{\"backgroundcolor\":\"#E5ECF6\",\"gridcolor\":\"white\",\"gridwidth\":2,\"linecolor\":\"white\",\"showbackground\":true,\"ticks\":\"\",\"zerolinecolor\":\"white\"},\"yaxis\":{\"backgroundcolor\":\"#E5ECF6\",\"gridcolor\":\"white\",\"gridwidth\":2,\"linecolor\":\"white\",\"showbackground\":true,\"ticks\":\"\",\"zerolinecolor\":\"white\"},\"zaxis\":{\"backgroundcolor\":\"#E5ECF6\",\"gridcolor\":\"white\",\"gridwidth\":2,\"linecolor\":\"white\",\"showbackground\":true,\"ticks\":\"\",\"zerolinecolor\":\"white\"}},\"shapedefaults\":{\"line\":{\"color\":\"#2a3f5f\"}},\"ternary\":{\"aaxis\":{\"gridcolor\":\"white\",\"linecolor\":\"white\",\"ticks\":\"\"},\"baxis\":{\"gridcolor\":\"white\",\"linecolor\":\"white\",\"ticks\":\"\"},\"bgcolor\":\"#E5ECF6\",\"caxis\":{\"gridcolor\":\"white\",\"linecolor\":\"white\",\"ticks\":\"\"}},\"title\":{\"x\":0.05},\"xaxis\":{\"automargin\":true,\"gridcolor\":\"white\",\"linecolor\":\"white\",\"ticks\":\"\",\"title\":{\"standoff\":15},\"zerolinecolor\":\"white\",\"zerolinewidth\":2},\"yaxis\":{\"automargin\":true,\"gridcolor\":\"white\",\"linecolor\":\"white\",\"ticks\":\"\",\"title\":{\"standoff\":15},\"zerolinecolor\":\"white\",\"zerolinewidth\":2}}},\"title\":{\"text\":\"Bar plot of year & pop Based on iso_alpha\"},\"uniformtext\":{\"minsize\":10,\"mode\":\"hide\"},\"xaxis\":{\"anchor\":\"y\",\"categoryarray\":[\"Asia\",\"Europe\",\"Africa\",\"Americas\",\"Oceania\"],\"categoryorder\":\"array\",\"domain\":[0.0,1.0],\"title\":{\"text\":\"continent\"}},\"yaxis\":{\"anchor\":\"x\",\"domain\":[0.0,1.0],\"title\":{\"text\":\"pop\"}}},                        {\"responsive\": true}                    ).then(function(){\n",
       "                            \n",
       "var gd = document.getElementById('08bcdb84-4ddd-4750-80e9-8c23eadabefb');\n",
       "var x = new MutationObserver(function (mutations, observer) {{\n",
       "        var display = window.getComputedStyle(gd).display;\n",
       "        if (!display || display === 'none') {{\n",
       "            console.log([gd, 'removed!']);\n",
       "            Plotly.purge(gd);\n",
       "            observer.disconnect();\n",
       "        }}\n",
       "}});\n",
       "\n",
       "// Listen for the removal of the full notebook cells\n",
       "var notebookContainer = gd.closest('#notebook-container');\n",
       "if (notebookContainer) {{\n",
       "    x.observe(notebookContainer, {childList: true});\n",
       "}}\n",
       "\n",
       "// Listen for the clearing of the current output cell\n",
       "var outputEl = gd.closest('.output');\n",
       "if (outputEl) {{\n",
       "    x.observe(outputEl, {childList: true});\n",
       "}}\n",
       "\n",
       "                        })                };                });            </script>        </div>"
      ]
     },
     "metadata": {},
     "output_type": "display_data"
    }
   ],
   "source": [
    "fig = px.bar(df4 ,\n",
    "       x = \"continent\" ,\n",
    "       y = \"pop\"  ,\n",
    "       text = \"pop\" ,\n",
    "       color = \"continent\" ,\n",
    "       title = \"Bar plot of year & pop Based on iso_alpha\" , \n",
    "       labels={\"x\" : \"The continent Name\" , \"y\" : \"The Population\"} )\n",
    "fig.update_traces(texttemplate='%{text:.2s}', textposition='outside')\n",
    "fig.update_layout(uniformtext_minsize=10, uniformtext_mode='hide')\n",
    "fig.show()"
   ]
  },
  {
   "cell_type": "code",
   "execution_count": 16,
   "id": "f5039223",
   "metadata": {},
   "outputs": [
    {
     "data": {
      "application/vnd.plotly.v1+json": {
       "config": {
        "plotlyServerURL": "https://plot.ly"
       },
       "data": [
        {
         "alignmentgroup": "True",
         "hovertemplate": "country=%{x}<br>pop=%{text}<extra></extra>",
         "legendgroup": "",
         "marker": {
          "color": "#636efa",
          "pattern": {
           "shape": ""
          }
         },
         "name": "",
         "offsetgroup": "",
         "orientation": "v",
         "showlegend": false,
         "text": [
          3600523,
          8199783,
          10392226,
          4552198,
          7322858,
          4493312,
          10228744,
          5468120,
          5238460,
          61083916,
          82400996,
          10706290,
          9956108,
          4109086,
          58147733,
          16570613,
          4627926,
          38518241,
          10642836,
          22276056,
          10150265,
          5447502,
          2009245,
          40448191,
          9031088,
          7554661,
          71158647,
          60776238
         ],
         "textposition": "auto",
         "type": "bar",
         "x": [
          "Albania",
          "Austria",
          "Belgium",
          "Bosnia and Herzegovina",
          "Bulgaria",
          "Croatia",
          "Czech Republic",
          "Denmark",
          "Finland",
          "France",
          "Germany",
          "Greece",
          "Hungary",
          "Ireland",
          "Italy",
          "Netherlands",
          "Norway",
          "Poland",
          "Portugal",
          "Romania",
          "Serbia",
          "Slovak Republic",
          "Slovenia",
          "Spain",
          "Sweden",
          "Switzerland",
          "Turkey",
          "United Kingdom"
         ],
         "xaxis": "x",
         "y": [
          3600523,
          8199783,
          10392226,
          4552198,
          7322858,
          4493312,
          10228744,
          5468120,
          5238460,
          61083916,
          82400996,
          10706290,
          9956108,
          4109086,
          58147733,
          16570613,
          4627926,
          38518241,
          10642836,
          22276056,
          10150265,
          5447502,
          2009245,
          40448191,
          9031088,
          7554661,
          71158647,
          60776238
         ],
         "yaxis": "y"
        }
       ],
       "layout": {
        "barmode": "relative",
        "legend": {
         "tracegroupgap": 0
        },
        "margin": {
         "t": 60
        },
        "template": {
         "data": {
          "bar": [
           {
            "error_x": {
             "color": "#2a3f5f"
            },
            "error_y": {
             "color": "#2a3f5f"
            },
            "marker": {
             "line": {
              "color": "#E5ECF6",
              "width": 0.5
             },
             "pattern": {
              "fillmode": "overlay",
              "size": 10,
              "solidity": 0.2
             }
            },
            "type": "bar"
           }
          ],
          "barpolar": [
           {
            "marker": {
             "line": {
              "color": "#E5ECF6",
              "width": 0.5
             },
             "pattern": {
              "fillmode": "overlay",
              "size": 10,
              "solidity": 0.2
             }
            },
            "type": "barpolar"
           }
          ],
          "carpet": [
           {
            "aaxis": {
             "endlinecolor": "#2a3f5f",
             "gridcolor": "white",
             "linecolor": "white",
             "minorgridcolor": "white",
             "startlinecolor": "#2a3f5f"
            },
            "baxis": {
             "endlinecolor": "#2a3f5f",
             "gridcolor": "white",
             "linecolor": "white",
             "minorgridcolor": "white",
             "startlinecolor": "#2a3f5f"
            },
            "type": "carpet"
           }
          ],
          "choropleth": [
           {
            "colorbar": {
             "outlinewidth": 0,
             "ticks": ""
            },
            "type": "choropleth"
           }
          ],
          "contour": [
           {
            "colorbar": {
             "outlinewidth": 0,
             "ticks": ""
            },
            "colorscale": [
             [
              0,
              "#0d0887"
             ],
             [
              0.1111111111111111,
              "#46039f"
             ],
             [
              0.2222222222222222,
              "#7201a8"
             ],
             [
              0.3333333333333333,
              "#9c179e"
             ],
             [
              0.4444444444444444,
              "#bd3786"
             ],
             [
              0.5555555555555556,
              "#d8576b"
             ],
             [
              0.6666666666666666,
              "#ed7953"
             ],
             [
              0.7777777777777778,
              "#fb9f3a"
             ],
             [
              0.8888888888888888,
              "#fdca26"
             ],
             [
              1,
              "#f0f921"
             ]
            ],
            "type": "contour"
           }
          ],
          "contourcarpet": [
           {
            "colorbar": {
             "outlinewidth": 0,
             "ticks": ""
            },
            "type": "contourcarpet"
           }
          ],
          "heatmap": [
           {
            "colorbar": {
             "outlinewidth": 0,
             "ticks": ""
            },
            "colorscale": [
             [
              0,
              "#0d0887"
             ],
             [
              0.1111111111111111,
              "#46039f"
             ],
             [
              0.2222222222222222,
              "#7201a8"
             ],
             [
              0.3333333333333333,
              "#9c179e"
             ],
             [
              0.4444444444444444,
              "#bd3786"
             ],
             [
              0.5555555555555556,
              "#d8576b"
             ],
             [
              0.6666666666666666,
              "#ed7953"
             ],
             [
              0.7777777777777778,
              "#fb9f3a"
             ],
             [
              0.8888888888888888,
              "#fdca26"
             ],
             [
              1,
              "#f0f921"
             ]
            ],
            "type": "heatmap"
           }
          ],
          "heatmapgl": [
           {
            "colorbar": {
             "outlinewidth": 0,
             "ticks": ""
            },
            "colorscale": [
             [
              0,
              "#0d0887"
             ],
             [
              0.1111111111111111,
              "#46039f"
             ],
             [
              0.2222222222222222,
              "#7201a8"
             ],
             [
              0.3333333333333333,
              "#9c179e"
             ],
             [
              0.4444444444444444,
              "#bd3786"
             ],
             [
              0.5555555555555556,
              "#d8576b"
             ],
             [
              0.6666666666666666,
              "#ed7953"
             ],
             [
              0.7777777777777778,
              "#fb9f3a"
             ],
             [
              0.8888888888888888,
              "#fdca26"
             ],
             [
              1,
              "#f0f921"
             ]
            ],
            "type": "heatmapgl"
           }
          ],
          "histogram": [
           {
            "marker": {
             "pattern": {
              "fillmode": "overlay",
              "size": 10,
              "solidity": 0.2
             }
            },
            "type": "histogram"
           }
          ],
          "histogram2d": [
           {
            "colorbar": {
             "outlinewidth": 0,
             "ticks": ""
            },
            "colorscale": [
             [
              0,
              "#0d0887"
             ],
             [
              0.1111111111111111,
              "#46039f"
             ],
             [
              0.2222222222222222,
              "#7201a8"
             ],
             [
              0.3333333333333333,
              "#9c179e"
             ],
             [
              0.4444444444444444,
              "#bd3786"
             ],
             [
              0.5555555555555556,
              "#d8576b"
             ],
             [
              0.6666666666666666,
              "#ed7953"
             ],
             [
              0.7777777777777778,
              "#fb9f3a"
             ],
             [
              0.8888888888888888,
              "#fdca26"
             ],
             [
              1,
              "#f0f921"
             ]
            ],
            "type": "histogram2d"
           }
          ],
          "histogram2dcontour": [
           {
            "colorbar": {
             "outlinewidth": 0,
             "ticks": ""
            },
            "colorscale": [
             [
              0,
              "#0d0887"
             ],
             [
              0.1111111111111111,
              "#46039f"
             ],
             [
              0.2222222222222222,
              "#7201a8"
             ],
             [
              0.3333333333333333,
              "#9c179e"
             ],
             [
              0.4444444444444444,
              "#bd3786"
             ],
             [
              0.5555555555555556,
              "#d8576b"
             ],
             [
              0.6666666666666666,
              "#ed7953"
             ],
             [
              0.7777777777777778,
              "#fb9f3a"
             ],
             [
              0.8888888888888888,
              "#fdca26"
             ],
             [
              1,
              "#f0f921"
             ]
            ],
            "type": "histogram2dcontour"
           }
          ],
          "mesh3d": [
           {
            "colorbar": {
             "outlinewidth": 0,
             "ticks": ""
            },
            "type": "mesh3d"
           }
          ],
          "parcoords": [
           {
            "line": {
             "colorbar": {
              "outlinewidth": 0,
              "ticks": ""
             }
            },
            "type": "parcoords"
           }
          ],
          "pie": [
           {
            "automargin": true,
            "type": "pie"
           }
          ],
          "scatter": [
           {
            "marker": {
             "colorbar": {
              "outlinewidth": 0,
              "ticks": ""
             }
            },
            "type": "scatter"
           }
          ],
          "scatter3d": [
           {
            "line": {
             "colorbar": {
              "outlinewidth": 0,
              "ticks": ""
             }
            },
            "marker": {
             "colorbar": {
              "outlinewidth": 0,
              "ticks": ""
             }
            },
            "type": "scatter3d"
           }
          ],
          "scattercarpet": [
           {
            "marker": {
             "colorbar": {
              "outlinewidth": 0,
              "ticks": ""
             }
            },
            "type": "scattercarpet"
           }
          ],
          "scattergeo": [
           {
            "marker": {
             "colorbar": {
              "outlinewidth": 0,
              "ticks": ""
             }
            },
            "type": "scattergeo"
           }
          ],
          "scattergl": [
           {
            "marker": {
             "colorbar": {
              "outlinewidth": 0,
              "ticks": ""
             }
            },
            "type": "scattergl"
           }
          ],
          "scattermapbox": [
           {
            "marker": {
             "colorbar": {
              "outlinewidth": 0,
              "ticks": ""
             }
            },
            "type": "scattermapbox"
           }
          ],
          "scatterpolar": [
           {
            "marker": {
             "colorbar": {
              "outlinewidth": 0,
              "ticks": ""
             }
            },
            "type": "scatterpolar"
           }
          ],
          "scatterpolargl": [
           {
            "marker": {
             "colorbar": {
              "outlinewidth": 0,
              "ticks": ""
             }
            },
            "type": "scatterpolargl"
           }
          ],
          "scatterternary": [
           {
            "marker": {
             "colorbar": {
              "outlinewidth": 0,
              "ticks": ""
             }
            },
            "type": "scatterternary"
           }
          ],
          "surface": [
           {
            "colorbar": {
             "outlinewidth": 0,
             "ticks": ""
            },
            "colorscale": [
             [
              0,
              "#0d0887"
             ],
             [
              0.1111111111111111,
              "#46039f"
             ],
             [
              0.2222222222222222,
              "#7201a8"
             ],
             [
              0.3333333333333333,
              "#9c179e"
             ],
             [
              0.4444444444444444,
              "#bd3786"
             ],
             [
              0.5555555555555556,
              "#d8576b"
             ],
             [
              0.6666666666666666,
              "#ed7953"
             ],
             [
              0.7777777777777778,
              "#fb9f3a"
             ],
             [
              0.8888888888888888,
              "#fdca26"
             ],
             [
              1,
              "#f0f921"
             ]
            ],
            "type": "surface"
           }
          ],
          "table": [
           {
            "cells": {
             "fill": {
              "color": "#EBF0F8"
             },
             "line": {
              "color": "white"
             }
            },
            "header": {
             "fill": {
              "color": "#C8D4E3"
             },
             "line": {
              "color": "white"
             }
            },
            "type": "table"
           }
          ]
         },
         "layout": {
          "annotationdefaults": {
           "arrowcolor": "#2a3f5f",
           "arrowhead": 0,
           "arrowwidth": 1
          },
          "autotypenumbers": "strict",
          "coloraxis": {
           "colorbar": {
            "outlinewidth": 0,
            "ticks": ""
           }
          },
          "colorscale": {
           "diverging": [
            [
             0,
             "#8e0152"
            ],
            [
             0.1,
             "#c51b7d"
            ],
            [
             0.2,
             "#de77ae"
            ],
            [
             0.3,
             "#f1b6da"
            ],
            [
             0.4,
             "#fde0ef"
            ],
            [
             0.5,
             "#f7f7f7"
            ],
            [
             0.6,
             "#e6f5d0"
            ],
            [
             0.7,
             "#b8e186"
            ],
            [
             0.8,
             "#7fbc41"
            ],
            [
             0.9,
             "#4d9221"
            ],
            [
             1,
             "#276419"
            ]
           ],
           "sequential": [
            [
             0,
             "#0d0887"
            ],
            [
             0.1111111111111111,
             "#46039f"
            ],
            [
             0.2222222222222222,
             "#7201a8"
            ],
            [
             0.3333333333333333,
             "#9c179e"
            ],
            [
             0.4444444444444444,
             "#bd3786"
            ],
            [
             0.5555555555555556,
             "#d8576b"
            ],
            [
             0.6666666666666666,
             "#ed7953"
            ],
            [
             0.7777777777777778,
             "#fb9f3a"
            ],
            [
             0.8888888888888888,
             "#fdca26"
            ],
            [
             1,
             "#f0f921"
            ]
           ],
           "sequentialminus": [
            [
             0,
             "#0d0887"
            ],
            [
             0.1111111111111111,
             "#46039f"
            ],
            [
             0.2222222222222222,
             "#7201a8"
            ],
            [
             0.3333333333333333,
             "#9c179e"
            ],
            [
             0.4444444444444444,
             "#bd3786"
            ],
            [
             0.5555555555555556,
             "#d8576b"
            ],
            [
             0.6666666666666666,
             "#ed7953"
            ],
            [
             0.7777777777777778,
             "#fb9f3a"
            ],
            [
             0.8888888888888888,
             "#fdca26"
            ],
            [
             1,
             "#f0f921"
            ]
           ]
          },
          "colorway": [
           "#636efa",
           "#EF553B",
           "#00cc96",
           "#ab63fa",
           "#FFA15A",
           "#19d3f3",
           "#FF6692",
           "#B6E880",
           "#FF97FF",
           "#FECB52"
          ],
          "font": {
           "color": "#2a3f5f"
          },
          "geo": {
           "bgcolor": "white",
           "lakecolor": "white",
           "landcolor": "#E5ECF6",
           "showlakes": true,
           "showland": true,
           "subunitcolor": "white"
          },
          "hoverlabel": {
           "align": "left"
          },
          "hovermode": "closest",
          "mapbox": {
           "style": "light"
          },
          "paper_bgcolor": "white",
          "plot_bgcolor": "#E5ECF6",
          "polar": {
           "angularaxis": {
            "gridcolor": "white",
            "linecolor": "white",
            "ticks": ""
           },
           "bgcolor": "#E5ECF6",
           "radialaxis": {
            "gridcolor": "white",
            "linecolor": "white",
            "ticks": ""
           }
          },
          "scene": {
           "xaxis": {
            "backgroundcolor": "#E5ECF6",
            "gridcolor": "white",
            "gridwidth": 2,
            "linecolor": "white",
            "showbackground": true,
            "ticks": "",
            "zerolinecolor": "white"
           },
           "yaxis": {
            "backgroundcolor": "#E5ECF6",
            "gridcolor": "white",
            "gridwidth": 2,
            "linecolor": "white",
            "showbackground": true,
            "ticks": "",
            "zerolinecolor": "white"
           },
           "zaxis": {
            "backgroundcolor": "#E5ECF6",
            "gridcolor": "white",
            "gridwidth": 2,
            "linecolor": "white",
            "showbackground": true,
            "ticks": "",
            "zerolinecolor": "white"
           }
          },
          "shapedefaults": {
           "line": {
            "color": "#2a3f5f"
           }
          },
          "ternary": {
           "aaxis": {
            "gridcolor": "white",
            "linecolor": "white",
            "ticks": ""
           },
           "baxis": {
            "gridcolor": "white",
            "linecolor": "white",
            "ticks": ""
           },
           "bgcolor": "#E5ECF6",
           "caxis": {
            "gridcolor": "white",
            "linecolor": "white",
            "ticks": ""
           }
          },
          "title": {
           "x": 0.05
          },
          "xaxis": {
           "automargin": true,
           "gridcolor": "white",
           "linecolor": "white",
           "ticks": "",
           "title": {
            "standoff": 15
           },
           "zerolinecolor": "white",
           "zerolinewidth": 2
          },
          "yaxis": {
           "automargin": true,
           "gridcolor": "white",
           "linecolor": "white",
           "ticks": "",
           "title": {
            "standoff": 15
           },
           "zerolinecolor": "white",
           "zerolinewidth": 2
          }
         }
        },
        "xaxis": {
         "anchor": "y",
         "domain": [
          0,
          1
         ],
         "title": {
          "text": "country"
         }
        },
        "yaxis": {
         "anchor": "x",
         "domain": [
          0,
          1
         ],
         "title": {
          "text": "pop"
         }
        }
       }
      },
      "text/html": [
       "<div>                            <div id=\"6a29c7b8-afca-4e8f-af26-645f8af805fb\" class=\"plotly-graph-div\" style=\"height:525px; width:100%;\"></div>            <script type=\"text/javascript\">                require([\"plotly\"], function(Plotly) {                    window.PLOTLYENV=window.PLOTLYENV || {};                                    if (document.getElementById(\"6a29c7b8-afca-4e8f-af26-645f8af805fb\")) {                    Plotly.newPlot(                        \"6a29c7b8-afca-4e8f-af26-645f8af805fb\",                        [{\"alignmentgroup\":\"True\",\"hovertemplate\":\"country=%{x}<br>pop=%{text}<extra></extra>\",\"legendgroup\":\"\",\"marker\":{\"color\":\"#636efa\",\"pattern\":{\"shape\":\"\"}},\"name\":\"\",\"offsetgroup\":\"\",\"orientation\":\"v\",\"showlegend\":false,\"text\":[3600523.0,8199783.0,10392226.0,4552198.0,7322858.0,4493312.0,10228744.0,5468120.0,5238460.0,61083916.0,82400996.0,10706290.0,9956108.0,4109086.0,58147733.0,16570613.0,4627926.0,38518241.0,10642836.0,22276056.0,10150265.0,5447502.0,2009245.0,40448191.0,9031088.0,7554661.0,71158647.0,60776238.0],\"textposition\":\"auto\",\"type\":\"bar\",\"x\":[\"Albania\",\"Austria\",\"Belgium\",\"Bosnia and Herzegovina\",\"Bulgaria\",\"Croatia\",\"Czech Republic\",\"Denmark\",\"Finland\",\"France\",\"Germany\",\"Greece\",\"Hungary\",\"Ireland\",\"Italy\",\"Netherlands\",\"Norway\",\"Poland\",\"Portugal\",\"Romania\",\"Serbia\",\"Slovak Republic\",\"Slovenia\",\"Spain\",\"Sweden\",\"Switzerland\",\"Turkey\",\"United Kingdom\"],\"xaxis\":\"x\",\"y\":[3600523,8199783,10392226,4552198,7322858,4493312,10228744,5468120,5238460,61083916,82400996,10706290,9956108,4109086,58147733,16570613,4627926,38518241,10642836,22276056,10150265,5447502,2009245,40448191,9031088,7554661,71158647,60776238],\"yaxis\":\"y\"}],                        {\"barmode\":\"relative\",\"legend\":{\"tracegroupgap\":0},\"margin\":{\"t\":60},\"template\":{\"data\":{\"bar\":[{\"error_x\":{\"color\":\"#2a3f5f\"},\"error_y\":{\"color\":\"#2a3f5f\"},\"marker\":{\"line\":{\"color\":\"#E5ECF6\",\"width\":0.5},\"pattern\":{\"fillmode\":\"overlay\",\"size\":10,\"solidity\":0.2}},\"type\":\"bar\"}],\"barpolar\":[{\"marker\":{\"line\":{\"color\":\"#E5ECF6\",\"width\":0.5},\"pattern\":{\"fillmode\":\"overlay\",\"size\":10,\"solidity\":0.2}},\"type\":\"barpolar\"}],\"carpet\":[{\"aaxis\":{\"endlinecolor\":\"#2a3f5f\",\"gridcolor\":\"white\",\"linecolor\":\"white\",\"minorgridcolor\":\"white\",\"startlinecolor\":\"#2a3f5f\"},\"baxis\":{\"endlinecolor\":\"#2a3f5f\",\"gridcolor\":\"white\",\"linecolor\":\"white\",\"minorgridcolor\":\"white\",\"startlinecolor\":\"#2a3f5f\"},\"type\":\"carpet\"}],\"choropleth\":[{\"colorbar\":{\"outlinewidth\":0,\"ticks\":\"\"},\"type\":\"choropleth\"}],\"contour\":[{\"colorbar\":{\"outlinewidth\":0,\"ticks\":\"\"},\"colorscale\":[[0.0,\"#0d0887\"],[0.1111111111111111,\"#46039f\"],[0.2222222222222222,\"#7201a8\"],[0.3333333333333333,\"#9c179e\"],[0.4444444444444444,\"#bd3786\"],[0.5555555555555556,\"#d8576b\"],[0.6666666666666666,\"#ed7953\"],[0.7777777777777778,\"#fb9f3a\"],[0.8888888888888888,\"#fdca26\"],[1.0,\"#f0f921\"]],\"type\":\"contour\"}],\"contourcarpet\":[{\"colorbar\":{\"outlinewidth\":0,\"ticks\":\"\"},\"type\":\"contourcarpet\"}],\"heatmap\":[{\"colorbar\":{\"outlinewidth\":0,\"ticks\":\"\"},\"colorscale\":[[0.0,\"#0d0887\"],[0.1111111111111111,\"#46039f\"],[0.2222222222222222,\"#7201a8\"],[0.3333333333333333,\"#9c179e\"],[0.4444444444444444,\"#bd3786\"],[0.5555555555555556,\"#d8576b\"],[0.6666666666666666,\"#ed7953\"],[0.7777777777777778,\"#fb9f3a\"],[0.8888888888888888,\"#fdca26\"],[1.0,\"#f0f921\"]],\"type\":\"heatmap\"}],\"heatmapgl\":[{\"colorbar\":{\"outlinewidth\":0,\"ticks\":\"\"},\"colorscale\":[[0.0,\"#0d0887\"],[0.1111111111111111,\"#46039f\"],[0.2222222222222222,\"#7201a8\"],[0.3333333333333333,\"#9c179e\"],[0.4444444444444444,\"#bd3786\"],[0.5555555555555556,\"#d8576b\"],[0.6666666666666666,\"#ed7953\"],[0.7777777777777778,\"#fb9f3a\"],[0.8888888888888888,\"#fdca26\"],[1.0,\"#f0f921\"]],\"type\":\"heatmapgl\"}],\"histogram\":[{\"marker\":{\"pattern\":{\"fillmode\":\"overlay\",\"size\":10,\"solidity\":0.2}},\"type\":\"histogram\"}],\"histogram2d\":[{\"colorbar\":{\"outlinewidth\":0,\"ticks\":\"\"},\"colorscale\":[[0.0,\"#0d0887\"],[0.1111111111111111,\"#46039f\"],[0.2222222222222222,\"#7201a8\"],[0.3333333333333333,\"#9c179e\"],[0.4444444444444444,\"#bd3786\"],[0.5555555555555556,\"#d8576b\"],[0.6666666666666666,\"#ed7953\"],[0.7777777777777778,\"#fb9f3a\"],[0.8888888888888888,\"#fdca26\"],[1.0,\"#f0f921\"]],\"type\":\"histogram2d\"}],\"histogram2dcontour\":[{\"colorbar\":{\"outlinewidth\":0,\"ticks\":\"\"},\"colorscale\":[[0.0,\"#0d0887\"],[0.1111111111111111,\"#46039f\"],[0.2222222222222222,\"#7201a8\"],[0.3333333333333333,\"#9c179e\"],[0.4444444444444444,\"#bd3786\"],[0.5555555555555556,\"#d8576b\"],[0.6666666666666666,\"#ed7953\"],[0.7777777777777778,\"#fb9f3a\"],[0.8888888888888888,\"#fdca26\"],[1.0,\"#f0f921\"]],\"type\":\"histogram2dcontour\"}],\"mesh3d\":[{\"colorbar\":{\"outlinewidth\":0,\"ticks\":\"\"},\"type\":\"mesh3d\"}],\"parcoords\":[{\"line\":{\"colorbar\":{\"outlinewidth\":0,\"ticks\":\"\"}},\"type\":\"parcoords\"}],\"pie\":[{\"automargin\":true,\"type\":\"pie\"}],\"scatter\":[{\"marker\":{\"colorbar\":{\"outlinewidth\":0,\"ticks\":\"\"}},\"type\":\"scatter\"}],\"scatter3d\":[{\"line\":{\"colorbar\":{\"outlinewidth\":0,\"ticks\":\"\"}},\"marker\":{\"colorbar\":{\"outlinewidth\":0,\"ticks\":\"\"}},\"type\":\"scatter3d\"}],\"scattercarpet\":[{\"marker\":{\"colorbar\":{\"outlinewidth\":0,\"ticks\":\"\"}},\"type\":\"scattercarpet\"}],\"scattergeo\":[{\"marker\":{\"colorbar\":{\"outlinewidth\":0,\"ticks\":\"\"}},\"type\":\"scattergeo\"}],\"scattergl\":[{\"marker\":{\"colorbar\":{\"outlinewidth\":0,\"ticks\":\"\"}},\"type\":\"scattergl\"}],\"scattermapbox\":[{\"marker\":{\"colorbar\":{\"outlinewidth\":0,\"ticks\":\"\"}},\"type\":\"scattermapbox\"}],\"scatterpolar\":[{\"marker\":{\"colorbar\":{\"outlinewidth\":0,\"ticks\":\"\"}},\"type\":\"scatterpolar\"}],\"scatterpolargl\":[{\"marker\":{\"colorbar\":{\"outlinewidth\":0,\"ticks\":\"\"}},\"type\":\"scatterpolargl\"}],\"scatterternary\":[{\"marker\":{\"colorbar\":{\"outlinewidth\":0,\"ticks\":\"\"}},\"type\":\"scatterternary\"}],\"surface\":[{\"colorbar\":{\"outlinewidth\":0,\"ticks\":\"\"},\"colorscale\":[[0.0,\"#0d0887\"],[0.1111111111111111,\"#46039f\"],[0.2222222222222222,\"#7201a8\"],[0.3333333333333333,\"#9c179e\"],[0.4444444444444444,\"#bd3786\"],[0.5555555555555556,\"#d8576b\"],[0.6666666666666666,\"#ed7953\"],[0.7777777777777778,\"#fb9f3a\"],[0.8888888888888888,\"#fdca26\"],[1.0,\"#f0f921\"]],\"type\":\"surface\"}],\"table\":[{\"cells\":{\"fill\":{\"color\":\"#EBF0F8\"},\"line\":{\"color\":\"white\"}},\"header\":{\"fill\":{\"color\":\"#C8D4E3\"},\"line\":{\"color\":\"white\"}},\"type\":\"table\"}]},\"layout\":{\"annotationdefaults\":{\"arrowcolor\":\"#2a3f5f\",\"arrowhead\":0,\"arrowwidth\":1},\"autotypenumbers\":\"strict\",\"coloraxis\":{\"colorbar\":{\"outlinewidth\":0,\"ticks\":\"\"}},\"colorscale\":{\"diverging\":[[0,\"#8e0152\"],[0.1,\"#c51b7d\"],[0.2,\"#de77ae\"],[0.3,\"#f1b6da\"],[0.4,\"#fde0ef\"],[0.5,\"#f7f7f7\"],[0.6,\"#e6f5d0\"],[0.7,\"#b8e186\"],[0.8,\"#7fbc41\"],[0.9,\"#4d9221\"],[1,\"#276419\"]],\"sequential\":[[0.0,\"#0d0887\"],[0.1111111111111111,\"#46039f\"],[0.2222222222222222,\"#7201a8\"],[0.3333333333333333,\"#9c179e\"],[0.4444444444444444,\"#bd3786\"],[0.5555555555555556,\"#d8576b\"],[0.6666666666666666,\"#ed7953\"],[0.7777777777777778,\"#fb9f3a\"],[0.8888888888888888,\"#fdca26\"],[1.0,\"#f0f921\"]],\"sequentialminus\":[[0.0,\"#0d0887\"],[0.1111111111111111,\"#46039f\"],[0.2222222222222222,\"#7201a8\"],[0.3333333333333333,\"#9c179e\"],[0.4444444444444444,\"#bd3786\"],[0.5555555555555556,\"#d8576b\"],[0.6666666666666666,\"#ed7953\"],[0.7777777777777778,\"#fb9f3a\"],[0.8888888888888888,\"#fdca26\"],[1.0,\"#f0f921\"]]},\"colorway\":[\"#636efa\",\"#EF553B\",\"#00cc96\",\"#ab63fa\",\"#FFA15A\",\"#19d3f3\",\"#FF6692\",\"#B6E880\",\"#FF97FF\",\"#FECB52\"],\"font\":{\"color\":\"#2a3f5f\"},\"geo\":{\"bgcolor\":\"white\",\"lakecolor\":\"white\",\"landcolor\":\"#E5ECF6\",\"showlakes\":true,\"showland\":true,\"subunitcolor\":\"white\"},\"hoverlabel\":{\"align\":\"left\"},\"hovermode\":\"closest\",\"mapbox\":{\"style\":\"light\"},\"paper_bgcolor\":\"white\",\"plot_bgcolor\":\"#E5ECF6\",\"polar\":{\"angularaxis\":{\"gridcolor\":\"white\",\"linecolor\":\"white\",\"ticks\":\"\"},\"bgcolor\":\"#E5ECF6\",\"radialaxis\":{\"gridcolor\":\"white\",\"linecolor\":\"white\",\"ticks\":\"\"}},\"scene\":{\"xaxis\":{\"backgroundcolor\":\"#E5ECF6\",\"gridcolor\":\"white\",\"gridwidth\":2,\"linecolor\":\"white\",\"showbackground\":true,\"ticks\":\"\",\"zerolinecolor\":\"white\"},\"yaxis\":{\"backgroundcolor\":\"#E5ECF6\",\"gridcolor\":\"white\",\"gridwidth\":2,\"linecolor\":\"white\",\"showbackground\":true,\"ticks\":\"\",\"zerolinecolor\":\"white\"},\"zaxis\":{\"backgroundcolor\":\"#E5ECF6\",\"gridcolor\":\"white\",\"gridwidth\":2,\"linecolor\":\"white\",\"showbackground\":true,\"ticks\":\"\",\"zerolinecolor\":\"white\"}},\"shapedefaults\":{\"line\":{\"color\":\"#2a3f5f\"}},\"ternary\":{\"aaxis\":{\"gridcolor\":\"white\",\"linecolor\":\"white\",\"ticks\":\"\"},\"baxis\":{\"gridcolor\":\"white\",\"linecolor\":\"white\",\"ticks\":\"\"},\"bgcolor\":\"#E5ECF6\",\"caxis\":{\"gridcolor\":\"white\",\"linecolor\":\"white\",\"ticks\":\"\"}},\"title\":{\"x\":0.05},\"xaxis\":{\"automargin\":true,\"gridcolor\":\"white\",\"linecolor\":\"white\",\"ticks\":\"\",\"title\":{\"standoff\":15},\"zerolinecolor\":\"white\",\"zerolinewidth\":2},\"yaxis\":{\"automargin\":true,\"gridcolor\":\"white\",\"linecolor\":\"white\",\"ticks\":\"\",\"title\":{\"standoff\":15},\"zerolinecolor\":\"white\",\"zerolinewidth\":2}}},\"xaxis\":{\"anchor\":\"y\",\"domain\":[0.0,1.0],\"title\":{\"text\":\"country\"}},\"yaxis\":{\"anchor\":\"x\",\"domain\":[0.0,1.0],\"title\":{\"text\":\"pop\"}}},                        {\"responsive\": true}                    ).then(function(){\n",
       "                            \n",
       "var gd = document.getElementById('6a29c7b8-afca-4e8f-af26-645f8af805fb');\n",
       "var x = new MutationObserver(function (mutations, observer) {{\n",
       "        var display = window.getComputedStyle(gd).display;\n",
       "        if (!display || display === 'none') {{\n",
       "            console.log([gd, 'removed!']);\n",
       "            Plotly.purge(gd);\n",
       "            observer.disconnect();\n",
       "        }}\n",
       "}});\n",
       "\n",
       "// Listen for the removal of the full notebook cells\n",
       "var notebookContainer = gd.closest('#notebook-container');\n",
       "if (notebookContainer) {{\n",
       "    x.observe(notebookContainer, {childList: true});\n",
       "}}\n",
       "\n",
       "// Listen for the clearing of the current output cell\n",
       "var outputEl = gd.closest('.output');\n",
       "if (outputEl) {{\n",
       "    x.observe(outputEl, {childList: true});\n",
       "}}\n",
       "\n",
       "                        })                };                });            </script>        </div>"
      ]
     },
     "metadata": {},
     "output_type": "display_data"
    }
   ],
   "source": [
    "df5 = px.data.gapminder().query(\"continent == 'Europe' and year == 2007 and pop > 2.e6\")\n",
    "fig = px.bar(df5, y='pop', x='country', text='pop')\n",
    "\n",
    "\n",
    "\n",
    "fig\n",
    "\n",
    "\n",
    "\n"
   ]
  },
  {
   "cell_type": "code",
   "execution_count": 21,
   "id": "00300766",
   "metadata": {},
   "outputs": [
    {
     "data": {
      "application/vnd.plotly.v1+json": {
       "config": {
        "plotlyServerURL": "https://plot.ly"
       },
       "data": [
        {
         "alignmentgroup": "True",
         "hovertemplate": "country=%{x}<br>pop=%{text}<extra></extra>",
         "legendgroup": "",
         "marker": {
          "color": "#636efa",
          "pattern": {
           "shape": ""
          }
         },
         "name": "",
         "offsetgroup": "",
         "orientation": "v",
         "showlegend": false,
         "text": [
          3600523,
          8199783,
          10392226,
          4552198,
          7322858,
          4493312,
          10228744,
          5468120,
          5238460,
          61083916,
          82400996,
          10706290,
          9956108,
          4109086,
          58147733,
          16570613,
          4627926,
          38518241,
          10642836,
          22276056,
          10150265,
          5447502,
          2009245,
          40448191,
          9031088,
          7554661,
          71158647,
          60776238
         ],
         "textposition": "outside",
         "texttemplate": "%{text : 1s}",
         "type": "bar",
         "x": [
          "Albania",
          "Austria",
          "Belgium",
          "Bosnia and Herzegovina",
          "Bulgaria",
          "Croatia",
          "Czech Republic",
          "Denmark",
          "Finland",
          "France",
          "Germany",
          "Greece",
          "Hungary",
          "Ireland",
          "Italy",
          "Netherlands",
          "Norway",
          "Poland",
          "Portugal",
          "Romania",
          "Serbia",
          "Slovak Republic",
          "Slovenia",
          "Spain",
          "Sweden",
          "Switzerland",
          "Turkey",
          "United Kingdom"
         ],
         "xaxis": "x",
         "y": [
          3600523,
          8199783,
          10392226,
          4552198,
          7322858,
          4493312,
          10228744,
          5468120,
          5238460,
          61083916,
          82400996,
          10706290,
          9956108,
          4109086,
          58147733,
          16570613,
          4627926,
          38518241,
          10642836,
          22276056,
          10150265,
          5447502,
          2009245,
          40448191,
          9031088,
          7554661,
          71158647,
          60776238
         ],
         "yaxis": "y"
        }
       ],
       "layout": {
        "barmode": "relative",
        "legend": {
         "tracegroupgap": 0
        },
        "margin": {
         "t": 60
        },
        "template": {
         "data": {
          "bar": [
           {
            "error_x": {
             "color": "#2a3f5f"
            },
            "error_y": {
             "color": "#2a3f5f"
            },
            "marker": {
             "line": {
              "color": "#E5ECF6",
              "width": 0.5
             },
             "pattern": {
              "fillmode": "overlay",
              "size": 10,
              "solidity": 0.2
             }
            },
            "type": "bar"
           }
          ],
          "barpolar": [
           {
            "marker": {
             "line": {
              "color": "#E5ECF6",
              "width": 0.5
             },
             "pattern": {
              "fillmode": "overlay",
              "size": 10,
              "solidity": 0.2
             }
            },
            "type": "barpolar"
           }
          ],
          "carpet": [
           {
            "aaxis": {
             "endlinecolor": "#2a3f5f",
             "gridcolor": "white",
             "linecolor": "white",
             "minorgridcolor": "white",
             "startlinecolor": "#2a3f5f"
            },
            "baxis": {
             "endlinecolor": "#2a3f5f",
             "gridcolor": "white",
             "linecolor": "white",
             "minorgridcolor": "white",
             "startlinecolor": "#2a3f5f"
            },
            "type": "carpet"
           }
          ],
          "choropleth": [
           {
            "colorbar": {
             "outlinewidth": 0,
             "ticks": ""
            },
            "type": "choropleth"
           }
          ],
          "contour": [
           {
            "colorbar": {
             "outlinewidth": 0,
             "ticks": ""
            },
            "colorscale": [
             [
              0,
              "#0d0887"
             ],
             [
              0.1111111111111111,
              "#46039f"
             ],
             [
              0.2222222222222222,
              "#7201a8"
             ],
             [
              0.3333333333333333,
              "#9c179e"
             ],
             [
              0.4444444444444444,
              "#bd3786"
             ],
             [
              0.5555555555555556,
              "#d8576b"
             ],
             [
              0.6666666666666666,
              "#ed7953"
             ],
             [
              0.7777777777777778,
              "#fb9f3a"
             ],
             [
              0.8888888888888888,
              "#fdca26"
             ],
             [
              1,
              "#f0f921"
             ]
            ],
            "type": "contour"
           }
          ],
          "contourcarpet": [
           {
            "colorbar": {
             "outlinewidth": 0,
             "ticks": ""
            },
            "type": "contourcarpet"
           }
          ],
          "heatmap": [
           {
            "colorbar": {
             "outlinewidth": 0,
             "ticks": ""
            },
            "colorscale": [
             [
              0,
              "#0d0887"
             ],
             [
              0.1111111111111111,
              "#46039f"
             ],
             [
              0.2222222222222222,
              "#7201a8"
             ],
             [
              0.3333333333333333,
              "#9c179e"
             ],
             [
              0.4444444444444444,
              "#bd3786"
             ],
             [
              0.5555555555555556,
              "#d8576b"
             ],
             [
              0.6666666666666666,
              "#ed7953"
             ],
             [
              0.7777777777777778,
              "#fb9f3a"
             ],
             [
              0.8888888888888888,
              "#fdca26"
             ],
             [
              1,
              "#f0f921"
             ]
            ],
            "type": "heatmap"
           }
          ],
          "heatmapgl": [
           {
            "colorbar": {
             "outlinewidth": 0,
             "ticks": ""
            },
            "colorscale": [
             [
              0,
              "#0d0887"
             ],
             [
              0.1111111111111111,
              "#46039f"
             ],
             [
              0.2222222222222222,
              "#7201a8"
             ],
             [
              0.3333333333333333,
              "#9c179e"
             ],
             [
              0.4444444444444444,
              "#bd3786"
             ],
             [
              0.5555555555555556,
              "#d8576b"
             ],
             [
              0.6666666666666666,
              "#ed7953"
             ],
             [
              0.7777777777777778,
              "#fb9f3a"
             ],
             [
              0.8888888888888888,
              "#fdca26"
             ],
             [
              1,
              "#f0f921"
             ]
            ],
            "type": "heatmapgl"
           }
          ],
          "histogram": [
           {
            "marker": {
             "pattern": {
              "fillmode": "overlay",
              "size": 10,
              "solidity": 0.2
             }
            },
            "type": "histogram"
           }
          ],
          "histogram2d": [
           {
            "colorbar": {
             "outlinewidth": 0,
             "ticks": ""
            },
            "colorscale": [
             [
              0,
              "#0d0887"
             ],
             [
              0.1111111111111111,
              "#46039f"
             ],
             [
              0.2222222222222222,
              "#7201a8"
             ],
             [
              0.3333333333333333,
              "#9c179e"
             ],
             [
              0.4444444444444444,
              "#bd3786"
             ],
             [
              0.5555555555555556,
              "#d8576b"
             ],
             [
              0.6666666666666666,
              "#ed7953"
             ],
             [
              0.7777777777777778,
              "#fb9f3a"
             ],
             [
              0.8888888888888888,
              "#fdca26"
             ],
             [
              1,
              "#f0f921"
             ]
            ],
            "type": "histogram2d"
           }
          ],
          "histogram2dcontour": [
           {
            "colorbar": {
             "outlinewidth": 0,
             "ticks": ""
            },
            "colorscale": [
             [
              0,
              "#0d0887"
             ],
             [
              0.1111111111111111,
              "#46039f"
             ],
             [
              0.2222222222222222,
              "#7201a8"
             ],
             [
              0.3333333333333333,
              "#9c179e"
             ],
             [
              0.4444444444444444,
              "#bd3786"
             ],
             [
              0.5555555555555556,
              "#d8576b"
             ],
             [
              0.6666666666666666,
              "#ed7953"
             ],
             [
              0.7777777777777778,
              "#fb9f3a"
             ],
             [
              0.8888888888888888,
              "#fdca26"
             ],
             [
              1,
              "#f0f921"
             ]
            ],
            "type": "histogram2dcontour"
           }
          ],
          "mesh3d": [
           {
            "colorbar": {
             "outlinewidth": 0,
             "ticks": ""
            },
            "type": "mesh3d"
           }
          ],
          "parcoords": [
           {
            "line": {
             "colorbar": {
              "outlinewidth": 0,
              "ticks": ""
             }
            },
            "type": "parcoords"
           }
          ],
          "pie": [
           {
            "automargin": true,
            "type": "pie"
           }
          ],
          "scatter": [
           {
            "marker": {
             "colorbar": {
              "outlinewidth": 0,
              "ticks": ""
             }
            },
            "type": "scatter"
           }
          ],
          "scatter3d": [
           {
            "line": {
             "colorbar": {
              "outlinewidth": 0,
              "ticks": ""
             }
            },
            "marker": {
             "colorbar": {
              "outlinewidth": 0,
              "ticks": ""
             }
            },
            "type": "scatter3d"
           }
          ],
          "scattercarpet": [
           {
            "marker": {
             "colorbar": {
              "outlinewidth": 0,
              "ticks": ""
             }
            },
            "type": "scattercarpet"
           }
          ],
          "scattergeo": [
           {
            "marker": {
             "colorbar": {
              "outlinewidth": 0,
              "ticks": ""
             }
            },
            "type": "scattergeo"
           }
          ],
          "scattergl": [
           {
            "marker": {
             "colorbar": {
              "outlinewidth": 0,
              "ticks": ""
             }
            },
            "type": "scattergl"
           }
          ],
          "scattermapbox": [
           {
            "marker": {
             "colorbar": {
              "outlinewidth": 0,
              "ticks": ""
             }
            },
            "type": "scattermapbox"
           }
          ],
          "scatterpolar": [
           {
            "marker": {
             "colorbar": {
              "outlinewidth": 0,
              "ticks": ""
             }
            },
            "type": "scatterpolar"
           }
          ],
          "scatterpolargl": [
           {
            "marker": {
             "colorbar": {
              "outlinewidth": 0,
              "ticks": ""
             }
            },
            "type": "scatterpolargl"
           }
          ],
          "scatterternary": [
           {
            "marker": {
             "colorbar": {
              "outlinewidth": 0,
              "ticks": ""
             }
            },
            "type": "scatterternary"
           }
          ],
          "surface": [
           {
            "colorbar": {
             "outlinewidth": 0,
             "ticks": ""
            },
            "colorscale": [
             [
              0,
              "#0d0887"
             ],
             [
              0.1111111111111111,
              "#46039f"
             ],
             [
              0.2222222222222222,
              "#7201a8"
             ],
             [
              0.3333333333333333,
              "#9c179e"
             ],
             [
              0.4444444444444444,
              "#bd3786"
             ],
             [
              0.5555555555555556,
              "#d8576b"
             ],
             [
              0.6666666666666666,
              "#ed7953"
             ],
             [
              0.7777777777777778,
              "#fb9f3a"
             ],
             [
              0.8888888888888888,
              "#fdca26"
             ],
             [
              1,
              "#f0f921"
             ]
            ],
            "type": "surface"
           }
          ],
          "table": [
           {
            "cells": {
             "fill": {
              "color": "#EBF0F8"
             },
             "line": {
              "color": "white"
             }
            },
            "header": {
             "fill": {
              "color": "#C8D4E3"
             },
             "line": {
              "color": "white"
             }
            },
            "type": "table"
           }
          ]
         },
         "layout": {
          "annotationdefaults": {
           "arrowcolor": "#2a3f5f",
           "arrowhead": 0,
           "arrowwidth": 1
          },
          "autotypenumbers": "strict",
          "coloraxis": {
           "colorbar": {
            "outlinewidth": 0,
            "ticks": ""
           }
          },
          "colorscale": {
           "diverging": [
            [
             0,
             "#8e0152"
            ],
            [
             0.1,
             "#c51b7d"
            ],
            [
             0.2,
             "#de77ae"
            ],
            [
             0.3,
             "#f1b6da"
            ],
            [
             0.4,
             "#fde0ef"
            ],
            [
             0.5,
             "#f7f7f7"
            ],
            [
             0.6,
             "#e6f5d0"
            ],
            [
             0.7,
             "#b8e186"
            ],
            [
             0.8,
             "#7fbc41"
            ],
            [
             0.9,
             "#4d9221"
            ],
            [
             1,
             "#276419"
            ]
           ],
           "sequential": [
            [
             0,
             "#0d0887"
            ],
            [
             0.1111111111111111,
             "#46039f"
            ],
            [
             0.2222222222222222,
             "#7201a8"
            ],
            [
             0.3333333333333333,
             "#9c179e"
            ],
            [
             0.4444444444444444,
             "#bd3786"
            ],
            [
             0.5555555555555556,
             "#d8576b"
            ],
            [
             0.6666666666666666,
             "#ed7953"
            ],
            [
             0.7777777777777778,
             "#fb9f3a"
            ],
            [
             0.8888888888888888,
             "#fdca26"
            ],
            [
             1,
             "#f0f921"
            ]
           ],
           "sequentialminus": [
            [
             0,
             "#0d0887"
            ],
            [
             0.1111111111111111,
             "#46039f"
            ],
            [
             0.2222222222222222,
             "#7201a8"
            ],
            [
             0.3333333333333333,
             "#9c179e"
            ],
            [
             0.4444444444444444,
             "#bd3786"
            ],
            [
             0.5555555555555556,
             "#d8576b"
            ],
            [
             0.6666666666666666,
             "#ed7953"
            ],
            [
             0.7777777777777778,
             "#fb9f3a"
            ],
            [
             0.8888888888888888,
             "#fdca26"
            ],
            [
             1,
             "#f0f921"
            ]
           ]
          },
          "colorway": [
           "#636efa",
           "#EF553B",
           "#00cc96",
           "#ab63fa",
           "#FFA15A",
           "#19d3f3",
           "#FF6692",
           "#B6E880",
           "#FF97FF",
           "#FECB52"
          ],
          "font": {
           "color": "#2a3f5f"
          },
          "geo": {
           "bgcolor": "white",
           "lakecolor": "white",
           "landcolor": "#E5ECF6",
           "showlakes": true,
           "showland": true,
           "subunitcolor": "white"
          },
          "hoverlabel": {
           "align": "left"
          },
          "hovermode": "closest",
          "mapbox": {
           "style": "light"
          },
          "paper_bgcolor": "white",
          "plot_bgcolor": "#E5ECF6",
          "polar": {
           "angularaxis": {
            "gridcolor": "white",
            "linecolor": "white",
            "ticks": ""
           },
           "bgcolor": "#E5ECF6",
           "radialaxis": {
            "gridcolor": "white",
            "linecolor": "white",
            "ticks": ""
           }
          },
          "scene": {
           "xaxis": {
            "backgroundcolor": "#E5ECF6",
            "gridcolor": "white",
            "gridwidth": 2,
            "linecolor": "white",
            "showbackground": true,
            "ticks": "",
            "zerolinecolor": "white"
           },
           "yaxis": {
            "backgroundcolor": "#E5ECF6",
            "gridcolor": "white",
            "gridwidth": 2,
            "linecolor": "white",
            "showbackground": true,
            "ticks": "",
            "zerolinecolor": "white"
           },
           "zaxis": {
            "backgroundcolor": "#E5ECF6",
            "gridcolor": "white",
            "gridwidth": 2,
            "linecolor": "white",
            "showbackground": true,
            "ticks": "",
            "zerolinecolor": "white"
           }
          },
          "shapedefaults": {
           "line": {
            "color": "#2a3f5f"
           }
          },
          "ternary": {
           "aaxis": {
            "gridcolor": "white",
            "linecolor": "white",
            "ticks": ""
           },
           "baxis": {
            "gridcolor": "white",
            "linecolor": "white",
            "ticks": ""
           },
           "bgcolor": "#E5ECF6",
           "caxis": {
            "gridcolor": "white",
            "linecolor": "white",
            "ticks": ""
           }
          },
          "title": {
           "x": 0.05
          },
          "xaxis": {
           "automargin": true,
           "gridcolor": "white",
           "linecolor": "white",
           "ticks": "",
           "title": {
            "standoff": 15
           },
           "zerolinecolor": "white",
           "zerolinewidth": 2
          },
          "yaxis": {
           "automargin": true,
           "gridcolor": "white",
           "linecolor": "white",
           "ticks": "",
           "title": {
            "standoff": 15
           },
           "zerolinecolor": "white",
           "zerolinewidth": 2
          }
         }
        },
        "uniformtext": {
         "minsize": 0.1,
         "mode": "hide"
        },
        "xaxis": {
         "anchor": "y",
         "domain": [
          0,
          1
         ],
         "title": {
          "text": "country"
         }
        },
        "yaxis": {
         "anchor": "x",
         "domain": [
          0,
          1
         ],
         "title": {
          "text": "pop"
         }
        }
       }
      },
      "text/html": [
       "<div>                            <div id=\"23e50fb8-623e-499f-a146-dba84588fa51\" class=\"plotly-graph-div\" style=\"height:525px; width:100%;\"></div>            <script type=\"text/javascript\">                require([\"plotly\"], function(Plotly) {                    window.PLOTLYENV=window.PLOTLYENV || {};                                    if (document.getElementById(\"23e50fb8-623e-499f-a146-dba84588fa51\")) {                    Plotly.newPlot(                        \"23e50fb8-623e-499f-a146-dba84588fa51\",                        [{\"alignmentgroup\":\"True\",\"hovertemplate\":\"country=%{x}<br>pop=%{text}<extra></extra>\",\"legendgroup\":\"\",\"marker\":{\"color\":\"#636efa\",\"pattern\":{\"shape\":\"\"}},\"name\":\"\",\"offsetgroup\":\"\",\"orientation\":\"v\",\"showlegend\":false,\"text\":[3600523.0,8199783.0,10392226.0,4552198.0,7322858.0,4493312.0,10228744.0,5468120.0,5238460.0,61083916.0,82400996.0,10706290.0,9956108.0,4109086.0,58147733.0,16570613.0,4627926.0,38518241.0,10642836.0,22276056.0,10150265.0,5447502.0,2009245.0,40448191.0,9031088.0,7554661.0,71158647.0,60776238.0],\"textposition\":\"outside\",\"texttemplate\":\"%{text : 1s}\",\"type\":\"bar\",\"x\":[\"Albania\",\"Austria\",\"Belgium\",\"Bosnia and Herzegovina\",\"Bulgaria\",\"Croatia\",\"Czech Republic\",\"Denmark\",\"Finland\",\"France\",\"Germany\",\"Greece\",\"Hungary\",\"Ireland\",\"Italy\",\"Netherlands\",\"Norway\",\"Poland\",\"Portugal\",\"Romania\",\"Serbia\",\"Slovak Republic\",\"Slovenia\",\"Spain\",\"Sweden\",\"Switzerland\",\"Turkey\",\"United Kingdom\"],\"xaxis\":\"x\",\"y\":[3600523,8199783,10392226,4552198,7322858,4493312,10228744,5468120,5238460,61083916,82400996,10706290,9956108,4109086,58147733,16570613,4627926,38518241,10642836,22276056,10150265,5447502,2009245,40448191,9031088,7554661,71158647,60776238],\"yaxis\":\"y\"}],                        {\"barmode\":\"relative\",\"legend\":{\"tracegroupgap\":0},\"margin\":{\"t\":60},\"template\":{\"data\":{\"bar\":[{\"error_x\":{\"color\":\"#2a3f5f\"},\"error_y\":{\"color\":\"#2a3f5f\"},\"marker\":{\"line\":{\"color\":\"#E5ECF6\",\"width\":0.5},\"pattern\":{\"fillmode\":\"overlay\",\"size\":10,\"solidity\":0.2}},\"type\":\"bar\"}],\"barpolar\":[{\"marker\":{\"line\":{\"color\":\"#E5ECF6\",\"width\":0.5},\"pattern\":{\"fillmode\":\"overlay\",\"size\":10,\"solidity\":0.2}},\"type\":\"barpolar\"}],\"carpet\":[{\"aaxis\":{\"endlinecolor\":\"#2a3f5f\",\"gridcolor\":\"white\",\"linecolor\":\"white\",\"minorgridcolor\":\"white\",\"startlinecolor\":\"#2a3f5f\"},\"baxis\":{\"endlinecolor\":\"#2a3f5f\",\"gridcolor\":\"white\",\"linecolor\":\"white\",\"minorgridcolor\":\"white\",\"startlinecolor\":\"#2a3f5f\"},\"type\":\"carpet\"}],\"choropleth\":[{\"colorbar\":{\"outlinewidth\":0,\"ticks\":\"\"},\"type\":\"choropleth\"}],\"contour\":[{\"colorbar\":{\"outlinewidth\":0,\"ticks\":\"\"},\"colorscale\":[[0.0,\"#0d0887\"],[0.1111111111111111,\"#46039f\"],[0.2222222222222222,\"#7201a8\"],[0.3333333333333333,\"#9c179e\"],[0.4444444444444444,\"#bd3786\"],[0.5555555555555556,\"#d8576b\"],[0.6666666666666666,\"#ed7953\"],[0.7777777777777778,\"#fb9f3a\"],[0.8888888888888888,\"#fdca26\"],[1.0,\"#f0f921\"]],\"type\":\"contour\"}],\"contourcarpet\":[{\"colorbar\":{\"outlinewidth\":0,\"ticks\":\"\"},\"type\":\"contourcarpet\"}],\"heatmap\":[{\"colorbar\":{\"outlinewidth\":0,\"ticks\":\"\"},\"colorscale\":[[0.0,\"#0d0887\"],[0.1111111111111111,\"#46039f\"],[0.2222222222222222,\"#7201a8\"],[0.3333333333333333,\"#9c179e\"],[0.4444444444444444,\"#bd3786\"],[0.5555555555555556,\"#d8576b\"],[0.6666666666666666,\"#ed7953\"],[0.7777777777777778,\"#fb9f3a\"],[0.8888888888888888,\"#fdca26\"],[1.0,\"#f0f921\"]],\"type\":\"heatmap\"}],\"heatmapgl\":[{\"colorbar\":{\"outlinewidth\":0,\"ticks\":\"\"},\"colorscale\":[[0.0,\"#0d0887\"],[0.1111111111111111,\"#46039f\"],[0.2222222222222222,\"#7201a8\"],[0.3333333333333333,\"#9c179e\"],[0.4444444444444444,\"#bd3786\"],[0.5555555555555556,\"#d8576b\"],[0.6666666666666666,\"#ed7953\"],[0.7777777777777778,\"#fb9f3a\"],[0.8888888888888888,\"#fdca26\"],[1.0,\"#f0f921\"]],\"type\":\"heatmapgl\"}],\"histogram\":[{\"marker\":{\"pattern\":{\"fillmode\":\"overlay\",\"size\":10,\"solidity\":0.2}},\"type\":\"histogram\"}],\"histogram2d\":[{\"colorbar\":{\"outlinewidth\":0,\"ticks\":\"\"},\"colorscale\":[[0.0,\"#0d0887\"],[0.1111111111111111,\"#46039f\"],[0.2222222222222222,\"#7201a8\"],[0.3333333333333333,\"#9c179e\"],[0.4444444444444444,\"#bd3786\"],[0.5555555555555556,\"#d8576b\"],[0.6666666666666666,\"#ed7953\"],[0.7777777777777778,\"#fb9f3a\"],[0.8888888888888888,\"#fdca26\"],[1.0,\"#f0f921\"]],\"type\":\"histogram2d\"}],\"histogram2dcontour\":[{\"colorbar\":{\"outlinewidth\":0,\"ticks\":\"\"},\"colorscale\":[[0.0,\"#0d0887\"],[0.1111111111111111,\"#46039f\"],[0.2222222222222222,\"#7201a8\"],[0.3333333333333333,\"#9c179e\"],[0.4444444444444444,\"#bd3786\"],[0.5555555555555556,\"#d8576b\"],[0.6666666666666666,\"#ed7953\"],[0.7777777777777778,\"#fb9f3a\"],[0.8888888888888888,\"#fdca26\"],[1.0,\"#f0f921\"]],\"type\":\"histogram2dcontour\"}],\"mesh3d\":[{\"colorbar\":{\"outlinewidth\":0,\"ticks\":\"\"},\"type\":\"mesh3d\"}],\"parcoords\":[{\"line\":{\"colorbar\":{\"outlinewidth\":0,\"ticks\":\"\"}},\"type\":\"parcoords\"}],\"pie\":[{\"automargin\":true,\"type\":\"pie\"}],\"scatter\":[{\"marker\":{\"colorbar\":{\"outlinewidth\":0,\"ticks\":\"\"}},\"type\":\"scatter\"}],\"scatter3d\":[{\"line\":{\"colorbar\":{\"outlinewidth\":0,\"ticks\":\"\"}},\"marker\":{\"colorbar\":{\"outlinewidth\":0,\"ticks\":\"\"}},\"type\":\"scatter3d\"}],\"scattercarpet\":[{\"marker\":{\"colorbar\":{\"outlinewidth\":0,\"ticks\":\"\"}},\"type\":\"scattercarpet\"}],\"scattergeo\":[{\"marker\":{\"colorbar\":{\"outlinewidth\":0,\"ticks\":\"\"}},\"type\":\"scattergeo\"}],\"scattergl\":[{\"marker\":{\"colorbar\":{\"outlinewidth\":0,\"ticks\":\"\"}},\"type\":\"scattergl\"}],\"scattermapbox\":[{\"marker\":{\"colorbar\":{\"outlinewidth\":0,\"ticks\":\"\"}},\"type\":\"scattermapbox\"}],\"scatterpolar\":[{\"marker\":{\"colorbar\":{\"outlinewidth\":0,\"ticks\":\"\"}},\"type\":\"scatterpolar\"}],\"scatterpolargl\":[{\"marker\":{\"colorbar\":{\"outlinewidth\":0,\"ticks\":\"\"}},\"type\":\"scatterpolargl\"}],\"scatterternary\":[{\"marker\":{\"colorbar\":{\"outlinewidth\":0,\"ticks\":\"\"}},\"type\":\"scatterternary\"}],\"surface\":[{\"colorbar\":{\"outlinewidth\":0,\"ticks\":\"\"},\"colorscale\":[[0.0,\"#0d0887\"],[0.1111111111111111,\"#46039f\"],[0.2222222222222222,\"#7201a8\"],[0.3333333333333333,\"#9c179e\"],[0.4444444444444444,\"#bd3786\"],[0.5555555555555556,\"#d8576b\"],[0.6666666666666666,\"#ed7953\"],[0.7777777777777778,\"#fb9f3a\"],[0.8888888888888888,\"#fdca26\"],[1.0,\"#f0f921\"]],\"type\":\"surface\"}],\"table\":[{\"cells\":{\"fill\":{\"color\":\"#EBF0F8\"},\"line\":{\"color\":\"white\"}},\"header\":{\"fill\":{\"color\":\"#C8D4E3\"},\"line\":{\"color\":\"white\"}},\"type\":\"table\"}]},\"layout\":{\"annotationdefaults\":{\"arrowcolor\":\"#2a3f5f\",\"arrowhead\":0,\"arrowwidth\":1},\"autotypenumbers\":\"strict\",\"coloraxis\":{\"colorbar\":{\"outlinewidth\":0,\"ticks\":\"\"}},\"colorscale\":{\"diverging\":[[0,\"#8e0152\"],[0.1,\"#c51b7d\"],[0.2,\"#de77ae\"],[0.3,\"#f1b6da\"],[0.4,\"#fde0ef\"],[0.5,\"#f7f7f7\"],[0.6,\"#e6f5d0\"],[0.7,\"#b8e186\"],[0.8,\"#7fbc41\"],[0.9,\"#4d9221\"],[1,\"#276419\"]],\"sequential\":[[0.0,\"#0d0887\"],[0.1111111111111111,\"#46039f\"],[0.2222222222222222,\"#7201a8\"],[0.3333333333333333,\"#9c179e\"],[0.4444444444444444,\"#bd3786\"],[0.5555555555555556,\"#d8576b\"],[0.6666666666666666,\"#ed7953\"],[0.7777777777777778,\"#fb9f3a\"],[0.8888888888888888,\"#fdca26\"],[1.0,\"#f0f921\"]],\"sequentialminus\":[[0.0,\"#0d0887\"],[0.1111111111111111,\"#46039f\"],[0.2222222222222222,\"#7201a8\"],[0.3333333333333333,\"#9c179e\"],[0.4444444444444444,\"#bd3786\"],[0.5555555555555556,\"#d8576b\"],[0.6666666666666666,\"#ed7953\"],[0.7777777777777778,\"#fb9f3a\"],[0.8888888888888888,\"#fdca26\"],[1.0,\"#f0f921\"]]},\"colorway\":[\"#636efa\",\"#EF553B\",\"#00cc96\",\"#ab63fa\",\"#FFA15A\",\"#19d3f3\",\"#FF6692\",\"#B6E880\",\"#FF97FF\",\"#FECB52\"],\"font\":{\"color\":\"#2a3f5f\"},\"geo\":{\"bgcolor\":\"white\",\"lakecolor\":\"white\",\"landcolor\":\"#E5ECF6\",\"showlakes\":true,\"showland\":true,\"subunitcolor\":\"white\"},\"hoverlabel\":{\"align\":\"left\"},\"hovermode\":\"closest\",\"mapbox\":{\"style\":\"light\"},\"paper_bgcolor\":\"white\",\"plot_bgcolor\":\"#E5ECF6\",\"polar\":{\"angularaxis\":{\"gridcolor\":\"white\",\"linecolor\":\"white\",\"ticks\":\"\"},\"bgcolor\":\"#E5ECF6\",\"radialaxis\":{\"gridcolor\":\"white\",\"linecolor\":\"white\",\"ticks\":\"\"}},\"scene\":{\"xaxis\":{\"backgroundcolor\":\"#E5ECF6\",\"gridcolor\":\"white\",\"gridwidth\":2,\"linecolor\":\"white\",\"showbackground\":true,\"ticks\":\"\",\"zerolinecolor\":\"white\"},\"yaxis\":{\"backgroundcolor\":\"#E5ECF6\",\"gridcolor\":\"white\",\"gridwidth\":2,\"linecolor\":\"white\",\"showbackground\":true,\"ticks\":\"\",\"zerolinecolor\":\"white\"},\"zaxis\":{\"backgroundcolor\":\"#E5ECF6\",\"gridcolor\":\"white\",\"gridwidth\":2,\"linecolor\":\"white\",\"showbackground\":true,\"ticks\":\"\",\"zerolinecolor\":\"white\"}},\"shapedefaults\":{\"line\":{\"color\":\"#2a3f5f\"}},\"ternary\":{\"aaxis\":{\"gridcolor\":\"white\",\"linecolor\":\"white\",\"ticks\":\"\"},\"baxis\":{\"gridcolor\":\"white\",\"linecolor\":\"white\",\"ticks\":\"\"},\"bgcolor\":\"#E5ECF6\",\"caxis\":{\"gridcolor\":\"white\",\"linecolor\":\"white\",\"ticks\":\"\"}},\"title\":{\"x\":0.05},\"xaxis\":{\"automargin\":true,\"gridcolor\":\"white\",\"linecolor\":\"white\",\"ticks\":\"\",\"title\":{\"standoff\":15},\"zerolinecolor\":\"white\",\"zerolinewidth\":2},\"yaxis\":{\"automargin\":true,\"gridcolor\":\"white\",\"linecolor\":\"white\",\"ticks\":\"\",\"title\":{\"standoff\":15},\"zerolinecolor\":\"white\",\"zerolinewidth\":2}}},\"uniformtext\":{\"minsize\":0.1,\"mode\":\"hide\"},\"xaxis\":{\"anchor\":\"y\",\"domain\":[0.0,1.0],\"title\":{\"text\":\"country\"}},\"yaxis\":{\"anchor\":\"x\",\"domain\":[0.0,1.0],\"title\":{\"text\":\"pop\"}}},                        {\"responsive\": true}                    ).then(function(){\n",
       "                            \n",
       "var gd = document.getElementById('23e50fb8-623e-499f-a146-dba84588fa51');\n",
       "var x = new MutationObserver(function (mutations, observer) {{\n",
       "        var display = window.getComputedStyle(gd).display;\n",
       "        if (!display || display === 'none') {{\n",
       "            console.log([gd, 'removed!']);\n",
       "            Plotly.purge(gd);\n",
       "            observer.disconnect();\n",
       "        }}\n",
       "}});\n",
       "\n",
       "// Listen for the removal of the full notebook cells\n",
       "var notebookContainer = gd.closest('#notebook-container');\n",
       "if (notebookContainer) {{\n",
       "    x.observe(notebookContainer, {childList: true});\n",
       "}}\n",
       "\n",
       "// Listen for the clearing of the current output cell\n",
       "var outputEl = gd.closest('.output');\n",
       "if (outputEl) {{\n",
       "    x.observe(outputEl, {childList: true});\n",
       "}}\n",
       "\n",
       "                        })                };                });            </script>        </div>"
      ]
     },
     "metadata": {},
     "output_type": "display_data"
    }
   ],
   "source": [
    "df5 = px.data.gapminder().query(\"continent == 'Europe' and year == 2007 and pop > 2.e6\")\n",
    "fig = px.bar(df5, y='pop', x='country', text='pop')\n",
    "fig.update_traces( texttemplate = \"%{text : 1s}\" , textposition = \"outside\")\n",
    "fig.update_layout(uniformtext_minsize = 0.1 , uniformtext_mode = \"hide\")\n",
    "fig.show()"
   ]
  },
  {
   "cell_type": "code",
   "execution_count": null,
   "id": "a4036581",
   "metadata": {},
   "outputs": [],
   "source": []
  }
 ],
 "metadata": {
  "kernelspec": {
   "display_name": "Python 3",
   "language": "python",
   "name": "python3"
  },
  "language_info": {
   "codemirror_mode": {
    "name": "ipython",
    "version": 3
   },
   "file_extension": ".py",
   "mimetype": "text/x-python",
   "name": "python",
   "nbconvert_exporter": "python",
   "pygments_lexer": "ipython3",
   "version": "3.8.8"
  }
 },
 "nbformat": 4,
 "nbformat_minor": 5
}
