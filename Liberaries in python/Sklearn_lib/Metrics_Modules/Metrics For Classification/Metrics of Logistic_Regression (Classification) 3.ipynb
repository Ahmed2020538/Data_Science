{
 "cells": [
  {
   "cell_type": "markdown",
   "metadata": {},
   "source": [
    " # Precision recall f_score Support"
   ]
  },
  {
   "cell_type": "code",
   "execution_count": 2,
   "metadata": {},
   "outputs": [
    {
     "data": {
      "text/plain": [
       "(array([1., 0., 0.]),\n",
       " array([0.66666667, 0.        , 0.        ]),\n",
       " array([0.8, 0. , 0. ]),\n",
       " array([3, 2, 1], dtype=int64))"
      ]
     },
     "execution_count": 2,
     "metadata": {},
     "output_type": "execute_result"
    }
   ],
   "source": [
    "from sklearn.metrics import precision_recall_fscore_support\n",
    "import numpy as np\n",
    "\n",
    "y_pred = np.array(['cat', 'pig', 'dog', 'cat', 'cat', 'dog'])\n",
    "y_true =  np.array(['cat', 'dog', 'pig', 'cat', 'dog', 'pig'])\n",
    "\n",
    "#Calculating Precision recall Score :  \n",
    "#metrics.precision_recall_fscore_support(y_true, y_pred, beta=1.0, labels=None, pos_label=1, average=\n",
    "# None, warn_for = ('precision’,’recall’, ’f-score’), sample_weight=None)\n",
    "\n",
    "PRFS = precision_recall_fscore_support(y_pred , y_true , average=None)\n",
    "PRFS  #return [ precision ,  recall , fscore , support ]"
   ]
  },
  {
   "cell_type": "code",
   "execution_count": 3,
   "metadata": {},
   "outputs": [
    {
     "data": {
      "text/plain": [
       "(0.3333333333333333, 0.3333333333333333, 0.3333333333333333, None)"
      ]
     },
     "execution_count": 3,
     "metadata": {},
     "output_type": "execute_result"
    }
   ],
   "source": [
    "from sklearn.metrics import precision_recall_fscore_support\n",
    "import numpy as np\n",
    "\n",
    "y_pred = np.array(['cat', 'pig', 'dog', 'cat', 'cat', 'dog'])\n",
    "y_true =  np.array(['cat', 'dog', 'pig', 'cat', 'dog', 'pig'])\n",
    "\n",
    "#Calculating Precision recall Score :  \n",
    "#metrics.precision_recall_fscore_support(y_true, y_pred, beta=1.0, labels=None, pos_label=1, average=\n",
    "# None, warn_for = ('precision’,’recall’, ’f-score’), sample_weight=None)\n",
    "\n",
    "PRFS = precision_recall_fscore_support(y_pred , y_true , average=\"micro\")\n",
    "PRFS  #return [ precision ,  recall , fscore , support ]"
   ]
  },
  {
   "cell_type": "markdown",
   "metadata": {},
   "source": [
    "# precision recall curve"
   ]
  },
  {
   "cell_type": "code",
   "execution_count": 5,
   "metadata": {},
   "outputs": [
    {
     "name": "stdout",
     "output_type": "stream",
     "text": [
      "The Precision :: [0.66666667 0.5        1.         1.        ]\n",
      "===\n",
      "The Recall :: [1.  0.5 0.5 0. ]\n",
      "===\n",
      "The Threshold :: [0.35 0.4  0.8 ]\n"
     ]
    }
   ],
   "source": [
    "from sklearn.metrics import precision_recall_curve\n",
    "import numpy as np\n",
    "\n",
    "y_pred =  np.array([0, 0, 1, 1])\n",
    "y_true =   np.array([0.1, 0.4, 0.35, 0.8])\n",
    "\n",
    "\n",
    "\n",
    "#Calculating Precision recall Curve :  \n",
    "# precision_recall_curve(y_true, probas_pred, pos_label=None, sample_weight=None)\n",
    "\n",
    "Precision , Recall , Threshold = precision_recall_curve(y_pred , y_true)  # return three values \n",
    "\n",
    "print(f\"The Precision :: {Precision}\\n===\\nThe Recall :: {Recall}\\n===\\nThe Threshold :: {Threshold}\")"
   ]
  },
  {
   "cell_type": "markdown",
   "metadata": {},
   "source": [
    " # classification Report "
   ]
  },
  {
   "cell_type": "markdown",
   "metadata": {},
   "source": [
    "     Most Use becoue talk less Time and Work"
   ]
  },
  {
   "cell_type": "code",
   "execution_count": 8,
   "metadata": {},
   "outputs": [
    {
     "name": "stdout",
     "output_type": "stream",
     "text": [
      "              precision    recall  f1-score   support\n",
      "\n",
      "           0       1.00      0.33      0.50         3\n",
      "           1       0.00      0.00      0.00         1\n",
      "           2       0.67      1.00      0.80         2\n",
      "           5       0.00      0.00      0.00         0\n",
      "\n",
      "    accuracy                           0.50         6\n",
      "   macro avg       0.42      0.33      0.33         6\n",
      "weighted avg       0.72      0.50      0.52         6\n",
      "\n"
     ]
    }
   ],
   "source": [
    "from sklearn.metrics import classification_report\n",
    "\n",
    "y_true = [0, 1, 2, 2, 2,5]\n",
    "y_pred = [0, 0, 2, 2, 1,0]\n",
    "\n",
    "#Calculating classification Report :  \n",
    "#classification_report(y_true, y_pred, labels=None, \n",
    "#target_names=None,sample_weight=None, digits=2, output_dict=False)\n",
    "\n",
    "\n",
    "Clasifier_Report = classification_report(y_pred , y_true)\n",
    "print(Clasifier_Report)  # return alues of ( Precision , Recall , Fscore , support , .....)"
   ]
  },
  {
   "cell_type": "code",
   "execution_count": 9,
   "metadata": {},
   "outputs": [
    {
     "name": "stdout",
     "output_type": "stream",
     "text": [
      "              precision    recall  f1-score   support\n",
      "\n",
      "           a       0.33      0.50      0.40         2\n",
      "           d       0.00      0.00      0.00         1\n",
      "           g       1.00      0.33      0.50         3\n",
      "\n",
      "    accuracy                           0.33         6\n",
      "   macro avg       0.44      0.28      0.30         6\n",
      "weighted avg       0.61      0.33      0.38         6\n",
      "\n"
     ]
    }
   ],
   "source": [
    "from sklearn.metrics import classification_report\n",
    "\n",
    "y_true = ['a','d','a','g','a','d']\n",
    "y_pred = ['a','a','g','g','d','g']\n",
    "\n",
    "#Calculating classification Report :  \n",
    "#classification_report(y_true, y_pred, labels=None, \n",
    "#target_names=None,sample_weight=None, digits=2, output_dict=False)\n",
    "\n",
    "\n",
    "Clasifier_Report = classification_report(y_pred , y_true)\n",
    "print(Clasifier_Report)  # return alues of ( Precision , Recall , Fscore , support , .....)"
   ]
  },
  {
   "cell_type": "markdown",
   "metadata": {},
   "source": [
    "# Roc Curve"
   ]
  },
  {
   "cell_type": "markdown",
   "metadata": {},
   "source": [
    "     Most use in Binary classification"
   ]
  },
  {
   "cell_type": "code",
   "execution_count": 12,
   "metadata": {},
   "outputs": [
    {
     "name": "stdout",
     "output_type": "stream",
     "text": [
      "The False Positive Rate :: [0.  0.  0.5 0.5 1. ]\n",
      "===\n",
      "The True Positive Rate :: [0.  0.5 0.5 1.  1. ]\n",
      "===\n",
      "The Threshold :: [1.8  0.8  0.4  0.35 0.1 ]\n"
     ]
    }
   ],
   "source": [
    "from sklearn.metrics import roc_curve\n",
    "\n",
    "y =      np.array([1    , 1     , 2     , 2])\n",
    "scores = np.array([0.1  , 0.4   ,   0.35, 0.8])\n",
    "\n",
    "#Calculating Receiver Operating Characteristic :  \n",
    "#roc_curve(y_true, y_score, pos_label=None, sample_weight=None,drop_intermediate=True)\n",
    "\n",
    "\n",
    "FPS , TPS , Thrshold = roc_curve(y , scores , pos_label=2)\n",
    "print(f\"The False Positive Rate :: {FPS}\\n===\\nThe True Positive Rate :: {TPS}\\n===\\n\\\n",
    "The Threshold :: {Thrshold}\") # return three Values"
   ]
  },
  {
   "cell_type": "code",
   "execution_count": null,
   "metadata": {},
   "outputs": [],
   "source": []
  }
 ],
 "metadata": {
  "kernelspec": {
   "display_name": "Python 3",
   "language": "python",
   "name": "python3"
  },
  "language_info": {
   "codemirror_mode": {
    "name": "ipython",
    "version": 3
   },
   "file_extension": ".py",
   "mimetype": "text/x-python",
   "name": "python",
   "nbconvert_exporter": "python",
   "pygments_lexer": "ipython3",
   "version": "3.7.4"
  }
 },
 "nbformat": 4,
 "nbformat_minor": 2
}
