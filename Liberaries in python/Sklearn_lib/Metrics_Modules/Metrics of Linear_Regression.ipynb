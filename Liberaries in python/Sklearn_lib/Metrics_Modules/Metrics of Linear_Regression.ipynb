{
 "cells": [
  {
   "cell_type": "markdown",
   "metadata": {},
   "source": [
    "# Mean _ Absolute _ Error  (MAE)"
   ]
  },
  {
   "cell_type": "code",
   "execution_count": 16,
   "metadata": {},
   "outputs": [
    {
     "data": {
      "text/plain": [
       "3.0"
      ]
     },
     "execution_count": 16,
     "metadata": {},
     "output_type": "execute_result"
    }
   ],
   "source": [
    "from sklearn.metrics import mean_absolute_error \n",
    "\n",
    "y_test = [ 1 , 2 , 5 , 7]\n",
    "y_pred = [ 4 , 7 , 2 , 6 ]\n",
    "\n",
    "MAE = mean_absolute_error(y_test , y_pred )\n",
    "MAE"
   ]
  },
  {
   "cell_type": "code",
   "execution_count": 17,
   "metadata": {},
   "outputs": [
    {
     "data": {
      "text/plain": [
       "1.0"
      ]
     },
     "execution_count": 17,
     "metadata": {},
     "output_type": "execute_result"
    }
   ],
   "source": [
    "from sklearn.metrics import mean_absolute_error \n",
    "import numpy as np\n",
    "\n",
    "y_test = [[1 , 2 , 3] , [ 4,5,6] ,[7,8,9]]\n",
    "y_pred = np.arange(9).reshape(3,3)\n",
    "\n",
    "MAE = mean_absolute_error(y_test , y_pred )\n",
    "MAE"
   ]
  },
  {
   "cell_type": "code",
   "execution_count": 18,
   "metadata": {},
   "outputs": [
    {
     "data": {
      "text/plain": [
       "1.0"
      ]
     },
     "execution_count": 18,
     "metadata": {},
     "output_type": "execute_result"
    }
   ],
   "source": [
    "from sklearn.metrics import mean_absolute_error \n",
    "import numpy as np\n",
    "\n",
    "y_test = [[1 , 2 , 3] , [ 4,5,6] ,[7,8,9]]\n",
    "y_pred = np.arange(9).reshape(3,3)\n",
    "\n",
    "MAE = mean_absolute_error(y_test , y_pred  , multioutput=\"uniform_average\")\n",
    "MAE"
   ]
  },
  {
   "cell_type": "code",
   "execution_count": 19,
   "metadata": {},
   "outputs": [
    {
     "data": {
      "text/plain": [
       "array([1., 1., 1.])"
      ]
     },
     "execution_count": 19,
     "metadata": {},
     "output_type": "execute_result"
    }
   ],
   "source": [
    "from sklearn.metrics import mean_absolute_error \n",
    "import numpy as np\n",
    "\n",
    "y_test = [[1 , 2 , 3] , [ 4,5,6] ,[7,8,9]]\n",
    "y_pred = np.arange(9).reshape(3,3)\n",
    "\n",
    "MAE = mean_absolute_error(y_test , y_pred  , multioutput=\"raw_values\")\n",
    "MAE"
   ]
  },
  {
   "cell_type": "markdown",
   "metadata": {},
   "source": [
    "# Mean _ Square _ Error  (MSE)"
   ]
  },
  {
   "cell_type": "code",
   "execution_count": 25,
   "metadata": {},
   "outputs": [
    {
     "data": {
      "text/plain": [
       "11.0"
      ]
     },
     "execution_count": 25,
     "metadata": {},
     "output_type": "execute_result"
    }
   ],
   "source": [
    "from sklearn.metrics import mean_squared_error \n",
    "\n",
    "y_test = [ 1 , 2 , 5 , 7]\n",
    "y_pred = [ 4 , 7 , 2 , 6 ]\n",
    "\n",
    "MSE = mean_squared_error(y_test , y_pred )\n",
    "MSE"
   ]
  },
  {
   "cell_type": "code",
   "execution_count": 26,
   "metadata": {},
   "outputs": [
    {
     "data": {
      "text/plain": [
       "1.0"
      ]
     },
     "execution_count": 26,
     "metadata": {},
     "output_type": "execute_result"
    }
   ],
   "source": [
    "from sklearn.metrics import mean_squared_error \n",
    "import numpy as np\n",
    "\n",
    "y_test = [[1 , 2 , 3] , [ 4,5,6] ,[7,8,9]]\n",
    "y_pred = np.arange(9).reshape(3,3)\n",
    "\n",
    "MSE = mean_squared_error(y_test , y_pred )\n",
    "MSE"
   ]
  },
  {
   "cell_type": "code",
   "execution_count": 27,
   "metadata": {},
   "outputs": [
    {
     "data": {
      "text/plain": [
       "1.0"
      ]
     },
     "execution_count": 27,
     "metadata": {},
     "output_type": "execute_result"
    }
   ],
   "source": [
    "from sklearn.metrics import mean_squared_error\n",
    "import numpy as np\n",
    "\n",
    "y_test = [[1 , 2 , 3] , [ 4,5,6] ,[7,8,9]]\n",
    "y_pred = np.arange(9).reshape(3,3)\n",
    "\n",
    "MSE = mean_squared_error(y_test , y_pred  , multioutput=\"uniform_average\")\n",
    "MSE"
   ]
  },
  {
   "cell_type": "code",
   "execution_count": 28,
   "metadata": {},
   "outputs": [
    {
     "data": {
      "text/plain": [
       "array([1., 1., 1.])"
      ]
     },
     "execution_count": 28,
     "metadata": {},
     "output_type": "execute_result"
    }
   ],
   "source": [
    "from sklearn.metrics import mean_squared_error\n",
    "import numpy as np\n",
    "\n",
    "y_test = [[1 , 2 , 3] , [ 4,5,6] ,[7,8,9]]\n",
    "y_pred = np.arange(9).reshape(3,3)\n",
    "\n",
    "MSE = mean_squared_error(y_test , y_pred  , multioutput=\"raw_values\")\n",
    "MSE"
   ]
  },
  {
   "cell_type": "markdown",
   "metadata": {},
   "source": [
    "# Median _ Absolute _ Error  (MAE)"
   ]
  },
  {
   "cell_type": "code",
   "execution_count": 32,
   "metadata": {},
   "outputs": [
    {
     "data": {
      "text/plain": [
       "3.0"
      ]
     },
     "execution_count": 32,
     "metadata": {},
     "output_type": "execute_result"
    }
   ],
   "source": [
    "from sklearn.metrics import median_absolute_error \n",
    "\n",
    "y_test = [ 1 , 2 , 5 , 7]\n",
    "y_pred = [ 4 , 7 , 2 , 6 ]\n",
    "\n",
    "Mid_SE = median_absolute_error(y_test , y_pred )  # not support multioutput\n",
    "Mid_SE "
   ]
  },
  {
   "cell_type": "code",
   "execution_count": null,
   "metadata": {},
   "outputs": [],
   "source": []
  },
  {
   "cell_type": "code",
   "execution_count": null,
   "metadata": {},
   "outputs": [],
   "source": []
  },
  {
   "cell_type": "code",
   "execution_count": null,
   "metadata": {},
   "outputs": [],
   "source": []
  }
 ],
 "metadata": {
  "kernelspec": {
   "display_name": "Python 3",
   "language": "python",
   "name": "python3"
  },
  "language_info": {
   "codemirror_mode": {
    "name": "ipython",
    "version": 3
   },
   "file_extension": ".py",
   "mimetype": "text/x-python",
   "name": "python",
   "nbconvert_exporter": "python",
   "pygments_lexer": "ipython3",
   "version": "3.7.4"
  }
 },
 "nbformat": 4,
 "nbformat_minor": 2
}
