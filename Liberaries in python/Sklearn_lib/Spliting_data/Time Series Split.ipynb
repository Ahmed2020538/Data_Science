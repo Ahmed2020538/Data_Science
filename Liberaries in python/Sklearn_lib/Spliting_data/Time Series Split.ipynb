{
 "cells": [
  {
   "cell_type": "markdown",
   "metadata": {},
   "source": [
    " # Time Series Split"
   ]
  },
  {
   "cell_type": "markdown",
   "metadata": {},
   "source": [
    "    it is Take 1 value train and 1 value test ,, 2 value train and 1 test ,, 3 v train and 1 test and so on"
   ]
  },
  {
   "cell_type": "code",
   "execution_count": null,
   "metadata": {},
   "outputs": [],
   "source": []
  }
 ],
 "metadata": {
  "kernelspec": {
   "display_name": "Python 3",
   "language": "python",
   "name": "python3"
  },
  "language_info": {
   "codemirror_mode": {
    "name": "ipython",
    "version": 3
   },
   "file_extension": ".py",
   "mimetype": "text/x-python",
   "name": "python",
   "nbconvert_exporter": "python",
   "pygments_lexer": "ipython3",
   "version": "3.7.4"
  }
 },
 "nbformat": 4,
 "nbformat_minor": 2
}
