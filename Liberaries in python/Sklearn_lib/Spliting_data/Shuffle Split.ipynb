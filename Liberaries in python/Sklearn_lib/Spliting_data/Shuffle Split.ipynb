{
 "cells": [
  {
   "cell_type": "markdown",
   "metadata": {},
   "source": [
    "# Shuffle Split"
   ]
  },
  {
   "cell_type": "markdown",
   "metadata": {},
   "source": [
    "    Split data with random method Based on precentage we givein to it"
   ]
  },
  {
   "cell_type": "code",
   "execution_count": 1,
   "metadata": {},
   "outputs": [
    {
     "name": "stdout",
     "output_type": "stream",
     "text": [
      "ShuffleSplit(n_splits=5, random_state=0, test_size=0.1, train_size=None)\n",
      "TRAIN: [2 1 3 0 4] TEST: [5]\n",
      "TRAIN: [3 4 0 2 5] TEST: [1]\n",
      "TRAIN: [5 1 2 4 0] TEST: [3]\n",
      "TRAIN: [2 3 4 1 0] TEST: [5]\n",
      "TRAIN: [4 3 5 1 0] TEST: [2]\n"
     ]
    }
   ],
   "source": [
    "import numpy as np\n",
    "from sklearn.model_selection import ShuffleSplit\n",
    "X = np.array([[1, 2], [3, 4], [5, 6], [7, 8], [3, 4], [5, 6]])\n",
    "y = np.array([1, 2, 1, 2, 1, 2])\n",
    "rs = ShuffleSplit(n_splits=5, test_size=.1, random_state=0)\n",
    "rs.get_n_splits(X)\n",
    "\n",
    "print(rs)\n",
    "\n",
    "for train_index, test_index in rs.split(X):\n",
    "    print(\"TRAIN:\", train_index, \"TEST:\", test_index)"
   ]
  },
  {
   "cell_type": "code",
   "execution_count": 2,
   "metadata": {},
   "outputs": [
    {
     "name": "stdout",
     "output_type": "stream",
     "text": [
      "ShuffleSplit(n_splits=5, random_state=0, test_size=0.25, train_size=0.5)\n",
      "TRAIN: [1 3 0] TEST: [5 2]\n",
      "TRAIN: [4 0 2] TEST: [1 3]\n",
      "TRAIN: [1 2 4] TEST: [3 5]\n",
      "TRAIN: [3 4 1] TEST: [5 2]\n",
      "TRAIN: [3 5 1] TEST: [2 4]\n"
     ]
    }
   ],
   "source": [
    "import numpy as np\n",
    "from sklearn.model_selection import ShuffleSplit\n",
    "X = np.array([[1, 2], [3, 4], [5, 6], [7, 8], [3, 4], [5, 6]])\n",
    "y = np.array([1, 2, 1, 2, 1, 2])\n",
    "rs = ShuffleSplit(n_splits=5, train_size=0.5, test_size=.25,random_state=0)\n",
    "rs.get_n_splits(X)\n",
    "\n",
    "print(rs)\n",
    "\n",
    "rs = ShuffleSplit(n_splits=5, train_size=0.5, test_size=.25,random_state=0)\n",
    "for train_index, test_index in rs.split(X):\n",
    "    print(\"TRAIN:\", train_index, \"TEST:\", test_index)\n"
   ]
  },
  {
   "cell_type": "code",
   "execution_count": 3,
   "metadata": {},
   "outputs": [
    {
     "name": "stdout",
     "output_type": "stream",
     "text": [
      "[8 4 9 1 6 7 3 0 5] [2]\n",
      "[5 1 2 9 8 0 6 7 4] [3]\n",
      "[3 8 4 5 1 0 6 9 7] [2]\n",
      "[1 9 2 7 5 8 0 3 4] [6]\n",
      "[2 7 4 1 0 6 8 9 3] [5]\n"
     ]
    }
   ],
   "source": [
    "import numpy as np\n",
    "from sklearn.model_selection import ShuffleSplit\n",
    "X = np.arange(10)\n",
    "\n",
    "n=0.1\n",
    "#n=0.3\n",
    "#n=0.5\n",
    "#n=0.7\n",
    "#n=0.9\n",
    "\n",
    "ss = ShuffleSplit(n_splits=5, test_size=n,random_state=0)\n",
    "for train_index, test_index in ss.split(X):\n",
    "    print(\"%s %s\" % (train_index, test_index))\n"
   ]
  },
  {
   "cell_type": "code",
   "execution_count": null,
   "metadata": {},
   "outputs": [],
   "source": []
  }
 ],
 "metadata": {
  "kernelspec": {
   "display_name": "Python 3",
   "language": "python",
   "name": "python3"
  },
  "language_info": {
   "codemirror_mode": {
    "name": "ipython",
    "version": 3
   },
   "file_extension": ".py",
   "mimetype": "text/x-python",
   "name": "python",
   "nbconvert_exporter": "python",
   "pygments_lexer": "ipython3",
   "version": "3.7.4"
  }
 },
 "nbformat": 4,
 "nbformat_minor": 2
}
