{
 "cells": [
  {
   "cell_type": "markdown",
   "metadata": {},
   "source": [
    "# Train_Test_Split"
   ]
  },
  {
   "cell_type": "code",
   "execution_count": null,
   "metadata": {},
   "outputs": [],
   "source": [
    "#Import Libraries\n",
    "from sklearn.model_selection import train_test_split\n",
    "#----------------------------------------------------\n",
    "\n",
    "#Splitting data\n",
    "\n",
    "X_train, X_test, y_train, y_test = train_test_split(X, y, test_size=0.33, random_state=44, shuffle =True)\n",
    "\n",
    "#Splitted Data\n",
    "print('X_train shape is ' , X_train.shape)\n",
    "print('X_test shape is ' , X_test.shape)\n",
    "print('y_train shape is ' , y_train.shape)\n",
    "print('y_test shape is ' , y_test.shape)"
   ]
  },
  {
   "cell_type": "code",
   "execution_count": null,
   "metadata": {},
   "outputs": [],
   "source": []
  },
  {
   "cell_type": "code",
   "execution_count": 3,
   "metadata": {},
   "outputs": [
    {
     "name": "stdout",
     "output_type": "stream",
     "text": [
      "The X_Train ::\n",
      "\n",
      "[[4 5]\n",
      " [0 1]\n",
      " [6 7]]\n",
      "===\n",
      "The X_Test ::\n",
      "\n",
      "[[2 3]\n",
      " [8 9]]\n",
      "===\n",
      "The y_Train ::\n",
      "\n",
      "[2, 0, 3]\n",
      "===\n",
      "The Y_Test ::\n",
      "\n",
      "[1, 4]\n",
      "===\n",
      " X_data ::\n",
      "\n",
      "[[0 1]\n",
      " [2 3]\n",
      " [4 5]\n",
      " [6 7]\n",
      " [8 9]]\n",
      "The y_data ::\n",
      "\n",
      "[0, 1, 2, 3, 4]\n"
     ]
    }
   ],
   "source": [
    "import numpy as np\n",
    "from sklearn.model_selection import train_test_split\n",
    "\n",
    "X = np.arange(10) .reshape(5,2)\n",
    "\n",
    "y = list(range(5))\n",
    "\n",
    "X_train , X_test , y_train , y_test = train_test_split( X , y , test_size = 0.33 , random_state = 42  )\n",
    "\n",
    "\n",
    "print(f\"The X_Train ::\\n\\n{X_train}\\n===\\nThe X_Test ::\\n\\n{X_test}\\n===\\nThe y_Train ::\\n\\n{y_train}\\\n",
    "\\n===\\nThe Y_Test ::\\n\\n{y_test}\\n===\\n X_data ::\\n\\n{X}\\nThe y_data ::\\n\\n{y}\")"
   ]
  },
  {
   "cell_type": "code",
   "execution_count": 4,
   "metadata": {},
   "outputs": [
    {
     "name": "stdout",
     "output_type": "stream",
     "text": [
      "The X_Train ::\n",
      "\n",
      "[[4 5]\n",
      " [0 1]\n",
      " [6 7]]\n",
      "===\n",
      "The X_Test ::\n",
      "\n",
      "[[2 3]\n",
      " [8 9]]\n",
      "===\n",
      "The y_Train ::\n",
      "\n",
      "[2, 0, 3]\n",
      "===\n",
      "The Y_Test ::\n",
      "\n",
      "[1, 4]\n",
      "===\n",
      " X_data ::\n",
      "\n",
      "[[0 1]\n",
      " [2 3]\n",
      " [4 5]\n",
      " [6 7]\n",
      " [8 9]]\n",
      "The y_data ::\n",
      "\n",
      "[0, 1, 2, 3, 4]\n"
     ]
    }
   ],
   "source": [
    "import numpy as np\n",
    "from sklearn.model_selection import train_test_split\n",
    "\n",
    "X = np.arange(10) .reshape(5,2)\n",
    "\n",
    "y = list(range(5))\n",
    "\n",
    "X_train , X_test , y_train , y_test = train_test_split( X , y , test_size = 0.33 , random_state = 42 ,shuffle =True  )\n",
    "\n",
    "\n",
    "print(f\"The X_Train ::\\n\\n{X_train}\\n===\\nThe X_Test ::\\n\\n{X_test}\\n===\\nThe y_Train ::\\n\\n{y_train}\\\n",
    "\\n===\\nThe Y_Test ::\\n\\n{y_test}\\n===\\n X_data ::\\n\\n{X}\\nThe y_data ::\\n\\n{y}\")"
   ]
  },
  {
   "cell_type": "code",
   "execution_count": null,
   "metadata": {},
   "outputs": [],
   "source": []
  },
  {
   "cell_type": "code",
   "execution_count": null,
   "metadata": {},
   "outputs": [],
   "source": []
  }
 ],
 "metadata": {
  "kernelspec": {
   "display_name": "Python 3",
   "language": "python",
   "name": "python3"
  },
  "language_info": {
   "codemirror_mode": {
    "name": "ipython",
    "version": 3
   },
   "file_extension": ".py",
   "mimetype": "text/x-python",
   "name": "python",
   "nbconvert_exporter": "python",
   "pygments_lexer": "ipython3",
   "version": "3.7.4"
  }
 },
 "nbformat": 4,
 "nbformat_minor": 2
}
