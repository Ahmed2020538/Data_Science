{
 "cells": [
  {
   "cell_type": "markdown",
   "metadata": {},
   "source": [
    "# K_Fold"
   ]
  },
  {
   "cell_type": "code",
   "execution_count": null,
   "metadata": {},
   "outputs": [],
   "source": [
    "#Import Libraries\n",
    "from sklearn.model_selection import KFold\n",
    "#----------------------------------------------------\n",
    "\n",
    "#KFold Splitting data\n",
    "\n",
    "kf = KFold(n_splits=4, random_state=44, shuffle =True)\n",
    "\n",
    "#KFold Data\n",
    "for train_index, test_index in kf.split(X):\n",
    "    print('Train Data is : \\n', train_index)\n",
    "    print('Test Data is  : \\n', test_index)\n",
    "    print('-------------------------------')\n",
    "    X_train, X_test = X[train_index], X[test_index]\n",
    "    y_train, y_test = y[train_index], y[test_index]\n",
    "    print('X_train Shape is  ' , X_train.shape)\n",
    "    print('X_test Shape is  ' , X_test.shape)\n",
    "    print('y_train Shape is  ' ,y_train.shape)\n",
    "    print('y_test Shape is  ' , y_test.shape)\n",
    "    print('========================================')"
   ]
  },
  {
   "cell_type": "code",
   "execution_count": 7,
   "metadata": {},
   "outputs": [
    {
     "name": "stdout",
     "output_type": "stream",
     "text": [
      "The X_data ::\n",
      "\n",
      "[[1 2]\n",
      " [3 4]\n",
      " [5 6]\n",
      " [7 8]]\n",
      "===\n",
      "The y_data ::\n",
      "\n",
      "[11 22 33 44]\n",
      "===\n",
      "The X_Train ::\n",
      "\n",
      "[[3 4]\n",
      " [5 6]]\n",
      "===\n",
      "The X_test :: \n",
      "\n",
      "[[1 2]\n",
      " [7 8]]\n",
      "The Y_Train :: \n",
      "\n",
      " [22 33]\n",
      "The y_Test :: \n",
      "\n",
      "[11 44]\n",
      "===\n",
      "The X_shap :: (4, 2)\n",
      "==\n",
      "The y_shape :: (4,)\n",
      "==\n",
      "The X_Train_shape :: (2, 2)\n",
      "==\n",
      "The X_Test_shape :: (2, 2)\n",
      "===\n",
      "The y_Train_shape:: (2,)\n",
      "==\n",
      "The y_Test_Shape :: (2,)\n",
      "===\n",
      "The Train_Index :: [1 2]\n",
      "===\n",
      "The Test_Index :: [0 3]\n",
      "\n",
      "**********\n",
      "\n",
      "The X_data ::\n",
      "\n",
      "[[1 2]\n",
      " [3 4]\n",
      " [5 6]\n",
      " [7 8]]\n",
      "===\n",
      "The y_data ::\n",
      "\n",
      "[11 22 33 44]\n",
      "===\n",
      "The X_Train ::\n",
      "\n",
      "[[1 2]\n",
      " [7 8]]\n",
      "===\n",
      "The X_test :: \n",
      "\n",
      "[[3 4]\n",
      " [5 6]]\n",
      "The Y_Train :: \n",
      "\n",
      " [11 44]\n",
      "The y_Test :: \n",
      "\n",
      "[22 33]\n",
      "===\n",
      "The X_shap :: (4, 2)\n",
      "==\n",
      "The y_shape :: (4,)\n",
      "==\n",
      "The X_Train_shape :: (2, 2)\n",
      "==\n",
      "The X_Test_shape :: (2, 2)\n",
      "===\n",
      "The y_Train_shape:: (2,)\n",
      "==\n",
      "The y_Test_Shape :: (2,)\n",
      "===\n",
      "The Train_Index :: [0 3]\n",
      "===\n",
      "The Test_Index :: [1 2]\n",
      "\n",
      "**********\n",
      "\n"
     ]
    }
   ],
   "source": [
    "import numpy as np\n",
    "from sklearn.model_selection import KFold\n",
    "\n",
    "X = np.array([[1, 2],\n",
    "              [3, 4],\n",
    "              [5, 6],\n",
    "              [7, 8]])\n",
    "\n",
    "y = np.array([11, 22, 33, 44])\n",
    "\n",
    "\n",
    "K_F = KFold( n_splits= 2 , random_state =40  , shuffle = True)\n",
    "\n",
    "for train_index , test_index in K_F.split(X) :\n",
    "    X_Train , X_Test = X[train_index] , X[test_index]\n",
    "    y_Train , y_Test = y[train_index] , y[test_index]\n",
    "    \n",
    "\n",
    "    print(f\"The X_data ::\\n\\n{X}\\n===\\nThe y_data ::\\n\\n{y}\\n===\\nThe X_Train ::\\n\\n{X_Train}\\n===\\n\\\n",
    "The X_test :: \\n\\n{X_Test}\\nThe Y_Train :: \\n\\n {y_Train}\\nThe y_Test :: \\n\\n{y_Test}\\n===\\n\\\n",
    "The X_shap :: {X.shape}\\n==\\nThe y_shape :: {y.shape}\\n==\\nThe X_Train_shape :: {X_Train.shape}\\n==\\n\\\n",
    "The X_Test_shape :: {X_Test.shape}\\n===\\nThe y_Train_shape:: {y_Train.shape}\\n==\\nThe y_Test_Shape :: \\\n",
    "{y_Test.shape}\\n===\\nThe Train_Index :: {train_index}\\n===\\nThe Test_Index :: {test_index}\\n\\n**********\\n\")\n",
    "    "
   ]
  },
  {
   "cell_type": "code",
   "execution_count": 4,
   "metadata": {},
   "outputs": [
    {
     "data": {
      "text/plain": [
       "2"
      ]
     },
     "execution_count": 4,
     "metadata": {},
     "output_type": "execute_result"
    }
   ],
   "source": [
    "K_F.get_n_splits(X)"
   ]
  },
  {
   "cell_type": "code",
   "execution_count": null,
   "metadata": {},
   "outputs": [],
   "source": []
  },
  {
   "cell_type": "code",
   "execution_count": null,
   "metadata": {},
   "outputs": [],
   "source": []
  }
 ],
 "metadata": {
  "kernelspec": {
   "display_name": "Python 3",
   "language": "python",
   "name": "python3"
  },
  "language_info": {
   "codemirror_mode": {
    "name": "ipython",
    "version": 3
   },
   "file_extension": ".py",
   "mimetype": "text/x-python",
   "name": "python",
   "nbconvert_exporter": "python",
   "pygments_lexer": "ipython3",
   "version": "3.7.4"
  }
 },
 "nbformat": 4,
 "nbformat_minor": 2
}
