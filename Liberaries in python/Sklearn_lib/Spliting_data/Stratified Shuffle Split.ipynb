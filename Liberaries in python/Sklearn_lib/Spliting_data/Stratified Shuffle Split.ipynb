{
 "cells": [
  {
   "cell_type": "markdown",
   "metadata": {},
   "source": [
    "# Stratified Shuffle Split"
   ]
  },
  {
   "cell_type": "markdown",
   "metadata": {},
   "source": [
    "     Apply Shuffle Split Based on Care off distribution of y"
   ]
  },
  {
   "cell_type": "code",
   "execution_count": 1,
   "metadata": {},
   "outputs": [
    {
     "name": "stdout",
     "output_type": "stream",
     "text": [
      "StratifiedShuffleSplit(n_splits=5, random_state=0, test_size=0.2,\n",
      "            train_size=None)\n",
      "TRAIN: [2 5 1 3] TEST: [0 4]\n",
      "X_train \n",
      " [[1 2]\n",
      " [3 4]\n",
      " [3 4]\n",
      " [3 4]]\n",
      "X_test \n",
      " [[1 2]\n",
      " [1 2]]\n",
      "y_train \n",
      " [0 1 0 1]\n",
      "y_test \n",
      " [0 1]\n",
      "*********************\n",
      "TRAIN: [0 4 3 1] TEST: [2 5]\n",
      "X_train \n",
      " [[1 2]\n",
      " [1 2]\n",
      " [3 4]\n",
      " [3 4]]\n",
      "X_test \n",
      " [[1 2]\n",
      " [3 4]]\n",
      "y_train \n",
      " [0 1 1 0]\n",
      "y_test \n",
      " [0 1]\n",
      "*********************\n",
      "TRAIN: [0 4 3 1] TEST: [2 5]\n",
      "X_train \n",
      " [[1 2]\n",
      " [1 2]\n",
      " [3 4]\n",
      " [3 4]]\n",
      "X_test \n",
      " [[1 2]\n",
      " [3 4]]\n",
      "y_train \n",
      " [0 1 1 0]\n",
      "y_test \n",
      " [0 1]\n",
      "*********************\n",
      "TRAIN: [5 4 1 2] TEST: [0 3]\n",
      "X_train \n",
      " [[3 4]\n",
      " [1 2]\n",
      " [3 4]\n",
      " [1 2]]\n",
      "X_test \n",
      " [[1 2]\n",
      " [3 4]]\n",
      "y_train \n",
      " [1 1 0 0]\n",
      "y_test \n",
      " [0 1]\n",
      "*********************\n",
      "TRAIN: [1 5 2 4] TEST: [0 3]\n",
      "X_train \n",
      " [[3 4]\n",
      " [3 4]\n",
      " [1 2]\n",
      " [1 2]]\n",
      "X_test \n",
      " [[1 2]\n",
      " [3 4]]\n",
      "y_train \n",
      " [0 1 0 1]\n",
      "y_test \n",
      " [0 1]\n",
      "*********************\n"
     ]
    }
   ],
   "source": [
    "import numpy as np\n",
    "from sklearn.model_selection import StratifiedShuffleSplit\n",
    "X = np.array([[1, 2], [3, 4], [1, 2], [3, 4], [1, 2], [3, 4]])\n",
    "y = np.array([0, 0, 0, 1, 1, 1])\n",
    "sss = StratifiedShuffleSplit(n_splits=5, test_size=0.2, random_state=0)\n",
    "sss.get_n_splits(X, y)\n",
    "print(sss)\n",
    "for train_index, test_index in sss.split(X, y):\n",
    "    print(\"TRAIN:\", train_index, \"TEST:\", test_index)\n",
    "    X_train, X_test = X[train_index], X[test_index]\n",
    "    y_train, y_test = y[train_index], y[test_index]\n",
    "    print('X_train \\n' , X_train)\n",
    "    print('X_test \\n' , X_test)\n",
    "    print('y_train \\n' ,y_train)\n",
    "    print('y_test \\n' , y_test)\n",
    "    print('*********************')\n"
   ]
  },
  {
   "cell_type": "code",
   "execution_count": null,
   "metadata": {},
   "outputs": [],
   "source": []
  }
 ],
 "metadata": {
  "kernelspec": {
   "display_name": "Python 3",
   "language": "python",
   "name": "python3"
  },
  "language_info": {
   "codemirror_mode": {
    "name": "ipython",
    "version": 3
   },
   "file_extension": ".py",
   "mimetype": "text/x-python",
   "name": "python",
   "nbconvert_exporter": "python",
   "pygments_lexer": "ipython3",
   "version": "3.7.4"
  }
 },
 "nbformat": 4,
 "nbformat_minor": 2
}
