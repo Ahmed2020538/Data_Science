{
 "cells": [
  {
   "cell_type": "markdown",
   "metadata": {},
   "source": [
    "# Select_Precentile  Algo"
   ]
  },
  {
   "cell_type": "code",
   "execution_count": 10,
   "metadata": {},
   "outputs": [
    {
     "name": "stdout",
     "output_type": "stream",
     "text": [
      "The Oreginal_Data_X ::\n",
      "==\n",
      " [[1.799e+01 1.038e+01 1.228e+02 1.001e+03 1.184e-01 2.776e-01 3.001e-01\n",
      "  1.471e-01 2.419e-01 7.871e-02 1.095e+00 9.053e-01 8.589e+00 1.534e+02\n",
      "  6.399e-03 4.904e-02 5.373e-02 1.587e-02 3.003e-02 6.193e-03 2.538e+01\n",
      "  1.733e+01 1.846e+02 2.019e+03 1.622e-01 6.656e-01 7.119e-01 2.654e-01\n",
      "  4.601e-01 1.189e-01]\n",
      " [2.057e+01 1.777e+01 1.329e+02 1.326e+03 8.474e-02 7.864e-02 8.690e-02\n",
      "  7.017e-02 1.812e-01 5.667e-02 5.435e-01 7.339e-01 3.398e+00 7.408e+01\n",
      "  5.225e-03 1.308e-02 1.860e-02 1.340e-02 1.389e-02 3.532e-03 2.499e+01\n",
      "  2.341e+01 1.588e+02 1.956e+03 1.238e-01 1.866e-01 2.416e-01 1.860e-01\n",
      "  2.750e-01 8.902e-02]\n",
      " [1.969e+01 2.125e+01 1.300e+02 1.203e+03 1.096e-01 1.599e-01 1.974e-01\n",
      "  1.279e-01 2.069e-01 5.999e-02 7.456e-01 7.869e-01 4.585e+00 9.403e+01\n",
      "  6.150e-03 4.006e-02 3.832e-02 2.058e-02 2.250e-02 4.571e-03 2.357e+01\n",
      "  2.553e+01 1.525e+02 1.709e+03 1.444e-01 4.245e-01 4.504e-01 2.430e-01\n",
      "  3.613e-01 8.758e-02]\n",
      " [1.142e+01 2.038e+01 7.758e+01 3.861e+02 1.425e-01 2.839e-01 2.414e-01\n",
      "  1.052e-01 2.597e-01 9.744e-02 4.956e-01 1.156e+00 3.445e+00 2.723e+01\n",
      "  9.110e-03 7.458e-02 5.661e-02 1.867e-02 5.963e-02 9.208e-03 1.491e+01\n",
      "  2.650e+01 9.887e+01 5.677e+02 2.098e-01 8.663e-01 6.869e-01 2.575e-01\n",
      "  6.638e-01 1.730e-01]\n",
      " [2.029e+01 1.434e+01 1.351e+02 1.297e+03 1.003e-01 1.328e-01 1.980e-01\n",
      "  1.043e-01 1.809e-01 5.883e-02 7.572e-01 7.813e-01 5.438e+00 9.444e+01\n",
      "  1.149e-02 2.461e-02 5.688e-02 1.885e-02 1.756e-02 5.115e-03 2.254e+01\n",
      "  1.667e+01 1.522e+02 1.575e+03 1.374e-01 2.050e-01 4.000e-01 1.625e-01\n",
      "  2.364e-01 7.678e-02]\n",
      " [1.245e+01 1.570e+01 8.257e+01 4.771e+02 1.278e-01 1.700e-01 1.578e-01\n",
      "  8.089e-02 2.087e-01 7.613e-02 3.345e-01 8.902e-01 2.217e+00 2.719e+01\n",
      "  7.510e-03 3.345e-02 3.672e-02 1.137e-02 2.165e-02 5.082e-03 1.547e+01\n",
      "  2.375e+01 1.034e+02 7.416e+02 1.791e-01 5.249e-01 5.355e-01 1.741e-01\n",
      "  3.985e-01 1.244e-01]\n",
      " [1.825e+01 1.998e+01 1.196e+02 1.040e+03 9.463e-02 1.090e-01 1.127e-01\n",
      "  7.400e-02 1.794e-01 5.742e-02 4.467e-01 7.732e-01 3.180e+00 5.391e+01\n",
      "  4.314e-03 1.382e-02 2.254e-02 1.039e-02 1.369e-02 2.179e-03 2.288e+01\n",
      "  2.766e+01 1.532e+02 1.606e+03 1.442e-01 2.576e-01 3.784e-01 1.932e-01\n",
      "  3.063e-01 8.368e-02]\n",
      " [1.371e+01 2.083e+01 9.020e+01 5.779e+02 1.189e-01 1.645e-01 9.366e-02\n",
      "  5.985e-02 2.196e-01 7.451e-02 5.835e-01 1.377e+00 3.856e+00 5.096e+01\n",
      "  8.805e-03 3.029e-02 2.488e-02 1.448e-02 1.486e-02 5.412e-03 1.706e+01\n",
      "  2.814e+01 1.106e+02 8.970e+02 1.654e-01 3.682e-01 2.678e-01 1.556e-01\n",
      "  3.196e-01 1.151e-01]\n",
      " [1.300e+01 2.182e+01 8.750e+01 5.198e+02 1.273e-01 1.932e-01 1.859e-01\n",
      "  9.353e-02 2.350e-01 7.389e-02 3.063e-01 1.002e+00 2.406e+00 2.432e+01\n",
      "  5.731e-03 3.502e-02 3.553e-02 1.226e-02 2.143e-02 3.749e-03 1.549e+01\n",
      "  3.073e+01 1.062e+02 7.393e+02 1.703e-01 5.401e-01 5.390e-01 2.060e-01\n",
      "  4.378e-01 1.072e-01]\n",
      " [1.246e+01 2.404e+01 8.397e+01 4.759e+02 1.186e-01 2.396e-01 2.273e-01\n",
      "  8.543e-02 2.030e-01 8.243e-02 2.976e-01 1.599e+00 2.039e+00 2.394e+01\n",
      "  7.149e-03 7.217e-02 7.743e-02 1.432e-02 1.789e-02 1.008e-02 1.509e+01\n",
      "  4.068e+01 9.765e+01 7.114e+02 1.853e-01 1.058e+00 1.105e+00 2.210e-01\n",
      "  4.366e-01 2.075e-01]\n",
      " [1.602e+01 2.324e+01 1.027e+02 7.978e+02 8.206e-02 6.669e-02 3.299e-02\n",
      "  3.323e-02 1.528e-01 5.697e-02 3.795e-01 1.187e+00 2.466e+00 4.051e+01\n",
      "  4.029e-03 9.269e-03 1.101e-02 7.591e-03 1.460e-02 3.042e-03 1.919e+01\n",
      "  3.388e+01 1.238e+02 1.150e+03 1.181e-01 1.551e-01 1.459e-01 9.975e-02\n",
      "  2.948e-01 8.452e-02]\n",
      " [1.578e+01 1.789e+01 1.036e+02 7.810e+02 9.710e-02 1.292e-01 9.954e-02\n",
      "  6.606e-02 1.842e-01 6.082e-02 5.058e-01 9.849e-01 3.564e+00 5.416e+01\n",
      "  5.771e-03 4.061e-02 2.791e-02 1.282e-02 2.008e-02 4.144e-03 2.042e+01\n",
      "  2.728e+01 1.365e+02 1.299e+03 1.396e-01 5.609e-01 3.965e-01 1.810e-01\n",
      "  3.792e-01 1.048e-01]\n",
      " [1.917e+01 2.480e+01 1.324e+02 1.123e+03 9.740e-02 2.458e-01 2.065e-01\n",
      "  1.118e-01 2.397e-01 7.800e-02 9.555e-01 3.568e+00 1.107e+01 1.162e+02\n",
      "  3.139e-03 8.297e-02 8.890e-02 4.090e-02 4.484e-02 1.284e-02 2.096e+01\n",
      "  2.994e+01 1.517e+02 1.332e+03 1.037e-01 3.903e-01 3.639e-01 1.767e-01\n",
      "  3.176e-01 1.023e-01]\n",
      " [1.585e+01 2.395e+01 1.037e+02 7.827e+02 8.401e-02 1.002e-01 9.938e-02\n",
      "  5.364e-02 1.847e-01 5.338e-02 4.033e-01 1.078e+00 2.903e+00 3.658e+01\n",
      "  9.769e-03 3.126e-02 5.051e-02 1.992e-02 2.981e-02 3.002e-03 1.684e+01\n",
      "  2.766e+01 1.120e+02 8.765e+02 1.131e-01 1.924e-01 2.322e-01 1.119e-01\n",
      "  2.809e-01 6.287e-02]\n",
      " [1.373e+01 2.261e+01 9.360e+01 5.783e+02 1.131e-01 2.293e-01 2.128e-01\n",
      "  8.025e-02 2.069e-01 7.682e-02 2.121e-01 1.169e+00 2.061e+00 1.921e+01\n",
      "  6.429e-03 5.936e-02 5.501e-02 1.628e-02 1.961e-02 8.093e-03 1.503e+01\n",
      "  3.201e+01 1.088e+02 6.977e+02 1.651e-01 7.725e-01 6.943e-01 2.208e-01\n",
      "  3.596e-01 1.431e-01]\n",
      " [1.454e+01 2.754e+01 9.673e+01 6.588e+02 1.139e-01 1.595e-01 1.639e-01\n",
      "  7.364e-02 2.303e-01 7.077e-02 3.700e-01 1.033e+00 2.879e+00 3.255e+01\n",
      "  5.607e-03 4.240e-02 4.741e-02 1.090e-02 1.857e-02 5.466e-03 1.746e+01\n",
      "  3.713e+01 1.241e+02 9.432e+02 1.678e-01 6.577e-01 7.026e-01 1.712e-01\n",
      "  4.218e-01 1.341e-01]\n",
      " [1.468e+01 2.013e+01 9.474e+01 6.845e+02 9.867e-02 7.200e-02 7.395e-02\n",
      "  5.259e-02 1.586e-01 5.922e-02 4.727e-01 1.240e+00 3.195e+00 4.540e+01\n",
      "  5.718e-03 1.162e-02 1.998e-02 1.109e-02 1.410e-02 2.085e-03 1.907e+01\n",
      "  3.088e+01 1.234e+02 1.138e+03 1.464e-01 1.871e-01 2.914e-01 1.609e-01\n",
      "  3.029e-01 8.216e-02]\n",
      " [1.613e+01 2.068e+01 1.081e+02 7.988e+02 1.170e-01 2.022e-01 1.722e-01\n",
      "  1.028e-01 2.164e-01 7.356e-02 5.692e-01 1.073e+00 3.854e+00 5.418e+01\n",
      "  7.026e-03 2.501e-02 3.188e-02 1.297e-02 1.689e-02 4.142e-03 2.096e+01\n",
      "  3.148e+01 1.368e+02 1.315e+03 1.789e-01 4.233e-01 4.784e-01 2.073e-01\n",
      "  3.706e-01 1.142e-01]\n",
      " [1.981e+01 2.215e+01 1.300e+02 1.260e+03 9.831e-02 1.027e-01 1.479e-01\n",
      "  9.498e-02 1.582e-01 5.395e-02 7.582e-01 1.017e+00 5.865e+00 1.124e+02\n",
      "  6.494e-03 1.893e-02 3.391e-02 1.521e-02 1.356e-02 1.997e-03 2.732e+01\n",
      "  3.088e+01 1.868e+02 2.398e+03 1.512e-01 3.150e-01 5.372e-01 2.388e-01\n",
      "  2.768e-01 7.615e-02]\n",
      " [1.354e+01 1.436e+01 8.746e+01 5.663e+02 9.779e-02 8.129e-02 6.664e-02\n",
      "  4.781e-02 1.885e-01 5.766e-02 2.699e-01 7.886e-01 2.058e+00 2.356e+01\n",
      "  8.462e-03 1.460e-02 2.387e-02 1.315e-02 1.980e-02 2.300e-03 1.511e+01\n",
      "  1.926e+01 9.970e+01 7.112e+02 1.440e-01 1.773e-01 2.390e-01 1.288e-01\n",
      "  2.977e-01 7.259e-02]]\n",
      "===\n",
      "The X_Shap = (569, 30)\n",
      "==\n",
      "The Feature_Names :: ['mean radius' 'mean texture' 'mean perimeter' 'mean area'\n",
      " 'mean smoothness' 'mean compactness' 'mean concavity'\n",
      " 'mean concave points' 'mean symmetry' 'mean fractal dimension'\n",
      " 'radius error' 'texture error' 'perimeter error' 'area error'\n",
      " 'smoothness error' 'compactness error' 'concavity error'\n",
      " 'concave points error' 'symmetry error' 'fractal dimension error'\n",
      " 'worst radius' 'worst texture' 'worst perimeter' 'worst area'\n",
      " 'worst smoothness' 'worst compactness' 'worst concavity'\n",
      " 'worst concave points' 'worst symmetry' 'worst fractal dimension']\n",
      "===\n",
      "The Y_data ::\n",
      "===\n",
      " [0 0 0 0 0 0 0 0 0 0 0 0 0 0 0 0 0 0 0 1 1 1 0 0 0 0 0 0 0 0 0 0 0 0 0 0 0\n",
      " 1 0 0 0 0 0 0 0 0 1 0 1 1]\n",
      "===\n",
      "The Y_Shap :: (569,)\n",
      "===\n",
      "TheTarget_Names :: ['malignant' 'benign']\n",
      "===\n",
      "The New_data_X :: [[ 122.8   1001.     153.4     25.38   184.6   2019.   ]\n",
      " [ 132.9   1326.      74.08    24.99   158.8   1956.   ]\n",
      " [ 130.    1203.      94.03    23.57   152.5   1709.   ]\n",
      " ...\n",
      " [ 108.3    858.1     48.55    18.98   126.7   1124.   ]\n",
      " [ 140.1   1265.      86.22    25.74   184.6   1821.   ]\n",
      " [  47.92   181.      19.15     9.456   59.16   268.6  ]]\n",
      "===\n",
      " The New_X_Shap :: (569, 6)\n",
      "===\n",
      "The Feature_Supports ::\n",
      "[False False  True  True False False False False False False False False\n",
      " False  True False False False False False False  True False  True  True\n",
      " False False False False False False]\n"
     ]
    }
   ],
   "source": [
    "from sklearn.datasets import load_breast_cancer\n",
    "from sklearn.feature_selection import SelectPercentile , chi2 , f_classif\n",
    "\n",
    "Breast_data = load_breast_cancer()\n",
    "\n",
    "X = Breast_data.data\n",
    "\n",
    "X_Shap = X.shape\n",
    "\n",
    "X_Feature_Names = Breast_data.feature_names\n",
    "\n",
    "\n",
    "y = Breast_data.target\n",
    "\n",
    "y_shap = y.shape\n",
    "\n",
    "y_Target_Names = Breast_data.target_names\n",
    "\n",
    "Feature_Selection = SelectPercentile( score_func=chi2 , percentile=20 )\n",
    "\n",
    "New_X  = Feature_Selection.fit_transform(X , y)\n",
    "\n",
    "New_X_Shap = New_X.shape\n",
    "\n",
    "The_Fetures_supports = Feature_Selection.get_support()\n",
    "\n",
    "\n",
    "print(f\"The Oreginal_Data_X ::\\n==\\n {X[:20]}\\n===\\nThe X_Shap = {X_Shap}\\n==\\n\\\n",
    "The Feature_Names :: {X_Feature_Names}\\n===\\nThe Y_data ::\\n===\\n {y[:50]}\\n===\\n\\\n",
    "The Y_Shap :: {y_shap}\\n===\\nTheTarget_Names :: {y_Target_Names}\\n===\\n\\\n",
    "The New_data_X :: {New_X}\\n===\\n The New_X_Shap :: {New_X_Shap}\\n===\\n\\\n",
    "The Feature_Supports ::\\n{The_Fetures_supports}\")"
   ]
  },
  {
   "cell_type": "code",
   "execution_count": 21,
   "metadata": {},
   "outputs": [
    {
     "name": "stderr",
     "output_type": "stream",
     "text": [
      "C:\\ProgramData\\Anaconda3\\lib\\site-packages\\sklearn\\feature_selection\\univariate_selection.py:114: UserWarning: Features [ 0 32 39] are constant.\n",
      "  UserWarning)\n",
      "C:\\ProgramData\\Anaconda3\\lib\\site-packages\\sklearn\\feature_selection\\univariate_selection.py:115: RuntimeWarning: invalid value encountered in true_divide\n",
      "  f = msb / msw\n"
     ]
    }
   ],
   "source": [
    "from sklearn.datasets import load_digits\n",
    "from sklearn.feature_selection import SelectPercentile , chi2 , f_classif\n",
    "\n",
    "digits_data = load_digits()\n",
    "\n",
    "X = digits_data.data\n",
    "X_shap = X.shape\n",
    "\n",
    "\n",
    "\n",
    "y = digits_data.target\n",
    "\n",
    "y_shap = y.shape\n",
    "\n",
    "y_Target_names = digits_data.target_names\n",
    "\n",
    "New_X = SelectPercentile( score_func=f_classif , percentile=10).fit_transform(X , y)\n",
    "New_X_shap = New_X.shape\n",
    "\n"
   ]
  },
  {
   "cell_type": "code",
   "execution_count": 22,
   "metadata": {},
   "outputs": [
    {
     "data": {
      "text/plain": [
       "array([[ 0.,  0.,  5., ...,  0.,  0.,  0.],\n",
       "       [ 0.,  0.,  0., ..., 10.,  0.,  0.],\n",
       "       [ 0.,  0.,  0., ..., 16.,  9.,  0.],\n",
       "       ...,\n",
       "       [ 0.,  0.,  1., ...,  6.,  0.,  0.],\n",
       "       [ 0.,  0.,  2., ..., 12.,  0.,  0.],\n",
       "       [ 0.,  0., 10., ..., 12.,  1.,  0.]])"
      ]
     },
     "execution_count": 22,
     "metadata": {},
     "output_type": "execute_result"
    }
   ],
   "source": [
    "X"
   ]
  },
  {
   "cell_type": "code",
   "execution_count": 23,
   "metadata": {},
   "outputs": [
    {
     "data": {
      "text/plain": [
       "(1797, 64)"
      ]
     },
     "execution_count": 23,
     "metadata": {},
     "output_type": "execute_result"
    }
   ],
   "source": [
    "X_shap"
   ]
  },
  {
   "cell_type": "code",
   "execution_count": 24,
   "metadata": {},
   "outputs": [
    {
     "data": {
      "text/plain": [
       "array([0, 1, 2, ..., 8, 9, 8])"
      ]
     },
     "execution_count": 24,
     "metadata": {},
     "output_type": "execute_result"
    }
   ],
   "source": [
    "y"
   ]
  },
  {
   "cell_type": "code",
   "execution_count": 25,
   "metadata": {},
   "outputs": [
    {
     "data": {
      "text/plain": [
       "(1797,)"
      ]
     },
     "execution_count": 25,
     "metadata": {},
     "output_type": "execute_result"
    }
   ],
   "source": [
    "y_shap"
   ]
  },
  {
   "cell_type": "code",
   "execution_count": 26,
   "metadata": {},
   "outputs": [
    {
     "data": {
      "text/plain": [
       "array([[11., 12.,  0., ...,  8., 11.,  0.],\n",
       "       [ 6., 15., 16., ...,  1.,  1., 16.],\n",
       "       [16.,  1., 15., ...,  8., 16., 16.],\n",
       "       ...,\n",
       "       [16.,  8., 16., ...,  9., 16., 14.],\n",
       "       [16., 16.,  7., ...,  5.,  0.,  0.],\n",
       "       [15.,  5., 16., ..., 12., 16.,  6.]])"
      ]
     },
     "execution_count": 26,
     "metadata": {},
     "output_type": "execute_result"
    }
   ],
   "source": [
    "New_X"
   ]
  },
  {
   "cell_type": "code",
   "execution_count": 27,
   "metadata": {},
   "outputs": [
    {
     "data": {
      "text/plain": [
       "(1797, 7)"
      ]
     },
     "execution_count": 27,
     "metadata": {},
     "output_type": "execute_result"
    }
   ],
   "source": [
    "New_X_shap"
   ]
  },
  {
   "cell_type": "code",
   "execution_count": 20,
   "metadata": {},
   "outputs": [
    {
     "data": {
      "text/plain": [
       "array([False, False,  True,  True, False, False, False, False, False,\n",
       "       False, False, False, False,  True, False, False, False, False,\n",
       "       False, False,  True, False,  True,  True, False, False, False,\n",
       "       False, False, False])"
      ]
     },
     "execution_count": 20,
     "metadata": {},
     "output_type": "execute_result"
    }
   ],
   "source": [
    "Feature_Selection.get_support()"
   ]
  },
  {
   "cell_type": "code",
   "execution_count": 36,
   "metadata": {},
   "outputs": [
    {
     "data": {
      "text/plain": [
       "array([0, 1, 2, 3, 4, 5, 6, 7, 8, 9])"
      ]
     },
     "execution_count": 36,
     "metadata": {},
     "output_type": "execute_result"
    }
   ],
   "source": [
    "y_Target_names"
   ]
  },
  {
   "cell_type": "code",
   "execution_count": 28,
   "metadata": {},
   "outputs": [
    {
     "name": "stderr",
     "output_type": "stream",
     "text": [
      "C:\\ProgramData\\Anaconda3\\lib\\site-packages\\sklearn\\feature_selection\\univariate_selection.py:114: UserWarning: Features [ 0 32 39] are constant.\n",
      "  UserWarning)\n",
      "C:\\ProgramData\\Anaconda3\\lib\\site-packages\\sklearn\\feature_selection\\univariate_selection.py:115: RuntimeWarning: invalid value encountered in true_divide\n",
      "  f = msb / msw\n"
     ]
    }
   ],
   "source": [
    "from sklearn.datasets import load_digits\n",
    "from sklearn.feature_selection import SelectPercentile , chi2 , f_classif\n",
    "\n",
    "x , y = load_digits( return_X_y = True)\n",
    "#digits_data = load_digits()\n",
    "\n",
    "#X = digits_data.data\n",
    "X_shap = X.shape\n",
    "\n",
    "\n",
    "\n",
    "#y = digits_data.target\n",
    "\n",
    "y_shap = y.shape\n",
    "\n",
    "#y_Target_names = digits_data.target_names\n",
    "\n",
    "New_X = SelectPercentile( score_func=f_classif , percentile=10).fit_transform(X , y)\n",
    "New_X_shap = New_X.shape\n",
    "\n"
   ]
  },
  {
   "cell_type": "code",
   "execution_count": 29,
   "metadata": {},
   "outputs": [
    {
     "data": {
      "text/plain": [
       "array([[ 0.,  0.,  5., ...,  0.,  0.,  0.],\n",
       "       [ 0.,  0.,  0., ..., 10.,  0.,  0.],\n",
       "       [ 0.,  0.,  0., ..., 16.,  9.,  0.],\n",
       "       ...,\n",
       "       [ 0.,  0.,  1., ...,  6.,  0.,  0.],\n",
       "       [ 0.,  0.,  2., ..., 12.,  0.,  0.],\n",
       "       [ 0.,  0., 10., ..., 12.,  1.,  0.]])"
      ]
     },
     "execution_count": 29,
     "metadata": {},
     "output_type": "execute_result"
    }
   ],
   "source": [
    "X"
   ]
  },
  {
   "cell_type": "code",
   "execution_count": 30,
   "metadata": {},
   "outputs": [
    {
     "data": {
      "text/plain": [
       "(1797, 64)"
      ]
     },
     "execution_count": 30,
     "metadata": {},
     "output_type": "execute_result"
    }
   ],
   "source": [
    "X_shap"
   ]
  },
  {
   "cell_type": "code",
   "execution_count": 31,
   "metadata": {},
   "outputs": [
    {
     "data": {
      "text/plain": [
       "array([[11., 12.,  0., ...,  8., 11.,  0.],\n",
       "       [ 6., 15., 16., ...,  1.,  1., 16.],\n",
       "       [16.,  1., 15., ...,  8., 16., 16.],\n",
       "       ...,\n",
       "       [16.,  8., 16., ...,  9., 16., 14.],\n",
       "       [16., 16.,  7., ...,  5.,  0.,  0.],\n",
       "       [15.,  5., 16., ..., 12., 16.,  6.]])"
      ]
     },
     "execution_count": 31,
     "metadata": {},
     "output_type": "execute_result"
    }
   ],
   "source": [
    "New_X"
   ]
  },
  {
   "cell_type": "code",
   "execution_count": 32,
   "metadata": {},
   "outputs": [
    {
     "data": {
      "text/plain": [
       "(1797, 7)"
      ]
     },
     "execution_count": 32,
     "metadata": {},
     "output_type": "execute_result"
    }
   ],
   "source": [
    "New_X_shap"
   ]
  },
  {
   "cell_type": "code",
   "execution_count": 34,
   "metadata": {},
   "outputs": [
    {
     "data": {
      "text/plain": [
       "array([0, 1, 2, 3, 4, 5, 6, 7, 8, 9])"
      ]
     },
     "execution_count": 34,
     "metadata": {},
     "output_type": "execute_result"
    }
   ],
   "source": [
    "y = load_digits()\n",
    "y.target_names"
   ]
  },
  {
   "cell_type": "code",
   "execution_count": null,
   "metadata": {},
   "outputs": [],
   "source": []
  }
 ],
 "metadata": {
  "kernelspec": {
   "display_name": "Python 3",
   "language": "python",
   "name": "python3"
  },
  "language_info": {
   "codemirror_mode": {
    "name": "ipython",
    "version": 3
   },
   "file_extension": ".py",
   "mimetype": "text/x-python",
   "name": "python",
   "nbconvert_exporter": "python",
   "pygments_lexer": "ipython3",
   "version": "3.7.4"
  }
 },
 "nbformat": 4,
 "nbformat_minor": 2
}
