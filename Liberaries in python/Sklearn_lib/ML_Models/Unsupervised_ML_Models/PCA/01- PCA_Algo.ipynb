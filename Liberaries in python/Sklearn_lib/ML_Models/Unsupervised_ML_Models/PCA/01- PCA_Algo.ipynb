{
 "cells": [
  {
   "cell_type": "code",
   "execution_count": 15,
   "metadata": {},
   "outputs": [],
   "source": [
    "import pandas as pd\n",
    "from sklearn.decomposition import PCA"
   ]
  },
  {
   "cell_type": "code",
   "execution_count": 16,
   "metadata": {},
   "outputs": [
    {
     "data": {
      "text/html": [
       "<div>\n",
       "<style scoped>\n",
       "    .dataframe tbody tr th:only-of-type {\n",
       "        vertical-align: middle;\n",
       "    }\n",
       "\n",
       "    .dataframe tbody tr th {\n",
       "        vertical-align: top;\n",
       "    }\n",
       "\n",
       "    .dataframe thead th {\n",
       "        text-align: right;\n",
       "    }\n",
       "</style>\n",
       "<table border=\"1\" class=\"dataframe\">\n",
       "  <thead>\n",
       "    <tr style=\"text-align: right;\">\n",
       "      <th></th>\n",
       "      <th>0</th>\n",
       "      <th>1</th>\n",
       "      <th>2</th>\n",
       "      <th>3</th>\n",
       "      <th>4</th>\n",
       "      <th>5</th>\n",
       "      <th>6</th>\n",
       "      <th>7</th>\n",
       "    </tr>\n",
       "  </thead>\n",
       "  <tbody>\n",
       "    <tr>\n",
       "      <td>0</td>\n",
       "      <td>-2.084839</td>\n",
       "      <td>-0.471673</td>\n",
       "      <td>-0.955542</td>\n",
       "      <td>-0.567288</td>\n",
       "      <td>-0.953226</td>\n",
       "      <td>-1.510386</td>\n",
       "      <td>0.921728</td>\n",
       "      <td>0.437954</td>\n",
       "    </tr>\n",
       "    <tr>\n",
       "      <td>1</td>\n",
       "      <td>0.003700</td>\n",
       "      <td>-0.999118</td>\n",
       "      <td>0.202003</td>\n",
       "      <td>1.612001</td>\n",
       "      <td>-0.375642</td>\n",
       "      <td>0.378518</td>\n",
       "      <td>0.113693</td>\n",
       "      <td>1.718011</td>\n",
       "    </tr>\n",
       "    <tr>\n",
       "      <td>2</td>\n",
       "      <td>-1.456240</td>\n",
       "      <td>0.483522</td>\n",
       "      <td>-0.508605</td>\n",
       "      <td>-0.316406</td>\n",
       "      <td>-1.695560</td>\n",
       "      <td>-1.943310</td>\n",
       "      <td>0.299486</td>\n",
       "      <td>0.147370</td>\n",
       "    </tr>\n",
       "    <tr>\n",
       "      <td>3</td>\n",
       "      <td>-1.595524</td>\n",
       "      <td>-0.219744</td>\n",
       "      <td>1.039403</td>\n",
       "      <td>0.381587</td>\n",
       "      <td>0.109094</td>\n",
       "      <td>-0.155068</td>\n",
       "      <td>0.156054</td>\n",
       "      <td>0.007314</td>\n",
       "    </tr>\n",
       "    <tr>\n",
       "      <td>4</td>\n",
       "      <td>0.995277</td>\n",
       "      <td>-1.517259</td>\n",
       "      <td>-0.101198</td>\n",
       "      <td>1.415742</td>\n",
       "      <td>-0.054356</td>\n",
       "      <td>0.611216</td>\n",
       "      <td>0.196938</td>\n",
       "      <td>0.641809</td>\n",
       "    </tr>\n",
       "    <tr>\n",
       "      <td>...</td>\n",
       "      <td>...</td>\n",
       "      <td>...</td>\n",
       "      <td>...</td>\n",
       "      <td>...</td>\n",
       "      <td>...</td>\n",
       "      <td>...</td>\n",
       "      <td>...</td>\n",
       "      <td>...</td>\n",
       "    </tr>\n",
       "    <tr>\n",
       "      <td>1304</td>\n",
       "      <td>-0.862703</td>\n",
       "      <td>0.104828</td>\n",
       "      <td>1.984113</td>\n",
       "      <td>-2.026618</td>\n",
       "      <td>-1.723234</td>\n",
       "      <td>1.355618</td>\n",
       "      <td>0.019176</td>\n",
       "      <td>0.361044</td>\n",
       "    </tr>\n",
       "    <tr>\n",
       "      <td>1305</td>\n",
       "      <td>0.299519</td>\n",
       "      <td>2.404711</td>\n",
       "      <td>-0.473917</td>\n",
       "      <td>0.539437</td>\n",
       "      <td>0.144996</td>\n",
       "      <td>1.079460</td>\n",
       "      <td>-0.593131</td>\n",
       "      <td>0.062784</td>\n",
       "    </tr>\n",
       "    <tr>\n",
       "      <td>1306</td>\n",
       "      <td>1.983708</td>\n",
       "      <td>-2.251345</td>\n",
       "      <td>-0.891493</td>\n",
       "      <td>0.934429</td>\n",
       "      <td>0.553115</td>\n",
       "      <td>1.194912</td>\n",
       "      <td>0.344667</td>\n",
       "      <td>-1.039349</td>\n",
       "    </tr>\n",
       "    <tr>\n",
       "      <td>1307</td>\n",
       "      <td>0.369343</td>\n",
       "      <td>3.529447</td>\n",
       "      <td>-0.542355</td>\n",
       "      <td>-1.130391</td>\n",
       "      <td>0.468369</td>\n",
       "      <td>-0.998843</td>\n",
       "      <td>0.550265</td>\n",
       "      <td>0.041131</td>\n",
       "    </tr>\n",
       "    <tr>\n",
       "      <td>1308</td>\n",
       "      <td>-2.118941</td>\n",
       "      <td>-0.456731</td>\n",
       "      <td>-1.179383</td>\n",
       "      <td>-0.667595</td>\n",
       "      <td>-1.091675</td>\n",
       "      <td>-1.680951</td>\n",
       "      <td>0.895348</td>\n",
       "      <td>0.496857</td>\n",
       "    </tr>\n",
       "  </tbody>\n",
       "</table>\n",
       "<p>1309 rows × 8 columns</p>\n",
       "</div>"
      ],
      "text/plain": [
       "             0         1         2         3         4         5         6  \\\n",
       "0    -2.084839 -0.471673 -0.955542 -0.567288 -0.953226 -1.510386  0.921728   \n",
       "1     0.003700 -0.999118  0.202003  1.612001 -0.375642  0.378518  0.113693   \n",
       "2    -1.456240  0.483522 -0.508605 -0.316406 -1.695560 -1.943310  0.299486   \n",
       "3    -1.595524 -0.219744  1.039403  0.381587  0.109094 -0.155068  0.156054   \n",
       "4     0.995277 -1.517259 -0.101198  1.415742 -0.054356  0.611216  0.196938   \n",
       "...        ...       ...       ...       ...       ...       ...       ...   \n",
       "1304 -0.862703  0.104828  1.984113 -2.026618 -1.723234  1.355618  0.019176   \n",
       "1305  0.299519  2.404711 -0.473917  0.539437  0.144996  1.079460 -0.593131   \n",
       "1306  1.983708 -2.251345 -0.891493  0.934429  0.553115  1.194912  0.344667   \n",
       "1307  0.369343  3.529447 -0.542355 -1.130391  0.468369 -0.998843  0.550265   \n",
       "1308 -2.118941 -0.456731 -1.179383 -0.667595 -1.091675 -1.680951  0.895348   \n",
       "\n",
       "             7  \n",
       "0     0.437954  \n",
       "1     1.718011  \n",
       "2     0.147370  \n",
       "3     0.007314  \n",
       "4     0.641809  \n",
       "...        ...  \n",
       "1304  0.361044  \n",
       "1305  0.062784  \n",
       "1306 -1.039349  \n",
       "1307  0.041131  \n",
       "1308  0.496857  \n",
       "\n",
       "[1309 rows x 8 columns]"
      ]
     },
     "execution_count": 16,
     "metadata": {},
     "output_type": "execute_result"
    }
   ],
   "source": [
    "df = pd.read_csv(\"data.csv\")\n",
    "df"
   ]
  },
  {
   "cell_type": "code",
   "execution_count": 17,
   "metadata": {},
   "outputs": [],
   "source": [
    "PCA_Model1 = PCA(n_components=5 , svd_solver=\"auto\")\n",
    "PCA_Model2 = PCA(n_components=5 , svd_solver=\"full\")\n",
    "PCA_Model3 = PCA(n_components=5 , svd_solver=\"arpack\")\n",
    "PCA_Model4 = PCA(n_components=5 , svd_solver=\"randomized\")"
   ]
  },
  {
   "cell_type": "code",
   "execution_count": 18,
   "metadata": {},
   "outputs": [],
   "source": [
    "New_df1 = PCA_Model1.fit(df)\n",
    "New_df1.transform(df)\n",
    "New_df2 = PCA_Model1.fit_transform(df)\n",
    "New_df3 = PCA_Model1.fit_transform(df)\n",
    "New_df4 = PCA_Model1.fit_transform(df)"
   ]
  },
  {
   "cell_type": "code",
   "execution_count": 19,
   "metadata": {},
   "outputs": [
    {
     "name": "stdout",
     "output_type": "stream",
     "text": [
      "Explained_variance :: [3.6857288  2.66682721 1.25506915 1.15303263 0.71970107]\n",
      "The Explained_variance_ratio :: [0.32667486 0.2363672  0.11123975 0.10219601 0.06378881] \n"
     ]
    }
   ],
   "source": [
    "New_df1 = PCA_Model1.fit(df)\n",
    "New_df1.transform(df)\n",
    "Explain_Variance1 = New_df1.explained_variance_\n",
    "Explain_Variance_ratio1 = New_df1.explained_variance_ratio_\n",
    "print(f\"Explained_variance :: {Explain_Variance1}\\nThe Explained_variance_ratio :: {Explain_Variance_ratio1} \")"
   ]
  },
  {
   "cell_type": "code",
   "execution_count": 20,
   "metadata": {},
   "outputs": [
    {
     "name": "stdout",
     "output_type": "stream",
     "text": [
      "Explained_variance :: [3.6857288  2.66682721 1.25506915 1.15303263 0.71970107]\n",
      "The Explained_variance_ratio :: [0.32667486 0.2363672  0.11123975 0.10219601 0.06378881] \n"
     ]
    }
   ],
   "source": [
    "New_df2 = PCA_Model1.fit(df)\n",
    "New_df2.transform(df)\n",
    "Explain_Variance2 = New_df2.explained_variance_\n",
    "Explain_Variance_ratio2 = New_df2.explained_variance_ratio_\n",
    "print(f\"Explained_variance :: {Explain_Variance2}\\nThe Explained_variance_ratio :: {Explain_Variance_ratio2} \")"
   ]
  },
  {
   "cell_type": "code",
   "execution_count": 21,
   "metadata": {},
   "outputs": [
    {
     "name": "stdout",
     "output_type": "stream",
     "text": [
      "Explained_variance :: [3.6857288  2.66682721 1.25506915 1.15303263 0.71970107]\n",
      "The Explained_variance_ratio :: [0.32667486 0.2363672  0.11123975 0.10219601 0.06378881] \n"
     ]
    }
   ],
   "source": [
    "New_df3 = PCA_Model1.fit(df)\n",
    "New_df3.transform(df)\n",
    "Explain_Variance3 = New_df3.explained_variance_\n",
    "Explain_Variance_ratio3 = New_df3.explained_variance_ratio_\n",
    "print(f\"Explained_variance :: {Explain_Variance3}\\nThe Explained_variance_ratio :: {Explain_Variance_ratio3} \")"
   ]
  },
  {
   "cell_type": "code",
   "execution_count": 22,
   "metadata": {},
   "outputs": [
    {
     "name": "stdout",
     "output_type": "stream",
     "text": [
      "Explained_variance :: [3.6857288  2.66682721 1.25506915 1.15303263 0.71970107]\n",
      "The Explained_variance_ratio :: [0.32667486 0.2363672  0.11123975 0.10219601 0.06378881] \n"
     ]
    }
   ],
   "source": [
    "New_df4 = PCA_Model1.fit(df)\n",
    "New_df4.transform(df)\n",
    "Explain_Variance4 = New_df4.explained_variance_\n",
    "Explain_Variance_ratio4 = New_df4.explained_variance_ratio_\n",
    "print(f\"Explained_variance :: {Explain_Variance4}\\nThe Explained_variance_ratio :: {Explain_Variance_ratio4} \")"
   ]
  },
  {
   "cell_type": "code",
   "execution_count": null,
   "metadata": {},
   "outputs": [],
   "source": []
  }
 ],
 "metadata": {
  "kernelspec": {
   "display_name": "Python 3",
   "language": "python",
   "name": "python3"
  },
  "language_info": {
   "codemirror_mode": {
    "name": "ipython",
    "version": 3
   },
   "file_extension": ".py",
   "mimetype": "text/x-python",
   "name": "python",
   "nbconvert_exporter": "python",
   "pygments_lexer": "ipython3",
   "version": "3.7.4"
  }
 },
 "nbformat": 4,
 "nbformat_minor": 2
}
