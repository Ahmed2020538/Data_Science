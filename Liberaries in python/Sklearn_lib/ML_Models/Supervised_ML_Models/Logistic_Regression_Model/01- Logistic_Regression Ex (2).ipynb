{
 "cells": [
  {
   "cell_type": "markdown",
   "metadata": {},
   "source": [
    "# Logistic_Regression Ex (2)"
   ]
  },
  {
   "cell_type": "code",
   "execution_count": 7,
   "metadata": {},
   "outputs": [
    {
     "name": "stdout",
     "output_type": "stream",
     "text": [
      "score =  0.9466666666666667\n",
      "No of iterations =  [23 32 27]\n",
      "Classes =  [0 1 2]\n",
      "The prediction :: \n",
      "[0 0 0 0 0]\n",
      "======\n",
      "The Bprobability Of classes :: \n",
      "[[8.82296834e-01 1.17682812e-01 2.03540266e-05]\n",
      " [7.80726830e-01 2.19252019e-01 2.11507983e-05]\n",
      " [8.26456184e-01 1.73526815e-01 1.70013479e-05]\n",
      " [7.88033871e-01 2.11939126e-01 2.70038243e-05]\n",
      " [8.95953455e-01 1.04026266e-01 2.02790829e-05]]\n"
     ]
    },
    {
     "name": "stderr",
     "output_type": "stream",
     "text": [
      "C:\\ProgramData\\Anaconda3\\lib\\site-packages\\sklearn\\linear_model\\logistic.py:469: FutureWarning: Default multi_class will be changed to 'auto' in 0.22. Specify the multi_class option to silence this warning.\n",
      "  \"this warning.\", FutureWarning)\n"
     ]
    }
   ],
   "source": [
    "from sklearn.datasets import load_iris\n",
    "from sklearn.linear_model import LogisticRegression\n",
    "X, y = load_iris(return_X_y=True)\n",
    "clf = LogisticRegression(random_state=10, solver='lbfgs' , max_iter= 1000 , C = 0.5 , tol = 0.01)\n",
    "#clf = LogisticRegression(random_state=10, solver='liblinear')\n",
    "#clf = LogisticRegression(random_state=10, solver='saga')\n",
    "\n",
    "clf.fit(X, y)\n",
    "pred =clf.predict(X[:5, :])\n",
    "Probability = clf.predict_proba(X[:5, :])\n",
    "\n",
    "score = clf.score(X, y)\n",
    "\n",
    "print('score = ' , score)\n",
    "print('No of iterations = ' , clf.n_iter_)\n",
    "print('Classes = ' , clf.classes_)\n",
    "print(f\"The prediction :: \\n{pred}\\n======\\nThe Bprobability Of classes :: \\n{Probability}\")\n"
   ]
  },
  {
   "cell_type": "code",
   "execution_count": 8,
   "metadata": {},
   "outputs": [
    {
     "name": "stdout",
     "output_type": "stream",
     "text": [
      "score =  0.96\n",
      "No of iterations =  [7]\n",
      "Classes =  [0 1 2]\n",
      "The prediction :: \n",
      "[0 0 0 0 0]\n",
      "======\n",
      "The Bprobability Of classes :: \n",
      "[[8.78030305e-01 1.21958900e-01 1.07949250e-05]\n",
      " [7.97058292e-01 2.02911413e-01 3.02949242e-05]\n",
      " [8.51997665e-01 1.47976480e-01 2.58550858e-05]\n",
      " [8.23406019e-01 1.76536159e-01 5.78217704e-05]\n",
      " [8.96034973e-01 1.03953836e-01 1.11907339e-05]]\n"
     ]
    },
    {
     "name": "stderr",
     "output_type": "stream",
     "text": [
      "C:\\ProgramData\\Anaconda3\\lib\\site-packages\\sklearn\\linear_model\\logistic.py:469: FutureWarning: Default multi_class will be changed to 'auto' in 0.22. Specify the multi_class option to silence this warning.\n",
      "  \"this warning.\", FutureWarning)\n"
     ]
    }
   ],
   "source": [
    "from sklearn.datasets import load_iris\n",
    "from sklearn.linear_model import LogisticRegression\n",
    "X, y = load_iris(return_X_y=True)\n",
    "#clf = LogisticRegression(random_state=10, solver='lbfgs' , max_iter= 1000 , C = 0.5 , tol = 0.01)\n",
    "clf = LogisticRegression(random_state=10, solver='liblinear')\n",
    "#clf = LogisticRegression(random_state=10, solver='saga')\n",
    "\n",
    "clf.fit(X, y)\n",
    "pred =clf.predict(X[:5, :])\n",
    "Probability = clf.predict_proba(X[:5, :])\n",
    "\n",
    "score = clf.score(X, y)\n",
    "\n",
    "print('score = ' , score)\n",
    "print('No of iterations = ' , clf.n_iter_)\n",
    "print('Classes = ' , clf.classes_)\n",
    "\n",
    "print(f\"The prediction :: \\n{pred}\\n======\\nThe Bprobability Of classes :: \\n{Probability}\")"
   ]
  },
  {
   "cell_type": "code",
   "execution_count": 9,
   "metadata": {},
   "outputs": [
    {
     "name": "stdout",
     "output_type": "stream",
     "text": [
      "score =  0.9666666666666667\n",
      "No of iterations =  [100 100 100]\n",
      "Classes =  [0 1 2]\n",
      "The prediction :: \n",
      "[0 0]\n",
      "======\n",
      "The Bprobability Of classes :: \n",
      "[[8.79554918e-01 1.20435302e-01 9.78001554e-06]\n",
      " [7.93024763e-01 2.06949987e-01 2.52500374e-05]]\n"
     ]
    },
    {
     "name": "stderr",
     "output_type": "stream",
     "text": [
      "C:\\ProgramData\\Anaconda3\\lib\\site-packages\\sklearn\\linear_model\\logistic.py:469: FutureWarning: Default multi_class will be changed to 'auto' in 0.22. Specify the multi_class option to silence this warning.\n",
      "  \"this warning.\", FutureWarning)\n",
      "C:\\ProgramData\\Anaconda3\\lib\\site-packages\\sklearn\\linear_model\\sag.py:337: ConvergenceWarning: The max_iter was reached which means the coef_ did not converge\n",
      "  \"the coef_ did not converge\", ConvergenceWarning)\n"
     ]
    }
   ],
   "source": [
    "from sklearn.datasets import load_iris\n",
    "from sklearn.linear_model import LogisticRegression\n",
    "X, y = load_iris(return_X_y=True)\n",
    "#clf = LogisticRegression(random_state=10, solver='lbfgs' , max_iter= 1000 , C = 0.5 , tol = 0.01)\n",
    "#clf = LogisticRegression(random_state=10, solver='liblinear')\n",
    "clf = LogisticRegression(random_state=10, solver='saga')\n",
    "\n",
    "clf.fit(X, y)\n",
    "pred =clf.predict(X[:2, :])\n",
    "Probability = clf.predict_proba(X[:2, :])\n",
    "\n",
    "score = clf.score(X, y)\n",
    "\n",
    "print('score = ' , score)\n",
    "print('No of iterations = ' , clf.n_iter_)\n",
    "print('Classes = ' , clf.classes_)\n",
    "\n",
    "print(f\"The prediction :: \\n{pred}\\n======\\nThe Bprobability Of classes :: \\n{Probability}\")"
   ]
  },
  {
   "cell_type": "code",
   "execution_count": null,
   "metadata": {},
   "outputs": [],
   "source": []
  },
  {
   "cell_type": "code",
   "execution_count": null,
   "metadata": {},
   "outputs": [],
   "source": []
  },
  {
   "cell_type": "code",
   "execution_count": null,
   "metadata": {},
   "outputs": [],
   "source": []
  },
  {
   "cell_type": "code",
   "execution_count": null,
   "metadata": {},
   "outputs": [],
   "source": []
  },
  {
   "cell_type": "code",
   "execution_count": null,
   "metadata": {},
   "outputs": [],
   "source": []
  }
 ],
 "metadata": {
  "kernelspec": {
   "display_name": "Python 3",
   "language": "python",
   "name": "python3"
  },
  "language_info": {
   "codemirror_mode": {
    "name": "ipython",
    "version": 3
   },
   "file_extension": ".py",
   "mimetype": "text/x-python",
   "name": "python",
   "nbconvert_exporter": "python",
   "pygments_lexer": "ipython3",
   "version": "3.7.4"
  }
 },
 "nbformat": 4,
 "nbformat_minor": 2
}
