{
 "cells": [
  {
   "cell_type": "markdown",
   "metadata": {},
   "source": [
    "# SVR Model\n",
    "\n",
    "* It is advanced App To CLassifier data Based on Kernal_Functun"
   ]
  },
  {
   "cell_type": "code",
   "execution_count": null,
   "metadata": {},
   "outputs": [],
   "source": [
    "#Import Libraries\n",
    "from sklearn.svm import SVR\n",
    "#----------------------------------------------------\n",
    "\n",
    "#Applying SVR Model \n",
    "\n",
    "'''\n",
    "sklearn.svm.SVR(kernel=’rbf’, degree=3, gamma=’auto_deprecated’, coef0=0.0, tol=0.001,\n",
    "                C=1.0, epsilon=0.1, shrinking=True, cache_size=200, verbose=False,max_iter=-1)\n",
    "'''\n",
    "\n",
    "SVRModel = SVR(C = 1.0 ,epsilon=0.1,kernel = 'rbf') # it also can be : linear, poly, rbf, sigmoid, precomputed\n",
    "SVRModel.fit(X_train, y_train)\n",
    "\n",
    "#Calculating Details\n",
    "print('SVRModel Train Score is : ' , SVRModel.score(X_train, y_train))\n",
    "print('SVRModel Test Score is : ' , SVRModel.score(X_test, y_test))\n",
    "print('----------------------------------------------------')\n",
    "\n",
    "#Calculating Prediction\n",
    "y_pred = SVRModel.predict(X_test)\n",
    "print('Predicted Value for SVRModel is : ' , y_pred[:10])"
   ]
  },
  {
   "cell_type": "code",
   "execution_count": 1,
   "metadata": {},
   "outputs": [],
   "source": [
    "from sklearn.datasets import load_boston\n",
    "from sklearn.model_selection import train_test_split\n",
    "from sklearn.svm import SVR\n",
    "from sklearn.metrics import mean_absolute_error , mean_squared_error , median_absolute_error , f1_score"
   ]
  },
  {
   "cell_type": "code",
   "execution_count": 3,
   "metadata": {},
   "outputs": [
    {
     "name": "stdout",
     "output_type": "stream",
     "text": [
      "The X_data :: \n",
      "[[6.32000e-03 1.80000e+01 2.31000e+00 0.00000e+00 5.38000e-01 6.57500e+00\n",
      "  6.52000e+01 4.09000e+00 1.00000e+00 2.96000e+02 1.53000e+01 3.96900e+02\n",
      "  4.98000e+00]\n",
      " [2.73100e-02 0.00000e+00 7.07000e+00 0.00000e+00 4.69000e-01 6.42100e+00\n",
      "  7.89000e+01 4.96710e+00 2.00000e+00 2.42000e+02 1.78000e+01 3.96900e+02\n",
      "  9.14000e+00]\n",
      " [2.72900e-02 0.00000e+00 7.07000e+00 0.00000e+00 4.69000e-01 7.18500e+00\n",
      "  6.11000e+01 4.96710e+00 2.00000e+00 2.42000e+02 1.78000e+01 3.92830e+02\n",
      "  4.03000e+00]\n",
      " [3.23700e-02 0.00000e+00 2.18000e+00 0.00000e+00 4.58000e-01 6.99800e+00\n",
      "  4.58000e+01 6.06220e+00 3.00000e+00 2.22000e+02 1.87000e+01 3.94630e+02\n",
      "  2.94000e+00]\n",
      " [6.90500e-02 0.00000e+00 2.18000e+00 0.00000e+00 4.58000e-01 7.14700e+00\n",
      "  5.42000e+01 6.06220e+00 3.00000e+00 2.22000e+02 1.87000e+01 3.96900e+02\n",
      "  5.33000e+00]\n",
      " [2.98500e-02 0.00000e+00 2.18000e+00 0.00000e+00 4.58000e-01 6.43000e+00\n",
      "  5.87000e+01 6.06220e+00 3.00000e+00 2.22000e+02 1.87000e+01 3.94120e+02\n",
      "  5.21000e+00]\n",
      " [8.82900e-02 1.25000e+01 7.87000e+00 0.00000e+00 5.24000e-01 6.01200e+00\n",
      "  6.66000e+01 5.56050e+00 5.00000e+00 3.11000e+02 1.52000e+01 3.95600e+02\n",
      "  1.24300e+01]\n",
      " [1.44550e-01 1.25000e+01 7.87000e+00 0.00000e+00 5.24000e-01 6.17200e+00\n",
      "  9.61000e+01 5.95050e+00 5.00000e+00 3.11000e+02 1.52000e+01 3.96900e+02\n",
      "  1.91500e+01]\n",
      " [2.11240e-01 1.25000e+01 7.87000e+00 0.00000e+00 5.24000e-01 5.63100e+00\n",
      "  1.00000e+02 6.08210e+00 5.00000e+00 3.11000e+02 1.52000e+01 3.86630e+02\n",
      "  2.99300e+01]\n",
      " [1.70040e-01 1.25000e+01 7.87000e+00 0.00000e+00 5.24000e-01 6.00400e+00\n",
      "  8.59000e+01 6.59210e+00 5.00000e+00 3.11000e+02 1.52000e+01 3.86710e+02\n",
      "  1.71000e+01]\n",
      " [2.24890e-01 1.25000e+01 7.87000e+00 0.00000e+00 5.24000e-01 6.37700e+00\n",
      "  9.43000e+01 6.34670e+00 5.00000e+00 3.11000e+02 1.52000e+01 3.92520e+02\n",
      "  2.04500e+01]\n",
      " [1.17470e-01 1.25000e+01 7.87000e+00 0.00000e+00 5.24000e-01 6.00900e+00\n",
      "  8.29000e+01 6.22670e+00 5.00000e+00 3.11000e+02 1.52000e+01 3.96900e+02\n",
      "  1.32700e+01]\n",
      " [9.37800e-02 1.25000e+01 7.87000e+00 0.00000e+00 5.24000e-01 5.88900e+00\n",
      "  3.90000e+01 5.45090e+00 5.00000e+00 3.11000e+02 1.52000e+01 3.90500e+02\n",
      "  1.57100e+01]\n",
      " [6.29760e-01 0.00000e+00 8.14000e+00 0.00000e+00 5.38000e-01 5.94900e+00\n",
      "  6.18000e+01 4.70750e+00 4.00000e+00 3.07000e+02 2.10000e+01 3.96900e+02\n",
      "  8.26000e+00]\n",
      " [6.37960e-01 0.00000e+00 8.14000e+00 0.00000e+00 5.38000e-01 6.09600e+00\n",
      "  8.45000e+01 4.46190e+00 4.00000e+00 3.07000e+02 2.10000e+01 3.80020e+02\n",
      "  1.02600e+01]\n",
      " [6.27390e-01 0.00000e+00 8.14000e+00 0.00000e+00 5.38000e-01 5.83400e+00\n",
      "  5.65000e+01 4.49860e+00 4.00000e+00 3.07000e+02 2.10000e+01 3.95620e+02\n",
      "  8.47000e+00]\n",
      " [1.05393e+00 0.00000e+00 8.14000e+00 0.00000e+00 5.38000e-01 5.93500e+00\n",
      "  2.93000e+01 4.49860e+00 4.00000e+00 3.07000e+02 2.10000e+01 3.86850e+02\n",
      "  6.58000e+00]\n",
      " [7.84200e-01 0.00000e+00 8.14000e+00 0.00000e+00 5.38000e-01 5.99000e+00\n",
      "  8.17000e+01 4.25790e+00 4.00000e+00 3.07000e+02 2.10000e+01 3.86750e+02\n",
      "  1.46700e+01]\n",
      " [8.02710e-01 0.00000e+00 8.14000e+00 0.00000e+00 5.38000e-01 5.45600e+00\n",
      "  3.66000e+01 3.79650e+00 4.00000e+00 3.07000e+02 2.10000e+01 2.88990e+02\n",
      "  1.16900e+01]\n",
      " [7.25800e-01 0.00000e+00 8.14000e+00 0.00000e+00 5.38000e-01 5.72700e+00\n",
      "  6.95000e+01 3.79650e+00 4.00000e+00 3.07000e+02 2.10000e+01 3.90950e+02\n",
      "  1.12800e+01]]\n",
      "======\n",
      "The y_data :: \n",
      " [24.  21.6 34.7 33.4 36.2 28.7 22.9 27.1 16.5 18.9 15.  18.9 21.7 20.4\n",
      " 18.2 19.9 23.1 17.5 20.2 18.2]\n",
      "=====\n",
      "The x_data_shap :: (506, 13)\n",
      "======\n",
      "The y_data_shap :: (506,)\n"
     ]
    }
   ],
   "source": [
    "# Load data Bosten from module datasets\n",
    "# present describtion of data\n",
    "\n",
    "X , y = load_boston( return_X_y=True)\n",
    "print(f\"The X_data :: \\n{X[:20]}\\n======\\nThe y_data :: \\n {y[:20]}\\n=====\\nThe x_data_shap :: {X.shape}\\\n",
    "\\n======\\nThe y_data_shap :: {y.shape}\")"
   ]
  },
  {
   "cell_type": "code",
   "execution_count": 4,
   "metadata": {},
   "outputs": [
    {
     "name": "stdout",
     "output_type": "stream",
     "text": [
      "The X_Train  ::\n",
      "[[4.34879e+00 0.00000e+00 1.81000e+01 ... 2.02000e+01 3.96900e+02\n",
      "  1.62900e+01]\n",
      " [5.20580e-01 0.00000e+00 6.20000e+00 ... 1.74000e+01 3.88450e+02\n",
      "  9.54000e+00]\n",
      " [1.28160e-01 1.25000e+01 6.07000e+00 ... 1.89000e+01 3.96900e+02\n",
      "  8.79000e+00]\n",
      " ...\n",
      " [1.06120e-01 3.00000e+01 4.93000e+00 ... 1.66000e+01 3.94620e+02\n",
      "  1.24000e+01]\n",
      " [1.18123e+01 0.00000e+00 1.81000e+01 ... 2.02000e+01 4.84500e+01\n",
      "  2.27400e+01]\n",
      " [1.04690e-01 4.00000e+01 6.41000e+00 ... 1.76000e+01 3.89250e+02\n",
      "  6.05000e+00]]\n",
      "=======\n",
      "The X_test :: \n",
      "[[3.18270e-01 0.00000e+00 9.90000e+00 ... 1.84000e+01 3.90700e+02\n",
      "  1.83300e+01]\n",
      " [1.10690e-01 0.00000e+00 1.38900e+01 ... 1.64000e+01 3.96900e+02\n",
      "  1.79200e+01]\n",
      " [3.67367e+00 0.00000e+00 1.81000e+01 ... 2.02000e+01 3.88620e+02\n",
      "  1.05800e+01]\n",
      " ...\n",
      " [1.46336e+00 0.00000e+00 1.95800e+01 ... 1.47000e+01 3.74430e+02\n",
      "  1.73000e+00]\n",
      " [9.32909e+00 0.00000e+00 1.81000e+01 ... 2.02000e+01 3.96900e+02\n",
      "  1.81300e+01]\n",
      " [4.52700e-02 0.00000e+00 1.19300e+01 ... 2.10000e+01 3.96900e+02\n",
      "  9.08000e+00]]\n",
      "====\n",
      "The y_Train :: \n",
      "[19.9 25.1 20.9 21.4 14.2 17.8 18.4 22.6 36.2 16.5 24.5 29.6 23.7 19.1\n",
      " 22.8 32.2 24.1 20.1 21.1 33.1 22.6 35.2 19.5 36.  22.3 25.  28.6 23.\n",
      " 31.5 16.1 33.4 24.8 18.9 18.4  8.4 15.6 22.9 13.6 22.7 27.9 23.8 15.1\n",
      " 22.  25.  20.6 21.2 46.  50.   5.6 23.  16.  13.8 32.5 21.2 23.7 36.1\n",
      " 21.7  7.2 20.6 20.7 22.6 50.  37.3 50.   8.3 23.8 24.6 15.6 23.9 13.4\n",
      " 19.3 21.9 20.4 23.7 50.  20.6 16.8 10.9 30.7 23.1 10.5 32.  15.  20.8\n",
      " 19.2 19.9 38.7 23.9 22.   7.5 18.9 13.9 13.3 30.1 23.8 50.  31.1 11.3\n",
      " 34.7 24.8 18.3 11.8  7.2 17.2 18.2 50.  15.6 20.5 32.7 19.8 35.4 17.9\n",
      " 16.6 15.6 22.9 15.6 19.5  9.7 36.4 17.4 19.9 20.6 50.  21.7 28.4 14.5\n",
      " 14.4 43.1 30.8 30.1 14.1 22.3 18.9 29.6  8.5 30.5 23.3 32.  14.9 27.\n",
      " 22.8 22.4 21.  20.4 19.3 17.  16.1 19.7 24.7 19.5 17.5 23.1 18.7 17.8\n",
      " 18.7  7.2 21.  48.8 11.7 14.3 14.5  8.3 17.8 14.8 19.2 14.1 17.1 32.9\n",
      " 19.5 13.6 17.2 24.2 17.4 16.6 21.5 18.  24.5 20.4 12.3 15.2 21.7 16.2\n",
      " 25.  14.6 33.8 37.6 21.8  8.7 28.  10.2 13.3 23.7 28.7 16.1 18.8 20.1\n",
      " 14.9 20.2 20.3 14.3 25.2 22.2 31.5 24.  12.6 26.4 34.6 39.8 21.  15.7\n",
      " 17.2 24.6 23.8 19.4 21.4 14.6 33.2 27.9 15.  29.8 24.3 13.8 29.  30.1\n",
      " 21.7 29.1 15.4 13.4 23.1 27.1 50.  36.2 24.4 30.3 29.9 27.5 14.4 15.2\n",
      " 20.5 14.5 20.3  9.6 18.2 20.7 23.  25.3 19.   8.8 14.9 13.9 26.5 22.2\n",
      " 19.1 11.7 18.6 24.1 34.9 26.2 20.1 26.7  6.3 20.9 24.  17.3 20.  13.8\n",
      " 16.2 33.4 19.6 11.  23.4 19.3 16.4 10.2 15.  13.5 22.7 48.3 16.5 28.4\n",
      " 19.4 19.4  9.5 10.5 14.  25.  21.6 22.  22.9 20.2 19.7 13.4 19.3 21.2\n",
      " 11.8 22.2 13.1 22.5 23.2 19.1 34.9 22.8 12.1 23.2 12.  19.8 17.5 19.\n",
      " 28.1 26.6 16.7 22.6 24.5 18.2 50.  31.6 27.5 18.5 19.4 31.6 22.  34.9\n",
      " 50.  29.8 11.9 22.1 19.6 22.   8.1 23.3 16.8 23.9 21.4  7.4 19.6 23.6\n",
      " 20.1  8.4 33.2]\n",
      "=====\n",
      "The y_test :: \n",
      "[17.8 21.5 21.2 32.4 10.9 31.7 21.4 24.3 29.1 25.  20.  22.2 20.  24.8\n",
      " 25.  10.4 18.7 24.4 13.1 13.1 37.  26.6 50.  23.3 13.3 18.6  7.  19.4\n",
      " 17.8 31.  17.7 20.8 21.9 15.4 23.1 19.6 27.5 37.9 31.2 28.7 18.8 23.2\n",
      " 28.2 19.3 13.  13.8 44.  29.4  7.  22.5 23.6 33.  13.8 12.8 23.9  8.5\n",
      " 35.1 48.5 12.7 17.1 20.6 11.5 10.2 21.8 25.  21.4 26.4 20.3 28.5 22.\n",
      " 17.5 12.7 44.8 18.5 18.3 19.4 17.4 36.5 42.8 13.2 21.7 24.3 21.7 37.2\n",
      " 12.5 21.2 12.7 24.7 22.   5.  19.1 27.1 22.9 10.4 18.5 23.1 50.  18.5\n",
      " 13.4 21.6 22.5 15.3 24.7 10.8 22.4 23.3 20.5 22.2 15.2 23.1 50.  19.6\n",
      " 43.8 29.  23.5 20.  23.9 46.7  5.  20.8 50.  21.7 24.1 24.4 28.7 35.4\n",
      " 23.1 18.1 23.  20.3 17.1 23.2 16.7 20.4 17.6 24.4 33.3 22.8 13.1 13.5\n",
      " 19.8 18.9 20.1 43.5 23.4 26.6 25.  21.9 41.7 24.8 19.9 27.5 50.  16.3\n",
      " 41.3 42.3 20.  11.9 21.1 45.4 22.6 33.1  8.8 18.4 50.  14.1 20.6]\n",
      "===\n",
      "The X_train_shape :: (339, 13)\n",
      "====\n",
      "The X_test_shap :: (167, 13)\n",
      "====\n",
      "The y_train_shap :: (339,)\n",
      "===\n",
      "the y_test_shap :: (167,)\n"
     ]
    }
   ],
   "source": [
    "# SPLit data into Training and testing data\n",
    "\n",
    "X_train , X_test , y_train , y_test = train_test_split(X , y , test_size = 0.33 , random_state = 44 , shuffle = True)\n",
    "\n",
    "# present dscribtion of data\n",
    "\n",
    "print(f\"The X_Train  ::\\n{X_train}\\n=======\\nThe X_test :: \\n{X_test}\\n====\\nThe y_Train :: \\n{y_train}\\\n",
    "\\n=====\\nThe y_test :: \\n{y_test}\\n===\\nThe X_train_shape :: {X_train.shape}\\n====\\nThe X_test_shap ::\\\n",
    " {X_test.shape}\\n====\\nThe y_train_shap :: {y_train.shape}\\n===\\nthe y_test_shap :: {y_test.shape}\")"
   ]
  },
  {
   "cell_type": "markdown",
   "metadata": {},
   "source": [
    " * Chanching Paremeter of SVR_Model to get high Accuracy"
   ]
  },
  {
   "cell_type": "code",
   "execution_count": 17,
   "metadata": {},
   "outputs": [
    {
     "name": "stderr",
     "output_type": "stream",
     "text": [
      "C:\\ProgramData\\Anaconda3\\lib\\site-packages\\sklearn\\svm\\base.py:193: FutureWarning: The default value of gamma will change from 'auto' to 'scale' in version 0.22 to account better for unscaled features. Set gamma explicitly to 'auto' or 'scale' to avoid this warning.\n",
      "  \"avoid this warning.\", FutureWarning)\n"
     ]
    }
   ],
   "source": [
    "\n",
    "\n",
    "# defintion_Model\n",
    "SVR_Model = SVR( C = 20 , epsilon=0.01 , kernel =\"rbf\" )\n",
    "# Fitting_SVR_Model\n",
    "\n",
    "SVR_Model.fit(X_train , y_train)\n",
    "\n",
    "# get_Attributies of Model\n",
    "#Model_Coef = SVR_Model.coef_\n",
    "#Model_intercept = SVR_Model.intercept_\n",
    "\n",
    "# Estimate Model\n",
    "Traing_Model_Score = SVR_Model.score(X_train , y_train)\n",
    "Testing_Model_Score = SVR_Model.score(X_test , y_test)\n",
    "\n",
    "# Prediction method\n",
    "y_pred = SVR_Model.predict(X_test)\n",
    "# Metrecies SVR_Model\n",
    "\n",
    "# mean_Absolute_Error\n",
    "MAE = mean_absolute_error( y_test , y_pred , multioutput=\"uniform_average\")\n",
    "# Mean_square_Error\n",
    "MSE = mean_squared_error( y_test , y_pred , multioutput=\"uniform_average\")\n",
    "# median_Absolute_Error\n",
    "Mid_A_E = median_absolute_error(y_test , y_pred)\n"
   ]
  },
  {
   "cell_type": "code",
   "execution_count": 18,
   "metadata": {},
   "outputs": [
    {
     "name": "stdout",
     "output_type": "stream",
     "text": [
      "The Model_Traing_Score :: 0.9754833469485672\n",
      "======\n",
      "The Model_Testing_Score ::0.07840463016590982\n",
      "=======\n",
      "The y_traing :: \n",
      "[19.9 25.1 20.9 21.4 14.2]\n",
      "====\n",
      "The y_pred ::\n",
      "[21.96366352 22.0396082  21.06106086 22.53862691 22.06355967]\n",
      "====\n",
      "The MAE ::6.450898817761049\n",
      "=====\n",
      "The MSE :: 90.64613192152032\n",
      "=====\n",
      "The Mid_A_E :: 3.2630161571758194\n"
     ]
    }
   ],
   "source": [
    "# present resolution of SVR_Model\n",
    "\n",
    "print(f\"The Model_Traing_Score :: {Traing_Model_Score}\\n======\\nThe Model_Testing_Score ::\\\n",
    "{Testing_Model_Score}\\n=======\\nThe y_traing :: \\n{y_train[:5]}\\n====\\nThe y_pred ::\\n{y_pred[:5]}\\\n",
    "\\n====\\nThe MAE ::{MAE}\\n=====\\nThe MSE :: {MSE}\\n=====\\nThe Mid_A_E :: {Mid_A_E}\")"
   ]
  },
  {
   "cell_type": "code",
   "execution_count": 24,
   "metadata": {},
   "outputs": [],
   "source": [
    "# defintion_Model\n",
    "SVR_Model = SVR( C = 20 , epsilon=0.01 , kernel =\"linear\" )\n",
    "# Fitting_SVR_Model\n",
    "\n",
    "SVR_Model.fit(X_train , y_train)\n",
    "\n",
    "# get_Attributies of Model\n",
    "#Model_Coef = SVR_Model.coef_\n",
    "#Model_intercept = SVR_Model.intercept_\n",
    "\n",
    "# Estimate Model\n",
    "Traing_Model_Score = SVR_Model.score(X_train , y_train)\n",
    "Testing_Model_Score = SVR_Model.score(X_test , y_test)\n",
    "\n",
    "# Prediction method\n",
    "y_pred = SVR_Model.predict(X_test)\n",
    "# Metrecies SVR_Model\n",
    "\n",
    "# mean_Absolute_Error\n",
    "MAE = mean_absolute_error( y_test , y_pred , multioutput=\"uniform_average\")\n",
    "# Mean_square_Error\n",
    "MSE = mean_squared_error( y_test , y_pred , multioutput=\"uniform_average\")\n",
    "# median_Absolute_Error\n",
    "Mid_A_E = median_absolute_error(y_test , y_pred)"
   ]
  },
  {
   "cell_type": "code",
   "execution_count": 25,
   "metadata": {},
   "outputs": [
    {
     "name": "stdout",
     "output_type": "stream",
     "text": [
      "The Model_Traing_Score :: 0.7090367201312007\n",
      "======\n",
      "The Model_Testing_Score ::0.7083615633679301\n",
      "=======\n",
      "The y_traing :: \n",
      "[19.9 25.1 20.9 21.4 14.2]\n",
      "====\n",
      "The y_pred ::\n",
      "[17.75060353 23.34565078 21.17980104 34.01891939 14.69566527]\n",
      "====\n",
      "The MAE ::3.616893724739304\n",
      "=====\n",
      "The MSE :: 28.684927318043773\n",
      "=====\n",
      "The Mid_A_E :: 2.291042327045524\n"
     ]
    }
   ],
   "source": [
    "print(f\"The Model_Traing_Score :: {Traing_Model_Score}\\n======\\nThe Model_Testing_Score ::\\\n",
    "{Testing_Model_Score}\\n=======\\nThe y_traing :: \\n{y_train[:5]}\\n====\\nThe y_pred ::\\n{y_pred[:5]}\\\n",
    "\\n====\\nThe MAE ::{MAE}\\n=====\\nThe MSE :: {MSE}\\n=====\\nThe Mid_A_E :: {Mid_A_E}\")"
   ]
  },
  {
   "cell_type": "code",
   "execution_count": null,
   "metadata": {},
   "outputs": [],
   "source": []
  }
 ],
 "metadata": {
  "kernelspec": {
   "display_name": "Python 3",
   "language": "python",
   "name": "python3"
  },
  "language_info": {
   "codemirror_mode": {
    "name": "ipython",
    "version": 3
   },
   "file_extension": ".py",
   "mimetype": "text/x-python",
   "name": "python",
   "nbconvert_exporter": "python",
   "pygments_lexer": "ipython3",
   "version": "3.7.4"
  }
 },
 "nbformat": 4,
 "nbformat_minor": 2
}
