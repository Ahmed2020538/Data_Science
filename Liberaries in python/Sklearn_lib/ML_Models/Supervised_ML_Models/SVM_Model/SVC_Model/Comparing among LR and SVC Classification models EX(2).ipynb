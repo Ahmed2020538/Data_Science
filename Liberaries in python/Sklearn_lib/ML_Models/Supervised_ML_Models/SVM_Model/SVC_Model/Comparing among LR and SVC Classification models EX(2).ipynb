{
 "cells": [
  {
   "cell_type": "markdown",
   "metadata": {},
   "source": [
    "* Comparing among Logistic_regression and SVC_Classifier"
   ]
  },
  {
   "cell_type": "code",
   "execution_count": 2,
   "metadata": {},
   "outputs": [
    {
     "name": "stdout",
     "output_type": "stream",
     "text": [
      "LogisticRegressionModel Train Score is :  0.95\n",
      "LogisticRegressionModel Test Score is :  1.0\n",
      "LogisticRegressionModel Classes are :  [0 1 2]\n",
      "LogisticRegressionModel No. of iteratios is :  [100 100 100]\n",
      "----------------------------------------------------\n",
      "Predicted Value for LogisticRegressionModel is :  [2 0 1 1 2 0 2 2 2 1]\n",
      "Prediction Probabilities Value for LogisticRegressionModel is :  [[7.79483191e-04 1.97620698e-01 8.01599819e-01]\n",
      " [7.96016144e-01 2.03909970e-01 7.38861354e-05]\n",
      " [1.52479760e-01 7.96506018e-01 5.10142224e-02]\n",
      " [5.75091112e-02 7.36974496e-01 2.05516393e-01]\n",
      " [4.68468584e-04 3.02442615e-01 6.97088916e-01]\n",
      " [8.33164654e-01 1.66742809e-01 9.25377223e-05]\n",
      " [3.10234712e-05 4.09124295e-01 5.90844682e-01]\n",
      " [2.39994612e-04 4.12065105e-01 5.87694900e-01]\n",
      " [5.06033661e-04 3.34456248e-01 6.65037718e-01]\n",
      " [1.40591596e-02 6.61373776e-01 3.24567065e-01]]\n",
      "Confusion Matrix is : \n",
      " [[18  0  0]\n",
      " [ 0 15  0]\n",
      " [ 0  0 17]]\n"
     ]
    },
    {
     "name": "stderr",
     "output_type": "stream",
     "text": [
      "C:\\ProgramData\\Anaconda3\\lib\\site-packages\\sklearn\\linear_model\\logistic.py:469: FutureWarning: Default multi_class will be changed to 'auto' in 0.22. Specify the multi_class option to silence this warning.\n",
      "  \"this warning.\", FutureWarning)\n",
      "C:\\ProgramData\\Anaconda3\\lib\\site-packages\\sklearn\\linear_model\\sag.py:337: ConvergenceWarning: The max_iter was reached which means the coef_ did not converge\n",
      "  \"the coef_ did not converge\", ConvergenceWarning)\n"
     ]
    },
    {
     "data": {
      "image/png": "[encoded data removed]",
      "text/plain": [
       "<Figure size 432x288 with 2 Axes>"
      ]
     },
     "metadata": {
      "needs_background": "light"
     },
     "output_type": "display_data"
    },
    {
     "name": "stdout",
     "output_type": "stream",
     "text": [
      "====================================================\n",
      "SVCModel Train Score is :  0.96\n",
      "SVCModel Test Score is :  0.98\n",
      "----------------------------------------------------\n",
      "Predicted Value for SVCModel is :  [2 0 1 1 2 0 2 2 2 1]\n",
      "Confusion Matrix is : \n",
      " [[18  0  0]\n",
      " [ 0 15  0]\n",
      " [ 0  1 16]]\n"
     ]
    },
    {
     "data": {
      "image/png": "[encoded data removed]",
      "text/plain": [
       "<Figure size 432x288 with 2 Axes>"
      ]
     },
     "metadata": {
      "needs_background": "light"
     },
     "output_type": "display_data"
    }
   ],
   "source": [
    "#Import Libraries\n",
    "from sklearn.datasets import load_iris\n",
    "from sklearn.model_selection import train_test_split\n",
    "from sklearn.linear_model import LogisticRegression\n",
    "from sklearn.metrics import confusion_matrix\n",
    "import seaborn as sns\n",
    "import matplotlib.pyplot as plt\n",
    "from sklearn.svm import SVC\n",
    "#----------------------------------------------------\n",
    "\n",
    "#load iris data\n",
    "\n",
    "IrisData = load_iris()\n",
    "\n",
    "#X Data\n",
    "X = IrisData.data\n",
    "#print('X Data is \\n' , X[:10])\n",
    "#print('X shape is ' , X.shape)\n",
    "#print('X Features are \\n' , IrisData.feature_names)\n",
    "\n",
    "#y Data\n",
    "y = IrisData.target\n",
    "#print('y Data is \\n' , y[:10])\n",
    "#print('y shape is ' , y.shape)\n",
    "#print('y Columns are \\n' , IrisData.target_names)\n",
    "\n",
    "#----------------------------------------------------\n",
    "#Splitting data\n",
    "\n",
    "X_train, X_test, y_train, y_test = train_test_split(X, y, test_size=0.33, random_state=44, shuffle =True)\n",
    "\n",
    "#Splitted Data\n",
    "#print('X_train shape is ' , X_train.shape)\n",
    "#print('X_test shape is ' , X_test.shape)\n",
    "#print('y_train shape is ' , y_train.shape)\n",
    "#print('y_test shape is ' , y_test.shape)\n",
    "\n",
    "#----------------------------------------------------\n",
    "#Applying LogisticRegression Model \n",
    "\n",
    "'''\n",
    "#linear_model.LogisticRegression(penalty='l2’,dual=False,tol=0.0001,C=1.0,fit_intercept=True,intercept_scaling=1,\n",
    "#                                class_weight=None,random_state=None,solver='warn’,max_iter=100,\n",
    "#                                multi_class='warn’, verbose=0,warm_start=False, n_jobs=None)\n",
    "'''\n",
    "\n",
    "LogisticRegressionModel = LogisticRegression(penalty='l2',solver='sag',C=1.0,random_state=33)\n",
    "LogisticRegressionModel.fit(X_train, y_train)\n",
    "\n",
    "#Calculating Details\n",
    "print('LogisticRegressionModel Train Score is : ' , LogisticRegressionModel.score(X_train, y_train))\n",
    "print('LogisticRegressionModel Test Score is : ' , LogisticRegressionModel.score(X_test, y_test))\n",
    "print('LogisticRegressionModel Classes are : ' , LogisticRegressionModel.classes_)\n",
    "print('LogisticRegressionModel No. of iteratios is : ' , LogisticRegressionModel.n_iter_)\n",
    "print('----------------------------------------------------')\n",
    "\n",
    "#Calculating Prediction\n",
    "y_pred = LogisticRegressionModel.predict(X_test)\n",
    "y_pred_prob = LogisticRegressionModel.predict_proba(X_test)\n",
    "print('Predicted Value for LogisticRegressionModel is : ' , y_pred[:10])\n",
    "print('Prediction Probabilities Value for LogisticRegressionModel is : ' , y_pred_prob[:10])\n",
    "\n",
    "#----------------------------------------------------\n",
    "#Calculating Confusion Matrix\n",
    "CM = confusion_matrix(y_test, y_pred)\n",
    "print('Confusion Matrix is : \\n', CM)\n",
    "\n",
    "# drawing confusion matrix\n",
    "sns.heatmap(CM, center = True)\n",
    "plt.show()\n",
    "\n",
    "\n",
    "print('====================================================')\n",
    "\n",
    "#----------------------------------------------------\n",
    "#Applying SVC Model \n",
    "\n",
    "'''\n",
    "sklearn.svm.SVC(C=1.0, kernel=’rbf’, degree=3, gamma=’auto_deprecated’, coef0=0.0, shrinking=True,\n",
    "                probability=False, tol=0.001, cache_size=200, class_weight=None,verbose=False,\n",
    "                max_iter=-1, decision_function_shape='ovr’, random_state=None)\n",
    "'''\n",
    "\n",
    "SVCModel = SVC(kernel= 'rbf',# it can be also linear,poly,sigmoid,precomputed\n",
    "               max_iter=100,C=1.0,gamma='auto')\n",
    "SVCModel.fit(X_train, y_train)\n",
    "\n",
    "#Calculating Details\n",
    "print('SVCModel Train Score is : ' , SVCModel.score(X_train, y_train))\n",
    "print('SVCModel Test Score is : ' , SVCModel.score(X_test, y_test))\n",
    "print('----------------------------------------------------')\n",
    "\n",
    "#Calculating Prediction\n",
    "y_pred = SVCModel.predict(X_test)\n",
    "print('Predicted Value for SVCModel is : ' , y_pred[:10])\n",
    "\n",
    "#----------------------------------------------------\n",
    "#Calculating Confusion Matrix\n",
    "CM = confusion_matrix(y_test, y_pred)\n",
    "print('Confusion Matrix is : \\n', CM)\n",
    "\n",
    "# drawing confusion matrix\n",
    "sns.heatmap(CM, center = True)\n",
    "plt.show()"
   ]
  },
  {
   "cell_type": "code",
   "execution_count": null,
   "metadata": {},
   "outputs": [],
   "source": []
  }
 ],
 "metadata": {
  "kernelspec": {
   "display_name": "Python 3",
   "language": "python",
   "name": "python3"
  },
  "language_info": {
   "codemirror_mode": {
    "name": "ipython",
    "version": 3
   },
   "file_extension": ".py",
   "mimetype": "text/x-python",
   "name": "python",
   "nbconvert_exporter": "python",
   "pygments_lexer": "ipython3",
   "version": "3.7.4"
  }
 },
 "nbformat": 4,
 "nbformat_minor": 2
}
