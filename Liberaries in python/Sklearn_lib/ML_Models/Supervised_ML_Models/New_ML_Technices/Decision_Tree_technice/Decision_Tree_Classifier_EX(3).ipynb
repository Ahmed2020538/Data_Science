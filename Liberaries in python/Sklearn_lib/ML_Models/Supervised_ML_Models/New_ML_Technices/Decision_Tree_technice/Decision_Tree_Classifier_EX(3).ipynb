{
 "cells": [
  {
   "cell_type": "code",
   "execution_count": 15,
   "metadata": {},
   "outputs": [],
   "source": [
    "# importing liberaries\n",
    "import pandas as pd\n",
    "import matplotlib.pyplot as plt\n",
    "import seaborn as sns\n",
    "from sklearn.model_selection import train_test_split\n",
    "from sklearn.tree import DecisionTreeClassifier\n",
    "from sklearn.metrics import classification_report , accuracy_score , confusion_matrix"
   ]
  },
  {
   "cell_type": "code",
   "execution_count": 3,
   "metadata": {},
   "outputs": [
    {
     "data": {
      "text/html": [
       "<div>\n",
       "<style scoped>\n",
       "    .dataframe tbody tr th:only-of-type {\n",
       "        vertical-align: middle;\n",
       "    }\n",
       "\n",
       "    .dataframe tbody tr th {\n",
       "        vertical-align: top;\n",
       "    }\n",
       "\n",
       "    .dataframe thead th {\n",
       "        text-align: right;\n",
       "    }\n",
       "</style>\n",
       "<table border=\"1\" class=\"dataframe\">\n",
       "  <thead>\n",
       "    <tr style=\"text-align: right;\">\n",
       "      <th></th>\n",
       "      <th>B</th>\n",
       "      <th>1</th>\n",
       "      <th>1.1</th>\n",
       "      <th>1.2</th>\n",
       "      <th>1.3</th>\n",
       "    </tr>\n",
       "  </thead>\n",
       "  <tbody>\n",
       "    <tr>\n",
       "      <td>0</td>\n",
       "      <td>R</td>\n",
       "      <td>1</td>\n",
       "      <td>1</td>\n",
       "      <td>1</td>\n",
       "      <td>2</td>\n",
       "    </tr>\n",
       "    <tr>\n",
       "      <td>1</td>\n",
       "      <td>R</td>\n",
       "      <td>1</td>\n",
       "      <td>1</td>\n",
       "      <td>1</td>\n",
       "      <td>3</td>\n",
       "    </tr>\n",
       "    <tr>\n",
       "      <td>2</td>\n",
       "      <td>R</td>\n",
       "      <td>1</td>\n",
       "      <td>1</td>\n",
       "      <td>1</td>\n",
       "      <td>4</td>\n",
       "    </tr>\n",
       "    <tr>\n",
       "      <td>3</td>\n",
       "      <td>R</td>\n",
       "      <td>1</td>\n",
       "      <td>1</td>\n",
       "      <td>1</td>\n",
       "      <td>5</td>\n",
       "    </tr>\n",
       "    <tr>\n",
       "      <td>4</td>\n",
       "      <td>R</td>\n",
       "      <td>1</td>\n",
       "      <td>1</td>\n",
       "      <td>2</td>\n",
       "      <td>1</td>\n",
       "    </tr>\n",
       "    <tr>\n",
       "      <td>...</td>\n",
       "      <td>...</td>\n",
       "      <td>...</td>\n",
       "      <td>...</td>\n",
       "      <td>...</td>\n",
       "      <td>...</td>\n",
       "    </tr>\n",
       "    <tr>\n",
       "      <td>619</td>\n",
       "      <td>L</td>\n",
       "      <td>5</td>\n",
       "      <td>5</td>\n",
       "      <td>5</td>\n",
       "      <td>1</td>\n",
       "    </tr>\n",
       "    <tr>\n",
       "      <td>620</td>\n",
       "      <td>L</td>\n",
       "      <td>5</td>\n",
       "      <td>5</td>\n",
       "      <td>5</td>\n",
       "      <td>2</td>\n",
       "    </tr>\n",
       "    <tr>\n",
       "      <td>621</td>\n",
       "      <td>L</td>\n",
       "      <td>5</td>\n",
       "      <td>5</td>\n",
       "      <td>5</td>\n",
       "      <td>3</td>\n",
       "    </tr>\n",
       "    <tr>\n",
       "      <td>622</td>\n",
       "      <td>L</td>\n",
       "      <td>5</td>\n",
       "      <td>5</td>\n",
       "      <td>5</td>\n",
       "      <td>4</td>\n",
       "    </tr>\n",
       "    <tr>\n",
       "      <td>623</td>\n",
       "      <td>B</td>\n",
       "      <td>5</td>\n",
       "      <td>5</td>\n",
       "      <td>5</td>\n",
       "      <td>5</td>\n",
       "    </tr>\n",
       "  </tbody>\n",
       "</table>\n",
       "<p>624 rows × 5 columns</p>\n",
       "</div>"
      ],
      "text/plain": [
       "     B  1  1.1  1.2  1.3\n",
       "0    R  1    1    1    2\n",
       "1    R  1    1    1    3\n",
       "2    R  1    1    1    4\n",
       "3    R  1    1    1    5\n",
       "4    R  1    1    2    1\n",
       "..  .. ..  ...  ...  ...\n",
       "619  L  5    5    5    1\n",
       "620  L  5    5    5    2\n",
       "621  L  5    5    5    3\n",
       "622  L  5    5    5    4\n",
       "623  B  5    5    5    5\n",
       "\n",
       "[624 rows x 5 columns]"
      ]
     },
     "execution_count": 3,
     "metadata": {},
     "output_type": "execute_result"
    }
   ],
   "source": [
    "# Loading data\n",
    "\n",
    "path = \"G:\\\\Data Field\\\\D..S..Course\\\\data.sc.Asem\\\\Data\\\\Data\\\\2.8 Decision Tree\\\\data2.csv\"\n",
    "data = pd.read_csv(path)\n",
    "data"
   ]
  },
  {
   "cell_type": "code",
   "execution_count": 4,
   "metadata": {},
   "outputs": [
    {
     "data": {
      "text/plain": [
       "624"
      ]
     },
     "execution_count": 4,
     "metadata": {},
     "output_type": "execute_result"
    }
   ],
   "source": [
    "len(data)"
   ]
  },
  {
   "cell_type": "code",
   "execution_count": 5,
   "metadata": {},
   "outputs": [
    {
     "data": {
      "text/plain": [
       "(624, 5)"
      ]
     },
     "execution_count": 5,
     "metadata": {},
     "output_type": "execute_result"
    }
   ],
   "source": [
    "data.shape"
   ]
  },
  {
   "cell_type": "markdown",
   "metadata": {},
   "source": [
    "* Spliting data into input and output data"
   ]
  },
  {
   "cell_type": "code",
   "execution_count": 11,
   "metadata": {},
   "outputs": [],
   "source": [
    "X = data.iloc[ : , 1:-1].values\n",
    "y = data.iloc[ : , 0].values"
   ]
  },
  {
   "cell_type": "code",
   "execution_count": 10,
   "metadata": {},
   "outputs": [
    {
     "data": {
      "text/plain": [
       "array([[1, 1, 1],\n",
       "       [1, 1, 1],\n",
       "       [1, 1, 1],\n",
       "       ...,\n",
       "       [5, 5, 5],\n",
       "       [5, 5, 5],\n",
       "       [5, 5, 5]], dtype=int64)"
      ]
     },
     "execution_count": 10,
     "metadata": {},
     "output_type": "execute_result"
    }
   ],
   "source": [
    "X"
   ]
  },
  {
   "cell_type": "code",
   "execution_count": 12,
   "metadata": {},
   "outputs": [
    {
     "data": {
      "text/plain": [
       "array(['R', 'R', 'R', 'R', 'R', 'R', 'R', 'R', 'R', 'R', 'R', 'R', 'R',\n",
       "       'R', 'R', 'R', 'R', 'R', 'R', 'R', 'R', 'R', 'R', 'R', 'L', 'B',\n",
       "       'R', 'R', 'R', 'B', 'R', 'R', 'R', 'R', 'R', 'R', 'R', 'R', 'R',\n",
       "       'R', 'R', 'R', 'R', 'R', 'R', 'R', 'R', 'R', 'R', 'L', 'L', 'B',\n",
       "       'R', 'R', 'L', 'R', 'R', 'R', 'R', 'B', 'R', 'R', 'R', 'R', 'R',\n",
       "       'R', 'R', 'R', 'R', 'R', 'R', 'R', 'R', 'R', 'L', 'L', 'L', 'B',\n",
       "       'R', 'L', 'B', 'R', 'R', 'R', 'L', 'R', 'R', 'R', 'R', 'B', 'R',\n",
       "       'R', 'R', 'R', 'R', 'R', 'R', 'R', 'R', 'L', 'L', 'L', 'L', 'B',\n",
       "       'L', 'L', 'R', 'R', 'R', 'L', 'R', 'R', 'R', 'R', 'L', 'R', 'R',\n",
       "       'R', 'R', 'B', 'R', 'R', 'R', 'R', 'L', 'B', 'R', 'R', 'R', 'B',\n",
       "       'R', 'R', 'R', 'R', 'R', 'R', 'R', 'R', 'R', 'R', 'R', 'R', 'R',\n",
       "       'R', 'R', 'R', 'R', 'R', 'R', 'L', 'L', 'L', 'B', 'R', 'L', 'B',\n",
       "       'R', 'R', 'R', 'L', 'R', 'R', 'R', 'R', 'B', 'R', 'R', 'R', 'R',\n",
       "       'R', 'R', 'R', 'R', 'R', 'L', 'L', 'L', 'L', 'L', 'L', 'L', 'B',\n",
       "       'R', 'R', 'L', 'B', 'R', 'R', 'R', 'L', 'R', 'R', 'R', 'R', 'L',\n",
       "       'R', 'R', 'R', 'R', 'L', 'L', 'L', 'L', 'L', 'L', 'L', 'L', 'B',\n",
       "       'R', 'L', 'L', 'R', 'R', 'R', 'L', 'B', 'R', 'R', 'R', 'L', 'R',\n",
       "       'R', 'R', 'R', 'L', 'L', 'L', 'L', 'L', 'L', 'L', 'L', 'L', 'B',\n",
       "       'L', 'L', 'L', 'R', 'R', 'L', 'L', 'R', 'R', 'R', 'L', 'B', 'R',\n",
       "       'R', 'R', 'L', 'L', 'B', 'R', 'R', 'L', 'R', 'R', 'R', 'R', 'B',\n",
       "       'R', 'R', 'R', 'R', 'R', 'R', 'R', 'R', 'R', 'R', 'R', 'R', 'R',\n",
       "       'R', 'L', 'L', 'L', 'L', 'L', 'L', 'L', 'B', 'R', 'R', 'L', 'B',\n",
       "       'R', 'R', 'R', 'L', 'R', 'R', 'R', 'R', 'L', 'R', 'R', 'R', 'R',\n",
       "       'L', 'L', 'L', 'L', 'L', 'L', 'L', 'L', 'L', 'R', 'L', 'L', 'B',\n",
       "       'R', 'R', 'L', 'L', 'R', 'R', 'R', 'L', 'R', 'R', 'R', 'R', 'L',\n",
       "       'L', 'L', 'L', 'L', 'L', 'L', 'L', 'L', 'L', 'L', 'L', 'L', 'B',\n",
       "       'R', 'L', 'L', 'B', 'R', 'R', 'L', 'L', 'R', 'R', 'R', 'L', 'L',\n",
       "       'L', 'L', 'L', 'L', 'L', 'L', 'L', 'L', 'L', 'L', 'L', 'L', 'B',\n",
       "       'L', 'L', 'L', 'R', 'R', 'L', 'L', 'B', 'R', 'R', 'L', 'L', 'L',\n",
       "       'B', 'R', 'L', 'B', 'R', 'R', 'R', 'L', 'R', 'R', 'R', 'R', 'B',\n",
       "       'R', 'R', 'R', 'R', 'R', 'R', 'R', 'R', 'R', 'L', 'L', 'L', 'L',\n",
       "       'L', 'L', 'L', 'L', 'B', 'R', 'L', 'L', 'R', 'R', 'R', 'L', 'B',\n",
       "       'R', 'R', 'R', 'L', 'R', 'R', 'R', 'R', 'L', 'L', 'L', 'L', 'L',\n",
       "       'L', 'L', 'L', 'L', 'L', 'L', 'L', 'L', 'B', 'R', 'L', 'L', 'B',\n",
       "       'R', 'R', 'L', 'L', 'R', 'R', 'R', 'L', 'L', 'L', 'L', 'L', 'L',\n",
       "       'L', 'L', 'L', 'L', 'L', 'L', 'L', 'L', 'L', 'L', 'L', 'L', 'B',\n",
       "       'R', 'L', 'L', 'L', 'R', 'R', 'L', 'L', 'L', 'L', 'L', 'L', 'L',\n",
       "       'L', 'L', 'L', 'L', 'L', 'L', 'L', 'L', 'L', 'L', 'L', 'L', 'B',\n",
       "       'L', 'L', 'L', 'B', 'R', 'L', 'L', 'L', 'L', 'B', 'L', 'L', 'R',\n",
       "       'R', 'R', 'L', 'R', 'R', 'R', 'R', 'L', 'R', 'R', 'R', 'R', 'B',\n",
       "       'R', 'R', 'R', 'R', 'L', 'L', 'L', 'L', 'L', 'L', 'L', 'L', 'L',\n",
       "       'B', 'L', 'L', 'L', 'R', 'R', 'L', 'L', 'R', 'R', 'R', 'L', 'B',\n",
       "       'R', 'R', 'R', 'L', 'L', 'L', 'L', 'L', 'L', 'L', 'L', 'L', 'L',\n",
       "       'L', 'L', 'L', 'L', 'B', 'L', 'L', 'L', 'R', 'R', 'L', 'L', 'B',\n",
       "       'R', 'R', 'L', 'L', 'L', 'L', 'L', 'L', 'L', 'L', 'L', 'L', 'L',\n",
       "       'L', 'L', 'L', 'L', 'L', 'L', 'L', 'L', 'B', 'L', 'L', 'L', 'B',\n",
       "       'R', 'L', 'L', 'L', 'L', 'L', 'L', 'L', 'L', 'L', 'L', 'L', 'L',\n",
       "       'L', 'L', 'L', 'L', 'L', 'L', 'L', 'L', 'L', 'L', 'L', 'L', 'B'],\n",
       "      dtype=object)"
      ]
     },
     "execution_count": 12,
     "metadata": {},
     "output_type": "execute_result"
    }
   ],
   "source": [
    "y"
   ]
  },
  {
   "cell_type": "markdown",
   "metadata": {},
   "source": [
    "* Spliting data into Training and testing data"
   ]
  },
  {
   "cell_type": "code",
   "execution_count": 13,
   "metadata": {},
   "outputs": [],
   "source": [
    "X_train , X_test , y_train , y_test = train_test_split( X , y , test_size = 0.33 , random_state = 44 , shuffle = True)"
   ]
  },
  {
   "cell_type": "markdown",
   "metadata": {},
   "source": [
    "* Appling Decision Tree Classifier"
   ]
  },
  {
   "cell_type": "code",
   "execution_count": 17,
   "metadata": {},
   "outputs": [
    {
     "data": {
      "image/png": "[encoded data removed]",
      "text/plain": [
       "<Figure size 432x288 with 2 Axes>"
      ]
     },
     "metadata": {
      "needs_background": "light"
     },
     "output_type": "display_data"
    },
    {
     "name": "stdout",
     "output_type": "stream",
     "text": [
      "The Model_Classes :: ['B' 'L' 'R']\n",
      "========\n",
      "The Model_Feature_importances :: \n",
      "[0.32587474 0.36321762 0.31090764]\n",
      "=======\n",
      "The Model_Training_score :: 0.7990430622009569\n",
      "======\n",
      "The Model_Testing_score :: 0.6747572815533981\n",
      "========\n",
      "The y_pred :: ['R' 'L' 'L' 'L' 'L' 'R' 'L' 'R' 'R' 'L']\n",
      "=======\n",
      "y_real ::['R' 'L' 'L' 'L' 'L' 'R' 'L' 'R' 'R' 'L']\n",
      "========\n",
      "The Model_Report :: \n",
      "              precision    recall  f1-score   support\n",
      "\n",
      "           B       0.00      0.00      0.00        15\n",
      "           L       0.63      0.73      0.68        90\n",
      "           R       0.74      0.72      0.73       101\n",
      "\n",
      "    accuracy                           0.67       206\n",
      "   macro avg       0.46      0.49      0.47       206\n",
      "weighted avg       0.64      0.67      0.66       206\n",
      "\n",
      "========\n",
      "The C_M :: \n",
      "[[ 0 12  3]\n",
      " [ 2 66 22]\n",
      " [ 1 27 73]]\n",
      "=========\n",
      "Model_Accuracy :: 0.6747572815533981\n",
      "========\n",
      "The y_prop ::\n",
      " [[0.28571429 0.         0.71428571]\n",
      " [0.08333333 0.79166667 0.125     ]\n",
      " [0.25       0.375      0.375     ]\n",
      " [0.08333333 0.79166667 0.125     ]\n",
      " [0.08333333 0.79166667 0.125     ]\n",
      " [0.28571429 0.         0.71428571]\n",
      " [0.04545455 0.90909091 0.04545455]\n",
      " [0.15384615 0.23076923 0.61538462]\n",
      " [0.28571429 0.         0.71428571]\n",
      " [0.         0.57894737 0.42105263]]\n"
     ]
    }
   ],
   "source": [
    "DT_Classifier_Model = DecisionTreeClassifier(criterion=\"gini\" , max_depth=5 , random_state=44 )\n",
    "DT_Classifier_Model.fit(X_train , y_train)\n",
    "Model_Classes = DT_Classifier_Model.classes_\n",
    "Model_Feature_importances = DT_Classifier_Model.feature_importances_\n",
    "Model_Training_score = DT_Classifier_Model.score(X_train , y_train)\n",
    "Model_Testing_score = DT_Classifier_Model.score(X_test , y_test)\n",
    "y_pred = DT_Classifier_Model.predict(X_test)\n",
    "y_prop = DT_Classifier_Model.predict_proba(X_test)\n",
    "Model_Report = classification_report(y_test , y_pred)\n",
    "Model_Accuracy = accuracy_score(y_test , y_pred , normalize=True)\n",
    "C_M = confusion_matrix(y_test , y_pred)\n",
    "\n",
    "sns.heatmap(C_M , center=True)\n",
    "plt.show()\n",
    "\n",
    "print(f\"The Model_Classes :: {Model_Classes}\\n========\\nThe Model_Feature_importances \\\n",
    ":: \\n{Model_Feature_importances}\\n=======\\nThe Model_Training_score :: {Model_Training_score}\\n======\\n\\\n",
    "The Model_Testing_score :: {Model_Testing_score}\\n========\\nThe y_pred :: {y_pred[:10]}\\n=======\\n\\\n",
    "y_real ::{y_pred[:10]}\\n========\\nThe Model_Report :: \\n{Model_Report}\\n========\\nThe C_M :: \\n{C_M}\\\n",
    "\\n=========\\nModel_Accuracy :: {Model_Accuracy}\\n========\\nThe y_prop ::\\n {y_prop[:10]}\")"
   ]
  },
  {
   "cell_type": "markdown",
   "metadata": {},
   "source": [
    "* Chanching Decision_Tree_Hyperpramerer"
   ]
  },
  {
   "cell_type": "code",
   "execution_count": 19,
   "metadata": {},
   "outputs": [
    {
     "data": {
      "image/png": "[encoded data removed]",
      "text/plain": [
       "<Figure size 432x288 with 2 Axes>"
      ]
     },
     "metadata": {
      "needs_background": "light"
     },
     "output_type": "display_data"
    },
    {
     "name": "stdout",
     "output_type": "stream",
     "text": [
      "The Model_Classes :: ['B' 'L' 'R']\n",
      "========\n",
      "The Model_Feature_importances :: \n",
      "[0.3601579  0.30999734 0.32984476]\n",
      "=======\n",
      "The Model_Training_score :: 0.7942583732057417\n",
      "======\n",
      "The Model_Testing_score :: 0.7378640776699029\n",
      "========\n",
      "The y_pred :: ['R' 'L' 'L' 'L' 'L' 'R' 'L' 'R' 'R' 'R']\n",
      "=======\n",
      "y_real ::['R' 'L' 'L' 'L' 'L' 'R' 'L' 'R' 'R' 'R']\n",
      "========\n",
      "The Model_Report :: \n",
      "              precision    recall  f1-score   support\n",
      "\n",
      "           B       0.00      0.00      0.00        15\n",
      "           L       0.70      0.79      0.74        90\n",
      "           R       0.80      0.80      0.80       101\n",
      "\n",
      "    accuracy                           0.74       206\n",
      "   macro avg       0.50      0.53      0.51       206\n",
      "weighted avg       0.70      0.74      0.72       206\n",
      "\n",
      "========\n",
      "The C_M :: \n",
      "[[ 0 12  3]\n",
      " [ 2 71 17]\n",
      " [ 1 19 81]]\n",
      "=========\n",
      "Model_Accuracy :: 0.7378640776699029\n",
      "========\n",
      "The y_prop ::\n",
      " [[0.28571429 0.         0.71428571]\n",
      " [0.08333333 0.91666667 0.        ]\n",
      " [0.25       0.375      0.375     ]\n",
      " [0.08333333 0.91666667 0.        ]\n",
      " [0.08333333 0.66666667 0.25      ]\n",
      " [0.11538462 0.         0.88461538]\n",
      " [0.04545455 0.90909091 0.04545455]\n",
      " [0.15384615 0.23076923 0.61538462]\n",
      " [0.11538462 0.         0.88461538]\n",
      " [0.         0.45454545 0.54545455]]\n"
     ]
    }
   ],
   "source": [
    "DT_Classifier_Model = DecisionTreeClassifier(criterion=\"entropy\" , max_depth=5 , random_state=44 )\n",
    "DT_Classifier_Model.fit(X_train , y_train)\n",
    "Model_Classes = DT_Classifier_Model.classes_\n",
    "Model_Feature_importances = DT_Classifier_Model.feature_importances_\n",
    "Model_Training_score = DT_Classifier_Model.score(X_train , y_train)\n",
    "Model_Testing_score = DT_Classifier_Model.score(X_test , y_test)\n",
    "y_pred = DT_Classifier_Model.predict(X_test)\n",
    "y_prop = DT_Classifier_Model.predict_proba(X_test)\n",
    "Model_Report = classification_report(y_test , y_pred)\n",
    "Model_Accuracy = accuracy_score(y_test , y_pred , normalize=True)\n",
    "C_M = confusion_matrix(y_test , y_pred)\n",
    "\n",
    "sns.heatmap(C_M , center=True)\n",
    "plt.show()\n",
    "\n",
    "print(f\"The Model_Classes :: {Model_Classes}\\n========\\nThe Model_Feature_importances \\\n",
    ":: \\n{Model_Feature_importances}\\n=======\\nThe Model_Training_score :: {Model_Training_score}\\n======\\n\\\n",
    "The Model_Testing_score :: {Model_Testing_score}\\n========\\nThe y_pred :: {y_pred[:10]}\\n=======\\n\\\n",
    "y_real ::{y_pred[:10]}\\n========\\nThe Model_Report :: \\n{Model_Report}\\n========\\nThe C_M :: \\n{C_M}\\\n",
    "\\n=========\\nModel_Accuracy :: {Model_Accuracy}\\n========\\nThe y_prop ::\\n {y_prop[:10]}\")"
   ]
  },
  {
   "cell_type": "code",
   "execution_count": null,
   "metadata": {},
   "outputs": [],
   "source": []
  }
 ],
 "metadata": {
  "kernelspec": {
   "display_name": "Python 3",
   "language": "python",
   "name": "python3"
  },
  "language_info": {
   "codemirror_mode": {
    "name": "ipython",
    "version": 3
   },
   "file_extension": ".py",
   "mimetype": "text/x-python",
   "name": "python",
   "nbconvert_exporter": "python",
   "pygments_lexer": "ipython3",
   "version": "3.7.4"
  }
 },
 "nbformat": 4,
 "nbformat_minor": 2
}
