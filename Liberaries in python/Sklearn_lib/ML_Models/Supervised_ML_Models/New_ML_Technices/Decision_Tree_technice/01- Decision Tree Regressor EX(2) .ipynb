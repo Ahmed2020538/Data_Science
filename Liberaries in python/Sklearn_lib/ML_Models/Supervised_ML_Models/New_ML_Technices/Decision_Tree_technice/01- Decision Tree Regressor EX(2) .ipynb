{
 "cells": [
  {
   "cell_type": "markdown",
   "metadata": {},
   "source": [
    "# Desision Tree Regressor"
   ]
  },
  {
   "cell_type": "code",
   "execution_count": 7,
   "metadata": {},
   "outputs": [],
   "source": [
    "# Importing Liberaries\n",
    "import numpy as np\n",
    "import pandas as pd\n",
    "import matplotlib.pyplot as plt\n",
    "from sklearn.model_selection import train_test_split\n",
    "from sklearn.tree import DecisionTreeRegressor\n",
    "\n"
   ]
  },
  {
   "cell_type": "code",
   "execution_count": 3,
   "metadata": {},
   "outputs": [
    {
     "data": {
      "text/html": [
       "<div>\n",
       "<style scoped>\n",
       "    .dataframe tbody tr th:only-of-type {\n",
       "        vertical-align: middle;\n",
       "    }\n",
       "\n",
       "    .dataframe tbody tr th {\n",
       "        vertical-align: top;\n",
       "    }\n",
       "\n",
       "    .dataframe thead th {\n",
       "        text-align: right;\n",
       "    }\n",
       "</style>\n",
       "<table border=\"1\" class=\"dataframe\">\n",
       "  <thead>\n",
       "    <tr style=\"text-align: right;\">\n",
       "      <th></th>\n",
       "      <th>1</th>\n",
       "      <th>3026.385</th>\n",
       "    </tr>\n",
       "  </thead>\n",
       "  <tbody>\n",
       "    <tr>\n",
       "      <td>0</td>\n",
       "      <td>1</td>\n",
       "      <td>3554.230769</td>\n",
       "    </tr>\n",
       "    <tr>\n",
       "      <td>1</td>\n",
       "      <td>1</td>\n",
       "      <td>2902.384615</td>\n",
       "    </tr>\n",
       "    <tr>\n",
       "      <td>2</td>\n",
       "      <td>1</td>\n",
       "      <td>3348.076923</td>\n",
       "    </tr>\n",
       "    <tr>\n",
       "      <td>3</td>\n",
       "      <td>2</td>\n",
       "      <td>3068.538462</td>\n",
       "    </tr>\n",
       "    <tr>\n",
       "      <td>4</td>\n",
       "      <td>2</td>\n",
       "      <td>4357.076923</td>\n",
       "    </tr>\n",
       "    <tr>\n",
       "      <td>5</td>\n",
       "      <td>2</td>\n",
       "      <td>4626.923077</td>\n",
       "    </tr>\n",
       "    <tr>\n",
       "      <td>6</td>\n",
       "      <td>2</td>\n",
       "      <td>4188.076923</td>\n",
       "    </tr>\n",
       "    <tr>\n",
       "      <td>7</td>\n",
       "      <td>2</td>\n",
       "      <td>4957.307692</td>\n",
       "    </tr>\n",
       "    <tr>\n",
       "      <td>8</td>\n",
       "      <td>2</td>\n",
       "      <td>4399.153846</td>\n",
       "    </tr>\n",
       "    <tr>\n",
       "      <td>9</td>\n",
       "      <td>3</td>\n",
       "      <td>4862.923077</td>\n",
       "    </tr>\n",
       "    <tr>\n",
       "      <td>10</td>\n",
       "      <td>3</td>\n",
       "      <td>4291.846154</td>\n",
       "    </tr>\n",
       "    <tr>\n",
       "      <td>11</td>\n",
       "      <td>3</td>\n",
       "      <td>4381.307692</td>\n",
       "    </tr>\n",
       "    <tr>\n",
       "      <td>12</td>\n",
       "      <td>3</td>\n",
       "      <td>4390.846154</td>\n",
       "    </tr>\n",
       "    <tr>\n",
       "      <td>13</td>\n",
       "      <td>4</td>\n",
       "      <td>4700.846154</td>\n",
       "    </tr>\n",
       "    <tr>\n",
       "      <td>14</td>\n",
       "      <td>4</td>\n",
       "      <td>5226.000000</td>\n",
       "    </tr>\n",
       "    <tr>\n",
       "      <td>15</td>\n",
       "      <td>4</td>\n",
       "      <td>5079.153846</td>\n",
       "    </tr>\n",
       "    <tr>\n",
       "      <td>16</td>\n",
       "      <td>4</td>\n",
       "      <td>6391.384615</td>\n",
       "    </tr>\n",
       "    <tr>\n",
       "      <td>17</td>\n",
       "      <td>5</td>\n",
       "      <td>6258.692308</td>\n",
       "    </tr>\n",
       "    <tr>\n",
       "      <td>18</td>\n",
       "      <td>5</td>\n",
       "      <td>7226.153846</td>\n",
       "    </tr>\n",
       "    <tr>\n",
       "      <td>19</td>\n",
       "      <td>5</td>\n",
       "      <td>7056.769231</td>\n",
       "    </tr>\n",
       "    <tr>\n",
       "      <td>20</td>\n",
       "      <td>5</td>\n",
       "      <td>7559.461538</td>\n",
       "    </tr>\n",
       "    <tr>\n",
       "      <td>21</td>\n",
       "      <td>6</td>\n",
       "      <td>7792.461538</td>\n",
       "    </tr>\n",
       "    <tr>\n",
       "      <td>22</td>\n",
       "      <td>6</td>\n",
       "      <td>8754.769231</td>\n",
       "    </tr>\n",
       "    <tr>\n",
       "      <td>23</td>\n",
       "      <td>6</td>\n",
       "      <td>8417.769231</td>\n",
       "    </tr>\n",
       "    <tr>\n",
       "      <td>24</td>\n",
       "      <td>7</td>\n",
       "      <td>8121.692308</td>\n",
       "    </tr>\n",
       "    <tr>\n",
       "      <td>25</td>\n",
       "      <td>7</td>\n",
       "      <td>8997.615385</td>\n",
       "    </tr>\n",
       "    <tr>\n",
       "      <td>26</td>\n",
       "      <td>8</td>\n",
       "      <td>8664.230769</td>\n",
       "    </tr>\n",
       "    <tr>\n",
       "      <td>27</td>\n",
       "      <td>8</td>\n",
       "      <td>9414.692308</td>\n",
       "    </tr>\n",
       "    <tr>\n",
       "      <td>28</td>\n",
       "      <td>9</td>\n",
       "      <td>9374.769231</td>\n",
       "    </tr>\n",
       "  </tbody>\n",
       "</table>\n",
       "</div>"
      ],
      "text/plain": [
       "    1     3026.385\n",
       "0   1  3554.230769\n",
       "1   1  2902.384615\n",
       "2   1  3348.076923\n",
       "3   2  3068.538462\n",
       "4   2  4357.076923\n",
       "5   2  4626.923077\n",
       "6   2  4188.076923\n",
       "7   2  4957.307692\n",
       "8   2  4399.153846\n",
       "9   3  4862.923077\n",
       "10  3  4291.846154\n",
       "11  3  4381.307692\n",
       "12  3  4390.846154\n",
       "13  4  4700.846154\n",
       "14  4  5226.000000\n",
       "15  4  5079.153846\n",
       "16  4  6391.384615\n",
       "17  5  6258.692308\n",
       "18  5  7226.153846\n",
       "19  5  7056.769231\n",
       "20  5  7559.461538\n",
       "21  6  7792.461538\n",
       "22  6  8754.769231\n",
       "23  6  8417.769231\n",
       "24  7  8121.692308\n",
       "25  7  8997.615385\n",
       "26  8  8664.230769\n",
       "27  8  9414.692308\n",
       "28  9  9374.769231"
      ]
     },
     "execution_count": 3,
     "metadata": {},
     "output_type": "execute_result"
    }
   ],
   "source": [
    "# Loading dataset\n",
    "\n",
    "path = \"G:\\\\Data Field\\\\D..S..Course\\\\data.sc.Asem\\\\Data\\\\Data\\\\2.8 Decision Tree\\\\data.csv\"\n",
    "data = pd.read_csv(path)\n",
    "data"
   ]
  },
  {
   "cell_type": "code",
   "execution_count": 19,
   "metadata": {},
   "outputs": [],
   "source": [
    "X = data.iloc[ : , 0:1].values\n",
    "y = data.iloc[ : , 1].values"
   ]
  },
  {
   "cell_type": "code",
   "execution_count": 20,
   "metadata": {},
   "outputs": [
    {
     "data": {
      "text/plain": [
       "array([[1],\n",
       "       [1],\n",
       "       [1],\n",
       "       [2],\n",
       "       [2],\n",
       "       [2],\n",
       "       [2],\n",
       "       [2],\n",
       "       [2],\n",
       "       [3],\n",
       "       [3],\n",
       "       [3],\n",
       "       [3],\n",
       "       [4],\n",
       "       [4],\n",
       "       [4],\n",
       "       [4],\n",
       "       [5],\n",
       "       [5],\n",
       "       [5],\n",
       "       [5],\n",
       "       [6],\n",
       "       [6],\n",
       "       [6],\n",
       "       [7],\n",
       "       [7],\n",
       "       [8],\n",
       "       [8],\n",
       "       [9]], dtype=int64)"
      ]
     },
     "execution_count": 20,
     "metadata": {},
     "output_type": "execute_result"
    }
   ],
   "source": [
    "X"
   ]
  },
  {
   "cell_type": "code",
   "execution_count": 21,
   "metadata": {},
   "outputs": [
    {
     "data": {
      "text/plain": [
       "array([3554.230769, 2902.384615, 3348.076923, 3068.538462, 4357.076923,\n",
       "       4626.923077, 4188.076923, 4957.307692, 4399.153846, 4862.923077,\n",
       "       4291.846154, 4381.307692, 4390.846154, 4700.846154, 5226.      ,\n",
       "       5079.153846, 6391.384615, 6258.692308, 7226.153846, 7056.769231,\n",
       "       7559.461538, 7792.461538, 8754.769231, 8417.769231, 8121.692308,\n",
       "       8997.615385, 8664.230769, 9414.692308, 9374.769231])"
      ]
     },
     "execution_count": 21,
     "metadata": {},
     "output_type": "execute_result"
    }
   ],
   "source": [
    "y"
   ]
  },
  {
   "cell_type": "code",
   "execution_count": 22,
   "metadata": {},
   "outputs": [],
   "source": [
    "# Spliting data into training and testing data\n",
    "\n",
    "X_train , X_test , y_train , y_test = train_test_split( X , y , test_size = 0.33 , random_state = 44 , shuffle = True)"
   ]
  },
  {
   "cell_type": "code",
   "execution_count": 23,
   "metadata": {},
   "outputs": [
    {
     "name": "stdout",
     "output_type": "stream",
     "text": [
      "Model_Training_score :: 0.9346925635279404\n",
      "===============\n",
      "The Model_Training_score :: 0.9346925635279404\n",
      "=========\n",
      "y_real ::\n",
      " [4399.153846 7056.769231 3348.076923 8664.230769 8754.769231 4381.307692\n",
      " 8417.769231 5226.       2902.384615 4862.923077]\n",
      "========\n",
      "y_pred :: [4239.5846154  7014.76923067 3554.230769   9414.692308   7792.461538\n",
      " 4341.346154   7792.461538   5390.46153833 3554.230769   4341.346154  ]\n"
     ]
    }
   ],
   "source": [
    "# Appling Desision Tree Regressor\n",
    "\n",
    "Decision_Tree_Reg_Model = DecisionTreeRegressor(max_depth=5 , random_state = 44)\n",
    "Decision_Tree_Reg_Model.fit(X_train , y_train)\n",
    "Model_Training_score  =  Decision_Tree_Reg_Model.score(X_train , y_train)\n",
    "Model_Testing_score  =  Decision_Tree_Reg_Model.score(X_test , y_test)\n",
    "y_pred = Decision_Tree_Reg_Model.predict(X_test)\n",
    "\n",
    "# present details\n",
    "\n",
    "print(f\"Model_Training_score :: {Model_Training_score}\\n===============\\nThe Model_Training_score :: \\\n",
    "{Model_Training_score}\\n=========\\ny_real ::\\n {y_test[:10]}\\n========\\ny_pred :: {y_pred[:10]}\")"
   ]
  },
  {
   "cell_type": "code",
   "execution_count": 24,
   "metadata": {},
   "outputs": [
    {
     "data": {
      "image/png": "[encoded data removed]",
      "text/plain": [
       "<Figure size 432x288 with 1 Axes>"
      ]
     },
     "metadata": {
      "needs_background": "light"
     },
     "output_type": "display_data"
    }
   ],
   "source": [
    "X2 = np.arange(min(X), max(X), 0.01)\n",
    "X2 = X2.reshape((len(X2), 1))\n",
    "plt.scatter(X, y, color = 'r')\n",
    "plt.plot(X2, Decision_Tree_Reg_Model.predict(X2), color = 'g')\n",
    "plt.show()\n"
   ]
  },
  {
   "cell_type": "code",
   "execution_count": null,
   "metadata": {},
   "outputs": [],
   "source": []
  },
  {
   "cell_type": "code",
   "execution_count": null,
   "metadata": {},
   "outputs": [],
   "source": []
  },
  {
   "cell_type": "code",
   "execution_count": 25,
   "metadata": {},
   "outputs": [
    {
     "name": "stdout",
     "output_type": "stream",
     "text": [
      "[['Asset Flip' '100' '1000']\n",
      " ['Text Based' '500' '3000']\n",
      " ['Visual Novel' '1500' '5000']\n",
      " ['2D Pixel Art' '3500' '8000']\n",
      " ['2D Vector Art' '5000' '6500']\n",
      " ['Strategy' '6000' '7000']\n",
      " ['First Person Shooter' '8000' '15000']\n",
      " ['Simulator' '9500' '20000']\n",
      " ['Racing' '12000' '21000']\n",
      " ['RPG' '14000' '25000']\n",
      " ['Sandbox' '15500' '27000']\n",
      " ['Open-World' '16500' '30000']\n",
      " ['MMOFPS' '25000' '52000']\n",
      " ['MMORPG' '30000' '80000']]\n",
      "[[  100]\n",
      " [  500]\n",
      " [ 1500]\n",
      " [ 3500]\n",
      " [ 5000]\n",
      " [ 6000]\n",
      " [ 8000]\n",
      " [ 9500]\n",
      " [12000]\n",
      " [14000]\n",
      " [15500]\n",
      " [16500]\n",
      " [25000]\n",
      " [30000]]\n",
      "[ 1000  3000  5000  8000  6500  7000 15000 20000 21000 25000 27000 30000\n",
      " 52000 80000]\n",
      "Predicted price:  8000\n",
      "\n"
     ]
    },
    {
     "data": {
      "image/png": "[encoded data removed]",
      "text/plain": [
       "<Figure size 432x288 with 1 Axes>"
      ]
     },
     "metadata": {
      "needs_background": "light"
     },
     "output_type": "display_data"
    }
   ],
   "source": [
    "import numpy as np \n",
    "import matplotlib.pyplot as plt \n",
    "\n",
    "\n",
    "dataset = np.array( \n",
    "        [['Asset Flip', 100, 1000], \n",
    "        ['Text Based', 500, 3000], \n",
    "        ['Visual Novel', 1500, 5000], \n",
    "        ['2D Pixel Art', 3500, 8000], \n",
    "        ['2D Vector Art', 5000, 6500], \n",
    "        ['Strategy', 6000, 7000], \n",
    "        ['First Person Shooter', 8000, 15000], \n",
    "        ['Simulator', 9500, 20000], \n",
    "        ['Racing', 12000, 21000], \n",
    "        ['RPG', 14000, 25000], \n",
    "        ['Sandbox', 15500, 27000], \n",
    "        ['Open-World', 16500, 30000], \n",
    "        ['MMOFPS', 25000, 52000], \n",
    "        ['MMORPG', 30000, 80000] ]) \n",
    "\n",
    "print(dataset) \n",
    "X = dataset[:, 1:2].astype(int) \n",
    "print(X) \n",
    "y = dataset[:, 2].astype(int) \n",
    "print(y) \n",
    "\n",
    "from sklearn.tree import DecisionTreeRegressor \n",
    "regressor = DecisionTreeRegressor(random_state = 0) \n",
    "regressor.fit(X, y) \n",
    "y_pred = regressor.predict(np.array(3750).reshape(1,-1)) \n",
    "\n",
    "print(\"Predicted price: % d\\n\"% y_pred) \n",
    "\n",
    "X_grid = np.arange(min(X), max(X), 0.01) \n",
    "X_grid = X_grid.reshape((len(X_grid), 1)) \n",
    "\n",
    "plt.scatter(X, y, color = 'red') \n",
    "\n",
    "plt.plot(X_grid, regressor.predict(X_grid), color = 'blue') \n",
    "\n",
    "plt.title('Profit to Production Cost (Decision Tree Regression)') \n",
    "\n",
    "plt.xlabel('Production Cost') \n",
    "\n",
    "plt.ylabel('Profit') \n",
    "\n",
    "plt.show() \n"
   ]
  },
  {
   "cell_type": "code",
   "execution_count": null,
   "metadata": {},
   "outputs": [],
   "source": []
  }
 ],
 "metadata": {
  "kernelspec": {
   "display_name": "Python 3",
   "language": "python",
   "name": "python3"
  },
  "language_info": {
   "codemirror_mode": {
    "name": "ipython",
    "version": 3
   },
   "file_extension": ".py",
   "mimetype": "text/x-python",
   "name": "python",
   "nbconvert_exporter": "python",
   "pygments_lexer": "ipython3",
   "version": "3.7.4"
  }
 },
 "nbformat": 4,
 "nbformat_minor": 2
}
