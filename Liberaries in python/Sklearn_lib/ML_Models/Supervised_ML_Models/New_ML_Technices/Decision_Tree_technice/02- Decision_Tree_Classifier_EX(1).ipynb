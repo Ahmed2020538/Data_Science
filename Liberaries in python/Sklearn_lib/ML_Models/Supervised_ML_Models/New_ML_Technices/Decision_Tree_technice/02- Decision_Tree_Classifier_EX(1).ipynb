{
 "cells": [
  {
   "cell_type": "markdown",
   "metadata": {},
   "source": [
    "# Decision Tree Classifier"
   ]
  },
  {
   "cell_type": "code",
   "execution_count": null,
   "metadata": {},
   "outputs": [],
   "source": [
    "#Import Libraries\n",
    "from sklearn.tree import DecisionTreeClassifier\n",
    "#----------------------------------------------------\n",
    "\n",
    "#Applying DecisionTreeClassifier Model \n",
    "\n",
    "'''\n",
    "sklearn.tree.DecisionTreeClassifier(criterion='gini’, splitter=’best’, max_depth=None,min_samples_split=2,\n",
    "                                    min_samples_leaf=1,min_weight_fraction_leaf=0.0,max_features=None,\n",
    "                                    random_state=None, max_leaf_nodes=None,min_impurity_decrease=0.0,\n",
    "                                    min_impurity_split=None, class_weight=None,presort=False)\n",
    "'''\n",
    "\n",
    "DecisionTreeClassifierModel = DecisionTreeClassifier(criterion='gini',max_depth=3,random_state=33) #criterion can be entropy\n",
    "DecisionTreeClassifierModel.fit(X_train, y_train)\n",
    "\n",
    "#Calculating Details\n",
    "print('DecisionTreeClassifierModel Train Score is : ' , DecisionTreeClassifierModel.score(X_train, y_train))\n",
    "print('DecisionTreeClassifierModel Test Score is : ' , DecisionTreeClassifierModel.score(X_test, y_test))\n",
    "print('DecisionTreeClassifierModel Classes are : ' , DecisionTreeClassifierModel.classes_)\n",
    "print('DecisionTreeClassifierModel feature importances are : ' , DecisionTreeClassifierModel.feature_importances_)\n",
    "print('----------------------------------------------------')\n",
    "\n",
    "#Calculating Prediction\n",
    "y_pred = DecisionTreeClassifierModel.predict(X_test)\n",
    "y_pred_prob = DecisionTreeClassifierModel.predict_proba(X_test)\n",
    "print('Predicted Value for DecisionTreeClassifierModel is : ' , y_pred[:10])\n",
    "print('Prediction Probabilities Value for DecisionTreeClassifierModel is : ' , y_pred_prob[:10])"
   ]
  },
  {
   "cell_type": "code",
   "execution_count": 6,
   "metadata": {},
   "outputs": [],
   "source": [
    "# importing Liberaries\n",
    "\n",
    "import matplotlib.pyplot as plt\n",
    "import seaborn as sns\n",
    "from sklearn.datasets import load_breast_cancer\n",
    "from sklearn.model_selection import train_test_split\n",
    "from sklearn.tree import DecisionTreeClassifier\n",
    "from sklearn.metrics import classification_report , confusion_matrix , f1_score"
   ]
  },
  {
   "cell_type": "code",
   "execution_count": 9,
   "metadata": {},
   "outputs": [
    {
     "name": "stdout",
     "output_type": "stream",
     "text": [
      "X_data :: \n",
      "[[1.799e+01 1.038e+01 1.228e+02 1.001e+03 1.184e-01 2.776e-01 3.001e-01\n",
      "  1.471e-01 2.419e-01 7.871e-02 1.095e+00 9.053e-01 8.589e+00 1.534e+02\n",
      "  6.399e-03 4.904e-02 5.373e-02 1.587e-02 3.003e-02 6.193e-03 2.538e+01\n",
      "  1.733e+01 1.846e+02 2.019e+03 1.622e-01 6.656e-01 7.119e-01 2.654e-01\n",
      "  4.601e-01 1.189e-01]\n",
      " [2.057e+01 1.777e+01 1.329e+02 1.326e+03 8.474e-02 7.864e-02 8.690e-02\n",
      "  7.017e-02 1.812e-01 5.667e-02 5.435e-01 7.339e-01 3.398e+00 7.408e+01\n",
      "  5.225e-03 1.308e-02 1.860e-02 1.340e-02 1.389e-02 3.532e-03 2.499e+01\n",
      "  2.341e+01 1.588e+02 1.956e+03 1.238e-01 1.866e-01 2.416e-01 1.860e-01\n",
      "  2.750e-01 8.902e-02]\n",
      " [1.969e+01 2.125e+01 1.300e+02 1.203e+03 1.096e-01 1.599e-01 1.974e-01\n",
      "  1.279e-01 2.069e-01 5.999e-02 7.456e-01 7.869e-01 4.585e+00 9.403e+01\n",
      "  6.150e-03 4.006e-02 3.832e-02 2.058e-02 2.250e-02 4.571e-03 2.357e+01\n",
      "  2.553e+01 1.525e+02 1.709e+03 1.444e-01 4.245e-01 4.504e-01 2.430e-01\n",
      "  3.613e-01 8.758e-02]\n",
      " [1.142e+01 2.038e+01 7.758e+01 3.861e+02 1.425e-01 2.839e-01 2.414e-01\n",
      "  1.052e-01 2.597e-01 9.744e-02 4.956e-01 1.156e+00 3.445e+00 2.723e+01\n",
      "  9.110e-03 7.458e-02 5.661e-02 1.867e-02 5.963e-02 9.208e-03 1.491e+01\n",
      "  2.650e+01 9.887e+01 5.677e+02 2.098e-01 8.663e-01 6.869e-01 2.575e-01\n",
      "  6.638e-01 1.730e-01]\n",
      " [2.029e+01 1.434e+01 1.351e+02 1.297e+03 1.003e-01 1.328e-01 1.980e-01\n",
      "  1.043e-01 1.809e-01 5.883e-02 7.572e-01 7.813e-01 5.438e+00 9.444e+01\n",
      "  1.149e-02 2.461e-02 5.688e-02 1.885e-02 1.756e-02 5.115e-03 2.254e+01\n",
      "  1.667e+01 1.522e+02 1.575e+03 1.374e-01 2.050e-01 4.000e-01 1.625e-01\n",
      "  2.364e-01 7.678e-02]\n",
      " [1.245e+01 1.570e+01 8.257e+01 4.771e+02 1.278e-01 1.700e-01 1.578e-01\n",
      "  8.089e-02 2.087e-01 7.613e-02 3.345e-01 8.902e-01 2.217e+00 2.719e+01\n",
      "  7.510e-03 3.345e-02 3.672e-02 1.137e-02 2.165e-02 5.082e-03 1.547e+01\n",
      "  2.375e+01 1.034e+02 7.416e+02 1.791e-01 5.249e-01 5.355e-01 1.741e-01\n",
      "  3.985e-01 1.244e-01]\n",
      " [1.825e+01 1.998e+01 1.196e+02 1.040e+03 9.463e-02 1.090e-01 1.127e-01\n",
      "  7.400e-02 1.794e-01 5.742e-02 4.467e-01 7.732e-01 3.180e+00 5.391e+01\n",
      "  4.314e-03 1.382e-02 2.254e-02 1.039e-02 1.369e-02 2.179e-03 2.288e+01\n",
      "  2.766e+01 1.532e+02 1.606e+03 1.442e-01 2.576e-01 3.784e-01 1.932e-01\n",
      "  3.063e-01 8.368e-02]\n",
      " [1.371e+01 2.083e+01 9.020e+01 5.779e+02 1.189e-01 1.645e-01 9.366e-02\n",
      "  5.985e-02 2.196e-01 7.451e-02 5.835e-01 1.377e+00 3.856e+00 5.096e+01\n",
      "  8.805e-03 3.029e-02 2.488e-02 1.448e-02 1.486e-02 5.412e-03 1.706e+01\n",
      "  2.814e+01 1.106e+02 8.970e+02 1.654e-01 3.682e-01 2.678e-01 1.556e-01\n",
      "  3.196e-01 1.151e-01]\n",
      " [1.300e+01 2.182e+01 8.750e+01 5.198e+02 1.273e-01 1.932e-01 1.859e-01\n",
      "  9.353e-02 2.350e-01 7.389e-02 3.063e-01 1.002e+00 2.406e+00 2.432e+01\n",
      "  5.731e-03 3.502e-02 3.553e-02 1.226e-02 2.143e-02 3.749e-03 1.549e+01\n",
      "  3.073e+01 1.062e+02 7.393e+02 1.703e-01 5.401e-01 5.390e-01 2.060e-01\n",
      "  4.378e-01 1.072e-01]\n",
      " [1.246e+01 2.404e+01 8.397e+01 4.759e+02 1.186e-01 2.396e-01 2.273e-01\n",
      "  8.543e-02 2.030e-01 8.243e-02 2.976e-01 1.599e+00 2.039e+00 2.394e+01\n",
      "  7.149e-03 7.217e-02 7.743e-02 1.432e-02 1.789e-02 1.008e-02 1.509e+01\n",
      "  4.068e+01 9.765e+01 7.114e+02 1.853e-01 1.058e+00 1.105e+00 2.210e-01\n",
      "  4.366e-01 2.075e-01]]\n",
      "===========\n",
      "The y_data :: \n",
      "[0 0 0 0 0 0 0 0 0 0 0 0 0 0 0 0 0 0 0 1 1 1 0 0 0 0 0 0 0 0 0 0 0 0 0 0 0\n",
      " 1 0 0 0 0 0 0 0 0 1 0 1 1 1 1 1 0 0 1 0 0 1 1 1 1 0 1 0 0 1 1 1 1 0 1 0 0\n",
      " 1 0 1 0 0 1 1 1 0 0 1 0 0 0 1 1 1 0 1 1 0 0 1 1 1 0]\n",
      "=========\n",
      "The_X_shap :: (569, 30)\n",
      "=========\n",
      "The y_shap :: (569,)\n"
     ]
    }
   ],
   "source": [
    "X , y = load_breast_cancer( return_X_y=True)\n",
    "print(f\"X_data :: \\n{X[:10]}\\n===========\\nThe y_data :: \\n{y[:100]}\\n=========\\n\\\n",
    "The_X_shap :: {X.shape}\\n=========\\nThe y_shap :: {y.shape}\")"
   ]
  },
  {
   "cell_type": "markdown",
   "metadata": {},
   "source": [
    "* Spliting data into Training and Testing data"
   ]
  },
  {
   "cell_type": "code",
   "execution_count": 10,
   "metadata": {},
   "outputs": [],
   "source": [
    "X_train , X_test , y_train , y_test = train_test_split( X , y , test_size = 0.33 , random_state = 44 , shuffle = True)"
   ]
  },
  {
   "cell_type": "markdown",
   "metadata": {},
   "source": [
    "* Appling Decision Tree Classifier"
   ]
  },
  {
   "cell_type": "code",
   "execution_count": 34,
   "metadata": {},
   "outputs": [
    {
     "name": "stdout",
     "output_type": "stream",
     "text": [
      "The Model_Classes :: [0 1]\n",
      "========\n",
      "The Model_Feature_importances :: \n",
      "[0.         0.05000217 0.         0.         0.         0.\n",
      " 0.         0.         0.         0.         0.         0.\n",
      " 0.         0.00560671 0.         0.         0.         0.\n",
      " 0.         0.         0.         0.         0.69700586 0.03876761\n",
      " 0.04492443 0.         0.         0.15225636 0.01143685 0.        ]\n",
      "=======\n",
      "The Model_Training_score :: 0.989501312335958\n",
      "======\n",
      "The Model_Testing_score :: 0.925531914893617\n",
      "========\n",
      "The y_pred :: [0 0 1 0 1 1 1 0 0 1]\n",
      "=======\n",
      "y_real ::[0 0 1 0 1 1 1 0 0 1]\n",
      "========\n",
      "The Model_Report :: \n",
      "              precision    recall  f1-score   support\n",
      "\n",
      "           0       0.88      0.93      0.90        68\n",
      "           1       0.96      0.93      0.94       120\n",
      "\n",
      "    accuracy                           0.93       188\n",
      "   macro avg       0.92      0.93      0.92       188\n",
      "weighted avg       0.93      0.93      0.93       188\n",
      "\n",
      "========\n",
      "The C_M :: \n",
      "[[ 63   5]\n",
      " [  9 111]]\n",
      "=========\n",
      "The y_prop ::\n",
      " [[0.75       0.25      ]\n",
      " [1.         0.        ]\n",
      " [0.0047619  0.9952381 ]\n",
      " [1.         0.        ]\n",
      " [0.33333333 0.66666667]\n",
      " [0.0047619  0.9952381 ]\n",
      " [0.0047619  0.9952381 ]\n",
      " [1.         0.        ]\n",
      " [1.         0.        ]\n",
      " [0.0047619  0.9952381 ]]\n"
     ]
    }
   ],
   "source": [
    "DT_Classifier_Model = DecisionTreeClassifier(criterion=\"gini\" , max_depth=5 , random_state=44 )\n",
    "DT_Classifier_Model.fit(X_train , y_train)\n",
    "Model_Classes = DT_Classifier_Model.classes_\n",
    "Model_Feature_importances = DT_Classifier_Model.feature_importances_\n",
    "Model_Training_score = DT_Classifier_Model.score(X_train , y_train)\n",
    "Model_Testing_score = DT_Classifier_Model.score(X_test , y_test)\n",
    "y_pred = DT_Classifier_Model.predict(X_test)\n",
    "y_prop = DT_Classifier_Model.predict_proba(X_test)\n",
    "Model_Report = classification_report(y_test , y_pred)\n",
    "C_M = confusion_matrix(y_test , y_pred)\n",
    "\n",
    "print(f\"The Model_Classes :: {Model_Classes}\\n========\\nThe Model_Feature_importances \\\n",
    ":: \\n{Model_Feature_importances}\\n=======\\nThe Model_Training_score :: {Model_Training_score}\\n======\\n\\\n",
    "The Model_Testing_score :: {Model_Testing_score}\\n========\\nThe y_pred :: {y_pred[:10]}\\n=======\\n\\\n",
    "y_real ::{y_pred[:10]}\\n========\\nThe Model_Report :: \\n{Model_Report}\\n========\\nThe C_M :: \\n{C_M}\\\n",
    "\\n=========\\nThe y_prop ::\\n {y_prop[:10]}\")"
   ]
  },
  {
   "cell_type": "code",
   "execution_count": 35,
   "metadata": {},
   "outputs": [
    {
     "data": {
      "image/png": "[encoded data removed]",
      "text/plain": [
       "<Figure size 432x288 with 2 Axes>"
      ]
     },
     "metadata": {
      "needs_background": "light"
     },
     "output_type": "display_data"
    }
   ],
   "source": [
    "sns.heatmap(C_M , center=True)\n",
    "plt.show()"
   ]
  },
  {
   "cell_type": "markdown",
   "metadata": {},
   "source": [
    "* Changing Desision_Tree_Classifier_Hyperprameterm"
   ]
  },
  {
   "cell_type": "code",
   "execution_count": 36,
   "metadata": {},
   "outputs": [
    {
     "name": "stdout",
     "output_type": "stream",
     "text": [
      "The Model_Classes :: [0 1]\n",
      "========\n",
      "The Model_Feature_importances :: \n",
      "[0.         0.         0.         0.         0.         0.\n",
      " 0.         0.         0.         0.         0.         0.\n",
      " 0.0114659  0.03497616 0.         0.         0.         0.\n",
      " 0.         0.         0.         0.03913467 0.64130418 0.0117828\n",
      " 0.         0.         0.         0.23766932 0.02366697 0.        ]\n",
      "=======\n",
      "The Model_Training_score :: 0.989501312335958\n",
      "======\n",
      "The Model_Testing_score :: 0.9308510638297872\n",
      "========\n",
      "The y_pred :: [0 0 1 0 1 1 1 0 0 1]\n",
      "=======\n",
      "y_real ::[0 0 1 0 1 1 1 0 0 1]\n",
      "========\n",
      "The Model_Report :: \n",
      "              precision    recall  f1-score   support\n",
      "\n",
      "           0       0.90      0.91      0.91        68\n",
      "           1       0.95      0.94      0.95       120\n",
      "\n",
      "    accuracy                           0.93       188\n",
      "   macro avg       0.92      0.93      0.93       188\n",
      "weighted avg       0.93      0.93      0.93       188\n",
      "\n",
      "========\n",
      "The C_M :: \n",
      "[[ 62   6]\n",
      " [  7 113]]\n",
      "=========\n",
      "The y_prop ::\n",
      " [[0.91666667 0.08333333]\n",
      " [1.         0.        ]\n",
      " [0.         1.        ]\n",
      " [1.         0.        ]\n",
      " [0.         1.        ]\n",
      " [0.         1.        ]\n",
      " [0.         1.        ]\n",
      " [1.         0.        ]\n",
      " [1.         0.        ]\n",
      " [0.         1.        ]]\n"
     ]
    }
   ],
   "source": [
    "DT_Classifier_Model = DecisionTreeClassifier(criterion=\"entropy\" , max_depth=5 , random_state=44 )\n",
    "DT_Classifier_Model.fit(X_train , y_train)\n",
    "Model_Classes = DT_Classifier_Model.classes_\n",
    "Model_Feature_importances = DT_Classifier_Model.feature_importances_\n",
    "Model_Training_score = DT_Classifier_Model.score(X_train , y_train)\n",
    "Model_Testing_score = DT_Classifier_Model.score(X_test , y_test)\n",
    "y_pred = DT_Classifier_Model.predict(X_test)\n",
    "y_prop = DT_Classifier_Model.predict_proba(X_test)\n",
    "Model_Report = classification_report(y_test , y_pred)\n",
    "C_M = confusion_matrix(y_test , y_pred)\n",
    "\n",
    "print(f\"The Model_Classes :: {Model_Classes}\\n========\\nThe Model_Feature_importances \\\n",
    ":: \\n{Model_Feature_importances}\\n=======\\nThe Model_Training_score :: {Model_Training_score}\\n======\\n\\\n",
    "The Model_Testing_score :: {Model_Testing_score}\\n========\\nThe y_pred :: {y_pred[:10]}\\n=======\\n\\\n",
    "y_real ::{y_pred[:10]}\\n========\\nThe Model_Report :: \\n{Model_Report}\\n========\\nThe C_M :: \\n{C_M}\\\n",
    "\\n=========\\nThe y_prop ::\\n {y_prop[:10]}\")"
   ]
  },
  {
   "cell_type": "code",
   "execution_count": 37,
   "metadata": {},
   "outputs": [
    {
     "data": {
      "image/png": "[encoded data removed]",
      "text/plain": [
       "<Figure size 432x288 with 2 Axes>"
      ]
     },
     "metadata": {
      "needs_background": "light"
     },
     "output_type": "display_data"
    }
   ],
   "source": [
    "sns.heatmap(C_M , center=True)\n",
    "plt.show()"
   ]
  },
  {
   "cell_type": "code",
   "execution_count": 38,
   "metadata": {},
   "outputs": [
    {
     "name": "stdout",
     "output_type": "stream",
     "text": [
      "The Model_Classes :: [0 1]\n",
      "========\n",
      "The Model_Feature_importances :: \n",
      "[0.01780787 0.         0.         0.         0.         0.\n",
      " 0.         0.         0.         0.         0.         0.\n",
      " 0.01097519 0.03347929 0.         0.         0.         0.\n",
      " 0.         0.         0.02450782 0.03745982 0.58935043 0.01127854\n",
      " 0.02498918 0.         0.0226541  0.22749777 0.         0.        ]\n",
      "=======\n",
      "The Model_Training_score :: 1.0\n",
      "======\n",
      "The Model_Testing_score :: 0.9361702127659575\n",
      "========\n",
      "The y_pred :: [0 0 1 0 1 1 1 0 0 1]\n",
      "=======\n",
      "y_real ::[0 0 1 0 1 1 1 0 0 1]\n",
      "========\n",
      "The Model_Report :: \n",
      "              precision    recall  f1-score   support\n",
      "\n",
      "           0       0.89      0.94      0.91        68\n",
      "           1       0.97      0.93      0.95       120\n",
      "\n",
      "    accuracy                           0.94       188\n",
      "   macro avg       0.93      0.94      0.93       188\n",
      "weighted avg       0.94      0.94      0.94       188\n",
      "\n",
      "========\n",
      "The C_M :: \n",
      "[[ 64   4]\n",
      " [  8 112]]\n",
      "=========\n",
      "The y_prop ::\n",
      " [[1. 0.]\n",
      " [1. 0.]\n",
      " [0. 1.]\n",
      " [1. 0.]\n",
      " [0. 1.]\n",
      " [0. 1.]\n",
      " [0. 1.]\n",
      " [1. 0.]\n",
      " [1. 0.]\n",
      " [0. 1.]]\n"
     ]
    }
   ],
   "source": [
    "DT_Classifier_Model = DecisionTreeClassifier(criterion=\"entropy\" , max_depth=10 , random_state=44 )\n",
    "DT_Classifier_Model.fit(X_train , y_train)\n",
    "Model_Classes = DT_Classifier_Model.classes_\n",
    "Model_Feature_importances = DT_Classifier_Model.feature_importances_\n",
    "Model_Training_score = DT_Classifier_Model.score(X_train , y_train)\n",
    "Model_Testing_score = DT_Classifier_Model.score(X_test , y_test)\n",
    "y_pred = DT_Classifier_Model.predict(X_test)\n",
    "y_prop = DT_Classifier_Model.predict_proba(X_test)\n",
    "Model_Report = classification_report(y_test , y_pred)\n",
    "C_M = confusion_matrix(y_test , y_pred)\n",
    "\n",
    "print(f\"The Model_Classes :: {Model_Classes}\\n========\\nThe Model_Feature_importances \\\n",
    ":: \\n{Model_Feature_importances}\\n=======\\nThe Model_Training_score :: {Model_Training_score}\\n======\\n\\\n",
    "The Model_Testing_score :: {Model_Testing_score}\\n========\\nThe y_pred :: {y_pred[:10]}\\n=======\\n\\\n",
    "y_real ::{y_pred[:10]}\\n========\\nThe Model_Report :: \\n{Model_Report}\\n========\\nThe C_M :: \\n{C_M}\\\n",
    "\\n=========\\nThe y_prop ::\\n {y_prop[:10]}\")"
   ]
  },
  {
   "cell_type": "code",
   "execution_count": 39,
   "metadata": {},
   "outputs": [
    {
     "name": "stdout",
     "output_type": "stream",
     "text": [
      "The Model_Classes :: [0 1]\n",
      "========\n",
      "The Model_Feature_importances :: \n",
      "[0.00366812 0.0483767  0.         0.         0.         0.\n",
      " 0.         0.         0.00744257 0.         0.         0.\n",
      " 0.         0.00542445 0.         0.01106506 0.         0.\n",
      " 0.01395482 0.00744257 0.         0.         0.67434754 0.03750735\n",
      " 0.04346402 0.         0.         0.1473068  0.         0.        ]\n",
      "=======\n",
      "The Model_Training_score :: 1.0\n",
      "======\n",
      "The Model_Testing_score :: 0.9414893617021277\n",
      "========\n",
      "The y_pred :: [0 0 1 0 1 1 1 0 0 1]\n",
      "=======\n",
      "y_real ::[0 0 1 0 1 1 1 0 0 1]\n",
      "========\n",
      "The Model_Report :: \n",
      "              precision    recall  f1-score   support\n",
      "\n",
      "           0       0.89      0.96      0.92        68\n",
      "           1       0.97      0.93      0.95       120\n",
      "\n",
      "    accuracy                           0.94       188\n",
      "   macro avg       0.93      0.94      0.94       188\n",
      "weighted avg       0.94      0.94      0.94       188\n",
      "\n",
      "========\n",
      "The C_M :: \n",
      "[[ 65   3]\n",
      " [  8 112]]\n",
      "=========\n",
      "The y_prop ::\n",
      " [[1. 0.]\n",
      " [1. 0.]\n",
      " [0. 1.]\n",
      " [1. 0.]\n",
      " [0. 1.]\n",
      " [0. 1.]\n",
      " [0. 1.]\n",
      " [1. 0.]\n",
      " [1. 0.]\n",
      " [0. 1.]]\n"
     ]
    }
   ],
   "source": [
    "DT_Classifier_Model = DecisionTreeClassifier(criterion=\"gini\" , max_depth=10 , random_state=44 )\n",
    "DT_Classifier_Model.fit(X_train , y_train)\n",
    "Model_Classes = DT_Classifier_Model.classes_\n",
    "Model_Feature_importances = DT_Classifier_Model.feature_importances_\n",
    "Model_Training_score = DT_Classifier_Model.score(X_train , y_train)\n",
    "Model_Testing_score = DT_Classifier_Model.score(X_test , y_test)\n",
    "y_pred = DT_Classifier_Model.predict(X_test)\n",
    "y_prop = DT_Classifier_Model.predict_proba(X_test)\n",
    "Model_Report = classification_report(y_test , y_pred)\n",
    "C_M = confusion_matrix(y_test , y_pred)\n",
    "\n",
    "print(f\"The Model_Classes :: {Model_Classes}\\n========\\nThe Model_Feature_importances \\\n",
    ":: \\n{Model_Feature_importances}\\n=======\\nThe Model_Training_score :: {Model_Training_score}\\n======\\n\\\n",
    "The Model_Testing_score :: {Model_Testing_score}\\n========\\nThe y_pred :: {y_pred[:10]}\\n=======\\n\\\n",
    "y_real ::{y_pred[:10]}\\n========\\nThe Model_Report :: \\n{Model_Report}\\n========\\nThe C_M :: \\n{C_M}\\\n",
    "\\n=========\\nThe y_prop ::\\n {y_prop[:10]}\")"
   ]
  },
  {
   "cell_type": "code",
   "execution_count": 40,
   "metadata": {},
   "outputs": [
    {
     "data": {
      "image/png": "[encoded data removed]",
      "text/plain": [
       "<Figure size 432x288 with 2 Axes>"
      ]
     },
     "metadata": {
      "needs_background": "light"
     },
     "output_type": "display_data"
    }
   ],
   "source": [
    "sns.heatmap(C_M , center=True)\n",
    "plt.show()"
   ]
  },
  {
   "cell_type": "code",
   "execution_count": null,
   "metadata": {},
   "outputs": [],
   "source": []
  },
  {
   "cell_type": "code",
   "execution_count": null,
   "metadata": {},
   "outputs": [],
   "source": []
  },
  {
   "cell_type": "code",
   "execution_count": null,
   "metadata": {},
   "outputs": [],
   "source": []
  }
 ],
 "metadata": {
  "kernelspec": {
   "display_name": "Python 3",
   "language": "python",
   "name": "python3"
  },
  "language_info": {
   "codemirror_mode": {
    "name": "ipython",
    "version": 3
   },
   "file_extension": ".py",
   "mimetype": "text/x-python",
   "name": "python",
   "nbconvert_exporter": "python",
   "pygments_lexer": "ipython3",
   "version": "3.7.4"
  }
 },
 "nbformat": 4,
 "nbformat_minor": 2
}
