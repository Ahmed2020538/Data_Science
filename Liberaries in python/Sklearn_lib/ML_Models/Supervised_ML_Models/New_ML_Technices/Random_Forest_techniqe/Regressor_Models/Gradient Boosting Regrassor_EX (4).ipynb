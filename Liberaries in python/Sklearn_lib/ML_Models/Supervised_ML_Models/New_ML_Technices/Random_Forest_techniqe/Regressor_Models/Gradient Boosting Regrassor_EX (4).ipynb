{
 "cells": [
  {
   "cell_type": "code",
   "execution_count": 1,
   "metadata": {},
   "outputs": [
    {
     "name": "stdout",
     "output_type": "stream",
     "text": [
      "The shape of our features is: (348, 12)\n",
      "Training Features Shape: (261, 17)\n",
      "Training Labels Shape: (261,)\n",
      "Testing Features Shape: (87, 17)\n",
      "Testing Labels Shape: (87,)\n",
      "Mean Absolute Error: 5.25 degrees.\n",
      "Accuracy: 91.49 %.\n"
     ]
    }
   ],
   "source": [
    "import pandas as pd\n",
    "features = pd.read_csv(\"G:\\\\Data Field\\\\D..S..Course\\\\data.sc.Asem\\\\Data\\Data\\\\2.9 Ensemble Reg\\\\data.csv\")\n",
    "features.head(5)\n",
    "\n",
    "print('The shape of our features is:', features.shape)\n",
    "\n",
    "features.describe()\n",
    "\n",
    "features = pd.get_dummies(features)\n",
    "features.iloc[:,5:].head(5)\n",
    "\n",
    "import numpy as np\n",
    "labels = np.array(features['actual'])\n",
    "\n",
    "features= features.drop('actual', axis = 1)\n",
    "feature_list = list(features.columns)\n",
    "features = np.array(features)\n",
    "\n",
    "\n",
    "from sklearn.model_selection import train_test_split\n",
    "train_features, test_features, train_labels, test_labels = train_test_split(features, labels, test_size = 0.25, random_state = 42)\n",
    "\n",
    "\n",
    "print('Training Features Shape:', train_features.shape)\n",
    "print('Training Labels Shape:', train_labels.shape)\n",
    "print('Testing Features Shape:', test_features.shape)\n",
    "print('Testing Labels Shape:', test_labels.shape)\n",
    "\n",
    "from sklearn.ensemble import  GradientBoostingRegressor\n",
    "\n",
    "model = GradientBoostingRegressor(n_estimators = 100 , learning_rate = 1.5 , max_depth = 1)\n",
    "model.fit(train_features, train_labels)\n",
    "\n",
    "\n",
    "predictions = model.predict(test_features)\n",
    "errors = abs(predictions - test_labels)\n",
    "print('Mean Absolute Error:', round(np.mean(errors), 2), 'degrees.')\n",
    "\n",
    "mape = 100 * (errors / test_labels)\n",
    "accuracy = 100 - np.mean(mape)\n",
    "print('Accuracy:', round(accuracy, 2), '%.')\n",
    "\n",
    "\n",
    "\n"
   ]
  },
  {
   "cell_type": "code",
   "execution_count": null,
   "metadata": {},
   "outputs": [],
   "source": []
  }
 ],
 "metadata": {
  "kernelspec": {
   "display_name": "Python 3",
   "language": "python",
   "name": "python3"
  },
  "language_info": {
   "codemirror_mode": {
    "name": "ipython",
    "version": 3
   },
   "file_extension": ".py",
   "mimetype": "text/x-python",
   "name": "python",
   "nbconvert_exporter": "python",
   "pygments_lexer": "ipython3",
   "version": "3.7.4"
  }
 },
 "nbformat": 4,
 "nbformat_minor": 2
}
