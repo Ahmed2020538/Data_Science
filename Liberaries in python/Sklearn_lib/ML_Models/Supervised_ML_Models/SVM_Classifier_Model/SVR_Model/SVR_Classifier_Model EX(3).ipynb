{
 "cells": [
  {
   "cell_type": "markdown",
   "metadata": {},
   "source": [
    "# SVR_Classifier_Model "
   ]
  },
  {
   "cell_type": "code",
   "execution_count": 45,
   "metadata": {},
   "outputs": [],
   "source": [
    "# import Liberaries\n",
    "import pandas as pd\n",
    "import numpy as np\n",
    "from sklearn.impute import SimpleImputer\n",
    "from sklearn.preprocessing import StandardScaler\n",
    "from sklearn.model_selection import train_test_split\n",
    "from sklearn.svm import SVR\n",
    "from sklearn.metrics import mean_absolute_error , mean_squared_error , median_absolute_error"
   ]
  },
  {
   "cell_type": "code",
   "execution_count": 25,
   "metadata": {},
   "outputs": [
    {
     "data": {
      "text/html": [
       "<div>\n",
       "<style scoped>\n",
       "    .dataframe tbody tr th:only-of-type {\n",
       "        vertical-align: middle;\n",
       "    }\n",
       "\n",
       "    .dataframe tbody tr th {\n",
       "        vertical-align: top;\n",
       "    }\n",
       "\n",
       "    .dataframe thead th {\n",
       "        text-align: right;\n",
       "    }\n",
       "</style>\n",
       "<table border=\"1\" class=\"dataframe\">\n",
       "  <thead>\n",
       "    <tr style=\"text-align: right;\">\n",
       "      <th></th>\n",
       "      <th>latitude</th>\n",
       "      <th>longitude</th>\n",
       "      <th>depth</th>\n",
       "      <th>mag</th>\n",
       "      <th>gap</th>\n",
       "      <th>dmin</th>\n",
       "      <th>rms</th>\n",
       "      <th>horizontalError</th>\n",
       "      <th>depthError</th>\n",
       "      <th>magError</th>\n",
       "      <th>meter</th>\n",
       "    </tr>\n",
       "  </thead>\n",
       "  <tbody>\n",
       "    <tr>\n",
       "      <td>0</td>\n",
       "      <td>5.1033</td>\n",
       "      <td>125.3179</td>\n",
       "      <td>44.32</td>\n",
       "      <td>4.3</td>\n",
       "      <td>131</td>\n",
       "      <td>1.970</td>\n",
       "      <td>0.70</td>\n",
       "      <td>5.0</td>\n",
       "      <td>9.3</td>\n",
       "      <td>0.126</td>\n",
       "      <td>18.0</td>\n",
       "    </tr>\n",
       "    <tr>\n",
       "      <td>1</td>\n",
       "      <td>-8.8535</td>\n",
       "      <td>117.1527</td>\n",
       "      <td>116.88</td>\n",
       "      <td>4.9</td>\n",
       "      <td>59</td>\n",
       "      <td>2.991</td>\n",
       "      <td>1.06</td>\n",
       "      <td>6.5</td>\n",
       "      <td>7.3</td>\n",
       "      <td>0.091</td>\n",
       "      <td>38.0</td>\n",
       "    </tr>\n",
       "    <tr>\n",
       "      <td>2</td>\n",
       "      <td>4.7512</td>\n",
       "      <td>96.2239</td>\n",
       "      <td>10.00</td>\n",
       "      <td>5.3</td>\n",
       "      <td>148</td>\n",
       "      <td>0.862</td>\n",
       "      <td>1.29</td>\n",
       "      <td>6.6</td>\n",
       "      <td>1.8</td>\n",
       "      <td>0.073</td>\n",
       "      <td>18.0</td>\n",
       "    </tr>\n",
       "    <tr>\n",
       "      <td>3</td>\n",
       "      <td>-10.1202</td>\n",
       "      <td>118.7274</td>\n",
       "      <td>10.00</td>\n",
       "      <td>4.5</td>\n",
       "      <td>86</td>\n",
       "      <td>3.764</td>\n",
       "      <td>0.95</td>\n",
       "      <td>7.6</td>\n",
       "      <td>1.9</td>\n",
       "      <td>0.084</td>\n",
       "      <td>42.0</td>\n",
       "    </tr>\n",
       "    <tr>\n",
       "      <td>4</td>\n",
       "      <td>1.4361</td>\n",
       "      <td>127.0142</td>\n",
       "      <td>120.78</td>\n",
       "      <td>4.5</td>\n",
       "      <td>105</td>\n",
       "      <td>0.748</td>\n",
       "      <td>0.76</td>\n",
       "      <td>8.0</td>\n",
       "      <td>6.6</td>\n",
       "      <td>0.089</td>\n",
       "      <td>37.0</td>\n",
       "    </tr>\n",
       "    <tr>\n",
       "      <td>...</td>\n",
       "      <td>...</td>\n",
       "      <td>...</td>\n",
       "      <td>...</td>\n",
       "      <td>...</td>\n",
       "      <td>...</td>\n",
       "      <td>...</td>\n",
       "      <td>...</td>\n",
       "      <td>...</td>\n",
       "      <td>...</td>\n",
       "      <td>...</td>\n",
       "      <td>...</td>\n",
       "    </tr>\n",
       "    <tr>\n",
       "      <td>1364</td>\n",
       "      <td>2.2514</td>\n",
       "      <td>126.9574</td>\n",
       "      <td>47.42</td>\n",
       "      <td>4.3</td>\n",
       "      <td>113</td>\n",
       "      <td>1.525</td>\n",
       "      <td>0.68</td>\n",
       "      <td>9.9</td>\n",
       "      <td>7.9</td>\n",
       "      <td>0.107</td>\n",
       "      <td>25.0</td>\n",
       "    </tr>\n",
       "    <tr>\n",
       "      <td>1365</td>\n",
       "      <td>-11.1391</td>\n",
       "      <td>116.2387</td>\n",
       "      <td>32.76</td>\n",
       "      <td>4.3</td>\n",
       "      <td>121</td>\n",
       "      <td>3.355</td>\n",
       "      <td>1.25</td>\n",
       "      <td>7.7</td>\n",
       "      <td>6.1</td>\n",
       "      <td>0.154</td>\n",
       "      <td>12.0</td>\n",
       "    </tr>\n",
       "    <tr>\n",
       "      <td>1366</td>\n",
       "      <td>-2.8106</td>\n",
       "      <td>102.2034</td>\n",
       "      <td>164.67</td>\n",
       "      <td>4.3</td>\n",
       "      <td>102</td>\n",
       "      <td>1.713</td>\n",
       "      <td>0.64</td>\n",
       "      <td>5.8</td>\n",
       "      <td>7.7</td>\n",
       "      <td>0.101</td>\n",
       "      <td>28.0</td>\n",
       "    </tr>\n",
       "    <tr>\n",
       "      <td>1367</td>\n",
       "      <td>-8.4613</td>\n",
       "      <td>121.6951</td>\n",
       "      <td>181.63</td>\n",
       "      <td>4.5</td>\n",
       "      <td>76</td>\n",
       "      <td>0.563</td>\n",
       "      <td>1.25</td>\n",
       "      <td>8.0</td>\n",
       "      <td>5.9</td>\n",
       "      <td>0.131</td>\n",
       "      <td>17.0</td>\n",
       "    </tr>\n",
       "    <tr>\n",
       "      <td>1368</td>\n",
       "      <td>-8.1306</td>\n",
       "      <td>119.6653</td>\n",
       "      <td>168.28</td>\n",
       "      <td>5.1</td>\n",
       "      <td>50</td>\n",
       "      <td>2.594</td>\n",
       "      <td>1.19</td>\n",
       "      <td>7.1</td>\n",
       "      <td>4.4</td>\n",
       "      <td>0.060</td>\n",
       "      <td>88.0</td>\n",
       "    </tr>\n",
       "  </tbody>\n",
       "</table>\n",
       "<p>1369 rows × 11 columns</p>\n",
       "</div>"
      ],
      "text/plain": [
       "      latitude  longitude   depth  mag  gap   dmin   rms  horizontalError  \\\n",
       "0       5.1033   125.3179   44.32  4.3  131  1.970  0.70              5.0   \n",
       "1      -8.8535   117.1527  116.88  4.9   59  2.991  1.06              6.5   \n",
       "2       4.7512    96.2239   10.00  5.3  148  0.862  1.29              6.6   \n",
       "3     -10.1202   118.7274   10.00  4.5   86  3.764  0.95              7.6   \n",
       "4       1.4361   127.0142  120.78  4.5  105  0.748  0.76              8.0   \n",
       "...        ...        ...     ...  ...  ...    ...   ...              ...   \n",
       "1364    2.2514   126.9574   47.42  4.3  113  1.525  0.68              9.9   \n",
       "1365  -11.1391   116.2387   32.76  4.3  121  3.355  1.25              7.7   \n",
       "1366   -2.8106   102.2034  164.67  4.3  102  1.713  0.64              5.8   \n",
       "1367   -8.4613   121.6951  181.63  4.5   76  0.563  1.25              8.0   \n",
       "1368   -8.1306   119.6653  168.28  5.1   50  2.594  1.19              7.1   \n",
       "\n",
       "      depthError  magError  meter  \n",
       "0            9.3     0.126   18.0  \n",
       "1            7.3     0.091   38.0  \n",
       "2            1.8     0.073   18.0  \n",
       "3            1.9     0.084   42.0  \n",
       "4            6.6     0.089   37.0  \n",
       "...          ...       ...    ...  \n",
       "1364         7.9     0.107   25.0  \n",
       "1365         6.1     0.154   12.0  \n",
       "1366         7.7     0.101   28.0  \n",
       "1367         5.9     0.131   17.0  \n",
       "1368         4.4     0.060   88.0  \n",
       "\n",
       "[1369 rows x 11 columns]"
      ]
     },
     "execution_count": 25,
     "metadata": {},
     "output_type": "execute_result"
    }
   ],
   "source": [
    "# loading dataset\n",
    "path = \"G:\\\\Data Field\\\\D..S..Course\\\\data.sc.Asem\\\\Data\\\\Data\\\\2.4 SVR\\\\Earthquakes.csv\"\n",
    "data = pd.read_csv(path)\n",
    "# present dataset\n",
    "data"
   ]
  },
  {
   "cell_type": "code",
   "execution_count": 26,
   "metadata": {},
   "outputs": [
    {
     "data": {
      "text/plain": [
       "array([[ 5.103300e+00,  1.253179e+02,  4.432000e+01, ...,  9.300000e+00,\n",
       "         1.260000e-01,  1.800000e+01],\n",
       "       [-8.853500e+00,  1.171527e+02,  1.168800e+02, ...,  7.300000e+00,\n",
       "         9.100000e-02,  3.800000e+01],\n",
       "       [ 4.751200e+00,  9.622390e+01,  1.000000e+01, ...,  1.800000e+00,\n",
       "         7.300000e-02,  1.800000e+01],\n",
       "       ...,\n",
       "       [-2.810600e+00,  1.022034e+02,  1.646700e+02, ...,  7.700000e+00,\n",
       "         1.010000e-01,  2.800000e+01],\n",
       "       [-8.461300e+00,  1.216951e+02,  1.816300e+02, ...,  5.900000e+00,\n",
       "         1.310000e-01,  1.700000e+01],\n",
       "       [-8.130600e+00,  1.196653e+02,  1.682800e+02, ...,  4.400000e+00,\n",
       "         6.000000e-02,  8.800000e+01]])"
      ]
     },
     "execution_count": 26,
     "metadata": {},
     "output_type": "execute_result"
    }
   ],
   "source": [
    "# imputing missing data\n",
    "\n",
    "Imp_missing_data = SimpleImputer(missing_values=np.nan , strategy=\"mean\")\n",
    "\n",
    "data = Imp_missing_data.fit_transform(data)\n",
    "\n",
    "data\n",
    "\n",
    "\n"
   ]
  },
  {
   "cell_type": "code",
   "execution_count": 28,
   "metadata": {},
   "outputs": [
    {
     "data": {
      "text/plain": [
       "array([[ 1.11009733,  0.6094858 , -0.44639344, ...,  0.68491471,\n",
       "         0.09052609, -0.42683887],\n",
       "       [-1.38056298, -0.20501984,  0.1144867 , ...,  0.16241702,\n",
       "        -0.60576134,  0.23053864],\n",
       "       [ 1.04726334, -2.29273669, -0.71168294, ..., -1.27445165,\n",
       "        -0.96385201, -0.42683887],\n",
       "       ...,\n",
       "       [-0.30217745, -1.69626184,  0.4838977 , ...,  0.26691656,\n",
       "        -0.40682207, -0.09815011],\n",
       "       [-1.31057294,  0.24809955,  0.61499647, ..., -0.20333137,\n",
       "         0.18999572, -0.45970774],\n",
       "       [-1.25155788,  0.0456203 ,  0.51180257, ..., -0.59520464,\n",
       "        -1.22247306,  1.8739824 ]])"
      ]
     },
     "execution_count": 28,
     "metadata": {},
     "output_type": "execute_result"
    }
   ],
   "source": [
    "# Rescalling data using Standarzation model\n",
    "\n",
    "Rescalling_data = StandardScaler()\n",
    "\n",
    "data = Rescalling_data.fit_transform(data)\n",
    "data"
   ]
  },
  {
   "cell_type": "markdown",
   "metadata": {},
   "source": [
    "* Spliting data into Input ,, outPut data"
   ]
  },
  {
   "cell_type": "code",
   "execution_count": 31,
   "metadata": {},
   "outputs": [],
   "source": [
    "X = data[ : , : -1]\n",
    "y = data[ : , -1]"
   ]
  },
  {
   "cell_type": "code",
   "execution_count": 34,
   "metadata": {},
   "outputs": [
    {
     "name": "stdout",
     "output_type": "stream",
     "text": [
      "X_data ::\n",
      "[[ 1.11009733  0.6094858  -0.44639344 -0.52054698  0.67079943 -0.15615985\n",
      "  -0.58750616 -1.23101894  0.68491471  0.09052609]\n",
      " [-1.38056298 -0.20501984  0.1144867   1.07073434 -0.93759188  0.29056192\n",
      "   0.79695658 -0.65892819  0.16241702 -0.60576134]\n",
      " [ 1.04726334 -2.29273669 -0.71168294  2.13158856  1.0505585  -0.64094705\n",
      "   1.68147444 -0.62078881 -1.27445165 -0.96385201]\n",
      " [-1.60661188 -0.04793832 -0.71168294  0.00988013 -0.33444514  0.62877537\n",
      "   0.3739263  -0.23939498 -1.24832677 -0.74501882]\n",
      " [ 0.45566727  0.77869732  0.14463324  0.00988013  0.08999146 -0.69082588\n",
      "  -0.35676237 -0.08683744 -0.02045718 -0.64554919]\n",
      " [ 0.30749611  0.7053188  -0.47576698 -0.25533343  0.26870161 -0.53681406\n",
      "  -1.85659701  0.06572009  0.13629213  0.5480864 ]\n",
      " [-1.42840675  0.32581735  0.31090297  1.86637501 -1.04928572 -0.783583\n",
      "   0.3739263  -1.8031097  -0.12495672 -1.00363987]\n",
      " [-0.03959881 -1.94714139 -0.43541701  0.54030723  1.89943169 -0.08396682\n",
      "  -1.01053645  0.29455639  0.37141609 -0.66544312]\n",
      " [ 0.3955101  -2.01692879  0.0304629  -0.78576054  1.20692987 -0.39374058\n",
      "  -1.47202403 -0.35381313 -0.49070511  0.01095038]\n",
      " [ 1.4785533   0.7380279  -0.19911455  0.54030723 -0.44613898  1.7812388\n",
      "   0.14318251  0.33269578 -1.24832677 -1.44130625]]\n",
      "======\n",
      "The Y_data ::: \n",
      " [-0.42683887  0.23053864 -0.42683887  0.36201414  0.19766976 -0.59118324\n",
      " -0.39396999  0.26340751 -0.39396999  3.12299965]\n",
      "=====\n",
      "The X_data_shap :: (1369, 10)\n",
      "=====\n",
      "The y_data_shap :: (1369,)\n"
     ]
    }
   ],
   "source": [
    "print(f\"X_data ::\\n{X[:10]}\\n======\\nThe Y_data ::: \\n {y[:10]}\\n=====\\n\\\n",
    "The X_data_shap :: {X.shape}\\n=====\\nThe y_data_shap :: {y.shape}\")"
   ]
  },
  {
   "cell_type": "markdown",
   "metadata": {},
   "source": [
    "* Spliting data into Training and testing data"
   ]
  },
  {
   "cell_type": "code",
   "execution_count": 37,
   "metadata": {},
   "outputs": [
    {
     "name": "stdout",
     "output_type": "stream",
     "text": [
      "The X_train_data ::\n",
      "[[ 1.01758627  0.60126613 -0.51843592 -0.52054698  0.134669    0.07223267\n",
      "   1.14307227 -0.04869806 -1.22220188 -0.04873139]\n",
      " [ 0.80147731  0.74322505 -0.32147857 -0.52054698  1.56435017  0.15405145\n",
      "   0.64312739  1.20990159  0.26691656  1.10511634]\n",
      " [-1.53108974 -0.72006607 -0.51843592 -0.52054698  1.58668894 -0.01614911\n",
      "  -0.31830508  0.21827763 -1.22220188  1.32394954]\n",
      " [ 0.73475299  0.66970687 -0.71168294  0.00988013 -0.49081652  0.13786271\n",
      "   0.2970117   0.10385948 -1.24832677  0.13031394]\n",
      " [ 0.2294756  -2.0669451  -0.39955036 -0.78576054  1.00588096 -0.38367731\n",
      "   0.41238359 -0.04869806  0.65878983  0.38893499]\n",
      " [-1.23381946 -0.55283964  0.36593972 -1.31618765 -0.15573499 -0.7341417\n",
      "   1.41227335 -0.20125559  0.21466679 -0.04873139]\n",
      " [ 0.9855893  -2.25976823 -0.51766294  0.00988013 -0.82589804 -0.62169558\n",
      "  -0.08756129 -0.46823128  0.42366586 -0.38692815]\n",
      " [-1.54386712 -0.74901448 -0.71168294 -0.78576054  1.02821973 -0.0642778\n",
      "   1.10461497  0.37083516 -1.22220188  1.08522242]\n",
      " [-1.22478963 -0.15528284 -0.49887933  0.00988013 -0.40146144  0.51195391\n",
      "   0.87387118  0.18013824  1.78215988  1.66214629]\n",
      " [ 0.65102192  0.75918558 -0.3648432  -0.78576054  0.96120342 -0.21697702\n",
      "  -1.12590834  1.28618036  0.92003868  0.20988965]]\n",
      "====\n",
      "The X_test_data ::\n",
      " [[ 1.25607349  0.77673218  0.43620434 -0.52054698  0.91652589  1.22557117\n",
      "  -1.08745104  1.05734406  0.68491471  0.22978358]\n",
      " [ 1.22636074  0.82229949 -0.71168294 -0.52054698  1.0505585  -0.02358718\n",
      "  -0.12601858 -1.23101894 -1.24832677  0.40882892]\n",
      " [-1.21790127  0.428663   -0.71168294 -1.05097409 -0.75888174 -0.39199045\n",
      "   1.21998686 -1.15474018 -1.24832677  0.86638923]\n",
      " [-0.6203805  -1.65821593 -0.38223543 -0.52054698  1.92177046 -0.82733636\n",
      "  -0.01064669  0.67595023  0.13629213  0.76691959]\n",
      " [-1.62015662 -0.03249651 -0.70518984  2.13158856 -0.35678391  0.58108422\n",
      "  -0.51059157 -0.27753436 -0.6735793  -1.16279128]\n",
      " [ 0.9398156   0.74788353 -0.42235351  1.07073434 -0.11105746  0.34262842\n",
      "   1.02770037 -0.77334634 -0.1510816  -1.12300343]\n",
      " [ 0.96010593  0.6856275   0.12994646 -0.78576054  0.76015451  0.59946063\n",
      "  -0.54904887  1.8964105   1.25966218  0.38893499]\n",
      " [ 0.71580108  0.67687913 -0.1250623   0.00988013 -0.44613898  0.08229594\n",
      "  -1.04899375 -0.08683744 -0.41233045 -0.00894354]\n",
      " [ 0.51607428  0.73044665 -0.49880203 -1.05097409 -0.35678391 -0.44930735\n",
      "  -1.24128024  0.02758071  0.7110396   0.88628315]\n",
      " [-0.86998547  0.60432856  3.41684631  1.07073434 -1.5630774   0.67384133\n",
      "  -0.58750616  0.25641701  0.11016725 -1.30204877]]\n",
      "====\n",
      "The y_train_data :: \n",
      "[-0.36110111 -0.72265874 -0.75552762 -0.42683887 -0.55831437 -0.39396999\n",
      " -0.09815011 -0.72265874 -0.78839649 -0.49257662]\n",
      "=====\n",
      "The y_test_data :: \n",
      "[-0.49257662 -0.55831437 -0.68978987 -0.65692099  1.77537577  1.41381814\n",
      " -0.55831437 -0.36110111 -0.68978987  2.2684089 ]\n",
      "======\n",
      "The X_tarin_shap :: (917, 10)\n",
      "=====\n",
      "The X_test_shap :: (452, 10)\n",
      "=====\n",
      "The y_train_shap :: (917,)\n",
      "===\n",
      "The y_test_shap ::(452,)\n"
     ]
    }
   ],
   "source": [
    "X_train , X_test , y_train , y_test = train_test_split( X , y , test_size = 0.33 , random_state = 44 , shuffle = True)\n",
    "\n",
    "# present data\n",
    "\n",
    "print(f\"The X_train_data ::\\n{X_train[:10]}\\n====\\nThe X_test_data ::\\n {X_test[:10]}\\n====\\nThe y_train_data :: \\\n",
    "\\n{y_train[:10]}\\n=====\\nThe y_test_data :: \\n{y_test[:10]}\\n======\\nThe X_tarin_shap :: {X_train.shape}\\n=====\\n\\\n",
    "The X_test_shap :: {X_test.shape}\\n=====\\nThe y_train_shap :: {y_train.shape}\\n===\\nThe y_test_shap ::\\\n",
    "{y_test.shape}\")"
   ]
  },
  {
   "cell_type": "markdown",
   "metadata": {},
   "source": [
    "* define SVR_Model To classifier data"
   ]
  },
  {
   "cell_type": "code",
   "execution_count": 48,
   "metadata": {},
   "outputs": [],
   "source": [
    "SVR_Model = SVR(C =20 , kernel = \"linear\" , epsilon = 0.01)\n",
    "\n",
    "SVR_Model.fit(X_train , y_train)\n",
    "\n",
    "Model_Coef = SVR_Model.coef_\n",
    "Model_intercept = SVR_Model.intercept_\n",
    "Model_training_Score = SVR_Model.score(X_train , y_train)\n",
    "Model_Testing_Score = SVR_Model.score(X_test , y_test)\n",
    "y_pred = SVR_Model.predict(X_test)\n",
    "MAE = mean_absolute_error(y_test , y_pred , multioutput=\"uniform_average\")\n",
    "MSE = mean_squared_error(y_test , y_pred , multioutput=\"uniform_average\")\n",
    "Mid_A_E = median_absolute_error(y_test , y_pred )\n"
   ]
  },
  {
   "cell_type": "code",
   "execution_count": 49,
   "metadata": {},
   "outputs": [
    {
     "name": "stdout",
     "output_type": "stream",
     "text": [
      "The Model_Coef :: \n",
      "[[ 0.00511112 -0.01150141  0.0239237   0.14912502 -0.01580753  0.01255019\n",
      "  -0.01337433 -0.01287564 -0.0033069  -0.45530721]]\n",
      "====\n",
      "The Model_intercept :: [-0.20821028]\n",
      "=======\n",
      "The Model_training_Score :: 0.4131434798725978\n",
      "=====\n",
      " The Model_Testing_Score :: 0.4578977132675841\n",
      "========\n",
      " The y_pred :: \n",
      "[-0.38297879 -0.48743431 -0.77783512 -0.67803766  0.63987466]\n",
      "The y_real :: \n",
      "[-0.49257662 -0.55831437 -0.68978987 -0.65692099  1.77537577]\n",
      "===\n",
      "The MAE :: 0.3634588842298545\n",
      "======\n",
      "The MSE :: 0.46405839821382355\n",
      "=======\n",
      "The mid_A_E :: 0.1296987698130379\n"
     ]
    }
   ],
   "source": [
    "print(f\"The Model_Coef :: \\n{Model_Coef}\\n====\\nThe Model_intercept :: {Model_intercept}\\n=======\\n\\\n",
    "The Model_training_Score :: {Model_training_Score}\\n=====\\n The Model_Testing_Score :: \\\n",
    "{Model_Testing_Score}\\n========\\n The y_pred :: \\n{y_pred[:5]}\\nThe y_real :: \\n{y_test[:5]}\\n===\\n\\\n",
    "The MAE :: {MAE}\\n======\\nThe MSE :: {MSE}\\n=======\\nThe mid_A_E :: {Mid_A_E}\")"
   ]
  },
  {
   "cell_type": "markdown",
   "metadata": {},
   "source": [
    "* Changing Hyperprameter of SVR_Model"
   ]
  },
  {
   "cell_type": "code",
   "execution_count": 51,
   "metadata": {},
   "outputs": [
    {
     "name": "stderr",
     "output_type": "stream",
     "text": [
      "C:\\ProgramData\\Anaconda3\\lib\\site-packages\\sklearn\\svm\\base.py:193: FutureWarning: The default value of gamma will change from 'auto' to 'scale' in version 0.22 to account better for unscaled features. Set gamma explicitly to 'auto' or 'scale' to avoid this warning.\n",
      "  \"avoid this warning.\", FutureWarning)\n"
     ]
    }
   ],
   "source": [
    "SVR_Model = SVR(C =20 , kernel = \"rbf\" , epsilon = 0.01)\n",
    "\n",
    "SVR_Model.fit(X_train , y_train)\n",
    "\n",
    "#Model_Coef = SVR_Model.coef_\n",
    "#Model_intercept = SVR_Model.intercept_\n",
    "Model_training_Score = SVR_Model.score(X_train , y_train)\n",
    "Model_Testing_Score = SVR_Model.score(X_test , y_test)\n",
    "y_pred = SVR_Model.predict(X_test)\n",
    "MAE = mean_absolute_error(y_test , y_pred , multioutput=\"uniform_average\")\n",
    "MSE = mean_squared_error(y_test , y_pred , multioutput=\"uniform_average\")\n",
    "Mid_A_E = median_absolute_error(y_test , y_pred )\n"
   ]
  },
  {
   "cell_type": "code",
   "execution_count": 52,
   "metadata": {},
   "outputs": [
    {
     "name": "stdout",
     "output_type": "stream",
     "text": [
      "The Model_training_Score :: 0.9637569604443499\n",
      "=====\n",
      " The Model_Testing_Score :: 0.8389422230428307\n",
      "========\n",
      " The y_pred :: \n",
      "[-0.53760144 -0.47285802 -0.69748018 -0.65355527  1.05174414]\n",
      "The y_real :: \n",
      "[-0.49257662 -0.55831437 -0.68978987 -0.65692099  1.77537577]\n",
      "===\n",
      "The MAE :: 0.15120334530219787\n",
      "======\n",
      "The MSE :: 0.13787105464012797\n",
      "=======\n",
      "The mid_A_E :: 0.05365209147113155\n"
     ]
    }
   ],
   "source": [
    "print(f\"The Model_training_Score :: {Model_training_Score}\\n=====\\n The Model_Testing_Score :: \\\n",
    "{Model_Testing_Score}\\n========\\n The y_pred :: \\n{y_pred[:5]}\\nThe y_real :: \\n{y_test[:5]}\\n===\\n\\\n",
    "The MAE :: {MAE}\\n======\\nThe MSE :: {MSE}\\n=======\\nThe mid_A_E :: {Mid_A_E}\")"
   ]
  },
  {
   "cell_type": "code",
   "execution_count": null,
   "metadata": {},
   "outputs": [],
   "source": []
  }
 ],
 "metadata": {
  "kernelspec": {
   "display_name": "Python 3",
   "language": "python",
   "name": "python3"
  },
  "language_info": {
   "codemirror_mode": {
    "name": "ipython",
    "version": 3
   },
   "file_extension": ".py",
   "mimetype": "text/x-python",
   "name": "python",
   "nbconvert_exporter": "python",
   "pygments_lexer": "ipython3",
   "version": "3.7.4"
  }
 },
 "nbformat": 4,
 "nbformat_minor": 2
}
