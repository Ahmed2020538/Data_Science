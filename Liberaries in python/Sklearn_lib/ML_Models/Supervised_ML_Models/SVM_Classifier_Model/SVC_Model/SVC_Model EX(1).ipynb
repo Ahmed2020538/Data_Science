{
 "cells": [
  {
   "cell_type": "code",
   "execution_count": null,
   "metadata": {},
   "outputs": [],
   "source": [
    "# SVC_Model"
   ]
  },
  {
   "cell_type": "code",
   "execution_count": null,
   "metadata": {},
   "outputs": [],
   "source": [
    "#Import Libraries\n",
    "from sklearn.svm import SVC\n",
    "#----------------------------------------------------\n",
    "\n",
    "#Applying SVC Model \n",
    "\n",
    "'''\n",
    "sklearn.svm.SVC(C=1.0, kernel=’rbf’, degree=3, gamma=’auto_deprecated’, coef0=0.0, shrinking=True,\n",
    "                probability=False, tol=0.001, cache_size=200, class_weight=None,verbose=False,\n",
    "                max_iter=-1, decision_function_shape='ovr’, random_state=None)\n",
    "'''\n",
    "\n",
    "SVCModel = SVC(kernel= 'rbf',# it can be also linear,poly,sigmoid,precomputed\n",
    "               max_iter=100,C=1.0,gamma='auto')\n",
    "SVCModel.fit(X_train, y_train)\n",
    "\n",
    "#Calculating Details\n",
    "print('SVCModel Train Score is : ' , SVCModel.score(X_train, y_train))\n",
    "print('SVCModel Test Score is : ' , SVCModel.score(X_test, y_test))\n",
    "print('----------------------------------------------------')\n",
    "\n",
    "#Calculating Prediction\n",
    "y_pred = SVCModel.predict(X_test)\n",
    "print('Predicted Value for SVCModel is : ' , y_pred[:10])"
   ]
  },
  {
   "cell_type": "code",
   "execution_count": 16,
   "metadata": {},
   "outputs": [
    {
     "name": "stderr",
     "output_type": "stream",
     "text": [
      "C:\\ProgramData\\Anaconda3\\lib\\importlib\\_bootstrap.py:219: RuntimeWarning: numpy.ufunc size changed, may indicate binary incompatibility. Expected 192 from C header, got 216 from PyObject\n",
      "  return f(*args, **kwds)\n",
      "C:\\ProgramData\\Anaconda3\\lib\\importlib\\_bootstrap.py:219: RuntimeWarning: numpy.ufunc size changed, may indicate binary incompatibility. Expected 192 from C header, got 216 from PyObject\n",
      "  return f(*args, **kwds)\n"
     ]
    }
   ],
   "source": [
    "# Import Liberaries\n",
    "import matplotlib.pyplot as plt\n",
    "import seaborn as sns\n",
    "from sklearn.datasets import load_breast_cancer\n",
    "from sklearn.model_selection import train_test_split\n",
    "from sklearn.svm import SVC\n",
    "from sklearn.metrics import classification_report , confusion_matrix\n"
   ]
  },
  {
   "cell_type": "code",
   "execution_count": 5,
   "metadata": {},
   "outputs": [
    {
     "name": "stdout",
     "output_type": "stream",
     "text": [
      "The X_data :: \n",
      " [[1.799e+01 1.038e+01 1.228e+02 1.001e+03 1.184e-01 2.776e-01 3.001e-01\n",
      "  1.471e-01 2.419e-01 7.871e-02 1.095e+00 9.053e-01 8.589e+00 1.534e+02\n",
      "  6.399e-03 4.904e-02 5.373e-02 1.587e-02 3.003e-02 6.193e-03 2.538e+01\n",
      "  1.733e+01 1.846e+02 2.019e+03 1.622e-01 6.656e-01 7.119e-01 2.654e-01\n",
      "  4.601e-01 1.189e-01]\n",
      " [2.057e+01 1.777e+01 1.329e+02 1.326e+03 8.474e-02 7.864e-02 8.690e-02\n",
      "  7.017e-02 1.812e-01 5.667e-02 5.435e-01 7.339e-01 3.398e+00 7.408e+01\n",
      "  5.225e-03 1.308e-02 1.860e-02 1.340e-02 1.389e-02 3.532e-03 2.499e+01\n",
      "  2.341e+01 1.588e+02 1.956e+03 1.238e-01 1.866e-01 2.416e-01 1.860e-01\n",
      "  2.750e-01 8.902e-02]\n",
      " [1.969e+01 2.125e+01 1.300e+02 1.203e+03 1.096e-01 1.599e-01 1.974e-01\n",
      "  1.279e-01 2.069e-01 5.999e-02 7.456e-01 7.869e-01 4.585e+00 9.403e+01\n",
      "  6.150e-03 4.006e-02 3.832e-02 2.058e-02 2.250e-02 4.571e-03 2.357e+01\n",
      "  2.553e+01 1.525e+02 1.709e+03 1.444e-01 4.245e-01 4.504e-01 2.430e-01\n",
      "  3.613e-01 8.758e-02]\n",
      " [1.142e+01 2.038e+01 7.758e+01 3.861e+02 1.425e-01 2.839e-01 2.414e-01\n",
      "  1.052e-01 2.597e-01 9.744e-02 4.956e-01 1.156e+00 3.445e+00 2.723e+01\n",
      "  9.110e-03 7.458e-02 5.661e-02 1.867e-02 5.963e-02 9.208e-03 1.491e+01\n",
      "  2.650e+01 9.887e+01 5.677e+02 2.098e-01 8.663e-01 6.869e-01 2.575e-01\n",
      "  6.638e-01 1.730e-01]\n",
      " [2.029e+01 1.434e+01 1.351e+02 1.297e+03 1.003e-01 1.328e-01 1.980e-01\n",
      "  1.043e-01 1.809e-01 5.883e-02 7.572e-01 7.813e-01 5.438e+00 9.444e+01\n",
      "  1.149e-02 2.461e-02 5.688e-02 1.885e-02 1.756e-02 5.115e-03 2.254e+01\n",
      "  1.667e+01 1.522e+02 1.575e+03 1.374e-01 2.050e-01 4.000e-01 1.625e-01\n",
      "  2.364e-01 7.678e-02]\n",
      " [1.245e+01 1.570e+01 8.257e+01 4.771e+02 1.278e-01 1.700e-01 1.578e-01\n",
      "  8.089e-02 2.087e-01 7.613e-02 3.345e-01 8.902e-01 2.217e+00 2.719e+01\n",
      "  7.510e-03 3.345e-02 3.672e-02 1.137e-02 2.165e-02 5.082e-03 1.547e+01\n",
      "  2.375e+01 1.034e+02 7.416e+02 1.791e-01 5.249e-01 5.355e-01 1.741e-01\n",
      "  3.985e-01 1.244e-01]\n",
      " [1.825e+01 1.998e+01 1.196e+02 1.040e+03 9.463e-02 1.090e-01 1.127e-01\n",
      "  7.400e-02 1.794e-01 5.742e-02 4.467e-01 7.732e-01 3.180e+00 5.391e+01\n",
      "  4.314e-03 1.382e-02 2.254e-02 1.039e-02 1.369e-02 2.179e-03 2.288e+01\n",
      "  2.766e+01 1.532e+02 1.606e+03 1.442e-01 2.576e-01 3.784e-01 1.932e-01\n",
      "  3.063e-01 8.368e-02]\n",
      " [1.371e+01 2.083e+01 9.020e+01 5.779e+02 1.189e-01 1.645e-01 9.366e-02\n",
      "  5.985e-02 2.196e-01 7.451e-02 5.835e-01 1.377e+00 3.856e+00 5.096e+01\n",
      "  8.805e-03 3.029e-02 2.488e-02 1.448e-02 1.486e-02 5.412e-03 1.706e+01\n",
      "  2.814e+01 1.106e+02 8.970e+02 1.654e-01 3.682e-01 2.678e-01 1.556e-01\n",
      "  3.196e-01 1.151e-01]\n",
      " [1.300e+01 2.182e+01 8.750e+01 5.198e+02 1.273e-01 1.932e-01 1.859e-01\n",
      "  9.353e-02 2.350e-01 7.389e-02 3.063e-01 1.002e+00 2.406e+00 2.432e+01\n",
      "  5.731e-03 3.502e-02 3.553e-02 1.226e-02 2.143e-02 3.749e-03 1.549e+01\n",
      "  3.073e+01 1.062e+02 7.393e+02 1.703e-01 5.401e-01 5.390e-01 2.060e-01\n",
      "  4.378e-01 1.072e-01]\n",
      " [1.246e+01 2.404e+01 8.397e+01 4.759e+02 1.186e-01 2.396e-01 2.273e-01\n",
      "  8.543e-02 2.030e-01 8.243e-02 2.976e-01 1.599e+00 2.039e+00 2.394e+01\n",
      "  7.149e-03 7.217e-02 7.743e-02 1.432e-02 1.789e-02 1.008e-02 1.509e+01\n",
      "  4.068e+01 9.765e+01 7.114e+02 1.853e-01 1.058e+00 1.105e+00 2.210e-01\n",
      "  4.366e-01 2.075e-01]]\n",
      "=============\n",
      "The y_data :: \n",
      "[0 0 0 0 0 0 0 0 0 0 0 0 0 0 0 0 0 0 0 1 1 1 0 0 0 0 0 0 0 0 0 0 0 0 0 0 0\n",
      " 1 0 0 0 0 0 0 0 0 1 0 1 1 1 1 1 0 0 1 0 0 1 1 1 1 0 1 0 0 1 1 1 1 0 1 0 0\n",
      " 1 0 1 0 0 1 1 1 0 0 1 0 0 0 1 1 1 0 1 1 0 0 1 1 1 0]\n",
      "============\n",
      "The X_Shap :: (569, 30)\n",
      "===========\n",
      "The y_shap ::(569,)\n"
     ]
    }
   ],
   "source": [
    "# Loading data\n",
    "\n",
    "X , y = load_breast_cancer( return_X_y=True)\n",
    "\n",
    "print(f\"The X_data :: \\n {X[:10]}\\n=============\\nThe y_data :: \\n{y[:100]}\\n============\\n\\\n",
    "The X_Shap :: {X.shape}\\n===========\\nThe y_shap ::{y.shape}\")"
   ]
  },
  {
   "cell_type": "markdown",
   "metadata": {},
   "source": [
    "* Spliting data into Training and testing data"
   ]
  },
  {
   "cell_type": "code",
   "execution_count": 10,
   "metadata": {},
   "outputs": [
    {
     "name": "stdout",
     "output_type": "stream",
     "text": [
      "The X_train ::\n",
      "[[1.245e+01 1.570e+01 8.257e+01 4.771e+02 1.278e-01 1.700e-01 1.578e-01\n",
      "  8.089e-02 2.087e-01 7.613e-02 3.345e-01 8.902e-01 2.217e+00 2.719e+01\n",
      "  7.510e-03 3.345e-02 3.672e-02 1.137e-02 2.165e-02 5.082e-03 1.547e+01\n",
      "  2.375e+01 1.034e+02 7.416e+02 1.791e-01 5.249e-01 5.355e-01 1.741e-01\n",
      "  3.985e-01 1.244e-01]\n",
      " [1.152e+01 1.875e+01 7.334e+01 4.090e+02 9.524e-02 5.473e-02 3.036e-02\n",
      "  2.278e-02 1.920e-01 5.907e-02 3.249e-01 9.591e-01 2.183e+00 2.347e+01\n",
      "  8.328e-03 8.722e-03 1.349e-02 8.670e-03 3.218e-02 2.386e-03 1.284e+01\n",
      "  2.247e+01 8.181e+01 5.062e+02 1.249e-01 8.720e-02 9.076e-02 6.316e-02\n",
      "  3.306e-01 7.036e-02]\n",
      " [1.940e+01 1.818e+01 1.272e+02 1.145e+03 1.037e-01 1.442e-01 1.626e-01\n",
      "  9.464e-02 1.893e-01 5.892e-02 4.709e-01 9.951e-01 2.903e+00 5.316e+01\n",
      "  5.654e-03 2.199e-02 3.059e-02 1.499e-02 1.623e-02 1.965e-03 2.379e+01\n",
      "  2.865e+01 1.524e+02 1.628e+03 1.518e-01 3.749e-01 4.316e-01 2.252e-01\n",
      "  3.590e-01 7.787e-02]\n",
      " [1.754e+01 1.932e+01 1.151e+02 9.516e+02 8.968e-02 1.198e-01 1.036e-01\n",
      "  7.488e-02 1.506e-01 5.491e-02 3.971e-01 8.282e-01 3.088e+00 4.073e+01\n",
      "  6.090e-03 2.569e-02 2.713e-02 1.345e-02 1.594e-02 2.658e-03 2.042e+01\n",
      "  2.584e+01 1.395e+02 1.239e+03 1.381e-01 3.420e-01 3.508e-01 1.939e-01\n",
      "  2.928e-01 7.867e-02]\n",
      " [1.029e+01 2.761e+01 6.567e+01 3.214e+02 9.030e-02 7.658e-02 5.999e-02\n",
      "  2.738e-02 1.593e-01 6.127e-02 2.199e-01 2.239e+00 1.437e+00 1.446e+01\n",
      "  1.205e-02 2.736e-02 4.804e-02 1.721e-02 1.843e-02 4.938e-03 1.084e+01\n",
      "  3.491e+01 6.957e+01 3.576e+02 1.384e-01 1.710e-01 2.000e-01 9.127e-02\n",
      "  2.226e-01 8.283e-02]\n",
      " [1.286e+01 1.800e+01 8.319e+01 5.063e+02 9.934e-02 9.546e-02 3.889e-02\n",
      "  2.315e-02 1.718e-01 5.997e-02 2.655e-01 1.095e+00 1.778e+00 2.035e+01\n",
      "  5.293e-03 1.661e-02 2.071e-02 8.179e-03 1.748e-02 2.848e-03 1.424e+01\n",
      "  2.482e+01 9.188e+01 6.221e+02 1.289e-01 2.141e-01 1.731e-01 7.926e-02\n",
      "  2.779e-01 7.918e-02]\n",
      " [1.132e+01 2.708e+01 7.176e+01 3.957e+02 6.883e-02 3.813e-02 1.633e-02\n",
      "  3.125e-03 1.869e-01 5.628e-02 1.210e-01 8.927e-01 1.059e+00 8.605e+00\n",
      "  3.653e-03 1.647e-02 1.633e-02 3.125e-03 1.537e-02 2.052e-03 1.208e+01\n",
      "  3.375e+01 7.982e+01 4.523e+02 9.203e-02 1.432e-01 1.089e-01 2.083e-02\n",
      "  2.849e-01 7.087e-02]\n",
      " [2.048e+01 2.146e+01 1.325e+02 1.306e+03 8.355e-02 8.348e-02 9.042e-02\n",
      "  6.022e-02 1.467e-01 5.177e-02 6.874e-01 1.041e+00 5.144e+00 8.350e+01\n",
      "  7.959e-03 3.133e-02 4.257e-02 1.671e-02 1.341e-02 3.933e-03 2.422e+01\n",
      "  2.617e+01 1.617e+02 1.750e+03 1.228e-01 2.311e-01 3.158e-01 1.445e-01\n",
      "  2.238e-01 7.127e-02]\n",
      " [1.546e+01 1.948e+01 1.017e+02 7.489e+02 1.092e-01 1.223e-01 1.466e-01\n",
      "  8.087e-02 1.931e-01 5.796e-02 4.743e-01 7.859e-01 3.094e+00 4.831e+01\n",
      "  6.240e-03 1.484e-02 2.813e-02 1.093e-02 1.397e-02 2.461e-03 1.926e+01\n",
      "  2.600e+01 1.249e+02 1.156e+03 1.546e-01 2.394e-01 3.791e-01 1.514e-01\n",
      "  2.837e-01 8.019e-02]\n",
      " [1.566e+01 2.320e+01 1.102e+02 7.735e+02 1.109e-01 3.114e-01 3.176e-01\n",
      "  1.377e-01 2.495e-01 8.104e-02 1.292e+00 2.454e+00 1.012e+01 1.385e+02\n",
      "  1.236e-02 5.995e-02 8.232e-02 3.024e-02 2.337e-02 6.042e-03 1.985e+01\n",
      "  3.164e+01 1.437e+02 1.226e+03 1.504e-01 5.172e-01 6.181e-01 2.462e-01\n",
      "  3.277e-01 1.019e-01]]\n",
      "============\n",
      "The X_test :: \n",
      "[[1.328e+01 2.028e+01 8.732e+01 5.452e+02 1.041e-01 1.436e-01 9.847e-02\n",
      "  6.158e-02 1.974e-01 6.782e-02 3.704e-01 8.249e-01 2.427e+00 3.133e+01\n",
      "  5.072e-03 2.147e-02 2.185e-02 9.560e-03 1.719e-02 3.317e-03 1.738e+01\n",
      "  2.800e+01 1.131e+02 9.072e+02 1.530e-01 3.724e-01 3.664e-01 1.492e-01\n",
      "  3.739e-01 1.027e-01]\n",
      " [2.059e+01 2.124e+01 1.378e+02 1.320e+03 1.085e-01 1.644e-01 2.188e-01\n",
      "  1.121e-01 1.848e-01 6.222e-02 5.904e-01 1.216e+00 4.206e+00 7.509e+01\n",
      "  6.666e-03 2.791e-02 4.062e-02 1.479e-02 1.117e-02 3.727e-03 2.386e+01\n",
      "  3.076e+01 1.632e+02 1.760e+03 1.464e-01 3.597e-01 5.179e-01 2.113e-01\n",
      "  2.480e-01 8.999e-02]\n",
      " [1.218e+01 2.052e+01 7.722e+01 4.587e+02 8.013e-02 4.038e-02 2.383e-02\n",
      "  1.770e-02 1.739e-01 5.677e-02 1.924e-01 1.571e+00 1.183e+00 1.468e+01\n",
      "  5.080e-03 6.098e-03 1.069e-02 6.797e-03 1.447e-02 1.532e-03 1.334e+01\n",
      "  3.284e+01 8.458e+01 5.478e+02 1.123e-01 8.862e-02 1.145e-01 7.431e-02\n",
      "  2.694e-01 6.878e-02]\n",
      " [1.973e+01 1.982e+01 1.307e+02 1.206e+03 1.062e-01 1.849e-01 2.417e-01\n",
      "  9.740e-02 1.733e-01 6.697e-02 7.661e-01 7.800e-01 4.115e+00 9.281e+01\n",
      "  8.482e-03 5.057e-02 6.800e-02 1.971e-02 1.467e-02 7.259e-03 2.528e+01\n",
      "  2.559e+01 1.598e+02 1.933e+03 1.710e-01 5.955e-01 8.489e-01 2.507e-01\n",
      "  2.749e-01 1.297e-01]\n",
      " [1.474e+01 2.542e+01 9.470e+01 6.686e+02 8.275e-02 7.214e-02 4.105e-02\n",
      "  3.027e-02 1.840e-01 5.680e-02 3.031e-01 1.385e+00 2.177e+00 2.741e+01\n",
      "  4.775e-03 1.172e-02 1.947e-02 1.269e-02 1.870e-02 2.626e-03 1.651e+01\n",
      "  3.229e+01 1.074e+02 8.264e+02 1.060e-01 1.376e-01 1.611e-01 1.095e-01\n",
      "  2.722e-01 6.956e-02]\n",
      " [1.385e+01 1.960e+01 8.868e+01 5.926e+02 8.684e-02 6.330e-02 1.342e-02\n",
      "  2.293e-02 1.555e-01 5.673e-02 3.419e-01 1.678e+00 2.331e+00 2.963e+01\n",
      "  5.836e-03 1.095e-02 5.812e-03 7.039e-03 2.014e-02 2.326e-03 1.563e+01\n",
      "  2.801e+01 1.009e+02 7.491e+02 1.118e-01 1.141e-01 4.753e-02 5.890e-02\n",
      "  2.513e-01 6.911e-02]\n",
      " [1.234e+01 1.495e+01 7.829e+01 4.691e+02 8.682e-02 4.571e-02 2.109e-02\n",
      "  2.054e-02 1.571e-01 5.708e-02 3.833e-01 9.078e-01 2.602e+00 3.015e+01\n",
      "  7.702e-03 8.491e-03 1.307e-02 1.030e-02 2.970e-02 1.432e-03 1.318e+01\n",
      "  1.685e+01 8.411e+01 5.331e+02 1.048e-01 6.744e-02 4.921e-02 4.793e-02\n",
      "  2.298e-01 5.974e-02]\n",
      " [1.614e+01 1.486e+01 1.043e+02 8.000e+02 9.495e-02 8.501e-02 5.500e-02\n",
      "  4.528e-02 1.735e-01 5.875e-02 2.387e-01 6.372e-01 1.729e+00 2.183e+01\n",
      "  3.958e-03 1.246e-02 1.831e-02 8.747e-03 1.500e-02 1.621e-03 1.771e+01\n",
      "  1.958e+01 1.159e+02 9.479e+02 1.206e-01 1.722e-01 2.310e-01 1.129e-01\n",
      "  2.778e-01 7.012e-02]\n",
      " [1.705e+01 1.908e+01 1.134e+02 8.950e+02 1.141e-01 1.572e-01 1.910e-01\n",
      "  1.090e-01 2.131e-01 6.325e-02 2.959e-01 6.790e-01 2.153e+00 3.198e+01\n",
      "  5.532e-03 2.008e-02 3.055e-02 1.384e-02 1.177e-02 2.336e-03 1.959e+01\n",
      "  2.489e+01 1.335e+02 1.189e+03 1.703e-01 3.934e-01 5.018e-01 2.543e-01\n",
      "  3.109e-01 9.061e-02]\n",
      " [8.726e+00 1.583e+01 5.584e+01 2.309e+02 1.150e-01 8.201e-02 4.132e-02\n",
      "  1.924e-02 1.649e-01 7.633e-02 1.665e-01 5.864e-01 1.354e+00 8.966e+00\n",
      "  8.261e-03 2.213e-02 3.259e-02 1.040e-02 1.708e-02 3.806e-03 9.628e+00\n",
      "  1.962e+01 6.448e+01 2.844e+02 1.724e-01 2.364e-01 2.456e-01 1.050e-01\n",
      "  2.926e-01 1.017e-01]]\n",
      "============\n",
      "The y_train :: \n",
      "[0 1 0 0 1 1 1 0 0 0 0 1 0 1 1 1 0 1 1 0 0 1 1 1 0 0 1 1 1 1 1 1 0 0 1 0 1\n",
      " 1 0 1 0 0 0 0 1 1 1 1 1 0 0 1 1 1 0 1 1 0 1 1 1 1 1 1 1 1 0 0 1 0 1 1 0 1\n",
      " 1 1 1 1 1 0 1 1 1 1 1 1 1 0 0 0 1 0 1 1 0 0 1 1 1 1]\n",
      "==========\n",
      "The y_test ::\n",
      " [0 0 1 0 1 1 1 1 0 1 0 1 0 0 1 1 1 0 0 1 1 1 1 1 1 1 1 1 0 1 1 1 1 1 1 1 1\n",
      " 1 1 1 1 1 0 1 1 1 1 1 1 0 1 1 1 0 1 0 0 1 1 1 1 1 1 0 1 0 0 1 0 0 0 1 0 1\n",
      " 1 0 0 1 0 1 1 1 1 1 1 0 1 1 1 0 1 1 1 1 1 1 0 1 1 0]\n",
      "========\n",
      "The X_train_shap :: (381, 30)\n",
      "======\n",
      "The X_test_shap :n (188, 30)\n",
      "======\n",
      "The y_train_shap :: (381,)\n",
      "=======\n",
      "The y_test :: (188,)\n"
     ]
    }
   ],
   "source": [
    "X_train , X_test , y_train , y_test = train_test_split( X , y , test_size = 0.33 , random_state = 44 , shuffle = True)\n",
    "\n",
    "print(f\"The X_train ::\\n{X_train[:10]}\\n============\\nThe X_test :: \\n{X_test[:10]}\\n============\\n\\\n",
    "The y_train :: \\n{y_train[:100]}\\n==========\\nThe y_test ::\\n {y_test[:100]}\\n========\\n\\\n",
    "The X_train_shap :: {X_train.shape}\\n======\\nThe X_test_shap :n {X_test.shape}\\n======\\n\\\n",
    "The y_train_shap :: {y_train.shape}\\n=======\\nThe y_test :: {y_test.shape}\")"
   ]
  },
  {
   "cell_type": "markdown",
   "metadata": {},
   "source": [
    "* Appling SVC model "
   ]
  },
  {
   "cell_type": "code",
   "execution_count": 18,
   "metadata": {},
   "outputs": [
    {
     "name": "stderr",
     "output_type": "stream",
     "text": [
      "C:\\ProgramData\\Anaconda3\\lib\\site-packages\\sklearn\\svm\\base.py:241: ConvergenceWarning: Solver terminated early (max_iter=100).  Consider pre-processing your data with StandardScaler or MinMaxScaler.\n",
      "  % self.max_iter, ConvergenceWarning)\n"
     ]
    },
    {
     "data": {
      "image/png": "[encoded data removed]",
      "text/plain": [
       "<Figure size 432x288 with 2 Axes>"
      ]
     },
     "metadata": {
      "needs_background": "light"
     },
     "output_type": "display_data"
    },
    {
     "name": "stdout",
     "output_type": "stream",
     "text": [
      "The Model_traing_Score :: 1.0\n",
      "=======\n",
      "The Model_testing_Score ::0.8563829787234043\n",
      "======\n",
      "The y_real ::\n",
      " [0 0 1 0 1 1 1 1 0 1 0 1 0 0 1 1 1 0 0 1 1 1 1 1 1 1 1 1 0 1 1 1 1 1 1 1 1\n",
      " 1 1 1 1 1 0 1 1 1 1 1 1 0 1 1 1 0 1 0 0 1 1 1 1 1 1 0 1 0 0 1 0 0 0 1 0 1\n",
      " 1 0 0 1 0 1 1 1 1 1 1 0 1 1 1 0 1 1 1 1 1 1 0 1 1 0 1 0 0 1 0 1 0 0 0 1 0\n",
      " 0 0 0 1 1 1 1 1 0 0 1 0 0 0 0 0 1 1 0 1 1 1 1 1 1 1 1 1 1 0 1 1 0 1 1 0 0\n",
      " 0 1 1 0 0 1 1 0 1 1 0 0 0 0 0 1 0 0 0 1 1 1 1 1 0 1 0 0 1 1 1 1 1 1 0 1 1\n",
      " 1 1 0]\n",
      "=====\n",
      "The y_pred :: \n",
      "[0 0 1 0 1 0 1 0 0 1 0 1 0 0 1 1 0 0 0 0 1 1 1 1 1 0 1 1 0 1 1 1 1 1 0 1 1\n",
      " 1 1 1 0 1 0 1 1 0 1 1 1 0 0 1 1 0 1 0 0 1 1 0 1 1 1 0 1 0 0 0 0 0 0 1 0 1\n",
      " 1 0 0 1 0 0 1 0 1 1 1 0 1 1 1 0 1 1 1 1 1 1 0 1 1 0 1 0 0 0 0 1 0 0 0 0 0\n",
      " 0 0 0 1 1 0 0 1 0 0 1 0 0 0 0 0 1 1 0 1 1 1 0 1 1 0 1 1 1 0 1 1 0 0 1 0 0\n",
      " 0 1 1 0 0 1 1 0 0 1 0 0 0 1 0 1 0 0 0 0 1 1 0 0 0 1 0 0 1 1 0 1 1 1 0 1 1\n",
      " 1 0 0]\n",
      "====\n",
      "The Con_matrix :: \n",
      "[[67  1]\n",
      " [26 94]]\n"
     ]
    }
   ],
   "source": [
    "SVC_Model = SVC( C = 0.1 , kernel=\"rbf\" , gamma=\"auto\" ,  max_iter=100  )\n",
    "SVC_Model.fit( X_train , y_train)\n",
    "Model_traing_Score = SVC_Model.score( X_train , y_train)\n",
    "Model_testing_Score = SVC_Model.score(X_test , y_test)\n",
    "y_pred = SVC_Model.predict(X_test)\n",
    "\n",
    "C_M = confusion_matrix(y_test , y_pred)\n",
    "sns.heatmap(C_M , center=True)\n",
    "plt.show()\n",
    "\n",
    "print(f\"The Model_traing_Score :: {Model_traing_Score}\\n=======\\nThe Model_testing_Score ::\\\n",
    "{Model_testing_Score}\\n======\\nThe y_real ::\\n {y_test}\\n=====\\nThe y_pred :: \\n{y_pred}\\n====\\n\\\n",
    "The Con_matrix :: \\n{C_M}\")"
   ]
  },
  {
   "cell_type": "markdown",
   "metadata": {},
   "source": [
    "* Changing Hyperprameter of SVC_Model"
   ]
  },
  {
   "cell_type": "code",
   "execution_count": 19,
   "metadata": {},
   "outputs": [
    {
     "name": "stderr",
     "output_type": "stream",
     "text": [
      "C:\\ProgramData\\Anaconda3\\lib\\site-packages\\sklearn\\svm\\base.py:241: ConvergenceWarning: Solver terminated early (max_iter=100).  Consider pre-processing your data with StandardScaler or MinMaxScaler.\n",
      "  % self.max_iter, ConvergenceWarning)\n"
     ]
    },
    {
     "data": {
      "image/png": "[encoded data removed]",
      "text/plain": [
       "<Figure size 432x288 with 2 Axes>"
      ]
     },
     "metadata": {
      "needs_background": "light"
     },
     "output_type": "display_data"
    },
    {
     "name": "stdout",
     "output_type": "stream",
     "text": [
      "The Model_traing_Score :: 0.1784776902887139\n",
      "=======\n",
      "The Model_testing_Score ::0.19680851063829788\n",
      "======\n",
      "The y_real ::\n",
      " [0 0 1 0 1 1 1 1 0 1 0 1 0 0 1 1 1 0 0 1 1 1 1 1 1 1 1 1 0 1 1 1 1 1 1 1 1\n",
      " 1 1 1 1 1 0 1 1 1 1 1 1 0 1 1 1 0 1 0 0 1 1 1 1 1 1 0 1 0 0 1 0 0 0 1 0 1\n",
      " 1 0 0 1 0 1 1 1 1 1 1 0 1 1 1 0 1 1 1 1 1 1 0 1 1 0 1 0 0 1 0 1 0 0 0 1 0\n",
      " 0 0 0 1 1 1 1 1 0 0 1 0 0 0 0 0 1 1 0 1 1 1 1 1 1 1 1 1 1 0 1 1 0 1 1 0 0\n",
      " 0 1 1 0 0 1 1 0 1 1 0 0 0 0 0 1 0 0 0 1 1 1 1 1 0 1 0 0 1 1 1 1 1 1 0 1 1\n",
      " 1 1 0]\n",
      "=====\n",
      "The y_pred :: \n",
      "[0 1 0 1 1 0 0 1 1 0 1 1 1 1 0 0 0 1 0 1 0 1 0 0 0 1 1 0 1 0 0 0 0 0 1 1 0\n",
      " 0 0 0 1 0 1 0 0 0 0 0 0 1 0 0 0 1 0 1 1 0 0 0 0 0 0 1 0 1 1 0 1 1 0 0 1 0\n",
      " 0 1 1 0 1 0 1 1 1 0 0 1 0 1 0 1 0 0 0 0 0 0 1 0 0 1 0 0 1 1 1 0 1 1 0 0 1\n",
      " 1 0 1 0 0 0 1 0 1 1 0 1 1 1 1 1 0 0 1 0 0 1 0 1 1 1 0 0 0 1 1 0 1 1 0 1 1\n",
      " 1 0 0 0 1 0 0 1 1 0 0 1 1 0 1 0 1 1 0 0 0 0 1 0 0 0 1 1 0 1 1 0 0 0 1 0 0\n",
      " 0 0 1]\n",
      "====\n",
      "The Con_matrix :: \n",
      "[[11 57]\n",
      " [94 26]]\n"
     ]
    }
   ],
   "source": [
    "SVC_Model = SVC( C = 0.1 , kernel=\"linear\" , gamma=\"auto\" ,  max_iter=100  )\n",
    "SVC_Model.fit( X_train , y_train)\n",
    "Model_traing_Score = SVC_Model.score( X_train , y_train)\n",
    "Model_testing_Score = SVC_Model.score(X_test , y_test)\n",
    "y_pred = SVC_Model.predict(X_test)\n",
    "\n",
    "C_M = confusion_matrix(y_test , y_pred)\n",
    "sns.heatmap(C_M , center=True)\n",
    "plt.show()\n",
    "\n",
    "print(f\"The Model_traing_Score :: {Model_traing_Score}\\n=======\\nThe Model_testing_Score ::\\\n",
    "{Model_testing_Score}\\n======\\nThe y_real ::\\n {y_test}\\n=====\\nThe y_pred :: \\n{y_pred}\\n====\\n\\\n",
    "The Con_matrix :: \\n{C_M}\")"
   ]
  },
  {
   "cell_type": "code",
   "execution_count": 20,
   "metadata": {},
   "outputs": [
    {
     "name": "stderr",
     "output_type": "stream",
     "text": [
      "C:\\ProgramData\\Anaconda3\\lib\\site-packages\\sklearn\\svm\\base.py:241: ConvergenceWarning: Solver terminated early (max_iter=100).  Consider pre-processing your data with StandardScaler or MinMaxScaler.\n",
      "  % self.max_iter, ConvergenceWarning)\n"
     ]
    },
    {
     "data": {
      "image/png": "[encoded data removed]",
      "text/plain": [
       "<Figure size 432x288 with 2 Axes>"
      ]
     },
     "metadata": {
      "needs_background": "light"
     },
     "output_type": "display_data"
    },
    {
     "name": "stdout",
     "output_type": "stream",
     "text": [
      "The Model_traing_Score :: 0.7427821522309711\n",
      "=======\n",
      "The Model_testing_Score ::0.7925531914893617\n",
      "======\n",
      "The y_real ::\n",
      " [0 0 1 0 1 1 1 1 0 1 0 1 0 0 1 1 1 0 0 1 1 1 1 1 1 1 1 1 0 1 1 1 1 1 1 1 1\n",
      " 1 1 1 1 1 0 1 1 1 1 1 1 0 1 1 1 0 1 0 0 1 1 1 1 1 1 0 1 0 0 1 0 0 0 1 0 1\n",
      " 1 0 0 1 0 1 1 1 1 1 1 0 1 1 1 0 1 1 1 1 1 1 0 1 1 0 1 0 0 1 0 1 0 0 0 1 0\n",
      " 0 0 0 1 1 1 1 1 0 0 1 0 0 0 0 0 1 1 0 1 1 1 1 1 1 1 1 1 1 0 1 1 0 1 1 0 0\n",
      " 0 1 1 0 0 1 1 0 1 1 0 0 0 0 0 1 0 0 0 1 1 1 1 1 0 1 0 0 1 1 1 1 1 1 0 1 1\n",
      " 1 1 0]\n",
      "=====\n",
      "The y_pred :: \n",
      "[1 1 1 0 1 1 1 1 1 1 1 1 1 1 1 1 1 1 1 1 1 1 1 1 1 1 1 1 0 1 1 1 1 1 1 1 1\n",
      " 1 1 1 1 1 1 1 1 1 1 1 1 0 1 1 1 1 1 0 1 1 1 1 1 1 1 0 1 0 1 1 1 0 1 1 0 1\n",
      " 1 1 1 1 0 1 1 1 1 1 1 1 1 1 1 0 1 1 1 1 1 1 1 1 1 0 1 0 1 1 0 1 1 0 0 1 1\n",
      " 0 0 1 1 1 1 1 1 1 1 1 1 0 0 0 0 1 1 1 1 1 1 1 1 1 1 1 1 1 0 1 1 1 1 1 1 0\n",
      " 0 1 1 1 0 1 1 1 1 1 1 0 1 1 1 1 0 0 1 1 1 1 1 1 1 1 1 1 1 1 1 1 1 1 0 1 1\n",
      " 1 1 1]\n",
      "====\n",
      "The Con_matrix :: \n",
      "[[ 29  39]\n",
      " [  0 120]]\n"
     ]
    }
   ],
   "source": [
    "SVC_Model = SVC( C = 0.1 , kernel=\"poly\" , gamma=\"auto\" ,  max_iter=100  )\n",
    "SVC_Model.fit( X_train , y_train)\n",
    "Model_traing_Score = SVC_Model.score( X_train , y_train)\n",
    "Model_testing_Score = SVC_Model.score(X_test , y_test)\n",
    "y_pred = SVC_Model.predict(X_test)\n",
    "\n",
    "C_M = confusion_matrix(y_test , y_pred)\n",
    "sns.heatmap(C_M , center=True)\n",
    "plt.show()\n",
    "\n",
    "print(f\"The Model_traing_Score :: {Model_traing_Score}\\n=======\\nThe Model_testing_Score ::\\\n",
    "{Model_testing_Score}\\n======\\nThe y_real ::\\n {y_test}\\n=====\\nThe y_pred :: \\n{y_pred}\\n====\\n\\\n",
    "The Con_matrix :: \\n{C_M}\")"
   ]
  },
  {
   "cell_type": "code",
   "execution_count": 27,
   "metadata": {},
   "outputs": [
    {
     "name": "stderr",
     "output_type": "stream",
     "text": [
      "C:\\ProgramData\\Anaconda3\\lib\\site-packages\\sklearn\\svm\\base.py:241: ConvergenceWarning: Solver terminated early (max_iter=100).  Consider pre-processing your data with StandardScaler or MinMaxScaler.\n",
      "  % self.max_iter, ConvergenceWarning)\n"
     ]
    },
    {
     "data": {
      "image/png": "[encoded data removed]",
      "text/plain": [
       "<Figure size 432x288 with 2 Axes>"
      ]
     },
     "metadata": {
      "needs_background": "light"
     },
     "output_type": "display_data"
    },
    {
     "name": "stdout",
     "output_type": "stream",
     "text": [
      "The Model_traing_Score :: 1.0\n",
      "=======\n",
      "The Model_testing_Score ::0.8617021276595744\n",
      "======\n",
      "The y_real ::\n",
      " [0 0 1 0 1 1 1 1 0 1 0 1 0 0 1 1 1 0 0 1 1 1 1 1 1 1 1 1 0 1 1 1 1 1 1 1 1\n",
      " 1 1 1 1 1 0 1 1 1 1 1 1 0 1 1 1 0 1 0 0 1 1 1 1 1 1 0 1 0 0 1 0 0 0 1 0 1\n",
      " 1 0 0 1 0 1 1 1 1 1 1 0 1 1 1 0 1 1 1 1 1 1 0 1 1 0 1 0 0 1 0 1 0 0 0 1 0\n",
      " 0 0 0 1 1 1 1 1 0 0 1 0 0 0 0 0 1 1 0 1 1 1 1 1 1 1 1 1 1 0 1 1 0 1 1 0 0\n",
      " 0 1 1 0 0 1 1 0 1 1 0 0 0 0 0 1 0 0 0 1 1 1 1 1 0 1 0 0 1 1 1 1 1 1 0 1 1\n",
      " 1 1 0]\n",
      "=====\n",
      "The y_pred :: \n",
      "[0 0 1 0 1 0 1 0 0 1 0 1 0 0 1 1 0 0 0 0 1 1 1 1 1 0 1 1 0 1 1 1 1 1 0 1 1\n",
      " 1 1 1 0 1 0 1 1 0 1 1 1 0 0 1 1 0 1 0 0 1 1 0 1 1 1 0 1 0 0 0 0 0 0 1 0 1\n",
      " 1 0 0 1 0 0 1 0 1 1 1 0 1 1 1 0 1 1 1 1 1 1 0 1 1 0 1 0 0 0 0 1 0 0 0 0 0\n",
      " 0 0 0 1 1 0 0 1 0 0 1 0 0 0 0 0 1 1 0 1 1 1 1 1 1 0 1 1 1 0 1 1 0 0 1 0 0\n",
      " 0 1 1 0 0 1 1 0 0 1 0 0 0 1 0 1 0 0 0 0 1 1 0 0 0 1 0 0 1 1 0 1 1 1 0 1 1\n",
      " 1 0 0]\n",
      "====\n",
      "The Con_matrix :: \n",
      "[[67  1]\n",
      " [25 95]]\n"
     ]
    }
   ],
   "source": [
    "SVC_Model = SVC( C = 0.01 , kernel=\"rbf\" , gamma=\"auto\" ,  max_iter=100  )\n",
    "SVC_Model.fit( X_train , y_train)\n",
    "Model_traing_Score = SVC_Model.score( X_train , y_train)\n",
    "Model_testing_Score = SVC_Model.score(X_test , y_test)\n",
    "y_pred = SVC_Model.predict(X_test)\n",
    "\n",
    "C_M = confusion_matrix(y_test , y_pred)\n",
    "sns.heatmap(C_M , center=True)\n",
    "plt.show()\n",
    "\n",
    "print(f\"The Model_traing_Score :: {Model_traing_Score}\\n=======\\nThe Model_testing_Score ::\\\n",
    "{Model_testing_Score}\\n======\\nThe y_real ::\\n {y_test}\\n=====\\nThe y_pred :: \\n{y_pred}\\n====\\n\\\n",
    "The Con_matrix :: \\n{C_M}\")"
   ]
  },
  {
   "cell_type": "code",
   "execution_count": null,
   "metadata": {},
   "outputs": [],
   "source": []
  }
 ],
 "metadata": {
  "kernelspec": {
   "display_name": "Python 3",
   "language": "python",
   "name": "python3"
  },
  "language_info": {
   "codemirror_mode": {
    "name": "ipython",
    "version": 3
   },
   "file_extension": ".py",
   "mimetype": "text/x-python",
   "name": "python",
   "nbconvert_exporter": "python",
   "pygments_lexer": "ipython3",
   "version": "3.7.4"
  }
 },
 "nbformat": 4,
 "nbformat_minor": 2
}
