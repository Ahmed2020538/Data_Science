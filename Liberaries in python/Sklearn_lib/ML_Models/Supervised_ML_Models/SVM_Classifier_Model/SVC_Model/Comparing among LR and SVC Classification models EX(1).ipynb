{
 "cells": [
  {
   "cell_type": "markdown",
   "metadata": {},
   "source": [
    "* Comparing among Logistic_regression and SVC_Classifier"
   ]
  },
  {
   "cell_type": "code",
   "execution_count": 2,
   "metadata": {},
   "outputs": [
    {
     "name": "stderr",
     "output_type": "stream",
     "text": [
      "C:\\ProgramData\\Anaconda3\\lib\\site-packages\\sklearn\\linear_model\\logistic.py:432: FutureWarning: Default solver will be changed to 'lbfgs' in 0.22. Specify a solver to silence this warning.\n",
      "  FutureWarning)\n"
     ]
    },
    {
     "name": "stdout",
     "output_type": "stream",
     "text": [
      "accuracy = 0.9210526315789473\n",
      "confusion matrix \n",
      " [[36  5]\n",
      " [ 4 69]]\n"
     ]
    },
    {
     "data": {
      "image/png": "[encoded data removed]",
      "text/plain": [
       "<Figure size 432x288 with 2 Axes>"
      ]
     },
     "metadata": {
      "needs_background": "light"
     },
     "output_type": "display_data"
    },
    {
     "name": "stderr",
     "output_type": "stream",
     "text": [
      "C:\\ProgramData\\Anaconda3\\lib\\site-packages\\sklearn\\svm\\base.py:193: FutureWarning: The default value of gamma will change from 'auto' to 'scale' in version 0.22 to account better for unscaled features. Set gamma explicitly to 'auto' or 'scale' to avoid this warning.\n",
      "  \"avoid this warning.\", FutureWarning)\n"
     ]
    },
    {
     "name": "stdout",
     "output_type": "stream",
     "text": [
      "accuracy = 0.9210526315789473\n",
      "confusion matrix \n",
      " [[36  5]\n",
      " [ 4 69]]\n"
     ]
    },
    {
     "data": {
      "image/png": "[encoded data removed]",
      "text/plain": [
       "<Figure size 432x288 with 2 Axes>"
      ]
     },
     "metadata": {
      "needs_background": "light"
     },
     "output_type": "display_data"
    }
   ],
   "source": [
    "from sklearn.datasets import load_breast_cancer\n",
    "from sklearn.metrics import accuracy_score, confusion_matrix\n",
    "from sklearn.preprocessing import PolynomialFeatures\n",
    "from sklearn.model_selection import train_test_split\n",
    "import matplotlib.pyplot as plt\n",
    "\n",
    "\n",
    "data = load_breast_cancer()\n",
    "X = data.data\n",
    "y = data.target\n",
    "\n",
    "\n",
    "poly = PolynomialFeatures( degree = 3 , include_bias = False)\n",
    "poly.fit(X)\n",
    "x_poly = poly.transform(X)\n",
    "\n",
    "x_train, x_test, y_train, y_test = train_test_split(x_poly, y, test_size = 0.2)\n",
    "\n",
    "# apply LR\n",
    "\n",
    "from sklearn.linear_model import LogisticRegression\n",
    "logreg = LogisticRegression(penalty = 'l2')\n",
    "logreg\n",
    "logreg.fit(x_train , y_train)\n",
    "result= logreg.predict(x_test)\n",
    "print('accuracy =',accuracy_score(y_test , result))\n",
    " \n",
    "cm = confusion_matrix(y_test , result)\n",
    "print('confusion matrix \\n',  cm)\n",
    "\n",
    "\n",
    "import seaborn as sns\n",
    "sns.heatmap(cm, center=True)\n",
    "plt.show()\n",
    "\n",
    "##########################################################\n",
    "\n",
    "# apply SVC\n",
    "\n",
    "from sklearn.svm import SVC\n",
    "classifier = SVC(C = 0.9 , degree = 5 , tol = 0.0000001)\n",
    "classifier\n",
    "classifier.fit(x_train , y_train)\n",
    "result= logreg.predict(x_test)\n",
    "print('accuracy =',accuracy_score(y_test , result))\n",
    " \n",
    "cm = confusion_matrix(y_test , result)\n",
    "print('confusion matrix \\n',  cm)\n",
    "\n",
    "\n",
    "sns.heatmap(cm, center=True)\n",
    "plt.show()"
   ]
  },
  {
   "cell_type": "code",
   "execution_count": null,
   "metadata": {},
   "outputs": [],
   "source": []
  }
 ],
 "metadata": {
  "kernelspec": {
   "display_name": "Python 3",
   "language": "python",
   "name": "python3"
  },
  "language_info": {
   "codemirror_mode": {
    "name": "ipython",
    "version": 3
   },
   "file_extension": ".py",
   "mimetype": "text/x-python",
   "name": "python",
   "nbconvert_exporter": "python",
   "pygments_lexer": "ipython3",
   "version": "3.7.4"
  }
 },
 "nbformat": 4,
 "nbformat_minor": 2
}
