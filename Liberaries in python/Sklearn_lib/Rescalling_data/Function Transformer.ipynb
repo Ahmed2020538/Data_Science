{
 "cells": [
  {
   "cell_type": "markdown",
   "metadata": {},
   "source": [
    " # Function Transformer"
   ]
  },
  {
   "cell_type": "markdown",
   "metadata": {},
   "source": [
    "    Execute CustoM Function On data"
   ]
  },
  {
   "cell_type": "code",
   "execution_count": null,
   "metadata": {},
   "outputs": [],
   "source": [
    "#Import Libraries\n",
    "from sklearn.preprocessing import FunctionTransformer\n",
    "#----------------------------------------------------\n",
    "\n",
    "#Function Transforming Data\n",
    "'''\n",
    "FunctionTransformer(func=None, inverse_func=None, validate= None,\n",
    "                    accept_sparse=False,pass_y='deprecated', check_inverse=True,\n",
    "                    kw_args=None,inv_kw_args=None)\n",
    "'''\n",
    "\n",
    "scaler = FunctionTransformer(func = lambda x: x**2,validate = True) # or func = function1\n",
    "X = scaler.fit_transform(X)\n",
    "\n",
    "#showing data\n",
    "print('X \\n' , X[:10])\n",
    "print('y \\n' , y[:10])"
   ]
  },
  {
   "cell_type": "code",
   "execution_count": 1,
   "metadata": {},
   "outputs": [
    {
     "name": "stdout",
     "output_type": "stream",
     "text": [
      "The orignal data ::\n",
      "\n",
      "[[4, 1, 2, 2], [1, 3, 9, 3], [5, 7, 5, 1]]\n",
      "\n",
      "====\n",
      "\n",
      "The New_data ::\n",
      "\n",
      "[[2.         1.         1.41421356 1.41421356]\n",
      " [1.         1.73205081 3.         1.73205081]\n",
      " [2.23606798 2.64575131 2.23606798 1.        ]]\n"
     ]
    }
   ],
   "source": [
    "from sklearn.preprocessing import FunctionTransformer\n",
    "import numpy as np\n",
    "\n",
    "data = [[4, 1, 2, 2], [1, 3, 9, 3], [5, 7, 5, 1]]\n",
    "\n",
    "# create function\n",
    "\n",
    "def func1 (z) :\n",
    "    return np.sqrt(z)\n",
    "\n",
    "Rescalling_data = FunctionTransformer( func = func1 , validate = True )\n",
    "\n",
    "New_data = Rescalling_data.fit_transform(data)\n",
    "\n",
    "print(f\"The orignal data ::\\n\\n{data}\\n\\n====\\n\\nThe New_data ::\\n\\n{New_data}\")"
   ]
  },
  {
   "cell_type": "code",
   "execution_count": 2,
   "metadata": {},
   "outputs": [
    {
     "name": "stdout",
     "output_type": "stream",
     "text": [
      "The orignal data ::\n",
      "\n",
      "[[4, 1, 2, 2], [1, 3, 9, 3], [5, 7, 5, 1]]\n",
      "\n",
      "====\n",
      "\n",
      "The New_data ::\n",
      "\n",
      "[[2.         1.         1.41421356 1.41421356]\n",
      " [1.         1.73205081 3.         1.73205081]\n",
      " [2.23606798 2.64575131 2.23606798 1.        ]]\n"
     ]
    }
   ],
   "source": [
    "from sklearn.preprocessing import FunctionTransformer\n",
    "import numpy as np\n",
    "\n",
    "data = [[4, 1, 2, 2], [1, 3, 9, 3], [5, 7, 5, 1]]\n",
    "\n",
    "# Create Function Using Lambda\n",
    "\n",
    "Rescalling_data = FunctionTransformer( func = lambda z : np.sqrt(z)  , validate = True ) \n",
    "\n",
    "New_data = Rescalling_data.fit_transform(data)\n",
    "\n",
    "print(f\"The orignal data ::\\n\\n{data}\\n\\n====\\n\\nThe New_data ::\\n\\n{New_data}\")"
   ]
  },
  {
   "cell_type": "code",
   "execution_count": null,
   "metadata": {},
   "outputs": [],
   "source": []
  }
 ],
 "metadata": {
  "kernelspec": {
   "display_name": "Python 3",
   "language": "python",
   "name": "python3"
  },
  "language_info": {
   "codemirror_mode": {
    "name": "ipython",
    "version": 3
   },
   "file_extension": ".py",
   "mimetype": "text/x-python",
   "name": "python",
   "nbconvert_exporter": "python",
   "pygments_lexer": "ipython3",
   "version": "3.7.4"
  }
 },
 "nbformat": 4,
 "nbformat_minor": 2
}
