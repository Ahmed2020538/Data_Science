{
 "cells": [
  {
   "cell_type": "markdown",
   "metadata": {},
   "source": [
    "# Min Max Scaler    or     Normalization"
   ]
  },
  {
   "cell_type": "markdown",
   "metadata": {},
   "source": [
    "     V = ((V-old_min) / (old_max - old_min) ) * ( new_Max - New_Min) - New_Min"
   ]
  },
  {
   "cell_type": "code",
   "execution_count": null,
   "metadata": {},
   "outputs": [],
   "source": [
    "#Import Libraries\n",
    "from sklearn.preprocessing import MinMaxScaler\n",
    "#----------------------------------------------------\n",
    "\n",
    "#MinMaxScaler for Data\n",
    "\n",
    "scaler = MinMaxScaler(copy=True, feature_range=(0, 1))\n",
    "X = scaler.fit_transform(X)\n",
    "\n",
    "#showing data\n",
    "print('X \\n' , X[:10])\n",
    "print('y \\n' , y[:10])"
   ]
  },
  {
   "cell_type": "code",
   "execution_count": 7,
   "metadata": {},
   "outputs": [
    {
     "name": "stdout",
     "output_type": "stream",
     "text": [
      "The orignal data ::\n",
      "\n",
      "[[-1, 2], [-0.5, 6], [0, 10], [1, 18]]\n",
      "\n",
      "====\n",
      "\n",
      "The New_data After Rescalling ::\n",
      "\n",
      "[[0.   0.  ]\n",
      " [0.25 0.25]\n",
      " [0.5  0.5 ]\n",
      " [1.   1.  ]]\n"
     ]
    }
   ],
   "source": [
    "from sklearn.preprocessing import MinMaxScaler\n",
    "\n",
    "data = data = [[-1, 2], [-0.5, 6], [0, 10], [1, 18]]\n",
    "\n",
    "Rescalling_data = MinMaxScaler( copy = True , feature_range = ( 0 ,1))  # select any range u need\n",
    "\n",
    "New_data = Rescalling_data.fit_transform(data)\n",
    "\n",
    "print(f\"The orignal data ::\\n\\n{data}\\n\\n====\\n\\nThe New_data After Rescalling ::\\n\\n{New_data}\")"
   ]
  },
  {
   "cell_type": "markdown",
   "metadata": {},
   "source": [
    "# get Some details of data"
   ]
  },
  {
   "cell_type": "code",
   "execution_count": 8,
   "metadata": {},
   "outputs": [
    {
     "name": "stdout",
     "output_type": "stream",
     "text": [
      "The Data_Range :: [ 2. 16.]\n",
      "===\n",
      "The Max_Value :: [ 1. 18.]\n",
      "====\n",
      "The Min_Value :: [-1.  2.]\n",
      "===\n",
      "The Feature_Range :: (0, 1)\n"
     ]
    }
   ],
   "source": [
    "Data_Range = Rescalling_data.data_range_\n",
    "Min = Rescalling_data.data_min_\n",
    "Max = Rescalling_data.data_max_\n",
    "Feature_Range = Rescalling_data.feature_range\n",
    "\n",
    "print(f\"The Data_Range :: {Data_Range}\\n===\\nThe Max_Value :: {Max}\\n====\\nThe Min_Value :: {Min}\\n===\\n\\\n",
    "The Feature_Range :: {Feature_Range}\")"
   ]
  },
  {
   "cell_type": "code",
   "execution_count": 9,
   "metadata": {},
   "outputs": [
    {
     "name": "stdout",
     "output_type": "stream",
     "text": [
      "The orignal data ::\n",
      "\n",
      "[[-1, 2], [-0.5, 6], [0, 10], [1, 18]]\n",
      "\n",
      "====\n",
      "\n",
      "The New_data After Rescalling ::\n",
      "\n",
      "[[1. 1.]\n",
      " [2. 2.]\n",
      " [3. 3.]\n",
      " [5. 5.]]\n"
     ]
    }
   ],
   "source": [
    "from sklearn.preprocessing import MinMaxScaler\n",
    "\n",
    "data = data = [[-1, 2], [-0.5, 6], [0, 10], [1, 18]]\n",
    "\n",
    "Rescalling_data = MinMaxScaler( copy = True , feature_range = ( 1 ,5))  # select any range u need\n",
    "\n",
    "New_data = Rescalling_data.fit_transform(data)\n",
    "\n",
    "print(f\"The orignal data ::\\n\\n{data}\\n\\n====\\n\\nThe New_data After Rescalling ::\\n\\n{New_data}\")"
   ]
  },
  {
   "cell_type": "code",
   "execution_count": 10,
   "metadata": {},
   "outputs": [
    {
     "name": "stdout",
     "output_type": "stream",
     "text": [
      "The orignal data ::\n",
      "\n",
      "[[-141, 222], [-0.775, 586], [100, 150], [185, 178]]\n",
      "\n",
      "====\n",
      "\n",
      "The New_data After Rescalling ::\n",
      "\n",
      "[[0.         0.16513761]\n",
      " [0.43013804 1.        ]\n",
      " [0.7392638  0.        ]\n",
      " [1.         0.06422018]]\n"
     ]
    }
   ],
   "source": [
    "from sklearn.preprocessing import MinMaxScaler\n",
    "\n",
    "data = data = [[-141, 222],\n",
    "               [-0.775, 586],\n",
    "               [100, 150],\n",
    "               [185, 178]]\n",
    "\n",
    "Rescalling_data = MinMaxScaler( copy = True , feature_range = ( 0 ,1))  # select any range u need\n",
    "\n",
    "New_data = Rescalling_data.fit_transform(data)\n",
    "\n",
    "print(f\"The orignal data ::\\n\\n{data}\\n\\n====\\n\\nThe New_data After Rescalling ::\\n\\n{New_data}\")"
   ]
  },
  {
   "cell_type": "markdown",
   "metadata": {},
   "source": [
    "# get Some details of data"
   ]
  },
  {
   "cell_type": "code",
   "execution_count": 11,
   "metadata": {},
   "outputs": [
    {
     "name": "stdout",
     "output_type": "stream",
     "text": [
      "The Data_Range :: [326. 436.]\n",
      "===\n",
      "The Max_Value :: [185. 586.]\n",
      "====\n",
      "The Min_Value :: [-141.  150.]\n",
      "===\n",
      "The Feature_Range :: (0, 1)\n"
     ]
    }
   ],
   "source": [
    "Data_Range = Rescalling_data.data_range_\n",
    "Min = Rescalling_data.data_min_\n",
    "Max = Rescalling_data.data_max_\n",
    "Feature_Range = Rescalling_data.feature_range\n",
    "\n",
    "print(f\"The Data_Range :: {Data_Range}\\n===\\nThe Max_Value :: {Max}\\n====\\nThe Min_Value :: {Min}\\n===\\n\\\n",
    "The Feature_Range :: {Feature_Range}\")"
   ]
  },
  {
   "cell_type": "code",
   "execution_count": null,
   "metadata": {},
   "outputs": [],
   "source": []
  },
  {
   "cell_type": "code",
   "execution_count": null,
   "metadata": {},
   "outputs": [],
   "source": []
  },
  {
   "cell_type": "code",
   "execution_count": null,
   "metadata": {},
   "outputs": [],
   "source": []
  }
 ],
 "metadata": {
  "kernelspec": {
   "display_name": "Python 3",
   "language": "python",
   "name": "python3"
  },
  "language_info": {
   "codemirror_mode": {
    "name": "ipython",
    "version": 3
   },
   "file_extension": ".py",
   "mimetype": "text/x-python",
   "name": "python",
   "nbconvert_exporter": "python",
   "pygments_lexer": "ipython3",
   "version": "3.7.4"
  }
 },
 "nbformat": 4,
 "nbformat_minor": 2
}
