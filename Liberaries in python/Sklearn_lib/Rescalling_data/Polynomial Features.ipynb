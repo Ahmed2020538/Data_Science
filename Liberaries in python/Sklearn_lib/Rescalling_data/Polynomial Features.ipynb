{
 "cells": [
  {
   "cell_type": "markdown",
   "metadata": {},
   "source": [
    "# Polynomial Features"
   ]
  },
  {
   "cell_type": "markdown",
   "metadata": {},
   "source": [
    "    that technice increase The data Features to solve underfittig problem "
   ]
  },
  {
   "cell_type": "code",
   "execution_count": null,
   "metadata": {},
   "outputs": [],
   "source": [
    "#Import Libraries\n",
    "from sklearn.preprocessing import PolynomialFeatures\n",
    "#----------------------------------------------------\n",
    "\n",
    "#Polynomial the Data\n",
    "\n",
    "scaler = PolynomialFeatures(degree=3, include_bias=True, interaction_only=False)\n",
    "X = scaler.fit_transform(X)\n",
    "\n",
    "#showing data\n",
    "print('X \\n' , X[:10])\n",
    "print('y \\n' , y[:10])"
   ]
  },
  {
   "cell_type": "code",
   "execution_count": 1,
   "metadata": {},
   "outputs": [
    {
     "name": "stdout",
     "output_type": "stream",
     "text": [
      "The orignal Features ::\n",
      "\n",
      "[[0 1]\n",
      " [2 3]\n",
      " [4 5]]\n",
      "\n",
      "====\n",
      "\n",
      "The New_Features ::\n",
      "\n",
      "[[ 1.  0.  1.  0.  0.  1.]\n",
      " [ 1.  2.  3.  4.  6.  9.]\n",
      " [ 1.  4.  5. 16. 20. 25.]]\n"
     ]
    }
   ],
   "source": [
    "import numpy as np\n",
    "from sklearn.preprocessing import PolynomialFeatures\n",
    "\n",
    "data = np.arange(6).reshape(3,2)\n",
    "\n",
    "\n",
    "# Baise if True insert ones colum  else not insert\n",
    "\n",
    "# Interaction if True insert all polynomials such x**2 , x**3  else not insert them\n",
    "\n",
    "Featurize = PolynomialFeatures( degree = 2 , include_bias = True , interaction_only = False)\n",
    "\n",
    "New_Feature = Featurize.fit_transform(data)\n",
    "\n",
    "print(f\"The orignal Features ::\\n\\n{data}\\n\\n====\\n\\nThe New_Features ::\\n\\n{New_Feature}\")\n"
   ]
  },
  {
   "cell_type": "code",
   "execution_count": 5,
   "metadata": {},
   "outputs": [
    {
     "name": "stdout",
     "output_type": "stream",
     "text": [
      "The orignal Features ::\n",
      "\n",
      "[[0 1]\n",
      " [2 3]\n",
      " [4 5]]\n",
      "\n",
      "====\n",
      "\n",
      "The New_Features ::\n",
      "\n",
      "[[ 0.  1.  0.]\n",
      " [ 2.  3.  6.]\n",
      " [ 4.  5. 20.]]\n"
     ]
    }
   ],
   "source": [
    "import numpy as np\n",
    "from sklearn.preprocessing import PolynomialFeatures\n",
    "\n",
    "data = np.arange(6).reshape(3,2)\n",
    "\n",
    "\n",
    "# Baise if True insert ones colum  else not insert\n",
    "\n",
    "# Interaction if True insert all polynomials such x**2 , x**3  else not insert them\n",
    "\n",
    "Featurize = PolynomialFeatures( degree = 2 , include_bias = False , interaction_only = True)\n",
    "\n",
    "New_Feature = Featurize.fit_transform(data)\n",
    "\n",
    "print(f\"The orignal Features ::\\n\\n{data}\\n\\n====\\n\\nThe New_Features ::\\n\\n{New_Feature}\")\n"
   ]
  },
  {
   "cell_type": "code",
   "execution_count": 7,
   "metadata": {},
   "outputs": [
    {
     "name": "stdout",
     "output_type": "stream",
     "text": [
      "The orignal Features ::\n",
      "\n",
      "[[0 1]\n",
      " [2 3]\n",
      " [4 5]]\n",
      "\n",
      "====\n",
      "\n",
      "The New_Features ::\n",
      "\n",
      "[[ 1.  0.  1.  0.]\n",
      " [ 1.  2.  3.  6.]\n",
      " [ 1.  4.  5. 20.]]\n"
     ]
    }
   ],
   "source": [
    "import numpy as np\n",
    "from sklearn.preprocessing import PolynomialFeatures\n",
    "\n",
    "data = np.arange(6).reshape(3,2)\n",
    "\n",
    "\n",
    "# Baise if True insert ones colum  else not insert\n",
    "\n",
    "# Interaction if True insert all polynomials such x**2 , x**3  else not insert them\n",
    "\n",
    "Featurize = PolynomialFeatures( degree = 5 , include_bias = True , interaction_only = True)\n",
    "\n",
    "New_Feature = Featurize.fit_transform(data)\n",
    "\n",
    "print(f\"The orignal Features ::\\n\\n{data}\\n\\n====\\n\\nThe New_Features ::\\n\\n{New_Feature}\")\n"
   ]
  },
  {
   "cell_type": "code",
   "execution_count": null,
   "metadata": {},
   "outputs": [],
   "source": []
  }
 ],
 "metadata": {
  "kernelspec": {
   "display_name": "Python 3",
   "language": "python",
   "name": "python3"
  },
  "language_info": {
   "codemirror_mode": {
    "name": "ipython",
    "version": 3
   },
   "file_extension": ".py",
   "mimetype": "text/x-python",
   "name": "python",
   "nbconvert_exporter": "python",
   "pygments_lexer": "ipython3",
   "version": "3.7.4"
  }
 },
 "nbformat": 4,
 "nbformat_minor": 2
}
