{
 "cells": [
  {
   "cell_type": "markdown",
   "metadata": {},
   "source": [
    "# Max Abs scalar"
   ]
  },
  {
   "cell_type": "markdown",
   "metadata": {},
   "source": [
    "        deal with all one of Columns alone   "
   ]
  },
  {
   "cell_type": "code",
   "execution_count": null,
   "metadata": {},
   "outputs": [],
   "source": [
    "#Import Libraries\n",
    "from sklearn.preprocessing import MaxAbsScaler\n",
    "#----------------------------------------------------\n",
    "\n",
    "#MaxAbsScaler Data\n",
    "\n",
    "scaler = MaxAbsScaler(copy=True)\n",
    "X = scaler.fit_transform(X)\n",
    "\n",
    "#showing data\n",
    "print('X \\n' , X[:10])\n",
    "print('y \\n' , y[:10])"
   ]
  },
  {
   "cell_type": "code",
   "execution_count": 2,
   "metadata": {},
   "outputs": [
    {
     "name": "stdout",
     "output_type": "stream",
     "text": [
      "The orignal data ::\n",
      "\n",
      "[[1.0, 10.0, 2.0], [2.0, 0.0, 0.0], [5.0, 1.0, -1.0]]\n",
      "\n",
      "====\n",
      "\n",
      "The New_data ::\n",
      "\n",
      "[[ 0.2  1.   1. ]\n",
      " [ 0.4  0.   0. ]\n",
      " [ 1.   0.1 -0.5]]\n"
     ]
    }
   ],
   "source": [
    "from sklearn.preprocessing import MaxAbsScaler\n",
    "\n",
    "data = [[ 1., 10., 2.],\n",
    "        [ 2., 0., 0.],\n",
    "        [ 5., 1., -1.]]\n",
    "\n",
    "Rescalling_data = MaxAbsScaler( copy = True)\n",
    "\n",
    "New_data = Rescalling_data.fit_transform(data)\n",
    "\n",
    "print(f\"The orignal data ::\\n\\n{data}\\n\\n====\\n\\nThe New_data ::\\n\\n{New_data}\")"
   ]
  },
  {
   "cell_type": "code",
   "execution_count": null,
   "metadata": {},
   "outputs": [],
   "source": []
  }
 ],
 "metadata": {
  "kernelspec": {
   "display_name": "Python 3",
   "language": "python",
   "name": "python3"
  },
  "language_info": {
   "codemirror_mode": {
    "name": "ipython",
    "version": 3
   },
   "file_extension": ".py",
   "mimetype": "text/x-python",
   "name": "python",
   "nbconvert_exporter": "python",
   "pygments_lexer": "ipython3",
   "version": "3.7.4"
  }
 },
 "nbformat": 4,
 "nbformat_minor": 2
}
