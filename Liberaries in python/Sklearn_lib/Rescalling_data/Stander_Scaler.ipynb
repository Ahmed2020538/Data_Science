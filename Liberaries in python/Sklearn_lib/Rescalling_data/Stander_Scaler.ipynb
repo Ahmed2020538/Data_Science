{
 "cells": [
  {
   "cell_type": "markdown",
   "metadata": {},
   "source": [
    "# 1 :: Stander_Scaler   Or  Standerzation  algo"
   ]
  },
  {
   "cell_type": "markdown",
   "metadata": {},
   "source": [
    "      V = (V - Mean) / std"
   ]
  },
  {
   "cell_type": "code",
   "execution_count": null,
   "metadata": {},
   "outputs": [],
   "source": [
    "#Import Libraries\n",
    "from sklearn.preprocessing import StandardScaler\n",
    "#----------------------------------------------------\n",
    "\n",
    "#Standard Scaler for Data\n",
    "\n",
    "scaler = StandardScaler(copy=True, with_mean=True, with_std=True)\n",
    "X = scaler.fit_transform(X)\n",
    "\n",
    "#showing data\n",
    "print('X \\n' , X[:10])\n",
    "print('y \\n' , y[:10])"
   ]
  },
  {
   "cell_type": "code",
   "execution_count": 5,
   "metadata": {},
   "outputs": [
    {
     "name": "stdout",
     "output_type": "stream",
     "text": [
      "The orignal data ::\n",
      "\n",
      "[[0, 0], [0, 0], [1, 1], [1, 1]]\n",
      "\n",
      "====\n",
      "\n",
      "The New_data ::\n",
      "\n",
      "[[-1. -1.]\n",
      " [-1. -1.]\n",
      " [ 1.  1.]\n",
      " [ 1.  1.]]\n"
     ]
    }
   ],
   "source": [
    "from sklearn.preprocessing import StandardScaler\n",
    "\n",
    "data = [[0, 0], [0, 0], [1, 1], [1, 1]]\n",
    "\n",
    "Rescaling_data = StandardScaler(copy=True , with_mean= True , with_std= True)\n",
    "\n",
    "New_data = Rescaling_data.fit_transform(data)\n",
    "\n",
    "print(f\"The orignal data ::\\n\\n{data}\\n\\n====\\n\\nThe New_data ::\\n\\n{New_data}\")\n",
    "\n",
    "\n",
    "\n"
   ]
  },
  {
   "cell_type": "code",
   "execution_count": 6,
   "metadata": {},
   "outputs": [
    {
     "name": "stdout",
     "output_type": "stream",
     "text": [
      "The orignal data ::\n",
      "\n",
      "[[525, 880], [745, 41], [1241, 205], [200, 851]]\n",
      "\n",
      "====\n",
      "\n",
      "The New_data ::\n",
      "\n",
      "[[-0.4034605   1.02622964]\n",
      " [ 0.17762827 -1.2058032 ]\n",
      " [ 1.48771932 -0.76950596]\n",
      " [-1.26188709  0.94907952]]\n"
     ]
    }
   ],
   "source": [
    "from sklearn.preprocessing import StandardScaler\n",
    "\n",
    "data = [[525, 880], \n",
    "        [745, 41],\n",
    "        [1241, 205],\n",
    "        [200, 851]]\n",
    "\n",
    "Rescaling_data = StandardScaler(copy=True , with_mean= True , with_std= True)\n",
    "\n",
    "New_data = Rescaling_data.fit_transform(data)\n",
    "\n",
    "print(f\"The orignal data ::\\n\\n{data}\\n\\n====\\n\\nThe New_data ::\\n\\n{New_data}\")"
   ]
  },
  {
   "cell_type": "code",
   "execution_count": null,
   "metadata": {},
   "outputs": [],
   "source": []
  },
  {
   "cell_type": "code",
   "execution_count": null,
   "metadata": {},
   "outputs": [],
   "source": []
  },
  {
   "cell_type": "code",
   "execution_count": null,
   "metadata": {},
   "outputs": [],
   "source": []
  },
  {
   "cell_type": "code",
   "execution_count": null,
   "metadata": {},
   "outputs": [],
   "source": []
  }
 ],
 "metadata": {
  "kernelspec": {
   "display_name": "Python 3",
   "language": "python",
   "name": "python3"
  },
  "language_info": {
   "codemirror_mode": {
    "name": "ipython",
    "version": 3
   },
   "file_extension": ".py",
   "mimetype": "text/x-python",
   "name": "python",
   "nbconvert_exporter": "python",
   "pygments_lexer": "ipython3",
   "version": "3.7.4"
  }
 },
 "nbformat": 4,
 "nbformat_minor": 2
}
