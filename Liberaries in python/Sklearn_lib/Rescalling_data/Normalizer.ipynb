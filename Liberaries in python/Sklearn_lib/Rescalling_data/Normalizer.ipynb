{
 "cells": [
  {
   "cell_type": "markdown",
   "metadata": {},
   "source": [
    "# Normalizer"
   ]
  },
  {
   "cell_type": "markdown",
   "metadata": {},
   "source": [
    "    deal with all one of raws alone   and prameter norm = l1 or l2 or max"
   ]
  },
  {
   "cell_type": "code",
   "execution_count": null,
   "metadata": {},
   "outputs": [],
   "source": [
    "#Import Libraries\n",
    "from sklearn.preprocessing import Normalizer\n",
    "#----------------------------------------------------\n",
    "\n",
    "#Normalizing Data\n",
    "\n",
    "scaler = Normalizer(copy=True, norm='l2') # you can change the norm to 'l1' or 'max' \n",
    "X = scaler.fit_transform(X)\n",
    "\n",
    "#showing data\n",
    "print('X \\n' , X[:10])\n",
    "print('y \\n' , y[:10])"
   ]
  },
  {
   "cell_type": "code",
   "execution_count": 2,
   "metadata": {},
   "outputs": [
    {
     "name": "stdout",
     "output_type": "stream",
     "text": [
      "The orignal data ::\n",
      "\n",
      "[[4, 1, 2, 2], [1, 3, 9, 3], [5, 7, 5, 1]]\n",
      "\n",
      "====\n",
      "\n",
      "The New_data ::\n",
      "\n",
      "[[0.44444444 0.11111111 0.22222222 0.22222222]\n",
      " [0.0625     0.1875     0.5625     0.1875    ]\n",
      " [0.27777778 0.38888889 0.27777778 0.05555556]]\n"
     ]
    }
   ],
   "source": [
    "from sklearn.preprocessing import Normalizer\n",
    "\n",
    "data = [[4, 1, 2, 2], [1, 3, 9, 3], [5, 7, 5, 1]]\n",
    "\n",
    "Rescalling_data = Normalizer(copy = True , norm = \"l1\")  # l1 :: make sum(raw_value) is The Maximum\n",
    "\n",
    "New_data = Rescalling_data.fit_transform(data)\n",
    "\n",
    "\n",
    "print(f\"The orignal data ::\\n\\n{data}\\n\\n====\\n\\nThe New_data ::\\n\\n{New_data}\")\n",
    "\n"
   ]
  },
  {
   "cell_type": "code",
   "execution_count": 5,
   "metadata": {},
   "outputs": [
    {
     "name": "stdout",
     "output_type": "stream",
     "text": [
      "The orignal data ::\n",
      "\n",
      "[[4, 1, 2, 2], [1, 3, 9, 3], [5, 7, 5, 1]]\n",
      "\n",
      "====\n",
      "\n",
      "The New_data ::\n",
      "\n",
      "[[0.8 0.2 0.4 0.4]\n",
      " [0.1 0.3 0.9 0.3]\n",
      " [0.5 0.7 0.5 0.1]]\n"
     ]
    }
   ],
   "source": [
    "from sklearn.preprocessing import Normalizer\n",
    "\n",
    "data = [[4, 1, 2, 2], [1, 3, 9, 3], [5, 7, 5, 1]]\n",
    "\n",
    "Rescalling_data = Normalizer(copy = True , norm = \"l2\")  # l1 :: make root (sum((raw_value)**2)) is The Maximum\n",
    "\n",
    "New_data = Rescalling_data.fit_transform(data)\n",
    "\n",
    "\n",
    "print(f\"The orignal data ::\\n\\n{data}\\n\\n====\\n\\nThe New_data ::\\n\\n{New_data}\")\n"
   ]
  },
  {
   "cell_type": "code",
   "execution_count": 7,
   "metadata": {},
   "outputs": [
    {
     "name": "stdout",
     "output_type": "stream",
     "text": [
      "The orignal data ::\n",
      "\n",
      "[[4, 1, 2, 2], [1, 3, 9, 3], [5, 7, 5, 1]]\n",
      "\n",
      "====\n",
      "\n",
      "The New_data ::\n",
      "\n",
      "[[1.         0.25       0.5        0.5       ]\n",
      " [0.11111111 0.33333333 1.         0.33333333]\n",
      " [0.71428571 1.         0.71428571 0.14285714]]\n"
     ]
    }
   ],
   "source": [
    "from sklearn.preprocessing import Normalizer\n",
    "\n",
    "data = [[4, 1, 2, 2], [1, 3, 9, 3], [5, 7, 5, 1]]\n",
    "\n",
    "Rescalling_data = Normalizer(copy = True , norm = \"max\")  # l1 :: make Max_value is The Maximum\n",
    "\n",
    "New_data = Rescalling_data.fit_transform(data)\n",
    "\n",
    "\n",
    "print(f\"The orignal data ::\\n\\n{data}\\n\\n====\\n\\nThe New_data ::\\n\\n{New_data}\")"
   ]
  },
  {
   "cell_type": "code",
   "execution_count": null,
   "metadata": {},
   "outputs": [],
   "source": []
  }
 ],
 "metadata": {
  "kernelspec": {
   "display_name": "Python 3",
   "language": "python",
   "name": "python3"
  },
  "language_info": {
   "codemirror_mode": {
    "name": "ipython",
    "version": 3
   },
   "file_extension": ".py",
   "mimetype": "text/x-python",
   "name": "python",
   "nbconvert_exporter": "python",
   "pygments_lexer": "ipython3",
   "version": "3.7.4"
  }
 },
 "nbformat": 4,
 "nbformat_minor": 2
}
