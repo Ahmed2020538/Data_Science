{
 "cells": [
  {
   "cell_type": "markdown",
   "metadata": {},
   "source": [
    "# Binarizer"
   ]
  },
  {
   "cell_type": "markdown",
   "metadata": {},
   "source": [
    "    Convert values into 0 or 1 Based on Value of Threshold if V>= th take 1  else take 0"
   ]
  },
  {
   "cell_type": "code",
   "execution_count": null,
   "metadata": {},
   "outputs": [],
   "source": [
    "#Import Libraries\n",
    "from sklearn.preprocessing import Binarizer\n",
    "#----------------------------------------------------\n",
    "\n",
    "#Binarizing Data\n",
    "\n",
    "scaler = Binarizer(threshold = 1.0)\n",
    "X = scaler.fit_transform(X)\n",
    "\n",
    "#showing data\n",
    "print('X \\n' , X[:10])\n",
    "print('y \\n' , y[:10])"
   ]
  },
  {
   "cell_type": "code",
   "execution_count": 1,
   "metadata": {},
   "outputs": [
    {
     "name": "stdout",
     "output_type": "stream",
     "text": [
      "The orignal data ::\n",
      "\n",
      "[[1.0, -1.0, -2.0], [2.0, 0.0, -1.0], [0.0, 1.0, -1.0]]\n",
      "\n",
      "====\n",
      "\n",
      "The New_data ::\n",
      "\n",
      "[[0. 0. 0.]\n",
      " [1. 0. 0.]\n",
      " [0. 0. 0.]]\n"
     ]
    }
   ],
   "source": [
    "from sklearn.preprocessing import Binarizer\n",
    "\n",
    "data = [[ 1., -1., -2.],[ 2., 0., -1.], [ 0., 1., -1.]]\n",
    "\n",
    "Rescalling_data = Binarizer( threshold = 1.5)\n",
    "\n",
    "New_data = Rescalling_data.fit_transform(data)\n",
    "\n",
    "print(f\"The orignal data ::\\n\\n{data}\\n\\n====\\n\\nThe New_data ::\\n\\n{New_data}\")\n"
   ]
  },
  {
   "cell_type": "code",
   "execution_count": 4,
   "metadata": {},
   "outputs": [
    {
     "name": "stdout",
     "output_type": "stream",
     "text": [
      "The orignal data ::\n",
      "\n",
      "[[1.0, -1.0, -2.0], [2.0, 0.0, -1.0], [0.0, 1.0, -1.0]]\n",
      "\n",
      "====\n",
      "\n",
      "The New_data ::\n",
      "\n",
      "[[1. 0. 0.]\n",
      " [1. 0. 0.]\n",
      " [0. 1. 0.]]\n"
     ]
    }
   ],
   "source": [
    "from sklearn.preprocessing import Binarizer\n",
    "\n",
    "data = [[ 1., -1., -2.],\n",
    "        [ 2., 0., -1.], \n",
    "        [ 0., 1., -1.]]\n",
    "\n",
    "Rescalling_data = Binarizer( threshold = 0.5)\n",
    "\n",
    "New_data = Rescalling_data.fit_transform(data)\n",
    "\n",
    "print(f\"The orignal data ::\\n\\n{data}\\n\\n====\\n\\nThe New_data ::\\n\\n{New_data}\")\n"
   ]
  },
  {
   "cell_type": "code",
   "execution_count": null,
   "metadata": {},
   "outputs": [],
   "source": []
  }
 ],
 "metadata": {
  "kernelspec": {
   "display_name": "Python 3",
   "language": "python",
   "name": "python3"
  },
  "language_info": {
   "codemirror_mode": {
    "name": "ipython",
    "version": 3
   },
   "file_extension": ".py",
   "mimetype": "text/x-python",
   "name": "python",
   "nbconvert_exporter": "python",
   "pygments_lexer": "ipython3",
   "version": "3.7.4"
  }
 },
 "nbformat": 4,
 "nbformat_minor": 2
}
