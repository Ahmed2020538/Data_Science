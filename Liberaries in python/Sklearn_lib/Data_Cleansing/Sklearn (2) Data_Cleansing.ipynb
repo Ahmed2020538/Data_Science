{
 "cells": [
  {
   "cell_type": "code",
   "execution_count": null,
   "metadata": {},
   "outputs": [],
   "source": [
    "# from liberary import modules and classs\n",
    "\n",
    "from sklearn.impute import SimpleImputer\n",
    "#import numpy liberary\n",
    "import numpy as np\n",
    "\n",
    "#The Attr ond its parameters of classs\n",
    "\n",
    "\"\"\" impute.SimpleImputer(missing_values=nan, strategy='Mean , Median , Mod , Constan’,\n",
    "fill_value=None, verbose=0, copy=True)\"\"\"\n",
    "\n",
    "# create object from class\n",
    "\n",
    "Simplel_impute = SimpleImputer(missing_values = np.nan , strategy=\"mean\")\n",
    "\n",
    "# define variable to fit data\n",
    "\n",
    "Impute_data = Simplel_impute.fit(data)\n",
    "\n",
    "# get the new_data after filling missing values , or any values to chance\n",
    "\n",
    "data = Impute_data.transform(data)"
   ]
  },
  {
   "cell_type": "markdown",
   "metadata": {},
   "source": [
    "# Example 1"
   ]
  },
  {
   "cell_type": "code",
   "execution_count": 3,
   "metadata": {},
   "outputs": [],
   "source": [
    "from sklearn.impute import SimpleImputer\n",
    "data = [[0 , 2 , 3] ,\n",
    "        [4 , 0 , 6] ,\n",
    "        [7 , 8 , 0] ,\n",
    "        [10 , 0 , 0]]\n",
    "\n",
    "Impute_data = SimpleImputer( missing_values = 0 , strategy = \"mean\")\n",
    "\n",
    "Impute_data = Impute_data.fit(data)\n",
    "data = Impute_data.transform(data)"
   ]
  },
  {
   "cell_type": "code",
   "execution_count": 4,
   "metadata": {},
   "outputs": [
    {
     "data": {
      "text/plain": [
       "array([[ 7. ,  2. ,  3. ],\n",
       "       [ 4. ,  5. ,  6. ],\n",
       "       [ 7. ,  8. ,  4.5],\n",
       "       [10. ,  5. ,  4.5]])"
      ]
     },
     "execution_count": 4,
     "metadata": {},
     "output_type": "execute_result"
    }
   ],
   "source": [
    "data"
   ]
  },
  {
   "cell_type": "code",
   "execution_count": 6,
   "metadata": {},
   "outputs": [
    {
     "data": {
      "text/plain": [
       "array([[ 7. ,  2. ,  3. ],\n",
       "       [ 4. ,  5. ,  6. ],\n",
       "       [ 7. ,  8. ,  4.5],\n",
       "       [10. ,  5. ,  4.5]])"
      ]
     },
     "execution_count": 6,
     "metadata": {},
     "output_type": "execute_result"
    }
   ],
   "source": [
    "from sklearn.impute import SimpleImputer\n",
    "data = [[0 , 2 , 3] ,\n",
    "        [4 , 0 , 6] ,\n",
    "        [7 , 8 , 0] ,\n",
    "        [10 , 0 , 0]]\n",
    "\n",
    "Impute_data = SimpleImputer( missing_values = 0 , strategy = \"mean\").fit(data)\n",
    "data = Impute_data.transform(data)\n",
    "data"
   ]
  },
  {
   "cell_type": "code",
   "execution_count": 10,
   "metadata": {},
   "outputs": [
    {
     "data": {
      "text/plain": [
       "array([[ 7. ,  2. ,  3. ,  2. ],\n",
       "       [ 4. ,  5. ,  6. ,  4. ],\n",
       "       [ 7. ,  8. ,  4.5,  7. ],\n",
       "       [10. ,  5. ,  4.5, 10. ]])"
      ]
     },
     "execution_count": 10,
     "metadata": {},
     "output_type": "execute_result"
    }
   ],
   "source": [
    "from sklearn.impute import SimpleImputer\n",
    "data1 = [[0 , 2 , 3 , 2] ,\n",
    "        [4 , 0 , 6 , 4] ,\n",
    "        [7 , 8 , 0 , 7] ,\n",
    "        [10 , 0 , 0 , 10]]\n",
    "\n",
    "Impute_data1 = SimpleImputer( missing_values = 0 , strategy = \"median\").fit(data1)\n",
    "data1 = Impute_data1.transform(data1)\n",
    "data1"
   ]
  },
  {
   "cell_type": "code",
   "execution_count": 13,
   "metadata": {},
   "outputs": [
    {
     "data": {
      "text/plain": [
       "array([[ 4,  2,  3,  2],\n",
       "       [ 4,  2,  6,  4],\n",
       "       [ 7,  8,  3,  7],\n",
       "       [10,  2,  3, 10]])"
      ]
     },
     "execution_count": 13,
     "metadata": {},
     "output_type": "execute_result"
    }
   ],
   "source": [
    "from sklearn.impute import SimpleImputer\n",
    "data2 = [[0 , 2 , 3 , 2] ,\n",
    "        [4 , 0 , 6 , 4] ,\n",
    "        [7 , 8 , 0 , 7] ,\n",
    "        [10 , 0 , 0 , 10]]\n",
    "\n",
    "Impute_data2 = SimpleImputer( missing_values = 0 , strategy = \"most_frequent\").fit(data2)\n",
    "data2 = Impute_data2.transform(data2)\n",
    "data2"
   ]
  },
  {
   "cell_type": "code",
   "execution_count": 14,
   "metadata": {},
   "outputs": [
    {
     "data": {
      "text/plain": [
       "array([[ 0,  2,  3,  2],\n",
       "       [ 4,  0,  6,  4],\n",
       "       [ 7,  8,  0,  7],\n",
       "       [10,  0,  0, 10]])"
      ]
     },
     "execution_count": 14,
     "metadata": {},
     "output_type": "execute_result"
    }
   ],
   "source": [
    "from sklearn.impute import SimpleImputer\n",
    "data3 = [[0 , 2 , 3 , 2] ,\n",
    "        [4 , 0 , 6 , 4] ,\n",
    "        [7 , 8 , 0 , 7] ,\n",
    "        [10 , 0 , 0 , 10]]\n",
    "\n",
    "Impute_data3 = SimpleImputer( missing_values = 0 , strategy = \"constant\").fit(data3)\n",
    "data3 = Impute_data3.transform(data3)\n",
    "data3"
   ]
  },
  {
   "cell_type": "code",
   "execution_count": 15,
   "metadata": {},
   "outputs": [
    {
     "data": {
      "text/plain": [
       "array([[ 7. ,  2. ,  3. ,  2. ],\n",
       "       [ 4. ,  5. ,  6. ,  4. ],\n",
       "       [ 7. ,  8. ,  4.5,  7. ],\n",
       "       [10. ,  5. ,  4.5, 10. ]])"
      ]
     },
     "execution_count": 15,
     "metadata": {},
     "output_type": "execute_result"
    }
   ],
   "source": [
    "from sklearn.impute import SimpleImputer\n",
    "import numpy as np\n",
    "data4 = [[np.nan , 2 , 3 , 2] ,\n",
    "        [4 , np.nan , 6 , 4] ,\n",
    "        [7 , 8 , np.nan , 7] ,\n",
    "        [10 , np.nan , np.nan , 10]]\n",
    "\n",
    "Impute_data4 = SimpleImputer( missing_values = np.nan , strategy = \"mean\").fit(data4)\n",
    "data4 = Impute_data4.transform(data4)\n",
    "data4"
   ]
  },
  {
   "cell_type": "code",
   "execution_count": null,
   "metadata": {},
   "outputs": [],
   "source": []
  }
 ],
 "metadata": {
  "kernelspec": {
   "display_name": "Python 3",
   "language": "python",
   "name": "python3"
  },
  "language_info": {
   "codemirror_mode": {
    "name": "ipython",
    "version": 3
   },
   "file_extension": ".py",
   "mimetype": "text/x-python",
   "name": "python",
   "nbconvert_exporter": "python",
   "pygments_lexer": "ipython3",
   "version": "3.7.4"
  }
 },
 "nbformat": 4,
 "nbformat_minor": 2
}
