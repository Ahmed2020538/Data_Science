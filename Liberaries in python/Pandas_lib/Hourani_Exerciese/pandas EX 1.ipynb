{
 "cells": [
  {
   "cell_type": "markdown",
   "metadata": {},
   "source": [
    "# EX: 1"
   ]
  },
  {
   "cell_type": "code",
   "execution_count": 2,
   "metadata": {},
   "outputs": [
    {
     "name": "stdout",
     "output_type": "stream",
     "text": [
      "count      7.000000\n",
      "mean     166.285714\n",
      "std       46.078608\n",
      "min      100.000000\n",
      "25%      130.000000\n",
      "50%      180.000000\n",
      "75%      205.000000\n",
      "max      214.000000\n",
      "dtype: float64\n",
      "AxesSubplot(0.125,0.125;0.775x0.755)\n"
     ]
    },
    {
     "data": {
      "image/png": "[encoded data removed]",
      "text/plain": [
       "<Figure size 432x288 with 1 Axes>"
      ]
     },
     "metadata": {
      "needs_background": "light"
     },
     "output_type": "display_data"
    }
   ],
   "source": [
    "import pandas as pd\n",
    "\n",
    "data = [100,120,140,180,200,210,214]  # Series data\n",
    "\n",
    "S = pd.Series(data)  # Its one dimensional arrray\n",
    "\n",
    "print(S.describe())\n",
    "\n",
    "print(S.plot(kind = \"bar\"))\n",
    "\n"
   ]
  },
  {
   "cell_type": "markdown",
   "metadata": {},
   "source": [
    "# EX: 2 "
   ]
  },
  {
   "cell_type": "code",
   "execution_count": 3,
   "metadata": {},
   "outputs": [
    {
     "name": "stdout",
     "output_type": "stream",
     "text": [
      "0    100\n",
      "1    120\n",
      "2    140\n",
      "3    180\n",
      "4    200\n",
      "5    210\n",
      "6    214\n",
      "dtype: int64\n",
      "=======================================\n",
      "=======================================\n",
      "describe : count      7.000000\n",
      "mean     166.285714\n",
      "std       46.078608\n",
      "min      100.000000\n",
      "25%      130.000000\n",
      "50%      180.000000\n",
      "75%      205.000000\n",
      "max      214.000000\n",
      "dtype: float64\n",
      "=======================================\n",
      "=======================================\n",
      "Mean : 166.28571428571428\n",
      "=======================================\n",
      "STd : 46.07860778320126\n",
      "=======================================\n",
      "=======================================\n",
      "sum    1164\n",
      "max     214\n",
      "dtype: int64\n",
      "=======================================\n",
      "=======================================\n",
      "=======================================\n",
      "A    100\n",
      "B    120\n",
      "C    140\n",
      "D    180\n",
      "E    200\n",
      "F    210\n",
      "G    214\n",
      "dtype: int64\n",
      "=======================================\n",
      "=======================================\n",
      "AxesSubplot(0.125,0.125;0.775x0.755)\n"
     ]
    },
    {
     "data": {
      "image/png": "[encoded data removed]",
      "text/plain": [
       "<Figure size 432x288 with 1 Axes>"
      ]
     },
     "metadata": {
      "needs_background": "light"
     },
     "output_type": "display_data"
    }
   ],
   "source": [
    "import pandas as pd\n",
    "\n",
    "data = [100,120,140,180,200,210,214]\n",
    "\n",
    "S = pd.Series(data)\n",
    "print(S)\n",
    "\n",
    "print(\"=======================================\")\n",
    "print(\"=======================================\")\n",
    "print(\"describe :\",S.describe())\n",
    "\n",
    "print(\"=======================================\")\n",
    "print(\"=======================================\")\n",
    "\n",
    "print(\"Mean :\" , S.mean()) # Mean only\n",
    "print(\"=======================================\")\n",
    "\n",
    "print(\"STd :\" , S.std()) # Stader devision only\n",
    "\n",
    "print(\"=======================================\")\n",
    "print(\"=======================================\")\n",
    "\n",
    "print(S.agg([\"sum\",\"max\"]))\n",
    "print(\"=======================================\")\n",
    "print(\"=======================================\")\n",
    "print(\"=======================================\")\n",
    "# To Print data by my index\n",
    "\n",
    "S.index = [\"A\" , \"B\" , \"C\" , \"D\" , \"E\" , \"F\" ,\"G\"]\n",
    "\n",
    "print(S)\n",
    "\n",
    "print(\"=======================================\")\n",
    "print(\"=======================================\")\n",
    "\n",
    "print(S.plot())\n",
    "\n",
    "\n",
    "\n"
   ]
  },
  {
   "cell_type": "markdown",
   "metadata": {},
   "source": [
    "# Data Frame"
   ]
  },
  {
   "cell_type": "markdown",
   "metadata": {},
   "source": [
    "# Ex ; 1"
   ]
  },
  {
   "cell_type": "code",
   "execution_count": 11,
   "metadata": {},
   "outputs": [
    {
     "name": "stdout",
     "output_type": "stream",
     "text": [
      "  Country Capital    Area  Population\n",
      "0   Egypt   Cairo   8.516      200.40\n",
      "1  German  Berlin  17.100      143.50\n",
      "2   Sudia   Reyad   3.286     1252.00\n",
      "3   China  Bejing   9.597     1357.00\n",
      "4   Paris   Paris   1.221       52.97\n",
      "=======================================\n",
      "=======================================\n",
      "=======================================\n",
      "            Area   Population\n",
      "count   5.000000     5.000000\n",
      "mean    7.944000   601.174000\n",
      "std     6.200557   645.263578\n",
      "min     1.221000    52.970000\n",
      "25%     3.286000   143.500000\n",
      "50%     8.516000   200.400000\n",
      "75%     9.597000  1252.000000\n",
      "max    17.100000  1357.000000\n",
      "=======================================\n",
      "=======================================\n",
      "AxesSubplot(0.125,0.125;0.775x0.755)\n",
      "=======================================\n",
      "=======================================\n",
      "AxesSubplot(0.125,0.125;0.775x0.755)\n",
      "=======================================\n",
      "=======================================\n",
      "       Country Capital    Area  Population\n",
      "Frist    Egypt   Cairo   8.516      200.40\n",
      "Second  German  Berlin  17.100      143.50\n",
      "Third    Sudia   Reyad   3.286     1252.00\n",
      "Four     China  Bejing   9.597     1357.00\n",
      "Five     Paris   Paris   1.221       52.97\n"
     ]
    },
    {
     "data": {
      "image/png": "[encoded data removed]",
      "text/plain": [
       "<Figure size 432x288 with 1 Axes>"
      ]
     },
     "metadata": {
      "needs_background": "light"
     },
     "output_type": "display_data"
    },
    {
     "data": {
      "image/png": "[encoded data removed]",
      "text/plain": [
       "<Figure size 432x288 with 1 Axes>"
      ]
     },
     "metadata": {
      "needs_background": "light"
     },
     "output_type": "display_data"
    }
   ],
   "source": [
    "import pandas as pd\n",
    "\n",
    "dic = {\"Country\" :[\"Egypt\",\"German\",\"Sudia\",\"China\",\"Paris\"] , \"Capital\" : [\"Cairo\" , \"Berlin\" , \"Reyad\" ,\"Bejing\" , \"Paris\"] , \"Area\" :[8.516,17.10,3.286,9.597,1.221] , \"Population\" :[200.4,143.5,1252,1357,52.97]} \n",
    "\n",
    "D_F = pd.DataFrame(dic)\n",
    "\n",
    "print(D_F)\n",
    "\n",
    "print(\"=======================================\")\n",
    "print(\"=======================================\")\n",
    "print(\"=======================================\")\n",
    "\n",
    "print(D_F.describe())\n",
    "\n",
    "\n",
    "print(\"=======================================\")\n",
    "print(\"=======================================\")\n",
    "print(D_F.plot(kind =\"bar\"))\n",
    "\n",
    "\n",
    "print(\"=======================================\")\n",
    "print(\"=======================================\")\n",
    "print(D_F.plot())\n",
    "\n",
    "\n",
    "print(\"=======================================\")\n",
    "print(\"=======================================\")\n",
    "\n",
    "\n",
    "D_F.index = [\"Frist\" , \"Second\" , \"Third\" , \"Four\" , \"Five\" ]\n",
    "\n",
    "print(D_F)"
   ]
  },
  {
   "cell_type": "markdown",
   "metadata": {},
   "source": [
    "# EX : 2"
   ]
  },
  {
   "cell_type": "code",
   "execution_count": 17,
   "metadata": {},
   "outputs": [
    {
     "name": "stdout",
     "output_type": "stream",
     "text": [
      "   ones  Twos latters\n",
      "0     1     2       A\n",
      "1     2     2       B\n",
      "2     3     2       C\n",
      "3     4     2       D\n",
      "4     5     2       E\n",
      "5     6     2       F\n",
      "=======================================\n",
      "=======================================\n",
      "=======================================\n",
      "=======================================\n",
      "   ones  Twos latters\n",
      "A     1     2       A\n",
      "B     2     2       B\n",
      "C     3     2       C\n",
      "D     4     2       D\n",
      "E     5     2       E\n",
      "F     6     2       F\n",
      "=======================================\n",
      "=======================================\n",
      "AxesSubplot(0.125,0.125;0.775x0.755)\n",
      "=======================================\n",
      "=======================================\n",
      "AxesSubplot(0.125,0.125;0.775x0.755)\n",
      "=======================================\n",
      "=======================================\n",
      "7 A\n",
      "7 B\n",
      "7 C\n",
      "7 D\n",
      "7 E\n",
      "7 F\n",
      "=======================================\n",
      "=======================================\n",
      "6 A\n",
      "7 B\n",
      "8 C\n",
      "9 D\n",
      "10 E\n",
      "11 F\n"
     ]
    },
    {
     "data": {
      "image/png": "[encoded data removed]",
      "text/plain": [
       "<Figure size 432x288 with 1 Axes>"
      ]
     },
     "metadata": {
      "needs_background": "light"
     },
     "output_type": "display_data"
    },
    {
     "data": {
      "image/png": "[encoded data removed]",
      "text/plain": [
       "<Figure size 432x288 with 1 Axes>"
      ]
     },
     "metadata": {
      "needs_background": "light"
     },
     "output_type": "display_data"
    }
   ],
   "source": [
    "import pandas as pd\n",
    "\n",
    "dicc = {\"ones\" :[1,2,3,4,5,6] , \"Twos\" : [2,2,2,2,2,2] , \"latters\" : [\"A\" ,\"B\" , \"C\" , \"D\" ,\"E\" , \"F\"]}\n",
    "\n",
    "D_FF = pd.DataFrame(dicc)\n",
    "\n",
    "print(D_FF)\n",
    "\n",
    "print(\"=======================================\")\n",
    "print(\"=======================================\")\n",
    "\n",
    "#print(D_FF.describee())\n",
    "\n",
    "print(\"=======================================\")\n",
    "print(\"=======================================\")\n",
    "\n",
    "D_FF.index = [\"A\",\"B\",\"C\",\"D\",\"E\",\"F\"]\n",
    "\n",
    "print(D_FF)\n",
    "print(\"=======================================\")\n",
    "print(\"=======================================\")\n",
    "\n",
    "\n",
    "print(D_FF.plot(kind=\"bar\"))\n",
    "\n",
    "print(\"=======================================\")\n",
    "print(\"=======================================\")\n",
    "\n",
    "print(D_FF.plot())\n",
    "\n",
    "print(\"=======================================\")\n",
    "print(\"=======================================\")\n",
    "\n",
    "for index , row in D_FF.iterrows() :\n",
    "    print(row[\"Twos\"]+5 , row[\"latters\"])\n",
    "    \n",
    "    \n",
    "    \n",
    "print(\"=======================================\")\n",
    "print(\"=======================================\")\n",
    "\n",
    "for index , row in D_FF.iterrows() :\n",
    "    print(row[\"ones\"]+5 , row[\"latters\"])\n",
    "    \n",
    "    \n",
    "    \n",
    "    \n"
   ]
  },
  {
   "cell_type": "markdown",
   "metadata": {},
   "source": [
    "# EX :3"
   ]
  },
  {
   "cell_type": "code",
   "execution_count": 26,
   "metadata": {},
   "outputs": [
    {
     "name": "stdout",
     "output_type": "stream",
     "text": [
      "[('Ahmed', 120), ('Mido', 987), ('Turky', 210), ('Yousef', 555), ('Hamza', 350)]\n",
      "=======================================\n",
      "=======================================\n",
      "    Names  Birth\n",
      "0   Ahmed    120\n",
      "1    Mido    987\n",
      "2   Turky    210\n",
      "3  Yousef    555\n",
      "4   Hamza    350\n",
      "=======================================\n",
      "=======================================\n",
      "    Names  Birth\n",
      "1    Mido    987\n",
      "3  Yousef    555\n",
      "4   Hamza    350\n",
      "2   Turky    210\n",
      "0   Ahmed    120\n",
      "=======================================\n",
      "=======================================\n",
      "    Names  Birth\n",
      "0   Ahmed    120\n",
      "2   Turky    210\n",
      "4   Hamza    350\n",
      "3  Yousef    555\n",
      "1    Mido    987\n",
      "=======================================\n",
      "=======================================\n",
      "Max_V : 987\n",
      "MIN_V : 120\n",
      "=======================================\n",
      "=======================================\n",
      "Sum_V : 2222\n",
      "=======================================\n",
      "=======================================\n",
      "   Names  Birth\n",
      "0  Ahmed    120\n",
      "=======================================\n",
      "=======================================\n",
      "   Names  Birth\n",
      "0  Ahmed    120\n",
      "1   Mido    987\n",
      "2  Turky    210\n"
     ]
    }
   ],
   "source": [
    "import pandas as pd\n",
    "\n",
    "names = [\"Ahmed\" , \"Mido\" , \"Turky\" , \"Yousef\" , \"Hamza\" ]\n",
    "\n",
    "birth = [120 , 987 , 210 ,555 ,350]\n",
    "\n",
    "Data = list(zip(names ,birth))\n",
    "\n",
    "print(Data)\n",
    "\n",
    "print(\"=======================================\")\n",
    "print(\"=======================================\")\n",
    "\n",
    "D_F0 = pd.DataFrame(data = Data , columns = [\"Names\" , \"Birth\"])\n",
    "\n",
    "print(D_F0)\n",
    "\n",
    "print(\"=======================================\")\n",
    "print(\"=======================================\")\n",
    "\n",
    "print(D_F0.sort_values([\"Birth\"] , ascending = False))\n",
    "\n",
    "\n",
    "print(\"=======================================\")\n",
    "print(\"=======================================\")\n",
    "\n",
    "print(D_F0.sort_values([\"Birth\"] ,ascending = True))\n",
    "\n",
    "\n",
    "\n",
    "print(\"=======================================\")\n",
    "print(\"=======================================\")\n",
    "\n",
    "print(\"Max_V :\" , D_F0[\"Birth\"].max())\n",
    "\n",
    "print(\"MIN_V :\" , D_F0[\"Birth\"].min())\n",
    "\n",
    "print(\"=======================================\")\n",
    "print(\"=======================================\")\n",
    "\n",
    "print(\"Sum_V :\" ,D_F0[\"Birth\"].sum())\n",
    "\n",
    "print(\"=======================================\")\n",
    "print(\"=======================================\")\n",
    "\n",
    "print(D_F0.head(1))\n",
    "\n",
    "print(\"=======================================\")\n",
    "print(\"=======================================\")\n",
    "print(D_F0.head(3))\n"
   ]
  },
  {
   "cell_type": "markdown",
   "metadata": {},
   "source": [
    "# EX:"
   ]
  },
  {
   "cell_type": "code",
   "execution_count": 28,
   "metadata": {},
   "outputs": [
    {
     "name": "stdout",
     "output_type": "stream",
     "text": [
      "{'ones': [1, 2, 3, 4, 5], 'Twos': [2, 2, 2, 2, 2], 'latters': ['a', 'a', 'b', 'b', 'c']}\n",
      "=======================================\n",
      "=======================================\n",
      "   ones  Twos latters\n",
      "0     1     2       a\n",
      "1     2     2       a\n",
      "2     3     2       b\n",
      "3     4     2       b\n",
      "4     5     2       c\n",
      "=======================================\n",
      "=======================================\n",
      "0    1.000000\n",
      "1    1.414214\n",
      "2    1.732051\n",
      "3    2.000000\n",
      "4    2.236068\n",
      "Name: ones, dtype: float64\n",
      "=======================================\n",
      "0    1.414214\n",
      "1    1.414214\n",
      "2    1.414214\n",
      "3    1.414214\n",
      "4    1.414214\n",
      "Name: Twos, dtype: float64\n",
      "=======================================\n",
      "=======================================\n",
      "0    map_a\n",
      "1    map_a\n",
      "2    map_b\n",
      "3    map_b\n",
      "4    map_c\n",
      "Name: latters, dtype: object\n"
     ]
    }
   ],
   "source": [
    "import pandas as pd\n",
    "\n",
    "import numpy as np\n",
    "\n",
    "D = {\"ones\" : [1,2,3,4,5] , \"Twos\" : [2,2,2,2,2] , \"latters\":[\"a\" ,\"a\" ,\"b\",\"b\",\"c\"]}\n",
    "print(D)\n",
    "\n",
    "print(\"=======================================\")\n",
    "print(\"=======================================\")\n",
    "\n",
    "D_F1 = pd.DataFrame(D)\n",
    "\n",
    "print(D_F1)\n",
    "print(\"=======================================\")\n",
    "print(\"=======================================\")\n",
    "\n",
    "print(D_F1[\"ones\"].apply(np.sqrt))\n",
    "\n",
    "print(\"=======================================\")\n",
    "\n",
    "print(D_F1[\"Twos\"].apply(np.sqrt))\n",
    "\n",
    "print(\"=======================================\")\n",
    "print(\"=======================================\")\n",
    "\n",
    "print(D_F1[\"latters\"].map(lambda x :\"map_\" + x))\n"
   ]
  },
  {
   "cell_type": "code",
   "execution_count": null,
   "metadata": {},
   "outputs": [],
   "source": []
  }
 ],
 "metadata": {
  "kernelspec": {
   "display_name": "Python 3",
   "language": "python",
   "name": "python3"
  },
  "language_info": {
   "codemirror_mode": {
    "name": "ipython",
    "version": 3
   },
   "file_extension": ".py",
   "mimetype": "text/x-python",
   "name": "python",
   "nbconvert_exporter": "python",
   "pygments_lexer": "ipython3",
   "version": "3.7.4"
  }
 },
 "nbformat": 4,
 "nbformat_minor": 2
}
