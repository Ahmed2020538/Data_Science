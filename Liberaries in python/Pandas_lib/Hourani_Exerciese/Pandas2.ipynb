{
 "cells": [
  {
   "cell_type": "markdown",
   "metadata": {},
   "source": [
    "# EX"
   ]
  },
  {
   "cell_type": "code",
   "execution_count": 8,
   "metadata": {},
   "outputs": [
    {
     "name": "stdout",
     "output_type": "stream",
     "text": [
      "   Rev\n",
      "0    0\n",
      "1    1\n",
      "2    2\n",
      "3    3\n",
      "4    4\n",
      "5    5\n",
      "6    6\n",
      "7    7\n",
      "8    8\n",
      "9    9\n",
      "==================================\n",
      "==================================\n",
      "   Rev  NewCol  Col\n",
      "0    0       5    0\n",
      "1    1       5    1\n",
      "2    2       5    2\n",
      "3    3       5    3\n",
      "4    4       5    4\n",
      "5    5       5    5\n",
      "6    6       5    6\n",
      "7    7       5    7\n",
      "8    8       5    8\n",
      "9    9       5    9\n",
      "==================================\n",
      "==================================\n",
      "   Rev  NewCol  Col  Test\n",
      "0    0       5    0    10\n",
      "1    1       5    1    10\n",
      "2    2       5    2    10\n",
      "3    3       5    3    10\n",
      "4    4       5    4    10\n",
      "5    5       5    5    10\n",
      "6    6       5    6    10\n",
      "7    7       5    7    10\n",
      "8    8       5    8    10\n",
      "9    9       5    9    10\n",
      "   Rev  NewCol  Col\n",
      "0    0       5    0\n",
      "1    1       5    1\n",
      "2    2       5    2\n",
      "3    3       5    3\n",
      "4    4       5    4\n",
      "5    5       5    5\n",
      "6    6       5    6\n",
      "7    7       5    7\n",
      "8    8       5    8\n",
      "9    9       5    9\n",
      "==================================\n",
      "==================================\n",
      "   Rev  NewCol  Col\n",
      "0    0       5    0\n",
      "1    1       5    1\n",
      "2    2       5    2\n",
      "==================================\n",
      "   Rev  NewCol  Col\n",
      "8    8       5    8\n",
      "9    9       5    9\n",
      "==================================\n",
      "==================================\n",
      "==================================\n",
      "   Rev  NewCol  Col\n",
      "A    0       5    0\n",
      "B    1       5    1\n",
      "C    2       5    2\n",
      "D    3       5    3\n",
      "E    4       5    4\n",
      "F    5       5    5\n",
      "G    6       5    6\n",
      "H    7       5    7\n",
      "J    8       5    8\n",
      "k    9       5    9\n",
      "==================================\n",
      "==================================\n",
      "Rev       0\n",
      "NewCol    5\n",
      "Col       0\n",
      "Name: A, dtype: int64\n",
      "==================================\n",
      "   Rev  NewCol  Col\n",
      "A    0       5    0\n",
      "B    1       5    1\n",
      "C    2       5    2\n",
      "D    3       5    3\n",
      "E    4       5    4\n",
      "   Rev  NewCol  Col\n",
      "A    0       5    0\n",
      "B    1       5    1\n",
      "C    2       5    2\n",
      "D    3       5    3\n",
      "E    4       5    4\n",
      "==================================\n",
      "==================================\n",
      "   Rev  NewCol\n",
      "A    0       5\n",
      "B    1       5\n",
      "C    2       5\n",
      "D    3       5\n",
      "E    4       5\n",
      "F    5       5\n",
      "G    6       5\n",
      "H    7       5\n",
      "J    8       5\n",
      "k    9       5\n"
     ]
    }
   ],
   "source": [
    "import pandas as pd\n",
    "\n",
    "data = [0,1,2,3,4,5,6,7,8,9]\n",
    "\n",
    "d_f = pd.DataFrame(data)\n",
    "\n",
    "d_f.columns =[\"Rev\"]\n",
    "\n",
    "print(d_f)\n",
    "\n",
    "print(\"==================================\")\n",
    "print(\"==================================\")\n",
    "\n",
    "\n",
    "d_f[\"NewCol\"] = 5\n",
    "\n",
    "d_f[\"Col\"] =d_f [\"Rev\"]\n",
    "\n",
    "print(d_f)\n",
    "\n",
    "print(\"==================================\")\n",
    "print(\"==================================\")\n",
    "\n",
    "d_f[\"Test\"] = 10\n",
    "\n",
    "print(d_f)\n",
    "\n",
    "del d_f[\"Test\"]\n",
    "\n",
    "print(d_f)\n",
    "\n",
    "print(\"==================================\")\n",
    "print(\"==================================\")\n",
    "print(d_f.head(3))\n",
    "print(\"==================================\")\n",
    "print(d_f.tail(2))\n",
    "\n",
    "print(\"==================================\")\n",
    "print(\"==================================\")\n",
    "print(\"==================================\")\n",
    "\n",
    "i = [\"A\",\"B\",\"C\",\"D\",\"E\",\"F\",\"G\",\"H\",\"J\",\"k\"]\n",
    "\n",
    "d_f.index = i\n",
    "\n",
    "print(d_f)\n",
    "\n",
    "\n",
    "print(\"==================================\")\n",
    "print(\"==================================\")\n",
    "\n",
    "print(d_f.loc[\"A\"])\n",
    "\n",
    "print(\"==================================\")\n",
    "print(d_f.loc[\"A\":\"E\"])\n",
    "\n",
    "print(d_f.iloc[0:5])\n",
    "\n",
    "print(\"==================================\")\n",
    "print(\"==================================\")\n",
    "\n",
    "print(d_f[[\"Rev\" ,\"NewCol\"]])"
   ]
  },
  {
   "cell_type": "markdown",
   "metadata": {},
   "source": [
    "# EX"
   ]
  },
  {
   "cell_type": "code",
   "execution_count": 22,
   "metadata": {},
   "outputs": [
    {
     "name": "stdout",
     "output_type": "stream",
     "text": [
      "{'Ones': [1, 1, 1, 1, 1], 'Twos': [2, 2, 2, 2, 2], 'Latter': ['A', 'A', 'B', 'B', 'C']}\n",
      "===========================\n",
      "===========================\n",
      "===========================\n",
      "        Ones  Twos\n",
      "Latter            \n",
      "A          2     4\n",
      "B          2     4\n",
      "C          1     2\n",
      "===========================\n",
      "===========================\n",
      "<pandas.core.groupby.generic.DataFrameGroupBy object at 0x000000D5C91633C8>\n",
      "==========================\n",
      "             Twos\n",
      "Latter Ones      \n",
      "A      1        4\n",
      "B      1        4\n",
      "C      1        2\n",
      "==========================\n",
      "==========================\n",
      "AxesSubplot(0.125,0.11;0.775x0.77)\n",
      "==========================\n",
      "==========================\n",
      "AxesSubplot(0.125,0.11;0.775x0.77)\n"
     ]
    }
   ],
   "source": [
    "import pandas as pd\n",
    "\n",
    "data ={\"Ones\" : [1, 1 , 1 , 1 , 1] , \"Twos\" : [ 2 , 2 , 2 , 2 , 2] , \"Latter\" : [\"A\",\"A\",\"B\",\"B\",\"C\"]}\n",
    "\n",
    "print(data)\n",
    "\n",
    "print(\"===========================\")\n",
    "\n",
    "D_F = pd.DataFrame(data)\n",
    "\n",
    "print(\"===========================\")\n",
    "print(\"===========================\")\n",
    "\n",
    "gpy = D_F.groupby(\"Latter\")\n",
    "\n",
    "print(gpy.sum())\n",
    "\n",
    "print(\"===========================\")\n",
    "print(\"===========================\")\n",
    "\n",
    "gpy2 = D_F.groupby([\"Latter\" , \"Ones\"])\n",
    "\n",
    "\n",
    "print(gpy2)\n",
    "\n",
    "print(\"==========================\")\n",
    "gpy2 = D_F.groupby([\"Latter\" , \"Ones\"]).sum()\n",
    "\n",
    "print(gpy2)\n",
    "\n",
    "\n",
    "print(\"==========================\")\n",
    "print(\"==========================\")\n",
    "print(D_F.plot())\n",
    "\n",
    "print(\"==========================\")\n",
    "print(\"==========================\")\n",
    "print(D_F.plot(kind=\"bar\"))\n",
    "    \n",
    "\n",
    "\n",
    "\n",
    "\n"
   ]
  },
  {
   "cell_type": "markdown",
   "metadata": {},
   "source": [
    "# To Export Excel Fil"
   ]
  },
  {
   "cell_type": "code",
   "execution_count": 14,
   "metadata": {},
   "outputs": [
    {
     "name": "stdout",
     "output_type": "stream",
     "text": [
      "[1, 2, 3, 4, 5, 6, 7, 8, 9]\n",
      "=======================\n",
      "   Numbers\n",
      "0        1\n",
      "1        2\n",
      "2        3\n",
      "3        4\n",
      "4        5\n",
      "5        6\n",
      "6        7\n",
      "7        8\n",
      "8        9\n",
      "=======================\n",
      "=======================\n",
      "   Numbers\n",
      "0        1\n",
      "1        2\n",
      "2        3\n",
      "3        4\n",
      "4        5\n",
      "5        6\n",
      "6        7\n",
      "7        8\n",
      "8        9\n"
     ]
    }
   ],
   "source": [
    "import pandas as pd\n",
    "\n",
    "data = [1,2,3,4,5,6,7,8,9]\n",
    "\n",
    "print(data)\n",
    "\n",
    "print(\"=======================\")\n",
    "\n",
    "df = pd.DataFrame(data , columns = [\"Numbers\"])\n",
    "\n",
    "print(df)\n",
    "\n",
    "print(\"=======================\")\n",
    "print(\"=======================\")\n",
    "\n",
    "df.to_excel(\"panda excel.xlsx\" , sheet_name = \"Testing\" , index = True)\n",
    "\n",
    "print(df)"
   ]
  },
  {
   "cell_type": "markdown",
   "metadata": {},
   "source": [
    "# To Export Csv Fil"
   ]
  },
  {
   "cell_type": "code",
   "execution_count": 17,
   "metadata": {},
   "outputs": [
    {
     "name": "stdout",
     "output_type": "stream",
     "text": [
      "[1, 2, 3, 4, 5, 6, 7, 8, 9]\n",
      "=======================\n",
      "   Numbers\n",
      "0        1\n",
      "1        2\n",
      "2        3\n",
      "3        4\n",
      "4        5\n",
      "5        6\n",
      "6        7\n",
      "7        8\n",
      "8        9\n",
      "=======================\n",
      "=======================\n",
      "   Numbers\n",
      "0        1\n",
      "1        2\n",
      "2        3\n",
      "3        4\n",
      "4        5\n",
      "5        6\n",
      "6        7\n",
      "7        8\n",
      "8        9\n"
     ]
    }
   ],
   "source": [
    "import pandas as pd\n",
    "\n",
    "data = [1,2,3,4,5,6,7,8,9]\n",
    "\n",
    "print(data)\n",
    "\n",
    "print(\"=======================\")\n",
    "\n",
    "df = pd.DataFrame(data , columns = [\"Numbers\"])\n",
    "\n",
    "print(df)\n",
    "\n",
    "print(\"=======================\")\n",
    "print(\"=======================\")\n",
    "\n",
    "\n",
    "df.to_csv(\"pandas.csv\" , sep = \"\\t\")\n",
    "print(df)"
   ]
  },
  {
   "cell_type": "markdown",
   "metadata": {},
   "source": [
    "# To Read csv files "
   ]
  },
  {
   "cell_type": "code",
   "execution_count": 18,
   "metadata": {},
   "outputs": [
    {
     "name": "stdout",
     "output_type": "stream",
     "text": [
      "   Numbers\n",
      "0        1\n",
      "1        2\n",
      "2        3\n",
      "3        4\n",
      "4        5\n",
      "5        6\n",
      "6        7\n",
      "7        8\n",
      "8        9\n"
     ]
    }
   ],
   "source": [
    "DF = pd.read_csv(\"pandas.csv\" , sep = \"\\t\" , index_col = 0)\n",
    "print(DF)"
   ]
  },
  {
   "cell_type": "markdown",
   "metadata": {},
   "source": [
    "# To Read Ecel sheet"
   ]
  },
  {
   "cell_type": "code",
   "execution_count": 20,
   "metadata": {},
   "outputs": [
    {
     "name": "stdout",
     "output_type": "stream",
     "text": [
      "   Unnamed: 0  Numbers\n",
      "0           0        1\n",
      "1           1        2\n",
      "2           2        3\n",
      "3           3        4\n",
      "4           4        5\n",
      "5           5        6\n",
      "6           6        7\n",
      "7           7        8\n",
      "8           8        9\n"
     ]
    }
   ],
   "source": [
    "DF1 = pd.read_excel(\"panda excel.xlsx\" , shhet_name = \"Testing\" , index = True)\n",
    "\n",
    "print(DF1)\n"
   ]
  },
  {
   "cell_type": "markdown",
   "metadata": {},
   "source": [
    "# To draw Data"
   ]
  },
  {
   "cell_type": "code",
   "execution_count": 25,
   "metadata": {},
   "outputs": [
    {
     "name": "stdout",
     "output_type": "stream",
     "text": [
      "['Apple', 'Bannanas', 'Pars', 'Cheies']\n",
      "==============================\n",
      "Apple       10\n",
      "Bannanas    30\n",
      "Pars        50\n",
      "Cheies      10\n",
      "Name: Sieries, dtype: int64\n",
      "==============================\n",
      "==============================\n",
      "AxesSubplot(0.135,0.125;0.755x0.755)\n",
      "==============================\n",
      "==============================\n",
      "==============================\n"
     ]
    },
    {
     "data": {
      "image/png": "[encoded data removed]",
      "text/plain": [
       "<Figure size 432x432 with 1 Axes>"
      ]
     },
     "metadata": {},
     "output_type": "display_data"
    }
   ],
   "source": [
    "import pandas as pd\n",
    "\n",
    "Fruits = [\"Apple\" , \"Bannanas\" ,\"Pars\" , \"Cheies\"]\n",
    "\n",
    "print(Fruits)  \n",
    "\n",
    "print(\"==============================\")\n",
    "\n",
    "df = pd.Series([10 , 30 , 50 ,10] , index = Fruits , name = \"Sieries\")\n",
    "\n",
    "print(df)\n",
    "\n",
    "print(\"==============================\")\n",
    "print(\"==============================\")\n",
    "\n",
    "print(df.plot.pie(figsize = (6,6)))\n",
    "\n",
    "print(\"==============================\")\n",
    "print(\"==============================\")\n",
    "print(\"==============================\")\n",
    "\n",
    "explode = [0 , 0.10 , 0.40 , 0.7]\n",
    "\n",
    "#print(df.plot.pie(figsize = (6,6) ,explode = explode))"
   ]
  },
  {
   "cell_type": "code",
   "execution_count": 26,
   "metadata": {},
   "outputs": [
    {
     "name": "stdout",
     "output_type": "stream",
     "text": [
      "AxesSubplot(0.135,0.125;0.755x0.755)\n"
     ]
    },
    {
     "data": {
      "image/png": "[encoded data removed]",
      "text/plain": [
       "<Figure size 432x432 with 1 Axes>"
      ]
     },
     "metadata": {},
     "output_type": "display_data"
    }
   ],
   "source": [
    "print(df.plot.pie(figsize = (6,6) ,explode = explode)) # dividing data"
   ]
  },
  {
   "cell_type": "code",
   "execution_count": null,
   "metadata": {},
   "outputs": [],
   "source": []
  }
 ],
 "metadata": {
  "kernelspec": {
   "display_name": "Python 3",
   "language": "python",
   "name": "python3"
  },
  "language_info": {
   "codemirror_mode": {
    "name": "ipython",
    "version": 3
   },
   "file_extension": ".py",
   "mimetype": "text/x-python",
   "name": "python",
   "nbconvert_exporter": "python",
   "pygments_lexer": "ipython3",
   "version": "3.7.4"
  }
 },
 "nbformat": 4,
 "nbformat_minor": 2
}
