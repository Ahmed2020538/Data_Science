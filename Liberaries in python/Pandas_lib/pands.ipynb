{
 "cells": [
  {
   "cell_type": "code",
   "execution_count": 3,
   "metadata": {},
   "outputs": [
    {
     "name": "stdout",
     "output_type": "stream",
     "text": [
      "   names  age            jobs\n",
      "0    ali   20           lawer\n",
      "1   mido   25          player\n",
      "2  Ahmed   30  data scientsts\n"
     ]
    }
   ],
   "source": [
    "import pandas as pd\n",
    "x={\"names\":[\"ali\",\"mido\",\"Ahmed\"] , \"age\":[20,25,30] ,\"jobs\":[\"lawer\",\"player\",\"data scientsts\"]}\n",
    "\n",
    "d=pd.DataFrame(x)\n",
    "print(d)"
   ]
  },
  {
   "cell_type": "code",
   "execution_count": null,
   "metadata": {},
   "outputs": [],
   "source": []
  }
 ],
 "metadata": {
  "kernelspec": {
   "display_name": "Python 3",
   "language": "python",
   "name": "python3"
  },
  "language_info": {
   "codemirror_mode": {
    "name": "ipython",
    "version": 3
   },
   "file_extension": ".py",
   "mimetype": "text/x-python",
   "name": "python",
   "nbconvert_exporter": "python",
   "pygments_lexer": "ipython3",
   "version": "3.7.4"
  }
 },
 "nbformat": 4,
 "nbformat_minor": 2
}
