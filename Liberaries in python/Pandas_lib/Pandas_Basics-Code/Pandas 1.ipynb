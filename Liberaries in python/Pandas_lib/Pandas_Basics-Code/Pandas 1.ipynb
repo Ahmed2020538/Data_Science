{
 "cells": [
  {
   "cell_type": "markdown",
   "metadata": {},
   "source": [
    "# create DataFrame by dictionary"
   ]
  },
  {
   "cell_type": "code",
   "execution_count": 42,
   "metadata": {},
   "outputs": [
    {
     "name": "stdout",
     "output_type": "stream",
     "text": [
      "        day  Tempreture  Event\n",
      "0  1/1/2020          45  Sunny\n",
      "1  1/2/2020          35    Hot\n",
      "2  1/3/2020          30    Fun\n",
      "3  1/4/2020          25   Good\n",
      "4  1/5/2020          20   Snow\n",
      "===================================\n"
     ]
    },
    {
     "data": {
      "text/html": [
       "<div>\n",
       "<style scoped>\n",
       "    .dataframe tbody tr th:only-of-type {\n",
       "        vertical-align: middle;\n",
       "    }\n",
       "\n",
       "    .dataframe tbody tr th {\n",
       "        vertical-align: top;\n",
       "    }\n",
       "\n",
       "    .dataframe thead th {\n",
       "        text-align: right;\n",
       "    }\n",
       "</style>\n",
       "<table border=\"1\" class=\"dataframe\">\n",
       "  <thead>\n",
       "    <tr style=\"text-align: right;\">\n",
       "      <th></th>\n",
       "      <th>day</th>\n",
       "      <th>Tempreture</th>\n",
       "      <th>Event</th>\n",
       "    </tr>\n",
       "  </thead>\n",
       "  <tbody>\n",
       "    <tr>\n",
       "      <td>0</td>\n",
       "      <td>1/1/2020</td>\n",
       "      <td>45</td>\n",
       "      <td>Sunny</td>\n",
       "    </tr>\n",
       "    <tr>\n",
       "      <td>1</td>\n",
       "      <td>1/2/2020</td>\n",
       "      <td>35</td>\n",
       "      <td>Hot</td>\n",
       "    </tr>\n",
       "    <tr>\n",
       "      <td>2</td>\n",
       "      <td>1/3/2020</td>\n",
       "      <td>30</td>\n",
       "      <td>Fun</td>\n",
       "    </tr>\n",
       "    <tr>\n",
       "      <td>3</td>\n",
       "      <td>1/4/2020</td>\n",
       "      <td>25</td>\n",
       "      <td>Good</td>\n",
       "    </tr>\n",
       "    <tr>\n",
       "      <td>4</td>\n",
       "      <td>1/5/2020</td>\n",
       "      <td>20</td>\n",
       "      <td>Snow</td>\n",
       "    </tr>\n",
       "  </tbody>\n",
       "</table>\n",
       "</div>"
      ],
      "text/plain": [
       "        day  Tempreture  Event\n",
       "0  1/1/2020          45  Sunny\n",
       "1  1/2/2020          35    Hot\n",
       "2  1/3/2020          30    Fun\n",
       "3  1/4/2020          25   Good\n",
       "4  1/5/2020          20   Snow"
      ]
     },
     "execution_count": 42,
     "metadata": {},
     "output_type": "execute_result"
    }
   ],
   "source": [
    "import pandas as pd\n",
    "\n",
    "data = {\"day\" : [\"1/1/2020\" , \"1/2/2020\" , \"1/3/2020\" , \"1/4/2020\" , \"1/5/2020\"],\n",
    "        \"Tempreture\" : [45 , 35 , 30 , 25 ,20] ,\n",
    "        \"Event\" : [\"Sunny\" , \"Hot\" , \"Fun\" ,\"Good\" ,\"Snow\"]}\n",
    "D_F = pd.DataFrame(data)\n",
    "print(D_F)\n",
    "\n",
    "print(\"===================================\")\n",
    "D_F"
   ]
  },
  {
   "cell_type": "code",
   "execution_count": 19,
   "metadata": {},
   "outputs": [
    {
     "name": "stdout",
     "output_type": "stream",
     "text": [
      "(5, 3)\n"
     ]
    }
   ],
   "source": [
    "print(D_F.shape)"
   ]
  },
  {
   "cell_type": "code",
   "execution_count": 20,
   "metadata": {},
   "outputs": [
    {
     "name": "stdout",
     "output_type": "stream",
     "text": [
      "<class 'pandas.core.series.Series'>\n",
      "========================\n",
      "<class 'pandas.core.series.Series'>\n"
     ]
    }
   ],
   "source": [
    "print(type(D_F[\"day\"]))\n",
    "\n",
    "print(\"========================\")\n",
    "\n",
    "print(type(D_F[\"Tempreture\"]))"
   ]
  },
  {
   "cell_type": "markdown",
   "metadata": {},
   "source": [
    "# To print Coulmns"
   ]
  },
  {
   "cell_type": "code",
   "execution_count": 21,
   "metadata": {},
   "outputs": [
    {
     "name": "stdout",
     "output_type": "stream",
     "text": [
      "Index(['day', 'Tempreture', 'Event'], dtype='object')\n"
     ]
    }
   ],
   "source": [
    "print(D_F.columns)"
   ]
  },
  {
   "cell_type": "markdown",
   "metadata": {},
   "source": [
    "# To print Special Column"
   ]
  },
  {
   "cell_type": "code",
   "execution_count": 22,
   "metadata": {},
   "outputs": [
    {
     "name": "stdout",
     "output_type": "stream",
     "text": [
      "0    1/1/2020\n",
      "1    1/2/2020\n",
      "2    1/3/2020\n",
      "3    1/4/2020\n",
      "4    1/5/2020\n",
      "Name: day, dtype: object\n",
      "======================\n",
      "0    Sunny\n",
      "1      Hot\n",
      "2      Fun\n",
      "3     Good\n",
      "4     Snow\n",
      "Name: Event, dtype: object\n",
      "======================\n",
      "0    45\n",
      "1    35\n",
      "2    30\n",
      "3    25\n",
      "4    20\n",
      "Name: Tempreture, dtype: int64\n",
      "======================\n",
      "======================\n",
      "======================\n",
      "0    1/1/2020\n",
      "1    1/2/2020\n",
      "2    1/3/2020\n",
      "3    1/4/2020\n",
      "4    1/5/2020\n",
      "Name: day, dtype: object\n",
      "======================\n",
      "0    Sunny\n",
      "1      Hot\n",
      "2      Fun\n",
      "3     Good\n",
      "4     Snow\n",
      "Name: Event, dtype: object\n",
      "======================\n",
      "0    45\n",
      "1    35\n",
      "2    30\n",
      "3    25\n",
      "4    20\n",
      "Name: Tempreture, dtype: int64\n"
     ]
    }
   ],
   "source": [
    "print(D_F[\"day\"])\n",
    "print(\"======================\")\n",
    "print(D_F[\"Event\"])\n",
    "print(\"======================\")\n",
    "print(D_F[\"Tempreture\"])\n",
    "\n",
    "print(\"======================\")\n",
    "print(\"======================\")\n",
    "print(\"======================\")\n",
    "\n",
    "# Or use\n",
    "\n",
    "print(D_F.day)\n",
    "print(\"======================\")\n",
    "\n",
    "print(D_F.Event)\n",
    "print(\"======================\")\n",
    "\n",
    "print(D_F.Tempreture)"
   ]
  },
  {
   "cell_type": "markdown",
   "metadata": {},
   "source": [
    "# To print heads "
   ]
  },
  {
   "cell_type": "code",
   "execution_count": 23,
   "metadata": {},
   "outputs": [
    {
     "name": "stdout",
     "output_type": "stream",
     "text": [
      "        day  Tempreture  Event\n",
      "0  1/1/2020          45  Sunny\n",
      "1  1/2/2020          35    Hot\n",
      "2  1/3/2020          30    Fun\n",
      "3  1/4/2020          25   Good\n",
      "4  1/5/2020          20   Snow\n",
      "==============================\n",
      "        day  Tempreture  Event\n",
      "0  1/1/2020          45  Sunny\n",
      "1  1/2/2020          35    Hot\n",
      "2  1/3/2020          30    Fun\n"
     ]
    }
   ],
   "source": [
    "print(D_F.head())\n",
    "\n",
    "print(\"==============================\")\n",
    "\n",
    "print(D_F.head(3))"
   ]
  },
  {
   "cell_type": "markdown",
   "metadata": {},
   "source": [
    " # To print Tails"
   ]
  },
  {
   "cell_type": "code",
   "execution_count": 25,
   "metadata": {},
   "outputs": [
    {
     "name": "stdout",
     "output_type": "stream",
     "text": [
      "        day  Tempreture  Event\n",
      "0  1/1/2020          45  Sunny\n",
      "1  1/2/2020          35    Hot\n",
      "2  1/3/2020          30    Fun\n",
      "3  1/4/2020          25   Good\n",
      "4  1/5/2020          20   Snow\n",
      "===================\n",
      "        day  Tempreture Event\n",
      "2  1/3/2020          30   Fun\n",
      "3  1/4/2020          25  Good\n",
      "4  1/5/2020          20  Snow\n"
     ]
    }
   ],
   "source": [
    "print(D_F.tail())\n",
    "\n",
    "print(\"===================\")\n",
    "print(D_F.tail(3))"
   ]
  },
  {
   "cell_type": "markdown",
   "metadata": {},
   "source": [
    "# To print columns in condition"
   ]
  },
  {
   "cell_type": "code",
   "execution_count": 37,
   "metadata": {},
   "outputs": [
    {
     "name": "stdout",
     "output_type": "stream",
     "text": [
      "        day  Tempreture  Event\n",
      "0  1/1/2020          45  Sunny\n",
      "===============================\n",
      "0    1/1/2020\n",
      "1    1/2/2020\n",
      "2    1/3/2020\n",
      "Name: day, dtype: object\n",
      "================\n",
      "45\n",
      "========================\n",
      "20\n"
     ]
    }
   ],
   "source": [
    "print(D_F[D_F[\"Tempreture\"]==45] )\n",
    "\n",
    "\n",
    "print(\"===============================\")\n",
    "\n",
    "print(D_F[\"day\"][D_F[\"Tempreture\"]>=30])\n",
    "print(\"================\")\n",
    "print(D_F[\"Tempreture\"].max())\n",
    "\n",
    "print(\"========================\")\n",
    "\n",
    "print(D_F[\"Tempreture\"].min())\n"
   ]
  },
  {
   "cell_type": "markdown",
   "metadata": {},
   "source": [
    "# To print All details of data"
   ]
  },
  {
   "cell_type": "code",
   "execution_count": 38,
   "metadata": {},
   "outputs": [
    {
     "name": "stdout",
     "output_type": "stream",
     "text": [
      "       Tempreture\n",
      "count    5.000000\n",
      "mean    31.000000\n",
      "std      9.617692\n",
      "min     20.000000\n",
      "25%     25.000000\n",
      "50%     30.000000\n",
      "75%     35.000000\n",
      "max     45.000000\n"
     ]
    }
   ],
   "source": [
    "print(D_F.describe())"
   ]
  },
  {
   "cell_type": "markdown",
   "metadata": {},
   "source": [
    "# To but any column index"
   ]
  },
  {
   "cell_type": "code",
   "execution_count": 43,
   "metadata": {},
   "outputs": [
    {
     "data": {
      "text/html": [
       "<div>\n",
       "<style scoped>\n",
       "    .dataframe tbody tr th:only-of-type {\n",
       "        vertical-align: middle;\n",
       "    }\n",
       "\n",
       "    .dataframe tbody tr th {\n",
       "        vertical-align: top;\n",
       "    }\n",
       "\n",
       "    .dataframe thead th {\n",
       "        text-align: right;\n",
       "    }\n",
       "</style>\n",
       "<table border=\"1\" class=\"dataframe\">\n",
       "  <thead>\n",
       "    <tr style=\"text-align: right;\">\n",
       "      <th></th>\n",
       "      <th>Tempreture</th>\n",
       "      <th>Event</th>\n",
       "    </tr>\n",
       "    <tr>\n",
       "      <th>day</th>\n",
       "      <th></th>\n",
       "      <th></th>\n",
       "    </tr>\n",
       "  </thead>\n",
       "  <tbody>\n",
       "    <tr>\n",
       "      <td>1/1/2020</td>\n",
       "      <td>45</td>\n",
       "      <td>Sunny</td>\n",
       "    </tr>\n",
       "    <tr>\n",
       "      <td>1/2/2020</td>\n",
       "      <td>35</td>\n",
       "      <td>Hot</td>\n",
       "    </tr>\n",
       "    <tr>\n",
       "      <td>1/3/2020</td>\n",
       "      <td>30</td>\n",
       "      <td>Fun</td>\n",
       "    </tr>\n",
       "    <tr>\n",
       "      <td>1/4/2020</td>\n",
       "      <td>25</td>\n",
       "      <td>Good</td>\n",
       "    </tr>\n",
       "    <tr>\n",
       "      <td>1/5/2020</td>\n",
       "      <td>20</td>\n",
       "      <td>Snow</td>\n",
       "    </tr>\n",
       "  </tbody>\n",
       "</table>\n",
       "</div>"
      ],
      "text/plain": [
       "          Tempreture  Event\n",
       "day                        \n",
       "1/1/2020          45  Sunny\n",
       "1/2/2020          35    Hot\n",
       "1/3/2020          30    Fun\n",
       "1/4/2020          25   Good\n",
       "1/5/2020          20   Snow"
      ]
     },
     "execution_count": 43,
     "metadata": {},
     "output_type": "execute_result"
    }
   ],
   "source": [
    "D_F.set_index(\"day\" , inplace=True)\n",
    "\n",
    "D_F"
   ]
  },
  {
   "cell_type": "markdown",
   "metadata": {},
   "source": [
    "# To get data at location"
   ]
  },
  {
   "cell_type": "code",
   "execution_count": 44,
   "metadata": {},
   "outputs": [
    {
     "data": {
      "text/plain": [
       "Tempreture      25\n",
       "Event         Good\n",
       "Name: 1/4/2020, dtype: object"
      ]
     },
     "execution_count": 44,
     "metadata": {},
     "output_type": "execute_result"
    }
   ],
   "source": [
    "D_F.loc[\"1/4/2020\"]"
   ]
  },
  {
   "cell_type": "code",
   "execution_count": 45,
   "metadata": {},
   "outputs": [
    {
     "data": {
      "text/plain": [
       "Index(['1/1/2020', '1/2/2020', '1/3/2020', '1/4/2020', '1/5/2020'], dtype='object', name='day')"
      ]
     },
     "execution_count": 45,
     "metadata": {},
     "output_type": "execute_result"
    }
   ],
   "source": [
    "D_F.index"
   ]
  },
  {
   "cell_type": "markdown",
   "metadata": {},
   "source": [
    "# To return normal index"
   ]
  },
  {
   "cell_type": "code",
   "execution_count": 47,
   "metadata": {},
   "outputs": [
    {
     "data": {
      "text/html": [
       "<div>\n",
       "<style scoped>\n",
       "    .dataframe tbody tr th:only-of-type {\n",
       "        vertical-align: middle;\n",
       "    }\n",
       "\n",
       "    .dataframe tbody tr th {\n",
       "        vertical-align: top;\n",
       "    }\n",
       "\n",
       "    .dataframe thead th {\n",
       "        text-align: right;\n",
       "    }\n",
       "</style>\n",
       "<table border=\"1\" class=\"dataframe\">\n",
       "  <thead>\n",
       "    <tr style=\"text-align: right;\">\n",
       "      <th></th>\n",
       "      <th>index</th>\n",
       "      <th>day</th>\n",
       "      <th>Tempreture</th>\n",
       "      <th>Event</th>\n",
       "    </tr>\n",
       "  </thead>\n",
       "  <tbody>\n",
       "    <tr>\n",
       "      <td>0</td>\n",
       "      <td>0</td>\n",
       "      <td>1/1/2020</td>\n",
       "      <td>45</td>\n",
       "      <td>Sunny</td>\n",
       "    </tr>\n",
       "    <tr>\n",
       "      <td>1</td>\n",
       "      <td>1</td>\n",
       "      <td>1/2/2020</td>\n",
       "      <td>35</td>\n",
       "      <td>Hot</td>\n",
       "    </tr>\n",
       "    <tr>\n",
       "      <td>2</td>\n",
       "      <td>2</td>\n",
       "      <td>1/3/2020</td>\n",
       "      <td>30</td>\n",
       "      <td>Fun</td>\n",
       "    </tr>\n",
       "    <tr>\n",
       "      <td>3</td>\n",
       "      <td>3</td>\n",
       "      <td>1/4/2020</td>\n",
       "      <td>25</td>\n",
       "      <td>Good</td>\n",
       "    </tr>\n",
       "    <tr>\n",
       "      <td>4</td>\n",
       "      <td>4</td>\n",
       "      <td>1/5/2020</td>\n",
       "      <td>20</td>\n",
       "      <td>Snow</td>\n",
       "    </tr>\n",
       "  </tbody>\n",
       "</table>\n",
       "</div>"
      ],
      "text/plain": [
       "   index       day  Tempreture  Event\n",
       "0      0  1/1/2020          45  Sunny\n",
       "1      1  1/2/2020          35    Hot\n",
       "2      2  1/3/2020          30    Fun\n",
       "3      3  1/4/2020          25   Good\n",
       "4      4  1/5/2020          20   Snow"
      ]
     },
     "execution_count": 47,
     "metadata": {},
     "output_type": "execute_result"
    }
   ],
   "source": [
    "D_F.reset_index(inplace=True)\n",
    "D_F"
   ]
  },
  {
   "cell_type": "code",
   "execution_count": null,
   "metadata": {},
   "outputs": [],
   "source": []
  }
 ],
 "metadata": {
  "kernelspec": {
   "display_name": "Python 3",
   "language": "python",
   "name": "python3"
  },
  "language_info": {
   "codemirror_mode": {
    "name": "ipython",
    "version": 3
   },
   "file_extension": ".py",
   "mimetype": "text/x-python",
   "name": "python",
   "nbconvert_exporter": "python",
   "pygments_lexer": "ipython3",
   "version": "3.7.4"
  }
 },
 "nbformat": 4,
 "nbformat_minor": 2
}
