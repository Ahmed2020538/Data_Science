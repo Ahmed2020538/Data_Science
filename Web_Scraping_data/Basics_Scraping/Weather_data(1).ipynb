{
 "cells": [
  {
   "cell_type": "code",
   "execution_count": 1,
   "metadata": {},
   "outputs": [],
   "source": [
    "import requests as r\n",
    "import csv\n",
    "from bs4 import BeautifulSoup as B"
   ]
  },
  {
   "cell_type": "code",
   "execution_count": 4,
   "metadata": {},
   "outputs": [],
   "source": [
    "def Weather_data_set(url) :\n",
    "    with open(\"Weather_data_sets.csv\" , \"w+\") as f :\n",
    "        writer = csv.DictWriter( f , fieldnames=[\"Day\" , \"Date\" , \"Max_Temp\" , \"Min_Temp\" ,\"Predtion\", \"Wind_pop_info\" , \"Wind_value\"])\n",
    "        writer.writeheader()\n",
    "        res = r.get(url)\n",
    "        soup = B(res.text , \"html.parser\")\n",
    "        data = soup.find_all(\"div\" , attrs = {\"class\" : \"day\"})\n",
    "        for d in data :\n",
    "            day = d.find(\"div\" , attrs = {\"class\" : \"title\"}).find(\"b\").get_text()\n",
    "            date = d.find(\"div\" , attrs = {\"class\" : \"title\"}).find(\"span\").get_text()\n",
    "            maxi_temp = d.find(\"div\" , attrs = {\"class\" : \"temps\"}).find(\"b\").get_text().split(\":\")[1]\n",
    "            mini_temp = d.find(\"div\" , attrs = {\"class\" : \"temps\"}).find(\"span\").get_text().split(\":\")[1]\n",
    "            win_info = d.find(\"div\" , attrs = {\"class\" : \"wind-popinfo\"}).get_text()\n",
    "            win_value = d.find(\"div\" , attrs = {\"class\" : \"wind\"}).get_text().split(\"°\")[1]\n",
    "            pred = d.find(\"div\" , attrs = {\"class\" : \"info\"}).find(\"span\").get_text()\n",
    "            writer.writerow({\"Day\" : day , \"Date\" : date , \"Max_Temp\" :maxi_temp , \"Min_Temp\" : mini_temp , \"Predtion\" : pred , \"Wind_pop_info\" : win_info , \"Wind_value\" :win_value })\n",
    "            print(f\"The Day :: {day}\\nThe Date :: {date}\\nThe MaX_Temp :: {maxi_temp}\\nThe Min_Temp ::\\\n",
    "        {mini_temp}\\nThe Predtion :: {pred}\\nThe Wind_Info :: {win_info}\\nThe Win_Value :: {win_value}\\\n",
    "        \\n\\n========\\n\\n \")"
   ]
  },
  {
   "cell_type": "code",
   "execution_count": 5,
   "metadata": {},
   "outputs": [
    {
     "name": "stdout",
     "output_type": "stream",
     "text": [
      "The Day :: Today\n",
      "The Date :: 07 Feb\n",
      "The MaX_Temp ::  22°C\n",
      "The Min_Temp ::         12°C\n",
      "The Predtion :: Mostly clear.\n",
      "The Wind_Info :: 60°\n",
      "The Win_Value :: 15 Km/h        \n",
      "\n",
      "========\n",
      "\n",
      " \n",
      "The Day :: Monday\n",
      "The Date :: 08 Feb\n",
      "The MaX_Temp ::  27°C\n",
      "The Min_Temp ::         17°C\n",
      "The Predtion :: Partly cloudy skies.\n",
      "The Wind_Info :: 166°\n",
      "The Win_Value :: 21 Km/h        \n",
      "\n",
      "========\n",
      "\n",
      " \n",
      "The Day :: Tuesday\n",
      "The Date :: 09 Feb\n",
      "The MaX_Temp ::  27°C\n",
      "The Min_Temp ::         13°C\n",
      "The Predtion :: Cloudy skies.\n",
      "The Wind_Info :: 192°\n",
      "The Win_Value :: 17 Km/h        \n",
      "\n",
      "========\n",
      "\n",
      " \n",
      "The Day :: Wednesday\n",
      "The Date :: 10 Feb\n",
      "The MaX_Temp ::  26°C\n",
      "The Min_Temp ::         12°C\n",
      "The Predtion :: Mostly clear.\n",
      "The Wind_Info :: 37°\n",
      "The Win_Value :: 23 Km/h        \n",
      "\n",
      "========\n",
      "\n",
      " \n",
      "The Day :: Thursday\n",
      "The Date :: 11 Feb\n",
      "The MaX_Temp ::  24°C\n",
      "The Min_Temp ::         11°C\n",
      "The Predtion :: Clear weather.\n",
      "The Wind_Info :: 48°\n",
      "The Win_Value :: 26 Km/h        \n",
      "\n",
      "========\n",
      "\n",
      " \n",
      "The Day :: Friday\n",
      "The Date :: 12 Feb\n",
      "The MaX_Temp ::  24°C\n",
      "The Min_Temp ::         11°C\n",
      "The Predtion :: Clear weather.\n",
      "The Wind_Info :: 8°\n",
      "The Win_Value :: 18 Km/h        \n",
      "\n",
      "========\n",
      "\n",
      " \n",
      "The Day :: Saturday\n",
      "The Date :: 13 Feb\n",
      "The MaX_Temp ::  21°C\n",
      "The Min_Temp ::         10°C\n",
      "The Predtion :: Clear weather.\n",
      "The Wind_Info :: 355°\n",
      "The Win_Value :: 17 Km/h        \n",
      "\n",
      "========\n",
      "\n",
      " \n"
     ]
    }
   ],
   "source": [
    "Weather_data_set(\"https://eg.freemeteo.com/weather/cairo/7-days/list/?gid=360630&language=english&country=egypt\")"
   ]
  },
  {
   "cell_type": "code",
   "execution_count": null,
   "metadata": {},
   "outputs": [],
   "source": []
  }
 ],
 "metadata": {
  "kernelspec": {
   "display_name": "Python 3",
   "language": "python",
   "name": "python3"
  },
  "language_info": {
   "codemirror_mode": {
    "name": "ipython",
    "version": 3
   },
   "file_extension": ".py",
   "mimetype": "text/x-python",
   "name": "python",
   "nbconvert_exporter": "python",
   "pygments_lexer": "ipython3",
   "version": "3.7.4"
  }
 },
 "nbformat": 4,
 "nbformat_minor": 2
}
