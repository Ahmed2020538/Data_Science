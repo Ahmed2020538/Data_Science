{
 "cells": [
  {
   "cell_type": "code",
   "execution_count": 16,
   "metadata": {},
   "outputs": [],
   "source": [
    "import csv"
   ]
  },
  {
   "cell_type": "code",
   "execution_count": 17,
   "metadata": {},
   "outputs": [],
   "source": [
    "with open(\"Datasets.csv\" , \"w\") as f :\n",
    "    writer = csv.DictWriter(f , fieldnames=[\"Name\" , \"Position\" , \"Genger\" , \"Adge\"])\n",
    "    writer.writeheader()\n",
    "    Name = [\"Ahmed\" , \"Baher\" , \"Eslam\" , \"Noura\"]\n",
    "    Position = [\"Comuter Science\" , \"Medical\" , \"Computer Vision\" , \"ML\"]\n",
    "    Genger = [\"Male\" , \"Male\" , \"Male\" , \"Female\" ]\n",
    "    Adge = [\"27\" , \"25\" , \"30\" , \"23\"]\n",
    "    for N in Name :\n",
    "        NN = N\n",
    "        for P in Position :\n",
    "            PP = P\n",
    "            for G in Genger :\n",
    "                GG = G\n",
    "                for A in Adge :\n",
    "                    AA = A\n",
    "        writer.writerow({\"Name\" : NN , \"Position\" : PP , \"Genger\" : GG , \"Adge\" :AA})"
   ]
  },
  {
   "cell_type": "code",
   "execution_count": null,
   "metadata": {},
   "outputs": [],
   "source": [
    "with open(\"Datasets.csv\" , \"w\") as f :\n",
    "    writer = csv.DictWriter(f , fieldnames=[\"Name\" , \"Position\" , \"Genger\" , \"Adge\"])\n",
    "    writer.writeheader()\n",
    "    Name = [\"Ahmed\" , \"Baher\" , \"Eslam\" , \"Noura\"]\n",
    "    Position = [\"Comuter Science\" , \"Medical\" , \"Computer Vision\" , \"ML\"]\n",
    "    Genger = [\"Male\" , \"Male\" , \"Male\" , \"Female\" ]\n",
    "    Adge = [\"27\" , \"25\" , \"30\" , \"23\"]\n",
    "    data = [ Name , Position , Genger , Adge , ]\n",
    "    for N in Name :\n",
    "        NN = N\n",
    "        for P in Position :\n",
    "            PP = P\n",
    "            for G in Genger :\n",
    "                GG = G\n",
    "                for A in Adge :\n",
    "                    AA = A\n",
    "        writer.writerow({\"Name\" : NN , \"Position\" : PP , \"Genger\" : GG , \"Adge\" :AA})"
   ]
  }
 ],
 "metadata": {
  "kernelspec": {
   "display_name": "Python 3",
   "language": "python",
   "name": "python3"
  },
  "language_info": {
   "codemirror_mode": {
    "name": "ipython",
    "version": 3
   },
   "file_extension": ".py",
   "mimetype": "text/x-python",
   "name": "python",
   "nbconvert_exporter": "python",
   "pygments_lexer": "ipython3",
   "version": "3.7.4"
  }
 },
 "nbformat": 4,
 "nbformat_minor": 2
}
