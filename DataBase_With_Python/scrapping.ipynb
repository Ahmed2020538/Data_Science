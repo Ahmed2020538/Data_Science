{
 "cells": [
  {
   "cell_type": "code",
   "execution_count": 1,
   "metadata": {},
   "outputs": [],
   "source": [
    "import requests as R\n",
    "import csv\n",
    "import time as T\n",
    "import datetime as dt\n",
    "import pandas as pd\n",
    "from bs4 import BeautifulSoup as B\n",
    "import sqlite3 as S"
   ]
  },
  {
   "cell_type": "code",
   "execution_count": 2,
   "metadata": {},
   "outputs": [
    {
     "name": "stdout",
     "output_type": "stream",
     "text": [
      "date :: 78.0\n",
      "1017.0\n",
      " 100\n",
      " ---\n",
      "date :: 47.0\n",
      "1017.0\n",
      " 47\n",
      " ---\n",
      "date :: 69.0\n",
      "1019.0\n",
      " 88\n",
      " ---\n",
      "date :: 78.0\n",
      "1020.7\n",
      " 89\n",
      " ---\n"
     ]
    }
   ],
   "source": [
    "url = \"https://eg.freemeteo.com/weather/cairo/daily-forecast/today/?gid=360630&language=english&country=egypt\"\n",
    "res  = R.get( url )\n",
    "soup = B( res.text , \"html.parser\")\n",
    "Time = soup.find_all(\"span\" , attrs = {\"class\" : \"info\"})\n",
    "for time in Time :\n",
    "    for h in time.find(\"strong\") :\n",
    "        T = float(time.get_text().split(\"%\")[0].split(\":\")[1])\n",
    "        TT = float(time.get_text().split(\":\")[-1].split(\"m\")[0])\n",
    "        tt = time.get_text().split(\"-\")[1].split(\"%\")[0]\n",
    "        \n",
    "        print(f\"date :: {T}\\n{TT}\\n{tt}\\n ---\")"
   ]
  },
  {
   "cell_type": "code",
   "execution_count": 8,
   "metadata": {},
   "outputs": [],
   "source": [
    "import requests as R\n",
    "import csv\n",
    "import time as timer\n",
    "import datetime as dt\n",
    "import pandas as pd\n",
    "from bs4 import BeautifulSoup as B\n",
    "import sqlite3 as S\n",
    "\n",
    "def get_data( url ) :\n",
    "    for i in range( 10 ) :\n",
    "        res  = R.get( url )\n",
    "        soup = B( res.text , \"html.parser\")\n",
    "        Times = soup.find_all(\"span\" , attrs = {\"class\" : \"title\"})\n",
    "        Tempratures = soup.find_all(\"span\" , attrs = {\"class\" : \"temp\"})\n",
    "        Winds = soup.find_all(\"span\" , attrs = {\"class\" : \"wind\"})\n",
    "        Humideties = soup.find_all(\"span\" , attrs = {\"class\" : \"info\"})\n",
    "        for time in Times :\n",
    "            T = time.get_text()\n",
    "            for Tempreture in Tempratures :\n",
    "                Temp = Tempreture.get_text().split(\"°\")[0]\n",
    "                for wind in Winds : \n",
    "                    Win = wind.get_text().split(\" \")[0]\n",
    "                    for Humdity in Humideties :\n",
    "                        for Hu in Humdity.find(\"strong\") :\n",
    "                            HU   = float(Humdity.get_text().split(\"%\")[0].split(\":\")[1])\n",
    "                            O_HU = float(Humdity.get_text().split(\"-\")[1].split(\"%\")[0])\n",
    "                            Presure = float(Humdity.get_text().split(\":\")[-1].split(\"m\")[0])\n",
    "                            \n",
    "                            now = dt.datetime.now()\n",
    "                            time_now = now.strftime(\"%d/%m/%Y %H:%M:%S\")\n",
    "        \n",
    "            con = S.connect(\"Weather.db\")\n",
    "            sql = \"insert into Weather_data ( Time , Tempreture , Wind , Humadity , Org_Humadity , presure , Time_Now ) values (?,?,?,?,?,?,?)\"\n",
    "            data = [ T , Temp , Win , HU , O_HU , Presure , time_now ]\n",
    "        \n",
    "            E = con.execute( sql , data )\n",
    "            con.commit()\n",
    "        \n",
    "        print(f\"the step num :: {i}\")\n",
    "        \n",
    "        timer.sleep(5)                       \n",
    "        \n",
    "        "
   ]
  },
  {
   "cell_type": "code",
   "execution_count": 9,
   "metadata": {},
   "outputs": [
    {
     "name": "stdout",
     "output_type": "stream",
     "text": [
      "the step num :: 0\n",
      "the step num :: 1\n",
      "the step num :: 2\n",
      "the step num :: 3\n",
      "the step num :: 4\n",
      "the step num :: 5\n",
      "the step num :: 6\n",
      "the step num :: 7\n",
      "the step num :: 8\n",
      "the step num :: 9\n"
     ]
    }
   ],
   "source": [
    "get_data(\"https://eg.freemeteo.com/weather/cairo/daily-forecast/today/?gid=360630&language=english&country=egypt\")"
   ]
  },
  {
   "cell_type": "code",
   "execution_count": 16,
   "metadata": {},
   "outputs": [],
   "source": []
  },
  {
   "cell_type": "code",
   "execution_count": null,
   "metadata": {},
   "outputs": [],
   "source": []
  },
  {
   "cell_type": "code",
   "execution_count": null,
   "metadata": {},
   "outputs": [],
   "source": []
  }
 ],
 "metadata": {
  "kernelspec": {
   "display_name": "Python 3",
   "language": "python",
   "name": "python3"
  },
  "language_info": {
   "codemirror_mode": {
    "name": "ipython",
    "version": 3
   },
   "file_extension": ".py",
   "mimetype": "text/x-python",
   "name": "python",
   "nbconvert_exporter": "python",
   "pygments_lexer": "ipython3",
   "version": "3.7.4"
  }
 },
 "nbformat": 4,
 "nbformat_minor": 2
}
