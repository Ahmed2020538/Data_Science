{
 "cells": [
  {
   "cell_type": "code",
   "execution_count": 2,
   "metadata": {},
   "outputs": [],
   "source": [
    "import sqlite3 as S\n",
    "con = S.connect(\"Maconals.db\")\n",
    "I1 = con.execute(\"insert into Consumers (C_Name , C_City , C_Number) values(?,?,?) \"  , [\"Mooh Salah\" ,\"Naser City\" ,1013900555])\n",
    "con.commit()"
   ]
  },
  {
   "cell_type": "code",
   "execution_count": 3,
   "metadata": {},
   "outputs": [],
   "source": [
    "import sqlite3 as S\n",
    "con = S.connect(\"Maconals.db\")\n",
    "U1 = con.execute(\"update Consumers set C_Name = ? , C_City = ? where C_Id = ?\" , [\"Ahmed\" , \"Berlin\" , 2])\n",
    "con.commit()"
   ]
  },
  {
   "cell_type": "code",
   "execution_count": 4,
   "metadata": {},
   "outputs": [],
   "source": [
    "import sqlite3 as S\n",
    "con = S.connect(\"Maconals.db\")\n",
    "I1 = con.execute(\"insert into Consumers (C_Name , C_City , C_Number) values(?,?,?) \"  , [\"Tamer\" ,\"Menchen\" ,21114258])\n",
    "I1 = con.execute(\"insert into Consumers (C_Name , C_City , C_Number) values(?,?,?) \"  , [\"Soon\" ,\"Tagmo3\" ,1182451148])\n",
    "con.commit()"
   ]
  },
  {
   "cell_type": "code",
   "execution_count": 9,
   "metadata": {},
   "outputs": [],
   "source": [
    "import sqlite3 as S\n",
    "con = S.connect(\"Maconals.db\")\n",
    "D1 = con.execute(\"delete from consumers where C_Id = ? \" , [1])\n",
    "con.commit()"
   ]
  },
  {
   "cell_type": "code",
   "execution_count": null,
   "metadata": {},
   "outputs": [],
   "source": []
  }
 ],
 "metadata": {
  "kernelspec": {
   "display_name": "Python 3",
   "language": "python",
   "name": "python3"
  },
  "language_info": {
   "codemirror_mode": {
    "name": "ipython",
    "version": 3
   },
   "file_extension": ".py",
   "mimetype": "text/x-python",
   "name": "python",
   "nbconvert_exporter": "python",
   "pygments_lexer": "ipython3",
   "version": "3.7.4"
  }
 },
 "nbformat": 4,
 "nbformat_minor": 2
}
