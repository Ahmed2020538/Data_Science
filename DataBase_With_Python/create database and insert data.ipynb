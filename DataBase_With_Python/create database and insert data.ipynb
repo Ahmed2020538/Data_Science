{
 "cells": [
  {
   "cell_type": "code",
   "execution_count": 31,
   "metadata": {},
   "outputs": [
    {
     "name": "stdout",
     "output_type": "stream",
     "text": [
      "<sqlite3.Cursor object at 0x0000027FC0D9C7A0>\n",
      "==========\n",
      "('Baher', 25, 'Male')\n",
      "=====\n",
      "=====\n",
      "Names :  Baher\n",
      "=================\n",
      "Adge :  25\n",
      "=================\n",
      "Gender :  Male\n",
      "========\n",
      "========\n",
      "('Eslam', 30, 'Male')\n",
      "=====\n",
      "=====\n",
      "Names :  Eslam\n",
      "=================\n",
      "Adge :  30\n",
      "=================\n",
      "Gender :  Male\n",
      "========\n",
      "========\n",
      "('Noura', 24, 'Female')\n",
      "=====\n",
      "=====\n",
      "Names :  Noura\n",
      "=================\n",
      "Adge :  24\n",
      "=================\n",
      "Gender :  Female\n",
      "========\n",
      "========\n",
      "('Alla', 22, 'Female')\n",
      "=====\n",
      "=====\n",
      "Names :  Alla\n",
      "=================\n",
      "Adge :  22\n",
      "=================\n",
      "Gender :  Female\n",
      "========\n",
      "========\n",
      "('Ghada', 25, 'Female')\n",
      "=====\n",
      "=====\n",
      "Names :  Ghada\n",
      "=================\n",
      "Adge :  25\n",
      "=================\n",
      "Gender :  Female\n",
      "========\n",
      "========\n",
      "('Shimaa', 20, 'Female')\n",
      "=====\n",
      "=====\n",
      "Names :  Shimaa\n",
      "=================\n",
      "Adge :  20\n",
      "=================\n",
      "Gender :  Female\n",
      "========\n",
      "========\n",
      "('Ali', 27, 'Male')\n",
      "=====\n",
      "=====\n",
      "Names :  Ali\n",
      "=================\n",
      "Adge :  27\n",
      "=================\n",
      "Gender :  Male\n",
      "========\n",
      "========\n",
      "('Adel', 28, 'Male')\n",
      "=====\n",
      "=====\n",
      "Names :  Adel\n",
      "=================\n",
      "Adge :  28\n",
      "=================\n",
      "Gender :  Male\n",
      "========\n",
      "========\n",
      "=========\n",
      "Hello Ahmed\n"
     ]
    }
   ],
   "source": [
    "import sqlite3\n",
    "con = sqlite3.connect(\"Data_Base1.db\")\n",
    "cur = con.cursor()\n",
    "cur.execute(\"create table info( Names text , Adge int , Gender text)\")\n",
    "cur.execute(\"insert into info (Names , Adge , Gender) values ('Ahmed' , 27 , 'Male')\")\n",
    "cur.execute(\"insert into info (Names , Adge , Gender) values ('Baher' , 25 , 'Male') , ('Eslam' , 30 , 'Male')\")\n",
    "cur.execute(\"\"\"insert into info (Names , Adge , Gender) \n",
    "           #values ('Shimaa' , 20 , 'Female') ,\n",
    "                  #('Ali' , 27 , 'Male') ,\n",
    "                  #('Adel' , 28 , 'Male')\"\"\")\n",
    "infos = cur.execute(\"select * from info\")\n",
    "print(infos)\n",
    "print(\"==========\")\n",
    "for col in infos :\n",
    "    print(col)\n",
    "    print(\"=====\")\n",
    "    print(\"=====\")\n",
    "    print(\"Names : \" , col[0])\n",
    "    print(\"=================\")\n",
    "    print(\"Adge : \" , col[1])\n",
    "    print(\"=================\")\n",
    "    print(\"Gender : \" , col[2])\n",
    "    print(\"========\")\n",
    "    print(\"========\")\n",
    "    \n",
    "    \n",
    "#con.commit()\n",
    "#con.close()\n",
    "print(\"=========\")\n",
    "print(\"Hello Ahmed\")"
   ]
  },
  {
   "cell_type": "code",
   "execution_count": 44,
   "metadata": {},
   "outputs": [
    {
     "name": "stdout",
     "output_type": "stream",
     "text": [
      "Names :  Baher\n",
      "Names :  Eslam\n",
      "Names :  Noura\n",
      "Names :  Alla\n",
      "Names :  Ghada\n",
      "Names :  Shimaa\n",
      "Names :  Ali\n",
      "Names :  Adel\n"
     ]
    }
   ],
   "source": [
    "import sqlite3\n",
    "con = sqlite3.connect(\"Data_Base1.db\")\n",
    "cur = con.cursor()\n",
    "infos = cur.execute(\"select * from info\")\n",
    "\n",
    "\n",
    "\n",
    "\n",
    "\n",
    "for col1 in infos :\n",
    "    print(\"Names : \" , col1[0])"
   ]
  },
  {
   "cell_type": "code",
   "execution_count": 47,
   "metadata": {},
   "outputs": [
    {
     "name": "stdout",
     "output_type": "stream",
     "text": [
      "Adges :  25\n",
      "Adges :  30\n",
      "Adges :  24\n",
      "Adges :  22\n",
      "Adges :  25\n",
      "Adges :  20\n",
      "Adges :  27\n",
      "Adges :  28\n"
     ]
    }
   ],
   "source": [
    "import sqlite3\n",
    "con = sqlite3.connect(\"Data_Base1.db\")\n",
    "cur = con.cursor()\n",
    "infos = cur.execute(\"select * from info\")\n",
    "\n",
    "\n",
    "for col2 in infos :\n",
    "    print(\"Adge : \" , col2[1])"
   ]
  },
  {
   "cell_type": "code",
   "execution_count": 50,
   "metadata": {},
   "outputs": [
    {
     "name": "stdout",
     "output_type": "stream",
     "text": [
      "Gender :  Male\n",
      "Gender :  Male\n",
      "Gender :  Female\n",
      "Gender :  Female\n",
      "Gender :  Female\n",
      "Gender :  Female\n",
      "Gender :  Male\n",
      "Gender :  Male\n"
     ]
    }
   ],
   "source": [
    "import sqlite3\n",
    "con = sqlite3.connect(\"Data_Base1.db\")\n",
    "cur = con.cursor()\n",
    "infos = cur.execute(\"select * from info\")\n",
    "\n",
    "\n",
    "for col3 in infos :\n",
    "    print(\"Gender : \" , col3[2])\n"
   ]
  },
  {
   "cell_type": "code",
   "execution_count": null,
   "metadata": {},
   "outputs": [],
   "source": []
  }
 ],
 "metadata": {
  "kernelspec": {
   "display_name": "Python 3",
   "language": "python",
   "name": "python3"
  },
  "language_info": {
   "codemirror_mode": {
    "name": "ipython",
    "version": 3
   },
   "file_extension": ".py",
   "mimetype": "text/x-python",
   "name": "python",
   "nbconvert_exporter": "python",
   "pygments_lexer": "ipython3",
   "version": "3.7.4"
  }
 },
 "nbformat": 4,
 "nbformat_minor": 2
}
