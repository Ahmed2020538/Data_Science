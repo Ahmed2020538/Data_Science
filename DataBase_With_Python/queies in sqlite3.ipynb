{
 "cells": [
  {
   "cell_type": "code",
   "execution_count": 2,
   "metadata": {},
   "outputs": [],
   "source": [
    "import sqlite3 as S\n",
    "con = S.connect(\"App_Store.db\")\n",
    "E1 = con.execute(\"create table customers(cus_id int ,cus_name text , cus_salary real )\")\n",
    "E2 = con.execute(\"create table products(pro_id int , pro_date text , cus_id int)\")\n",
    "con.commit()"
   ]
  },
  {
   "cell_type": "code",
   "execution_count": 3,
   "metadata": {},
   "outputs": [],
   "source": [
    "con.execute(\"\"\"insert into customers(cus_id , cus_name , cus_salary)\n",
    "            values( 1 , \"Ahmed\" , 3500.20) , \n",
    "                  ( 2 , \"Eslam\" , 2500.40) , \n",
    "                  ( 3 , \"Alaa\"  , 5500.50)\"\"\")\n",
    "con.execute(\"\"\"insert into products(pro_id , pro_date , cus_id) \n",
    "            values( 010 , \"2020\" , 1 ) , \n",
    "                  ( 011 , \"2021\" , 2 ) ,\n",
    "                  ( 012 , \"2019\" , 3 )\"\"\")\n",
    "con.commit()"
   ]
  },
  {
   "cell_type": "code",
   "execution_count": 9,
   "metadata": {},
   "outputs": [
    {
     "name": "stdout",
     "output_type": "stream",
     "text": [
      "(1, 'Ahmed', 3500.2)\n",
      "======\n",
      "The Cus_ID :: 1\n",
      "The Cus_Name :: Ahmed\n",
      "The Cus_salary :: 3500.2\n",
      "-------\n",
      "(2, 'Eslam', 2500.4)\n",
      "======\n",
      "The Cus_ID :: 2\n",
      "The Cus_Name :: Eslam\n",
      "The Cus_salary :: 2500.4\n",
      "-------\n",
      "(3, 'Alaa', 5500.5)\n",
      "======\n",
      "The Cus_ID :: 3\n",
      "The Cus_Name :: Alaa\n",
      "The Cus_salary :: 5500.5\n",
      "-------\n"
     ]
    }
   ],
   "source": [
    "S1 = con.execute(\"select * from customers\").fetchall()\n",
    "for s1 in S1 :\n",
    "    print(s1)\n",
    "    print(\"======\")\n",
    "    print(f\"The Cus_ID :: {s1[0]}\\nThe Cus_Name :: {s1[1]}\\nThe Cus_salary :: {s1[2]}\\n-------\")"
   ]
  },
  {
   "cell_type": "code",
   "execution_count": 12,
   "metadata": {},
   "outputs": [
    {
     "name": "stdout",
     "output_type": "stream",
     "text": [
      "The Cus_ID :: 1\n",
      "The Cus_Name :: Ahmed\n",
      "The Cus_salary :: 3500.2\n",
      "-------\n",
      "The Cus_ID :: 2\n",
      "The Cus_Name :: Eslam\n",
      "The Cus_salary :: 2500.4\n",
      "-------\n",
      "The Cus_ID :: 3\n",
      "The Cus_Name :: Alaa\n",
      "The Cus_salary :: 5500.5\n",
      "-------\n"
     ]
    }
   ],
   "source": [
    "import csv\n",
    "with open(\"s1.csv\" , \"w\") as f :\n",
    "    writer = csv.DictWriter(f , fieldnames=[\"ID\" , \"Name\" , \"Salary\"])\n",
    "    writer.writeheader()\n",
    "    con = S.connect(\"App_Store.db\")\n",
    "    S1 = con.execute(\"select * from customers\").fetchall()\n",
    "    for s1 in S1 :\n",
    "        Cus_Id = s1[0]\n",
    "        Cus_Name = s1[1]\n",
    "        Cus_Salary = s1[2]\n",
    "        print(f\"The Cus_ID :: {Cus_Id}\\nThe Cus_Name :: {Cus_Name}\\nThe Cus_salary :: {Cus_Salary}\\n-------\")\n",
    "        writer.writerow({\"ID\":Cus_Id ,\"Name\" :Cus_Name , \"Salary\":Cus_Salary })"
   ]
  },
  {
   "cell_type": "code",
   "execution_count": 14,
   "metadata": {},
   "outputs": [],
   "source": [
    "import pandas as pd\n",
    "select = pd.read_csv(\"s1.csv\")"
   ]
  },
  {
   "cell_type": "code",
   "execution_count": 15,
   "metadata": {},
   "outputs": [
    {
     "data": {
      "text/html": [
       "<div>\n",
       "<style scoped>\n",
       "    .dataframe tbody tr th:only-of-type {\n",
       "        vertical-align: middle;\n",
       "    }\n",
       "\n",
       "    .dataframe tbody tr th {\n",
       "        vertical-align: top;\n",
       "    }\n",
       "\n",
       "    .dataframe thead th {\n",
       "        text-align: right;\n",
       "    }\n",
       "</style>\n",
       "<table border=\"1\" class=\"dataframe\">\n",
       "  <thead>\n",
       "    <tr style=\"text-align: right;\">\n",
       "      <th></th>\n",
       "      <th>ID</th>\n",
       "      <th>Name</th>\n",
       "      <th>Salary</th>\n",
       "    </tr>\n",
       "  </thead>\n",
       "  <tbody>\n",
       "    <tr>\n",
       "      <td>0</td>\n",
       "      <td>1</td>\n",
       "      <td>Ahmed</td>\n",
       "      <td>3500.2</td>\n",
       "    </tr>\n",
       "    <tr>\n",
       "      <td>1</td>\n",
       "      <td>2</td>\n",
       "      <td>Eslam</td>\n",
       "      <td>2500.4</td>\n",
       "    </tr>\n",
       "    <tr>\n",
       "      <td>2</td>\n",
       "      <td>3</td>\n",
       "      <td>Alaa</td>\n",
       "      <td>5500.5</td>\n",
       "    </tr>\n",
       "  </tbody>\n",
       "</table>\n",
       "</div>"
      ],
      "text/plain": [
       "   ID   Name  Salary\n",
       "0   1  Ahmed  3500.2\n",
       "1   2  Eslam  2500.4\n",
       "2   3   Alaa  5500.5"
      ]
     },
     "execution_count": 15,
     "metadata": {},
     "output_type": "execute_result"
    }
   ],
   "source": [
    "select"
   ]
  },
  {
   "cell_type": "code",
   "execution_count": 30,
   "metadata": {},
   "outputs": [
    {
     "name": "stdout",
     "output_type": "stream",
     "text": [
      "[(8000.9,)] \n",
      "---\n",
      "8000.9\n"
     ]
    }
   ],
   "source": [
    "import sqlite3 as S\n",
    "con = S.connect(\"App_Store.db\")\n",
    "S2 = con.execute(\"select sum(cus_salary) from customers where cus_id > ?\" , [1]).fetchall()\n",
    "print(S2 , \"\\n---\")\n",
    "for s in S2 :\n",
    "    print(s[0])"
   ]
  },
  {
   "cell_type": "code",
   "execution_count": 31,
   "metadata": {},
   "outputs": [
    {
     "name": "stdout",
     "output_type": "stream",
     "text": [
      "[(5500.5,), (2500.4,)] \n",
      "---\n",
      "5500.5\n",
      "2500.4\n"
     ]
    }
   ],
   "source": [
    "import sqlite3 as S\n",
    "con = S.connect(\"App_Store.db\")\n",
    "S2 = con.execute(\"select cus_salary  from customers where cus_id >?  order by cus_id desc\" , [1]).fetchall()\n",
    "print(S2 , \"\\n---\")\n",
    "for s in S2 :\n",
    "    print(s[0])"
   ]
  },
  {
   "cell_type": "code",
   "execution_count": 32,
   "metadata": {},
   "outputs": [
    {
     "name": "stdout",
     "output_type": "stream",
     "text": [
      "[('2021',)] \n",
      "---\n",
      "2021\n"
     ]
    }
   ],
   "source": [
    "import sqlite3 as S\n",
    "con = S.connect(\"App_Store.db\")\n",
    "S2 = con.execute(\"select pro_date  from products where cus_id in(select cus_id from customers where cus_name = ? )\" , [\"Eslam\"]).fetchall()\n",
    "print(S2 , \"\\n---\")\n",
    "for s in S2 :\n",
    "    print(s[0])"
   ]
  },
  {
   "cell_type": "code",
   "execution_count": 37,
   "metadata": {},
   "outputs": [
    {
     "name": "stdout",
     "output_type": "stream",
     "text": [
      "[('2019', 1), ('2020', 1), ('2021', 1)] \n",
      "---\n",
      "Date :: 2019\n",
      "C_ID :: 1\n",
      "---- \n",
      "Date :: 2020\n",
      "C_ID :: 1\n",
      "---- \n",
      "Date :: 2021\n",
      "C_ID :: 1\n",
      "---- \n"
     ]
    }
   ],
   "source": [
    "import sqlite3 as S\n",
    "con = S.connect(\"App_Store.db\")\n",
    "S2 = con.execute(\"select pro_date ,  count(cus_id) AS C_id  from products group by pro_date \" ).fetchall()\n",
    "print(S2 , \"\\n---\")\n",
    "for s in S2 :\n",
    "    print(f\"Date :: {s[0]}\\nC_ID :: {s[1]}\\n---- \")"
   ]
  },
  {
   "cell_type": "code",
   "execution_count": null,
   "metadata": {},
   "outputs": [],
   "source": []
  }
 ],
 "metadata": {
  "kernelspec": {
   "display_name": "Python 3",
   "language": "python",
   "name": "python3"
  },
  "language_info": {
   "codemirror_mode": {
    "name": "ipython",
    "version": 3
   },
   "file_extension": ".py",
   "mimetype": "text/x-python",
   "name": "python",
   "nbconvert_exporter": "python",
   "pygments_lexer": "ipython3",
   "version": "3.7.4"
  }
 },
 "nbformat": 4,
 "nbformat_minor": 2
}
