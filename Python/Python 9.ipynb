{
 "cells": [
  {
   "cell_type": "code",
   "execution_count": 1,
   "metadata": {},
   "outputs": [
    {
     "name": "stdout",
     "output_type": "stream",
     "text": [
      "[1, 4, 9, 25, 36]\n"
     ]
    }
   ],
   "source": [
    "l1 = [ 1 , 2 , 3 , 5 , 6 ]\n",
    "l2 = []\n",
    "for i in l1 :\n",
    "    squr_Value = i**2\n",
    "    l2.append(squr_Value)\n",
    "print(l2)"
   ]
  },
  {
   "cell_type": "code",
   "execution_count": 5,
   "metadata": {},
   "outputs": [
    {
     "name": "stdout",
     "output_type": "stream",
     "text": [
      "[1, 4, 9, 25, 36]\n"
     ]
    }
   ],
   "source": [
    "lis2 = [ i**2 for i in l1]\n",
    "print(lis2)"
   ]
  },
  {
   "cell_type": "markdown",
   "metadata": {},
   "source": [
    "# 1_ Map Func"
   ]
  },
  {
   "cell_type": "code",
   "execution_count": 6,
   "metadata": {},
   "outputs": [
    {
     "data": {
      "text/plain": [
       "[1, 4, 9, 16, 25, 36]"
      ]
     },
     "execution_count": 6,
     "metadata": {},
     "output_type": "execute_result"
    }
   ],
   "source": [
    "def square (num) :\n",
    "    return num**2\n",
    "lis1 =[ 1 , 2 , 3 , 4 , 5 , 6 ]\n",
    "list(map( square , lis1 ))"
   ]
  },
  {
   "cell_type": "code",
   "execution_count": 8,
   "metadata": {},
   "outputs": [
    {
     "data": {
      "text/plain": [
       "[3.14, 12.56, 28.26, 50.24, 78.5, 113.04]"
      ]
     },
     "execution_count": 8,
     "metadata": {},
     "output_type": "execute_result"
    }
   ],
   "source": [
    "def area_circle (R) :\n",
    "    return 3.14 * R**2\n",
    "N_R = [ 1 , 2 , 3 , 4 , 5 , 6]\n",
    "list(map( area_circle , N_R))"
   ]
  },
  {
   "cell_type": "code",
   "execution_count": 17,
   "metadata": {},
   "outputs": [
    {
     "data": {
      "text/plain": [
       "['AHMEDAHMED Thx', 'ALIALI Thx', 'NOURANOURA Thx', 'TAMERTAMER Thx']"
      ]
     },
     "execution_count": 17,
     "metadata": {},
     "output_type": "execute_result"
    }
   ],
   "source": [
    "names = [\"Ahmed\" , \"Ali\" , \"Noura\" , \"Tamer\"]\n",
    "def func (name) :\n",
    "    \n",
    "    result = name.upper() * 2 + \" Thx\"\n",
    "    return result\n",
    "list(map(func , names))"
   ]
  },
  {
   "cell_type": "code",
   "execution_count": 23,
   "metadata": {},
   "outputs": [
    {
     "name": "stdout",
     "output_type": "stream",
     "text": [
      "[0, 1, 2, 3, 4, 5, 6, 7, 8, 9]\n",
      "================\n",
      "[0, 2, 4, 6, 8]\n"
     ]
    }
   ],
   "source": [
    "liss1 = list(range(10))\n",
    "print(liss1)\n",
    "print(\"================\")\n",
    "liss2 = []\n",
    "for i in liss1 :\n",
    "    if i % 2 == 0:\n",
    "        \n",
    "        liss2.append(i)\n",
    "print(liss2)\n"
   ]
  },
  {
   "cell_type": "code",
   "execution_count": 26,
   "metadata": {},
   "outputs": [
    {
     "name": "stdout",
     "output_type": "stream",
     "text": [
      "[0, 2, 4, 6, 8]\n"
     ]
    }
   ],
   "source": [
    "liss2 =[i for i in liss1 if i % 2 == 0]\n",
    "print(liss2)"
   ]
  },
  {
   "cell_type": "markdown",
   "metadata": {},
   "source": [
    "# 2_ Filter Func"
   ]
  },
  {
   "cell_type": "code",
   "execution_count": 29,
   "metadata": {},
   "outputs": [
    {
     "data": {
      "text/plain": [
       "[0, 2, 4, 6, 8]"
      ]
     },
     "execution_count": 29,
     "metadata": {},
     "output_type": "execute_result"
    }
   ],
   "source": [
    "def check_even (nums) :\n",
    "    return nums % 2 == 0 \n",
    "nums = list(range(10))\n",
    "list(filter(check_even , nums))\n",
    "        \n",
    "   "
   ]
  },
  {
   "cell_type": "code",
   "execution_count": 30,
   "metadata": {},
   "outputs": [
    {
     "data": {
      "text/plain": [
       "[5, 10, 15, 20, 25, 30, 35, 40, 45, 50]"
      ]
     },
     "execution_count": 30,
     "metadata": {},
     "output_type": "execute_result"
    }
   ],
   "source": [
    "def check_div_on_five(num):\n",
    "    return num % 5 == 0 \n",
    "\n",
    "nums = list(range(1, 51))\n",
    "\n",
    "list(filter(check_div_on_five,nums))"
   ]
  },
  {
   "cell_type": "code",
   "execution_count": 31,
   "metadata": {},
   "outputs": [
    {
     "name": "stdout",
     "output_type": "stream",
     "text": [
      "[0, 1, 2, 3, 4, 5]\n",
      "============\n",
      "15\n"
     ]
    }
   ],
   "source": [
    "li = list(range(6))\n",
    "print(li)\n",
    "print(\"============\")\n",
    "summ = 0\n",
    "for i in li :\n",
    "    summ += i\n",
    "    \n",
    "print(summ)"
   ]
  },
  {
   "cell_type": "code",
   "execution_count": 39,
   "metadata": {},
   "outputs": [
    {
     "data": {
      "text/plain": [
       "15"
      ]
     },
     "execution_count": 39,
     "metadata": {},
     "output_type": "execute_result"
    }
   ],
   "source": [
    "li = list(range(6))\n",
    "def summa (li) :\n",
    "    summ = 0\n",
    "    for i in li :\n",
    "        summ += i\n",
    "    return summ\n",
    "summa(li)       "
   ]
  },
  {
   "cell_type": "markdown",
   "metadata": {},
   "source": [
    "# 3_ Reduce Func"
   ]
  },
  {
   "cell_type": "code",
   "execution_count": 40,
   "metadata": {},
   "outputs": [
    {
     "data": {
      "text/plain": [
       "15"
      ]
     },
     "execution_count": 40,
     "metadata": {},
     "output_type": "execute_result"
    }
   ],
   "source": [
    "from functools import reduce\n",
    "\n",
    "def calc_sum(a, b):\n",
    "    return a + b\n",
    "\n",
    "\n",
    "lis = range(1, 6)\n",
    "  \n",
    "reduce(calc_sum,lis)"
   ]
  },
  {
   "cell_type": "code",
   "execution_count": 41,
   "metadata": {},
   "outputs": [
    {
     "data": {
      "text/plain": [
       "120"
      ]
     },
     "execution_count": 41,
     "metadata": {},
     "output_type": "execute_result"
    }
   ],
   "source": [
    "from functools import reduce\n",
    "\n",
    "def calc_mult(a, b):\n",
    "    return a * b\n",
    "\n",
    "\n",
    "lis = [1, 2, 3, 4, 5]\n",
    "  \n",
    "reduce(calc_mult,lis)"
   ]
  },
  {
   "cell_type": "code",
   "execution_count": 42,
   "metadata": {},
   "outputs": [
    {
     "data": {
      "text/plain": [
       "3.0"
      ]
     },
     "execution_count": 42,
     "metadata": {},
     "output_type": "execute_result"
    }
   ],
   "source": [
    "from functools import reduce\n",
    "\n",
    "def calc_sum(a, b):\n",
    "    return a + b\n",
    "\n",
    "\n",
    "lis = range(1, 6)\n",
    "  \n",
    "reduce(calc_sum,lis) / len(lis)"
   ]
  },
  {
   "cell_type": "code",
   "execution_count": 43,
   "metadata": {},
   "outputs": [
    {
     "name": "stdout",
     "output_type": "stream",
     "text": [
      "255\n",
      "================\n",
      "-4\n"
     ]
    }
   ],
   "source": [
    "from functools import reduce\n",
    "\n",
    "def check_bigger(a, b):\n",
    "    return a if a > b else b\n",
    "\n",
    "def check_smaller(a, b):\n",
    "    return b if a > b else a\n",
    "    \n",
    "\n",
    "lis = [10, 255, 30, -4, 50]\n",
    "  \n",
    "print(reduce(check_bigger,lis))\n",
    "print(\"================\")\n",
    "print(reduce(check_smaller,lis))\n"
   ]
  },
  {
   "cell_type": "markdown",
   "metadata": {},
   "source": [
    "find from the list the summetion of the cube of odd numbers between 1 & 20"
   ]
  },
  {
   "cell_type": "code",
   "execution_count": 51,
   "metadata": {},
   "outputs": [
    {
     "name": "stdout",
     "output_type": "stream",
     "text": [
      "[1, 2, 3, 4, 5, 6, 7, 8, 9, 10, 11, 12, 13, 14, 15, 16, 17, 18, 19, 20]\n",
      "=============\n",
      "The filter list of odd is :: [1, 3, 5, 7, 9, 11, 13, 15, 17, 19]\n",
      "=============\n",
      "The map list of Cube is :: [1, 8, 27, 64, 125, 216, 343, 512, 729, 1000, 1331, 1728, 2197, 2744, 3375, 4096, 4913, 5832, 6859, 8000]\n",
      "=============\n",
      "The reduce value is :: 210\n"
     ]
    }
   ],
   "source": [
    "from functools import reduce\n",
    "\n",
    "my_nums = list(range(1, 21))\n",
    "\n",
    "def is_odd(n):\n",
    "    return n % 2 != 0\n",
    "\n",
    "def cube_num(n):\n",
    "    return n ** 3\n",
    "\n",
    "def calculate_sum(a, b):\n",
    "    return a + b\n",
    "    \n",
    "print(my_nums)\n",
    "print(\"=============\")\n",
    "print(\"The filter list of odd is ::\",list(filter( is_odd , my_nums)))\n",
    "print(\"=============\")\n",
    "print(\"The map list of Cube is ::\",list(map( cube_num , my_nums)))\n",
    "print(\"=============\")\n",
    "print(\"The reduce value is ::\" ,reduce( calculate_sum , my_nums))\n",
    "\n",
    "\n",
    "\n",
    "\n"
   ]
  },
  {
   "cell_type": "markdown",
   "metadata": {},
   "source": [
    "# 4_ Lamda func"
   ]
  },
  {
   "cell_type": "code",
   "execution_count": 55,
   "metadata": {},
   "outputs": [
    {
     "data": {
      "text/plain": [
       "4"
      ]
     },
     "execution_count": 55,
     "metadata": {},
     "output_type": "execute_result"
    }
   ],
   "source": [
    "def square (Num) :\n",
    "    result = Num**2\n",
    "    return result\n",
    "square(2)"
   ]
  },
  {
   "cell_type": "code",
   "execution_count": 57,
   "metadata": {},
   "outputs": [
    {
     "data": {
      "text/plain": [
       "4"
      ]
     },
     "execution_count": 57,
     "metadata": {},
     "output_type": "execute_result"
    }
   ],
   "source": [
    "def square (Num) :\n",
    "    return Num**2\n",
    "square(2)"
   ]
  },
  {
   "cell_type": "code",
   "execution_count": 58,
   "metadata": {},
   "outputs": [
    {
     "data": {
      "text/plain": [
       "4"
      ]
     },
     "execution_count": 58,
     "metadata": {},
     "output_type": "execute_result"
    }
   ],
   "source": [
    "def square (Num) : return Num**2\n",
    "square(2)"
   ]
  },
  {
   "cell_type": "code",
   "execution_count": 59,
   "metadata": {},
   "outputs": [
    {
     "name": "stdout",
     "output_type": "stream",
     "text": [
      "[2, 4, 6]\n"
     ]
    }
   ],
   "source": [
    "lis = [ 1 , 2 , 3 , 4 , 5 , 6]\n",
    "print(list(filter(lambda num : num % 2 == 0 , lis)))"
   ]
  },
  {
   "cell_type": "code",
   "execution_count": 61,
   "metadata": {},
   "outputs": [
    {
     "name": "stdout",
     "output_type": "stream",
     "text": [
      "[0, 2, 4, 6, 8]\n"
     ]
    }
   ],
   "source": [
    "lis =list(range(10))\n",
    "print(list(filter(lambda num : num % 2 == 0 , lis)))"
   ]
  },
  {
   "cell_type": "code",
   "execution_count": 62,
   "metadata": {},
   "outputs": [
    {
     "name": "stdout",
     "output_type": "stream",
     "text": [
      "[True, False, True, False, True, False, True, False, True, False]\n"
     ]
    }
   ],
   "source": [
    "lis =list(range(10))\n",
    "print(list(map(lambda num : num % 2 == 0 , lis)))"
   ]
  },
  {
   "cell_type": "code",
   "execution_count": 63,
   "metadata": {},
   "outputs": [
    {
     "name": "stdout",
     "output_type": "stream",
     "text": [
      "[0, 1, 4, 9, 16, 25, 36, 49, 64, 81]\n"
     ]
    }
   ],
   "source": [
    "lis =list(range(10))\n",
    "print(list(map(lambda num : num**2 , lis)))"
   ]
  },
  {
   "cell_type": "code",
   "execution_count": 65,
   "metadata": {},
   "outputs": [
    {
     "name": "stdout",
     "output_type": "stream",
     "text": [
      "9\n"
     ]
    }
   ],
   "source": [
    "print(reduce(lambda a , b : a if a > b else b ,lis ))"
   ]
  },
  {
   "cell_type": "code",
   "execution_count": 66,
   "metadata": {},
   "outputs": [
    {
     "name": "stdout",
     "output_type": "stream",
     "text": [
      "my_odd_cube_nums_sum  is :: 19900\n",
      "==================================================\n",
      "my_odd_cube_nums IS ::  [1, 27, 125, 343, 729, 1331, 2197, 3375, 4913, 6859]\n",
      "===================================================\n",
      "my_odd_cube_nums_sum is ::  19900\n"
     ]
    }
   ],
   "source": [
    "from functools import reduce\n",
    "\n",
    "my_nums = list(range(1, 21))\n",
    "\n",
    "my_odd_nums = list(filter(lambda n: n % 2 != 0, my_nums))\n",
    "my_odd_cube_nums = list(map(lambda n: n ** 3, my_odd_nums))\n",
    "my_odd_cube_nums_sum = reduce(lambda a,b: a + b, my_odd_cube_nums)\n",
    "\n",
    "print(\"my_odd_cube_nums_sum  is ::\" , my_odd_cube_nums_sum )\n",
    "print('==================================================')\n",
    "print(\"my_odd_cube_nums IS :: \" , my_odd_cube_nums)\n",
    "print(\"===================================================\")\n",
    "print(\"my_odd_cube_nums_sum is :: \" , my_odd_cube_nums_sum)"
   ]
  },
  {
   "cell_type": "code",
   "execution_count": null,
   "metadata": {},
   "outputs": [],
   "source": []
  }
 ],
 "metadata": {
  "kernelspec": {
   "display_name": "Python 3",
   "language": "python",
   "name": "python3"
  },
  "language_info": {
   "codemirror_mode": {
    "name": "ipython",
    "version": 3
   },
   "file_extension": ".py",
   "mimetype": "text/x-python",
   "name": "python",
   "nbconvert_exporter": "python",
   "pygments_lexer": "ipython3",
   "version": "3.7.4"
  }
 },
 "nbformat": 4,
 "nbformat_minor": 2
}
