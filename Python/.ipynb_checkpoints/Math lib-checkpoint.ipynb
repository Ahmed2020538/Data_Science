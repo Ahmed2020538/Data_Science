{
 "cells": [
  {
   "cell_type": "code",
   "execution_count": 1,
   "metadata": {},
   "outputs": [],
   "source": [
    "import math as m\n",
    "A=m.acos(0.5)\n",
    "B=m.acosh(60)\n",
    "C=m.asin(0.5)\n",
    "D=m.asinh(0.5)\n",
    "E=m.atan(0.5)\n",
    "F = m.ceil(2.9)\n",
    "G=m.ceil(2.1)\n",
    "H=m.gamma(0.5)\n",
    "J=m.pi\n",
    "L=m.sqrt(25)\n",
    "R=m.floor(2.9)\n",
    "U = m.floor(2.4)\n",
    "\n",
    "\n",
    "\n"
   ]
  },
  {
   "cell_type": "code",
   "execution_count": 3,
   "metadata": {},
   "outputs": [
    {
     "name": "stdout",
     "output_type": "stream",
     "text": [
      "The acos of valu 0.5 is :: 1.0471975511965979\n",
      "======\n",
      "The acosh of valu 60 is :: 4.787422291102689\n",
      "======\n",
      "The asin of valu 0.5 is :: 0.5235987755982989\n",
      "======\n",
      "The acsinh of valu 0.5 is :: 0.48121182505960347\n",
      "======\n",
      "The atan of valu 0.5 is :: 0.4636476090008061\n",
      "======\n",
      "The Ceil of valu 2.9 is :: 3\n",
      "======\n",
      "The Ceil of valu 2.1 is :: 3\n",
      "======\n",
      "The Floor of valu 2.9 is :: 2\n",
      "======\n",
      "The Floor of valu 2.4 is :: 2\n",
      "======\n",
      "The gamma of valu 0.5 is :: 1.7724538509055159\n",
      "======\n",
      "The squart of valu 25 is :: 5.0\n",
      "======\n",
      "The pi value  is :: 3.141592653589793\n"
     ]
    }
   ],
   "source": [
    "print(f\"The acos of valu 0.5 is :: {A}\")\n",
    "print(\"======\")\n",
    "print(f\"The acosh of valu 60 is :: {B}\")\n",
    "print(\"======\")\n",
    "print(f\"The asin of valu 0.5 is :: {C}\")\n",
    "print(\"======\")\n",
    "print(f\"The acsinh of valu 0.5 is :: {D}\")\n",
    "print(\"======\")\n",
    "print(f\"The atan of valu 0.5 is :: {E}\")\n",
    "print(\"======\")\n",
    "print(f\"The Ceil of valu 2.9 is :: {F}\")\n",
    "print(\"======\")\n",
    "print(f\"The Ceil of valu 2.1 is :: {G}\")\n",
    "print(\"======\")\n",
    "print(f\"The Floor of valu 2.9 is :: {R}\")\n",
    "print(\"======\")\n",
    "print(f\"The Floor of valu 2.4 is :: {U}\")\n",
    "print(\"======\")\n",
    "print(f\"The gamma of valu 0.5 is :: {H}\")\n",
    "print(\"======\")\n",
    "print(f\"The squart of valu 25 is :: {L}\")\n",
    "print(\"======\")\n",
    "print(f\"The pi value  is :: {J}\")\n"
   ]
  },
  {
   "cell_type": "code",
   "execution_count": null,
   "metadata": {},
   "outputs": [],
   "source": []
  }
 ],
 "metadata": {
  "kernelspec": {
   "display_name": "Python 3",
   "language": "python",
   "name": "python3"
  },
  "language_info": {
   "codemirror_mode": {
    "name": "ipython",
    "version": 3
   },
   "file_extension": ".py",
   "mimetype": "text/x-python",
   "name": "python",
   "nbconvert_exporter": "python",
   "pygments_lexer": "ipython3",
   "version": "3.7.4"
  }
 },
 "nbformat": 4,
 "nbformat_minor": 2
}
