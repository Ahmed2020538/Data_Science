{
 "cells": [
  {
   "cell_type": "markdown",
   "metadata": {},
   "source": [
    "# 1 :: While loop"
   ]
  },
  {
   "cell_type": "code",
   "execution_count": 1,
   "metadata": {},
   "outputs": [
    {
     "name": "stdout",
     "output_type": "stream",
     "text": [
      "Mido\n",
      "Mido\n",
      "Mido\n",
      "Mido\n",
      "Mido\n"
     ]
    }
   ],
   "source": [
    "i=1  #intial value\n",
    "while i<=5 : #loop and codition\n",
    "    print('Mido') #print\n",
    "    i+=1 #increment"
   ]
  },
  {
   "cell_type": "code",
   "execution_count": 2,
   "metadata": {},
   "outputs": [
    {
     "name": "stdout",
     "output_type": "stream",
     "text": [
      "ja 5\n",
      "ja 4\n",
      "ja 3\n",
      "ja 2\n",
      "ja 1\n",
      "ja 0\n"
     ]
    }
   ],
   "source": [
    "j = 5  # initial value\n",
    "while j >= 0 : # loop and condition\n",
    "    print(\"ja\" , j)\n",
    "    j -= 1 # decreament"
   ]
  },
  {
   "cell_type": "code",
   "execution_count": 14,
   "metadata": {},
   "outputs": [
    {
     "name": "stdout",
     "output_type": "stream",
     "text": [
      "Ahmed 1\n",
      "Mido 1\n",
      "Mido 2\n",
      "Mido 3\n",
      "Mido 4\n",
      "Mido 5\n",
      "======\n",
      "Ahmed 2\n",
      "======\n",
      "Ahmed 3\n",
      "======\n",
      "Ahmed 4\n",
      "======\n",
      "Ahmed 5\n",
      "======\n"
     ]
    }
   ],
   "source": [
    "i = 1\n",
    "j = 1\n",
    "while i <= 5 :\n",
    "    print(\"Ahmed\" , i)\n",
    "    while j <= 5 :\n",
    "        print(\"Mido\", j)\n",
    "        j += 1\n",
    "    i += 1\n",
    "    print(\"======\")"
   ]
  },
  {
   "cell_type": "code",
   "execution_count": 15,
   "metadata": {},
   "outputs": [
    {
     "name": "stdout",
     "output_type": "stream",
     "text": [
      "Ahmed 1\n",
      "Mido 1\n",
      "Mido 2\n",
      "Mido 3\n",
      "Mido 4\n",
      "Mido 5\n",
      "======\n",
      "Ahmed 2\n",
      "Mido 1\n",
      "Mido 2\n",
      "Mido 3\n",
      "Mido 4\n",
      "Mido 5\n",
      "======\n",
      "Ahmed 3\n",
      "Mido 1\n",
      "Mido 2\n",
      "Mido 3\n",
      "Mido 4\n",
      "Mido 5\n",
      "======\n",
      "Ahmed 4\n",
      "Mido 1\n",
      "Mido 2\n",
      "Mido 3\n",
      "Mido 4\n",
      "Mido 5\n",
      "======\n",
      "Ahmed 5\n",
      "Mido 1\n",
      "Mido 2\n",
      "Mido 3\n",
      "Mido 4\n",
      "Mido 5\n",
      "======\n"
     ]
    }
   ],
   "source": [
    "i = 1 \n",
    "while i <= 5 :\n",
    "    print(\"Ahmed\" , i)\n",
    "    j = 1\n",
    "    while j <=  5 :\n",
    "        print(\"Mido\" , j)\n",
    "       \n",
    "        j += 1\n",
    "    i += 1\n",
    "    print(\"======\")"
   ]
  },
  {
   "cell_type": "code",
   "execution_count": 16,
   "metadata": {},
   "outputs": [
    {
     "name": "stdout",
     "output_type": "stream",
     "text": [
      "Ahmed 1\n",
      "Mido 1\n",
      "=====\n",
      "Ahmed 2\n",
      "Mido 2\n",
      "=====\n",
      "Ahmed 3\n",
      "Mido 3\n",
      "=====\n",
      "Ahmed 4\n",
      "Mido 4\n",
      "=====\n",
      "Ahmed 5\n",
      "Mido 5\n",
      "=====\n"
     ]
    }
   ],
   "source": [
    "i = 1\n",
    "j = 1\n",
    "while i <= 5 :\n",
    "    print(\"Ahmed\" , i)\n",
    "    while j <= 5 :\n",
    "        print(\"Mido\", j)\n",
    "        j += 1\n",
    "        break\n",
    "    i += 1\n",
    "    print(\"=====\")"
   ]
  },
  {
   "cell_type": "code",
   "execution_count": 19,
   "metadata": {},
   "outputs": [
    {
     "name": "stdout",
     "output_type": "stream",
     "text": [
      "Messi 5 Ronaldo 5\n",
      "Ronaldo 4\n",
      "Ronaldo 3\n",
      "Ronaldo 2\n",
      "Ronaldo 1\n",
      "======\n",
      "Messi 4 Ronaldo 5\n",
      "Ronaldo 4\n",
      "Ronaldo 3\n",
      "Ronaldo 2\n",
      "Ronaldo 1\n",
      "======\n",
      "Messi 3 Ronaldo 5\n",
      "Ronaldo 4\n",
      "Ronaldo 3\n",
      "Ronaldo 2\n",
      "Ronaldo 1\n",
      "======\n",
      "Messi 2 Ronaldo 5\n",
      "Ronaldo 4\n",
      "Ronaldo 3\n",
      "Ronaldo 2\n",
      "Ronaldo 1\n",
      "======\n",
      "Messi 1 Ronaldo 5\n",
      "Ronaldo 4\n",
      "Ronaldo 3\n",
      "Ronaldo 2\n",
      "Ronaldo 1\n",
      "======\n"
     ]
    }
   ],
   "source": [
    "i = 5\n",
    "\n",
    "\n",
    "while i >= 1 :\n",
    "    print(\"Messi\" , i , end = \" \")\n",
    "    j = 5\n",
    "    while j >= 1 :\n",
    "        print(\"Ronaldo\" , j )\n",
    "        j -= 1\n",
    "    i -= 1\n",
    "    print(\"======\")"
   ]
  },
  {
   "cell_type": "markdown",
   "metadata": {},
   "source": [
    "# 2 :: Break ,Continue , Pass"
   ]
  },
  {
   "cell_type": "code",
   "execution_count": 21,
   "metadata": {},
   "outputs": [
    {
     "name": "stdout",
     "output_type": "stream",
     "text": [
      "Messi 5\n",
      "Ronaldo 5\n",
      "===========\n",
      "Messi 4\n",
      "Ronaldo 4\n",
      "===========\n",
      "Messi 3\n",
      "Ronaldo 3\n",
      "===========\n",
      "Messi 2\n",
      "Ronaldo 2\n",
      "===========\n",
      "Messi 1\n",
      "Ronaldo 1\n",
      "===========\n"
     ]
    }
   ],
   "source": [
    "i = 5 \n",
    "j = 5\n",
    "while i >= 1 :\n",
    "    print(\"Messi\" , i)\n",
    "    while j >= 1 :\n",
    "        print(\"Ronaldo\", j)\n",
    "        j -= 1\n",
    "        break\n",
    "    i -= 1\n",
    "    print(\"===========\")"
   ]
  },
  {
   "cell_type": "code",
   "execution_count": 22,
   "metadata": {},
   "outputs": [
    {
     "name": "stdout",
     "output_type": "stream",
     "text": [
      "Messi 5\n",
      "Ronaldo 5\n",
      "Ronaldo 4\n",
      "Ronaldo 3\n",
      "Ronaldo 2\n",
      "Ronaldo 1\n",
      "===========\n",
      "Messi 4\n",
      "===========\n",
      "Messi 3\n",
      "===========\n",
      "Messi 2\n",
      "===========\n",
      "Messi 1\n",
      "===========\n"
     ]
    }
   ],
   "source": [
    "i = 5 \n",
    "j = 5\n",
    "while i >= 1 :\n",
    "    print(\"Messi\" , i)\n",
    "    while j >= 1 :\n",
    "        print(\"Ronaldo\", j)\n",
    "        j -= 1\n",
    "        pass\n",
    "    i -= 1\n",
    "    print(\"===========\")"
   ]
  },
  {
   "cell_type": "code",
   "execution_count": 23,
   "metadata": {},
   "outputs": [
    {
     "name": "stdout",
     "output_type": "stream",
     "text": [
      "Messi 5\n",
      "Ronaldo 5\n",
      "Ronaldo 4\n",
      "Ronaldo 3\n",
      "Ronaldo 2\n",
      "Ronaldo 1\n",
      "===========\n",
      "Messi 4\n",
      "===========\n",
      "Messi 3\n",
      "===========\n",
      "Messi 2\n",
      "===========\n",
      "Messi 1\n",
      "===========\n"
     ]
    }
   ],
   "source": [
    "i = 5 \n",
    "j = 5\n",
    "while i >= 1 :\n",
    "    print(\"Messi\" , i)\n",
    "    while j >= 1 :\n",
    "        print(\"Ronaldo\", j)\n",
    "        j -= 1\n",
    "        continue\n",
    "    i -= 1\n",
    "    print(\"===========\")"
   ]
  },
  {
   "cell_type": "code",
   "execution_count": 24,
   "metadata": {},
   "outputs": [
    {
     "name": "stdout",
     "output_type": "stream",
     "text": [
      "Enter how many  need:5\n",
      "can 1\n",
      "can 2\n",
      "can 3\n",
      "can 4\n",
      "can 5\n",
      "end\n"
     ]
    }
   ],
   "source": [
    "i=1\n",
    "X=int(input(\"Enter how many  need:\"))\n",
    "while i<=X :\n",
    "    if i>=10 :\n",
    "        print(\"out\")\n",
    "        break    # Stop and Out \n",
    "    print(\"can\",i)\n",
    "    i+=1\n",
    "print(\"end\")"
   ]
  },
  {
   "cell_type": "code",
   "execution_count": 25,
   "metadata": {},
   "outputs": [
    {
     "name": "stdout",
     "output_type": "stream",
     "text": [
      "Enter how many  need:12\n",
      "can 1\n",
      "can 2\n",
      "can 3\n",
      "can 4\n",
      "can 5\n",
      "can 6\n",
      "can 7\n",
      "can 8\n",
      "can 9\n",
      "out\n",
      "end\n"
     ]
    }
   ],
   "source": [
    "i=1\n",
    "X=int(input(\"Enter how many  need:\"))\n",
    "while i<=X :\n",
    "    if i>=10 :\n",
    "        print(\"out\")\n",
    "        break    # Stop and Out \n",
    "    print(\"can\",i)\n",
    "    i+=1\n",
    "print(\"end\")"
   ]
  },
  {
   "cell_type": "code",
   "execution_count": 30,
   "metadata": {},
   "outputs": [
    {
     "name": "stdout",
     "output_type": "stream",
     "text": [
      "Enter The Limit Plz ::20\n",
      "IN 1\n",
      "IN 2\n",
      "IN 3\n",
      "IN 4\n",
      "IN 5\n",
      "IN 6\n",
      "IN 7\n",
      "IN 8\n",
      "IN 9\n",
      "IN 10\n",
      "IN 11\n",
      "IN 12\n",
      "IN 13\n",
      "IN 14\n",
      "Out 15\n",
      "The End\n"
     ]
    }
   ],
   "source": [
    "i = 1\n",
    "x = int(input(\"Enter The Limit Plz ::\"))\n",
    "while i <= x :\n",
    "    if i >= 15 :\n",
    "        print(\"Out\" ,i)\n",
    "        break\n",
    "    print(\"IN\" , i)\n",
    "    i += 1 \n",
    "print(\"The End\")\n",
    "    "
   ]
  },
  {
   "cell_type": "code",
   "execution_count": 44,
   "metadata": {},
   "outputs": [
    {
     "name": "stdout",
     "output_type": "stream",
     "text": [
      "1 ::Not Accepted\n",
      "==================\n",
      "2 ::Accepted\n",
      "==================\n",
      "3 ::Not Accepted\n",
      "==================\n",
      "4 ::Accepted\n",
      "==================\n",
      "5 ::Not Accepted\n",
      "==================\n",
      "6 ::Accepted\n",
      "==================\n",
      "7 ::Not Accepted\n",
      "==================\n",
      "8 ::Accepted\n",
      "==================\n",
      "9 ::Not Accepted\n",
      "==================\n",
      "10 ::Accepted\n",
      "==================\n",
      "11 ::Not Accepted\n",
      "==================\n",
      "12 ::Accepted\n",
      "==================\n",
      "13 ::Not Accepted\n",
      "==================\n",
      "14 ::Accepted\n",
      "==================\n",
      "15 ::Not Accepted\n",
      "==================\n",
      "16 ::Accepted\n",
      "==================\n",
      "17 ::Not Accepted\n",
      "==================\n",
      "18 ::Accepted\n",
      "==================\n",
      "19 ::Not Accepted\n",
      "==================\n",
      "Thn Friend ^_^\n"
     ]
    }
   ],
   "source": [
    "for i in range (1,20) :\n",
    "    if i % 2 == 0 :\n",
    "        print( i ,\"::Accepted\" )\n",
    "    else :\n",
    "        print( i ,\"::Not Accepted\" )\n",
    "        \n",
    "    print(\"==================\")   \n",
    "print(\"Thn Friend ^_^\")"
   ]
  },
  {
   "cell_type": "code",
   "execution_count": 43,
   "metadata": {},
   "outputs": [
    {
     "name": "stdout",
     "output_type": "stream",
     "text": [
      "1 ::Not Accepted\n",
      "==================\n",
      "2 ::Not Accepted\n",
      "==================\n",
      "3 ::Not Accepted\n",
      "==================\n",
      "4 ::Not Accepted\n",
      "==================\n",
      "5 ::Not Accepted\n",
      "==================\n",
      "6 ::Accepted\n",
      "==================\n",
      "7 ::Not Accepted\n",
      "==================\n",
      "8 ::Not Accepted\n",
      "==================\n",
      "9 ::Not Accepted\n",
      "==================\n",
      "10 ::Not Accepted\n",
      "==================\n",
      "11 ::Not Accepted\n",
      "==================\n",
      "12 ::Accepted\n",
      "==================\n",
      "13 ::Not Accepted\n",
      "==================\n",
      "14 ::Not Accepted\n",
      "==================\n",
      "15 ::Not Accepted\n",
      "==================\n",
      "16 ::Not Accepted\n",
      "==================\n",
      "17 ::Not Accepted\n",
      "==================\n",
      "18 ::Accepted\n",
      "==================\n",
      "19 ::Not Accepted\n",
      "==================\n",
      "Thn Friend ^_^\n"
     ]
    }
   ],
   "source": [
    "for i in range (1,20) :\n",
    "    if i % 2 == 0 and i % 3 == 0 :\n",
    "        print( i ,\"::Accepted\" )\n",
    "    else :\n",
    "        print( i ,\"::Not Accepted\" )\n",
    "        \n",
    "    print(\"==================\")   \n",
    "print(\"Thn Friend ^_^\")"
   ]
  },
  {
   "cell_type": "code",
   "execution_count": 42,
   "metadata": {},
   "outputs": [
    {
     "name": "stdout",
     "output_type": "stream",
     "text": [
      "1 ::Not Accepted\n",
      "==================\n",
      "2 ::Not Accepted\n",
      "==================\n",
      "3 ::Not Accepted\n",
      "==================\n",
      "4 ::Not Accepted\n",
      "==================\n",
      "5 ::Not Accepted\n",
      "==================\n",
      "6 ::Accepted\n",
      "Thn Friend ^_^\n"
     ]
    }
   ],
   "source": [
    "for i in range (1,20) :\n",
    "    if i % 2 == 0 and i % 3 == 0 :\n",
    "        print( i ,\"::Accepted\" )\n",
    "        break\n",
    "    else :\n",
    "        print( i ,\"::Not Accepted\" )\n",
    "        \n",
    "    print(\"==================\")   \n",
    "print(\"Thn Friend ^_^\")"
   ]
  },
  {
   "cell_type": "code",
   "execution_count": 41,
   "metadata": {},
   "outputs": [
    {
     "name": "stdout",
     "output_type": "stream",
     "text": [
      "1 ::Not Accepted\n",
      "==================\n",
      "2 ::Not Accepted\n",
      "==================\n",
      "3 ::Not Accepted\n",
      "==================\n",
      "4 ::Not Accepted\n",
      "==================\n",
      "5 ::Not Accepted\n",
      "==================\n",
      "6 ::Accepted\n",
      "7 ::Not Accepted\n",
      "==================\n",
      "8 ::Not Accepted\n",
      "==================\n",
      "9 ::Not Accepted\n",
      "==================\n",
      "10 ::Not Accepted\n",
      "==================\n",
      "11 ::Not Accepted\n",
      "==================\n",
      "12 ::Accepted\n",
      "13 ::Not Accepted\n",
      "==================\n",
      "14 ::Not Accepted\n",
      "==================\n",
      "15 ::Not Accepted\n",
      "==================\n",
      "16 ::Not Accepted\n",
      "==================\n",
      "17 ::Not Accepted\n",
      "==================\n",
      "18 ::Accepted\n",
      "19 ::Not Accepted\n",
      "==================\n",
      "Thn Friend ^_^\n"
     ]
    }
   ],
   "source": [
    "for i in range (1,20) :\n",
    "    if i % 2 == 0 and i % 3 == 0 :\n",
    "        print( i , \"::Accepted\" )\n",
    "        continue\n",
    "    else :\n",
    "        print( i , \"::Not Accepted\" )\n",
    "        \n",
    "    print(\"==================\")   \n",
    "print(\"Thn Friend ^_^\")"
   ]
  },
  {
   "cell_type": "code",
   "execution_count": 40,
   "metadata": {},
   "outputs": [
    {
     "name": "stdout",
     "output_type": "stream",
     "text": [
      "1 ::Not Accepted\n",
      "==================\n",
      "2 ::Not Accepted\n",
      "==================\n",
      "3 ::Not Accepted\n",
      "==================\n",
      "4 ::Not Accepted\n",
      "==================\n",
      "5 ::Not Accepted\n",
      "==================\n",
      "6 ::Accepted\n",
      "==================\n",
      "7 ::Not Accepted\n",
      "==================\n",
      "8 ::Not Accepted\n",
      "==================\n",
      "9 ::Not Accepted\n",
      "==================\n",
      "10 ::Not Accepted\n",
      "==================\n",
      "11 ::Not Accepted\n",
      "==================\n",
      "12 ::Accepted\n",
      "==================\n",
      "13 ::Not Accepted\n",
      "==================\n",
      "14 ::Not Accepted\n",
      "==================\n",
      "15 ::Not Accepted\n",
      "==================\n",
      "16 ::Not Accepted\n",
      "==================\n",
      "17 ::Not Accepted\n",
      "==================\n",
      "18 ::Accepted\n",
      "==================\n",
      "19 ::Not Accepted\n",
      "==================\n",
      "Thn Friend ^_^\n"
     ]
    }
   ],
   "source": [
    "for i in range (1,20) :\n",
    "    if i % 2 == 0 and i % 3 == 0 :\n",
    "        print( i ,\"::Accepted\" )\n",
    "        pass\n",
    "    else :\n",
    "        print( i , \"::Not Accepted\" )\n",
    "        \n",
    "    print(\"==================\")   \n",
    "print(\"Thn Friend ^_^\")"
   ]
  },
  {
   "cell_type": "markdown",
   "metadata": {},
   "source": [
    "# Print Pattern"
   ]
  },
  {
   "cell_type": "code",
   "execution_count": 45,
   "metadata": {},
   "outputs": [
    {
     "name": "stdout",
     "output_type": "stream",
     "text": [
      "#\n",
      "#\n",
      "#\n",
      "#\n"
     ]
    }
   ],
   "source": [
    "print(\"#\")\n",
    "print(\"#\")\n",
    "print(\"#\")\n",
    "print(\"#\")"
   ]
  },
  {
   "cell_type": "code",
   "execution_count": 46,
   "metadata": {},
   "outputs": [
    {
     "name": "stdout",
     "output_type": "stream",
     "text": [
      "# # # # "
     ]
    }
   ],
   "source": [
    "print(\"#\" , end = \" \")\n",
    "print(\"#\" , end = \" \")\n",
    "print(\"#\" , end = \" \")\n",
    "print(\"#\" , end = \" \")"
   ]
  },
  {
   "cell_type": "code",
   "execution_count": 49,
   "metadata": {},
   "outputs": [
    {
     "name": "stdout",
     "output_type": "stream",
     "text": [
      "# # # # # 0\n",
      "# # # # # 1\n",
      "# # # # # 2\n",
      "# # # # # 3\n"
     ]
    }
   ],
   "source": [
    "for i in range(4):\n",
    "    for j in range(5):\n",
    "        print(\"#\" , end = \" \" )\n",
    "    print(i)"
   ]
  },
  {
   "cell_type": "code",
   "execution_count": 51,
   "metadata": {},
   "outputs": [
    {
     "name": "stdout",
     "output_type": "stream",
     "text": [
      "0\n",
      "# 1\n",
      "# # 2\n",
      "# # # 3\n",
      "# # # # 4\n"
     ]
    }
   ],
   "source": [
    "for i in range(5):\n",
    "    for j in range(i):\n",
    "        print(\"#\" , end = \" \" )\n",
    "    print(i)"
   ]
  },
  {
   "cell_type": "code",
   "execution_count": 52,
   "metadata": {},
   "outputs": [
    {
     "name": "stdout",
     "output_type": "stream",
     "text": [
      "# # # # # 0\n",
      "# # # # 1\n",
      "# # # 2\n",
      "# # 3\n",
      "# 4\n"
     ]
    }
   ],
   "source": [
    "for i in range(5):\n",
    "    for j in range(5-i):\n",
    "        print(\"#\" , end = \" \" )\n",
    "    print(i)"
   ]
  },
  {
   "cell_type": "code",
   "execution_count": 55,
   "metadata": {},
   "outputs": [
    {
     "name": "stdout",
     "output_type": "stream",
     "text": [
      "Enter The Number ::11\n",
      "2 :: Is primary\n",
      "11 :: Is not primry\n"
     ]
    }
   ],
   "source": [
    "Num = int(input(\"Enter The Number ::\"))\n",
    "for i in (2,Num) :\n",
    "    if Num % i == 0 :\n",
    "        print(i , \":: Is not primry\")\n",
    "        break\n",
    "    else :\n",
    "        print(i , \":: Is primary\")"
   ]
  },
  {
   "cell_type": "code",
   "execution_count": null,
   "metadata": {},
   "outputs": [],
   "source": []
  }
 ],
 "metadata": {
  "kernelspec": {
   "display_name": "Python 3",
   "language": "python",
   "name": "python3"
  },
  "language_info": {
   "codemirror_mode": {
    "name": "ipython",
    "version": 3
   },
   "file_extension": ".py",
   "mimetype": "text/x-python",
   "name": "python",
   "nbconvert_exporter": "python",
   "pygments_lexer": "ipython3",
   "version": "3.7.4"
  }
 },
 "nbformat": 4,
 "nbformat_minor": 2
}
