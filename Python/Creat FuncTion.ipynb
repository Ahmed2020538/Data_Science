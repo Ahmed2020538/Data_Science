{
 "cells": [
  {
   "cell_type": "markdown",
   "metadata": {},
   "source": [
    "# Function "
   ]
  },
  {
   "cell_type": "code",
   "execution_count": 2,
   "metadata": {},
   "outputs": [
    {
     "name": "stdout",
     "output_type": "stream",
     "text": [
      "Function out\n",
      "Hello Ahmed\n",
      "Thnx Ahmed\n",
      "Data scientist\n"
     ]
    }
   ],
   "source": [
    "def F1 () : # creart func F1\n",
    "    print(\"Hello Ahmed\")  # in func F1\n",
    "    print(\"Thnx Ahmed\")  #in func F1\n",
    "print(\"Function out\") # out of function\n",
    "def F2 () : #  creat func F2\n",
    "    print(\"Data scientist\")  # in func F2\n",
    "F1 ()  # to import F1\n",
    "F2 ()  # to import F2\n"
   ]
  },
  {
   "cell_type": "markdown",
   "metadata": {},
   "source": [
    "# parametter in Function"
   ]
  },
  {
   "cell_type": "code",
   "execution_count": 5,
   "metadata": {},
   "outputs": [
    {
     "name": "stdout",
     "output_type": "stream",
     "text": [
      "Hello  Ahmed\n",
      "Hello  Mido\n",
      "Hello  Turki\n"
     ]
    }
   ],
   "source": [
    "def Hi (name) : # create func to Recieve Name\n",
    "    print(\"Hello\" + \"  \"  +name)   #Viev >>    Hello Space Name \n",
    "Hi(\"Ahmed\")\n",
    "Hi(\"Mido\")\n",
    "Hi(\"Turki\")"
   ]
  },
  {
   "cell_type": "code",
   "execution_count": 11,
   "metadata": {},
   "outputs": [
    {
     "name": "stdout",
     "output_type": "stream",
     "text": [
      "Hello  Ahmed\n",
      "Hello  Mido\n",
      "Hello  Turki\n"
     ]
    }
   ],
   "source": [
    "def Hi (name) : # create func to Recieve Name\n",
    "    print(\"Hello  \" + name)   #Viev >>    Hello Space Name \n",
    "Hi(\"Ahmed\")\n",
    "Hi(\"Mido\")\n",
    "Hi(\"Turki\")"
   ]
  },
  {
   "cell_type": "code",
   "execution_count": 7,
   "metadata": {},
   "outputs": [
    {
     "name": "stdout",
     "output_type": "stream",
     "text": [
      "10\n",
      "0\n",
      "25\n",
      "1.0\n",
      "1\n"
     ]
    }
   ],
   "source": [
    "def F2 (N1,N2,O) :\n",
    "    if O==\"+\" :\n",
    "        print(N1+N2)\n",
    "    elif O==\"-\" :\n",
    "        print(N1-N2)\n",
    "    elif O==\"*\" :\n",
    "        print(N1*N2)\n",
    "    elif O==\"/\" :    # can except error by >> If N2==0 : N2=1 \n",
    "        print(N1/N2)\n",
    "    else :\n",
    "        print(N1//N2)\n",
    "F2(5,5,\"+\")\n",
    "F2(5,5,\"-\")\n",
    "F2(5,5,\"*\")\n",
    "F2(5,5,\"/\")\n",
    "F2(5,5,\"//\")"
   ]
  },
  {
   "cell_type": "code",
   "execution_count": 10,
   "metadata": {},
   "outputs": [
    {
     "name": "stdout",
     "output_type": "stream",
     "text": [
      "10\n",
      "0\n",
      "25\n",
      "1.0\n",
      "5.0\n",
      "1\n",
      "5\n"
     ]
    }
   ],
   "source": [
    "def F2 (N1,N2,O) :\n",
    "    if O==\"+\" :\n",
    "        print(N1+N2)\n",
    "    elif O==\"-\" :\n",
    "        print(N1-N2)\n",
    "    elif O==\"*\" :\n",
    "        print(N1*N2)\n",
    "    elif O==\"/\" : \n",
    "        if N2==0 : N2=1\n",
    "        print(N1/N2)\n",
    "    else :\n",
    "        if N2==0 : N2=1\n",
    "        print(N1//N2)\n",
    "F2(5,5,\"+\")\n",
    "F2(5,5,\"-\")\n",
    "F2(5,5,\"*\")\n",
    "F2(5,5,\"/\")\n",
    "F2(5,0,\"/\")\n",
    "F2(5,5,\"//\")\n",
    "F2(5,0,\"//\")"
   ]
  },
  {
   "cell_type": "markdown",
   "metadata": {},
   "source": [
    "# Many Argument in Function"
   ]
  },
  {
   "cell_type": "code",
   "execution_count": 12,
   "metadata": {},
   "outputs": [
    {
     "name": "stdout",
     "output_type": "stream",
     "text": [
      "Hello  Ahmed\n",
      "Hello  Ali\n",
      "Hello  Mido\n",
      "Hello  MIDO\n",
      "Hello  Turki\n",
      "Hello  MOooh\n",
      "Hello  Taher\n"
     ]
    }
   ],
   "source": [
    "def HI (*Names) :\n",
    "    for Name in Names :\n",
    "        print(\"Hello  \" + Name)\n",
    "HI(\"Ahmed\")\n",
    "HI(\"Ali\",\"Mido\")\n",
    "HI(\"MIDO\",\"Turki\",\"MOooh\",\"Taher\")"
   ]
  },
  {
   "cell_type": "code",
   "execution_count": 15,
   "metadata": {},
   "outputs": [
    {
     "name": "stdout",
     "output_type": "stream",
     "text": [
      "Hello  Ahmed\n",
      "Hello  Ali\n",
      "Hello  Mido\n",
      "Hello  MIDO\n",
      "Hello  Turki\n",
      "Hello  MOooh\n",
      "Hello  Taher\n"
     ]
    }
   ],
   "source": [
    "def HI (*Names) :\n",
    "    for Name in Names :\n",
    "        print(\"Hello  \" + Name)\n",
    "HI(\"Ahmed\")\n",
    "HI(\"Ali\",\"Mido\")\n",
    "HI(\"MIDO\",\"Turki\",\"MOooh\",\"Taher\")"
   ]
  },
  {
   "cell_type": "code",
   "execution_count": 22,
   "metadata": {},
   "outputs": [
    {
     "name": "stdout",
     "output_type": "stream",
     "text": [
      "Enter Names :Ahmed\n",
      "Hello  Ahmed\n"
     ]
    }
   ],
   "source": [
    "X=input(\"Enter Names :\")\n",
    "def hi (X) :\n",
    "    print(\"Hello  \" + X)\n",
    "        \n",
    "hi(X)\n",
    "\n",
    "    "
   ]
  },
  {
   "cell_type": "markdown",
   "metadata": {},
   "source": [
    "# Return in Func"
   ]
  },
  {
   "cell_type": "code",
   "execution_count": 23,
   "metadata": {},
   "outputs": [
    {
     "name": "stdout",
     "output_type": "stream",
     "text": [
      "Hello  Mido\n",
      "Hello  Ahmed\n"
     ]
    }
   ],
   "source": [
    "def F (name) :\n",
    "    return \"Hello  \" +name\n",
    "r1=F(\"Mido\")\n",
    "r2=F(\"Ahmed\")\n",
    "print(r1)\n",
    "print(r2)"
   ]
  },
  {
   "cell_type": "code",
   "execution_count": 28,
   "metadata": {},
   "outputs": [
    {
     "name": "stdout",
     "output_type": "stream",
     "text": [
      "15\n",
      "50\n",
      "0.5\n",
      "5.0\n"
     ]
    }
   ],
   "source": [
    "def Calc (N1,N2,O) :\n",
    "    r=0\n",
    "    if O==\"+\" :\n",
    "        r=N1+N2\n",
    "    elif O==\"*\" :\n",
    "        r=N1*N2\n",
    "    else :\n",
    "        if N2==0 : N2=1\n",
    "        r=N1/N2\n",
    "    return r\n",
    "R1=Calc(5,10,\"+\")\n",
    "R2=Calc(5,10,\"*\")\n",
    "R3=Calc(5,10,\"/\")\n",
    "R4=Calc(5,0,\"/\")\n",
    "print(R1)\n",
    "print(R2)\n",
    "print(R3)\n",
    "print(R4)"
   ]
  },
  {
   "cell_type": "code",
   "execution_count": 1,
   "metadata": {},
   "outputs": [
    {
     "name": "stdout",
     "output_type": "stream",
     "text": [
      "15 5\n"
     ]
    }
   ],
   "source": [
    "def add_sub (X,Y) :\n",
    "    A=X+Y\n",
    "    B=X-Y\n",
    "    return A,B\n",
    "R1,R2=add_sub(10,5)\n",
    "print(R1,R2)"
   ]
  },
  {
   "cell_type": "code",
   "execution_count": 2,
   "metadata": {},
   "outputs": [
    {
     "name": "stdout",
     "output_type": "stream",
     "text": [
      "10\n",
      "20\n"
     ]
    }
   ],
   "source": [
    "def F (X) :\n",
    "    X=10\n",
    "    print(X)\n",
    "A=20\n",
    "F(10)\n",
    "print(A)"
   ]
  },
  {
   "cell_type": "code",
   "execution_count": 11,
   "metadata": {},
   "outputs": [
    {
     "name": "stdout",
     "output_type": "stream",
     "text": [
      "140726632817328\n",
      "140726632817328\n",
      "X 10\n",
      "A 20\n",
      "140726632817648\n"
     ]
    }
   ],
   "source": [
    "def F (X) :\n",
    "    print(id(X))   #id(X)==id(10) != id(A)\n",
    "    X=10\n",
    "    print(id(X))\n",
    "    print(\"X\",X)\n",
    "A=20\n",
    "F(10)\n",
    "print(\"A\",A)\n",
    "print(id(A))\n"
   ]
  },
  {
   "cell_type": "code",
   "execution_count": 12,
   "metadata": {},
   "outputs": [
    {
     "name": "stdout",
     "output_type": "stream",
     "text": [
      "L 704366383304\n",
      "L 704366383304\n",
      "L 704366383304\n",
      "L [100, 10, 300]\n"
     ]
    }
   ],
   "source": [
    "def F (L) :\n",
    "    print(\"L\",id(L))\n",
    "    L[1]=10\n",
    "    print(\"L\",id(L))\n",
    "L=[100,200,300]\n",
    "print(\"L\",id(L))\n",
    "F(L)\n",
    "print(\"L\",L)\n",
    "    "
   ]
  },
  {
   "cell_type": "markdown",
   "metadata": {},
   "source": [
    " # position ,, key word ,,defualt,, len\n",
    "    "
   ]
  },
  {
   "cell_type": "code",
   "execution_count": 20,
   "metadata": {},
   "outputs": [
    {
     "name": "stdout",
     "output_type": "stream",
     "text": [
      "20\n",
      "==================\n",
      "15\n",
      "15\n",
      "40\n",
      "===============\n",
      "Ahmed\n",
      "26\n",
      "Mido\n",
      "35\n",
      "Turki\n",
      "30\n"
     ]
    }
   ],
   "source": [
    "def F (X,Y) : # position(X,Y)\n",
    "    Z=X+Y\n",
    "    print(Z)\n",
    "F(10,10)\n",
    "print(\"==================\")\n",
    "def F1 (x=5,y=10) :  #defualt Values\n",
    "    z=x+y\n",
    "    print(z)\n",
    "F1()\n",
    "F1()\n",
    "F1(20,20)\n",
    "print(\"===============\")\n",
    "def F2 (Name,Adge=30) :  # defualt Value\n",
    "    print(Name)\n",
    "    print(Adge)\n",
    "F2(\"Ahmed\",26)\n",
    "F2(Adge=35 , Name=\"Mido\")  #key Words\n",
    "F2(\"Turki\")\n",
    "\n"
   ]
  },
  {
   "cell_type": "code",
   "execution_count": 22,
   "metadata": {},
   "outputs": [
    {
     "name": "stdout",
     "output_type": "stream",
     "text": [
      "a 10\n",
      "b (20, 30, 40)\n"
     ]
    }
   ],
   "source": [
    "def f (a,*b) :\n",
    "    print(\"a\",a)\n",
    "    print(\"b\",b)\n",
    "f(10,20,30,40)"
   ]
  },
  {
   "cell_type": "code",
   "execution_count": 24,
   "metadata": {},
   "outputs": [
    {
     "name": "stdout",
     "output_type": "stream",
     "text": [
      "30\n"
     ]
    }
   ],
   "source": [
    "def f (a,*b) :\n",
    "    c=a\n",
    "    for i in b :\n",
    "        c+=i\n",
    "    print(c)\n",
    "f(10,10,10)"
   ]
  },
  {
   "cell_type": "code",
   "execution_count": 1,
   "metadata": {},
   "outputs": [
    {
     "name": "stdout",
     "output_type": "stream",
     "text": [
      "20\n",
      "30\n"
     ]
    }
   ],
   "source": [
    "def f (a,*b) :\n",
    "    c= a\n",
    "    for i in b :\n",
    "        c+=i\n",
    "        print(c)\n",
    "        \n",
    "f1 = f(10,10,10)"
   ]
  },
  {
   "cell_type": "code",
   "execution_count": 30,
   "metadata": {},
   "outputs": [
    {
     "name": "stdout",
     "output_type": "stream",
     "text": [
      "Ahmed\n",
      "{'Adge': 26, 'Jop': 'Data scientist', 'Mob': 2001013900542}\n"
     ]
    }
   ],
   "source": [
    "def F (Name,**Data) :\n",
    "    print(Name)\n",
    "    print(Data)\n",
    "F(\"Ahmed\" , Adge=26 , Jop=\"Data scientist\" , Mob=+2001013900542)  #key Words\n"
   ]
  },
  {
   "cell_type": "code",
   "execution_count": 32,
   "metadata": {},
   "outputs": [
    {
     "name": "stdout",
     "output_type": "stream",
     "text": [
      "Ahmed\n",
      "Adge 26\n",
      "Jop Data scientist\n",
      "Mob 2001013900542\n"
     ]
    }
   ],
   "source": [
    "def F (Name,**Data) :\n",
    "    print(Name)\n",
    "    for i,j in Data.items() :\n",
    "        print(i,j)\n",
    "    \n",
    "F(\"Ahmed\" , Adge=26 , Jop=\"Data scientist\" , Mob=+2001013900542)  #key Words"
   ]
  },
  {
   "cell_type": "code",
   "execution_count": null,
   "metadata": {},
   "outputs": [],
   "source": []
  }
 ],
 "metadata": {
  "kernelspec": {
   "display_name": "Python 3",
   "language": "python",
   "name": "python3"
  },
  "language_info": {
   "codemirror_mode": {
    "name": "ipython",
    "version": 3
   },
   "file_extension": ".py",
   "mimetype": "text/x-python",
   "name": "python",
   "nbconvert_exporter": "python",
   "pygments_lexer": "ipython3",
   "version": "3.7.4"
  }
 },
 "nbformat": 4,
 "nbformat_minor": 2
}
