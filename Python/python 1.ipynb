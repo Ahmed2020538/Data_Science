{
 "cells": [
  {
   "cell_type": "markdown",
   "metadata": {},
   "source": [
    "# 1 : Variables "
   ]
  },
  {
   "cell_type": "markdown",
   "metadata": {},
   "source": [
    "Variables  ::   Take Any Kind Of dataTypes such ( int , float , complex , Bool , str , list , tuple , set , dict , func , class and pointer)"
   ]
  },
  {
   "cell_type": "code",
   "execution_count": 21,
   "metadata": {},
   "outputs": [
    {
     "name": "stdout",
     "output_type": "stream",
     "text": [
      "Hello World\n",
      "Hello World\n",
      "10 False (5+8j) True False Hi_Ahmed [10, 20, 30] ('Ahmed', 'Ali', 'Tamer') {True, 50, 'Ali'} {'Name': 'Ahmed', 'Adge': 27, 'Position': 'Data_Scientist', 'Statu': 'Single'} None\n",
      "==============================================\n",
      "10 \n",
      " False \n",
      " (5+8j) \n",
      " True \n",
      " 15.7 \n",
      " Hi_Ahmed \n",
      " [10, 20, 30] \n",
      " ('Ahmed', 'Ali', 'Tamer') \n",
      " {True, 50, 'Ali'} \n",
      " {'Name': 'Ahmed', 'Adge': 27, 'Position': 'Data_Scientist', 'Statu': 'Single'} \n",
      " None\n"
     ]
    }
   ],
   "source": [
    "I = 10\n",
    "Fl = 15.7\n",
    "C = 8j+5\n",
    "T = True\n",
    "F = False\n",
    "S = \"Hi_Ahmed\"\n",
    "List = [10,20,30]\n",
    "Tuple = (\"Ahmed\" , \"Ali\" , \"Tamer\")\n",
    "St = {\"Ali\" , True , 50}\n",
    "Dict = {\"Name\" : \"Ahmed\" , \"Adge\": 27 , \"Position\" : \"Data_Scientist\" , \"Statu\" : \"Single\"}\n",
    "def func (x) :\n",
    "    print(\"Hello World\")\n",
    "d = func(\"Speech\")\n",
    "\n",
    "\n",
    "print(I,F,C,T,F,S,List,Tuple,St,Dict,func(d))\n",
    "\n",
    "\n",
    "print(\"==============================================\")\n",
    "    \n",
    "print(I,\"\\n\",F,\"\\n\",C,\"\\n\",T,\"\\n\",Fl,\"\\n\",S,\"\\n\",List,\"\\n\",Tuple,\"\\n\",St,\"\\n\",Dict,\"\\n\",d)"
   ]
  },
  {
   "cell_type": "markdown",
   "metadata": {},
   "source": [
    "# 2_Datatybes"
   ]
  },
  {
   "cell_type": "code",
   "execution_count": 23,
   "metadata": {},
   "outputs": [
    {
     "name": "stdout",
     "output_type": "stream",
     "text": [
      "<class 'int'>\n",
      "<class 'float'>\n",
      "<class 'complex'>\n",
      "<class 'bool'>\n",
      "<class 'bool'>\n",
      "<class 'str'>\n",
      "<class 'list'>\n",
      "<class 'tuple'>\n",
      "<class 'set'>\n",
      "<class 'dict'>\n",
      "<class 'NoneType'>\n"
     ]
    }
   ],
   "source": [
    "print(type(I))\n",
    "print(type(Fl))\n",
    "print(type(C))\n",
    "print(type(T))\n",
    "print(type(F))\n",
    "print(type(S))\n",
    "print(type(List))\n",
    "print(type(Tuple))\n",
    "print(type(St))\n",
    "print(type(Dict))\n",
    "print(type(d))"
   ]
  },
  {
   "cell_type": "markdown",
   "metadata": {},
   "source": [
    "# 3_Numbers"
   ]
  },
  {
   "cell_type": "code",
   "execution_count": 26,
   "metadata": {},
   "outputs": [
    {
     "name": "stdout",
     "output_type": "stream",
     "text": [
      "100\n",
      "==============\n",
      "-120\n",
      "==============\n",
      "3.14\n",
      "==============\n",
      "-33.5\n",
      "==============\n",
      "(9+5j)\n",
      "==============\n",
      "(-4-5j)\n",
      "==============\n",
      "==============\n",
      "<class 'int'>\n",
      "<class 'int'>\n",
      "<class 'float'>\n",
      "<class 'float'>\n",
      "<class 'complex'>\n",
      "<class 'complex'>\n"
     ]
    }
   ],
   "source": [
    "x  = 100\n",
    "x1 = -120\n",
    "y  = 3.14\n",
    "y1 = -33.5\n",
    "z  = 5j+9\n",
    "z1 = -5j-4\n",
    "\n",
    "print(x)\n",
    "print(\"==============\")\n",
    "print(x1)\n",
    "print(\"==============\")\n",
    "print(y)\n",
    "print(\"==============\")\n",
    "print(y1)\n",
    "print(\"==============\")\n",
    "print(z)\n",
    "print(\"==============\")\n",
    "print(z1)\n",
    "\n",
    "print(\"==============\")\n",
    "print(\"==============\")\n",
    "\n",
    "print(type(x))\n",
    "print(type(x1))\n",
    "print(type(y))\n",
    "print(type(y1))\n",
    "print(type(z))\n",
    "print(type(z1))\n"
   ]
  },
  {
   "cell_type": "markdown",
   "metadata": {},
   "source": [
    "# 3_1 :: Operation in Numbers"
   ]
  },
  {
   "cell_type": "code",
   "execution_count": 27,
   "metadata": {},
   "outputs": [
    {
     "name": "stdout",
     "output_type": "stream",
     "text": [
      "30\n",
      "=================\n",
      "200\n"
     ]
    }
   ],
   "source": [
    "#  1 :: Summation operation\n",
    "\n",
    "print( 10 +20 )\n",
    "print(\"=================\")\n",
    "print( 150 + 50 )"
   ]
  },
  {
   "cell_type": "code",
   "execution_count": 28,
   "metadata": {},
   "outputs": [
    {
     "name": "stdout",
     "output_type": "stream",
     "text": [
      "-10\n",
      "=================\n",
      "100\n"
     ]
    }
   ],
   "source": [
    "# 2 :: Substracation  operation\n",
    "\n",
    "print( 10 - 20 )\n",
    "print(\"=================\")\n",
    "print( 150 - 50 )"
   ]
  },
  {
   "cell_type": "code",
   "execution_count": 29,
   "metadata": {},
   "outputs": [
    {
     "name": "stdout",
     "output_type": "stream",
     "text": [
      "200\n",
      "=================\n",
      "7500\n"
     ]
    }
   ],
   "source": [
    "# 3 :: Multiplication operation\n",
    "\n",
    "print( 10 * 20 )\n",
    "print(\"=================\")\n",
    "print( 150 * 50 )"
   ]
  },
  {
   "cell_type": "code",
   "execution_count": 30,
   "metadata": {},
   "outputs": [
    {
     "name": "stdout",
     "output_type": "stream",
     "text": [
      "8\n",
      "=================\n",
      "64\n"
     ]
    }
   ],
   "source": [
    "# 4 ::power of operation\n",
    "\n",
    "print( 2**3 )\n",
    "print(\"=================\")\n",
    "print( 8**2 )"
   ]
  },
  {
   "cell_type": "code",
   "execution_count": 32,
   "metadata": {},
   "outputs": [
    {
     "name": "stdout",
     "output_type": "stream",
     "text": [
      "2.0\n",
      "=================\n",
      "100\n"
     ]
    }
   ],
   "source": [
    "# 5::division operation \n",
    "\n",
    "print( 20 / 10) # output float num \n",
    "print(\"=================\")\n",
    "print( 200 // 2) # output int num"
   ]
  },
  {
   "cell_type": "code",
   "execution_count": 33,
   "metadata": {},
   "outputs": [
    {
     "name": "stdout",
     "output_type": "stream",
     "text": [
      "0\n",
      "=================\n",
      "2\n"
     ]
    }
   ],
   "source": [
    "# 5 :: Modiluse\n",
    "\n",
    "print( 20 % 2)\n",
    "print(\"=================\")\n",
    "print( 20 % 3)"
   ]
  },
  {
   "cell_type": "markdown",
   "metadata": {},
   "source": [
    "1 The order of operation \n",
    "\n",
    "\n",
    "1 Brackets ()\n",
    "2) **\n",
    "3) *, /, //, %\n",
    "4) +, -\n",
    "#if any operation in the same rank for ex: *, % so operation goes from left to right"
   ]
  },
  {
   "cell_type": "code",
   "execution_count": 34,
   "metadata": {},
   "outputs": [
    {
     "name": "stdout",
     "output_type": "stream",
     "text": [
      "11\n"
     ]
    }
   ],
   "source": [
    "ex = 8+5-(2*4)//2+8-(2*3)\n",
    "print(ex)"
   ]
  },
  {
   "cell_type": "markdown",
   "metadata": {},
   "source": [
    "# 3_2 ::Assignment Operation"
   ]
  },
  {
   "cell_type": "code",
   "execution_count": 38,
   "metadata": {},
   "outputs": [
    {
     "name": "stdout",
     "output_type": "stream",
     "text": [
      "102\n",
      "============\n",
      "101\n",
      "============\n",
      "202\n",
      "============\n",
      "101\n",
      "============\n",
      "10201\n"
     ]
    }
   ],
   "source": [
    "x+=1\n",
    "print(x)\n",
    "print(\"============\")\n",
    "x-=1\n",
    "print(x)\n",
    "print(\"============\")\n",
    "x*=2\n",
    "print(x)\n",
    "print(\"============\")\n",
    "x//=2\n",
    "print(x)\n",
    "print(\"============\")\n",
    "print(x**2)\n"
   ]
  },
  {
   "cell_type": "markdown",
   "metadata": {},
   "source": [
    "# 3_3 ::Convert dtype "
   ]
  },
  {
   "cell_type": "code",
   "execution_count": 45,
   "metadata": {},
   "outputs": [
    {
     "name": "stdout",
     "output_type": "stream",
     "text": [
      "100\n",
      "100.0\n",
      "<class 'int'>\n",
      "============\n",
      "-33.5\n",
      "-33\n",
      "<class 'float'>\n",
      "============\n",
      "(100-33.5j)\n",
      "============\n",
      "100\n",
      "============\n",
      "-33.5\n"
     ]
    }
   ],
   "source": [
    "i = 100\n",
    "print(i)\n",
    "print(float(i))\n",
    "print(type(i))\n",
    "print(\"============\")\n",
    "ii = -33.5\n",
    "print(ii)\n",
    "print(int(ii))\n",
    "print(type(ii))\n",
    "print(\"============\")\n",
    "print(complex(i ,ii))\n",
    "print(\"============\")\n",
    "\n",
    "print(str(i))\n",
    "print(\"============\")\n",
    "print(str(ii))\n",
    "\n",
    "\n",
    "# But we can't convert from str into int or float\n",
    "# And we can't convert from complex into int ,float\n"
   ]
  },
  {
   "cell_type": "markdown",
   "metadata": {},
   "source": [
    "# 3_4 ::Funcations "
   ]
  },
  {
   "cell_type": "code",
   "execution_count": 47,
   "metadata": {},
   "outputs": [
    {
     "name": "stdout",
     "output_type": "stream",
     "text": [
      "<class 'int'>\n",
      "============\n",
      "3\n",
      "============\n",
      "33.5\n"
     ]
    }
   ],
   "source": [
    "iii =[10,20,30]\n",
    "print(type(i))\n",
    "print(\"============\")\n",
    "print(len(iii))\n",
    "print(\"============\")\n",
    "print(abs(ii))\n"
   ]
  },
  {
   "cell_type": "markdown",
   "metadata": {},
   "source": [
    "# 4 :: Boolean   "
   ]
  },
  {
   "cell_type": "code",
   "execution_count": 4,
   "metadata": {},
   "outputs": [
    {
     "name": "stdout",
     "output_type": "stream",
     "text": [
      "True\n",
      "<class 'bool'>\n",
      "1\n",
      "==========\n",
      "False\n",
      "<class 'bool'>\n",
      "0\n",
      "==========\n"
     ]
    }
   ],
   "source": [
    "t = True\n",
    "f = False\n",
    "\n",
    "print(t)\n",
    "print(type(t))\n",
    "print(int(t))\n",
    "print(\"==========\")\n",
    "print(f)\n",
    "print(type(f))\n",
    "print(int(f))\n",
    "print(\"==========\")\n",
    "\n",
    "\n"
   ]
  },
  {
   "cell_type": "markdown",
   "metadata": {},
   "source": [
    "# 6 :: Comparision operation"
   ]
  },
  {
   "cell_type": "code",
   "execution_count": 10,
   "metadata": {},
   "outputs": [
    {
     "name": "stdout",
     "output_type": "stream",
     "text": [
      "False\n",
      "=======\n",
      "False\n",
      "=======\n",
      "False\n",
      "=======\n",
      "True\n",
      "=======\n",
      "True\n",
      "=======\n",
      "True\n",
      "=======\n",
      "True\n",
      "=======\n",
      "False\n"
     ]
    }
   ],
   "source": [
    "num1 = 100\n",
    "num2 = 150\n",
    "num3 = 200\n",
    "print( num1 > num2 )\n",
    "print(\"=======\")\n",
    "print( num1 >= num2 )\n",
    "print(\"=======\")\n",
    "print (num2 == num3 )\n",
    "print(\"=======\")\n",
    "print( num3 > num1 )\n",
    "print(\"=======\")\n",
    "print( num1 <= num2 )\n",
    "print(\"=======\")\n",
    "print( num1 != num2)\n",
    "print(\"=======\")\n",
    "print( num1 < num2 < num3)\n",
    "print(\"=======\")\n",
    "print( num3 == num2 == num1)"
   ]
  },
  {
   "cell_type": "markdown",
   "metadata": {},
   "source": [
    "# 7 :: logic operation \n"
   ]
  },
  {
   "cell_type": "code",
   "execution_count": 14,
   "metadata": {},
   "outputs": [
    {
     "name": "stdout",
     "output_type": "stream",
     "text": [
      "False\n",
      "=======\n",
      "True\n",
      "=======\n",
      "True\n",
      "=======\n",
      "True\n",
      "=======\n",
      "True\n",
      "=======\n",
      "False\n",
      "=======\n",
      "True\n",
      "=======\n",
      "True\n",
      "=======\n",
      "True\n",
      "=======\n",
      "True\n",
      "=======\n",
      "False\n"
     ]
    }
   ],
   "source": [
    "print( num1 > num2 and num2 > num3)\n",
    "print(\"=======\")\n",
    "print( num2 > num1 and num3 > num2)\n",
    "print(\"=======\")\n",
    "print( num3 >= num2 and num1 <= num2)\n",
    "print(\"=======\")\n",
    "print( num1 == num2 or num3 != num2)\n",
    "print(\"=======\")\n",
    "print( num3 > num1 or num2 <= num1)\n",
    "print(\"=======\")\n",
    "print( num2 <= num1 or num2 == num3)\n",
    "print(\"=======\")\n",
    "print( not num1 > num2 and not num3 < num2)\n",
    "print(\"=======\")\n",
    "print( not num3 >= num2 or not num2 > num3)\n",
    "print(\"=======\")\n",
    "print( not num1 == num3 and not num3 == num1)\n",
    "print(\"=======\")\n",
    "print((not 1 == 5) and ((not 2 > 5) or 3 > 7))\n",
    "print(\"=======\")\n",
    "print((not 1 == 5) and ((not 5 > 2) or not 8 > 5))"
   ]
  },
  {
   "cell_type": "markdown",
   "metadata": {},
   "source": [
    "# 3 :: Strings"
   ]
  },
  {
   "cell_type": "code",
   "execution_count": 11,
   "metadata": {},
   "outputs": [
    {
     "name": "stdout",
     "output_type": "stream",
     "text": [
      "Hello Word\n",
      "=====\n",
      "Hello\n",
      "World\n",
      "Friend\n",
      "=======\n",
      "Hello\\World\\Fried\n",
      "=======\n",
      "Hello\tWorld\tFriend\n",
      "=======\n",
      "Hello World\n"
     ]
    }
   ],
   "source": [
    "v = \"Hello Word\"\n",
    "print(v)\n",
    "print(\"=====\")\n",
    "print(\"Hello\\nWorld\\nFriend\")  # New_Line\n",
    "print(\"=======\")\n",
    "print(\"Hello\\World\\Fried\")    # remove letter\n",
    "print(\"=======\")\n",
    "print(\"Hello\\tWorld\\tFriend\") # Take space mong Words\n",
    "print(\"=======\")\n",
    "print(\"Hello\" , end = \" \")   # print statements in the same line\n",
    "print(\"World\")\n"
   ]
  },
  {
   "cell_type": "markdown",
   "metadata": {},
   "source": [
    "# 3_2 :: Indexing str"
   ]
  },
  {
   "cell_type": "code",
   "execution_count": 14,
   "metadata": {},
   "outputs": [
    {
     "name": "stdout",
     "output_type": "stream",
     "text": [
      "Hello Word\n",
      "========\n",
      "H\n",
      "========\n",
      "o\n",
      "========\n",
      "d\n",
      "========\n",
      "o\n",
      "========\n"
     ]
    }
   ],
   "source": [
    "print(v)\n",
    "print(\"========\")\n",
    "print(v[0])\n",
    "print(\"========\")\n",
    "print(v[4])\n",
    "print(\"========\")\n",
    "print(v[-1])\n",
    "print(\"========\")\n",
    "print(v[-3])\n",
    "print(\"========\")\n",
    "# print(v[15])  :: Error becouse it is  Out of range"
   ]
  },
  {
   "cell_type": "markdown",
   "metadata": {},
   "source": [
    "# 3_3 :: Sclicing in str"
   ]
  },
  {
   "cell_type": "code",
   "execution_count": 16,
   "metadata": {},
   "outputs": [
    {
     "name": "stdout",
     "output_type": "stream",
     "text": [
      "Hello\n",
      "========\n",
      "lo W\n",
      "========\n",
      "Hello\n",
      "========\n",
      "lo Word\n",
      "========\n",
      "Hello Word\n",
      "========\n",
      "droW olleH\n",
      "========\n",
      "oW olleH\n"
     ]
    }
   ],
   "source": [
    "print(v[0:5])\n",
    "print(\"========\")\n",
    "print(v[3:7])\n",
    "print(\"========\")\n",
    "print(v[:5])\n",
    "print(\"========\")\n",
    "print(v[3:])\n",
    "print(\"========\")\n",
    "print(v[:])\n",
    "print(\"========\")\n",
    "print(v[::-1])\n",
    "print(\"========\")\n",
    "print(v[7::-1])"
   ]
  },
  {
   "cell_type": "markdown",
   "metadata": {},
   "source": [
    "# 3_4 :: Deal with Arabic str"
   ]
  },
  {
   "cell_type": "code",
   "execution_count": 19,
   "metadata": {},
   "outputs": [
    {
     "name": "stdout",
     "output_type": "stream",
     "text": [
      "سبحان الله وبحمده سبحان الله العظيم\n",
      "=======\n",
      "ل\n",
      "=======\n",
      "م\n",
      "=======\n",
      "سبحان الله\n",
      "=======\n",
      "ميظعلا هللا ناحبس هدمحبو هللا ناحبس\n"
     ]
    }
   ],
   "source": [
    "Arabic = \"سبحان الله وبحمده سبحان الله العظيم\"\n",
    "print(Arabic)\n",
    "print(\"=======\")\n",
    "print(Arabic[8])\n",
    "print(\"=======\")\n",
    "print(Arabic[-1])\n",
    "print(\"=======\")\n",
    "print(Arabic[:10])\n",
    "print(\"=======\")\n",
    "print(Arabic[::-1])\n",
    "\n",
    "\n",
    "\n"
   ]
  },
  {
   "cell_type": "markdown",
   "metadata": {},
   "source": [
    "# 3_5 :: Operation in str "
   ]
  },
  {
   "cell_type": "code",
   "execution_count": 22,
   "metadata": {},
   "outputs": [
    {
     "name": "stdout",
     "output_type": "stream",
     "text": [
      "ABC\n",
      "=====\n",
      "ABCABCABC\n",
      "=====\n",
      "ABCDEF\n",
      "=====\n",
      "ABCFFF\n"
     ]
    }
   ],
   "source": [
    "o = \"ABC\"\n",
    "print(o)\n",
    "print(\"=====\")\n",
    "print(o*3)   # Multiplication or Replication\n",
    "print(\"=====\")\n",
    "print(o+\"DEF\") # Addation\n",
    "print(\"=====\")\n",
    "o+= \"FFF\"      # Assignment\n",
    "print(o)"
   ]
  },
  {
   "cell_type": "markdown",
   "metadata": {},
   "source": [
    "# 3_6 :: Func and Method "
   ]
  },
  {
   "cell_type": "code",
   "execution_count": 36,
   "metadata": {},
   "outputs": [
    {
     "name": "stdout",
     "output_type": "stream",
     "text": [
      "Hello Word\n",
      "=====\n",
      "<class 'str'>\n",
      "=====\n",
      "10\n",
      "=====\n",
      "r\n",
      "=====\n",
      " \n",
      "2\n",
      "=====\n",
      "Hello word\n",
      "=====\n",
      "Hello Word\n",
      "=====\n",
      "True\n",
      "=====\n",
      "False\n",
      "=====\n",
      "True\n",
      "=====\n",
      "False\n",
      "=====\n",
      "6\n",
      "=====\n",
      "HELLO WORD\n",
      "=====\n",
      "hello word\n",
      "=====\n",
      "HEEllo Word\n",
      "=====\n",
      "192.181.101\n",
      "=====\n",
      "['192', '181', '101']\n",
      "=====\n",
      "I_ love_Python\n",
      "=====\n",
      "=====\n",
      "I __ ve __ ython\n"
     ]
    }
   ],
   "source": [
    "print(v)\n",
    "print(\"=====\")\n",
    "print(type(v))\n",
    "print(\"=====\")\n",
    "print(len(v))\n",
    "print(\"=====\")\n",
    "print(max(v))\n",
    "print(\"=====\")\n",
    "print(min(v))\n",
    "\n",
    "# Methods\n",
    "\n",
    "print(v.count(\"l\"))\n",
    "print(\"=====\")\n",
    "print(v.capitalize()) # Make first letter capital only\n",
    "print(\"=====\")\n",
    "print(v.title())  # make the first lettter of the word stateent capital\n",
    "print(\"=====\")\n",
    "print(v.endswith(\"d\"))\n",
    "print(\"=====\")\n",
    "print(v.endswith(\"k\"))\n",
    "print(\"=====\")\n",
    "print(v.startswith(\"H\"))\n",
    "print(\"=====\")\n",
    "print(v.startswith(\"s\"))\n",
    "print(\"=====\")\n",
    "print(v.find(\"W\"))\n",
    "print(\"=====\")\n",
    "print(v.upper())\n",
    "print(\"=====\")\n",
    "print(v.lower())\n",
    "print(\"=====\")\n",
    "print(v.replace( \"e\" , \"EE\"))\n",
    "print(\"=====\")\n",
    "\n",
    "\n",
    "ip = \"192.181.101\"\n",
    "print(ip)\n",
    "print(\"=====\")\n",
    "print(ip.split(\".\"))\n",
    "print(\"=====\")\n",
    "print(\"_\".join([\"I\" , \" love\" , \"Python\"]))\n",
    "\n",
    "print(\"=====\")\n",
    "print(\"=====\")\n",
    "handl = \"I __ ve __ ython\"\n",
    "print(handl.strip()) # To clean Str\n"
   ]
  },
  {
   "cell_type": "markdown",
   "metadata": {},
   "source": [
    "# Format function in str"
   ]
  },
  {
   "cell_type": "code",
   "execution_count": 39,
   "metadata": {},
   "outputs": [
    {
     "name": "stdout",
     "output_type": "stream",
     "text": [
      "The value of form is :: 10\n"
     ]
    }
   ],
   "source": [
    "form = 10\n",
    "print(\"The value of form is :: {}\".format(form))"
   ]
  },
  {
   "cell_type": "code",
   "execution_count": 42,
   "metadata": {},
   "outputs": [
    {
     "name": "stdout",
     "output_type": "stream",
     "text": [
      "The first Name is ::Ahmed __ and __ The family name is ::  Elsayed Ebrahim\n"
     ]
    }
   ],
   "source": [
    "f1 = \"Ahmed\"\n",
    "f2 = \"Elsayed Ebrahim\"\n",
    "print(\"The first Name is ::{} __ and __ The family name is ::  {}\".format( f1 , f2 ))"
   ]
  },
  {
   "cell_type": "code",
   "execution_count": 43,
   "metadata": {},
   "outputs": [
    {
     "name": "stdout",
     "output_type": "stream",
     "text": [
      "The num1 is :: 10  and the num2 is :: 20 and the num3 is :: 30\n"
     ]
    }
   ],
   "source": [
    "print(\"The num1 is :: {}  and the num2 is :: {} and the num3 is :: {}\".format(10,20,30))"
   ]
  },
  {
   "cell_type": "code",
   "execution_count": 44,
   "metadata": {},
   "outputs": [
    {
     "name": "stdout",
     "output_type": "stream",
     "text": [
      "The num1 is :: 30  and the num2 is :: 10 and the num3 is :: 20\n"
     ]
    }
   ],
   "source": [
    "print(\"The num1 is :: {2}  and the num2 is :: {0} and the num3 is :: {1}\".format(10,20,30))"
   ]
  },
  {
   "cell_type": "code",
   "execution_count": 46,
   "metadata": {},
   "outputs": [
    {
     "name": "stdout",
     "output_type": "stream",
     "text": [
      "The num1 is :: 30  and the num2 is :: 20 and the num3 is :: 10\n"
     ]
    }
   ],
   "source": [
    "print(\"The num1 is :: {c}  and the num2 is :: {b} and the num3 is :: {a}\".format( a = 10 , b = 20,c = 30))"
   ]
  },
  {
   "cell_type": "code",
   "execution_count": 49,
   "metadata": {},
   "outputs": [
    {
     "name": "stdout",
     "output_type": "stream",
     "text": [
      "The color1 is :: Yellow and The color2 is :: Red\n"
     ]
    }
   ],
   "source": [
    "print(\"The color1 is :: {col1} and The color2 is :: {col2}\".format(col2 = \"Red\" , col1 = \"Yellow\"))"
   ]
  },
  {
   "cell_type": "markdown",
   "metadata": {},
   "source": [
    "# Make user input values and format the in specific Form"
   ]
  },
  {
   "cell_type": "code",
   "execution_count": 50,
   "metadata": {},
   "outputs": [
    {
     "name": "stdout",
     "output_type": "stream",
     "text": [
      "Enter u Name plz :: Elturki\n",
      "Enter u Adge plz ::27\n",
      "The name is :: Elturki and  The Adge is :: 27\n"
     ]
    }
   ],
   "source": [
    "i = input(\"Enter u Name plz :: \")\n",
    "ii =int( input(\"Enter u Adge plz ::\"))\n",
    "print(\"The name is :: {} and  The Adge is :: {}\".format( i , ii) )"
   ]
  },
  {
   "cell_type": "code",
   "execution_count": null,
   "metadata": {},
   "outputs": [],
   "source": []
  }
 ],
 "metadata": {
  "kernelspec": {
   "display_name": "Python 3",
   "language": "python",
   "name": "python3"
  },
  "language_info": {
   "codemirror_mode": {
    "name": "ipython",
    "version": 3
   },
   "file_extension": ".py",
   "mimetype": "text/x-python",
   "name": "python",
   "nbconvert_exporter": "python",
   "pygments_lexer": "ipython3",
   "version": "3.7.4"
  }
 },
 "nbformat": 4,
 "nbformat_minor": 2
}
