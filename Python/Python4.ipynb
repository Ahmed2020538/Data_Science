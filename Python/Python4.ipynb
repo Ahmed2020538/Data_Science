{
 "cells": [
  {
   "cell_type": "markdown",
   "metadata": {},
   "source": [
    "# 1 :: If else Condition"
   ]
  },
  {
   "cell_type": "code",
   "execution_count": 4,
   "metadata": {},
   "outputs": [
    {
     "name": "stdout",
     "output_type": "stream",
     "text": [
      "X Is Bigger than Y\n",
      "=================================\n",
      "Y is =80\n",
      "==================================\n",
      "That is right\n"
     ]
    }
   ],
   "source": [
    "x , y = 100 , 80\n",
    "if x > y :\n",
    "    print(\"X Is Bigger than Y\")\n",
    "else :\n",
    "    print(\"X Is not Bigger than Y\")\n",
    "print(\"=================================\")\n",
    "\n",
    "if y is 80 :\n",
    "    print(\"Y is =\" + str(y))\n",
    "else :\n",
    "    print(\"Y Is not = 80 \" )\n",
    "print(\"==================================\")\n",
    "\n",
    "if x >= y :\n",
    "    print(\"That is right\")\n",
    "else :\n",
    "    print(\"That is Wrong\")"
   ]
  },
  {
   "cell_type": "code",
   "execution_count": 9,
   "metadata": {},
   "outputs": [
    {
     "name": "stdout",
     "output_type": "stream",
     "text": [
      "True\n",
      "===============================\n",
      "That right\n"
     ]
    }
   ],
   "source": [
    "print(True if x is 100 else False)\n",
    "print(\"===============================\")\n",
    "print(\"That Wromng\" if x != 100 else \"That right\")"
   ]
  },
  {
   "cell_type": "markdown",
   "metadata": {},
   "source": [
    "# 2 :: if elif elif else"
   ]
  },
  {
   "cell_type": "code",
   "execution_count": 7,
   "metadata": {},
   "outputs": [
    {
     "name": "stdout",
     "output_type": "stream",
     "text": [
      "C is the Bigger Value\n"
     ]
    }
   ],
   "source": [
    "a , b , c = 100 ,150 , 200\n",
    "if a > b :\n",
    "    print(\" A is Bigger than B\")\n",
    "elif b > c :\n",
    "    print(\"B is Bigger Than C\")\n",
    "elif c > b > a :\n",
    "    print(\"C is the Bigger Value\")\n",
    "else :\n",
    "    print(\"No Answer\")"
   ]
  },
  {
   "cell_type": "markdown",
   "metadata": {},
   "source": [
    "# 3 :: nested if"
   ]
  },
  {
   "cell_type": "code",
   "execution_count": 10,
   "metadata": {},
   "outputs": [
    {
     "name": "stdout",
     "output_type": "stream",
     "text": [
      "The value of v is == 20  and in the list l\n"
     ]
    }
   ],
   "source": [
    "l = [10 , 20 ,30]\n",
    "v = 20\n",
    "if v == 20 :\n",
    "    if v in l :\n",
    "        print(\"The value of v is == 20  and in the list l\")\n",
    "    else :\n",
    "        print(\"Not Accpted\")\n",
    "else :\n",
    "    print(\"V not Equal 20\")"
   ]
  },
  {
   "cell_type": "code",
   "execution_count": 11,
   "metadata": {},
   "outputs": [
    {
     "name": "stdout",
     "output_type": "stream",
     "text": [
      "V not Equal 20\n"
     ]
    }
   ],
   "source": [
    "l = [10 , 20 ,30]\n",
    "v = 30\n",
    "if v == 20 :\n",
    "    if v in l :\n",
    "        print(\"The value of v is == 20  and in the list l\")\n",
    "    else :\n",
    "        print(\"Not Accpted\")\n",
    "else :\n",
    "    print(\"V not Equal 20\")"
   ]
  },
  {
   "cell_type": "code",
   "execution_count": 14,
   "metadata": {},
   "outputs": [
    {
     "name": "stdout",
     "output_type": "stream",
     "text": [
      "V is exclude the list\n"
     ]
    }
   ],
   "source": [
    "l = [10 , 80 ,30]\n",
    "v = 20\n",
    "if v == 20 :\n",
    "    if v in l :\n",
    "        print(\"The value of v is == 20  and in the list l\")\n",
    "    else :\n",
    "        print(\"V is exclude the list\")\n",
    "else :\n",
    "    print(\"V not Equal 20\")"
   ]
  },
  {
   "cell_type": "code",
   "execution_count": 17,
   "metadata": {},
   "outputs": [
    {
     "name": "stdout",
     "output_type": "stream",
     "text": [
      "Enter Num plz :: 50\n",
      "50 :: is include list\n",
      "Thx  ^_^\n"
     ]
    }
   ],
   "source": [
    "ll = list(range(100))\n",
    "u = int(input(\"Enter Num plz :: \"))\n",
    "if u in ll :\n",
    "    print(u , \":: is include list\")\n",
    "else :\n",
    "    print(u , \":: is exclude list\")\n",
    "print(\"Thx  \" + \"^_^\")"
   ]
  },
  {
   "cell_type": "code",
   "execution_count": 19,
   "metadata": {},
   "outputs": [
    {
     "name": "stdout",
     "output_type": "stream",
     "text": [
      "Enter Num plz :: 150\n",
      "150 :: is exclude list\n",
      "Thx  ^_^\n"
     ]
    }
   ],
   "source": [
    "ll = list(range(100))\n",
    "u = int(input(\"Enter Num plz :: \"))\n",
    "if u in ll :\n",
    "    print(u , \":: is include list\")\n",
    "else :\n",
    "    print(u , \":: is exclude list\")\n",
    "print(\"Thx  \" + \"^_^\")"
   ]
  },
  {
   "cell_type": "code",
   "execution_count": 20,
   "metadata": {},
   "outputs": [
    {
     "name": "stdout",
     "output_type": "stream",
     "text": [
      "Enter Num plz :: 100\n",
      "100 :: is exclude list\n",
      "Thx  ^_^\n"
     ]
    }
   ],
   "source": [
    "ll = list(range(100))\n",
    "u = int(input(\"Enter Num plz :: \"))\n",
    "if u in ll :\n",
    "    print(u , \":: is include list\")\n",
    "else :\n",
    "    print(u , \":: is exclude list\")\n",
    "print(\"Thx  \" + \"^_^\")"
   ]
  },
  {
   "cell_type": "code",
   "execution_count": 21,
   "metadata": {},
   "outputs": [
    {
     "name": "stdout",
     "output_type": "stream",
     "text": [
      "Enter Num plz :: 0\n",
      "0 :: is include list\n",
      "Thx  ^_^\n"
     ]
    }
   ],
   "source": [
    "ll = list(range(100))\n",
    "u = int(input(\"Enter Num plz :: \"))\n",
    "if u in ll :\n",
    "    print(u , \":: is include list\")\n",
    "else :\n",
    "    print(u , \":: is exclude list\")\n",
    "print(\"Thx  \" + \"^_^\")"
   ]
  },
  {
   "cell_type": "code",
   "execution_count": 27,
   "metadata": {},
   "outputs": [
    {
     "name": "stdout",
     "output_type": "stream",
     "text": [
      "Enter The Number Plz ::15\n",
      "Full Puzz\n"
     ]
    }
   ],
   "source": [
    "N = int(input(\"Enter The Number Plz ::\"))\n",
    "if N % 3 == 0 and N % 5 == 0 :\n",
    "    print(\"Full Puzz\")\n",
    "elif N % 3 == 0 :\n",
    "    print(\"Full\")\n",
    "elif N % 5 == 0 :\n",
    "    print(\"Puzz\")\n",
    "else :\n",
    "    print(\"Gime Over My Friend\")"
   ]
  },
  {
   "cell_type": "code",
   "execution_count": 28,
   "metadata": {},
   "outputs": [
    {
     "name": "stdout",
     "output_type": "stream",
     "text": [
      "Enter The Number Plz ::5\n",
      "Puzz\n"
     ]
    }
   ],
   "source": [
    "N = int(input(\"Enter The Number Plz ::\"))\n",
    "if N % 3 == 0 and N % 5 == 0 :\n",
    "    print(\"Full Puzz\")\n",
    "elif N % 3 == 0 :\n",
    "    print(\"Full\")\n",
    "elif N % 5 == 0 :\n",
    "    print(\"Puzz\")\n",
    "else :\n",
    "    print(\"Gime Over My Friend\")"
   ]
  },
  {
   "cell_type": "code",
   "execution_count": 29,
   "metadata": {},
   "outputs": [
    {
     "name": "stdout",
     "output_type": "stream",
     "text": [
      "Enter The Number Plz ::9\n",
      "Full\n"
     ]
    }
   ],
   "source": [
    "N = int(input(\"Enter The Number Plz ::\"))\n",
    "if N % 3 == 0 and N % 5 == 0 :\n",
    "    print(\"Full Puzz\")\n",
    "elif N % 3 == 0 :\n",
    "    print(\"Full\")\n",
    "elif N % 5 == 0 :\n",
    "    print(\"Puzz\")\n",
    "else :\n",
    "    print(\"Gime Over My Friend\")"
   ]
  },
  {
   "cell_type": "code",
   "execution_count": 33,
   "metadata": {},
   "outputs": [
    {
     "name": "stdout",
     "output_type": "stream",
     "text": [
      "Enter Num1 Plz ::25\n",
      "Enter Num2 Plz ::25\n",
      "Enter The Operation plz ::+\n",
      "The Result of equatio N1 + N2 == 50\n"
     ]
    }
   ],
   "source": [
    "N1 = int(input(\"Enter Num1 Plz ::\"))\n",
    "N2 = int(input(\"Enter Num2 Plz ::\"))\n",
    "O = input(\"Enter The Operation plz ::\")\n",
    "\n",
    "if O == \"+\" :\n",
    "    print(\"The Result of equatio N1 + N2 ==\" , N1+N2)\n",
    "elif O == \"-\" :\n",
    "    print(\"The Result of equatio N1 - N2 ==\" , N1-N2)\n",
    "elif O == \"*\" :\n",
    "    print(\"The Result of equatio N1 * N2 ==\" , N1*N2)\n",
    "elif O == \"/\" :\n",
    "    if N2 == 0  : N2 = 1\n",
    "    print(\"The Result of equatio N1 / N2 ==\" , N1/N2)\n",
    "elif O == \"//\" :\n",
    "    print(\"The Result of equatio N1 / N2 ==\" , N1//N2)\n",
    "else :\n",
    "    print(\"GIME OVER\")"
   ]
  },
  {
   "cell_type": "code",
   "execution_count": 34,
   "metadata": {},
   "outputs": [
    {
     "name": "stdout",
     "output_type": "stream",
     "text": [
      "Enter Num1 Plz ::100\n",
      "Enter Num2 Plz ::50\n",
      "Enter The Operation plz ::-\n",
      "The Result of equatio N1 - N2 == 50\n"
     ]
    }
   ],
   "source": [
    "N1 = int(input(\"Enter Num1 Plz ::\"))\n",
    "N2 = int(input(\"Enter Num2 Plz ::\"))\n",
    "O = input(\"Enter The Operation plz ::\")\n",
    "\n",
    "if O == \"+\" :\n",
    "    print(\"The Result of equatio N1 + N2 ==\" , N1+N2)\n",
    "elif O == \"-\" :\n",
    "    print(\"The Result of equatio N1 - N2 ==\" , N1-N2)\n",
    "elif O == \"*\" :\n",
    "    print(\"The Result of equatio N1 * N2 ==\" , N1*N2)\n",
    "elif O == \"/\" :\n",
    "    if N2 == 0  : N2 = 1\n",
    "    print(\"The Result of equatio N1 / N2 ==\" , N1/N2)\n",
    "elif O == \"//\" :\n",
    "    print(\"The Result of equatio N1 / N2 ==\" , N1//N2)\n",
    "else :\n",
    "    print(\"GIME OVER\")"
   ]
  },
  {
   "cell_type": "code",
   "execution_count": 35,
   "metadata": {},
   "outputs": [
    {
     "name": "stdout",
     "output_type": "stream",
     "text": [
      "Enter Num1 Plz ::10\n",
      "Enter Num2 Plz ::5\n",
      "Enter The Operation plz ::*\n",
      "The Result of equatio N1 * N2 == 50\n"
     ]
    }
   ],
   "source": [
    "N1 = int(input(\"Enter Num1 Plz ::\"))\n",
    "N2 = int(input(\"Enter Num2 Plz ::\"))\n",
    "O = input(\"Enter The Operation plz ::\")\n",
    "\n",
    "if O == \"+\" :\n",
    "    print(\"The Result of equatio N1 + N2 ==\" , N1+N2)\n",
    "elif O == \"-\" :\n",
    "    print(\"The Result of equatio N1 - N2 ==\" , N1-N2)\n",
    "elif O == \"*\" :\n",
    "    print(\"The Result of equatio N1 * N2 ==\" , N1*N2)\n",
    "elif O == \"/\" :\n",
    "    if N2 == 0  : N2 = 1\n",
    "    print(\"The Result of equatio N1 / N2 ==\" , N1/N2)\n",
    "elif O == \"//\" :\n",
    "    print(\"The Result of equatio N1 / N2 ==\" , N1//N2)\n",
    "else :\n",
    "    print(\"GIME OVER\")"
   ]
  },
  {
   "cell_type": "code",
   "execution_count": 37,
   "metadata": {},
   "outputs": [
    {
     "name": "stdout",
     "output_type": "stream",
     "text": [
      "Enter Num1 Plz ::100\n",
      "Enter Num2 Plz ::2\n",
      "Enter The Operation plz ::/\n",
      "The Result of equatio N1 / N2 == 50.0\n"
     ]
    }
   ],
   "source": [
    "N1 = int(input(\"Enter Num1 Plz ::\"))\n",
    "N2 = int(input(\"Enter Num2 Plz ::\"))\n",
    "O = input(\"Enter The Operation plz ::\")\n",
    "\n",
    "if O == \"+\" :\n",
    "    print(\"The Result of equatio N1 + N2 ==\" , N1+N2)\n",
    "elif O == \"-\" :\n",
    "    print(\"The Result of equatio N1 - N2 ==\" , N1-N2)\n",
    "elif O == \"*\" :\n",
    "    print(\"The Result of equatio N1 * N2 ==\" , N1*N2)\n",
    "elif O == \"/\" :\n",
    "    if N2 == 0  : N2 = 1\n",
    "    print(\"The Result of equatio N1 / N2 ==\" , N1/N2)\n",
    "elif O == \"//\" :\n",
    "    print(\"The Result of equatio N1 / N2 ==\" , N1//N2)\n",
    "else :\n",
    "    print(\"GIME OVER\")"
   ]
  },
  {
   "cell_type": "code",
   "execution_count": 38,
   "metadata": {},
   "outputs": [
    {
     "name": "stdout",
     "output_type": "stream",
     "text": [
      "Enter Num1 Plz ::100\n",
      "Enter Num2 Plz ::2\n",
      "Enter The Operation plz :://\n",
      "The Result of equatio N1 / N2 == 50\n"
     ]
    }
   ],
   "source": [
    "N1 = int(input(\"Enter Num1 Plz ::\"))\n",
    "N2 = int(input(\"Enter Num2 Plz ::\"))\n",
    "O = input(\"Enter The Operation plz ::\")\n",
    "\n",
    "if O == \"+\" :\n",
    "    print(\"The Result of equatio N1 + N2 ==\" , N1+N2)\n",
    "elif O == \"-\" :\n",
    "    print(\"The Result of equatio N1 - N2 ==\" , N1-N2)\n",
    "elif O == \"*\" :\n",
    "    print(\"The Result of equatio N1 * N2 ==\" , N1*N2)\n",
    "elif O == \"/\" :\n",
    "    if N2 == 0  : N2 = 1\n",
    "    print(\"The Result of equatio N1 / N2 ==\" , N1/N2)\n",
    "elif O == \"//\" :\n",
    "    print(\"The Result of equatio N1 / N2 ==\" , N1//N2)\n",
    "else :\n",
    "    print(\"GIME OVER\")"
   ]
  },
  {
   "cell_type": "code",
   "execution_count": 1,
   "metadata": {},
   "outputs": [
    {
     "name": "stdout",
     "output_type": "stream",
     "text": [
      "Enter Num1 Plz ::50\n",
      "Enter Num2 Plz ::0\n",
      "Enter The Operation plz ::/\n",
      "The Result of equatio N1 / N2 == 50.0\n"
     ]
    }
   ],
   "source": [
    "N1 = int(input(\"Enter Num1 Plz ::\"))\n",
    "N2 = int(input(\"Enter Num2 Plz ::\"))\n",
    "O = input(\"Enter The Operation plz ::\")\n",
    "\n",
    "if O == \"+\" :\n",
    "    print(\"The Result of equatio N1 + N2 ==\" , N1+N2)\n",
    "elif O == \"-\" :\n",
    "    print(\"The Result of equatio N1 - N2 ==\" , N1-N2)\n",
    "elif O == \"*\" :\n",
    "    print(\"The Result of equatio N1 * N2 ==\" , N1*N2)\n",
    "elif O == \"/\" :\n",
    "    if N2 == 0  : N2 = 1\n",
    "    print(\"The Result of equatio N1 / N2 ==\" , N1/N2)\n",
    "elif O == \"//\" :\n",
    "    if N2 == 0  : N2 = 1\n",
    "    print(\"The Result of equatio N1 / N2 ==\" , N1//N2)\n",
    "else :\n",
    "    print(\"GIME OVER\")"
   ]
  },
  {
   "cell_type": "code",
   "execution_count": 2,
   "metadata": {},
   "outputs": [
    {
     "name": "stdout",
     "output_type": "stream",
     "text": [
      "Enter Num1 Plz ::50\n",
      "Enter Num2 Plz ::0\n",
      "Enter The Operation plz :://\n",
      "The Result of equatio N1 / N2 == 50\n"
     ]
    }
   ],
   "source": [
    "N1 = int(input(\"Enter Num1 Plz ::\"))\n",
    "N2 = int(input(\"Enter Num2 Plz ::\"))\n",
    "O = input(\"Enter The Operation plz ::\")\n",
    "\n",
    "if O == \"+\" :\n",
    "    print(\"The Result of equatio N1 + N2 ==\" , N1+N2)\n",
    "elif O == \"-\" :\n",
    "    print(\"The Result of equatio N1 - N2 ==\" , N1-N2)\n",
    "elif O == \"*\" :\n",
    "    print(\"The Result of equatio N1 * N2 ==\" , N1*N2)\n",
    "elif O == \"/\" :\n",
    "    if N2 == 0  : N2 = 1\n",
    "    print(\"The Result of equatio N1 / N2 ==\" , N1/N2)\n",
    "elif O == \"//\" :\n",
    "    if N2 == 0  : N2 = 1\n",
    "    print(\"The Result of equatio N1 / N2 ==\" , N1//N2)\n",
    "else :\n",
    "    print(\"GIME OVER\")"
   ]
  },
  {
   "cell_type": "code",
   "execution_count": null,
   "metadata": {},
   "outputs": [],
   "source": []
  }
 ],
 "metadata": {
  "kernelspec": {
   "display_name": "Python 3",
   "language": "python",
   "name": "python3"
  },
  "language_info": {
   "codemirror_mode": {
    "name": "ipython",
    "version": 3
   },
   "file_extension": ".py",
   "mimetype": "text/x-python",
   "name": "python",
   "nbconvert_exporter": "python",
   "pygments_lexer": "ipython3",
   "version": "3.7.4"
  }
 },
 "nbformat": 4,
 "nbformat_minor": 2
}
