{
 "cells": [
  {
   "cell_type": "code",
   "execution_count": 1,
   "metadata": {},
   "outputs": [
    {
     "name": "stdout",
     "output_type": "stream",
     "text": [
      "AhmedElsayedEbrahim\n"
     ]
    }
   ],
   "source": [
    "print(\"AhmedElsayedEbrahim\")"
   ]
  },
  {
   "cell_type": "code",
   "execution_count": 2,
   "metadata": {},
   "outputs": [
    {
     "name": "stdout",
     "output_type": "stream",
     "text": [
      "Ahmed\n",
      "Elsayed\n",
      "Ebrahim\n"
     ]
    }
   ],
   "source": [
    "print(\"Ahmed\\nElsayed\\nEbrahim\")"
   ]
  },
  {
   "cell_type": "code",
   "execution_count": 10,
   "metadata": {},
   "outputs": [
    {
     "name": "stdout",
     "output_type": "stream",
     "text": [
      "Ahmed\telsayed\tebrahim\n"
     ]
    }
   ],
   "source": [
    "print(\"Ahmed\\telsayed\\tebrahim\")"
   ]
  },
  {
   "cell_type": "code",
   "execution_count": 15,
   "metadata": {},
   "outputs": [
    {
     "name": "stdout",
     "output_type": "stream",
     "text": [
      "Ali\u0007li\u0007li\n"
     ]
    }
   ],
   "source": [
    "X = \"Ali\\ali\\ali\"\n",
    "print(X)"
   ]
  },
  {
   "cell_type": "code",
   "execution_count": 5,
   "metadata": {},
   "outputs": [
    {
     "name": "stdout",
     "output_type": "stream",
     "text": [
      "2020::::B M W:::::Red::::650000\n",
      "2020::::B M W:::::Red::::650000\n"
     ]
    }
   ],
   "source": [
    "class Car :\n",
    "    Car_Mod   = \"0\"\n",
    "    Car_Name  =\"\"\n",
    "    Car_Color = \"\"\n",
    "    Car_Price = \"0\"\n",
    "    \n",
    "    def get_data (self) :\n",
    "        return self.Car_Mod + \"::::\" + self.Car_Name + \":::::\" + self.Car_Color + \"::::\" + self.Car_Price\n",
    "    def printdata (self) :\n",
    "        print(self.get_data())\n",
    "        \n",
    "        \n",
    "C1 = Car()\n",
    "C1.Car_Mod = \"2020\"\n",
    "C1.Car_Name = \"B M W\"\n",
    "C1.Car_Color = \"Red\"\n",
    "C1.Car_Price = \"650000\"\n",
    "C1.printdata()\n",
    "print(C1.get_data())"
   ]
  },
  {
   "cell_type": "code",
   "execution_count": 7,
   "metadata": {},
   "outputs": [
    {
     "name": "stdout",
     "output_type": "stream",
     "text": [
      "2020::::B M W:::::Red::::650000\n",
      "2020::::B M W:::::Red::::650000\n"
     ]
    }
   ],
   "source": [
    "class Car :\n",
    "    Car_Mod   = \"0\"\n",
    "    Car_Name  =\"\"\n",
    "    Car_Color = \"\"\n",
    "    Car_Price = \"0\"\n",
    "    def __init__(self , Mod , Name ,Col ,Price):\n",
    "        self.Car_Mod = Mod\n",
    "        self.Car_Name = Name\n",
    "        self.Car_Color = Col\n",
    "        self.Car_Price = Price\n",
    "        \n",
    "    \n",
    "    def get_data (self) :\n",
    "        return self.Car_Mod + \"::::\" + self.Car_Name + \":::::\" + self.Car_Color + \"::::\" + self.Car_Price\n",
    "    def printdata (self) :\n",
    "        print(self.get_data())\n",
    "        \n",
    "        \n",
    "Car1 = Car(\"2020\" , \"BMW\" , \"Red\" , \"650000\")\n",
    "C1.printdata()\n",
    "print(C1.get_data())"
   ]
  },
  {
   "cell_type": "code",
   "execution_count": 8,
   "metadata": {},
   "outputs": [
    {
     "ename": "TypeError",
     "evalue": "Car() takes no arguments",
     "output_type": "error",
     "traceback": [
      "\u001b[1;31m---------------------------------------------------------------------------\u001b[0m",
      "\u001b[1;31mTypeError\u001b[0m                                 Traceback (most recent call last)",
      "\u001b[1;32m<ipython-input-8-de929f450ce8>\u001b[0m in \u001b[0;36m<module>\u001b[1;34m\u001b[0m\n\u001b[0;32m     11\u001b[0m \u001b[1;33m\u001b[0m\u001b[0m\n\u001b[0;32m     12\u001b[0m \u001b[1;33m\u001b[0m\u001b[0m\n\u001b[1;32m---> 13\u001b[1;33m \u001b[0mC1\u001b[0m \u001b[1;33m=\u001b[0m \u001b[0mCar\u001b[0m\u001b[1;33m(\u001b[0m\u001b[1;34m\"2020\"\u001b[0m \u001b[1;33m,\u001b[0m \u001b[1;34m\"BMW\"\u001b[0m \u001b[1;33m,\u001b[0m \u001b[1;34m\"Red\"\u001b[0m \u001b[1;33m,\u001b[0m \u001b[1;34m\"650000\"\u001b[0m\u001b[1;33m)\u001b[0m\u001b[1;33m\u001b[0m\u001b[1;33m\u001b[0m\u001b[0m\n\u001b[0m\u001b[0;32m     14\u001b[0m \u001b[1;33m\u001b[0m\u001b[0m\n\u001b[0;32m     15\u001b[0m \u001b[0mC1\u001b[0m\u001b[1;33m.\u001b[0m\u001b[0mprintdata\u001b[0m\u001b[1;33m(\u001b[0m\u001b[1;33m)\u001b[0m\u001b[1;33m\u001b[0m\u001b[1;33m\u001b[0m\u001b[0m\n",
      "\u001b[1;31mTypeError\u001b[0m: Car() takes no arguments"
     ]
    }
   ],
   "source": [
    "class Car :\n",
    "    Car_Mod   = \"0\"\n",
    "    Car_Name  =\"\"\n",
    "    Car_Color = \"\"\n",
    "    Car_Price = \"0\"\n",
    "    \n",
    "    def get_data (self) :\n",
    "        return self.Car_Mod + \"::::\" + self.Car_Name + \":::::\" + self.Car_Color + \"::::\" + self.Car_Price\n",
    "    def printdata (self) :\n",
    "        print(self.get_data())\n",
    "        \n",
    "        \n",
    "C1 = Car(\"2020\" , \"BMW\" , \"Red\" , \"650000\")\n",
    "\n",
    "C1.printdata()\n",
    "print(C1.get_data())"
   ]
  },
  {
   "cell_type": "code",
   "execution_count": 15,
   "metadata": {},
   "outputs": [
    {
     "name": "stdout",
     "output_type": "stream",
     "text": [
      "10000\n",
      "d st\n",
      "Ahmed\n",
      "10000\n",
      "Ahmed\n"
     ]
    }
   ],
   "source": [
    "class emp:\n",
    "    name = \"Ahmed\"\n",
    "    \n",
    "e1 = emp()\n",
    "e1.salary = 10000\n",
    "setattr (e1 , \"pos\" ,\"d st\")\n",
    "print(e1.salary)\n",
    "print(e1.pos)\n",
    "print(e1.name)\n",
    "print(getattr (e1 , \"salary\"))\n",
    "delattr(e1,\"pos\")\n",
    "print(e1.name)\n",
    "    "
   ]
  },
  {
   "cell_type": "code",
   "execution_count": 6,
   "metadata": {},
   "outputs": [
    {
     "data": {
      "text/plain": [
       "30"
      ]
     },
     "execution_count": 6,
     "metadata": {},
     "output_type": "execute_result"
    }
   ],
   "source": [
    "def f (x,*y):\n",
    "    c=x\n",
    "    for i in y:\n",
    "        c+=i\n",
    "    \n",
    "f(10,20,30)\n"
   ]
  },
  {
   "cell_type": "code",
   "execution_count": null,
   "metadata": {},
   "outputs": [],
   "source": []
  }
 ],
 "metadata": {
  "kernelspec": {
   "display_name": "Python 3",
   "language": "python",
   "name": "python3"
  },
  "language_info": {
   "codemirror_mode": {
    "name": "ipython",
    "version": 3
   },
   "file_extension": ".py",
   "mimetype": "text/x-python",
   "name": "python",
   "nbconvert_exporter": "python",
   "pygments_lexer": "ipython3",
   "version": "3.7.4"
  }
 },
 "nbformat": 4,
 "nbformat_minor": 2
}
