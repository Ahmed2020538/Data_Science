{
 "cells": [
  {
   "cell_type": "code",
   "execution_count": 1,
   "metadata": {},
   "outputs": [
    {
     "name": "stdout",
     "output_type": "stream",
     "text": [
      "True\n"
     ]
    }
   ],
   "source": [
    "# Flow control\n",
    "\n",
    "#If ,,, Else\n",
    "\n",
    "X = 200\n",
    "Y = 150\n",
    "if X >= Y :\n",
    "    print(True)\n",
    "else :\n",
    "    print(False)"
   ]
  },
  {
   "cell_type": "code",
   "execution_count": 1,
   "metadata": {},
   "outputs": [
    {
     "name": "stdout",
     "output_type": "stream",
     "text": [
      "30\n"
     ]
    }
   ],
   "source": [
    "W,Z=20,30\n",
    "K= W if (W > Z) else Z\n",
    "print(K)"
   ]
  },
  {
   "cell_type": "code",
   "execution_count": 2,
   "metadata": {},
   "outputs": [
    {
     "name": "stdout",
     "output_type": "stream",
     "text": [
      "Turki\n"
     ]
    }
   ],
   "source": [
    "#Nested  If ,, Else\n",
    "\n",
    "X=100\n",
    "Y=150\n",
    "Z=200\n",
    "if X > Y :\n",
    "    print(\"Ahmed\")\n",
    "elif Y < Z :\n",
    "    print(\"Turki\")\n",
    "else :\n",
    "    print(False)"
   ]
  },
  {
   "cell_type": "code",
   "execution_count": 3,
   "metadata": {},
   "outputs": [
    {
     "name": "stdout",
     "output_type": "stream",
     "text": [
      "Ali\n",
      "Adel\n",
      "Kameel\n"
     ]
    }
   ],
   "source": [
    "# For loop  X=== pointer\n",
    "\n",
    "Names = [\"Ali\" , 'Adel' , 'Kameel']\n",
    "for X in Names :\n",
    "    print(X)"
   ]
  },
  {
   "cell_type": "code",
   "execution_count": 6,
   "metadata": {},
   "outputs": [
    {
     "name": "stdout",
     "output_type": "stream",
     "text": [
      "10\n",
      "12\n",
      "14\n",
      "16\n",
      "18\n"
     ]
    }
   ],
   "source": [
    "# while loop condition\n",
    "\n",
    "K=10\n",
    "while K < 20 :\n",
    "    print(K)\n",
    "    K+=2"
   ]
  },
  {
   "cell_type": "code",
   "execution_count": 7,
   "metadata": {},
   "outputs": [
    {
     "name": "stdout",
     "output_type": "stream",
     "text": [
      "1 Is Odd\n",
      "2 Is Even\n",
      "3 Is Odd\n",
      "4 Is Even\n"
     ]
    }
   ],
   "source": [
    "A=1\n",
    "while A<5 :\n",
    "    if A%2==0 :\n",
    "        print(A , \"Is Even\")\n",
    "    else :\n",
    "        print(A , \"Is Odd\")\n",
    "    A+=1"
   ]
  },
  {
   "cell_type": "code",
   "execution_count": 1,
   "metadata": {},
   "outputs": [
    {
     "name": "stdout",
     "output_type": "stream",
     "text": [
      "18\n",
      "16\n",
      "14\n",
      "12\n",
      "10\n",
      "condition Found\n"
     ]
    }
   ],
   "source": [
    "# Break condition Break stoop in Y!=8\n",
    " \n",
    "Y=20\n",
    "while Y > 0:\n",
    "    Y-=2\n",
    "    if Y !=8 :\n",
    "        print(Y)\n",
    "    else :\n",
    "        break\n",
    "print(\"condition Found\")"
   ]
  },
  {
   "cell_type": "code",
   "execution_count": 3,
   "metadata": {},
   "outputs": [
    {
     "name": "stdout",
     "output_type": "stream",
     "text": [
      "20\n",
      "18\n",
      "16\n",
      "14\n",
      "12\n",
      "10\n",
      "condition Found\n"
     ]
    }
   ],
   "source": [
    "Y=20\n",
    "while Y > 0:\n",
    "    \n",
    "    if Y !=8 :\n",
    "        print(Y)\n",
    "        Y-=2\n",
    "    else :\n",
    "    \n",
    "        break\n",
    "print(\"condition Found\")"
   ]
  },
  {
   "cell_type": "code",
   "execution_count": 13,
   "metadata": {},
   "outputs": [
    {
     "name": "stdout",
     "output_type": "stream",
     "text": [
      "9\n",
      "8\n",
      "7\n",
      "6\n",
      "5\n",
      "4\n",
      "3\n",
      "1\n",
      "0\n",
      "doing\n"
     ]
    }
   ],
   "source": [
    "# continue condition\n",
    "\n",
    "Y=10\n",
    "while Y > 0 :\n",
    "    Y-=1\n",
    "    if Y != 2 :\n",
    "        print(Y)\n",
    "    else :\n",
    "        continue\n",
    "print(\"doing\")        "
   ]
  },
  {
   "cell_type": "code",
   "execution_count": 16,
   "metadata": {},
   "outputs": [],
   "source": [
    "# function define\n",
    "\n",
    "def add (a,b):\n",
    "    sum = a+b\n",
    "    return sum"
   ]
  },
  {
   "cell_type": "code",
   "execution_count": 1,
   "metadata": {},
   "outputs": [
    {
     "name": "stdout",
     "output_type": "stream",
     "text": [
      "the value of X is  10\n",
      "the new value of Y is 100\n"
     ]
    }
   ],
   "source": [
    "#pass values call fun\n",
    "\n",
    "X=10\n",
    "def fun (Y) :\n",
    "    print(\"the value of X is \" , Y)\n",
    "    Y=100\n",
    "    print(\"the new value of Y is\" ,Y)\n",
    "fun(X)    "
   ]
  },
  {
   "cell_type": "code",
   "execution_count": 22,
   "metadata": {},
   "outputs": [
    {
     "name": "stdout",
     "output_type": "stream",
     "text": [
      "the old value of D is [10, 20, 'Ali']\n",
      "the new value of D is [40, 80, 'Ahmed']\n"
     ]
    }
   ],
   "source": [
    "#pass refrence call fun \n",
    "Z=[10,20,\"Ali\"]\n",
    "def fun1 (D):\n",
    "    print(\"the old value of D is\" , D)\n",
    "    Z[0]=40\n",
    "    Z[1]=80\n",
    "    Z[2]=\"Ahmed\"\n",
    "    print(\"the new value of D is\" , D)\n",
    "fun1(Z)    "
   ]
  },
  {
   "cell_type": "code",
   "execution_count": null,
   "metadata": {},
   "outputs": [],
   "source": []
  },
  {
   "cell_type": "code",
   "execution_count": null,
   "metadata": {},
   "outputs": [],
   "source": []
  }
 ],
 "metadata": {
  "kernelspec": {
   "display_name": "Python 3",
   "language": "python",
   "name": "python3"
  },
  "language_info": {
   "codemirror_mode": {
    "name": "ipython",
    "version": 3
   },
   "file_extension": ".py",
   "mimetype": "text/x-python",
   "name": "python",
   "nbconvert_exporter": "python",
   "pygments_lexer": "ipython3",
   "version": "3.7.4"
  }
 },
 "nbformat": 4,
 "nbformat_minor": 2
}
