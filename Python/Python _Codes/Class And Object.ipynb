{
 "cells": [
  {
   "cell_type": "markdown",
   "metadata": {},
   "source": [
    "# Creat Class"
   ]
  },
  {
   "cell_type": "code",
   "execution_count": 2,
   "metadata": {},
   "outputs": [
    {
     "name": "stdout",
     "output_type": "stream",
     "text": [
      "111 ; Ahmed ; Egypt ; 20000\n",
      "111 ; Ahmed ; Egypt ; 20000\n",
      "222 ; Ali ; Germany ; 500000\n",
      "222 ; Ali ; Germany ; 500000\n"
     ]
    }
   ],
   "source": [
    "class Emp :    #name of class\n",
    "    EmpId =\" 0 \"    #Attribute 1 have initial value\n",
    "    EmpName =\"\"  #Att2\n",
    "    EmpAddr =\"\"   #Att3\n",
    "    EmpSalary =\"0\" #Att4\n",
    "    def getdata (self) :  # Method1\n",
    "        return self.EmpId +\" ; \"+ self.EmpName+ \" ; \"+ self.EmpAddr+\" ; \"+ self.EmpSalary\n",
    "    def printdata (self) : # Method 2\n",
    "        print(self.getdata())\n",
    "E1=Emp()   #object from class\n",
    "E1.EmpId=\"111\"   #A1\n",
    "E1.EmpName=\"Ahmed\" #A2\n",
    "E1.EmpAddr=\"Egypt\" #A3\n",
    "E1.EmpSalary=\"20000\" #A4\n",
    "E1.printdata()  #M1\n",
    "print(E1.getdata())  #m2\n",
    "\n",
    "\n",
    "\n",
    "\n",
    "E2=Emp()\n",
    "E2.EmpId=\"222\"\n",
    "E2.EmpName=\"Ali\"\n",
    "E2.EmpAddr=\"Germany\"\n",
    "E2.EmpSalary=\"500000\"\n",
    "E2.printdata()\n",
    "print(E2.getdata())\n",
    "\n"
   ]
  },
  {
   "cell_type": "markdown",
   "metadata": {},
   "source": [
    "# Initiolization"
   ]
  },
  {
   "cell_type": "code",
   "execution_count": 9,
   "metadata": {},
   "outputs": [
    {
     "name": "stdout",
     "output_type": "stream",
     "text": [
      "New Obtject From Class\n",
      "New Obtject From Class\n",
      "New Obtject From Class\n"
     ]
    }
   ],
   "source": [
    "class Emp :    #name of class\n",
    "    EmpId =\" 0 \"    #Attribute 1 have initial value\n",
    "    EmpName =\"\"  #Att2\n",
    "    EmpAddr =\"\"   #Att3\n",
    "    EmpSalary =\"0\" #Att4\n",
    "    def __init__(self):\n",
    "        print(\"New Obtject From Class\")\n",
    "    def getdata (self) :  # Method1\n",
    "        return self.EmpId +\" ; \"+ self.EmpName+ \" ; \"+ self.EmpAddr+\" ; \"+ self.EmpSalary\n",
    "    def printdata (self) : # Method 2\n",
    "        print(self.getdata())\n",
    "        \n",
    "E1=Emp()\n",
    "E2=Emp()\n",
    "E3=Emp()"
   ]
  },
  {
   "cell_type": "markdown",
   "metadata": {},
   "source": [
    "# Inside Parameter of Object in Class"
   ]
  },
  {
   "cell_type": "code",
   "execution_count": 24,
   "metadata": {},
   "outputs": [
    {
     "name": "stdout",
     "output_type": "stream",
     "text": [
      "1 ; Ali ; Cairo ; 20000\n",
      "2 ; Ahmed ; Giza ; 10000\n"
     ]
    }
   ],
   "source": [
    "class Empp :\n",
    "    EmppId     = 0\n",
    "    EmppName   = \"\"\n",
    "    EmppAddr   = \"\"\n",
    "    EmppSalary = 0\n",
    "    def __init__(self,ID,Name,Addrs,Salary) :\n",
    "        self.EmppId        =ID\n",
    "        self.EmppName      = Name\n",
    "        self.EmppAddr      = Addrs\n",
    "        self.EmppSalary    = Salary\n",
    "    def getdata (self) :\n",
    "        return str(self.EmppId) +\" ; \"+self.EmppName+\" ; \"+self.EmppAddr+\" ; \"+str(self.EmppSalary)\n",
    "    def printdata (self):\n",
    "        print(self.getdata())\n",
    "\n",
    "E1=Empp(1,\"Ali\",\"Cairo\",20000)\n",
    "E2=Empp(2,\"Ahmed\",\"Giza\",10000)\n",
    "\n",
    "\n",
    "print(E1.getdata())\n",
    "print(E2.getdata())\n"
   ]
  },
  {
   "cell_type": "markdown",
   "metadata": {},
   "source": [
    "# Index of objects"
   ]
  },
  {
   "cell_type": "code",
   "execution_count": 35,
   "metadata": {},
   "outputs": [
    {
     "name": "stdout",
     "output_type": "stream",
     "text": [
      "1 ; Ali ; Cairo ; 20000\n",
      "2 ; Ahmed ; Giza ; 10000\n",
      "3 ; Mido ; Tanta ; 30000\n",
      "4 ; Turki ; naser city ; 40000\n",
      "0\n",
      "1\n",
      "2\n",
      "3\n",
      "count(4)\n",
      "count(4)\n",
      "count(4)\n",
      "count(4)\n"
     ]
    }
   ],
   "source": [
    "from itertools import count\n",
    "\n",
    "class Empp :\n",
    "    objectscount = count(0)     #constant for all object\n",
    "    index        = 0    # change every time\n",
    "    EmppId       = 0\n",
    "    EmppName     = \"\"\n",
    "    EmppAddr     = \"\"\n",
    "    EmppSalary   = 0\n",
    "    \n",
    "  \n",
    "        \n",
    "    def __init__(self,ID,Name,Addrs,Salary) :\n",
    "        self.index         =next(self.objectscount)\n",
    "        \n",
    "        self.EmppId        =ID\n",
    "        self.EmppName      = Name\n",
    "        self.EmppAddr      = Addrs\n",
    "        self.EmppSalary    = Salary\n",
    "        \n",
    "    \n",
    "        \n",
    "    def getdata (self) :\n",
    "        return str(self.EmppId) +\" ; \"+self.EmppName+\" ; \"+self.EmppAddr+\" ; \"+str(self.EmppSalary)\n",
    "    def printdata (self):\n",
    "        print(self.getdata())\n",
    "\n",
    "E1=Empp(1,\"Ali\",\"Cairo\",20000)\n",
    "E2=Empp(2,\"Ahmed\",\"Giza\",10000)\n",
    "E3=Empp(3,\"Mido\",\"Tanta\",30000)\n",
    "E4=Empp(4,\"Turki\",\"naser city\",40000)\n",
    "\n",
    "\n",
    "print(E1.getdata())\n",
    "print(E2.getdata())\n",
    "print(E3.getdata())\n",
    "print(E4.getdata())\n",
    "\n",
    "\n",
    "print(E1.index)\n",
    "print(E2.index)\n",
    "print(E3.index)\n",
    "print(E4.index)\n",
    "\n",
    "\n",
    "\n",
    "\n",
    "print(E1.objectscount)\n",
    "print(E2.objectscount)\n",
    "print(E3.objectscount)\n",
    "print(E4.objectscount)\n",
    "\n",
    "\n",
    "\n",
    "\n",
    "\n",
    "\n",
    "\n",
    "\n",
    "\n"
   ]
  },
  {
   "cell_type": "markdown",
   "metadata": {},
   "source": [
    "# Gloal Variable Inside Class"
   ]
  },
  {
   "cell_type": "code",
   "execution_count": 5,
   "metadata": {},
   "outputs": [
    {
     "name": "stdout",
     "output_type": "stream",
     "text": [
      "100\n",
      "1 ; Ahmed ; Cairo ; 20000\n"
     ]
    }
   ],
   "source": [
    "X=0                   # initial value of X\n",
    "class Emp :\n",
    "    Id     = 0\n",
    "    Name   = \"\"\n",
    "    Addrs  = \"\"\n",
    "    Salary = 0\n",
    "    global X        # define X in Class\n",
    "    X=100           # give Variable  Value\n",
    "    \n",
    "    def getdata (self) :\n",
    "        return str(self.Id)+\" ; \"+self.Name+\" ; \"+self.Addrs+\" ; \"+str(self.Salary)\n",
    "    def printdata (self) :\n",
    "        print(self.getdata())\n",
    "        \n",
    "E1=Emp ()\n",
    "print(X)\n",
    "E1.Id=1\n",
    "E1.Name=\"Ahmed\"\n",
    "E1.Addrs=\"Cairo\"\n",
    "E1.Salary=20000\n",
    "print(E1.getdata())"
   ]
  },
  {
   "cell_type": "code",
   "execution_count": 7,
   "metadata": {},
   "outputs": [
    {
     "name": "stdout",
     "output_type": "stream",
     "text": [
      "200\n",
      "1 ; Ahmed ; Cairo ; 20000\n"
     ]
    }
   ],
   "source": [
    "X=0             # initial value of X\n",
    "class Emp :\n",
    "    Id     = 0\n",
    "    Name   = \"\"\n",
    "    Addrs  = \"\"\n",
    "    Salary = 0\n",
    "    \n",
    "    def changeX(self,Num) :     # Creat fun to change X\n",
    "        global X                # define X in Class\n",
    "        \n",
    "        X=Num                   # Give X Value From User\n",
    "       \n",
    "            \n",
    "    \n",
    "    def getdata (self) :\n",
    "        return str(self.Id)+\" ; \"+self.Name+\" ; \"+self.Addrs+\" ; \"+str(self.Salary)\n",
    "    def printdata (self) :\n",
    "        print(self.getdata())\n",
    "        \n",
    "E1=Emp ()\n",
    "E1.changeX(200)\n",
    "print(X)\n",
    "E1.Id=1\n",
    "E1.Name=\"Ahmed\"\n",
    "E1.Addrs=\"Cairo\"\n",
    "E1.Salary=20000\n",
    "print(E1.getdata())"
   ]
  },
  {
   "cell_type": "code",
   "execution_count": 10,
   "metadata": {},
   "outputs": [
    {
     "name": "stdout",
     "output_type": "stream",
     "text": [
      "3\n",
      "1 ; Ahmed ; Cairo ; 20000\n",
      "2 ; Ali ; Giza ; 50000\n",
      "3 ; Mido ; Naser City ; 60000\n"
     ]
    }
   ],
   "source": [
    "X=0             # initial value of X\n",
    "class Emp :\n",
    "    Id     = 0\n",
    "    Name   = \"\"\n",
    "    Addrs  = \"\"\n",
    "    Salary = 0\n",
    "    \n",
    "    def __init__(self) :   # fun of Count\n",
    "        \n",
    "        global X           # define X in Class\n",
    "        X+=1               # increament\n",
    "            \n",
    "    \n",
    "    def getdata (self) :\n",
    "        return str(self.Id)+\" ; \"+self.Name+\" ; \"+self.Addrs+\" ; \"+str(self.Salary)\n",
    "    def printdata (self) :\n",
    "        print(self.getdata())\n",
    "        \n",
    "E1=Emp ()\n",
    "E2=Emp()\n",
    "E3=Emp()\n",
    "print(X)\n",
    "E1.Id=1\n",
    "E1.Name=\"Ahmed\"\n",
    "E1.Addrs=\"Cairo\"\n",
    "E1.Salary=20000\n",
    "print(E1.getdata())\n",
    "E2.Id=2\n",
    "E2.Name=\"Ali\"\n",
    "E2.Addrs=\"Giza\"\n",
    "E2.Salary=50000\n",
    "print(E2.getdata())\n",
    "E3.Id=3\n",
    "E3.Name=\"Mido\"\n",
    "E3.Addrs=\"Naser City\"\n",
    "E3.Salary=60000\n",
    "E3.printdata()"
   ]
  },
  {
   "cell_type": "markdown",
   "metadata": {},
   "source": [
    "# Destructor or delet  Object"
   ]
  },
  {
   "cell_type": "code",
   "execution_count": 1,
   "metadata": {},
   "outputs": [
    {
     "name": "stdout",
     "output_type": "stream",
     "text": [
      "Created Object done\n",
      "Created Object done\n",
      "Created Object done\n",
      "Deleted Object done\n",
      "Deleted Object done\n"
     ]
    }
   ],
   "source": [
    "class Test :\n",
    "    def __init__(self) :                 # func Of create\n",
    "        print(\"Created Object done\")\n",
    "    def __del__(self) :                 # Func Of delete\n",
    "        print(\"Deleted Object done\")\n",
    "        \n",
    "#create T1 ,T2, T3        \n",
    "        \n",
    "   \n",
    "        \n",
    "T1=Test()\n",
    "T2=Test()\n",
    "T3=Test()\n",
    "\n",
    "\n",
    "#Delete T3,T2\n",
    "\n",
    "del T3\n",
    "del T2\n"
   ]
  },
  {
   "cell_type": "markdown",
   "metadata": {},
   "source": [
    "# Append Attributes to Class"
   ]
  },
  {
   "cell_type": "code",
   "execution_count": 17,
   "metadata": {},
   "outputs": [
    {
     "name": "stdout",
     "output_type": "stream",
     "text": [
      "Deleted Object done\n",
      " Ali\n",
      "Ahmed\n"
     ]
    }
   ],
   "source": [
    "class Testt :\n",
    "    pass\n",
    "T1=Testt()\n",
    "T1.Name = \" Ali\"\n",
    "T2=Testt()\n",
    "T2.Name=\"Ahmed\"\n",
    "\n",
    "print(T1.Name)\n",
    "print(T2.Name)"
   ]
  },
  {
   "cell_type": "code",
   "execution_count": 20,
   "metadata": {},
   "outputs": [
    {
     "name": "stdout",
     "output_type": "stream",
     "text": [
      " Ali\n",
      "Ahmed\n",
      " Ali\n",
      "Ahmed\n"
     ]
    }
   ],
   "source": [
    "class Testt :\n",
    "    def ShowN (self) :\n",
    "        print(self.Name)\n",
    "    pass\n",
    "T1=Testt()\n",
    "T1.Name = \" Ali\"\n",
    "T2=Testt()\n",
    "T2.Name=\"Ahmed\"\n",
    "\n",
    "print(T1.Name)\n",
    "print(T2.Name)\n",
    "\n",
    "T1.ShowN()\n",
    "\n",
    "\n",
    "T2.ShowN()"
   ]
  },
  {
   "cell_type": "markdown",
   "metadata": {},
   "source": [
    "# Secret Attributies  And Function"
   ]
  },
  {
   "cell_type": "code",
   "execution_count": 25,
   "metadata": {},
   "outputs": [
    {
     "ename": "SyntaxError",
     "evalue": "invalid syntax (<ipython-input-25-efe408e9b92b>, line 5)",
     "output_type": "error",
     "traceback": [
      "\u001b[1;36m  File \u001b[1;32m\"<ipython-input-25-efe408e9b92b>\"\u001b[1;36m, line \u001b[1;32m5\u001b[0m\n\u001b[1;33m    __Tname \"Teto\"\u001b[0m\n\u001b[1;37m                 ^\u001b[0m\n\u001b[1;31mSyntaxError\u001b[0m\u001b[1;31m:\u001b[0m invalid syntax\n"
     ]
    }
   ],
   "source": [
    "\n",
    "\n",
    "\n",
    "\n",
    "\n",
    "\n",
    "\n",
    "\n",
    " # Secret    Not Define\n",
    "\n",
    "\n",
    "class T :\n",
    "    __Tname \"Teto\"\n",
    "    \n",
    "    def __printname (self) :\n",
    "        print(\"Hello\" + self.name)\n",
    "\n",
    "        \n",
    "T1=T()\n",
    "print(T1.__Tname)\n",
    "T1.__printname()\n"
   ]
  },
  {
   "cell_type": "code",
   "execution_count": 26,
   "metadata": {},
   "outputs": [
    {
     "name": "stdout",
     "output_type": "stream",
     "text": [
      "Ahmed\n",
      "HelloAhmed\n"
     ]
    }
   ],
   "source": [
    "# Not Secret Define\n",
    "\n",
    "class Test :\n",
    "    name =\"Ahmed\"\n",
    "    \n",
    "    def printname (self):\n",
    "        print(\"Hello\"  + self.name)\n",
    "        \n",
    "    \n",
    "T1=Test()\n",
    "\n",
    "print(T1.name)\n",
    "T1.printname()"
   ]
  },
  {
   "cell_type": "markdown",
   "metadata": {},
   "source": [
    "# Check Not Found  Attributies   And Methods  Func"
   ]
  },
  {
   "cell_type": "code",
   "execution_count": 27,
   "metadata": {},
   "outputs": [
    {
     "name": "stdout",
     "output_type": "stream",
     "text": [
      "False\n",
      "False\n"
     ]
    }
   ],
   "source": [
    "class T :\n",
    "    pass\n",
    "\n",
    "\n",
    "T1=T()\n",
    "print(hasattr(T1,\"name\"))\n",
    "print(hasattr(T1,'printname'))"
   ]
  },
  {
   "cell_type": "markdown",
   "metadata": {},
   "source": [
    "# Check Found Attributies  And Methods Func"
   ]
  },
  {
   "cell_type": "code",
   "execution_count": 33,
   "metadata": {},
   "outputs": [
    {
     "name": "stdout",
     "output_type": "stream",
     "text": [
      "True\n",
      "True\n",
      "False\n",
      "False\n"
     ]
    }
   ],
   "source": [
    "class T :\n",
    "    Name = \"Ahmed\"\n",
    "    __Adrs = \"cairo\"     # Secret Attributies\n",
    "    \n",
    "    def printName (self) :\n",
    "        print( \"Hello   \"+self.Name)\n",
    "        \n",
    "        \n",
    "    def __show() :       # Secret Method\n",
    "        pass\n",
    "        \n",
    "T1=T()\n",
    "print(hasattr(T1,\"Name\"))\n",
    "print(hasattr(T1,\"printName\"))\n",
    "print(hasattr(T1,\"__Adrs\"))\n",
    "print(hasattr(T1,\"show\"))"
   ]
  },
  {
   "cell_type": "markdown",
   "metadata": {},
   "source": [
    "# Set Attributies func"
   ]
  },
  {
   "cell_type": "code",
   "execution_count": 34,
   "metadata": {},
   "outputs": [
    {
     "name": "stdout",
     "output_type": "stream",
     "text": [
      "Ahmed\n",
      "10000\n",
      "Cairo\n",
      "Turki\n",
      "2001013900542\n"
     ]
    }
   ],
   "source": [
    "class Emp :\n",
    "    pass\n",
    "\n",
    "E1=Emp()\n",
    "\n",
    "setattr (E1,\"Name\",\"Ahmed\")\n",
    "setattr(E1,\"City\",\"Cairo\")\n",
    "setattr(E1,\"Salary\",10000)\n",
    "\n",
    "\n",
    "E2=Emp()\n",
    "setattr(E2,\"NIck\",\"Turki\")\n",
    "setattr(E2,\"Tel\", +2001013900542)\n",
    "\n",
    "print(E1.Name)\n",
    "print(E1.Salary)\n",
    "print(E1.City)\n",
    "\n",
    "\n",
    "\n",
    "print(E2.NIck)\n",
    "print(E2.Tel)"
   ]
  },
  {
   "cell_type": "markdown",
   "metadata": {},
   "source": [
    "# get Attributies  Func"
   ]
  },
  {
   "cell_type": "code",
   "execution_count": 37,
   "metadata": {},
   "outputs": [
    {
     "name": "stdout",
     "output_type": "stream",
     "text": [
      "Ahmed\n",
      "100000\n",
      "Turki\n",
      "2001013900542\n"
     ]
    }
   ],
   "source": [
    "class Emp :\n",
    "    Name = \"Ahmed\"\n",
    "    \n",
    "    \n",
    "    \n",
    "E1=Emp()\n",
    "E1.Salary=100000\n",
    "\n",
    "print(getattr(E1,\"Name\"))\n",
    "print(getattr(E1,\"Salary\"))\n",
    "\n",
    "\n",
    "\n",
    "E2=Emp()\n",
    "E2.Nick=\"Turki\"\n",
    "E2.Tel=+2001013900542\n",
    "\n",
    "\n",
    "\n",
    "print(getattr(E2,\"Nick\"))\n",
    "print(getattr(E2,\"Tel\"))"
   ]
  },
  {
   "cell_type": "markdown",
   "metadata": {},
   "source": [
    "# Delet Attributies"
   ]
  },
  {
   "cell_type": "code",
   "execution_count": 41,
   "metadata": {},
   "outputs": [
    {
     "name": "stdout",
     "output_type": "stream",
     "text": [
      "Empty\n",
      "Ahmed\n",
      "Empty\n"
     ]
    }
   ],
   "source": [
    "class Emp :\n",
    "    Name =\"Empty\"\n",
    "    \n",
    "    \n",
    "E1=Emp()\n",
    "\n",
    "print(E1.Name)\n",
    "E1.Name=\"Ahmed\"\n",
    "\n",
    "print(E1.Name)\n",
    "\n",
    "delattr(E1,\"Name\")    # any Attributies not Found at Class Give Us Error\n",
    "\n",
    "print(E1.Name)\n",
    "\n",
    "\n"
   ]
  },
  {
   "cell_type": "markdown",
   "metadata": {},
   "source": [
    "# Inner or Nested Class"
   ]
  },
  {
   "cell_type": "code",
   "execution_count": 43,
   "metadata": {},
   "outputs": [
    {
     "name": "stdout",
     "output_type": "stream",
     "text": [
      "LaB\n",
      "HD\n",
      "32\n"
     ]
    }
   ],
   "source": [
    "class Comp :\n",
    "    Name =\"LaB\"\n",
    "    Gender=7\n",
    "    class Hard :\n",
    "        Type = \"HD\"\n",
    "        Size =1000\n",
    "    class Ram :\n",
    "        Type =\"4G\"\n",
    "        Size = 32\n",
    "        \n",
    "    \n",
    "C1=Comp()\n",
    "print(C1.Name)\n",
    "print(C1.Hard.Type)\n",
    "print(C1.Ram.Size)\n",
    "    "
   ]
  },
  {
   "cell_type": "code",
   "execution_count": null,
   "metadata": {},
   "outputs": [],
   "source": []
  }
 ],
 "metadata": {
  "kernelspec": {
   "display_name": "Python 3",
   "language": "python",
   "name": "python3"
  },
  "language_info": {
   "codemirror_mode": {
    "name": "ipython",
    "version": 3
   },
   "file_extension": ".py",
   "mimetype": "text/x-python",
   "name": "python",
   "nbconvert_exporter": "python",
   "pygments_lexer": "ipython3",
   "version": "3.7.4"
  }
 },
 "nbformat": 4,
 "nbformat_minor": 2
}
