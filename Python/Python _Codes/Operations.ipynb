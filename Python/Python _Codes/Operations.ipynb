{
 "cells": [
  {
   "cell_type": "markdown",
   "metadata": {},
   "source": [
    "# Variables\n"
   ]
  },
  {
   "cell_type": "code",
   "execution_count": 1,
   "metadata": {},
   "outputs": [
    {
     "name": "stdout",
     "output_type": "stream",
     "text": [
      "100 3.14 -200 Ahmed (5+3j) True False\n"
     ]
    }
   ],
   "source": [
    "X = 100\n",
    "Y = 3.14\n",
    "Z = -200\n",
    "S = \"Ahmed\"\n",
    "C =5+3j\n",
    "B1 = True\n",
    "B2 = False\n",
    "\n",
    "\n",
    "print(X,Y,Z,S,C,B1,B2)"
   ]
  },
  {
   "cell_type": "markdown",
   "metadata": {},
   "source": [
    "# Data typ of Variables"
   ]
  },
  {
   "cell_type": "code",
   "execution_count": 2,
   "metadata": {},
   "outputs": [
    {
     "name": "stdout",
     "output_type": "stream",
     "text": [
      "<class 'int'>\n",
      "<class 'float'>\n",
      "<class 'int'>\n",
      "<class 'str'>\n",
      "<class 'complex'>\n",
      "<class 'bool'>\n",
      "<class 'bool'>\n"
     ]
    }
   ],
   "source": [
    "print(type(X))\n",
    "print(type(Y))\n",
    "print(type(Z))\n",
    "print(type(S))\n",
    "print(type(C))\n",
    "print(type(B1))\n",
    "print(type(B2))"
   ]
  },
  {
   "cell_type": "markdown",
   "metadata": {},
   "source": [
    "# Simple equation"
   ]
  },
  {
   "cell_type": "markdown",
   "metadata": {},
   "source": [
    " # Part 1"
   ]
  },
  {
   "cell_type": "code",
   "execution_count": 4,
   "metadata": {},
   "outputs": [
    {
     "name": "stdout",
     "output_type": "stream",
     "text": [
      "50\n",
      "50\n",
      "50\n",
      "100\n",
      "100\n",
      "50\n",
      "100\n",
      "2500\n",
      "1.0\n",
      "1\n",
      "2500\n"
     ]
    }
   ],
   "source": [
    "M = N = W = 50\n",
    "print(M)\n",
    "print(N)\n",
    "print(W)\n",
    "print(M+N)\n",
    "print(N+W)\n",
    "print(N+M-W)\n",
    "print(W*2)\n",
    "print(M*N)\n",
    "print(M/N)\n",
    "print(M//W)\n",
    "print(W**2)\n"
   ]
  },
  {
   "cell_type": "markdown",
   "metadata": {},
   "source": [
    " # Part 2"
   ]
  },
  {
   "cell_type": "code",
   "execution_count": 6,
   "metadata": {},
   "outputs": [
    {
     "name": "stdout",
     "output_type": "stream",
     "text": [
      "30\n",
      "40\n",
      "20\n",
      "60\n",
      "10\n",
      "800\n",
      "2.0\n",
      "1.3333333333333333\n",
      "1\n",
      "80\n",
      "400\n",
      "0\n",
      "0\n",
      "10\n"
     ]
    }
   ],
   "source": [
    "F , H , G = 20 , 40 , 30\n",
    "print(G)\n",
    "print(H)\n",
    "print(F)\n",
    "print(F+H)\n",
    "print(H-G)\n",
    "print(F*H)\n",
    "print(H/F)\n",
    "print(H/G)\n",
    "print(H//G)\n",
    "print(H*2)\n",
    "print(F**2)\n",
    "print(H%2)\n",
    "print(H%F)\n",
    "print(H%G)"
   ]
  },
  {
   "cell_type": "code",
   "execution_count": 12,
   "metadata": {},
   "outputs": [
    {
     "name": "stdout",
     "output_type": "stream",
     "text": [
      "40\n"
     ]
    }
   ],
   "source": [
    "a =100\n",
    "a+=10\n",
    "a-=30\n",
    "a//=2\n",
    "print(a)"
   ]
  },
  {
   "cell_type": "markdown",
   "metadata": {},
   "source": [
    "# Comparesion"
   ]
  },
  {
   "cell_type": "code",
   "execution_count": 14,
   "metadata": {},
   "outputs": [
    {
     "name": "stdout",
     "output_type": "stream",
     "text": [
      "50 30 80\n",
      "False\n",
      "True\n",
      "True\n",
      "False\n",
      "True\n",
      "True\n"
     ]
    }
   ],
   "source": [
    "C1 = 50\n",
    "C2 = 30\n",
    "C3 = 80\n",
    "print(C1,C2,C3)\n",
    "print(C1==C2)\n",
    "print(C3!=C2)\n",
    "print(C2<C1)\n",
    "print(C1>=C3)\n",
    "print(C3>=C2)\n",
    "print(C3>C1)"
   ]
  },
  {
   "cell_type": "markdown",
   "metadata": {},
   "source": [
    "# Logic"
   ]
  },
  {
   "cell_type": "code",
   "execution_count": 18,
   "metadata": {},
   "outputs": [
    {
     "name": "stdout",
     "output_type": "stream",
     "text": [
      "True\n",
      "False\n",
      "False\n",
      "True\n",
      "================================================\n",
      "True\n",
      "True\n",
      "True\n",
      "True\n",
      "False\n"
     ]
    }
   ],
   "source": [
    "L1 , L2 , L3 = 100 , 60 , 150\n",
    "print(L1>L2 and L3>L1)\n",
    "print(L3<L2 and L2<L1)\n",
    "print(L3==L1 and L2>L1)\n",
    "print(L1>L2 and L2<L3)\n",
    "\n",
    "print(\"================================================\")\n",
    "print(L1>L2 or L2<L3)\n",
    "print(L3<L1 or L2<L1)\n",
    "print(L3 == L2 or L3>L1)\n",
    "print(L1!=L3 or L3!=L2)\n",
    "print(L1>L3 or L3<L2)"
   ]
  },
  {
   "cell_type": "markdown",
   "metadata": {},
   "source": [
    "# indentity"
   ]
  },
  {
   "cell_type": "code",
   "execution_count": 1,
   "metadata": {},
   "outputs": [
    {
     "name": "stdout",
     "output_type": "stream",
     "text": [
      "True False True\n"
     ]
    }
   ],
   "source": [
    "A = 100\n",
    "I1 = A is 100\n",
    "I2 = A is  10\n",
    "I3 = A is not 10\n",
    "print(I1,I2,I3)"
   ]
  },
  {
   "cell_type": "code",
   "execution_count": null,
   "metadata": {},
   "outputs": [],
   "source": []
  }
 ],
 "metadata": {
  "kernelspec": {
   "display_name": "Python 3",
   "language": "python",
   "name": "python3"
  },
  "language_info": {
   "codemirror_mode": {
    "name": "ipython",
    "version": 3
   },
   "file_extension": ".py",
   "mimetype": "text/x-python",
   "name": "python",
   "nbconvert_exporter": "python",
   "pygments_lexer": "ipython3",
   "version": "3.7.4"
  }
 },
 "nbformat": 4,
 "nbformat_minor": 4
}
