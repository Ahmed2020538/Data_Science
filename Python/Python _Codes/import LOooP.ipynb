{
 "cells": [
  {
   "cell_type": "markdown",
   "metadata": {},
   "source": [
    "# FOr LooP"
   ]
  },
  {
   "cell_type": "code",
   "execution_count": 1,
   "metadata": {},
   "outputs": [
    {
     "name": "stdout",
     "output_type": "stream",
     "text": [
      "A\n",
      "h\n",
      "m\n",
      "e\n",
      "d\n"
     ]
    }
   ],
   "source": [
    "X=\"Ahmed\"\n",
    "for i in X :\n",
    "    print(i)"
   ]
  },
  {
   "cell_type": "code",
   "execution_count": 2,
   "metadata": {},
   "outputs": [
    {
     "name": "stdout",
     "output_type": "stream",
     "text": [
      "A,h,m,e,d,"
     ]
    }
   ],
   "source": [
    "X=\"Ahmed\"\n",
    "for i in X :\n",
    "    print(i , end = \",\")"
   ]
  },
  {
   "cell_type": "code",
   "execution_count": 3,
   "metadata": {},
   "outputs": [
    {
     "name": "stdout",
     "output_type": "stream",
     "text": [
      "10\n",
      "3.14\n",
      "Mido\n"
     ]
    }
   ],
   "source": [
    "Y=[10,3.14,\"Mido\"]\n",
    "for i in Y :\n",
    "    print(i)"
   ]
  },
  {
   "cell_type": "code",
   "execution_count": 3,
   "metadata": {},
   "outputs": [
    {
     "name": "stdout",
     "output_type": "stream",
     "text": [
      "10,3.14,Mido,"
     ]
    }
   ],
   "source": [
    "Y=[10,3.14,\"Mido\"]\n",
    "for i in Y :\n",
    "    print(i, end = \",\")"
   ]
  },
  {
   "cell_type": "code",
   "execution_count": 4,
   "metadata": {},
   "outputs": [
    {
     "name": "stdout",
     "output_type": "stream",
     "text": [
      "8\n",
      "10\n",
      "60\n",
      "22\n"
     ]
    }
   ],
   "source": [
    "Z={60,10,8,22}\n",
    "for i in Z :\n",
    "    print(i)"
   ]
  },
  {
   "cell_type": "code",
   "execution_count": 8,
   "metadata": {},
   "outputs": [
    {
     "name": "stdout",
     "output_type": "stream",
     "text": [
      "names\n",
      "Adges\n",
      "jop\n"
     ]
    }
   ],
   "source": [
    "D={\"names\":['Ali',\"Ahmed\",\"Mido\"],\"Adges\":[23,26,25],\"jop\":[\"artist\",\"Dst\",\"player\"]}\n",
    "for i in D :\n",
    "    print(i)\n",
    "    "
   ]
  },
  {
   "cell_type": "code",
   "execution_count": 9,
   "metadata": {},
   "outputs": [
    {
     "data": {
      "text/plain": [
       "{'names': ['Ali', 'Ahmed', 'Mido'],\n",
       " 'Adges': [23, 26, 25],\n",
       " 'jop': ['artist', 'Dst', 'player']}"
      ]
     },
     "execution_count": 9,
     "metadata": {},
     "output_type": "execute_result"
    }
   ],
   "source": [
    "D.items()\n",
    "D"
   ]
  },
  {
   "cell_type": "code",
   "execution_count": 5,
   "metadata": {},
   "outputs": [
    {
     "name": "stdout",
     "output_type": "stream",
     "text": [
      "10 Enven\n",
      "3 Odd\n",
      "50 Enven\n",
      "23 Odd\n",
      "60 Enven\n",
      "100 Enven\n",
      "77 Odd\n"
     ]
    }
   ],
   "source": [
    "L=[10,3,50,23,60,100,77]\n",
    "for i in L :\n",
    "    if i%2==0 :\n",
    "        print(i ,\"Enven\")\n",
    "    else :\n",
    "        print(i , \"Odd\")\n",
    "   "
   ]
  },
  {
   "cell_type": "code",
   "execution_count": 13,
   "metadata": {},
   "outputs": [
    {
     "name": "stdout",
     "output_type": "stream",
     "text": [
      "0\n",
      "2\n",
      "4\n",
      "6\n",
      "8\n"
     ]
    }
   ],
   "source": [
    "for i in range(0,10,2) :\n",
    "    print(i)"
   ]
  },
  {
   "cell_type": "code",
   "execution_count": 15,
   "metadata": {},
   "outputs": [
    {
     "name": "stdout",
     "output_type": "stream",
     "text": [
      "10\n",
      "8\n",
      "6\n",
      "4\n",
      "2\n"
     ]
    }
   ],
   "source": [
    "for i in range(10,0,-2) :\n",
    "    print(i)"
   ]
  },
  {
   "cell_type": "code",
   "execution_count": 18,
   "metadata": {},
   "outputs": [
    {
     "name": "stdout",
     "output_type": "stream",
     "text": [
      "0\n",
      "2\n",
      "4\n",
      "6\n",
      "8\n",
      "10\n"
     ]
    }
   ],
   "source": [
    "for i in range(0,12) :\n",
    "    if i%2==0:\n",
    "        print(i)\n",
    "        \n",
    "   "
   ]
  },
  {
   "cell_type": "code",
   "execution_count": 19,
   "metadata": {},
   "outputs": [
    {
     "name": "stdout",
     "output_type": "stream",
     "text": [
      "mid\n",
      "midmid\n"
     ]
    }
   ],
   "source": [
    "A=\"mid\"\n",
    "print(A)\n",
    "print(2*A)"
   ]
  },
  {
   "cell_type": "markdown",
   "metadata": {},
   "source": [
    "# While LOOp \n"
   ]
  },
  {
   "cell_type": "code",
   "execution_count": 21,
   "metadata": {},
   "outputs": [
    {
     "name": "stdout",
     "output_type": "stream",
     "text": [
      "Mido\n",
      "Mido\n",
      "Mido\n",
      "Mido\n",
      "Mido\n"
     ]
    }
   ],
   "source": [
    "i=1  #intial value\n",
    "while i<=5 : #loop and codition\n",
    "    print('Mido') #print\n",
    "    i+=1 #increment"
   ]
  },
  {
   "cell_type": "code",
   "execution_count": 1,
   "metadata": {},
   "outputs": [
    {
     "name": "stdout",
     "output_type": "stream",
     "text": [
      "Ali\n",
      "Ali\n",
      "Ali\n",
      "Ali\n",
      "Ali\n"
     ]
    }
   ],
   "source": [
    "j=5\n",
    "while j>=1 :\n",
    "    print(\"Ali\")\n",
    "    j-=1 # decrement\n",
    "    "
   ]
  },
  {
   "cell_type": "code",
   "execution_count": 24,
   "metadata": {},
   "outputs": [
    {
     "name": "stdout",
     "output_type": "stream",
     "text": [
      "Ahmed 0\n",
      "Ahmed 1\n",
      "Ahmed 2\n",
      "Ahmed 3\n",
      "Ahmed 4\n",
      "Ahmed 5\n"
     ]
    }
   ],
   "source": [
    "Z=1\n",
    "while i<=5 :\n",
    "    print(\"Ahmed\",i)\n",
    "    i+=1"
   ]
  },
  {
   "cell_type": "code",
   "execution_count": 25,
   "metadata": {},
   "outputs": [
    {
     "name": "stdout",
     "output_type": "stream",
     "text": [
      "Turki 6\n",
      "Turki 5\n",
      "Turki 4\n",
      "Turki 3\n",
      "Turki 2\n",
      "Turki 1\n"
     ]
    }
   ],
   "source": [
    "C=5\n",
    "while i>=1 :\n",
    "    print(\"Turki\",i)\n",
    "    i-=1"
   ]
  },
  {
   "cell_type": "code",
   "execution_count": 30,
   "metadata": {},
   "outputs": [
    {
     "name": "stdout",
     "output_type": "stream",
     "text": [
      "messi 1\n",
      "ronaldo 1\n",
      "ronaldo 2\n",
      "ronaldo 3\n",
      "ronaldo 4\n",
      "ronaldo 5\n",
      "messi 2\n",
      "messi 3\n",
      "messi 4\n",
      "messi 5\n"
     ]
    }
   ],
   "source": [
    "i=1\n",
    "j=1\n",
    "while i <=5 :\n",
    "    print(\"messi\",i)\n",
    "    while j<=5 :\n",
    "        print(\"ronaldo\",j)\n",
    "        j+=1\n",
    "    i+=1"
   ]
  },
  {
   "cell_type": "code",
   "execution_count": 6,
   "metadata": {},
   "outputs": [
    {
     "name": "stdout",
     "output_type": "stream",
     "text": [
      "good 1\n",
      "god man 1\n",
      "good 2\n",
      "god man 2\n",
      "good 3\n",
      "god man 3\n",
      "good 4\n",
      "god man 4\n",
      "good 5\n",
      "god man 5\n"
     ]
    }
   ],
   "source": [
    "i=1\n",
    "j=1\n",
    "while i<=5 :\n",
    "    print(\"good\" ,i)\n",
    "    while j<=5 :\n",
    "        print('god man',i)\n",
    "        break\n",
    "        j+=1\n",
    "    i+=1"
   ]
  },
  {
   "cell_type": "code",
   "execution_count": 31,
   "metadata": {},
   "outputs": [
    {
     "name": "stdout",
     "output_type": "stream",
     "text": [
      "messi 1\n",
      "ronaldo 1\n",
      "ronaldo 2\n",
      "ronaldo 3\n",
      "ronaldo 4\n",
      "ronaldo 5\n",
      "messi 2\n",
      "ronaldo 1\n",
      "ronaldo 2\n",
      "ronaldo 3\n",
      "ronaldo 4\n",
      "ronaldo 5\n",
      "messi 3\n",
      "ronaldo 1\n",
      "ronaldo 2\n",
      "ronaldo 3\n",
      "ronaldo 4\n",
      "ronaldo 5\n",
      "messi 4\n",
      "ronaldo 1\n",
      "ronaldo 2\n",
      "ronaldo 3\n",
      "ronaldo 4\n",
      "ronaldo 5\n",
      "messi 5\n",
      "ronaldo 1\n",
      "ronaldo 2\n",
      "ronaldo 3\n",
      "ronaldo 4\n",
      "ronaldo 5\n"
     ]
    }
   ],
   "source": [
    "i=1\n",
    "\n",
    "while i <=5 :\n",
    "    print(\"messi\",i)\n",
    "    j=1\n",
    "    while j<=5 :\n",
    "        print(\"ronaldo\",j)\n",
    "        j+=1\n",
    "    i+=1"
   ]
  },
  {
   "cell_type": "code",
   "execution_count": 36,
   "metadata": {},
   "outputs": [
    {
     "name": "stdout",
     "output_type": "stream",
     "text": [
      "messironaldoronaldomessironaldoronaldo"
     ]
    }
   ],
   "source": [
    "i=1\n",
    "\n",
    "while i <=2 :\n",
    "    print(\"messi\",end=\"\")\n",
    "    j=1\n",
    "    while j<=2 :\n",
    "        print(\"ronaldo\",end=\"\")\n",
    "        j+=1\n",
    "    i+=1"
   ]
  },
  {
   "cell_type": "code",
   "execution_count": null,
   "metadata": {},
   "outputs": [],
   "source": []
  }
 ],
 "metadata": {
  "kernelspec": {
   "display_name": "Python 3",
   "language": "python",
   "name": "python3"
  },
  "language_info": {
   "codemirror_mode": {
    "name": "ipython",
    "version": 3
   },
   "file_extension": ".py",
   "mimetype": "text/x-python",
   "name": "python",
   "nbconvert_exporter": "python",
   "pygments_lexer": "ipython3",
   "version": "3.7.4"
  }
 },
 "nbformat": 4,
 "nbformat_minor": 2
}
