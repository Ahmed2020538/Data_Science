{
 "cells": [
  {
   "cell_type": "markdown",
   "metadata": {},
   "source": [
    "# Statistics lib"
   ]
  },
  {
   "cell_type": "code",
   "execution_count": 1,
   "metadata": {},
   "outputs": [
    {
     "name": "stdout",
     "output_type": "stream",
     "text": [
      "3\n",
      "3.5\n",
      "4\n",
      "3\n",
      "3\n",
      "4.0\n",
      "4\n",
      "1.632993161855452\n",
      "2.6666666666666665\n",
      "4.0\n",
      "16\n"
     ]
    }
   ],
   "source": [
    "import statistics as st\n",
    "A=st.mean([1,2,3,4,5])\n",
    "B=st.median([1,2,3,4,5,6])\n",
    "C=st.median([1,2,3,4,5,6,7])\n",
    "D=st.median_low([1,2,3,4,5])\n",
    "E=st.median_high([1,2,3,4,5])\n",
    "F=st.median_grouped([1,2,3,4,5,6,7])\n",
    "G=st.mode([1,2,3,4,5,2,2,1,1,4,4,4,4,5,5])\n",
    "H=st.pstdev([2,4,6])\n",
    "K=st.pvariance([2,4,6])\n",
    "L=st.stdev([1,5,9])\n",
    "J=st.variance([1,5,9])\n",
    "print(A)\n",
    "print(B)\n",
    "print(C)\n",
    "print(D)\n",
    "print(E)\n",
    "print(F)\n",
    "print(G)\n",
    "print(H)\n",
    "print(K)\n",
    "print(L)\n",
    "print(J)"
   ]
  },
  {
   "cell_type": "markdown",
   "metadata": {},
   "source": [
    "# Random Lib"
   ]
  },
  {
   "cell_type": "code",
   "execution_count": 2,
   "metadata": {},
   "outputs": [
    {
     "name": "stdout",
     "output_type": "stream",
     "text": [
      "0.12738355992574613\n",
      "1\n",
      "4\n",
      "8\n",
      "Turki\n",
      "[3, 11, 9, 12, 13]\n",
      "None\n",
      "7\n",
      "3.383723718038203\n"
     ]
    }
   ],
   "source": [
    "import random as rd\n",
    "A=rd.random()\n",
    "B=rd.randrange(6)\n",
    "C=rd.randrange(0,10,2)\n",
    "D=rd.randrange(1,10,1)\n",
    "E=rd.choice([10,20,30])\n",
    "E=rd.choice([\"Ahmed\",\"Mido\",\"Turki\",\"Tony\"])\n",
    "F=rd.sample(range(0,20),5)\n",
    "G=rd.shuffle([1,2,3,4,5,6])\n",
    "H=rd.randint(1,10)\n",
    "K=rd.uniform(1,5)\n",
    "print(A)\n",
    "print(B)\n",
    "print(C)\n",
    "print(D)\n",
    "print(E)\n",
    "print(F)\n",
    "print(G)\n",
    "print(H)\n",
    "print(K)\n"
   ]
  },
  {
   "cell_type": "code",
   "execution_count": 3,
   "metadata": {},
   "outputs": [
    {
     "name": "stdout",
     "output_type": "stream",
     "text": [
      "0.6231174327456517\n",
      "3\n",
      "0\n",
      "5\n",
      "Ahmed\n",
      "[18, 9, 14, 11, 4]\n",
      "None\n",
      "3\n",
      "2.4503010031131343\n"
     ]
    }
   ],
   "source": [
    "import random as rd\n",
    "A=rd.random()\n",
    "B=rd.randrange(6)\n",
    "C=rd.randrange(0,10,2)\n",
    "D=rd.randrange(1,10,1)\n",
    "E=rd.choice([10,20,30])\n",
    "E=rd.choice([\"Ahmed\",\"Mido\",\"Turki\",\"Tony\"])\n",
    "F=rd.sample(range(0,20),5)\n",
    "G=rd.shuffle([1,2,3,4,5,6])\n",
    "H=rd.randint(1,10)\n",
    "K=rd.uniform(1,5)\n",
    "print(A)\n",
    "print(B)\n",
    "print(C)\n",
    "print(D)\n",
    "print(E)\n",
    "print(F)\n",
    "print(G)\n",
    "print(H)\n",
    "print(K)\n"
   ]
  },
  {
   "cell_type": "markdown",
   "metadata": {},
   "source": [
    "# Math Lib"
   ]
  },
  {
   "cell_type": "code",
   "execution_count": 15,
   "metadata": {},
   "outputs": [
    {
     "name": "stdout",
     "output_type": "stream",
     "text": [
      "1.0471975511965979\n",
      "4.787422291102689\n",
      "0.5235987755982989\n",
      "0.48121182505960347\n",
      "0.4636476090008061\n",
      "[18, 9, 14, 11, 4]\n",
      "3\n",
      "1.7724538509055159\n",
      "3.141592653589793\n",
      "5.0\n",
      "2\n",
      "1.0471975511965979\n"
     ]
    }
   ],
   "source": [
    "import math as m\n",
    "A=m.acos(0.5)\n",
    "B=m.acosh(60)\n",
    "C=m.asin(0.5)\n",
    "D=m.asinh(0.5)\n",
    "E=m.atan(0.5)\n",
    "\n",
    "G=m.ceil(2.1)\n",
    "H=m.gamma(0.5)\n",
    "J=m.pi\n",
    "L=m.sqrt(25)\n",
    "R=m.floor(2.9)\n",
    "\n",
    "print(A)\n",
    "print(B)\n",
    "print(C)\n",
    "print(D)\n",
    "print(E)\n",
    "print(F)\n",
    "print(G)\n",
    "print(H)\n",
    "print(J)\n",
    "print(L)\n",
    "print(R)\n",
    "\n",
    "\n",
    "\n",
    "print(A)"
   ]
  },
  {
   "cell_type": "code",
   "execution_count": null,
   "metadata": {},
   "outputs": [],
   "source": []
  }
 ],
 "metadata": {
  "kernelspec": {
   "display_name": "Python 3",
   "language": "python",
   "name": "python3"
  },
  "language_info": {
   "codemirror_mode": {
    "name": "ipython",
    "version": 3
   },
   "file_extension": ".py",
   "mimetype": "text/x-python",
   "name": "python",
   "nbconvert_exporter": "python",
   "pygments_lexer": "ipython3",
   "version": "3.7.4"
  }
 },
 "nbformat": 4,
 "nbformat_minor": 2
}
