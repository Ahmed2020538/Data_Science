{
 "cells": [
  {
   "cell_type": "markdown",
   "metadata": {},
   "source": [
    "# List"
   ]
  },
  {
   "cell_type": "code",
   "execution_count": 5,
   "metadata": {},
   "outputs": [
    {
     "name": "stdout",
     "output_type": "stream",
     "text": [
      "[10, 20, 30, 50, 10, 20, 30, 20]\n",
      "2\n",
      "None\n",
      "3\n",
      "[10, 20, 30, 50, 10, 20, 30, 20]\n"
     ]
    }
   ],
   "source": [
    "# Combain any type of data type int , float , str , list ,tuple ,set , dic comlex\n",
    "\n",
    "L=[10,20,30,50]\n",
    "L.extend([10,20,30])\n",
    "x=L.index(30)\n",
    "y=L.append(20)\n",
    "z=L.count(20)\n",
    "w=L.copy()\n",
    "print(L)\n",
    "print(x)\n",
    "print(y)\n",
    "print(z)\n",
    "print(w)\n",
    "\n",
    "\n",
    "    "
   ]
  },
  {
   "cell_type": "code",
   "execution_count": 24,
   "metadata": {},
   "outputs": [
    {
     "name": "stdout",
     "output_type": "stream",
     "text": [
      "None\n"
     ]
    }
   ],
   "source": [
    "L1=[10,20,30,50]\n",
    "\n",
    "#x=L1.clear()\n",
    "y=L1.insert(2,1000)\n",
    "print(y)\n"
   ]
  },
  {
   "cell_type": "code",
   "execution_count": 25,
   "metadata": {},
   "outputs": [
    {
     "name": "stdout",
     "output_type": "stream",
     "text": [
      "None\n"
     ]
    }
   ],
   "source": []
  },
  {
   "cell_type": "code",
   "execution_count": 34,
   "metadata": {},
   "outputs": [
    {
     "name": "stdout",
     "output_type": "stream",
     "text": [
      "[90, 64, 53, 50, 20, 12, 10]\n"
     ]
    }
   ],
   "source": [
    "\n",
    "x=[10,20,30,50,60,70]\n",
    "y=x.insert(3,40)\n",
    "x.pop()\n",
    "x.remove(30)\n",
    "Z=[50,20,10,90,12,53,64]\n",
    "Z.sort(reverse=True)\n",
    "\n",
    "print(Z)"
   ]
  },
  {
   "cell_type": "code",
   "execution_count": 35,
   "metadata": {},
   "outputs": [
    {
     "name": "stdout",
     "output_type": "stream",
     "text": [
      "[10, [0, 20], {8, 50, 20}]\n"
     ]
    }
   ],
   "source": [
    "F=[10,[0,20],{20,50,8}]\n",
    "print(F)"
   ]
  },
  {
   "cell_type": "code",
   "execution_count": 36,
   "metadata": {},
   "outputs": [
    {
     "name": "stdout",
     "output_type": "stream",
     "text": [
      "10\n"
     ]
    }
   ],
   "source": [
    "print(F[0])"
   ]
  },
  {
   "cell_type": "code",
   "execution_count": 37,
   "metadata": {},
   "outputs": [
    {
     "name": "stdout",
     "output_type": "stream",
     "text": [
      "[0, 20]\n"
     ]
    }
   ],
   "source": [
    "print(F[1])"
   ]
  },
  {
   "cell_type": "code",
   "execution_count": 38,
   "metadata": {},
   "outputs": [
    {
     "name": "stdout",
     "output_type": "stream",
     "text": [
      "<class 'set'>\n"
     ]
    }
   ],
   "source": [
    "print(type(F[2]))"
   ]
  },
  {
   "cell_type": "markdown",
   "metadata": {},
   "source": [
    "# DicTionary"
   ]
  },
  {
   "cell_type": "code",
   "execution_count": 1,
   "metadata": {},
   "outputs": [
    {
     "name": "stdout",
     "output_type": "stream",
     "text": [
      "{1: 'ali', 2: 'mido', 3: 'ahmed', 4: {'adge': 10, 'name': 'koko'}}\n"
     ]
    }
   ],
   "source": [
    "# Combain any type of data type \n",
    "\n",
    "D={1:\"ali\",2:'mido',3:\"ahmed\",4:{\"adge\":10,\"name\":\"koko\"}}\n",
    "print(D)\n",
    "\n"
   ]
  },
  {
   "cell_type": "code",
   "execution_count": 43,
   "metadata": {},
   "outputs": [
    {
     "data": {
      "text/plain": [
       "{1: 'ali', 2: 'mido', 3: 'ahmed', 4: {'adge': 10, 'name': 'koko'}}"
      ]
     },
     "execution_count": 43,
     "metadata": {},
     "output_type": "execute_result"
    }
   ],
   "source": [
    "D={1:\"ali\",2:'mido',3:\"ahmed\",4:{\"adge\":10,\"name\":\"koko\"}}\n",
    "D\n"
   ]
  },
  {
   "cell_type": "code",
   "execution_count": 50,
   "metadata": {},
   "outputs": [
    {
     "name": "stdout",
     "output_type": "stream",
     "text": [
      "10\n"
     ]
    }
   ],
   "source": [
    "print(D[4][\"adge\"])"
   ]
  },
  {
   "cell_type": "code",
   "execution_count": 54,
   "metadata": {},
   "outputs": [
    {
     "data": {
      "text/plain": [
       "{1: 'ali', 2: 'Turki', 3: 'ahmed', 4: {'adge': 10, 'name': 'koko'}}"
      ]
     },
     "execution_count": 54,
     "metadata": {},
     "output_type": "execute_result"
    }
   ],
   "source": [
    "D[2]=\"Turki\"\n",
    "D\n"
   ]
  },
  {
   "cell_type": "code",
   "execution_count": 60,
   "metadata": {},
   "outputs": [
    {
     "name": "stdout",
     "output_type": "stream",
     "text": [
      "{'adge': 10, 'name': 'koko'}\n"
     ]
    }
   ],
   "source": [
    "y=D.get(4)\n",
    "print(y)\n"
   ]
  },
  {
   "cell_type": "code",
   "execution_count": 61,
   "metadata": {},
   "outputs": [
    {
     "data": {
      "text/plain": [
       "{1: 'ali', 2: 'Turki', 3: 'ahmed', 4: {'adge': 10, 'name': 'koko'}}"
      ]
     },
     "execution_count": 61,
     "metadata": {},
     "output_type": "execute_result"
    }
   ],
   "source": [
    "D.items()\n",
    "D"
   ]
  },
  {
   "cell_type": "code",
   "execution_count": 89,
   "metadata": {},
   "outputs": [
    {
     "data": {
      "text/plain": [
       "{2: 'Turki'}"
      ]
     },
     "execution_count": 89,
     "metadata": {},
     "output_type": "execute_result"
    }
   ],
   "source": [
    "D.fromkeys(\"aaaa\")\n",
    "D"
   ]
  },
  {
   "cell_type": "code",
   "execution_count": 2,
   "metadata": {},
   "outputs": [
    {
     "data": {
      "text/plain": [
       "'ahmed'"
      ]
     },
     "execution_count": 2,
     "metadata": {},
     "output_type": "execute_result"
    }
   ],
   "source": [
    "D.pop(3)"
   ]
  },
  {
   "cell_type": "code",
   "execution_count": 105,
   "metadata": {},
   "outputs": [
    {
     "data": {
      "text/plain": [
       "{1: 'ali',\n",
       " 2: 'mido',\n",
       " 3: 'ahmed',\n",
       " 4: {'adge': 10, 'name': 'koko'},\n",
       " 'salry': 1000}"
      ]
     },
     "execution_count": 105,
     "metadata": {},
     "output_type": "execute_result"
    }
   ],
   "source": [
    "c\n",
    "x=d.setdefault(\"salry\",1000)\n",
    "d"
   ]
  },
  {
   "cell_type": "markdown",
   "metadata": {},
   "source": []
  },
  {
   "cell_type": "code",
   "execution_count": 114,
   "metadata": {},
   "outputs": [
    {
     "data": {
      "text/plain": [
       "{8, 12, 54, 65, 75, 100}"
      ]
     },
     "execution_count": 114,
     "metadata": {},
     "output_type": "execute_result"
    }
   ],
   "source": [
    "s={100,12,42,8,65,42,8,75,54,12}\n",
    "s1={20,42,22}\n"
   ]
  },
  {
   "cell_type": "code",
   "execution_count": 115,
   "metadata": {},
   "outputs": [
    {
     "name": "stdout",
     "output_type": "stream",
     "text": [
      "{1: '55', 2: 'mido', 3: 'ahmed', 4: {'adge': 10, 'name': 'koko'}}\n"
     ]
    }
   ],
   "source": [
    "D={1:\"ali\",2:'mido',3:\"ahmed\",4:{\"adge\":10,\"name\":\"koko\"}}\n",
    "D[1]=\"55\"\n",
    "print(D)"
   ]
  },
  {
   "cell_type": "code",
   "execution_count": 3,
   "metadata": {},
   "outputs": [
    {
     "name": "stdout",
     "output_type": "stream",
     "text": [
      "ali\n"
     ]
    }
   ],
   "source": [
    "print(D[1])"
   ]
  },
  {
   "cell_type": "code",
   "execution_count": 117,
   "metadata": {},
   "outputs": [
    {
     "data": {
      "text/plain": [
       "{1: 'ali', 2: 'mido', 3: 'ahmed'}"
      ]
     },
     "execution_count": 117,
     "metadata": {},
     "output_type": "execute_result"
    }
   ],
   "source": [
    "D={1:\"ali\",2:'mido',3:\"ahmed\",4:{\"adge\":10,\"name\":\"koko\"}}\n",
    "D.popitem()\n",
    "D"
   ]
  },
  {
   "cell_type": "code",
   "execution_count": 119,
   "metadata": {},
   "outputs": [
    {
     "data": {
      "text/plain": [
       "{2: 'mido', 3: 'ahmed', 4: {'adge': 10, 'name': 'koko'}}"
      ]
     },
     "execution_count": 119,
     "metadata": {},
     "output_type": "execute_result"
    }
   ],
   "source": [
    "D={1:\"ali\",2:'mido',3:\"ahmed\",4:{\"adge\":10,\"name\":\"koko\"}}\n",
    "D.pop(1)\n",
    "D"
   ]
  },
  {
   "cell_type": "code",
   "execution_count": 123,
   "metadata": {},
   "outputs": [
    {
     "data": {
      "text/plain": [
       "{1: 'ali', 2: 'mido', 3: 'ahmed', 4: {'adge': 10, 'name': 'koko'}}"
      ]
     },
     "execution_count": 123,
     "metadata": {},
     "output_type": "execute_result"
    }
   ],
   "source": [
    "D={1:\"ali\",2:'mido',3:\"ahmed\",4:{\"adge\":10,\"name\":\"koko\"}}\n",
    "D.get()\n",
    "D"
   ]
  },
  {
   "cell_type": "code",
   "execution_count": 125,
   "metadata": {},
   "outputs": [
    {
     "data": {
      "text/plain": [
       "{'A': [10, 20, 30], 'S': [10, 20, 30], 'D': [10, 20, 30]}"
      ]
     },
     "execution_count": 125,
     "metadata": {},
     "output_type": "execute_result"
    }
   ],
   "source": [
    "D={1:\"ali\",2:'mido',3:\"ahmed\",4:{\"adge\":10,\"name\":\"koko\"}}\n",
    "X=D.fromkeys([\"A\",\"S\",\"D\"],[10,20,30])\n",
    "X"
   ]
  },
  {
   "cell_type": "code",
   "execution_count": 126,
   "metadata": {},
   "outputs": [
    {
     "data": {
      "text/plain": [
       "{1: 'ali',\n",
       " 2: 'mido',\n",
       " 3: 'ahmed',\n",
       " 4: {'adge': 10, 'name': 'koko'},\n",
       " 5: [10, 20, 30]}"
      ]
     },
     "execution_count": 126,
     "metadata": {},
     "output_type": "execute_result"
    }
   ],
   "source": [
    "D={1:\"ali\",2:'mido',3:\"ahmed\",4:{\"adge\":10,\"name\":\"koko\"}}\n",
    "D.setdefault(5,[10,20,30])\n",
    "D"
   ]
  },
  {
   "cell_type": "code",
   "execution_count": 13,
   "metadata": {},
   "outputs": [
    {
     "name": "stdout",
     "output_type": "stream",
     "text": [
      "['Adge', 'Name', 'job']\n",
      "[26, 'Ahmed', 'Dst']\n",
      "<class 'list'>\n"
     ]
    }
   ],
   "source": [
    "l1=[\"Adge\",\"Name\",\"job\"]\n",
    "l2=[26,\"Ahmed\",\"Dst\"]\n",
    "print(l1)\n",
    "print(l2)\n",
    "print(type(l1))"
   ]
  },
  {
   "cell_type": "code",
   "execution_count": 14,
   "metadata": {},
   "outputs": [
    {
     "name": "stdout",
     "output_type": "stream",
     "text": [
      "{'Adge': 26, 'Name': 'Ahmed', 'job': 'Dst'}\n"
     ]
    }
   ],
   "source": [
    "D = dict(zip(l1,l2))\n",
    "print(D)"
   ]
  },
  {
   "cell_type": "markdown",
   "metadata": {},
   "source": [
    "# Set"
   ]
  },
  {
   "cell_type": "code",
   "execution_count": 7,
   "metadata": {},
   "outputs": [
    {
     "data": {
      "text/plain": [
       "{10, 40, 'Ahmed', True}"
      ]
     },
     "execution_count": 7,
     "metadata": {},
     "output_type": "execute_result"
    }
   ],
   "source": [
    "# it is immutable data type  its  Unique and Sort data  ana combain int ,float , bool only \n",
    "\n",
    "S={10,40,\"Ahmed\",True}\n",
    "\n",
    "S"
   ]
  },
  {
   "cell_type": "code",
   "execution_count": 12,
   "metadata": {},
   "outputs": [
    {
     "name": "stdout",
     "output_type": "stream",
     "text": [
      "{40}\n",
      "{True, 20, 40, 10, 'Ahmed', 110}\n",
      "{True, 10, 'Ahmed'}\n"
     ]
    }
   ],
   "source": [
    "S1={20,110,40}\n",
    "SSi=S&S1\n",
    "print(SSi)\n",
    "SSu = S|S1\n",
    "print(SSu)\n",
    "SSd = S-S1\n",
    "print(SSd)"
   ]
  },
  {
   "cell_type": "code",
   "execution_count": 1,
   "metadata": {},
   "outputs": [
    {
     "name": "stdout",
     "output_type": "stream",
     "text": [
      "{'d', 'h', 'e', 'm', 'A'}\n",
      "{'d', 'e', 'y', 'l', 'E', 's', 'A'}\n",
      "{'d', 'h', 'e', 'y', 'm', 'l', 'E', 's', 'A'}\n",
      "{'e', 'd', 'A'}\n",
      "{'m', 'h'}\n",
      "{'h', 'y', 'm', 'l', 'E', 's'}\n"
     ]
    }
   ],
   "source": [
    "S1=set(\"Ahmed\")\n",
    "S2=set(\"ElsAyed\")\n",
    "print(S1) # sort element  And Unique\n",
    "print(S2)\n",
    "print(S1|S2) #Union  >> Or\n",
    "print(S1&S2) # inter section  >> And\n",
    "print(S1-S2) #diffrence >> subtracution\n",
    "print(S1^S2) #XoR  >> give us all elemen not at   S1   , S2"
   ]
  },
  {
   "cell_type": "code",
   "execution_count": null,
   "metadata": {},
   "outputs": [],
   "source": []
  },
  {
   "cell_type": "markdown",
   "metadata": {},
   "source": [
    "# Tuple"
   ]
  },
  {
   "cell_type": "code",
   "execution_count": 6,
   "metadata": {},
   "outputs": [
    {
     "name": "stdout",
     "output_type": "stream",
     "text": [
      "(10, '50', [10, 20, 55], {16, 1, 12}, False, {1: 55, 2: 22, 3: 554}, (4, 45, 85), 10, 10)\n"
     ]
    }
   ],
   "source": [
    "# Combain any type of data type\n",
    "\n",
    "T=(10,\"50\",[10,20,55],{12,1,16},False,{1:55,2:22,3:554},(4,45,85),10,10)\n",
    "print(T)"
   ]
  },
  {
   "cell_type": "code",
   "execution_count": 168,
   "metadata": {},
   "outputs": [
    {
     "data": {
      "text/plain": [
       "4"
      ]
     },
     "execution_count": 168,
     "metadata": {},
     "output_type": "execute_result"
    }
   ],
   "source": [
    "A=T.count(10)\n",
    "A\n",
    "Q=T.index(False)\n",
    "Q"
   ]
  },
  {
   "cell_type": "code",
   "execution_count": null,
   "metadata": {},
   "outputs": [],
   "source": []
  }
 ],
 "metadata": {
  "kernelspec": {
   "display_name": "Python 3",
   "language": "python",
   "name": "python3"
  },
  "language_info": {
   "codemirror_mode": {
    "name": "ipython",
    "version": 3
   },
   "file_extension": ".py",
   "mimetype": "text/x-python",
   "name": "python",
   "nbconvert_exporter": "python",
   "pygments_lexer": "ipython3",
   "version": "3.7.4"
  }
 },
 "nbformat": 4,
 "nbformat_minor": 2
}
