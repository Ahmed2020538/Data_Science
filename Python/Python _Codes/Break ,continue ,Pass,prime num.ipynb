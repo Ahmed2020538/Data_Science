{
 "cells": [
  {
   "cell_type": "markdown",
   "metadata": {},
   "source": [
    "# Break , Continue ,Pass"
   ]
  },
  {
   "cell_type": "code",
   "execution_count": 1,
   "metadata": {},
   "outputs": [
    {
     "name": "stdout",
     "output_type": "stream",
     "text": [
      "Enter how many  need:5\n",
      "can 1\n",
      "can 2\n",
      "can 3\n",
      "can 4\n",
      "can 5\n",
      "end\n"
     ]
    }
   ],
   "source": [
    "\n",
    "i=1\n",
    "X=int(input(\"Enter how many  need:\"))\n",
    "while i<=X :\n",
    "    if i>=10 :\n",
    "        print(\"out\")\n",
    "        break    # Stop and Out \n",
    "    print(\"can\",i)\n",
    "    i+=1\n",
    "print(\"end\")"
   ]
  },
  {
   "cell_type": "code",
   "execution_count": 2,
   "metadata": {},
   "outputs": [
    {
     "name": "stdout",
     "output_type": "stream",
     "text": [
      "Enter how many  need:12\n",
      "can 1\n",
      "can 2\n",
      "can 3\n",
      "can 4\n",
      "can 5\n",
      "can 6\n",
      "can 7\n",
      "can 8\n",
      "can 9\n",
      "out\n",
      "end\n"
     ]
    }
   ],
   "source": [
    "\n",
    "i=1\n",
    "X=int(input(\"Enter how many  need:\"))\n",
    "while i<=X :\n",
    "    if i>=10 :   #to print can 10 remove =\n",
    "        print(\"out\")\n",
    "        break    # Stop and Out\n",
    "    print(\"can\",i)\n",
    "    i+=1\n",
    "print(\"end\")"
   ]
  },
  {
   "cell_type": "code",
   "execution_count": 3,
   "metadata": {},
   "outputs": [
    {
     "name": "stdout",
     "output_type": "stream",
     "text": [
      "Enter how many  need:0\n",
      "end\n"
     ]
    }
   ],
   "source": [
    "i=1\n",
    "X=int(input(\"Enter how many  need:\"))\n",
    "while i<=X :\n",
    "    if i>=10 :   #to print can 10 remove =\n",
    "        print(\"out\")\n",
    "        break    # Stop and Out\n",
    "    print(\"can\",i)\n",
    "    i+=1\n",
    "print(\"end\")"
   ]
  },
  {
   "cell_type": "code",
   "execution_count": 8,
   "metadata": {},
   "outputs": [
    {
     "name": "stdout",
     "output_type": "stream",
     "text": [
      "1\n",
      "2\n",
      "Acieve\n",
      "4\n",
      "5\n",
      "Acieve\n",
      "7\n",
      "8\n",
      "Acieve\n",
      "10\n",
      "11\n",
      "Acieve\n",
      "13\n",
      "14\n",
      "Acieve\n",
      "16\n",
      "17\n",
      "Acieve\n",
      "19\n"
     ]
    }
   ],
   "source": [
    "for i in range(1,20) :\n",
    "    if i%3==0 :\n",
    "        print(\"Acieve\")\n",
    "        continue\n",
    "    print(i)"
   ]
  },
  {
   "cell_type": "code",
   "execution_count": 10,
   "metadata": {},
   "outputs": [
    {
     "name": "stdout",
     "output_type": "stream",
     "text": [
      "1\n",
      "2\n",
      "3\n",
      "4\n",
      "5\n",
      "Wow\n",
      "7\n",
      "8\n",
      "9\n",
      "10\n",
      "11\n",
      "Wow\n",
      "13\n",
      "14\n",
      "15\n",
      "16\n",
      "17\n",
      "Wow\n",
      "19\n"
     ]
    }
   ],
   "source": [
    "for i in range (1,20):\n",
    "    if i%2==0 and i%3==0 :\n",
    "        print(\"Wow\")\n",
    "        continue\n",
    "    print(i)"
   ]
  },
  {
   "cell_type": "code",
   "execution_count": 11,
   "metadata": {},
   "outputs": [
    {
     "name": "stdout",
     "output_type": "stream",
     "text": [
      "1\n",
      "WOOOW\n",
      "WOOOW\n",
      "WOOOW\n",
      "5\n",
      "WOOOW\n",
      "7\n",
      "WOOOW\n",
      "WOOOW\n",
      "WOOOW\n",
      "11\n",
      "WOOOW\n",
      "13\n",
      "WOOOW\n",
      "WOOOW\n",
      "WOOOW\n",
      "17\n",
      "WOOOW\n",
      "19\n"
     ]
    }
   ],
   "source": [
    "for i in range(1,20):\n",
    "    if i %2==0 or i%3==0 :\n",
    "        print(\"WOOOW\")\n",
    "        continue\n",
    "    print(i)\n",
    "    "
   ]
  },
  {
   "cell_type": "code",
   "execution_count": 12,
   "metadata": {},
   "outputs": [
    {
     "name": "stdout",
     "output_type": "stream",
     "text": [
      "1\n",
      "WOOOW\n"
     ]
    }
   ],
   "source": [
    "for i in range(1,20):\n",
    "    if i %2==0 or i%3==0 :\n",
    "        print(\"WOOOW\")\n",
    "        break\n",
    "    print(i)"
   ]
  },
  {
   "cell_type": "code",
   "execution_count": 14,
   "metadata": {},
   "outputs": [
    {
     "name": "stdout",
     "output_type": "stream",
     "text": [
      "2\n",
      "4\n",
      "6\n",
      "8\n",
      "10\n",
      "12\n",
      "14\n",
      "16\n",
      "18\n"
     ]
    }
   ],
   "source": [
    "for i in range(1,20):\n",
    "    if i%2!=0 :\n",
    "        \n",
    "        pass\n",
    "    else :\n",
    "         print(i)\n",
    "   "
   ]
  },
  {
   "cell_type": "markdown",
   "metadata": {},
   "source": [
    "# Print Pattern"
   ]
  },
  {
   "cell_type": "code",
   "execution_count": 16,
   "metadata": {},
   "outputs": [
    {
     "name": "stdout",
     "output_type": "stream",
     "text": [
      "#\n",
      "#\n",
      "#\n",
      "#\n"
     ]
    }
   ],
   "source": [
    "print(\"#\")\n",
    "print(\"#\") \n",
    "print(\"#\") \n",
    "print(\"#\") "
   ]
  },
  {
   "cell_type": "code",
   "execution_count": 18,
   "metadata": {},
   "outputs": [
    {
     "name": "stdout",
     "output_type": "stream",
     "text": [
      "####"
     ]
    }
   ],
   "source": [
    "print(\"#\",end=\"\")\n",
    "print(\"#\",end=\"\") \n",
    "print(\"#\",end=\"\") \n",
    "print(\"#\",end=\"\")"
   ]
  },
  {
   "cell_type": "code",
   "execution_count": 24,
   "metadata": {},
   "outputs": [
    {
     "name": "stdout",
     "output_type": "stream",
     "text": [
      "#####     \n",
      "#####     \n",
      "#####     \n",
      "#####     \n"
     ]
    }
   ],
   "source": [
    "for i in range(4):\n",
    "    for j in range(5):\n",
    "        print(\"#\",end=\"\")\n",
    "    print(\"     \")    \n",
    "    "
   ]
  },
  {
   "cell_type": "code",
   "execution_count": 25,
   "metadata": {},
   "outputs": [
    {
     "name": "stdout",
     "output_type": "stream",
     "text": [
      "# 0# 1# 2# 3# 4      0\n",
      "# 0# 1# 2# 3# 4      1\n",
      "# 0# 1# 2# 3# 4      2\n",
      "# 0# 1# 2# 3# 4      3\n"
     ]
    }
   ],
   "source": [
    "for i in range(4):\n",
    "    for j in range(5):\n",
    "        print(\"#\",j,end=\"\")\n",
    "    print(\"     \",i) "
   ]
  },
  {
   "cell_type": "code",
   "execution_count": 27,
   "metadata": {},
   "outputs": [
    {
     "name": "stdout",
     "output_type": "stream",
     "text": [
      "###1\n",
      "###2\n",
      "###3\n",
      "###4\n"
     ]
    }
   ],
   "source": []
  },
  {
   "cell_type": "code",
   "execution_count": 29,
   "metadata": {},
   "outputs": [
    {
     "name": "stdout",
     "output_type": "stream",
     "text": [
      "     \n",
      "#     \n",
      "##     \n",
      "###     \n",
      "####     \n"
     ]
    }
   ],
   "source": [
    "for i in range(5):\n",
    "    for j in range(i):\n",
    "        print(\"#\",end=\"\")\n",
    "    print(\"     \") "
   ]
  },
  {
   "cell_type": "code",
   "execution_count": 30,
   "metadata": {},
   "outputs": [
    {
     "name": "stdout",
     "output_type": "stream",
     "text": [
      "#     \n",
      "##     \n",
      "###     \n",
      "####     \n",
      "#####     \n"
     ]
    }
   ],
   "source": [
    "for i in range(5):\n",
    "    for j in range(i+1):\n",
    "        print(\"#\",end=\"\")\n",
    "    print(\"     \") "
   ]
  },
  {
   "cell_type": "code",
   "execution_count": 34,
   "metadata": {},
   "outputs": [
    {
     "name": "stdout",
     "output_type": "stream",
     "text": [
      "####     \n",
      "###     \n",
      "##     \n",
      "#     \n",
      "     \n"
     ]
    }
   ],
   "source": [
    "for i in range(5):\n",
    "    for j in range(4-i):\n",
    "        print(\"#\",end=\"\")\n",
    "    print(\"     \") "
   ]
  },
  {
   "cell_type": "markdown",
   "metadata": {},
   "source": [
    "# Primiring Number"
   ]
  },
  {
   "cell_type": "code",
   "execution_count": 42,
   "metadata": {},
   "outputs": [
    {
     "name": "stdout",
     "output_type": "stream",
     "text": [
      "Enter the Number :11\n",
      "prime number\n"
     ]
    }
   ],
   "source": [
    "num=int(input(\"Enter the Number :\"))\n",
    "for i in range (2,num) :\n",
    "    if num%i==0:\n",
    "        print(\"not prime number\")\n",
    "        break\n",
    "else :\n",
    "    print(\"prime number\")\n",
    "            \n",
    "    \n",
    "   \n"
   ]
  },
  {
   "cell_type": "code",
   "execution_count": 48,
   "metadata": {},
   "outputs": [
    {
     "name": "stdout",
     "output_type": "stream",
     "text": [
      "fal;se\n",
      "true\n",
      "fal;se\n",
      "fal;se\n"
     ]
    }
   ],
   "source": [
    "x=[11,10,43,33]\n",
    "for i in  x :\n",
    "    if i%2==0:\n",
    "        print(\"true\")\n",
    "    else :\n",
    "        print(\"fal;se\")"
   ]
  },
  {
   "cell_type": "code",
   "execution_count": null,
   "metadata": {},
   "outputs": [],
   "source": []
  }
 ],
 "metadata": {
  "kernelspec": {
   "display_name": "Python 3",
   "language": "python",
   "name": "python3"
  },
  "language_info": {
   "codemirror_mode": {
    "name": "ipython",
    "version": 3
   },
   "file_extension": ".py",
   "mimetype": "text/x-python",
   "name": "python",
   "nbconvert_exporter": "python",
   "pygments_lexer": "ipython3",
   "version": "3.7.4"
  }
 },
 "nbformat": 4,
 "nbformat_minor": 2
}
