{
 "cells": [
  {
   "cell_type": "markdown",
   "metadata": {},
   "source": [
    "# Variable"
   ]
  },
  {
   "cell_type": "code",
   "execution_count": 1,
   "metadata": {},
   "outputs": [
    {
     "name": "stdout",
     "output_type": "stream",
     "text": [
      "10 -25 Ahmed 15000.1 False True (10+5j)\n"
     ]
    }
   ],
   "source": [
    "A=10\n",
    "B=-25\n",
    "Name ='Ahmed'\n",
    "Salary = 15000.100\n",
    "X=False\n",
    "Y=True\n",
    "M=5j+10\n",
    "print(A,B,Name,Salary,X,Y,M)"
   ]
  },
  {
   "cell_type": "code",
   "execution_count": 2,
   "metadata": {},
   "outputs": [
    {
     "name": "stdout",
     "output_type": "stream",
     "text": [
      "<class 'int'>\n",
      "<class 'int'>\n"
     ]
    }
   ],
   "source": [
    "print(type(A))\n",
    "print(type(B))"
   ]
  },
  {
   "cell_type": "code",
   "execution_count": 3,
   "metadata": {},
   "outputs": [
    {
     "name": "stdout",
     "output_type": "stream",
     "text": [
      "<class 'str'>\n"
     ]
    }
   ],
   "source": [
    "print(type(Name))\n"
   ]
  },
  {
   "cell_type": "code",
   "execution_count": 4,
   "metadata": {},
   "outputs": [
    {
     "name": "stdout",
     "output_type": "stream",
     "text": [
      "<class 'float'>\n"
     ]
    }
   ],
   "source": [
    "print(type(Salary))"
   ]
  },
  {
   "cell_type": "code",
   "execution_count": 5,
   "metadata": {},
   "outputs": [
    {
     "name": "stdout",
     "output_type": "stream",
     "text": [
      "<class 'bool'>\n",
      "<class 'bool'>\n",
      "<class 'complex'>\n"
     ]
    }
   ],
   "source": [
    "print(type(X))\n",
    "print(type(Y))\n",
    "print(type(M))\n"
   ]
  },
  {
   "cell_type": "markdown",
   "metadata": {},
   "source": [
    "#  operations in python"
   ]
  },
  {
   "cell_type": "code",
   "execution_count": 6,
   "metadata": {},
   "outputs": [
    {
     "name": "stdout",
     "output_type": "stream",
     "text": [
      "10\n",
      "10 10 10\n",
      "20\n",
      "30\n",
      "10 20 30\n",
      "30\n",
      "60\n",
      "0.5\n",
      "300\n",
      "0\n",
      "60\n",
      "10\n",
      "60\n",
      "50\n",
      "500\n",
      "50.0\n",
      "50.0\n",
      "False True True False False True\n",
      "True True\n",
      "-8 -3 2 7 5 28 28\n",
      "False True\n",
      "True True False False\n"
     ]
    }
   ],
   "source": [
    "M1= X=Y=Z=10\n",
    "print(M1)\n",
    "print(X,Y,Z)\n",
    "print(X+Z)\n",
    "print(X+Y+Z)\n",
    "\n",
    "#Arithmetic Operator\n",
    "\n",
    "X1,X2,X3 = 10,20,30\n",
    "print(X1,X2,X3)\n",
    "print(X1+X2)\n",
    "print(X1+X2+X3)\n",
    "print(X1/X2)\n",
    "print(X1*X3)\n",
    "print(X1//X2)\n",
    "print(X3-X1+X2+X2)\n",
    "print(X1%X3)\n",
    "\n",
    "#Assinment operator X=num ,,,,X(+,-,*,/,%) = num ......give num(+,-,*,/,%)\n",
    "\n",
    "X=50\n",
    "X+=10\n",
    "print(X)\n",
    "X-=10\n",
    "print(X)\n",
    "X*=10\n",
    "print(X)\n",
    "X/=10\n",
    "print(X)\n",
    "X//5\n",
    "print(X)\n",
    "\n",
    "#compresion operator (< ,> ,<= ,>=, !=) using for Comparing\n",
    "\n",
    "D=10\n",
    "F=30\n",
    "G=10\n",
    "H=50\n",
    "\n",
    "C1=D>F\n",
    "C2=G<F\n",
    "C3=F>D\n",
    "C4=D>=H\n",
    "C5=H<=F\n",
    "C6=H!=D\n",
    "print(C1,C2,C3,C4,C5,C6)\n",
    "\n",
    "\n",
    "#logic operator ( and , or , not)\n",
    "L1 = D<F and F>G\n",
    "L2 = H>F or D>F\n",
    "\n",
    "print(L1,L2)\n",
    "\n",
    "#Bitwise operator (| , ~ , & , << ,>>)\n",
    "\n",
    "# (1 complement >>>change 0 > > 1   and 1 >>  0  ,,,, ,, 2 comlement >>> do 1 comlement and Add 1 ( ~ ) )\n",
    "\n",
    "B1=7\n",
    "B2=2\n",
    "W1 = ~ B1\n",
    "W2 = ~ B2\n",
    "\n",
    "# 1 complement  0 0 1 1 0 1 1 0 0 1 >>>  1 1 0 0 1 0 0 1 1 0\n",
    "#2 complement do ( 1 com )   and  (Add)  + 1      0 0 1 1 0 1 0 1 0 1  >> 1 1 0 0 1 0 1 0 1 0 >> +1 >> 1 1 0 0 1 0 1 0 1 1\n",
    "\n",
    "#(And (&))\n",
    "W3 = B1 & B2\n",
    "\n",
    "# must two compenents 1 >>>>   (0 1 0 1 1 0 0 1 0 1) ,,( 1 1 0 1 0 0 1 0 1 1 )  >>> (0 1 0 1 0 0 0 0 0 1) \n",
    "\n",
    "#(OR(|))\n",
    "W4 = B1|B2\n",
    "\n",
    "# should one of two compenents 1 >> (0 1 0 0 1 1 1 0 0 1) ,,, (1 1 0 1 0 0 0 1 0 1) >>> (1 1 0 1 1 1 1 1 0 1)\n",
    "\n",
    "#(XOR(^))\n",
    "\n",
    "W5 = B1 ^ B2\n",
    "\n",
    "# if two compenents 1 or 0 >> 0  else two compnents 1 0 or 0 1 >> 1  \n",
    "\n",
    "#(left shift(<<)) it is increase two element  (0 1 0 0 1 0 0) >> (0 1 0 0 1 0 0 0 0 )  show (B2 = 2 )\n",
    "\n",
    "\n",
    "W6 = B1 << B2 \n",
    "\n",
    "# (right shift (<<) it loss element (0 1 0 0 1 0 0)  << (0 1 0 0 1) show (B2 =2)\n",
    "\n",
    "W7 = B1 << B2\n",
    "\n",
    "print(W1 ,W2 , W3 , W4 , W5  , W6 , W7)\n",
    "\n",
    "\n",
    "\n",
    "\n",
    "\n",
    "\n",
    "\n",
    "\n",
    "\n",
    "#indentity operator (is , is not)\n",
    "\n",
    "I=50\n",
    "I1 = I is 50\n",
    "I2 = I is not 50\n",
    "print(I2 , I1)\n",
    "\n",
    "\n",
    "#Membership operator (in , not in)\n",
    "\n",
    "M=['Ahmed' , 'Ali', 100 , False ,100.555]\n",
    "\n",
    "M1='Ahmed' in M\n",
    "M2=100.555 in M\n",
    "M3=100 not in M\n",
    "M4='Ali' not in M\n",
    "print(M1 , M2 , M3 , M4 )\n",
    "\n",
    "\n",
    "\n",
    "\n"
   ]
  },
  {
   "cell_type": "markdown",
   "metadata": {},
   "source": [
    "# Key_Words dnot use avariables its func\n",
    "# KW=If , Else , Elif , While , For , Not , Is , Or , On , Pass , Lambda , Break , Countine , Global , Nonlocal , Expect , Return , Finally , Import , Def , Del , Class"
   ]
  },
  {
   "cell_type": "markdown",
   "metadata": {},
   "source": [
    "# variables"
   ]
  },
  {
   "cell_type": "code",
   "execution_count": 29,
   "metadata": {},
   "outputs": [
    {
     "data": {
      "text/plain": [
       "20"
      ]
     },
     "execution_count": 29,
     "metadata": {},
     "output_type": "execute_result"
    }
   ],
   "source": [
    "new_list = 20\n",
    "new_list"
   ]
  },
  {
   "cell_type": "code",
   "execution_count": 19,
   "metadata": {},
   "outputs": [
    {
     "name": "stdout",
     "output_type": "stream",
     "text": [
      "100\n",
      "110\n"
     ]
    }
   ],
   "source": [
    "#diff variables\n",
    "A= 100\n",
    "a=110\n",
    "print(A)\n",
    "print(a)"
   ]
  },
  {
   "cell_type": "code",
   "execution_count": 20,
   "metadata": {},
   "outputs": [
    {
     "name": "stdout",
     "output_type": "stream",
     "text": [
      "Ali\n"
     ]
    }
   ],
   "source": [
    "# num variable\n",
    "_55 ='Ali'\n",
    "print(_55)"
   ]
  },
  {
   "cell_type": "code",
   "execution_count": 21,
   "metadata": {},
   "outputs": [
    {
     "name": "stdout",
     "output_type": "stream",
     "text": [
      "Ahmed Amir  Ahmed\n",
      "Elsayed\n",
      "Ebrahim\n",
      "Mahmoud\n",
      "Elsayed\n",
      "Azoz\n"
     ]
    }
   ],
   "source": [
    "#String\n",
    "Name1 = \"Ahmed\"\n",
    "Name2 = 'Amir'\n",
    "Name3 = ''' Ahmed\n",
    "Elsayed\n",
    "Ebrahim\n",
    "Mahmoud\n",
    "Elsayed\n",
    "Azoz'''\n",
    "print(Name1 , Name2 , Name3)"
   ]
  },
  {
   "cell_type": "code",
   "execution_count": null,
   "metadata": {},
   "outputs": [],
   "source": [
    "#Tybes of data  1_(immutables [Strings  \"Amr\"  , Numbers  100 ,  Tubels (  :   ) ]    )    ,,,2_(mutable [lists [10.20.30] ,, Dictionarys {name:'Ali'} ,,, sets ])"
   ]
  },
  {
   "cell_type": "code",
   "execution_count": 50,
   "metadata": {},
   "outputs": [
    {
     "name": "stdout",
     "output_type": "stream",
     "text": [
      "<class 'str'>\n",
      "H\n",
      "o\n",
      "d\n",
      "Halo\n",
      "Halo World\n"
     ]
    }
   ],
   "source": [
    "var = 'Halo World'\n",
    "print(type(var))\n",
    "print(var[0])\n",
    "print(var[6])\n",
    "print(var[-1])\n",
    "#Extract halo from Halo world\n",
    "print(var[0:4])\n",
    "print(var[:11])\n"
   ]
  },
  {
   "cell_type": "code",
   "execution_count": 63,
   "metadata": {},
   "outputs": [
    {
     "name": "stdout",
     "output_type": "stream",
     "text": [
      "6 2\n",
      "Hallo WorLd       HaLLo WoRLd      HaLLo Ahmed\n",
      "['HaLLo WorLd']\n",
      "3\n",
      "HALLO WORLD\n",
      "r\n",
      " \n"
     ]
    }
   ],
   "source": [
    "#find index\n",
    "V=\"HaLLo WorLd\"\n",
    "V1=V.find(\"W\")\n",
    "V2=V.find(\"LL\")\n",
    "print(V1 , V2)\n",
    "\n",
    "#replace Values\n",
    "V3=V.replace(\"LL\" , 'll')\n",
    "V4=V.replace(\"r\" , \"R\")\n",
    "V5=V.replace(\"WorLd\" ,\"Ahmed\")\n",
    "print(V3,\"     \" , V4 ,\"    \"    , V5)\n",
    "\n",
    "\n",
    "#Split string   take space\n",
    "\n",
    "V6= V.split(  ',,'  )\n",
    "print(V6)\n",
    "\n",
    "#Count of string number of repeat of any symbol\n",
    "V7=V.count(\"L\")\n",
    "print(V7)\n",
    "\n",
    "#Upper String\n",
    "\n",
    "V8=V.upper()\n",
    "print(V8)\n",
    "\n",
    "#Max and Min\n",
    "V9 = max(V)\n",
    "V10 = min(V)\n",
    "print(V9)\n",
    "print(V10)\n"
   ]
  },
  {
   "cell_type": "code",
   "execution_count": 4,
   "metadata": {},
   "outputs": [
    {
     "name": "stdout",
     "output_type": "stream",
     "text": [
      "('A', 'B', 'C', 'D', 'Q', 'W', 'E')\n",
      "('Q', 'W', 'E', 'Q', 'W', 'E', 'Q', 'W', 'E')\n",
      "A\n",
      "E\n",
      "W\n",
      "('Q', 'W', 'E', 'Q', 'W')\n",
      "E\n",
      "('Q', 'W', 'E', 'Q', 'W', 'E', 'Q', 'W')\n",
      "('Q', 'W', 'E', 'Q', 'W', 'E', 'Q', 'W', 'E')\n"
     ]
    }
   ],
   "source": [
    "#Tuples concatenation\n",
    "\n",
    "T1=('A','B','C','D')\n",
    "T2=('Q','W','E')\n",
    "T1+=T2\n",
    "print(T1)\n",
    "\n",
    "#Tuples Replation\n",
    "T3=T2*3\n",
    "print(T3)\n",
    "\n",
    "#Tuples index\n",
    "\n",
    "print(T1[0])\n",
    "print(T2[2])\n",
    "print(T3[7])\n",
    "print(T3[0:5])\n",
    "print(T3[-1])\n",
    "print(T3[:8])\n",
    "print(T3[0:])\n",
    "\n"
   ]
  },
  {
   "cell_type": "code",
   "execution_count": 100,
   "metadata": {},
   "outputs": [
    {
     "name": "stdout",
     "output_type": "stream",
     "text": [
      "[10, 20.55, 'Ahmed', False, True]\n",
      "<class 'int'>\n",
      "<class 'float'>\n",
      "<class 'str'>\n",
      "<class 'bool'>\n",
      "[10, 20.55, 'Ahmed', False, True, 'A', 'l', 'i']\n",
      "[10, 20.55, 'Ahmed', False, True, 'A', 'l', 'i', 'ss', False, 20.5]\n",
      "[10, 20.55, False, True, 'A', 'l', 'i', 'ss', False, 20.5]\n",
      "[10, 20.55, False, True, 'A', 'l', 'i', 'ss', False, 20.5, 10, 20.55, False, True, 'A', 'l', 'i', 'ss', False, 20.5]\n",
      "[10, 20.55, False, True, 'A']\n",
      "[10, 20.55, False, True, 'A', 'l', 'i', 'ss', False, 20.5]\n",
      "[10, 20.55, False, True, 'A', 'l', 'i']\n",
      "20.5\n",
      "[10, 20.55, False, True, 'A', 'l', 'i', 'ss', False, 20.5, 'Akram']\n",
      "[10, 20.55, False, True, 'A', 'l', 'i', 'ss', False, 20.5, 'Akram', ['ss', False, 20.5]]\n",
      "[10, 20.55, 2000, False, True, 'A', 'l', 'i', 'ss', False, 20.5, 'Akram', ['ss', False, 20.5]]\n",
      "13\n"
     ]
    }
   ],
   "source": [
    "#Lists\n",
    "\n",
    "T=[10 , 20.55 , \"Ahmed\" , False , True ]\n",
    "print(T)\n",
    "print(type(T[0]))\n",
    "print(type(T[1]))\n",
    "print(type(T[2]))\n",
    "print(type(T[3]))\n",
    "\n",
    "#List concatination\n",
    "T+=\"Ali\"\n",
    "print(T)\n",
    "T2=['ss' , False , 20.5]\n",
    "T+=T2\n",
    "print(T)\n",
    "\n",
    "#remove items in list\n",
    "\n",
    "T.remove(\"Ahmed\")\n",
    "print(T)\n",
    "\n",
    "#repetation lists\n",
    "T1=T*2\n",
    "print(T1)\n",
    "\n",
    "#slicing in list\n",
    "\n",
    "print(T[0:5])\n",
    "print(T[0:])\n",
    "print(T[:7])\n",
    "print(T[-1])\n",
    "\n",
    "# To add any var to list\n",
    "T.append(\"Akram\")\n",
    "print(T)\n",
    "\n",
    "T.append(T2)\n",
    "print(T)\n",
    "\n",
    "#Insert any Var in list (index , only num)\n",
    "\n",
    "T.insert(2 , 2000)\n",
    "print(T)\n",
    "print(len(T))\n",
    "\n",
    "\n",
    "\n"
   ]
  },
  {
   "cell_type": "code",
   "execution_count": 103,
   "metadata": {},
   "outputs": [
    {
     "name": "stdout",
     "output_type": "stream",
     "text": [
      "{1: 100, 2: 'Mazen', 3: True}\n",
      "<class 'dict'>\n",
      "100\n",
      "Mazen\n",
      "True\n",
      "3\n"
     ]
    }
   ],
   "source": [
    "#Dictionarys  {keys : values}\n",
    "\n",
    "D = {1 : 100 , 2 : \"Mazen\" , 3 : True }\n",
    "print(D)\n",
    "print(type(D))\n",
    "print(D[1])\n",
    "print(D[2])\n",
    "print(D[3])\n",
    "print(len(D))\n",
    "\n",
    "\n",
    "\n",
    "\n"
   ]
  },
  {
   "cell_type": "code",
   "execution_count": 106,
   "metadata": {},
   "outputs": [
    {
     "name": "stdout",
     "output_type": "stream",
     "text": [
      "{1, 'C', 'A', 20}\n",
      "{10, 'C', 'A', 30, 'H'}\n",
      "{1, 10, 'C', 'H', 'A', 20, 30}\n",
      "{'C', 'A'}\n",
      "{1, 20}\n"
     ]
    }
   ],
   "source": [
    "#Sets {}\n",
    "S1={1 , \"A\" , 20 , \"C\"}\n",
    "S2={10 , 30 , \"A\" ,\"H\" , \"C\"}\n",
    "print(S1)\n",
    "print(S2\n",
    "     )\n",
    "#union sets\n",
    "\n",
    "S=S1|S2\n",
    "print(S)\n",
    "\n",
    "#intersection\n",
    "\n",
    "S3=S1&S2\n",
    "print(S3)\n",
    "\n",
    "#diffrence\n",
    "\n",
    "S4=S1-S2\n",
    "print(S4)\n"
   ]
  },
  {
   "cell_type": "code",
   "execution_count": 1,
   "metadata": {},
   "outputs": [
    {
     "name": "stdout",
     "output_type": "stream",
     "text": [
      "7.0710678118654755\n",
      "2\n",
      "3\n",
      "9.0\n",
      "3.141592653589793\n",
      "2.718281828459045\n"
     ]
    }
   ],
   "source": [
    "import math\n",
    "x=math.sqrt(50)\n",
    "print(x)\n",
    "y=math.floor(2.9)\n",
    "z=math.ceil(2.2)\n",
    "w=math.pow(3,2)\n",
    "c=math.pi\n",
    "d=math.e\n",
    "print(y)\n",
    "print(z)\n",
    "print(w)\n",
    "print(c)\n",
    "print(d)"
   ]
  },
  {
   "cell_type": "markdown",
   "metadata": {},
   "source": [
    "# User input"
   ]
  },
  {
   "cell_type": "markdown",
   "metadata": {},
   "source": [
    "# 1 _ Deal as Str"
   ]
  },
  {
   "cell_type": "code",
   "execution_count": 4,
   "metadata": {},
   "outputs": [
    {
     "name": "stdout",
     "output_type": "stream",
     "text": [
      "Enter the first num :10\n",
      "Enter the scd num :20\n",
      "1020\n"
     ]
    }
   ],
   "source": [
    "x=input (\"Enter the first num :\")\n",
    "y=input(\"Enter the scd num :\")\n",
    "z=x+y\n",
    "print(z)"
   ]
  },
  {
   "cell_type": "code",
   "execution_count": 5,
   "metadata": {},
   "outputs": [
    {
     "name": "stdout",
     "output_type": "stream",
     "text": [
      "Enter the first num : 10\n",
      "Enter the scd num : 20\n",
      " 10 20\n"
     ]
    }
   ],
   "source": [
    "x=input (\"Enter the first num :\")\n",
    "y=input(\"Enter the scd num :\")\n",
    "z=x+y\n",
    "print(z)\n"
   ]
  },
  {
   "cell_type": "code",
   "execution_count": 6,
   "metadata": {},
   "outputs": [
    {
     "name": "stdout",
     "output_type": "stream",
     "text": [
      "Enter the first num :10\n",
      "Enter the scd num :10\n",
      "1010\n"
     ]
    }
   ],
   "source": [
    "x=input (\"Enter the first num :\")\n",
    "y=input(\"Enter the scd num :\")\n",
    "z=x+y\n",
    "print(z)"
   ]
  },
  {
   "cell_type": "code",
   "execution_count": 7,
   "metadata": {},
   "outputs": [
    {
     "name": "stdout",
     "output_type": "stream",
     "text": [
      "Enter the first num :10\n",
      "Enter the scd num :10\n",
      "1010\n"
     ]
    }
   ],
   "source": [
    "x=input (\"Enter the first num :\")\n",
    "y=input(\"Enter the scd num :\")\n",
    "z=x+y\n",
    "print(z)"
   ]
  },
  {
   "cell_type": "markdown",
   "metadata": {},
   "source": [
    "# 2 _ Deal as num"
   ]
  },
  {
   "cell_type": "code",
   "execution_count": 8,
   "metadata": {},
   "outputs": [
    {
     "name": "stdout",
     "output_type": "stream",
     "text": [
      "Enter the first num :20\n",
      "Enter the scd num :80\n",
      "2080\n",
      "100\n"
     ]
    }
   ],
   "source": [
    "x=input (\"Enter the first num :\")\n",
    "a=int(x)\n",
    "y=input(\"Enter the scd num :\")\n",
    "b=int(y)\n",
    "z=x+y\n",
    "w=a+b\n",
    "print(z)\n",
    "print(w)\n"
   ]
  },
  {
   "cell_type": "code",
   "execution_count": 9,
   "metadata": {},
   "outputs": [
    {
     "name": "stdout",
     "output_type": "stream",
     "text": [
      "Enter the first num :20\n",
      "Enter the scd num :30\n",
      "50\n"
     ]
    }
   ],
   "source": [
    "x=int(input (\"Enter the first num :\"))\n",
    "y=int(input(\"Enter the scd num :\"))\n",
    "z=x+y\n",
    "print(z)"
   ]
  },
  {
   "cell_type": "markdown",
   "metadata": {},
   "source": [
    "# To get Special range"
   ]
  },
  {
   "cell_type": "code",
   "execution_count": 10,
   "metadata": {},
   "outputs": [
    {
     "name": "stdout",
     "output_type": "stream",
     "text": [
      "Enter the char :ahmed\n",
      "ahmed\n"
     ]
    }
   ],
   "source": [
    "x=input (\"Enter the char :\")\n",
    "\n",
    "print(x)"
   ]
  },
  {
   "cell_type": "code",
   "execution_count": 11,
   "metadata": {},
   "outputs": [
    {
     "name": "stdout",
     "output_type": "stream",
     "text": [
      "Enter the char :mido\n",
      "m\n"
     ]
    }
   ],
   "source": [
    "x=input (\"Enter the char :\")\n",
    "\n",
    "print(x[0])"
   ]
  },
  {
   "cell_type": "code",
   "execution_count": 13,
   "metadata": {},
   "outputs": [
    {
     "name": "stdout",
     "output_type": "stream",
     "text": [
      "Enter the char :mido\n",
      "m\n"
     ]
    }
   ],
   "source": [
    "x=input (\"Enter the char :\")[0]\n",
    "\n",
    "print(x)"
   ]
  },
  {
   "cell_type": "markdown",
   "metadata": {},
   "source": [
    "# To do any arthimatic operation on input"
   ]
  },
  {
   "cell_type": "code",
   "execution_count": 14,
   "metadata": {},
   "outputs": [
    {
     "name": "stdout",
     "output_type": "stream",
     "text": [
      "enter the epri:10+10+10-10\n",
      "20\n"
     ]
    }
   ],
   "source": [
    "x=eval(input(\"enter the epri:\"))\n",
    "print(x)"
   ]
  },
  {
   "cell_type": "code",
   "execution_count": 15,
   "metadata": {},
   "outputs": [
    {
     "name": "stdout",
     "output_type": "stream",
     "text": [
      "enter the epri:10+20*2\n",
      "50\n"
     ]
    }
   ],
   "source": [
    "x=eval(input(\"enter the epri:\"))\n",
    "print(x)\n"
   ]
  },
  {
   "cell_type": "code",
   "execution_count": null,
   "metadata": {},
   "outputs": [],
   "source": []
  },
  {
   "cell_type": "code",
   "execution_count": 2,
   "metadata": {},
   "outputs": [
    {
     "name": "stdout",
     "output_type": "stream",
     "text": [
      "y is bigger\n"
     ]
    }
   ],
   "source": [
    "x=5\n",
    "y=10\n",
    "if x>y:\n",
    "    print(\"x is bigger\")\n",
    "elif x<y :\n",
    "    print(\"y is bigger\")\n",
    "elif x==y:\n",
    "    print(\"x=y\")\n",
    "else:\n",
    "    print(\"!\")"
   ]
  },
  {
   "cell_type": "code",
   "execution_count": null,
   "metadata": {},
   "outputs": [],
   "source": []
  }
 ],
 "metadata": {
  "kernelspec": {
   "display_name": "Python 3",
   "language": "python",
   "name": "python3"
  },
  "language_info": {
   "codemirror_mode": {
    "name": "ipython",
    "version": 3
   },
   "file_extension": ".py",
   "mimetype": "text/x-python",
   "name": "python",
   "nbconvert_exporter": "python",
   "pygments_lexer": "ipython3",
   "version": "3.7.4"
  }
 },
 "nbformat": 4,
 "nbformat_minor": 4
}
