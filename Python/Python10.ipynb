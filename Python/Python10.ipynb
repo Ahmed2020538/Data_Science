{
 "cells": [
  {
   "cell_type": "markdown",
   "metadata": {},
   "source": [
    "# 1 _ Create Class And Create Objects from That Class"
   ]
  },
  {
   "cell_type": "code",
   "execution_count": 21,
   "metadata": {},
   "outputs": [
    {
     "name": "stdout",
     "output_type": "stream",
     "text": [
      "2010 :::Lanssar:::Red:::250000\n",
      "Manual\n",
      "==================\n",
      "2010 :::Lanssar:::Red:::250000\n",
      "Manual\n",
      "==================\n",
      "2019 :::BMW:::Black:::350000\n",
      "Automatic\n",
      "==================\n",
      "2019 :::BMW:::Black:::350000\n",
      "Automatic\n",
      "==================\n",
      "===================\n",
      "2019 :::BMW:::Black:::350000\n",
      "Automatic\n"
     ]
    }
   ],
   "source": [
    "class Car :\n",
    "    # Attributied\n",
    "    Car_Mod   = \"0\"\n",
    "    Car_Name  = \"\"\n",
    "    Car_Color = \"\"\n",
    "    Car_Price = \"0\"\n",
    "    \n",
    "    # Methods\n",
    "    def get_data (self) :\n",
    "        return self.Car_Mod + \" :::\" + self.Car_Name + \":::\"+ self.Car_Color + \":::\" + self.Car_Price\n",
    "    def print_data (self) :\n",
    "        print(self.get_data())\n",
    "\n",
    "# Create Object from Class\n",
    "\n",
    "Car1 = Car()\n",
    "Car1.Car_Mod   = \"2010\"\n",
    "Car1.Car_Name  = \"Lanssar\"\n",
    "Car1.Car_Color = \"Red\"\n",
    "Car1.Car_Price = \"250000\"\n",
    "\n",
    "Car1.print_data()\n",
    "\n",
    "# Set attribute to object is not in Class Attributies and not found in atribuies becouse not return\n",
    "Car1.option = \"Manual\"\n",
    "print(Car1.option)\n",
    "print(\"==================\")\n",
    "\n",
    "print(Car1.get_data())\n",
    "print(Car1.option)\n",
    "\n",
    "Car1.option = \"Manual\"\n",
    "print(\"==================\")\n",
    "\n",
    "\n",
    "      \n",
    "Car2 = Car()\n",
    "Car2.Car_Mod = \"2019\"\n",
    "Car2.Car_Name = \"BMW\"\n",
    "Car2.Car_Color = \"Black\"\n",
    "Car2.Car_Price = \"350000\"\n",
    "\n",
    "\n",
    "Car2.print_data()\n",
    "\n",
    "# Set attribute to object is not in Class Attributies and not found in atribuies becouse not return\n",
    "\n",
    "Car2.option = \"Automatic\"\n",
    "print(Car2.option)\n",
    "print(\"==================\")\n",
    "print(Car2.get_data())\n",
    "print(Car2.option)\n",
    "print(\"==================\")\n",
    "print(\"===================\")\n",
    "Car2.print_data()\n",
    "print(Car2.option)"
   ]
  },
  {
   "cell_type": "markdown",
   "metadata": {},
   "source": [
    "# 2 _ Create Class With initial values and create Objects from that Class"
   ]
  },
  {
   "cell_type": "code",
   "execution_count": 7,
   "metadata": {},
   "outputs": [
    {
     "name": "stdout",
     "output_type": "stream",
     "text": [
      "2010 :::Lanssar:::Red:::250000\n",
      "=========================================\n",
      "2019 :::BMW:::Black:::350000\n",
      "======================\n"
     ]
    }
   ],
   "source": [
    "class Car :\n",
    "    # Attributied\n",
    "    Car_Mod   = \"0\"\n",
    "    Car_Name  = \"\"\n",
    "    Car_Color = \"\"\n",
    "    Car_Price = \"0\"\n",
    "    \n",
    "    # initialization Function\n",
    "    \n",
    "    def __ini__(self , Mod , Name, Col , Price ) :\n",
    "        \n",
    "        # Attributied\n",
    "        self.Car_Mod= Mod\n",
    "        self.Car_Name = Name\n",
    "        self.Car_Color= Col\n",
    "        self.Car_Price= Price\n",
    "    def get_data (self) :\n",
    "        return self.Car_Mod + \" :::\" + self.Car_Name + \":::\"+ self.Car_Color + \":::\" + self.Car_Price\n",
    "    def print_data (self) :\n",
    "        print(self.get_data())\n",
    "        \n",
    "\n",
    "\n",
    "C1=Car()\n",
    "C1.Car_Mod   = \"2010\"\n",
    "C1.Car_Name  = \"Lanssar\"\n",
    "C1.Car_Color = \"Red\"\n",
    "C1.Car_Price = \"250000\"\n",
    "C1.print_data()\n",
    "print(\"=========================================\")\n",
    "Car2=Car( )\n",
    "Car2.Car_Mod = \"2019\"\n",
    "Car2.Car_Name = \"BMW\"\n",
    "Car2.Car_Color = \"Black\"\n",
    "Car2.Car_Price = \"350000\"\n",
    "Car2.print_data()\n",
    "\n",
    "print(\"======================\")\n"
   ]
  },
  {
   "cell_type": "markdown",
   "metadata": {},
   "source": [
    "# 3_ Set and get  an attribute not in class attrubuties"
   ]
  },
  {
   "cell_type": "code",
   "execution_count": 32,
   "metadata": {},
   "outputs": [
    {
     "name": "stdout",
     "output_type": "stream",
     "text": [
      "Manual\n",
      "Automatic\n",
      "==============================\n",
      "Landlover\n",
      "Marssedes\n",
      "Red\n",
      "Blue\n",
      "================================\n",
      "Landlover\n",
      "Manual\n",
      "Red\n",
      "===============================\n",
      "Marssedes\n",
      "Automatic\n",
      "Blue\n"
     ]
    }
   ],
   "source": [
    "class Cars :\n",
    "    pass\n",
    "\n",
    "C1 = Cars()\n",
    "C2 = Cars()\n",
    "\n",
    "C1.Col = \"Red\"\n",
    "\n",
    "C2.Col = \"Blue\"\n",
    "setattr (C1 , \"Opition\" , \"Manual\")\n",
    "setattr (C2 , \"Opition\" , \"Automatic\")\n",
    "print(C1.Opition)\n",
    "print(C2.Opition)\n",
    "print(\"==============================\")\n",
    "\n",
    "setattr (C1 , \"Mod\" , \"Landlover\")\n",
    "setattr ( C2 , \"Mod\" , \"Marssedes\")\n",
    "print(C1.Mod)\n",
    "print(C2.Mod)\n",
    "print(C1.Col)\n",
    "print(C2.Col)\n",
    "\n",
    "print(\"================================\")\n",
    "print(getattr(C1 , \"Mod\"))\n",
    "print(getattr(C1 , \"Opition\"))\n",
    "print(getattr(C1 , \"Col\"))\n",
    "\n",
    "\n",
    "print(\"===============================\")\n",
    "print(getattr(C2 , \"Mod\"))\n",
    "print(getattr(C2 , \"Opition\"))\n",
    "print(getattr(C2 , \"Col\"))\n",
    "\n",
    "\n",
    "\n",
    "\n",
    "\n",
    "\n"
   ]
  },
  {
   "cell_type": "code",
   "execution_count": null,
   "metadata": {},
   "outputs": [],
   "source": []
  }
 ],
 "metadata": {
  "kernelspec": {
   "display_name": "Python 3",
   "language": "python",
   "name": "python3"
  },
  "language_info": {
   "codemirror_mode": {
    "name": "ipython",
    "version": 3
   },
   "file_extension": ".py",
   "mimetype": "text/x-python",
   "name": "python",
   "nbconvert_exporter": "python",
   "pygments_lexer": "ipython3",
   "version": "3.7.4"
  }
 },
 "nbformat": 4,
 "nbformat_minor": 2
}
