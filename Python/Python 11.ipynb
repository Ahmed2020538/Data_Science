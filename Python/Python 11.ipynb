{
 "cells": [
  {
   "cell_type": "markdown",
   "metadata": {},
   "source": [
    "# Creat Class"
   ]
  },
  {
   "cell_type": "code",
   "execution_count": 18,
   "metadata": {},
   "outputs": [
    {
     "name": "stdout",
     "output_type": "stream",
     "text": [
      " Id::> 1994  Pos ::> Data_Scientist  ::Addrss ::> Elghadany Street  ::Salary ::> 10000  ::Name :: > Ahmed\n",
      "==================================\n",
      " Id::> 1994  Pos ::> Data_Scientist  ::Addrss ::> Elghadany Street  ::Salary ::> 10000  ::Name :: > Ahmed\n",
      "=======================================\n",
      "=======================================\n",
      "=======================================\n",
      " Id::> 222  Pos ::> AI_Specialist  ::Addrss ::> ElrehaB City  ::Salary ::> 500000  ::Name :: > Noura\n",
      " Id::> 222  Pos ::> AI_Specialist  ::Addrss ::> ElrehaB City  ::Salary ::> 500000  ::Name :: > Noura\n"
     ]
    }
   ],
   "source": [
    "class EMP : # Class create fun\n",
    "    \n",
    "    # Attributies\n",
    "    \n",
    "    Emp_Id = \"0\"\n",
    "    Emp_Name = \"\"\n",
    "    Emp_Position = \"\"\n",
    "    Emp_Addr = \"\"\n",
    "    Emp_Salary = \"0\"\n",
    "    \n",
    "    # Methods \n",
    "    \n",
    "    # Func rerurn data\n",
    "    def get_data (self) :\n",
    "        return \" Id::> \" + self.Emp_Id + \"  Pos ::> \" + self.Emp_Position + \"  ::Addrss ::> \" + self.Emp_Addr + \"  ::Salary ::> \" + self.Emp_Salary + \"  ::Name :: > \" + self.Emp_Name\n",
    "    \n",
    "    # Func print data\n",
    "    \n",
    "    def print_data (self) :\n",
    "        print(self.get_data())\n",
    "        \n",
    "EMP1 = EMP() # Object 1 From Class\n",
    "\n",
    "EMP1.Emp_Id = \"1994\"    # Attr1\n",
    "EMP1.Emp_Name = \"Ahmed\" # Attr\n",
    "EMP1.Emp_Position = \"Data_Scientist\"  # Attr2\n",
    "EMP1.Emp_Addr = \"Elghadany Street\"  # Attr3\n",
    "EMP1.Emp_Salary = \"10000\"  # Attr4\n",
    "EMP1.print_data()  # M1\n",
    "print(\"==================================\")\n",
    "print(EMP1.get_data())\n",
    "\n",
    "\n",
    "print(\"=======================================\")\n",
    "print(\"=======================================\")\n",
    "print(\"=======================================\")\n",
    "\n",
    "EMP2=EMP()           # Object 2 from class\n",
    "EMP2.Emp_Id=\"222\"      # Attr1\n",
    "EMP2.Emp_Name = \"Noura\"  # Attr\n",
    "EMP2.Emp_Position=\"AI_Specialist\"    # Attr2\n",
    "EMP2.Emp_Addr=\"ElrehaB City\"    # Attr3\n",
    "EMP2.Emp_Salary=\"500000\"    # Attr4\n",
    "EMP2.print_data()  # M1\n",
    "print(EMP2.get_data())  # M2"
   ]
  },
  {
   "cell_type": "markdown",
   "metadata": {},
   "source": [
    "# Initiolization"
   ]
  },
  {
   "cell_type": "code",
   "execution_count": 19,
   "metadata": {},
   "outputs": [
    {
     "name": "stdout",
     "output_type": "stream",
     "text": [
      "New Obtject From Class\n",
      "New Obtject From Class\n",
      "New Obtject From Class\n"
     ]
    }
   ],
   "source": [
    "class Emp :    #name of class\n",
    "    EmpId =\" 0 \"    #Attribute 1 have initial value\n",
    "    EmpName =\"\"  #Att2\n",
    "    EmpAddr =\"\"   #Att3\n",
    "    EmpSalary =\"0\" #Att4\n",
    "    def __init__(self):\n",
    "        print(\"New Obtject From Class\")\n",
    "    def getdata (self) :  # Method1\n",
    "        return self.EmpId +\" ; \"+ self.EmpName+ \" ; \"+ self.EmpAddr+\" ; \"+ self.EmpSalary\n",
    "    def printdata (self) : # Method 2\n",
    "        print(self.getdata())\n",
    "        \n",
    "E1=Emp()\n",
    "E2=Emp()\n",
    "E3=Emp()"
   ]
  },
  {
   "cell_type": "markdown",
   "metadata": {},
   "source": [
    "# Inside Parameter of Object in Class"
   ]
  },
  {
   "cell_type": "code",
   "execution_count": 24,
   "metadata": {},
   "outputs": [
    {
     "name": "stdout",
     "output_type": "stream",
     "text": [
      "Id::> 1 Name::> Ali Adress::> Cairo Salary::> 20000\n",
      "Id::> 2 Name::> Ahmed Adress::> Giza Salary::> 10000\n"
     ]
    }
   ],
   "source": [
    "class Empp :\n",
    "    EmppId     = 0\n",
    "    EmppName   = \"\"\n",
    "    EmppAddr   = \"\"\n",
    "    EmppSalary = 0\n",
    "    def __init__(self,ID,Name,Addrs,Salary) :\n",
    "        self.EmppId        =ID\n",
    "        self.EmppName      = Name\n",
    "        self.EmppAddr      = Addrs\n",
    "        self.EmppSalary    = Salary\n",
    "    def getdata (self) :\n",
    "        return  \"Id::> \" +str(self.EmppId) + \" Name::> \"+self.EmppName + \" Adress::> \"+self.EmppAddr + \" Salary::> \"+str(self.EmppSalary)\n",
    "    def printdata (self):\n",
    "        print(self.getdata())\n",
    "\n",
    "E1=Empp(1,\"Ali\",\"Cairo\",20000)\n",
    "E2=Empp(2,\"Ahmed\",\"Giza\",10000)\n",
    "\n",
    "\n",
    "print(E1.getdata())\n",
    "print(E2.getdata())"
   ]
  },
  {
   "cell_type": "code",
   "execution_count": 27,
   "metadata": {},
   "outputs": [
    {
     "name": "stdout",
     "output_type": "stream",
     "text": [
      "Id::> 1 Name::> Ali Adress::> Cairo Salary::> 20000\n",
      "Id::> 2 Name::> Ahmed Adress::> Giza Salary::> 10000\n"
     ]
    }
   ],
   "source": [
    "class Empp :\n",
    "    EmppId     = \"0\"\n",
    "    EmppName   = \"\"\n",
    "    EmppAddr   = \"\"\n",
    "    EmppSalary = \"0\"\n",
    "    def __init__(self,ID,Name,Addrs,Salary) :\n",
    "        self.EmppId        =ID\n",
    "        self.EmppName      = Name\n",
    "        self.EmppAddr      = Addrs\n",
    "        self.EmppSalary    = Salary\n",
    "    def getdata (self) :\n",
    "        return \"Id::> \" + self.EmppId + \" Name::> \"+self.EmppName + \" Adress::> \"+self.EmppAddr + \" Salary::> \"+ self.EmppSalary\n",
    "    def printdata (self):\n",
    "        print(self.getdata())\n",
    "\n",
    "E1=Empp(\"1\",\"Ali\",\"Cairo\",\"20000\")\n",
    "E2=Empp(\"2\",\"Ahmed\",\"Giza\",\"10000\")\n",
    "\n",
    "\n",
    "print(E1.getdata())\n",
    "print(E2.getdata())"
   ]
  },
  {
   "cell_type": "markdown",
   "metadata": {},
   "source": [
    "# Append Attributes to Class"
   ]
  },
  {
   "cell_type": "code",
   "execution_count": 32,
   "metadata": {},
   "outputs": [
    {
     "name": "stdout",
     "output_type": "stream",
     "text": [
      "The Name is  of T1::  Ali\n",
      "========\n",
      "The Name is of T2  :: Ahmed\n",
      "========\n",
      "The Position is of T1 ::  Data_Scientist\n",
      "==================================\n",
      "The Position is  of T2 ::  AI_Specialist\n"
     ]
    }
   ],
   "source": [
    "class Testt :\n",
    "    pass\n",
    "T1=Testt()\n",
    "T1.Name = \" Ali\"\n",
    "T1.Position = \" Data_Scientist\"\n",
    "T2=Testt()\n",
    "T2.Name=\"Ahmed\"\n",
    "T2.Position = \" AI_Specialist\"\n",
    "print(f\"The Name is  of T1:: {T1.Name}\")\n",
    "print(\"========\")\n",
    "print(f\"The Name is of T2  :: {T2.Name}\")\n",
    "print(\"========\")\n",
    "print(f\"The Position is of T1 :: {T1.Position}\")\n",
    "print(\"==================================\")\n",
    "print(f\"The Position is  of T2 :: {T2.Position}\")\n"
   ]
  },
  {
   "cell_type": "code",
   "execution_count": 34,
   "metadata": {},
   "outputs": [
    {
     "name": "stdout",
     "output_type": "stream",
     "text": [
      "Ahmed\n",
      "10000\n",
      "Cairo\n",
      "========================\n",
      "========================\n",
      "Turki\n",
      "2001013900542\n"
     ]
    }
   ],
   "source": [
    "class Emp :\n",
    "    pass\n",
    "\n",
    "E1=Emp()\n",
    "\n",
    "setattr (E1,\"Name\",\"Ahmed\")\n",
    "setattr(E1,\"City\",\"Cairo\")\n",
    "setattr(E1,\"Salary\",10000)\n",
    "\n",
    "\n",
    "E2=Emp()\n",
    "setattr(E2,\"NIck\",\"Turki\")\n",
    "setattr(E2,\"Tel\", +2001013900542)\n",
    "\n",
    "print(E1.Name)\n",
    "print(E1.Salary)\n",
    "print(E1.City)\n",
    "\n",
    "print(\"========================\")\n",
    "print(\"========================\")\n",
    "\n",
    "\n",
    "print(E2.NIck)\n",
    "print(E2.Tel)"
   ]
  },
  {
   "cell_type": "markdown",
   "metadata": {},
   "source": [
    "# Show data in Class"
   ]
  },
  {
   "cell_type": "code",
   "execution_count": 36,
   "metadata": {},
   "outputs": [
    {
     "name": "stdout",
     "output_type": "stream",
     "text": [
      " Ali\n",
      "Ahmed\n",
      " Ali\n",
      "=======================\n",
      "=======================\n",
      "Ahmed\n"
     ]
    }
   ],
   "source": [
    "class Testt :\n",
    "    def ShowN (self) :\n",
    "        print(self.Name)\n",
    "    pass\n",
    "T1=Testt()\n",
    "T1.Name = \" Ali\"\n",
    "T2=Testt()\n",
    "T2.Name=\"Ahmed\"\n",
    "\n",
    "print(T1.Name)\n",
    "print(T2.Name)\n",
    "\n",
    "T1.ShowN()\n",
    "\n",
    "print(\"=======================\")\n",
    "\n",
    "print(\"=======================\")\n",
    "\n",
    "T2.ShowN()"
   ]
  },
  {
   "cell_type": "markdown",
   "metadata": {},
   "source": [
    "# Destructor or delet  Object"
   ]
  },
  {
   "cell_type": "code",
   "execution_count": 38,
   "metadata": {},
   "outputs": [
    {
     "name": "stdout",
     "output_type": "stream",
     "text": [
      "Created Object done\n",
      "Deleted Object done\n",
      "Created Object done\n",
      "Deleted Object done\n",
      "Created Object done\n",
      "Deleted Object done\n",
      "======================\n",
      "======================\n",
      "Deleted Object done\n",
      "Deleted Object done\n"
     ]
    }
   ],
   "source": [
    "class Test :\n",
    "    def __init__(self) :                 # func Of create\n",
    "        print(\"Created Object done\")\n",
    "    def __del__(self) :                 # Func Of delete\n",
    "        print(\"Deleted Object done\")\n",
    "        \n",
    "#create T1 ,T2, T3        \n",
    "        \n",
    "   \n",
    "\n",
    "T1=Test()\n",
    "T2=Test()\n",
    "T3=Test()\n",
    "\n",
    "print(\"======================\")\n",
    "print(\"======================\")\n",
    "\n",
    "#Delete T3,T2\n",
    "\n",
    "del T3\n",
    "del T2\n"
   ]
  },
  {
   "cell_type": "markdown",
   "metadata": {},
   "source": [
    "# get Attributies  Func"
   ]
  },
  {
   "cell_type": "code",
   "execution_count": 39,
   "metadata": {},
   "outputs": [
    {
     "name": "stdout",
     "output_type": "stream",
     "text": [
      "Ahmed\n",
      "100000\n",
      "==========================\n",
      "Turki\n",
      "2001013900542\n"
     ]
    }
   ],
   "source": [
    "class Emp :\n",
    "    Name = \"Ahmed\"\n",
    "    \n",
    "    \n",
    "    \n",
    "E1=Emp()\n",
    "E1.Salary=100000\n",
    "\n",
    "print(getattr(E1,\"Name\"))\n",
    "print(getattr(E1,\"Salary\"))\n",
    "\n",
    "print(\"==========================\")\n",
    "\n",
    "E2=Emp()\n",
    "E2.Nick=\"Turki\"\n",
    "E2.Tel=+2001013900542\n",
    "\n",
    "\n",
    "\n",
    "print(getattr(E2,\"Nick\"))\n",
    "print(getattr(E2,\"Tel\"))"
   ]
  },
  {
   "cell_type": "markdown",
   "metadata": {},
   "source": [
    "# has Attrbuties"
   ]
  },
  {
   "cell_type": "code",
   "execution_count": 43,
   "metadata": {},
   "outputs": [
    {
     "name": "stdout",
     "output_type": "stream",
     "text": [
      "True\n",
      "True\n",
      "False\n",
      "==========================\n",
      "==========================\n",
      "==========================\n",
      "True\n",
      "True\n",
      "False\n"
     ]
    }
   ],
   "source": [
    "class Emp :\n",
    "    Name = \"Ahmed\"\n",
    "    \n",
    "    \n",
    "    \n",
    "E1=Emp()\n",
    "E1.Salary=100000\n",
    "\n",
    "print(hasattr(E1,\"Name\"))\n",
    "print(hasattr(E1,\"Salary\"))\n",
    "print(hasattr(E1,\"Id\"))\n",
    "\n",
    "print(\"==========================\")\n",
    "print(\"==========================\")\n",
    "\n",
    "print(\"==========================\")\n",
    "\n",
    "\n",
    "E2=Emp()\n",
    "E2.Nick=\"Turki\"\n",
    "E2.Tel=+2001013900542\n",
    "\n",
    "\n",
    "\n",
    "print(hasattr(E2,\"Nick\"))\n",
    "print(hasattr(E2,\"Tel\"))\n",
    "print(hasattr(E2,\"Position\"))\n"
   ]
  },
  {
   "cell_type": "markdown",
   "metadata": {},
   "source": [
    "# Delet Attributies"
   ]
  },
  {
   "cell_type": "code",
   "execution_count": 46,
   "metadata": {},
   "outputs": [
    {
     "name": "stdout",
     "output_type": "stream",
     "text": [
      "Empty\n",
      "True\n",
      "============\n",
      "Ahmed\n",
      "==============\n",
      "Ahmed\n",
      "Empty\n"
     ]
    }
   ],
   "source": [
    "class Emp :\n",
    "    Name =\"Empty\"\n",
    "    \n",
    "    \n",
    "E1=Emp()\n",
    "\n",
    "print(E1.Name)\n",
    "E1.Name=\"Ahmed\"\n",
    "print(hasattr(E1,\"Name\"))\n",
    "print(\"============\")\n",
    "\n",
    "print(getattr(E1,\"Name\"))\n",
    "print(\"==============\")\n",
    "\n",
    "print(E1.Name)\n",
    "\n",
    "delattr(E1,\"Name\")    # any Attributies not Found at Class Give Us Error\n",
    "\n",
    "print(E1.Name)"
   ]
  },
  {
   "cell_type": "markdown",
   "metadata": {},
   "source": [
    "# Inner or Nested Class"
   ]
  },
  {
   "cell_type": "code",
   "execution_count": 49,
   "metadata": {},
   "outputs": [
    {
     "name": "stdout",
     "output_type": "stream",
     "text": [
      "The Name of C1.Name is :: LaB\n",
      "=================================\n",
      "The Type of C1.Hard.Type is :: HD\n",
      "=================================\n",
      "The Size of C1.Ram.Size is :: 32\n"
     ]
    }
   ],
   "source": [
    "class Comp :\n",
    "    Name =\"LaB\"\n",
    "    Gender=7\n",
    "    class Hard :\n",
    "        Type = \"HD\"\n",
    "        Size =1000\n",
    "    class Ram :\n",
    "        Type =\"4G\"\n",
    "        Size = 32\n",
    "        \n",
    "    \n",
    "C1=Comp()\n",
    "print(f\"The Name of C1.Name is :: {C1.Name}\" )\n",
    "print(\"=================================\")\n",
    "print(f\"The Type of C1.Hard.Type is :: {C1.Hard.Type}\")\n",
    "print(\"=================================\")\n",
    "\n",
    "print(f\"The Size of C1.Ram.Size is :: {C1.Ram.Size}\")\n",
    "    "
   ]
  },
  {
   "cell_type": "markdown",
   "metadata": {},
   "source": [
    "# Secret Attributies  And Function"
   ]
  },
  {
   "cell_type": "code",
   "execution_count": 59,
   "metadata": {},
   "outputs": [
    {
     "name": "stdout",
     "output_type": "stream",
     "text": [
      "Turki\n",
      "Hello  :: Turki\n",
      "=================\n",
      "False\n",
      "True\n"
     ]
    },
    {
     "ename": "AttributeError",
     "evalue": "'T' object has no attribute '__Tname'",
     "output_type": "error",
     "traceback": [
      "\u001b[1;31m---------------------------------------------------------------------------\u001b[0m",
      "\u001b[1;31mAttributeError\u001b[0m                            Traceback (most recent call last)",
      "\u001b[1;32m<ipython-input-59-53302f09fda3>\u001b[0m in \u001b[0;36m<module>\u001b[1;34m\u001b[0m\n\u001b[0;32m     21\u001b[0m \u001b[0mprint\u001b[0m\u001b[1;33m(\u001b[0m\u001b[0mhasattr\u001b[0m\u001b[1;33m(\u001b[0m\u001b[0mT\u001b[0m \u001b[1;33m,\u001b[0m \u001b[1;34m\"Tnamee\"\u001b[0m\u001b[1;33m)\u001b[0m\u001b[1;33m)\u001b[0m\u001b[1;33m\u001b[0m\u001b[1;33m\u001b[0m\u001b[0m\n\u001b[0;32m     22\u001b[0m \u001b[1;33m\u001b[0m\u001b[0m\n\u001b[1;32m---> 23\u001b[1;33m \u001b[0mprint\u001b[0m\u001b[1;33m(\u001b[0m\u001b[0mT1\u001b[0m\u001b[1;33m.\u001b[0m\u001b[0m__Tname\u001b[0m\u001b[1;33m)\u001b[0m\u001b[1;33m\u001b[0m\u001b[1;33m\u001b[0m\u001b[0m\n\u001b[0m\u001b[0;32m     24\u001b[0m \u001b[0mT1\u001b[0m\u001b[1;33m.\u001b[0m\u001b[0m__printname\u001b[0m\u001b[1;33m(\u001b[0m\u001b[1;33m)\u001b[0m\u001b[1;33m\u001b[0m\u001b[1;33m\u001b[0m\u001b[0m\n",
      "\u001b[1;31mAttributeError\u001b[0m: 'T' object has no attribute '__Tname'"
     ]
    }
   ],
   "source": [
    " # Secret    Not Define\n",
    "\n",
    "\n",
    "class T :\n",
    "    __Tname =  \"Teto\"\n",
    "    Tnamee = \"Turki\"\n",
    "    \n",
    "    def __printname (self) :\n",
    "        print(\"Hello\" + self.name)\n",
    "        \n",
    "    def print_data (self) :\n",
    "        print(f\"Hello  :: {self.Tnamee}\")\n",
    "\n",
    "        \n",
    "T1=T()\n",
    "print(T1.Tnamee)\n",
    "T1.print_data()\n",
    "\n",
    "print(\"=================\")\n",
    "print(hasattr(T , \"Tname\"))\n",
    "print(hasattr(T , \"Tnamee\"))\n",
    "\n",
    "print(T1.__Tname)\n",
    "T1.__printname()"
   ]
  },
  {
   "cell_type": "code",
   "execution_count": 60,
   "metadata": {},
   "outputs": [
    {
     "name": "stdout",
     "output_type": "stream",
     "text": [
      "Ahmed\n",
      "HelloAhmed\n"
     ]
    }
   ],
   "source": [
    "# Not Secret Define\n",
    "\n",
    "class Test :\n",
    "    name =\"Ahmed\"\n",
    "    \n",
    "    def printname (self):\n",
    "        print(\"Hello\"  + self.name)\n",
    "        \n",
    "    \n",
    "T1=Test()\n",
    "\n",
    "print(T1.name)\n",
    "T1.printname()"
   ]
  },
  {
   "cell_type": "markdown",
   "metadata": {},
   "source": [
    "# Index of objects"
   ]
  },
  {
   "cell_type": "code",
   "execution_count": 61,
   "metadata": {},
   "outputs": [
    {
     "name": "stdout",
     "output_type": "stream",
     "text": [
      "1 ; Ali ; Cairo ; 20000\n",
      "2 ; Ahmed ; Giza ; 10000\n",
      "3 ; Mido ; Tanta ; 30000\n",
      "4 ; Turki ; naser city ; 40000\n",
      "0\n",
      "1\n",
      "2\n",
      "3\n",
      "count(4)\n",
      "count(4)\n",
      "count(4)\n",
      "count(4)\n"
     ]
    }
   ],
   "source": [
    "from itertools import count\n",
    "\n",
    "class Empp :\n",
    "    objectscount = count(0)     #constant for all object\n",
    "    index        = 0    # change every time\n",
    "    EmppId       = 0\n",
    "    EmppName     = \"\"\n",
    "    EmppAddr     = \"\"\n",
    "    EmppSalary   = 0\n",
    "    \n",
    "  \n",
    "        \n",
    "    def __init__(self,ID,Name,Addrs,Salary) :\n",
    "        self.index         =next(self.objectscount)\n",
    "        \n",
    "        self.EmppId        =ID\n",
    "        self.EmppName      = Name\n",
    "        self.EmppAddr      = Addrs\n",
    "        self.EmppSalary    = Salary\n",
    "        \n",
    "    \n",
    "        \n",
    "    def getdata (self) :\n",
    "        return str(self.EmppId) +\" ; \"+self.EmppName+\" ; \"+self.EmppAddr+\" ; \"+str(self.EmppSalary)\n",
    "    def printdata (self):\n",
    "        print(self.getdata())\n",
    "\n",
    "E1=Empp(1,\"Ali\",\"Cairo\",20000)\n",
    "E2=Empp(2,\"Ahmed\",\"Giza\",10000)\n",
    "E3=Empp(3,\"Mido\",\"Tanta\",30000)\n",
    "E4=Empp(4,\"Turki\",\"naser city\",40000)\n",
    "\n",
    "\n",
    "print(E1.getdata())\n",
    "print(E2.getdata())\n",
    "print(E3.getdata())\n",
    "print(E4.getdata())\n",
    "\n",
    "\n",
    "print(E1.index)\n",
    "print(E2.index)\n",
    "print(E3.index)\n",
    "print(E4.index)\n",
    "\n",
    "\n",
    "\n",
    "\n",
    "print(E1.objectscount)\n",
    "print(E2.objectscount)\n",
    "print(E3.objectscount)\n",
    "print(E4.objectscount)"
   ]
  },
  {
   "cell_type": "markdown",
   "metadata": {},
   "source": [
    "# Gloal Variable Inside Class"
   ]
  },
  {
   "cell_type": "code",
   "execution_count": 62,
   "metadata": {},
   "outputs": [
    {
     "name": "stdout",
     "output_type": "stream",
     "text": [
      "100\n",
      "1 ; Ahmed ; Cairo ; 20000\n"
     ]
    }
   ],
   "source": [
    "X=0                   # initial value of X\n",
    "class Emp :\n",
    "    Id     = 0\n",
    "    Name   = \"\"\n",
    "    Addrs  = \"\"\n",
    "    Salary = 0\n",
    "    global X        # define X in Class\n",
    "    X=100           # give Variable  Value\n",
    "    \n",
    "    def getdata (self) :\n",
    "        return str(self.Id)+\" ; \"+self.Name+\" ; \"+self.Addrs+\" ; \"+str(self.Salary)\n",
    "    def printdata (self) :\n",
    "        print(self.getdata())\n",
    "        \n",
    "E1=Emp ()\n",
    "print(X)\n",
    "E1.Id=1\n",
    "E1.Name=\"Ahmed\"\n",
    "E1.Addrs=\"Cairo\"\n",
    "E1.Salary=20000\n",
    "print(E1.getdata())"
   ]
  },
  {
   "cell_type": "code",
   "execution_count": 63,
   "metadata": {},
   "outputs": [
    {
     "name": "stdout",
     "output_type": "stream",
     "text": [
      "200\n",
      "1 ; Ahmed ; Cairo ; 20000\n"
     ]
    }
   ],
   "source": [
    "X=0             # initial value of X\n",
    "class Emp :\n",
    "    Id     = 0\n",
    "    Name   = \"\"\n",
    "    Addrs  = \"\"\n",
    "    Salary = 0\n",
    "    \n",
    "    def changeX(self,Num) :     # Creat fun to change X\n",
    "        global X                # define X in Class\n",
    "        \n",
    "        X=Num                   # Give X Value From User\n",
    "       \n",
    "\n",
    "\n",
    "    def getdata (self) :\n",
    "        return str(self.Id)+\" ; \"+self.Name+\" ; \"+self.Addrs+\" ; \"+str(self.Salary)\n",
    "    def printdata (self) :\n",
    "        print(self.getdata())\n",
    "        \n",
    "E1=Emp ()\n",
    "E1.changeX(200)\n",
    "print(X)\n",
    "E1.Id=1\n",
    "E1.Name=\"Ahmed\"\n",
    "E1.Addrs=\"Cairo\"\n",
    "E1.Salary=20000\n",
    "print(E1.getdata())"
   ]
  },
  {
   "cell_type": "code",
   "execution_count": 64,
   "metadata": {},
   "outputs": [
    {
     "name": "stdout",
     "output_type": "stream",
     "text": [
      "3\n",
      "1 ; Ahmed ; Cairo ; 20000\n",
      "2 ; Ali ; Giza ; 50000\n",
      "3 ; Mido ; Naser City ; 60000\n"
     ]
    }
   ],
   "source": [
    "X=0             # initial value of X\n",
    "class Emp :\n",
    "    Id     = 0\n",
    "    Name   = \"\"\n",
    "    Addrs  = \"\"\n",
    "    Salary = 0\n",
    "    \n",
    "    def __init__(self) :   # fun of Count\n",
    "        \n",
    "        global X           # define X in Class\n",
    "        X+=1               # increament\n",
    "            \n",
    "    \n",
    "    def getdata (self) :\n",
    "        return str(self.Id)+\" ; \"+self.Name+\" ; \"+self.Addrs+\" ; \"+str(self.Salary)\n",
    "    def printdata (self) :\n",
    "        print(self.getdata())\n",
    "        \n",
    "E1=Emp ()\n",
    "E2=Emp()\n",
    "E3=Emp()\n",
    "print(X)\n",
    "E1.Id=1\n",
    "E1.Name=\"Ahmed\"\n",
    "E1.Addrs=\"Cairo\"\n",
    "E1.Salary=20000\n",
    "print(E1.getdata())\n",
    "E2.Id=2\n",
    "E2.Name=\"Ali\"\n",
    "E2.Addrs=\"Giza\"\n",
    "E2.Salary=50000\n",
    "print(E2.getdata())\n",
    "E3.Id=3\n",
    "E3.Name=\"Mido\"\n",
    "E3.Addrs=\"Naser City\"\n",
    "E3.Salary=60000\n",
    "E3.printdata()"
   ]
  },
  {
   "cell_type": "code",
   "execution_count": null,
   "metadata": {},
   "outputs": [],
   "source": []
  }
 ],
 "metadata": {
  "kernelspec": {
   "display_name": "Python 3",
   "language": "python",
   "name": "python3"
  },
  "language_info": {
   "codemirror_mode": {
    "name": "ipython",
    "version": 3
   },
   "file_extension": ".py",
   "mimetype": "text/x-python",
   "name": "python",
   "nbconvert_exporter": "python",
   "pygments_lexer": "ipython3",
   "version": "3.7.4"
  }
 },
 "nbformat": 4,
 "nbformat_minor": 2
}
