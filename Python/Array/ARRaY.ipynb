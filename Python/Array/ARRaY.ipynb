{
 "cells": [
  {
   "cell_type": "markdown",
   "metadata": {},
   "source": [
    "# Array in Python"
   ]
  },
  {
   "cell_type": "code",
   "execution_count": 1,
   "metadata": {},
   "outputs": [
    {
     "name": "stdout",
     "output_type": "stream",
     "text": [
      "array('i', [10, 20, 30, 40, 50])\n"
     ]
    }
   ],
   "source": [
    "from array import * #(* get all function of arr)\n",
    "vals=array(\"i\",[10,20,30,40,50])\n",
    "print(vals)"
   ]
  },
  {
   "cell_type": "code",
   "execution_count": 3,
   "metadata": {},
   "outputs": [
    {
     "name": "stdout",
     "output_type": "stream",
     "text": [
      "(42121138032, 5)\n"
     ]
    }
   ],
   "source": [
    "print(vals.buffer_info()) #get(id ,,, lens of arrt)"
   ]
  },
  {
   "cell_type": "code",
   "execution_count": 6,
   "metadata": {},
   "outputs": [
    {
     "name": "stdout",
     "output_type": "stream",
     "text": [
      "i\n"
     ]
    }
   ],
   "source": [
    "print(vals.typecode) # type of arr"
   ]
  },
  {
   "cell_type": "code",
   "execution_count": 7,
   "metadata": {},
   "outputs": [
    {
     "name": "stdout",
     "output_type": "stream",
     "text": [
      "array('i', [50, 40, 30, 20, 10])\n"
     ]
    }
   ],
   "source": [
    "vals.reverse() # retwet values of arr\n",
    "print(vals)"
   ]
  },
  {
   "cell_type": "code",
   "execution_count": 9,
   "metadata": {},
   "outputs": [
    {
     "name": "stdout",
     "output_type": "stream",
     "text": [
      "50\n"
     ]
    }
   ],
   "source": [
    "print(vals[0])"
   ]
  },
  {
   "cell_type": "code",
   "execution_count": 11,
   "metadata": {},
   "outputs": [
    {
     "name": "stdout",
     "output_type": "stream",
     "text": [
      "50\n",
      "40\n",
      "30\n",
      "20\n",
      "10\n"
     ]
    }
   ],
   "source": [
    "for i in vals :  # made loop a arr\n",
    "    print(i)"
   ]
  },
  {
   "cell_type": "code",
   "execution_count": 16,
   "metadata": {},
   "outputs": [
    {
     "name": "stdout",
     "output_type": "stream",
     "text": [
      "50\n",
      "40\n",
      "30\n",
      "20\n",
      "10\n"
     ]
    }
   ],
   "source": [
    "ar=array(vals.typecode ,(a for a in vals)) # made new arr of the same proto type\n",
    "for i in ar :\n",
    "    print(i)"
   ]
  },
  {
   "cell_type": "code",
   "execution_count": 18,
   "metadata": {},
   "outputs": [
    {
     "name": "stdout",
     "output_type": "stream",
     "text": [
      "2500\n",
      "1600\n",
      "900\n",
      "400\n",
      "100\n"
     ]
    }
   ],
   "source": [
    "ar=array(vals.typecode ,(a*a for a in vals)) # made new arr of ((2))the same arr proto type\n",
    "for i in ar :\n",
    "    print(i)"
   ]
  },
  {
   "cell_type": "code",
   "execution_count": 30,
   "metadata": {},
   "outputs": [
    {
     "name": "stdout",
     "output_type": "stream",
     "text": [
      "Enter the arr size :5\n",
      "Enter numbers:10\n",
      "Enter numbers:20\n",
      "Enter numbers:30\n",
      "Enter numbers:40\n",
      "Enter numbers:50\n",
      "array('i', [10, 20, 30, 40, 50])\n"
     ]
    }
   ],
   "source": [
    "from array import *  #creat arry fom user\n",
    "A=array(\"i\",[])\n",
    "U=int(input(\"Enter the arr size :\"))\n",
    "for i in range(U) :\n",
    "    X=int(input(\"Enter numbers:\"))\n",
    "    A.append(X)\n",
    "print(A)\n",
    "    \n",
    "    \n"
   ]
  },
  {
   "cell_type": "code",
   "execution_count": 34,
   "metadata": {},
   "outputs": [
    {
     "name": "stdout",
     "output_type": "stream",
     "text": [
      "Enter the arr size :5\n",
      "Enter numbers:10\n",
      "Enter numbers:20\n",
      "Enter numbers:30\n",
      "Enter numbers:40\n",
      "Enter numbers:50\n",
      "array('i', [10, 20, 30, 40, 50])\n",
      "Enter the number u search :40\n",
      "3\n",
      "3\n"
     ]
    }
   ],
   "source": [
    "from array import *  #creat arry fom user\n",
    "A=array(\"i\",[])\n",
    "U=int(input(\"Enter the arr size :\"))\n",
    "for i in range(U) :\n",
    "    X=int(input(\"Enter numbers:\"))\n",
    "    A.append(X)\n",
    "print(A)\n",
    "\n",
    "k=0   # found its count\n",
    "val=int(input(\"Enter the number u search :\"))\n",
    "for N in A :\n",
    "    if N==val :\n",
    "        print(k)\n",
    "        break\n",
    "    k+=1\n",
    "print(A.index(val)) # to know the index of val me want"
   ]
  },
  {
   "cell_type": "code",
   "execution_count": null,
   "metadata": {},
   "outputs": [],
   "source": []
  }
 ],
 "metadata": {
  "kernelspec": {
   "display_name": "Python 3",
   "language": "python",
   "name": "python3"
  },
  "language_info": {
   "codemirror_mode": {
    "name": "ipython",
    "version": 3
   },
   "file_extension": ".py",
   "mimetype": "text/x-python",
   "name": "python",
   "nbconvert_exporter": "python",
   "pygments_lexer": "ipython3",
   "version": "3.7.4"
  }
 },
 "nbformat": 4,
 "nbformat_minor": 2
}
