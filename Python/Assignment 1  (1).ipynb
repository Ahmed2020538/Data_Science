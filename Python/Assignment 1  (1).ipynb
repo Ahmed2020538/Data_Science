{
 "cells": [
  {
   "cell_type": "markdown",
   "metadata": {},
   "source": [
    "# 1 _ Get The circumference of a circle ::\n",
    "\n",
    "# M=2rt          >>t = 3.14\n"
   ]
  },
  {
   "cell_type": "code",
   "execution_count": 1,
   "metadata": {},
   "outputs": [
    {
     "name": "stdout",
     "output_type": "stream",
     "text": [
      "Enter the Reduis pls ::8\n",
      "the circumference = 50.24\n"
     ]
    }
   ],
   "source": [
    "r1 = float(input(\"Enter the Reduis pls ::\"))\n",
    "M  =   2*r1*3.14\n",
    "print(\"the circumference =\" , M)"
   ]
  },
  {
   "cell_type": "markdown",
   "metadata": {},
   "source": [
    "# 2 - Get the Circle area ::\n",
    "#  A = t*r*r   t = 3.14\n"
   ]
  },
  {
   "cell_type": "code",
   "execution_count": 2,
   "metadata": {},
   "outputs": [
    {
     "name": "stdout",
     "output_type": "stream",
     "text": [
      "Enter the Reduis pls :: 13\n",
      "the Area =  530.66\n"
     ]
    }
   ],
   "source": [
    "r2 = float(input(\"Enter the Reduis pls :: \"))\n",
    "A  = 3.14*r2**2\n",
    "print(\"the Area = \" , A)"
   ]
  },
  {
   "cell_type": "markdown",
   "metadata": {},
   "source": [
    "\n",
    "# 3 - Get Perimeter of the rectangle\n",
    "# M2 = (X + Y ) *2\n"
   ]
  },
  {
   "cell_type": "code",
   "execution_count": 3,
   "metadata": {},
   "outputs": [
    {
     "name": "stdout",
     "output_type": "stream",
     "text": [
      "Enter The Length :10\n",
      "Enter The Width :25\n",
      "Perimeter of the rectangle =  50.24\n"
     ]
    }
   ],
   "source": [
    "X  = int(input(\"Enter The Length :\"))\n",
    "Y  = int(input(\"Enter The Width :\"))\n",
    "\n",
    "\n",
    "M2 = (X + Y)*2\n",
    "print(\"Perimeter of the rectangle = \" , M)"
   ]
  },
  {
   "cell_type": "markdown",
   "metadata": {},
   "source": [
    "# 4 - Get the rectangle area ::\n",
    "# A2 =  X * Y\n",
    "\n"
   ]
  },
  {
   "cell_type": "code",
   "execution_count": 4,
   "metadata": {},
   "outputs": [
    {
     "name": "stdout",
     "output_type": "stream",
     "text": [
      "Enter the Length :25\n",
      "Enter the Width :12\n",
      "the rectangle area =  300\n"
     ]
    }
   ],
   "source": [
    "X  = int(input(\"Enter the Length :\"))\n",
    "Y  = int(input(\"Enter the Width :\"))\n",
    "A2 = X*Y\n",
    "print(\"the rectangle area = \" , A2)"
   ]
  },
  {
   "cell_type": "markdown",
   "metadata": {},
   "source": [
    "# 5 - Perimeter of a parallelogram\n",
    "# M3 = X + Y + Z + L"
   ]
  },
  {
   "cell_type": "code",
   "execution_count": 6,
   "metadata": {},
   "outputs": [
    {
     "name": "stdout",
     "output_type": "stream",
     "text": [
      "Enter the Value of X :10\n",
      "Enter the value of Y :15\n",
      "Enter the value of Z :12\n",
      "Enter the value of L :20\n",
      "the Perimeter of a parallelogram =  57.0\n"
     ]
    }
   ],
   "source": [
    "X  = float(input(\"Enter the Value of X :\"))\n",
    "Y  = float(input(\"Enter the value of Y :\"))\n",
    "Z  = float(input(\"Enter the value of Z :\"))\n",
    "L  = float(input(\"Enter the value of L :\"))\n",
    "\n",
    "M3 = X + Y + Z +L\n",
    "print(\"the Perimeter of a parallelogram = \", M3)"
   ]
  },
  {
   "cell_type": "markdown",
   "metadata": {},
   "source": [
    "# 6 - get the Area of  parallelogram\n",
    "# A3"
   ]
  },
  {
   "cell_type": "code",
   "execution_count": 8,
   "metadata": {},
   "outputs": [
    {
     "name": "stdout",
     "output_type": "stream",
     "text": [
      "Enter the length :15\n",
      "Enter the hight :10\n",
      "the Area of parallelogram =  150.0\n"
     ]
    }
   ],
   "source": [
    "Y  = float(input(\"Enter the length :\"))\n",
    "H  = float(input(\"Enter the hight :\"))\n",
    "M6 = Y * H\n",
    "print(\"the Area of parallelogram = \", M6)"
   ]
  },
  {
   "cell_type": "markdown",
   "metadata": {},
   "source": [
    "# 7 - get  The volume of a parallelogram ::\n",
    "# S = X * Y * H\n"
   ]
  },
  {
   "cell_type": "code",
   "execution_count": 9,
   "metadata": {},
   "outputs": [
    {
     "name": "stdout",
     "output_type": "stream",
     "text": [
      "Enter the length :12\n",
      "Enter the Width :20\n",
      "Enter  the hight :10\n",
      "The volume of a parallelogram =  2400\n"
     ]
    }
   ],
   "source": [
    "X =  int(input(\"Enter the length :\"))\n",
    "\n",
    "Y =  int(input(\"Enter the Width :\"))\n",
    "\n",
    "H =  int(input(\"Enter  the hight :\"))\n",
    "\n",
    "S =  X * Y * H\n",
    "\n",
    "print(\"The volume of a parallelogram = \" , S)"
   ]
  },
  {
   "cell_type": "markdown",
   "metadata": {},
   "source": [
    "# 8 - we can do any Arithmetic operation using fun Eval on one Step"
   ]
  },
  {
   "cell_type": "code",
   "execution_count": 13,
   "metadata": {},
   "outputs": [
    {
     "name": "stdout",
     "output_type": "stream",
     "text": [
      "Enter the equation pls ::  10+15-8*2+(24//4)-15+8**2\n",
      "The result =  64\n"
     ]
    }
   ],
   "source": [
    "X = eval(input(\"Enter the equation pls ::  \")) \n",
    "print(\"The result = \" , X)"
   ]
  },
  {
   "cell_type": "code",
   "execution_count": null,
   "metadata": {},
   "outputs": [],
   "source": []
  }
 ],
 "metadata": {
  "kernelspec": {
   "display_name": "Python 3",
   "language": "python",
   "name": "python3"
  },
  "language_info": {
   "codemirror_mode": {
    "name": "ipython",
    "version": 3
   },
   "file_extension": ".py",
   "mimetype": "text/x-python",
   "name": "python",
   "nbconvert_exporter": "python",
   "pygments_lexer": "ipython3",
   "version": "3.7.4"
  }
 },
 "nbformat": 4,
 "nbformat_minor": 2
}
