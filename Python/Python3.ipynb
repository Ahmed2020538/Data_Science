{
 "cells": [
  {
   "cell_type": "markdown",
   "metadata": {},
   "source": [
    "# 1 :: Open Filies"
   ]
  },
  {
   "cell_type": "code",
   "execution_count": 3,
   "metadata": {},
   "outputs": [
    {
     "name": "stdout",
     "output_type": "stream",
     "text": [
      "I liebe dich  and nemaind verstate mich\n"
     ]
    }
   ],
   "source": [
    "# open_file with full path\n",
    "\n",
    "my_file = open(\"G:/Data Field/D..S..Course./my_file.txt\" , \"r\")\n",
    "# read file\n",
    "print(my_file.read())\n",
    "# Must close file to save\n",
    "my_file.close()\n",
    "\n"
   ]
  },
  {
   "cell_type": "code",
   "execution_count": 4,
   "metadata": {},
   "outputs": [
    {
     "name": "stdout",
     "output_type": "stream",
     "text": [
      "['I bin Ahmed\\n', '\\n', 'Ich komme aus kairo\\n', '\\n', 'Ich arbiete data scientist\\n', '\\n', '\\n', '\\n']\n"
     ]
    }
   ],
   "source": [
    "# open file\n",
    "my_file2 = open(\"G:/Data Field/D..S..Course./my_file2.txt\" ,\"r\")\n",
    "print(my_file2.readlines())\n",
    "my_file2.close()"
   ]
  },
  {
   "cell_type": "markdown",
   "metadata": {},
   "source": [
    "# 2 _1 :: Read files "
   ]
  },
  {
   "cell_type": "code",
   "execution_count": 11,
   "metadata": {},
   "outputs": [
    {
     "name": "stdout",
     "output_type": "stream",
     "text": [
      "I li\n",
      "==============\n",
      "ebe \n",
      "==============\n",
      "8\n",
      "==============\n",
      "0\n",
      "==============\n",
      "I liebe dich  and nemaind verstate mich\n"
     ]
    }
   ],
   "source": [
    "my_file = open(\"G:/Data Field/D..S..Course./my_file.txt\" , \"r\")\n",
    "\n",
    "print(my_file.read(4))\n",
    "print(\"==============\")\n",
    "print(my_file.read(4))\n",
    "print(\"==============\")\n",
    "print(my_file.tell())   # to know where the pointer stop\n",
    "print(\"==============\")\n",
    "print(my_file.seek(0))  # To make the pointer start from scratch\n",
    "\n",
    "print(\"==============\")\n",
    "print(my_file.read())\n",
    "\n",
    "\n",
    "\n"
   ]
  },
  {
   "cell_type": "markdown",
   "metadata": {},
   "source": [
    "# 2 _2 :: Readlines in files"
   ]
  },
  {
   "cell_type": "code",
   "execution_count": 19,
   "metadata": {},
   "outputs": [
    {
     "name": "stdout",
     "output_type": "stream",
     "text": [
      "['I bin Ahmed\\n', '\\n', 'Ich komme aus kairo\\n', '\\n', 'Ich arbiete data scientist\\n', '\\n', '\\n', '\\n']\n",
      "==============\n",
      "[]\n",
      "==============\n",
      "72\n",
      "==============\n",
      "0\n",
      "==============\n",
      "==============\n",
      "['I bin Ahmed\\n', '\\n', 'Ich komme aus kairo\\n', '\\n', 'Ich arbiete data scientist\\n', '\\n', '\\n', '\\n']\n",
      "==============\n"
     ]
    }
   ],
   "source": [
    "my_file2 = open(\"G:/Data Field/D..S..Course./my_file2.txt\" , \"r\")\n",
    "print(my_file2.readlines())\n",
    "print(\"==============\")\n",
    "print(my_file2.readlines(2))\n",
    "print(\"==============\")\n",
    "print(my_file2.tell())\n",
    "\n",
    "print(\"==============\")\n",
    "print(my_file2.seek(0))\n",
    "print(\"==============\")\n",
    "print(\"==============\")\n",
    "print(my_file2.readlines())\n",
    "print(\"==============\")\n",
    "my_file2.close()\n"
   ]
  },
  {
   "cell_type": "markdown",
   "metadata": {},
   "source": [
    "# 3 _1 :: Write  data in file"
   ]
  },
  {
   "cell_type": "code",
   "execution_count": 25,
   "metadata": {},
   "outputs": [],
   "source": [
    "my_file3 = open(\"G:/Data Field/D..S..Course./my_file3.txt\" , \"w\")\n",
    "my_file3.write(\"Hello World\")\n",
    "my_file3.seek(0)\n",
    "my_file3.close()\n"
   ]
  },
  {
   "cell_type": "markdown",
   "metadata": {},
   "source": [
    "# 3_2 :: Write and read file"
   ]
  },
  {
   "cell_type": "code",
   "execution_count": 30,
   "metadata": {},
   "outputs": [
    {
     "name": "stdout",
     "output_type": "stream",
     "text": [
      "\n",
      " I Love Python \n",
      "\n"
     ]
    }
   ],
   "source": [
    "my_file3 = open(\"G:/Data Field/D..S..Course./my_file3.txt\" , \"w+\")\n",
    "my_file3.write(\"\\n I Love Python \\n\")\n",
    "print(my_file3.read())\n"
   ]
  },
  {
   "cell_type": "markdown",
   "metadata": {},
   "source": [
    "# 3_3 :: write and read lines in file"
   ]
  },
  {
   "cell_type": "code",
   "execution_count": 59,
   "metadata": {},
   "outputs": [
    {
     "name": "stdout",
     "output_type": "stream",
     "text": [
      "==============\n",
      "['Meine Name ist Ahmed \\n', 'Ich bin 27 jahre alt\\n', 'Ich schreibe ein breif']\n",
      "==============\n"
     ]
    },
    {
     "data": {
      "text/plain": [
       "'ICH SCHREIBE EIN BREIF'"
      ]
     },
     "execution_count": 59,
     "metadata": {},
     "output_type": "execute_result"
    }
   ],
   "source": [
    "my_file4 = open(\"G:/Data Field/D..S..Course./my_file4.txt\" , \"w+\")\n",
    "l = [\"Meine Name ist Ahmed \\n\" , \"Ich bin 27 jahre alt\\n\" , \"Ich schreibe ein breif\" ]\n",
    "my_file4.writelines(l)\n",
    "print(\"==============\")\n",
    "lines = my_file4.readlines()\n",
    "print(lines)\n",
    "print(\"==============\")\n",
    "lines[2].upper()\n",
    "\n",
    "\n",
    "\n",
    "\n"
   ]
  },
  {
   "cell_type": "code",
   "execution_count": 60,
   "metadata": {},
   "outputs": [
    {
     "name": "stdout",
     "output_type": "stream",
     "text": [
      "Meine Name ist Ahmed \n",
      "\n",
      "==============\n",
      "Ich bin 27 jahre alt\n",
      "\n",
      "==============\n",
      "Ich schreibe ein breif\n"
     ]
    }
   ],
   "source": [
    "print(lines[0])\n",
    "print(\"==============\")\n",
    "print(lines[1])\n",
    "print(\"==============\")\n",
    "print(lines[2])\n",
    "my_file4.close()"
   ]
  },
  {
   "cell_type": "markdown",
   "metadata": {},
   "source": [
    "# 4_1 :: Append \n",
    "_to add and read and dont change content of file"
   ]
  },
  {
   "cell_type": "code",
   "execution_count": 62,
   "metadata": {},
   "outputs": [
    {
     "name": "stdout",
     "output_type": "stream",
     "text": [
      "['\\n', 'Mine Telefon nummer ist 01013900542']\n"
     ]
    }
   ],
   "source": [
    "T = open(\"G:/Data Field/D..S..Course./Test.txt\" , \"a+\")\n",
    "T.write(\"\\nMine Telefon nummer ist 01013900542\")\n",
    "r = T.readlines()\n",
    "print(r)\n"
   ]
  },
  {
   "cell_type": "code",
   "execution_count": 65,
   "metadata": {},
   "outputs": [
    {
     "name": "stdout",
     "output_type": "stream",
     "text": [
      "line :: Ahmed Elsayed Ebrahim\n",
      "\n",
      "line :: \n",
      "\n",
      "line :: Elghetany streetMine Telefon nummer ist 01013900542Mine Telefon nummer ist 01013900542Mine Telefon nummer ist 01013900542\n",
      "\n",
      "line :: Mine Telefon nummer ist 01013900542\n",
      "\n",
      "line :: Mine Telefon nummer ist 01013900542\n",
      "\n",
      "line :: Mine Telefon nummer ist 01013900542Mine Telefon nummer ist 01013900542\n",
      "\n",
      "line :: Mine Telefon nummer ist 01013900542\n"
     ]
    }
   ],
   "source": [
    "for i in open(\"G:/Data Field/D..S..Course./Test.txt\"):\n",
    "    print(\"line ::\" ,i)"
   ]
  },
  {
   "cell_type": "markdown",
   "metadata": {},
   "source": [
    "# 6) Using With Statment\n",
    "it's good ptractice to always use With to ensure that python handle closing files and cleaning up"
   ]
  },
  {
   "cell_type": "code",
   "execution_count": 66,
   "metadata": {},
   "outputs": [
    {
     "name": "stdout",
     "output_type": "stream",
     "text": [
      "['I liebe dich  and nemaind verstate mich']\n"
     ]
    }
   ],
   "source": [
    "with open(\"G:/Data Field/D..S..Course./my_file.txt\" , \"a+\") as New_file :\n",
    "    New_file.seek(0)\n",
    "    New_file.write(\"\\n Meine Frunde\")\n",
    "    rd = New_file.readlines()\n",
    "    print(rd)"
   ]
  },
  {
   "cell_type": "code",
   "execution_count": null,
   "metadata": {},
   "outputs": [],
   "source": []
  }
 ],
 "metadata": {
  "kernelspec": {
   "display_name": "Python 3",
   "language": "python",
   "name": "python3"
  },
  "language_info": {
   "codemirror_mode": {
    "name": "ipython",
    "version": 3
   },
   "file_extension": ".py",
   "mimetype": "text/x-python",
   "name": "python",
   "nbconvert_exporter": "python",
   "pygments_lexer": "ipython3",
   "version": "3.7.4"
  }
 },
 "nbformat": 4,
 "nbformat_minor": 2
}
