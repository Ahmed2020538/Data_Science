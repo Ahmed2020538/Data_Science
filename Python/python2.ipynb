{
 "cells": [
  {
   "cell_type": "markdown",
   "metadata": {},
   "source": [
    "# 1 :: List\n",
    "\n",
    "It is mutable data type"
   ]
  },
  {
   "cell_type": "code",
   "execution_count": 71,
   "metadata": {},
   "outputs": [
    {
     "name": "stdout",
     "output_type": "stream",
     "text": [
      "[10, True, 3.14, 'Tamer', [20, 21, 22], {80, False, 'a'}, {'Name': 'Ahmed', 'Id': 202010}]\n",
      "===============================\n",
      "10\n",
      "======\n",
      "{80, False, 'a'}\n",
      "======\n",
      "[{'Name': 'Ahmed', 'Id': 202010}, {80, False, 'a'}, [20, 21, 22], 'Tamer', 3.14, True, 10]\n",
      "==================================\n",
      "22\n",
      "=========\n",
      "T\n",
      "=========\n",
      "Ahmed\n",
      "=========\n",
      "<class 'list'>\n",
      "======\n",
      "<class 'bool'>\n",
      "======\n",
      "<class 'set'>\n",
      "======\n",
      "<class 'dict'>\n",
      "======\n",
      "<class 'str'>\n",
      "======\n",
      "7\n"
     ]
    }
   ],
   "source": [
    "L = [ 10 , True , 3.14 , \"Tamer\" , [20,21,22] ,{80,\"a\" , False} , {\"Name\" : \"Ahmed\" , \"Id\" : 202010}]\n",
    "print(L)\n",
    "print(\"===============================\")\n",
    "print(L[0])\n",
    "print(\"======\")\n",
    "print(L[5])\n",
    "print(\"======\")\n",
    "print(L[::-1])\n",
    "print(\"==================================\")\n",
    "print(L[4][2])\n",
    "print(\"=========\")\n",
    "print(L[3][0])\n",
    "print(\"=========\")\n",
    "print(L[6][\"Name\"])\n",
    "print(\"=========\")\n",
    "print(type(L))\n",
    "print(\"======\")\n",
    "print(type(L[1]))\n",
    "print(\"======\")\n",
    "print(type(L[5]))\n",
    "print(\"======\")\n",
    "print(type(L[-1]))\n",
    "print(\"======\")\n",
    "print(type(L[3]))\n",
    "print(\"======\")\n",
    "print(len(L))\n"
   ]
  },
  {
   "cell_type": "markdown",
   "metadata": {},
   "source": [
    "# 1 _ 2 ::operation in lists"
   ]
  },
  {
   "cell_type": "code",
   "execution_count": 72,
   "metadata": {},
   "outputs": [
    {
     "name": "stdout",
     "output_type": "stream",
     "text": [
      "10\n",
      "======\n",
      "50\n",
      "===========================================================\n",
      "[50, True, 3.14, 'Tamer', [20, 21, 22], {80, False, 'a'}, {'Name': 'Ahmed', 'Id': 202010}, 'A', 'B', 100]\n",
      "===============================================================\n",
      "[50, True, 3.14, 'Tamer', [20, 21, 22], {80, False, 'a'}, {'Name': 'Ahmed', 'Id': 202010}, 50, True, 3.14, 'Tamer', [20, 21, 22], {80, False, 'a'}, {'Name': 'Ahmed', 'Id': 202010}, 50, True, 3.14, 'Tamer', [20, 21, 22], {80, False, 'a'}, {'Name': 'Ahmed', 'Id': 202010}]\n",
      "=========================================\n",
      "7\n"
     ]
    }
   ],
   "source": [
    "print(L[0])\n",
    "print(\"======\")\n",
    "L[0]+=40 # update Vale of indx L[0]\n",
    "print(L[0])\n",
    "print(\"===========================================================\")\n",
    "# Concatenate list\n",
    "\n",
    "print(L + [\"A\" , \"B\" ,100])\n",
    "\n",
    "print(\"===============================================================\")\n",
    "# Replicate List\n",
    "\n",
    "print(L*3)\n",
    "print(\"=========================================\")\n",
    "\n",
    "print(len(L))\n",
    "\n",
    "\n",
    "\n"
   ]
  },
  {
   "cell_type": "code",
   "execution_count": null,
   "metadata": {},
   "outputs": [],
   "source": []
  },
  {
   "cell_type": "markdown",
   "metadata": {},
   "source": [
    "# 1 _3 Functions and Methods"
   ]
  },
  {
   "cell_type": "code",
   "execution_count": 73,
   "metadata": {},
   "outputs": [
    {
     "name": "stdout",
     "output_type": "stream",
     "text": [
      "[50, True, 3.14, 'Tamer', [20, 21, 22], {80, False, 'a'}, {'Name': 'Ahmed', 'Id': 202010}, False]\n",
      "========================\n",
      "[50, True, 3.14, 'Tamer', [20, 21, 22], {80, False, 'a'}, {'Name': 'Ahmed', 'Id': 202010}, False, 'Ali', 2020, [50, 20, 40]]\n",
      "========================\n",
      "[50, 'ins', True, 3.14, 'Tamer', [20, 21, 22], {80, False, 'a'}, {'Name': 'Ahmed', 'Id': 202010}, False, 'Ali', 2020, [50, 20, 40]]\n",
      "======\n",
      "1\n",
      "======\n",
      "4\n",
      "======\n",
      "None\n",
      "======\n"
     ]
    }
   ],
   "source": [
    "Add = L.append(False)\n",
    "print(L)\n",
    "print(\"========================\")\n",
    "M_Add = L.extend([\"Ali\" , 2020 , [50,20,40]])\n",
    "print(L)\n",
    "print(\"========================\")\n",
    "L.insert( 1 , \"ins\")\n",
    "\n",
    "print(L)\n",
    "print(\"======\")\n",
    "print(L.count(False))\n",
    "print(\"======\")\n",
    "print(L.index(\"Tamer\"))\n",
    "print(\"======\")\n",
    "rev =L.reverse()\n",
    "print(rev)\n",
    "print(\"======\")\n",
    "\n",
    "\n"
   ]
  },
  {
   "cell_type": "code",
   "execution_count": 74,
   "metadata": {},
   "outputs": [
    {
     "name": "stdout",
     "output_type": "stream",
     "text": [
      "[50, 20, 10, 30]\n",
      "======\n",
      "[50, 20, 10]\n",
      "======\n",
      "[50, 20, 'Ahmed', 10]\n",
      "======\n",
      "[50, 20, 'Ahmed']\n",
      "======\n",
      "[20, 'Ahmed']\n"
     ]
    }
   ],
   "source": [
    "l = [50,20,10,30]\n",
    "print(l)\n",
    "print(\"======\")\n",
    "l.pop()\n",
    "print(l)\n",
    "print(\"======\")\n",
    "l.insert(2 ,\"Ahmed\")\n",
    "print(l)\n",
    "print(\"======\")\n",
    "l.pop(3)\n",
    "print(l)\n",
    "print(\"======\")\n",
    "l.remove(50)\n",
    "print(l)"
   ]
  },
  {
   "cell_type": "code",
   "execution_count": 75,
   "metadata": {},
   "outputs": [
    {
     "name": "stdout",
     "output_type": "stream",
     "text": [
      "[20, 'Ahmed']\n",
      "======\n",
      "[]\n"
     ]
    }
   ],
   "source": [
    "l.copy()\n",
    "print(l)\n",
    "print(\"======\")\n",
    "l.clear()\n",
    "print(l)"
   ]
  },
  {
   "cell_type": "code",
   "execution_count": 87,
   "metadata": {},
   "outputs": [
    {
     "name": "stdout",
     "output_type": "stream",
     "text": [
      "[100, 40, 60, 10, 80]\n",
      "=============\n",
      "[10, 40, 60, 80, 100]\n",
      "==========\n",
      "[100, 80, 60, 40, 10]\n"
     ]
    }
   ],
   "source": [
    "n_l = [100,40,60,10,80]\n",
    "print(n_l)\n",
    "print(\"=============\")\n",
    "print(sorted(n_l))\n",
    "print(\"==========\")\n",
    "n_l.sort(reverse = True)\n",
    "print(n_l)\n"
   ]
  },
  {
   "cell_type": "markdown",
   "metadata": {},
   "source": [
    "# 2 :: Tuples \n",
    "\n",
    "If you have immutable data, constant size and values.\n",
    "If you want speed up processing on the data."
   ]
  },
  {
   "cell_type": "code",
   "execution_count": 76,
   "metadata": {},
   "outputs": [
    {
     "name": "stdout",
     "output_type": "stream",
     "text": [
      "(10, 'Ali', True, [20, 40, 50], ('A', 2020, 'B'), {'j', False, 100})\n",
      "======\n",
      "<class 'tuple'>\n",
      "======\n",
      "<class 'set'>\n",
      "======\n",
      "6\n",
      "======\n",
      "3\n",
      "======\n",
      "(10, 'Ali', True, [20, 40, 50], ('A', 2020, 'B'), {'j', False, 100})\n",
      "======\n",
      "(10, 'Ali', True, [20, 40, 50])\n",
      "======\n",
      "({'j', False, 100}, ('A', 2020, 'B'), [20, 40, 50], True, 'Ali', 10)\n"
     ]
    }
   ],
   "source": [
    "T = ( 10 , \"Ali\" ,True , [20,40,50],(\"A\" , 2020 , \"B\") , {100,\"j\",False})\n",
    "print(T)\n",
    "print(\"======\")\n",
    "print(type(T))\n",
    "print(\"======\")\n",
    "print(type(T[-1]))\n",
    "print(\"======\")\n",
    "print(len(T))\n",
    "print(\"======\")\n",
    "print(len(T[3]))\n",
    "print(\"======\")\n",
    "print(T)\n",
    "print(\"======\")\n",
    "print(T[:4])\n",
    "print(\"======\")\n",
    "print(T[::-1])\n"
   ]
  },
  {
   "cell_type": "markdown",
   "metadata": {},
   "source": [
    "# 2_2 :: Operation in Tuples"
   ]
  },
  {
   "cell_type": "code",
   "execution_count": 77,
   "metadata": {},
   "outputs": [
    {
     "name": "stdout",
     "output_type": "stream",
     "text": [
      "(10, 'Ali', True, [20, 40, 50], ('A', 2020, 'B'), {'j', False, 100}, 10, 'Ali', True, [20, 40, 50], ('A', 2020, 'B'), {'j', False, 100})\n",
      "======\n",
      "(10, 'Ali', True, [20, 40, 50], ('A', 2020, 'B'), {'j', False, 100}, 80, 70, 60)\n",
      "======\n"
     ]
    }
   ],
   "source": [
    "print(T*2)\n",
    "print(\"======\")\n",
    "T+=(80,70,60)\n",
    "print(T)\n",
    "print(\"======\")\n",
    "\n"
   ]
  },
  {
   "cell_type": "markdown",
   "metadata": {},
   "source": [
    "# 2_3 :: Func And Methods"
   ]
  },
  {
   "cell_type": "code",
   "execution_count": null,
   "metadata": {},
   "outputs": [],
   "source": []
  },
  {
   "cell_type": "code",
   "execution_count": null,
   "metadata": {},
   "outputs": [],
   "source": []
  },
  {
   "cell_type": "code",
   "execution_count": 78,
   "metadata": {},
   "outputs": [
    {
     "name": "stdout",
     "output_type": "stream",
     "text": [
      "======\n",
      "(10, 'Ali', True, [20, 40, 'Ali', 50], ('A', 2020, 'B'), {'j', False, 100}, 80, 70, 60)\n"
     ]
    },
    {
     "data": {
      "text/plain": [
       "1"
      ]
     },
     "execution_count": 78,
     "metadata": {},
     "output_type": "execute_result"
    }
   ],
   "source": [
    "T.count(True)\n",
    "print(\"======\")\n",
    "T[3].insert(2,\"Ali\")\n",
    "print(T)\n",
    "T.index(\"Ali\")\n"
   ]
  },
  {
   "cell_type": "code",
   "execution_count": 151,
   "metadata": {},
   "outputs": [
    {
     "name": "stdout",
     "output_type": "stream",
     "text": [
      "(100, 80, False, 20, 10)\n",
      "====\n",
      "[False, 10, 20, 80, 100]\n"
     ]
    }
   ],
   "source": [
    "t = (100,80 ,False ,20 ,10)\n",
    "print(t)\n",
    "print(\"====\")\n",
    "print(sorted(t))"
   ]
  },
  {
   "cell_type": "code",
   "execution_count": 153,
   "metadata": {},
   "outputs": [
    {
     "name": "stdout",
     "output_type": "stream",
     "text": [
      "(100, 80, False, 20, 10)\n",
      "========\n"
     ]
    }
   ],
   "source": [
    "print(t)\n",
    "print(\"========\")\n",
    "del t\n"
   ]
  },
  {
   "cell_type": "markdown",
   "metadata": {},
   "source": [
    "# 3 :: Sets\n",
    "\n",
    "It is immutable data type"
   ]
  },
  {
   "cell_type": "code",
   "execution_count": 79,
   "metadata": {},
   "outputs": [
    {
     "name": "stdout",
     "output_type": "stream",
     "text": [
      "{False, 'K', 'A', 100}\n",
      "======\n",
      "<class 'set'>\n",
      "======\n",
      "4\n",
      "======\n"
     ]
    }
   ],
   "source": [
    "s = { 100 , \"K\" , False , \"A\" , 100  }\n",
    "print(s)\n",
    "print(\"======\")\n",
    "print(type(s))\n",
    "print(\"======\")\n",
    "print(len(s))\n",
    "print(\"======\")\n",
    "\n",
    "\n"
   ]
  },
  {
   "cell_type": "markdown",
   "metadata": {},
   "source": [
    "# 3_2 :: Operation in Sets"
   ]
  },
  {
   "cell_type": "code",
   "execution_count": 83,
   "metadata": {},
   "outputs": [
    {
     "name": "stdout",
     "output_type": "stream",
     "text": [
      "{True, 10, 20, 'B', 'a'}\n",
      "======\n",
      "{False, 100, 20, 'B', 90}\n",
      "======\n",
      "5\n",
      "======\n",
      "5\n",
      "======\n",
      "<class 'set'>\n",
      "======\n",
      "<class 'set'>\n",
      "======\n",
      "{False, True, 100, 10, 20, 'B', 90, 'a'}\n",
      "======\n",
      "{20, 'B'}\n",
      "======\n",
      "{True, 10, 'a'}\n"
     ]
    }
   ],
   "source": [
    "s1 = { 20 ,\"a\" ,True , \"B\" ,10  , 20  , \"a\"}\n",
    "s2 = { 100 , \"B\" , False , 20 , 90 , 100}\n",
    "print(s1)\n",
    "print(\"======\")\n",
    "print(s2)\n",
    "print(\"======\")\n",
    "print(len(s1))\n",
    "print(\"======\")\n",
    "print(len(s2))\n",
    "print(\"======\")\n",
    "print(type(s1))\n",
    "print(\"======\")\n",
    "print(type(s2))\n",
    "print(\"======\")\n",
    "print(s1|s2) # Union\n",
    "print(\"======\")\n",
    "print(s1&s2)  # intersection\n",
    "print(\"======\")\n",
    "print(s1-s2)  # deffirence"
   ]
  },
  {
   "cell_type": "markdown",
   "metadata": {},
   "source": [
    "#Convert from list into set"
   ]
  },
  {
   "cell_type": "code",
   "execution_count": 94,
   "metadata": {},
   "outputs": [
    {
     "name": "stdout",
     "output_type": "stream",
     "text": [
      "{64, True, 10, 44, 80, 'a'}\n"
     ]
    }
   ],
   "source": [
    "list1 = [10,80,44,64,\"a\",80,True , 10]\n",
    "print(set(list1))"
   ]
  },
  {
   "cell_type": "markdown",
   "metadata": {},
   "source": [
    "# 3_3 :: Func and method"
   ]
  },
  {
   "cell_type": "code",
   "execution_count": 93,
   "metadata": {},
   "outputs": [
    {
     "name": "stdout",
     "output_type": "stream",
     "text": [
      "{False, 'K', 'A', 100, 'Turkkey'}\n",
      "===========\n",
      "{False, 'K', 'A', 100, 'Turkkey'}\n",
      "===========\n",
      "{20, 'B'}\n",
      "==============\n",
      "{False, True, 100, 10, 20, 'B', 90, 'a'}\n",
      "================\n",
      "{False, 90, 100}\n"
     ]
    }
   ],
   "source": [
    "s.add(\"Turkkey\")\n",
    "print(s) # Add value\n",
    "print(\"===========\")\n",
    "s.discard(2) # delet index\n",
    "print(s)\n",
    "print(\"===========\")\n",
    "print(s2.intersection(s1))\n",
    "print(\"==============\")\n",
    "print(s2.union(s1))\n",
    "print(\"================\")\n",
    "print(s2.difference(s1))\n"
   ]
  },
  {
   "cell_type": "markdown",
   "metadata": {},
   "source": [
    "delet sets"
   ]
  },
  {
   "cell_type": "code",
   "execution_count": 143,
   "metadata": {},
   "outputs": [
    {
     "name": "stdout",
     "output_type": "stream",
     "text": [
      "{False, 2, 100, 'd'}\n",
      "===========\n"
     ]
    }
   ],
   "source": [
    "ss = {\"d\" , False , 100 ,2}\n",
    "print(ss)\n",
    "print(\"===========\")\n",
    "del ss\n"
   ]
  },
  {
   "cell_type": "markdown",
   "metadata": {},
   "source": [
    "# 4 :: dictionary"
   ]
  },
  {
   "cell_type": "code",
   "execution_count": 125,
   "metadata": {},
   "outputs": [
    {
     "name": "stdout",
     "output_type": "stream",
     "text": [
      "{'Name': 'Ahmed', 'password': [123321, 332211, 159357], 'Position': ['data_scientist', 'Ai_Specialist']}\n",
      "========\n",
      "<class 'dict'>\n",
      "========\n",
      "<class 'list'>\n",
      "========\n",
      "3\n",
      "========\n",
      "3\n",
      "========\n",
      "Ahmed\n",
      "========\n",
      "e\n",
      "data_scientist\n"
     ]
    }
   ],
   "source": [
    "d = {\"Name\" : \"Ahmed\" , \"password\" : [123321 , 332211 , 159357] , \"Position\" :[\"data_scientist\" , \"Ai_Specialist\"]}\n",
    "print(d)\n",
    "print(\"========\")\n",
    "print(type(d))\n",
    "print(\"========\")\n",
    "print(type(d[\"password\"]))\n",
    "print(\"========\")\n",
    "print(len(d))\n",
    "print(\"========\")\n",
    "print(len(d[\"password\"]))\n",
    "print(\"========\")\n",
    "print(d[\"Name\"])\n",
    "print(\"========\")\n",
    "print(d[\"Name\"][3])\n",
    "print(d[\"Position\"][0])\n"
   ]
  },
  {
   "cell_type": "markdown",
   "metadata": {},
   "source": [
    "# 4_2 :: func and methods"
   ]
  },
  {
   "cell_type": "code",
   "execution_count": 126,
   "metadata": {},
   "outputs": [
    {
     "name": "stdout",
     "output_type": "stream",
     "text": [
      "{'Name': 'Ahmed', 'password': [123321, 332211, 159357], 'Position': ['data_scientist', 'Ai_Specialist']}\n",
      "==================\n",
      "['data_scientist', 'Ai_Specialist']\n",
      "===========\n",
      "['data_scientist', 'Ai_Specialist']\n",
      "================\n",
      "dict_items([('Name', 'Ahmed'), ('password', [123321, 332211, 159357]), ('Position', ['data_scientist', 'Ai_Specialist'])])\n",
      "================\n",
      "dict_values(['Ahmed', [123321, 332211, 159357], ['data_scientist', 'Ai_Specialist']])\n",
      "================\n",
      "dict_keys(['Name', 'password', 'Position'])\n",
      "================\n",
      "{'Name': 'Ahmed', 'password': [123321, 332211, 159357], 'Position': ['data_scientist', 'Ai_Specialist'], 'Graduation': 'Computer Science'}\n",
      "===========\n"
     ]
    }
   ],
   "source": [
    "print(d)\n",
    "print(\"==================\")\n",
    "print(d.get(\"Position\"))\n",
    "print(\"===========\")\n",
    "print(list(d.get(\"Position\")))\n",
    "print(\"================\")\n",
    "print(d.items())\n",
    "print(\"================\")\n",
    "print(d.values())\n",
    "print(\"================\")\n",
    "print(d.keys())\n",
    "print(\"================\")\n",
    "d[\"Graduation\"] = \"Computer Science\" # apeand new_key\n",
    "print(d)\n",
    "print(\"===========\")\n"
   ]
  },
  {
   "cell_type": "code",
   "execution_count": 127,
   "metadata": {},
   "outputs": [
    {
     "name": "stdout",
     "output_type": "stream",
     "text": [
      "{'Name': 'Ahmed', 'password': [123321, 332211, 159357], 'Position': ['data_scientist', 'Ai_Specialist'], 'Graduation': 'Computer Science'}\n",
      "===========\n",
      "{'password': [123321, 332211, 159357], 'Position': ['data_scientist', 'Ai_Specialist'], 'Graduation': 'Computer Science'}\n",
      "=============\n",
      "('Graduation', 'Computer Science')\n"
     ]
    }
   ],
   "source": [
    "print(d)\n",
    "print(\"===========\")\n",
    "d.pop(\"Name\")\n",
    "print(d)\n",
    "print(\"=============\")\n",
    "print(d.popitem())"
   ]
  },
  {
   "cell_type": "code",
   "execution_count": 129,
   "metadata": {},
   "outputs": [
    {
     "name": "stdout",
     "output_type": "stream",
     "text": [
      "{'password': [123321, 332211, 159357], 'Position': ['data_scientist', 'Ai_Specialist']}\n",
      "===========\n",
      "{'password': [123321, 123456, 159357], 'Position': ['data_scientist', 'Ai_Specialist']}\n"
     ]
    }
   ],
   "source": [
    "print(d)\n",
    "print(\"===========\")\n",
    "d[\"password\"][1] = 123456 # updata index of key in dict\n",
    "print(d)"
   ]
  },
  {
   "cell_type": "code",
   "execution_count": 130,
   "metadata": {},
   "outputs": [
    {
     "name": "stdout",
     "output_type": "stream",
     "text": [
      "{'password': [123456, 159357], 'Position': ['data_scientist', 'Ai_Specialist']}\n"
     ]
    }
   ],
   "source": [
    "del d[\"password\"][0] # o delet index in key in dic\n",
    "print(d)"
   ]
  },
  {
   "cell_type": "code",
   "execution_count": 132,
   "metadata": {},
   "outputs": [
    {
     "data": {
      "text/plain": [
       "'not_found'"
      ]
     },
     "execution_count": 132,
     "metadata": {},
     "output_type": "execute_result"
    }
   ],
   "source": [
    "d.get('Career', 'not_found') # if key not found output NotFound"
   ]
  },
  {
   "cell_type": "markdown",
   "metadata": {},
   "source": [
    "Create dctionary using Twoo lists"
   ]
  },
  {
   "cell_type": "code",
   "execution_count": 135,
   "metadata": {},
   "outputs": [
    {
     "name": "stdout",
     "output_type": "stream",
     "text": [
      "['Name', 'Adge', 'Country', 'jop']\n",
      "===================\n",
      "['Ahmed', 27, 'Frankfurt', 'ML_Engineering']\n",
      "===================\n",
      "{'Name': 'Ahmed', 'Adge': 27, 'Country': 'Frankfurt', 'jop': 'ML_Engineering'}\n"
     ]
    }
   ],
   "source": [
    "lis  = [\"Name\" , \"Adge\" ,\"Country\" , \"jop\"]\n",
    "liss = [\"Ahmed\" , 27 , \"Frankfurt\" , \"ML_Engineering\"]\n",
    "print(lis)\n",
    "print(\"===================\")\n",
    "print(liss)\n",
    "print(\"===================\")\n",
    "print(dict(zip( lis , liss )))"
   ]
  },
  {
   "cell_type": "code",
   "execution_count": null,
   "metadata": {},
   "outputs": [],
   "source": []
  }
 ],
 "metadata": {
  "kernelspec": {
   "display_name": "Python 3",
   "language": "python",
   "name": "python3"
  },
  "language_info": {
   "codemirror_mode": {
    "name": "ipython",
    "version": 3
   },
   "file_extension": ".py",
   "mimetype": "text/x-python",
   "name": "python",
   "nbconvert_exporter": "python",
   "pygments_lexer": "ipython3",
   "version": "3.7.4"
  }
 },
 "nbformat": 4,
 "nbformat_minor": 2
}
