{
 "cells": [
  {
   "cell_type": "markdown",
   "metadata": {},
   "source": [
    "# 1 :: For Loop"
   ]
  },
  {
   "cell_type": "code",
   "execution_count": 4,
   "metadata": {},
   "outputs": [
    {
     "name": "stdout",
     "output_type": "stream",
     "text": [
      "The Element ::  \n",
      " 100\n",
      "The Element ::  \n",
      " -3.25\n",
      "The Element ::  \n",
      " Mido\n",
      "The Element ::  \n",
      " [20, 80, True]\n",
      "The Element ::  \n",
      " {'Name': 'Ahmed', 'Position': 'Data_Scientist'}\n"
     ]
    }
   ],
   "source": [
    "l = [ 100 , -3.25 , \"Mido\" , [20,80,True] ,{\"Name\" : \"Ahmed\" , \"Position\" : \"Data_Scientist\"} ]\n",
    "\n",
    "for i in l :\n",
    "    print(\"The Element ::  \\n\" , i)"
   ]
  },
  {
   "cell_type": "code",
   "execution_count": 17,
   "metadata": {},
   "outputs": [
    {
     "name": "stdout",
     "output_type": "stream",
     "text": [
      "20\n",
      "38\n",
      "160\n",
      "154\n",
      "80\n",
      "70\n",
      "120\n",
      "======\n",
      "5\n",
      "9\n",
      "40\n",
      "38\n",
      "20\n",
      "17\n",
      "30\n",
      "=========\n",
      "10\n",
      "80\n",
      "40\n",
      "60\n"
     ]
    }
   ],
   "source": [
    "l1 = [ 10 , 19 , 80 , 77 ,40 ,35 , 60]\n",
    "for i in l1 :\n",
    "    print(i*2)\n",
    "print(\"======\")\n",
    "for i in l1 :\n",
    "    print(i//2)\n",
    "print(\"=========\")\n",
    "for i in l1 :\n",
    "    if i % 2 == 0 :\n",
    "        print(i)\n"
   ]
  },
  {
   "cell_type": "markdown",
   "metadata": {},
   "source": [
    "# 1_2 :: If Condation in for loop"
   ]
  },
  {
   "cell_type": "code",
   "execution_count": 18,
   "metadata": {},
   "outputs": [
    {
     "name": "stdout",
     "output_type": "stream",
     "text": [
      "10 ::Even Number\n",
      "=================\n",
      "19 ::Odd Number\n",
      "=================\n",
      "80 ::Even Number\n",
      "=================\n",
      "77 ::Odd Number\n",
      "=================\n",
      "40 ::Even Number\n",
      "=================\n",
      "35 ::Odd Number\n",
      "=================\n",
      "60 ::Even Number\n",
      "=================\n"
     ]
    }
   ],
   "source": [
    "for i in l1 :\n",
    "    if i % 2 == 0 :\n",
    "        print( i , \"::Even Number\")\n",
    "    else :\n",
    "        print( i , \"::Odd Number\")\n",
    "        \n",
    "    print(\"=================\")\n",
    "   "
   ]
  },
  {
   "cell_type": "code",
   "execution_count": 20,
   "metadata": {},
   "outputs": [
    {
     "name": "stdout",
     "output_type": "stream",
     "text": [
      " 10 Is Even number\n",
      " 19 Is Odd number\n",
      " 80 Is Even number\n",
      " 77 Is Odd number\n",
      " 40 Is Even number\n",
      " 35 Is Odd number\n",
      " 60 Is Even number\n"
     ]
    }
   ],
   "source": [
    "for i in l1 :\n",
    "    if i % 2 == 0 :\n",
    "        print(f\" {i} Is Even number\")\n",
    "    else :\n",
    "        print(f\" {i} Is Odd number\")"
   ]
  },
  {
   "cell_type": "code",
   "execution_count": 26,
   "metadata": {},
   "outputs": [
    {
     "name": "stdout",
     "output_type": "stream",
     "text": [
      "[10, 19, 80, 77, 40, 35, 60]\n",
      "==========\n",
      " 10 + 100 = 110\n",
      " 19 + 100 = 119\n",
      " 80 + 100 = 180\n",
      " 77 + 100 = 177\n",
      " 40 + 100 = 140\n",
      " 35 + 100 = 135\n",
      " 60 + 100 = 160\n"
     ]
    }
   ],
   "source": [
    "print(l1)\n",
    "print(\"==========\")\n",
    "for i in l1 :\n",
    "    print(f\" {i} + 100 =\" , i+100)\n",
    "    \n"
   ]
  },
  {
   "cell_type": "code",
   "execution_count": 29,
   "metadata": {},
   "outputs": [
    {
     "name": "stdout",
     "output_type": "stream",
     "text": [
      "(2, 6)\n",
      "===========\n",
      "(8, 3)\n",
      "===========\n",
      "(10, 4)\n",
      "===========\n",
      "8\n",
      "11\n",
      "14\n"
     ]
    }
   ],
   "source": [
    "lis = [ (2,6),(8,3),(10,4)]\n",
    "for i in lis :\n",
    "    print(i)\n",
    "    print(\"===========\")\n",
    "for j1,j2 in lis :\n",
    "    print(j1+j2)"
   ]
  },
  {
   "cell_type": "code",
   "execution_count": 30,
   "metadata": {},
   "outputs": [
    {
     "name": "stdout",
     "output_type": "stream",
     "text": [
      "10 ,, 8 ,, 4 ,, 1\n",
      "11 ,, 18 ,, 14 ,, 16\n",
      "21 ,, 28 ,, 24 ,, 26\n"
     ]
    }
   ],
   "source": [
    "lis1 = [ (10,8 ,4 ,1) , (11,18,14,16) , (21 ,28 ,24 ,26)]\n",
    "for (i1,i2,i3,i4) in lis1 :\n",
    "    print(f\"{i1} ,, {i2} ,, {i3} ,, {i4}\")"
   ]
  },
  {
   "cell_type": "markdown",
   "metadata": {},
   "source": [
    "# 1 _3 For loop in Strings"
   ]
  },
  {
   "cell_type": "code",
   "execution_count": 27,
   "metadata": {},
   "outputs": [
    {
     "name": "stdout",
     "output_type": "stream",
     "text": [
      "I\n",
      "c\n",
      "h\n",
      " \n",
      "b\n",
      "i\n",
      "n\n",
      " \n",
      "A\n",
      "h\n",
      "m\n",
      "e\n",
      "d\n",
      " \n",
      "E\n",
      "l\n",
      "s\n",
      "a\n",
      "y\n",
      "e\n",
      "d\n",
      " \n",
      "E\n",
      "b\n",
      "r\n",
      "a\n",
      "h\n",
      "i\n",
      "m\n"
     ]
    }
   ],
   "source": [
    "S = \"Ich bin Ahmed Elsayed Ebrahim\"\n",
    "for i in S :\n",
    "    print(i)"
   ]
  },
  {
   "cell_type": "code",
   "execution_count": 39,
   "metadata": {},
   "outputs": [
    {
     "name": "stdout",
     "output_type": "stream",
     "text": [
      "Name\n",
      "============\n",
      "Password\n",
      "============\n",
      "Position\n",
      "============\n"
     ]
    }
   ],
   "source": [
    "d = {\"Name\" : \"Ahmed\" , \"Password\" : [100012 , 11210, 202010] , \"Position\" : \"AI_Specialist\"}\n",
    "for i in d :\n",
    "    print(i)\n",
    "    print(\"============\")\n"
   ]
  },
  {
   "cell_type": "code",
   "execution_count": 48,
   "metadata": {},
   "outputs": [
    {
     "name": "stdout",
     "output_type": "stream",
     "text": [
      "['Name', 'Password', 'Position']\n",
      "============\n",
      "['Ahmed', [100012, 11210, 202010], 'AI_Specialist']\n",
      "==============\n",
      "[('Name', 'Ahmed'), ('Password', [100012, 11210, 202010]), ('Position', 'AI_Specialist')]\n",
      "====================\n",
      "====================\n",
      "Name Ahmed\n",
      "================\n",
      "the key is Name and the values is Ahmed\n",
      "Password [100012, 11210, 202010]\n",
      "================\n",
      "the key is Password and the values is [100012, 11210, 202010]\n",
      "Position AI_Specialist\n",
      "================\n",
      "the key is Position and the values is AI_Specialist\n"
     ]
    }
   ],
   "source": [
    "print(list(d.keys()))\n",
    "print(\"============\")\n",
    "print(list(d.values()))\n",
    "print(\"==============\")\n",
    "print(list(d.items()))\n",
    "\n",
    "print(\"====================\")\n",
    "print(\"====================\")\n",
    "for k1,k2 in list(d.items()) :\n",
    "    print(k1,k2)\n",
    "    print(\"================\")\n",
    "    print(f\"the key is {k1} and the values is {k2}\")"
   ]
  },
  {
   "cell_type": "markdown",
   "metadata": {},
   "source": [
    "# 1_4 :: For loop in range"
   ]
  },
  {
   "cell_type": "code",
   "execution_count": 49,
   "metadata": {},
   "outputs": [
    {
     "name": "stdout",
     "output_type": "stream",
     "text": [
      "0\n",
      "1\n",
      "2\n",
      "3\n",
      "4\n",
      "5\n",
      "6\n",
      "7\n",
      "8\n",
      "9\n",
      "==================\n",
      "10\n",
      "11\n",
      "12\n",
      "13\n",
      "14\n",
      "15\n",
      "16\n",
      "17\n",
      "18\n",
      "19\n",
      "==================\n",
      "0\n",
      "2\n",
      "4\n",
      "6\n",
      "8\n",
      "10\n",
      "12\n",
      "14\n",
      "16\n",
      "18\n"
     ]
    }
   ],
   "source": [
    "for i in range(10):\n",
    "    print(i)\n",
    "print(\"==================\")\n",
    "for j in range (10,20) :\n",
    "    print(j)\n",
    "print(\"==================\")\n",
    "for k in range (0,20,2):\n",
    "    print(k)"
   ]
  },
  {
   "cell_type": "code",
   "execution_count": 50,
   "metadata": {},
   "outputs": [
    {
     "name": "stdout",
     "output_type": "stream",
     "text": [
      "I Bin Ahmed\n",
      "\n",
      "\n",
      "\n",
      "Ich Komme Aus Kairo\n",
      "\n",
      "\n",
      "\n",
      "Ich Arbiete Data Scientist\n",
      "\n",
      "\n",
      "\n",
      "\n",
      "\n",
      "\n",
      "\n"
     ]
    }
   ],
   "source": [
    "for f in open (\"G:/Data Field/D..S..Course./my_file2.txt\", \"r+\") :\n",
    "    print(f.title())"
   ]
  },
  {
   "cell_type": "code",
   "execution_count": 52,
   "metadata": {},
   "outputs": [
    {
     "name": "stdout",
     "output_type": "stream",
     "text": [
      " 1 * 1 = 1\n",
      " 1 * 2 = 2\n",
      " 1 * 3 = 3\n",
      " 1 * 4 = 4\n",
      " 1 * 5 = 5\n",
      " 1 * 6 = 6\n",
      " 1 * 7 = 7\n",
      " 1 * 8 = 8\n",
      " 1 * 9 = 9\n",
      " 1 * 10 = 10\n"
     ]
    }
   ],
   "source": [
    "for s in range (1,11) :\n",
    "    print(f\" 1 * {s} = {s*1}\")"
   ]
  },
  {
   "cell_type": "code",
   "execution_count": 55,
   "metadata": {},
   "outputs": [
    {
     "name": "stdout",
     "output_type": "stream",
     "text": [
      "gdwal el darb of 1\n",
      " 1 * 1 = 1\n",
      " 1 * 2 = 2\n",
      " 1 * 3 = 3\n",
      " 1 * 4 = 4\n",
      " 1 * 5 = 5\n",
      " 1 * 6 = 6\n",
      " 1 * 7 = 7\n",
      " 1 * 8 = 8\n",
      " 1 * 9 = 9\n",
      " 1 * 10 = 10\n",
      "===============================\n",
      "gdwal el darb of 2\n",
      " 2 * 1 = 2\n",
      " 2 * 2 = 4\n",
      " 2 * 3 = 6\n",
      " 2 * 4 = 8\n",
      " 2 * 5 = 10\n",
      " 2 * 6 = 12\n",
      " 2 * 7 = 14\n",
      " 2 * 8 = 16\n",
      " 2 * 9 = 18\n",
      " 2 * 10 = 20\n",
      "===============================\n",
      "gdwal el darb of 3\n",
      " 3 * 1 = 3\n",
      " 3 * 2 = 6\n",
      " 3 * 3 = 9\n",
      " 3 * 4 = 12\n",
      " 3 * 5 = 15\n",
      " 3 * 6 = 18\n",
      " 3 * 7 = 21\n",
      " 3 * 8 = 24\n",
      " 3 * 9 = 27\n",
      " 3 * 10 = 30\n",
      "===============================\n",
      "gdwal el darb of 4\n",
      " 4 * 1 = 4\n",
      " 4 * 2 = 8\n",
      " 4 * 3 = 12\n",
      " 4 * 4 = 16\n",
      " 4 * 5 = 20\n",
      " 4 * 6 = 24\n",
      " 4 * 7 = 28\n",
      " 4 * 8 = 32\n",
      " 4 * 9 = 36\n",
      " 4 * 10 = 40\n",
      "===============================\n",
      "gdwal el darb of 5\n",
      " 5 * 1 = 5\n",
      " 5 * 2 = 10\n",
      " 5 * 3 = 15\n",
      " 5 * 4 = 20\n",
      " 5 * 5 = 25\n",
      " 5 * 6 = 30\n",
      " 5 * 7 = 35\n",
      " 5 * 8 = 40\n",
      " 5 * 9 = 45\n",
      " 5 * 10 = 50\n",
      "===============================\n",
      "gdwal el darb of 6\n",
      " 6 * 1 = 6\n",
      " 6 * 2 = 12\n",
      " 6 * 3 = 18\n",
      " 6 * 4 = 24\n",
      " 6 * 5 = 30\n",
      " 6 * 6 = 36\n",
      " 6 * 7 = 42\n",
      " 6 * 8 = 48\n",
      " 6 * 9 = 54\n",
      " 6 * 10 = 60\n",
      "===============================\n",
      "gdwal el darb of 7\n",
      " 7 * 1 = 7\n",
      " 7 * 2 = 14\n",
      " 7 * 3 = 21\n",
      " 7 * 4 = 28\n",
      " 7 * 5 = 35\n",
      " 7 * 6 = 42\n",
      " 7 * 7 = 49\n",
      " 7 * 8 = 56\n",
      " 7 * 9 = 63\n",
      " 7 * 10 = 70\n",
      "===============================\n",
      "gdwal el darb of 8\n",
      " 8 * 1 = 8\n",
      " 8 * 2 = 16\n",
      " 8 * 3 = 24\n",
      " 8 * 4 = 32\n",
      " 8 * 5 = 40\n",
      " 8 * 6 = 48\n",
      " 8 * 7 = 56\n",
      " 8 * 8 = 64\n",
      " 8 * 9 = 72\n",
      " 8 * 10 = 80\n",
      "===============================\n",
      "gdwal el darb of 9\n",
      " 9 * 1 = 9\n",
      " 9 * 2 = 18\n",
      " 9 * 3 = 27\n",
      " 9 * 4 = 36\n",
      " 9 * 5 = 45\n",
      " 9 * 6 = 54\n",
      " 9 * 7 = 63\n",
      " 9 * 8 = 72\n",
      " 9 * 9 = 81\n",
      " 9 * 10 = 90\n",
      "===============================\n",
      "gdwal el darb of 10\n",
      " 10 * 1 = 10\n",
      " 10 * 2 = 20\n",
      " 10 * 3 = 30\n",
      " 10 * 4 = 40\n",
      " 10 * 5 = 50\n",
      " 10 * 6 = 60\n",
      " 10 * 7 = 70\n",
      " 10 * 8 = 80\n",
      " 10 * 9 = 90\n",
      " 10 * 10 = 100\n",
      "===============================\n",
      "===============================\n"
     ]
    }
   ],
   "source": [
    "# 1_5 :: Nested for loop\n",
    "for x in range (1,11) :\n",
    "    print(f\"gdwal el darb of {x}\")\n",
    "    for y in range (1 , 11) :\n",
    "        print(f\" {x} * {y} = {x*y}\")\n",
    "    print(\"===============================\")\n",
    "        \n",
    "print(\"===============================\")"
   ]
  },
  {
   "cell_type": "code",
   "execution_count": 56,
   "metadata": {},
   "outputs": [
    {
     "name": "stdout",
     "output_type": "stream",
     "text": [
      "Samstag\n",
      "the letter of Samstag are\n",
      "S\n",
      "a\n",
      "m\n",
      "s\n",
      "t\n",
      "a\n",
      "g\n",
      "======================\n",
      "Suntag\n",
      "the letter of Suntag are\n",
      "S\n",
      "u\n",
      "n\n",
      "t\n",
      "a\n",
      "g\n",
      "======================\n",
      "montag\n",
      "the letter of montag are\n",
      "m\n",
      "o\n",
      "n\n",
      "t\n",
      "a\n",
      "g\n",
      "======================\n",
      "Dienestag\n",
      "the letter of Dienestag are\n",
      "D\n",
      "i\n",
      "e\n",
      "n\n",
      "e\n",
      "s\n",
      "t\n",
      "a\n",
      "g\n",
      "======================\n",
      "Mittwoche\n",
      "the letter of Mittwoche are\n",
      "M\n",
      "i\n",
      "t\n",
      "t\n",
      "w\n",
      "o\n",
      "c\n",
      "h\n",
      "e\n",
      "======================\n",
      "Donisag\n",
      "the letter of Donisag are\n",
      "D\n",
      "o\n",
      "n\n",
      "i\n",
      "s\n",
      "a\n",
      "g\n",
      "======================\n",
      "Fritag\n",
      "the letter of Fritag are\n",
      "F\n",
      "r\n",
      "i\n",
      "t\n",
      "a\n",
      "g\n",
      "======================\n",
      "Thx Meine Frund  ^_^\n"
     ]
    }
   ],
   "source": [
    "l = [ \"Samstag\" , \"Suntag\" , \"montag\" ,\"Dienestag\" , \"Mittwoche\" , \"Donisag\" , \"Fritag\"]\n",
    "for i in l :\n",
    "    print(i)\n",
    "    print(f\"the letter of {i} are\")\n",
    "    for j in i :\n",
    "        print(j)\n",
    "    print(\"======================\")\n",
    "print(\"Thx Meine Frund  ^_^\")"
   ]
  },
  {
   "cell_type": "code",
   "execution_count": null,
   "metadata": {},
   "outputs": [],
   "source": []
  }
 ],
 "metadata": {
  "kernelspec": {
   "display_name": "Python 3",
   "language": "python",
   "name": "python3"
  },
  "language_info": {
   "codemirror_mode": {
    "name": "ipython",
    "version": 3
   },
   "file_extension": ".py",
   "mimetype": "text/x-python",
   "name": "python",
   "nbconvert_exporter": "python",
   "pygments_lexer": "ipython3",
   "version": "3.7.4"
  }
 },
 "nbformat": 4,
 "nbformat_minor": 2
}
