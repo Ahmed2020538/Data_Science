{
 "cells": [
  {
   "cell_type": "code",
   "execution_count": 1,
   "metadata": {},
   "outputs": [],
   "source": [
    "import statistics as st\n",
    "A=st.mean([1,2,3,4,5])\n",
    "B=st.median([1,2,3,4,5,6])\n",
    "C=st.median([1,2,3,4,5,6,7])\n",
    "D=st.median_low([1,2,3,4,5])\n",
    "E=st.median_high([1,2,3,4,5])\n",
    "F=st.median_grouped([1,2,3,4,5,6,7])\n",
    "G=st.mode([1,2,3,4,5,2,2,1,1,4,4,4,4,5,5])\n",
    "H=st.pstdev([2,4,6])\n",
    "K=st.pvariance([2,4,6])\n",
    "L=st.stdev([1,5,9])\n",
    "J=st.variance([1,5,9])\n"
   ]
  },
  {
   "cell_type": "code",
   "execution_count": 2,
   "metadata": {},
   "outputs": [
    {
     "name": "stdout",
     "output_type": "stream",
     "text": [
      "The Mean of list is :: 3\n",
      "==============================\n",
      "The Median of list is :: 3.5\n",
      "==============================\n",
      "The Median_low of list is :: 4\n",
      "==============================\n",
      "The Median_high of list is :: 3\n",
      "==============================\n",
      "The Median_grouped of list is :: 4.0\n",
      "==============================\n",
      "The Mod of list is :: 4\n",
      "==============================\n",
      "The Pstdevision of list is :: 1.632993161855452\n",
      "==============================\n",
      "The Pvariance of list is :: 2.6666666666666665\n",
      "==============================\n",
      "The Stdivision of list is :: 4.0\n",
      "==============================\n",
      "The Variance of list is :: 16\n"
     ]
    }
   ],
   "source": [
    "print(f\"The Mean of list is :: {A}\")\n",
    "print(\"==============================\")\n",
    "print(f\"The Median of list is :: {B}\")\n",
    "print(\"==============================\")\n",
    "print(f\"The Median_low of list is :: {C}\")\n",
    "print(\"==============================\")\n",
    "print(f\"The Median_high of list is :: {E}\")\n",
    "print(\"==============================\")\n",
    "print(f\"The Median_grouped of list is :: {F}\")\n",
    "print(\"==============================\")\n",
    "print(f\"The Mod of list is :: {G}\")\n",
    "print(\"==============================\")\n",
    "print(f\"The Pstdevision of list is :: {H}\")\n",
    "print(\"==============================\")\n",
    "print(f\"The Pvariance of list is :: {K}\")\n",
    "print(\"==============================\")\n",
    "print(f\"The Stdivision of list is :: {L}\")\n",
    "print(\"==============================\")\n",
    "print(f\"The Variance of list is :: {J}\")"
   ]
  },
  {
   "cell_type": "code",
   "execution_count": null,
   "metadata": {},
   "outputs": [],
   "source": []
  }
 ],
 "metadata": {
  "kernelspec": {
   "display_name": "Python 3",
   "language": "python",
   "name": "python3"
  },
  "language_info": {
   "codemirror_mode": {
    "name": "ipython",
    "version": 3
   },
   "file_extension": ".py",
   "mimetype": "text/x-python",
   "name": "python",
   "nbconvert_exporter": "python",
   "pygments_lexer": "ipython3",
   "version": "3.8.8"
  }
 },
 "nbformat": 4,
 "nbformat_minor": 2
}
