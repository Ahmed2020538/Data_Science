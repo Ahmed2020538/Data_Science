{
 "cells": [
  {
   "cell_type": "markdown",
   "metadata": {},
   "source": [
    "* Decision_Tree ::\n",
    "        \n",
    "        - It is advanced ML Algo Which is Series of True , False Reules\n",
    "        - It Based On the Features of data to return all Possible decision Outcome\n",
    "        - It used For Regression and Classification Operation \n",
    "        - Most importance Features are n-estimator , max_depth , certion\n",
    "        - From sklern.Tree import DecisionTreeRgrassor , DecisionTreeClassifier\n",
    "        - Most Importance Propablities Score_Train_data , Score_Test_data , Prediction(y_pred)"
   ]
  },
  {
   "cell_type": "markdown",
   "metadata": {},
   "source": [
    "* Random_Forest ::\n",
    "        - It is advanced ML Algo Which Is cosists of Sub_Trees All one of them return possible outcome\n",
    "        - It Based on Features of data and Tend to High quality Prediction Model\n",
    "        - It used for Regression which return (average , Median , mode) and Classification \n",
    "        - Its Importance H_parameters n_estimator , certion and max_depth\n",
    "        - From Sklearn.ensamble import Random_Forest_Regrassor or Random_Forest_Classifier \n",
    "        - Most Important Properties Score_Train_data , Score_Test_data , Prediction(y_pred) , n_features_ , feature_importances_\n",
    "        "
   ]
  },
  {
   "cell_type": "markdown",
   "metadata": {},
   "source": [
    "* Nearest_Niearbours (KNN) ::\n",
    "        _  It is advanced ML Algo Which Used for Regration , classification\n",
    "        _  It Based on the number_neabours(K) \n",
    "        _  In Binary Classification Most Use Odd K_Value and In Muti_Classifier Use Odd or even K_values\n",
    "        _ From sklearn .neibour import K_NN \n",
    "        "
   ]
  },
  {
   "cell_type": "markdown",
   "metadata": {},
   "source": [
    "* Appriore_Algorithm ::\n",
    "        _ It is advanced new Technice which used for recommendation system and Clustring \n",
    "        _ Based on Three Concepts  1 _ S(Support) , 2 _ C(Confidence) , 3 _ L(Lift) \n",
    "        _ Example :: we have 1000 users on the frist recommindation accpted 200 only and other not important and recomminde other ecomindation to thae accp[ted user ] to that recommendation so that \n",
    "                _ S = Accpted_users(200) / all_users(1000) ,, C = accpted_second_recommendation / accpted_first Recommendation ,, L = C / S\n",
    "        _ If The Value of L is == 1 (mean No Correlation zero_correlation) \n",
    "        _ If The Value of L is > 1 (Mean Positive Correlation and incrase num let to increase Correlation)\n",
    "        _ If The Value of L is < 1 (Mean Negative Correlation )"
   ]
  },
  {
   "cell_type": "markdown",
   "metadata": {},
   "source": [
    "* Exploratory_data_Analysis (EDA) ::\n",
    "        - It is The One of The Most important Phase in th data scientist lifecycle which contains set of technices to analysis the behaviour of data to extract meaningful knowledge , insights and vision from that data which help us to more efficient decision o improve , enhance and optimize our Business\n",
    "        -That common TT we use in that phase \n",
    "          * Nummpy :: To deal and apply mathimatical operations\n",
    "          * Pandas :: To Wrangle and Mainpulate with datasets "
   ]
  },
  {
   "cell_type": "code",
   "execution_count": null,
   "metadata": {},
   "outputs": [],
   "source": []
  }
 ],
 "metadata": {
  "kernelspec": {
   "display_name": "Python 3",
   "language": "python",
   "name": "python3"
  },
  "language_info": {
   "codemirror_mode": {
    "name": "ipython",
    "version": 3
   },
   "file_extension": ".py",
   "mimetype": "text/x-python",
   "name": "python",
   "nbconvert_exporter": "python",
   "pygments_lexer": "ipython3",
   "version": "3.7.4"
  }
 },
 "nbformat": 4,
 "nbformat_minor": 2
}
