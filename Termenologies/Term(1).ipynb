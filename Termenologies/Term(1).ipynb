{
 "cells": [
  {
   "cell_type": "markdown",
   "metadata": {},
   "source": [
    "* Data_Science ::\n",
    "        \n",
    "        It is the field of study which contain combining of high_knowledge in domain experience , programming language\n",
    "        and Maththematical and Statistical Operations To identify the behavior of data to get ability to extract\n",
    "        meaningful Knowledge , insights and vision of data To get ability to make efficient decisions which\n",
    "        improve and enhance our Business \n",
    "        \n",
    "        data_science_practitionars are using ML_Algorithms to preduce AI_System which can to codact multi Tasks as\n",
    "        humman with high Performance , Efficiency and with high Accuracy\n",
    "        \n",
    "        Based on :: Strict Analytics evidance  , dealing with Structure and unstructure data and involve various data operations"
   ]
  },
  {
   "cell_type": "markdown",
   "metadata": {},
   "source": [
    "* Machine Learning ::\n",
    "        \n",
    "        It is field wigh use To make The machine simulate the intelligent behavior of humman to preduce\n",
    "        AI_System which have ability to condact muti tasks as hummman with high Performance , high Efficiency and high accuracy\n",
    "        \n",
    "        Based on :: spliting data into Training_data to learning Model and Testing data to Evalute Model\n",
    "        \n",
    "        The Model improve and enhance Based on experience which get from the Environment"
   ]
  },
  {
   "cell_type": "markdown",
   "metadata": {},
   "source": [
    "* Data_Integration :: \n",
    "        Itis the operation which Merge all data which comes from multi sources accure on data warehousing ,\n",
    "        and data Mining System"
   ]
  },
  {
   "cell_type": "markdown",
   "metadata": {},
   "source": [
    "* Data_Warehousing :: \n",
    "        \n",
    "        It is the Single Place or Source Which include all data and the data_integration operation accure on it\n",
    "        \n",
    "        Its_Features ::\n",
    "                1 _ Integration_data ::  Merge all data\n",
    "                2 _ Subject_Oriented :: Classifier data\n",
    "                3 _ Time_Variant :: Identifing old and new_data\n",
    "                4 _ Non_volatile :: data _ not Change and not delet\n",
    "                5 _ Summerize data :: describe data With simple Methods"
   ]
  },
  {
   "cell_type": "markdown",
   "metadata": {},
   "source": [
    "* Data_scientist_Skills ::\n",
    "        \n",
    "        1 _ Understanding The Business_domain and its objectives\n",
    "        2 _ Collecting the right data which correlated to the Problem we solve\n",
    "        3 _ Ablility to Cleansing data\n",
    "        4 _ Ability to Communicate with Steckholders with simple methodes\n",
    "        "
   ]
  },
  {
   "cell_type": "markdown",
   "metadata": {},
   "source": [
    "* Deep_Learning ::\n",
    "        \n",
    "        It is the field which make the machine simulate the behavior brain of humman to solving complex problems\n",
    "        \n",
    "        Based on :: OLNN , MLNN ,Gaussian_technice and Random_forest_technice and More"
   ]
  },
  {
   "cell_type": "markdown",
   "metadata": {},
   "source": [
    "* Data_Scientist_Work ::\n",
    "        \n",
    "        1 _ Solving The Complex Business Problems\n",
    "        2 _ Analysis The Business Operations like (Profiting , revenue , Production , Client_sentiments)\n",
    "        3 _ Identifing Business Risk and Mangement it\n",
    "        4 _ Predict New Business oppertunities\n",
    "        5 _ Comply Lowers and Regulatory The Instructions and Rules and Constraints "
   ]
  },
  {
   "cell_type": "markdown",
   "metadata": {},
   "source": [
    "* Data_Science_LifeCycle ::\n",
    "        \n",
    "        1 _ defination The Problem\n",
    "        2 _ gathering and Collecting data related to problem\n",
    "        3 _ Cleansing data\n",
    "        4 _ Prepration data\n",
    "        5 _ Building_Model\n",
    "        6 _ Trianing_Model\n",
    "        7 _ Evaluting_Model\n",
    "        8 _ Dyployment_Model\n",
    "        9 _ Monitoring_Model"
   ]
  },
  {
   "cell_type": "markdown",
   "metadata": {},
   "source": [
    "* Data Visualization ::\n",
    "        \n",
    "        IT is a graphical representaion of info and data By using Visual elements like Plots , Charts , graghes , Maps To Visualize data \n",
    "        \n",
    "        data Visualizaton Tools provide an accessible ways to see and understand Trends , Outliers , patterns in data\n",
    "        \n",
    "        The Tools we use to visualize data.. Matplotlib and seaborn Liberaries\n",
    "        "
   ]
  },
  {
   "cell_type": "markdown",
   "metadata": {},
   "source": [
    "* Data_gathering and Collecting ::\n",
    "        \n",
    "        Manualy ::\n",
    "                1 _ Survuys\n",
    "                2 _ Obsrvations\n",
    "                3 _ Conrtibution from Experts\n",
    "                \n",
    "        Automated ::\n",
    "                1 _ Using instruments and Sensors , radares and other collecting instruments\n",
    "                2 _ Writing python Script To Scrapping data from any site\n",
    "                3 _ Using API_Web_Services Which the Most Popular to gathering data Becouse its provide Multi Files of data in diff Fields\n",
    "                like Tweeters ad FaceBook APIs and Kaggle and other Websites\n",
    "                "
   ]
  },
  {
   "cell_type": "markdown",
   "metadata": {},
   "source": [
    "* Cleansing_data_Reasons ::\n",
    "        \n",
    "        1 _ Missing data :: filling using multiple operation like ( mean , median , mod)\n",
    "        2 _ descrebences on data :: The data not match with the current data\n",
    "        3 _ Ambigouse data :: data Which have douplemeaning\n",
    "        4 _ Outliers data :: Solving use IQR = Q3 - Q1\n",
    "        5 _ Anomials data :: found data derivate from the range of the data distribution\n",
    "         "
   ]
  },
  {
   "cell_type": "code",
   "execution_count": null,
   "metadata": {},
   "outputs": [],
   "source": []
  }
 ],
 "metadata": {
  "kernelspec": {
   "display_name": "Python 3",
   "language": "python",
   "name": "python3"
  },
  "language_info": {
   "codemirror_mode": {
    "name": "ipython",
    "version": 3
   },
   "file_extension": ".py",
   "mimetype": "text/x-python",
   "name": "python",
   "nbconvert_exporter": "python",
   "pygments_lexer": "ipython3",
   "version": "3.7.4"
  }
 },
 "nbformat": 4,
 "nbformat_minor": 2
}
