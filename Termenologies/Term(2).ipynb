{
 "cells": [
  {
   "cell_type": "markdown",
   "metadata": {},
   "source": [
    "* Types of data ::\n",
    "        1 _ Numerical_data :: it is type of data which represent quantitative value That have mathematical meaninig like heights , weights\n",
    "        \n",
    "        2 _ Categorical_data :: it is type of data which represent qualitative value that not have mathimatical meaninig like statues and Adges\n",
    "                "
   ]
  },
  {
   "cell_type": "markdown",
   "metadata": {},
   "source": [
    "* Numerical_data_types ::\n",
    "        \n",
    "        1 _ discrest_numerical_data :: it is integer values present count of events like Num of floors and peoples\n",
    "        \n",
    "        2 _ continous_numerical_data :: it is fraction and infinite numbers of possible values like prices , salary\n",
    "    "
   ]
  },
  {
   "cell_type": "markdown",
   "metadata": {},
   "source": [
    "* Categorical_data_types ::\n",
    "         1 _ Norminal or Unorder_data :: it is qualitative data which not have implict and natural value and rank like anainals (cats , dogs , berdies)\n",
    "                    \n",
    "        2 _ Ordinal or Order_data :: it is qalitative data which have implict and natural values and rank like (S , M , L , Xl , XXL)"
   ]
  },
  {
   "cell_type": "markdown",
   "metadata": {},
   "source": [
    "* Types of ML_Models :: \n",
    "        \n",
    "        1 _ Supervised_ML_Models :: it is data labelled and Based on Input_data and Outbut_data like  * Linear_Regression , *Logistic_Regression\n",
    "                \n",
    "        2 _ UnSupervised_ML_Models :: its data unlabelled and Based on input_data only like  * Clustruning"
   ]
  },
  {
   "cell_type": "markdown",
   "metadata": {},
   "source": [
    "* Linear_Regression :: \n",
    "      It is Supervised ML_models used to Predict to Numerical_real Values like *House_Prices , *Weather Tempretures\n",
    "* Logistic_Regression :: \n",
    "       It is Supervised ML_model used To Classifier Categorical_data\n",
    "        \n",
    "* Clustring :: \n",
    "       It is Unsupervised ML_models Used TO identifing smilarities and grouped them in Categories"
   ]
  },
  {
   "cell_type": "markdown",
   "metadata": {},
   "source": [
    "* Pandas :: \n",
    "        - it is liberary in python language used for mainpulating and wrangling data \n",
    "        \n",
    "        * Features ::\n",
    "                1 _ Time Series Functionality\n",
    "                2 _ Fast and efficient dataframe with custimizing index\n",
    "                3 _ Tools for loading data in diff formats\n",
    "                4 _Reshaping and Pivoting od datasets\n",
    "                5 _grouped by for Aggregation and Transformation\n",
    "                6 _Hahlling Missing data\n",
    "                7 _ Labels_Based Slicing , indexing and subsets of datasets\n",
    "                8 _ Columns can be inserted and deleted\n",
    "                9 _high performance in Merging and join operation"
   ]
  },
  {
   "cell_type": "code",
   "execution_count": null,
   "metadata": {},
   "outputs": [],
   "source": []
  }
 ],
 "metadata": {
  "kernelspec": {
   "display_name": "Python 3",
   "language": "python",
   "name": "python3"
  },
  "language_info": {
   "codemirror_mode": {
    "name": "ipython",
    "version": 3
   },
   "file_extension": ".py",
   "mimetype": "text/x-python",
   "name": "python",
   "nbconvert_exporter": "python",
   "pygments_lexer": "ipython3",
   "version": "3.7.4"
  }
 },
 "nbformat": 4,
 "nbformat_minor": 2
}
