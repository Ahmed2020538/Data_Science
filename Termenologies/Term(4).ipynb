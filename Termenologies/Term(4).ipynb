{
 "cells": [
  {
   "cell_type": "markdown",
   "metadata": {},
   "source": [
    "* What is The Top Roles of Data_Science ::\n",
    "    * Data_Engineer  | Data_Mining\n",
    "    * Database_Adminstrator\n",
    "    * Data_Analyst\n",
    "    * BI_Analyst\n",
    "    * ReSearcherst\n",
    "    * Data_Scientist\n",
    "    * ML_Engineer\n",
    "    * ETL_Engineer"
   ]
  },
  {
   "cell_type": "markdown",
   "metadata": {},
   "source": [
    "* What Is The Most Requry Tecnical_Skills For Data_Science::\n",
    "    * Python | R Program_Languages\n",
    "    * Mathimatics ( Linear_Algibra | Calculas)\n",
    "    * Statistics and Probabily\n",
    "    * SQL Language\n",
    "    * Analytic Apps ( Ecxel | Tablue | Power_BI)\n",
    "    * Cloud_Platforms ( AWS_Provider | Azure_Provider | google_Cloud_Provider)"
   ]
  },
  {
   "cell_type": "markdown",
   "metadata": {},
   "source": [
    "* What Is The Requry FramWorks For Data_Science ::\n",
    "    * Numpy\n",
    "    * Pandas\n",
    "    * Seaborn\n",
    "    * Matplotlib\n",
    "    * Sklearn\n",
    "    * Pytorch\n",
    "    * TansorFlow\n",
    "    * Datasist\n",
    "    * User_gents\n",
    "    * Zipcodes\n",
    "    * Geopy\n",
    "    * Imlearn\n",
    "    * ip2geotools\n",
    "    \n",
    "    "
   ]
  },
  {
   "cell_type": "markdown",
   "metadata": {},
   "source": [
    "* What is The Most Efficient Algo For Data_Science ::\n",
    "    * Linear_Regression\n",
    "    * Logistic_Regression\n",
    "    * Decision_Tree( Regrassor | Classfier)\n",
    "    * Random_Forest( Regrassor | Classifier)\n",
    "    * K_means_Cluster\n",
    "    * Gradiant_BoostingMachines\n",
    "    * Nuaral_Network"
   ]
  },
  {
   "cell_type": "markdown",
   "metadata": {},
   "source": [
    "* The diffirence among Scripting language and Program_language ::\n",
    "    * Scriptiig_lang ::\n",
    "        * It's Automated execution of tasks which written for aspecial environments.\n",
    "        * It's more Easy To learn.\n",
    "        * It's speed Slow.\n",
    "        * Can be dividied into Client_script_language Or several_Script_language.\n",
    "        * Mostly Used For Web development.\n",
    "        * EX :: Python , R , javascript , etc.\n",
    "    * Program_lang ::\n",
    "        * It's comprises aset of instructions and Rules to preduce Verios kind of outputs.\n",
    "        * It's compiler More speed but Excution Slow.\n",
    "        * Can be divide into high_level_lang or Low_level_lang.\n",
    "        * Mostly used to develop varios Apps Mobils , Webs and Desctops.\n",
    "        * Ex :: C , C++ , etc"
   ]
  },
  {
   "cell_type": "markdown",
   "metadata": {},
   "source": [
    "* Decoder ::\n",
    "  * It's Tool designed which make Easier to Create , deploy and run apps by using continoures.\n",
    "  * Continers allow developers to package up an applications with all parts its need.\n",
    "  * such as Liberaries , dependences and deploy them as one package"
   ]
  },
  {
   "cell_type": "code",
   "execution_count": 9,
   "metadata": {},
   "outputs": [
    {
     "name": "stdout",
     "output_type": "stream",
     "text": [
      "The pass :: K u D b t @ P x m c\n",
      "---------\n",
      "The pass :: & R e c z q x I @ b\n",
      "---------\n",
      "The pass :: M b & x d ; I O X h\n",
      "---------\n",
      "The pass :: X P t I e x G D p E\n",
      "---------\n",
      "The pass :: X G W E K H n T & c\n",
      "---------\n"
     ]
    }
   ],
   "source": [
    "# To generate Random Password in python ::\n",
    "import random as r\n",
    "lower_case = \"abcdefghjkmnopqrtuivxz\"\n",
    "upper_case = \"ABXDEFGHJKMNOPQRSTWXZI\"\n",
    "symbols = \"*#$@&:;\"\n",
    "all_data = lower_case + upper_case + symbols\n",
    "length = 10\n",
    "for i in range(5) :\n",
    "    passwor = \" \".join(r.sample(all_data , length))\n",
    "    print(f\"The pass :: {passwor}\\n---------\")\n"
   ]
  },
  {
   "cell_type": "code",
   "execution_count": null,
   "metadata": {},
   "outputs": [],
   "source": []
  },
  {
   "cell_type": "code",
   "execution_count": null,
   "metadata": {},
   "outputs": [],
   "source": []
  }
 ],
 "metadata": {
  "kernelspec": {
   "display_name": "Python 3",
   "language": "python",
   "name": "python3"
  },
  "language_info": {
   "codemirror_mode": {
    "name": "ipython",
    "version": 3
   },
   "file_extension": ".py",
   "mimetype": "text/x-python",
   "name": "python",
   "nbconvert_exporter": "python",
   "pygments_lexer": "ipython3",
   "version": "3.7.4"
  }
 },
 "nbformat": 4,
 "nbformat_minor": 2
}
